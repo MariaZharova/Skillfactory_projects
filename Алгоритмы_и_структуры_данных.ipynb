{
  "cells": [
    {
      "cell_type": "markdown",
      "metadata": {
        "id": "view-in-github",
        "colab_type": "text"
      },
      "source": [
        "<a href=\"https://colab.research.google.com/github/MariaZharova/Skillfactory_projects/blob/main/%D0%90%D0%BB%D0%B3%D0%BE%D1%80%D0%B8%D1%82%D0%BC%D1%8B_%D0%B8_%D1%81%D1%82%D1%80%D1%83%D0%BA%D1%82%D1%83%D1%80%D1%8B_%D0%B4%D0%B0%D0%BD%D0%BD%D1%8B%D1%85.ipynb\" target=\"_parent\"><img src=\"https://colab.research.google.com/assets/colab-badge.svg\" alt=\"Open In Colab\"/></a>"
      ]
    },
    {
      "cell_type": "markdown",
      "id": "e77d38d2",
      "metadata": {
        "id": "e77d38d2"
      },
      "source": [
        "### Основные структуры данных\n",
        "\n",
        "- Массив\n",
        "- hash-таблица\n",
        "- Список\n",
        "- Стек\n",
        "- Очередь\n",
        "- Граф\n",
        "- Дерево\n",
        "\n",
        "Полезная ссылка на модуль collections https://docs.python.org/3/library/collections.html\n",
        "\n",
        "### Основные операции\n",
        "\n",
        "- Доступ к элементу по индексу\n",
        "- Вставка элемента\n",
        "- Удаление элемента\n",
        "- Получение длины структуры"
      ]
    },
    {
      "cell_type": "code",
      "execution_count": 25,
      "id": "fb6575de",
      "metadata": {
        "id": "fb6575de"
      },
      "outputs": [],
      "source": [
        "# массив\n",
        "arr = [i for i in range(10)]\n",
        "#arr.append((10, 11))\n",
        "arr.extend((200, 300))\n",
        "# методы ничего не возвращают, но меняют исходный список"
      ]
    },
    {
      "cell_type": "code",
      "source": [
        "# извлечение элемента из списка = удаление + возвращение результата (в переменную)\n",
        "arr.pop(5)"
      ],
      "metadata": {
        "colab": {
          "base_uri": "https://localhost:8080/"
        },
        "id": "hbfCv80I51Fq",
        "outputId": "24ffbb6c-c497-4fb6-f083-ee60ffb2985a"
      },
      "id": "hbfCv80I51Fq",
      "execution_count": 28,
      "outputs": [
        {
          "output_type": "execute_result",
          "data": {
            "text/plain": [
              "5"
            ]
          },
          "metadata": {},
          "execution_count": 28
        }
      ]
    },
    {
      "cell_type": "code",
      "source": [
        "arr"
      ],
      "metadata": {
        "colab": {
          "base_uri": "https://localhost:8080/"
        },
        "id": "D9RAxrou51IP",
        "outputId": "f8f9da11-2651-4bce-8ba2-52f57d16928a"
      },
      "id": "D9RAxrou51IP",
      "execution_count": 29,
      "outputs": [
        {
          "output_type": "execute_result",
          "data": {
            "text/plain": [
              "[0, 1, 2, 3, 4, 6, 7, 8, 9, (10, 11), 200]"
            ]
          },
          "metadata": {},
          "execution_count": 29
        }
      ]
    },
    {
      "cell_type": "code",
      "execution_count": 41,
      "id": "7d0c5015",
      "metadata": {
        "colab": {
          "base_uri": "https://localhost:8080/"
        },
        "id": "7d0c5015",
        "outputId": "e341a111-66a0-4c00-fc4e-fe675fd122c3"
      },
      "outputs": [
        {
          "output_type": "execute_result",
          "data": {
            "text/plain": [
              "{'keys': ['a', 'b', 'd'], 'values': [1, 2, 3]}"
            ]
          },
          "metadata": {},
          "execution_count": 41
        }
      ],
      "source": [
        "# hash-таблица\n",
        "# ключи словаря должны быть неизменяемого типа - int, float, string, tuple\n",
        "hash_table = {('a', 'b'): 1, 'b': 2}\n",
        "hash_table1 = dict((('b', 3), ('a', 1)))\n",
        "hash_table2 = dict(keys=['a', 'b', 'd'], values=[arr, arr, arr])\n",
        "# ещё один способ создания словаря\n",
        "\n",
        "hash_table2"
      ]
    },
    {
      "cell_type": "code",
      "source": [
        "hash_table.get('c')"
      ],
      "metadata": {
        "colab": {
          "base_uri": "https://localhost:8080/"
        },
        "id": "dwaNpdKB786r",
        "outputId": "58b9c297-9772-4f51-98ed-e8b71f7ed49a"
      },
      "id": "dwaNpdKB786r",
      "execution_count": 35,
      "outputs": [
        {
          "output_type": "execute_result",
          "data": {
            "text/plain": [
              "3"
            ]
          },
          "metadata": {},
          "execution_count": 35
        }
      ]
    },
    {
      "cell_type": "code",
      "source": [
        "hash_table"
      ],
      "metadata": {
        "colab": {
          "base_uri": "https://localhost:8080/"
        },
        "id": "WJuqxH6w789A",
        "outputId": "61e2ddf1-c595-416e-dc80-5d35e30bee92"
      },
      "id": "WJuqxH6w789A",
      "execution_count": 36,
      "outputs": [
        {
          "output_type": "execute_result",
          "data": {
            "text/plain": [
              "{'a': 1, 'b': 2, 'c': 3}"
            ]
          },
          "metadata": {},
          "execution_count": 36
        }
      ]
    },
    {
      "cell_type": "code",
      "execution_count": 52,
      "id": "79362f2e",
      "metadata": {
        "id": "79362f2e"
      },
      "outputs": [],
      "source": [
        "# список\n",
        "a1 = ['abcd', 'gjhgf']\n",
        "a2 = list('abcd', 'gjhgf')\n",
        "#a3 = {'anbs'}\n",
        "#a4 = set('anbsv')"
      ]
    },
    {
      "cell_type": "code",
      "source": [
        "sorted(a1)"
      ],
      "metadata": {
        "colab": {
          "base_uri": "https://localhost:8080/"
        },
        "id": "M6CcYb2t_PXT",
        "outputId": "53aaf5bb-4579-421e-aa78-a60f62e0b72c"
      },
      "id": "M6CcYb2t_PXT",
      "execution_count": 55,
      "outputs": [
        {
          "output_type": "execute_result",
          "data": {
            "text/plain": [
              "['abcd', 'gjhgf']"
            ]
          },
          "metadata": {},
          "execution_count": 55
        }
      ]
    },
    {
      "cell_type": "code",
      "source": [
        "a1"
      ],
      "metadata": {
        "colab": {
          "base_uri": "https://localhost:8080/"
        },
        "id": "V0ebhLK4_RyO",
        "outputId": "e751a524-772d-429d-9611-890a6131bea5"
      },
      "id": "V0ebhLK4_RyO",
      "execution_count": 54,
      "outputs": [
        {
          "output_type": "execute_result",
          "data": {
            "text/plain": [
              "['abcd', 'gjhgf']"
            ]
          },
          "metadata": {},
          "execution_count": 54
        }
      ]
    },
    {
      "cell_type": "code",
      "execution_count": 60,
      "id": "0e35ed37",
      "metadata": {
        "colab": {
          "base_uri": "https://localhost:8080/"
        },
        "id": "0e35ed37",
        "outputId": "5133940a-19da-49b0-bb00-8beabb554c33"
      },
      "outputs": [
        {
          "output_type": "stream",
          "name": "stdout",
          "text": [
            "deque(['a'])\n",
            "deque(['a', 'b'])\n",
            "deque(['a', 'b', 'c'])\n",
            "deque(['a', 'b'])\n",
            "deque(['a'])\n",
            "deque([])\n"
          ]
        }
      ],
      "source": [
        "# стек через список\n",
        "myStack = []\n",
        "myStack.append('a')\n",
        "myStack.append('b')\n",
        "myStack.append('c')\n",
        "myStack\n",
        "myStack.pop()\n",
        "myStack.pop()\n",
        "myStack.pop()\n",
        "\n",
        "# стек через встроенную структуру\n",
        "from collections import deque\n",
        "myStack = deque()\n",
        "myStack.append('a')\n",
        "print(myStack)\n",
        "\n",
        "myStack.append('b')\n",
        "print(myStack)\n",
        "myStack.append('c')\n",
        "print(myStack)\n",
        "myStack.pop()\n",
        "print(myStack)\n",
        "myStack.pop()\n",
        "print(myStack)\n",
        "myStack.pop()\n",
        "print(myStack)"
      ]
    },
    {
      "cell_type": "code",
      "source": [
        "myStack"
      ],
      "metadata": {
        "colab": {
          "base_uri": "https://localhost:8080/"
        },
        "id": "OIo7FItGCcph",
        "outputId": "89e768b3-98bf-4cde-9eef-5038b1b4f2ea"
      },
      "id": "OIo7FItGCcph",
      "execution_count": 58,
      "outputs": [
        {
          "output_type": "execute_result",
          "data": {
            "text/plain": [
              "deque([])"
            ]
          },
          "metadata": {},
          "execution_count": 58
        }
      ]
    },
    {
      "cell_type": "code",
      "execution_count": 62,
      "id": "e7cf7124",
      "metadata": {
        "colab": {
          "base_uri": "https://localhost:8080/"
        },
        "id": "e7cf7124",
        "outputId": "e2099f82-851e-4a0a-bc95-a15fd249bf85"
      },
      "outputs": [
        {
          "output_type": "stream",
          "name": "stdout",
          "text": [
            "['a', 'b', 'c']\n",
            "['b', 'c']\n",
            "['c']\n",
            "[]\n"
          ]
        }
      ],
      "source": [
        "# очередь\n",
        "myStack = []\n",
        "myStack.extend(('a', 'b', 'c'))\n",
        "print(myStack)\n",
        "myStack.pop(0)\n",
        "print(myStack)\n",
        "myStack.pop(0)\n",
        "print(myStack)\n",
        "myStack.pop(0)\n",
        "print(myStack)"
      ]
    },
    {
      "cell_type": "code",
      "execution_count": null,
      "id": "14bc472a",
      "metadata": {
        "id": "14bc472a"
      },
      "outputs": [],
      "source": [
        "# граф\n"
      ]
    },
    {
      "cell_type": "code",
      "execution_count": 66,
      "id": "a86170fd",
      "metadata": {
        "colab": {
          "base_uri": "https://localhost:8080/"
        },
        "id": "a86170fd",
        "outputId": "4d777fe4-aecc-494e-ab08-5034cd896b85"
      },
      "outputs": [
        {
          "output_type": "stream",
          "name": "stdout",
          "text": [
            "Node [10]\n"
          ]
        }
      ],
      "source": [
        "# дерево\n",
        "class node:\n",
        "    def __init__(self, data = None, left = None, right = None):\n",
        "        self.data   = data\n",
        "        self.left   = left\n",
        "        self.right  = right\n",
        "\n",
        "    def __str__(self):\n",
        "        return 'Node ['+str(self.data)+']'\n",
        "\n",
        "# класс, описывающий само дерево\n",
        "class Tree:\n",
        "    def __init__(self):\n",
        "        self.root = None #корень дерева\n",
        "\n",
        "# функция для добавления узла в дерево\n",
        "    def newNode(self, data):\n",
        "        return node(data,10,11)\n",
        "    \n",
        "k = Tree()\n",
        "a = k.newNode(10)\n",
        "k.newNode(11)\n",
        "k.newNode(12)\n",
        "print(a)"
      ]
    },
    {
      "cell_type": "markdown",
      "id": "d146a9e4",
      "metadata": {
        "id": "d146a9e4"
      },
      "source": [
        "### Алгоритмы\n",
        "Создаются для решения определённой задачи.\n",
        "\n",
        "Мы рассмотрим алгоритмы поиска и сортировки."
      ]
    },
    {
      "cell_type": "code",
      "execution_count": 68,
      "id": "195c366a",
      "metadata": {
        "colab": {
          "base_uri": "https://localhost:8080/"
        },
        "id": "195c366a",
        "outputId": "339b13da-c957-43ba-ec0b-769c45a1e4fa"
      },
      "outputs": [
        {
          "output_type": "stream",
          "name": "stdout",
          "text": [
            "[9, 16, 20, 22, 29, 32, 37, 40, 43, 48]\n",
            "9\n",
            "ID = 0\n"
          ]
        }
      ],
      "source": [
        "# бинарный поиск\n",
        "from random import randint\n",
        "\n",
        "a = []\n",
        "for i in range(10):\n",
        "    a.append(randint(1, 50))\n",
        "a.sort()\n",
        "print(a)\n",
        " \n",
        "# искомое число\n",
        "value = int(input())\n",
        " \n",
        "mid = len(a) // 2\n",
        "low = 0\n",
        "high = len(a) - 1\n",
        " \n",
        "while a[mid] != value and low <= high: # пока не найдём или пока не закончится массив\n",
        "    if value > a[mid]:\n",
        "        low = mid + 1\n",
        "    else:\n",
        "        high = mid - 1\n",
        "    mid = (low + high) // 2\n",
        "\n",
        "if low > high:\n",
        "    print(\"No value\")\n",
        "else:\n",
        "    print(\"ID =\", mid)"
      ]
    },
    {
      "cell_type": "markdown",
      "id": "fe9aea65",
      "metadata": {
        "id": "fe9aea65"
      },
      "source": [
        "##### сортировка:\n",
        "\n",
        "быстрая https://ru.wikipedia.org/wiki/%D0%91%D1%8B%D1%81%D1%82%D1%80%D0%B0%D1%8F_%D1%81%D0%BE%D1%80%D1%82%D0%B8%D1%80%D0%BE%D0%B2%D0%BA%D0%B0\n",
        "\n",
        "гифки https://proglib.io/p/sort-gif"
      ]
    },
    {
      "cell_type": "markdown",
      "id": "7f209150",
      "metadata": {
        "id": "7f209150"
      },
      "source": [
        "##### хорошие ссылки по некоторым структурам данных\n",
        "\n",
        "стек https://webdevblog.ru/kak-realizovat-stek-v-python/\n",
        "\n",
        "очередь https://docs-python.ru/standart-library/modul-queue-python/\n",
        "\n",
        "деревья http://py-algorithm.blogspot.com/2011/07/blog-post_30.html"
      ]
    },
    {
      "cell_type": "markdown",
      "source": [
        "collections: https://docs.python.org/3/library/collections.html"
      ],
      "metadata": {
        "id": "36g-g2nFB56e"
      },
      "id": "36g-g2nFB56e"
    },
    {
      "cell_type": "code",
      "execution_count": null,
      "id": "c392e490",
      "metadata": {
        "id": "c392e490"
      },
      "outputs": [],
      "source": []
    }
  ],
  "metadata": {
    "kernelspec": {
      "display_name": "Python 3 (ipykernel)",
      "language": "python",
      "name": "python3"
    },
    "language_info": {
      "codemirror_mode": {
        "name": "ipython",
        "version": 3
      },
      "file_extension": ".py",
      "mimetype": "text/x-python",
      "name": "python",
      "nbconvert_exporter": "python",
      "pygments_lexer": "ipython3",
      "version": "3.9.7"
    },
    "colab": {
      "provenance": [],
      "include_colab_link": true
    }
  },
  "nbformat": 4,
  "nbformat_minor": 5
}