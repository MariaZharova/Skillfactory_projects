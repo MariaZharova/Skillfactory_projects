{
 "cells": [
  {
   "cell_type": "markdown",
   "metadata": {},
   "source": [
    "# ООП (Объектно-ориентированное программирование)\n",
    "\n",
    "Объекты объединяют в себе **свойства** (данные) и **методы** (функции) их обработки. Разные объекты могут иметь разные состояния, но как правило, имеют одни и те же методы. Класс можно представлять себе как общий шаблон для создания объектов. В python класс также является объектом."
   ]
  },
  {
   "cell_type": "markdown",
   "metadata": {},
   "source": [
    "## Инкапсуляция\n",
    "\n",
    "Инкапсуляция - в информатике упаковка **данных** и **функций** в единый компонент. \n",
    "[wiki](https://en.wikipedia.org/wiki/Encapsulation_(computer_programming))\n",
    "\n",
    "Объектно-ориентированное программирование (ООП) –\n",
    "методология программирования, основанная на представлении\n",
    "программы в виде совокупности объектов, каждый из которых является\n",
    "экземпляром определенного класса, а классы образуют иерархию\n",
    "наследования.\n",
    "\n",
    "**Примеры:**\n",
    "1. Конкретная автомашина, например, ваша - является объектом\n",
    "реального мира, все автомашины представляют собой один класс.\n",
    "2. Точка на плоскости – это класс, конкретная точка, например, М(1, - 2)\n",
    "– представитель класса (объект).\n",
    "3. Страница веб-сайта – класс, главная страница вашего сайта – объект.\n",
    "4. В реальном мире классы структурированы иерархически, например,\n",
    "автомашина может быть потомком более широкого класса –\n",
    "механизм."
   ]
  },
  {
   "cell_type": "markdown",
   "metadata": {},
   "source": [
    "## Синтаксис объявления класса"
   ]
  },
  {
   "cell_type": "code",
   "execution_count": 2,
   "metadata": {},
   "outputs": [],
   "source": [
    "class MyTestCl: # Объявление класса неявным наследованием от базового класса object [class MyTestCl(object):]\n",
    "    \"\"\"Документ строка класса\"\"\"\n",
    "    \n",
    "    prop = 333 # Свойство объекта\n",
    "    \n",
    "    def __init__(self, x): # Специальный метод инициализации объекта\n",
    "        self.my_prop = x # Свойство объекта\n",
    "        \n",
    "    def my_method(self): # Метод объекта, \n",
    "        # self – общепринятое имя для ссылки на объект, в контексте которого вызывается метод. \n",
    "        print('ohh', self.my_prop)\n"
   ]
  },
  {
   "cell_type": "code",
   "execution_count": 3,
   "metadata": {},
   "outputs": [
    {
     "name": "stdout",
     "output_type": "stream",
     "text": [
      "ohh 123123\n"
     ]
    }
   ],
   "source": [
    "obj = MyTestCl(123123)\n",
    "obj.my_method()"
   ]
  },
  {
   "cell_type": "code",
   "execution_count": 4,
   "metadata": {},
   "outputs": [
    {
     "name": "stdout",
     "output_type": "stream",
     "text": [
      "['__class__', '__delattr__', '__dict__', '__dir__', '__doc__', '__eq__', '__format__', '__ge__', '__getattribute__', '__gt__', '__hash__', '__init__', '__init_subclass__', '__le__', '__lt__', '__module__', '__ne__', '__new__', '__reduce__', '__reduce_ex__', '__repr__', '__setattr__', '__sizeof__', '__str__', '__subclasshook__', '__weakref__', 'my_method', 'my_prop', 'prop']\n"
     ]
    }
   ],
   "source": [
    "print(dir(obj))"
   ]
  },
  {
   "cell_type": "code",
   "execution_count": 5,
   "metadata": {},
   "outputs": [
    {
     "data": {
      "text/plain": [
       "(__main__.MyTestCl, type)"
      ]
     },
     "execution_count": 5,
     "metadata": {},
     "output_type": "execute_result"
    }
   ],
   "source": [
    "type(obj), type(MyTestCl),"
   ]
  },
  {
   "cell_type": "markdown",
   "metadata": {},
   "source": [
    "**Пример 1**. Реализуем класс пользователей, каждый из которых имеет имя и рейтинг."
   ]
  },
  {
   "cell_type": "code",
   "execution_count": 6,
   "metadata": {},
   "outputs": [],
   "source": [
    "class User:\n",
    "    name = ''\n",
    "    __rating = 0"
   ]
  },
  {
   "cell_type": "code",
   "execution_count": 7,
   "metadata": {},
   "outputs": [
    {
     "ename": "AttributeError",
     "evalue": "'User' object has no attribute 'rating'",
     "output_type": "error",
     "traceback": [
      "\u001b[0;31m---------------------------------------------------------------------------\u001b[0m",
      "\u001b[0;31mAttributeError\u001b[0m                            Traceback (most recent call last)",
      "\u001b[0;32m/var/folders/8w/sx6j7f5d7td7tzr3k347hzkc0000gn/T/ipykernel_47482/158923015.py\u001b[0m in \u001b[0;36m<module>\u001b[0;34m\u001b[0m\n\u001b[1;32m      1\u001b[0m \u001b[0muser\u001b[0m \u001b[0;34m=\u001b[0m \u001b[0mUser\u001b[0m\u001b[0;34m(\u001b[0m\u001b[0;34m)\u001b[0m\u001b[0;34m\u001b[0m\u001b[0;34m\u001b[0m\u001b[0m\n\u001b[1;32m      2\u001b[0m \u001b[0;34m\u001b[0m\u001b[0m\n\u001b[0;32m----> 3\u001b[0;31m \u001b[0mprint\u001b[0m\u001b[0;34m(\u001b[0m\u001b[0muser\u001b[0m\u001b[0;34m.\u001b[0m\u001b[0mname\u001b[0m\u001b[0;34m,\u001b[0m \u001b[0muser\u001b[0m\u001b[0;34m.\u001b[0m\u001b[0mrating\u001b[0m\u001b[0;34m)\u001b[0m\u001b[0;34m\u001b[0m\u001b[0;34m\u001b[0m\u001b[0m\n\u001b[0m\u001b[1;32m      4\u001b[0m \u001b[0muser\u001b[0m\u001b[0;34m.\u001b[0m\u001b[0mname\u001b[0m \u001b[0;34m=\u001b[0m \u001b[0;34m'Вася'\u001b[0m\u001b[0;34m\u001b[0m\u001b[0;34m\u001b[0m\u001b[0m\n\u001b[1;32m      5\u001b[0m \u001b[0muser\u001b[0m\u001b[0;34m.\u001b[0m\u001b[0m__rating\u001b[0m \u001b[0;34m=\u001b[0m \u001b[0;36m55\u001b[0m\u001b[0;34m\u001b[0m\u001b[0;34m\u001b[0m\u001b[0m\n",
      "\u001b[0;31mAttributeError\u001b[0m: 'User' object has no attribute 'rating'"
     ]
    }
   ],
   "source": [
    "user = User()\n",
    "\n",
    "print(user.name, user.rating)\n",
    "user.name = 'Вася'\n",
    "user.__rating = 55\n",
    "print(user.name, user.rating)"
   ]
  },
  {
   "cell_type": "code",
   "execution_count": 8,
   "metadata": {},
   "outputs": [],
   "source": [
    "#dir(user)"
   ]
  },
  {
   "cell_type": "markdown",
   "metadata": {},
   "source": [
    "### Свойства\n",
    "Обратите внимание, что свойства объекта создаются простым присваиванием.\n",
    "\n",
    "Использование объекта:"
   ]
  },
  {
   "cell_type": "code",
   "execution_count": 9,
   "metadata": {},
   "outputs": [],
   "source": [
    "somebody = User() # создание экземпляра класса User\n",
    "somebody.name = 'Вася'\n",
    "# somebody.rating = 10\n",
    "somebody.age = 35"
   ]
  },
  {
   "cell_type": "code",
   "execution_count": 10,
   "metadata": {},
   "outputs": [
    {
     "name": "stdout",
     "output_type": "stream",
     "text": [
      "['_User__rating', '__class__', '__delattr__', '__dict__', '__dir__', '__doc__', '__eq__', '__format__', '__ge__', '__getattribute__', '__gt__', '__hash__', '__init__', '__init_subclass__', '__le__', '__lt__', '__module__', '__ne__', '__new__', '__reduce__', '__reduce_ex__', '__repr__', '__setattr__', '__sizeof__', '__str__', '__subclasshook__', '__weakref__', 'age', 'name']\n"
     ]
    }
   ],
   "source": [
    "print(dir(somebody))"
   ]
  },
  {
   "cell_type": "code",
   "execution_count": 11,
   "metadata": {},
   "outputs": [
    {
     "ename": "AttributeError",
     "evalue": "'User' object has no attribute 'rating'",
     "output_type": "error",
     "traceback": [
      "\u001b[0;31m---------------------------------------------------------------------------\u001b[0m",
      "\u001b[0;31mAttributeError\u001b[0m                            Traceback (most recent call last)",
      "\u001b[0;32m/var/folders/8w/sx6j7f5d7td7tzr3k347hzkc0000gn/T/ipykernel_47482/531044819.py\u001b[0m in \u001b[0;36m<module>\u001b[0;34m\u001b[0m\n\u001b[0;32m----> 1\u001b[0;31m \u001b[0;34mf'Пользователь {somebody.name} c рейтингом {somebody.rating}.'\u001b[0m\u001b[0;34m\u001b[0m\u001b[0;34m\u001b[0m\u001b[0m\n\u001b[0m",
      "\u001b[0;31mAttributeError\u001b[0m: 'User' object has no attribute 'rating'"
     ]
    }
   ],
   "source": [
    "f'Пользователь {somebody.name} c рейтингом {somebody.rating}.'"
   ]
  },
  {
   "cell_type": "markdown",
   "metadata": {},
   "source": [
    "### Методы\n",
    "Добавим метод вывода информации о прользователе:"
   ]
  },
  {
   "cell_type": "code",
   "execution_count": 12,
   "metadata": {},
   "outputs": [],
   "source": [
    "class User:\n",
    "    name = ''\n",
    "    __rating = 0\n",
    "\n",
    "    def info(self):\n",
    "        print(f'Пользователь {self.name} c рейтингом {self.rating}.')"
   ]
  },
  {
   "cell_type": "code",
   "execution_count": 13,
   "metadata": {},
   "outputs": [
    {
     "name": "stdout",
     "output_type": "stream",
     "text": [
      "Пользователь Вася c рейтингом 20.\n"
     ]
    }
   ],
   "source": [
    "somebody = User()\n",
    "somebody.name = 'Вася'\n",
    "somebody.rating = 20\n",
    "somebody.info()"
   ]
  },
  {
   "cell_type": "markdown",
   "metadata": {},
   "source": [
    "Часто, если изменение и получение свойств требуют дополнительных манипуляций, для изменения и получения таких свойств используют методы. Название методов получения начинают с префикса `get_`, изменения - `set_`."
   ]
  },
  {
   "cell_type": "code",
   "execution_count": 14,
   "metadata": {},
   "outputs": [],
   "source": [
    "class User:\n",
    "    def set_name(self, name):\n",
    "        if len(name) > 1:\n",
    "            self.name = name\n",
    "        else:\n",
    "            raise Exception('Имя должно содержать более одной буквы')\n",
    "        \n",
    "    def set_rating(self, rating):\n",
    "        self.__rating = rating\n",
    "        \n",
    "    def get_name(self):\n",
    "        return self.name\n",
    "    \n",
    "    def get_rating(self):\n",
    "        return self.rating\n",
    "\n",
    "    def info(self):\n",
    "        print(f'Пользователь {self.name} c рейтингом {self.rating}.')"
   ]
  },
  {
   "cell_type": "code",
   "execution_count": 15,
   "metadata": {},
   "outputs": [
    {
     "data": {
      "text/plain": [
       "'Doctor'"
      ]
     },
     "execution_count": 15,
     "metadata": {},
     "output_type": "execute_result"
    }
   ],
   "source": [
    "who = User()\n",
    "who.set_name('Doctor')\n",
    "who.get_name()"
   ]
  },
  {
   "cell_type": "code",
   "execution_count": 16,
   "metadata": {},
   "outputs": [
    {
     "ename": "AttributeError",
     "evalue": "'User' object has no attribute 'rating'",
     "output_type": "error",
     "traceback": [
      "\u001b[0;31m---------------------------------------------------------------------------\u001b[0m",
      "\u001b[0;31mAttributeError\u001b[0m                            Traceback (most recent call last)",
      "\u001b[0;32m/var/folders/8w/sx6j7f5d7td7tzr3k347hzkc0000gn/T/ipykernel_47482/1452188595.py\u001b[0m in \u001b[0;36m<module>\u001b[0;34m\u001b[0m\n\u001b[1;32m      1\u001b[0m \u001b[0mwho\u001b[0m\u001b[0;34m.\u001b[0m\u001b[0mset_rating\u001b[0m\u001b[0;34m(\u001b[0m\u001b[0;36m34\u001b[0m\u001b[0;34m)\u001b[0m\u001b[0;34m\u001b[0m\u001b[0;34m\u001b[0m\u001b[0m\n\u001b[0;32m----> 2\u001b[0;31m \u001b[0mwho\u001b[0m\u001b[0;34m.\u001b[0m\u001b[0mget_rating\u001b[0m\u001b[0;34m(\u001b[0m\u001b[0;34m)\u001b[0m\u001b[0;34m\u001b[0m\u001b[0;34m\u001b[0m\u001b[0m\n\u001b[0m",
      "\u001b[0;32m/var/folders/8w/sx6j7f5d7td7tzr3k347hzkc0000gn/T/ipykernel_47482/845533291.py\u001b[0m in \u001b[0;36mget_rating\u001b[0;34m(self)\u001b[0m\n\u001b[1;32m     13\u001b[0m \u001b[0;34m\u001b[0m\u001b[0m\n\u001b[1;32m     14\u001b[0m     \u001b[0;32mdef\u001b[0m \u001b[0mget_rating\u001b[0m\u001b[0;34m(\u001b[0m\u001b[0mself\u001b[0m\u001b[0;34m)\u001b[0m\u001b[0;34m:\u001b[0m\u001b[0;34m\u001b[0m\u001b[0;34m\u001b[0m\u001b[0m\n\u001b[0;32m---> 15\u001b[0;31m         \u001b[0;32mreturn\u001b[0m \u001b[0mself\u001b[0m\u001b[0;34m.\u001b[0m\u001b[0mrating\u001b[0m\u001b[0;34m\u001b[0m\u001b[0;34m\u001b[0m\u001b[0m\n\u001b[0m\u001b[1;32m     16\u001b[0m \u001b[0;34m\u001b[0m\u001b[0m\n\u001b[1;32m     17\u001b[0m     \u001b[0;32mdef\u001b[0m \u001b[0minfo\u001b[0m\u001b[0;34m(\u001b[0m\u001b[0mself\u001b[0m\u001b[0;34m)\u001b[0m\u001b[0;34m:\u001b[0m\u001b[0;34m\u001b[0m\u001b[0;34m\u001b[0m\u001b[0m\n",
      "\u001b[0;31mAttributeError\u001b[0m: 'User' object has no attribute 'rating'"
     ]
    }
   ],
   "source": [
    "who.set_rating(34)\n",
    "who.get_rating()"
   ]
  },
  {
   "cell_type": "markdown",
   "metadata": {},
   "source": [
    "### Конструктор\n",
    "Упростить создание экземпляра класса помогает специальный метод `__init__`:"
   ]
  },
  {
   "cell_type": "code",
   "execution_count": 17,
   "metadata": {},
   "outputs": [],
   "source": [
    "class User:\n",
    "    \n",
    "    def __init__(self, name, rating=0): # как и в обычной функции можно задавать параметры по умолчанию\n",
    "        self.name = name\n",
    "        self.rating = rating\n",
    "\n",
    "    def info(self):\n",
    "        print(f'Пользователь {self.name} c рейтингом {self.rating}.')\n",
    "        \n",
    "    def info_str(self):\n",
    "        return f'Пользователь {self.name} c рейтингом {self.rating}.'"
   ]
  },
  {
   "cell_type": "code",
   "execution_count": 18,
   "metadata": {},
   "outputs": [
    {
     "name": "stdout",
     "output_type": "stream",
     "text": [
      "Пользователь Вася c рейтингом 50.\n"
     ]
    }
   ],
   "source": [
    "somebody = User('Вася', rating=50)\n",
    "somebody.info()"
   ]
  },
  {
   "cell_type": "code",
   "execution_count": 19,
   "metadata": {},
   "outputs": [
    {
     "name": "stdout",
     "output_type": "stream",
     "text": [
      "Пользователь Вася c рейтингом 50.\n"
     ]
    }
   ],
   "source": [
    "print(somebody.info_str())"
   ]
  },
  {
   "cell_type": "markdown",
   "metadata": {},
   "source": [
    "Пусть дан список имен. Реализуем генерацию списка пользователей со случайными рейтингами и посчитаем средний рейтинг."
   ]
  },
  {
   "cell_type": "code",
   "execution_count": 20,
   "metadata": {},
   "outputs": [
    {
     "name": "stdout",
     "output_type": "stream",
     "text": [
      "Анастасия 1\n",
      "Анна 36\n",
      "Артем 37\n",
      "Вадим 43\n",
      "Валентин 98\n",
      "Вероника 19\n",
      "Средний рейтинг 39.0\n"
     ]
    }
   ],
   "source": [
    "import random\n",
    "\n",
    "names = ['Анастасия', 'Анна', 'Артем', 'Вадим', 'Валентин', 'Вероника']\n",
    "users = [User(name, random.randint(0,100)) for name in names]\n",
    "\n",
    "for user in users:\n",
    "#     user.info()\n",
    "    print(user.name, user.rating)\n",
    "\n",
    "print(\n",
    "    'Средний рейтинг',\n",
    "    sum(user.rating for user in users)/len(users)\n",
    ")"
   ]
  },
  {
   "cell_type": "markdown",
   "metadata": {},
   "source": [
    "## Наследование \n",
    "\n",
    "Повторное использование кода в ООП может осуществляться с помощью таких механизмов, как наследование и ассоциация (агрегация, композиция).\n",
    "\n",
    "Функционал объекта можно расширять и изменять с помощью наследования. **Потомки** могут переопределять методы **родителей** (родителей может быть несколько)\n",
    "\n",
    "Ассоциация предполагает, что сложные объекты могут рассматриваться как совокупность более простых объектов.\n",
    "Например, **многоугольник** на плоскости представляется последовательностью точек, сама **точка** это объект составленный из двух **чисел**.\n",
    " \n",
    "\n",
    "**Пример 2.** Классы человек и студент."
   ]
  },
  {
   "cell_type": "code",
   "execution_count": 23,
   "metadata": {},
   "outputs": [
    {
     "name": "stdout",
     "output_type": "stream",
     "text": [
      "['__class__', '__delattr__', '__dict__', '__dir__', '__doc__', '__eq__', '__format__', '__ge__', '__getattribute__', '__gt__', '__hash__', '__init__', '__init_subclass__', '__le__', '__lt__', '__module__', '__ne__', '__new__', '__reduce__', '__reduce_ex__', '__repr__', '__setattr__', '__sizeof__', '__str__', '__subclasshook__', '__weakref__', 'name', 'set_course', 'set_name']\n"
     ]
    }
   ],
   "source": [
    "class People:\n",
    "    name = ''\n",
    "    def set_name(self, name):\n",
    "        self.name = name\n",
    "\n",
    "class Student(People): # потомок класса People\n",
    "    def set_course(self, course):\n",
    "        self.course = course\n",
    "        \n",
    "some_body = Student()\n",
    "print(dir(some_body))"
   ]
  },
  {
   "cell_type": "code",
   "execution_count": 24,
   "metadata": {},
   "outputs": [
    {
     "name": "stdout",
     "output_type": "stream",
     "text": [
      "Рон\n",
      "Гермиона\n"
     ]
    }
   ],
   "source": [
    "ron = People()\n",
    "ron.set_name('Рон')\n",
    "\n",
    "gera = Student()\n",
    "gera.set_name('Гермиона')\n",
    "gera.set_course(1)\n",
    "\n",
    "for person in [ron, gera]:\n",
    "    print(person.name)"
   ]
  },
  {
   "cell_type": "markdown",
   "metadata": {},
   "source": [
    "**Пример 3**. Создание пользовательского исключения наследованием от родительского класса Exception. (с) https://devpractice.ru/python-lesson-11-work-with-exceptions/"
   ]
  },
  {
   "cell_type": "code",
   "execution_count": 26,
   "metadata": {},
   "outputs": [
    {
     "name": "stdout",
     "output_type": "stream",
     "text": [
      "input positive number: -3\n",
      "Negative value: -3\n"
     ]
    }
   ],
   "source": [
    "class NegValException(Exception):\n",
    "    pass\n",
    "\n",
    "try:\n",
    "    val = int(input(\"input positive number: \"))\n",
    "    if val < 0:\n",
    "        raise NegValException(\"Negative value: \" + str(val))\n",
    "except NegValException as nve:\n",
    "    print(nve)"
   ]
  },
  {
   "cell_type": "markdown",
   "metadata": {},
   "source": [
    "## Сокрытие свойств и методов\n",
    "\n",
    "\n",
    "Ограничение доступа к свойствам и методам объекта, является одним из аспектов инкапсуляции. В python организованно чисто декларативно, ограничения можно преодолеть:"
   ]
  },
  {
   "cell_type": "code",
   "execution_count": 27,
   "metadata": {},
   "outputs": [
    {
     "data": {
      "text/plain": [
       "(1234, 12)"
      ]
     },
     "execution_count": 27,
     "metadata": {},
     "output_type": "execute_result"
    }
   ],
   "source": [
    "class My:\n",
    "    public_property = 1\n",
    "    _some_private = 1234\n",
    "    __my_private = 12\n",
    "    \n",
    "    def __pri_meth():\n",
    "        print('Hmm..')\n",
    "\n",
    "a = My()\n",
    "# a.__my_private # Исключение\n",
    "a._some_private, a._My__my_private"
   ]
  },
  {
   "cell_type": "code",
   "execution_count": 29,
   "metadata": {},
   "outputs": [
    {
     "name": "stdout",
     "output_type": "stream",
     "text": [
      "['_My__my_private', '_My__pri_meth', '__class__', '__delattr__', '__dict__', '__dir__', '__doc__', '__eq__', '__format__', '__ge__', '__getattribute__', '__gt__', '__hash__', '__init__', '__init_subclass__', '__le__', '__lt__', '__module__', '__ne__', '__new__', '__reduce__', '__reduce_ex__', '__repr__', '__setattr__', '__sizeof__', '__str__', '__subclasshook__', '__weakref__', '_some_private', 'public_property'] ['_My__my_private', '_My__pri_meth', '__class__', '__delattr__', '__dict__', '__dir__', '__doc__', '__eq__', '__format__', '__ge__', '__getattribute__', '__gt__', '__hash__', '__init__', '__init_subclass__', '__le__', '__lt__', '__module__', '__ne__', '__new__', '__reduce__', '__reduce_ex__', '__repr__', '__setattr__', '__sizeof__', '__str__', '__subclasshook__', '__weakref__', '_some_private', 'public_property']\n"
     ]
    }
   ],
   "source": [
    "class SubMy(My):\n",
    "    pass\n",
    "\n",
    "b = SubMy()\n",
    "print(dir(a), dir(b))"
   ]
  },
  {
   "cell_type": "markdown",
   "metadata": {},
   "source": [
    "## Вызов родительского метода\n",
    "`super()` - Возвращает объект-посредник (прокси), делегирующий вызовы методов родителю или собрату класса указанного типа.\n",
    "\n",
    "**Доработка примера 3**:"
   ]
  },
  {
   "cell_type": "code",
   "execution_count": 30,
   "metadata": {},
   "outputs": [
    {
     "name": "stdout",
     "output_type": "stream",
     "text": [
      "input positive number: -7\n",
      "NegValException: Negative value: -7\n"
     ]
    }
   ],
   "source": [
    "class NegValException(Exception):\n",
    "    def __init__(self, message, nval):\n",
    "        # Вызов родительского метода с помощью super\n",
    "        super().__init__('NegValException: ' + message + str(nval))\n",
    "\n",
    "try:\n",
    "    val = int(input(\"input positive number: \"))\n",
    "    if val < 0:\n",
    "        raise NegValException(\"Negative value: \", val)\n",
    "except NegValException as nve:\n",
    "    print(nve)"
   ]
  },
  {
   "cell_type": "markdown",
   "metadata": {},
   "source": [
    "## Полиморфизм\n",
    "\n",
    "Все методы в языке изначально виртуальные. Это значит, что дочерние классы могут их переопределять и решать одну и ту же задачу разными путями, а конкретная реализация будет выбрана только во время исполнения программы. Такие классы называют полиморфными. (с) https://proglib.io/p/python-oop/"
   ]
  },
  {
   "cell_type": "code",
   "execution_count": 31,
   "metadata": {},
   "outputs": [
    {
     "name": "stdout",
     "output_type": "stream",
     "text": [
      "figure\n",
      "triangle\n"
     ]
    }
   ],
   "source": [
    "class Figure:\n",
    "    name = 'figure'\n",
    "    def get_name(self):\n",
    "        return self.name\n",
    "\n",
    "class Triangle(Figure):\n",
    "    name = 'triangle'\n",
    "\n",
    "class Rectangle(Figure):\n",
    "    def get_name(self):\n",
    "        return 'rectangle'\n",
    "    \n",
    "a = Figure()\n",
    "b = Triangle()\n",
    "\n",
    "print(a.get_name())\n",
    "print(b.get_name())"
   ]
  },
  {
   "cell_type": "markdown",
   "metadata": {},
   "source": [
    "## Статические методы\n",
    "\n",
    "Статический метод может быть вызван не только из объекта(экземпляра класса) но и из самого класса, без создания объекта."
   ]
  },
  {
   "cell_type": "code",
   "execution_count": 32,
   "metadata": {},
   "outputs": [
    {
     "name": "stdout",
     "output_type": "stream",
     "text": [
      "Doing something\n",
      "Doing something\n"
     ]
    }
   ],
   "source": [
    "class MyClass:\n",
    "    \n",
    "    @staticmethod # Декоратор...\n",
    "    def do_smt(): # self передавать не нужно\n",
    "        print('Doing something')\n",
    "        \n",
    "obj = MyClass()\n",
    "\n",
    "obj.do_smt()\n",
    "MyClass.do_smt()"
   ]
  },
  {
   "cell_type": "markdown",
   "metadata": {},
   "source": [
    "## Методы класса\n",
    "Методы классов аналогичны методам экземпляров, но выполняются не в контексте объекта, а в контексте самого класса  (классы – это тоже объекты). (с)https://proglib.io/p/python-oop/\n",
    "\n",
    "См. `@classmethod` \n",
    "* https://docs.python.org/3/library/functions.html#classmethod\n",
    "* https://proglib.io/p/python-oop/"
   ]
  },
  {
   "cell_type": "markdown",
   "metadata": {},
   "source": [
    "## Статические свойства\n",
    "Отдельной синтаксисической конструкции для объявления статического свойства класса в python не предусмотрено.\n",
    "Но можно использовать как статические, те свойства которые были определены в объявлении класса. Только обращаться к ним нужно не в контексте объекта, а в контексте класса (тоже объект в python)."
   ]
  },
  {
   "cell_type": "code",
   "execution_count": 33,
   "metadata": {},
   "outputs": [
    {
     "name": "stdout",
     "output_type": "stream",
     "text": [
      "123\n",
      "123 345\n"
     ]
    }
   ],
   "source": [
    "class My:\n",
    "    my_static = 123\n",
    "\n",
    "    \n",
    "obj = My()\n",
    "print(obj.my_static)\n",
    "obj.my_static = 345\n",
    "print(My.my_static, obj.my_static)"
   ]
  },
  {
   "cell_type": "code",
   "execution_count": 34,
   "metadata": {},
   "outputs": [
    {
     "data": {
      "text/plain": [
       "124"
      ]
     },
     "execution_count": 34,
     "metadata": {},
     "output_type": "execute_result"
    }
   ],
   "source": [
    "class My:\n",
    "    my_static = 123\n",
    "    \n",
    "    def sum_with_static(self, x):\n",
    "        return My.my_static + x\n",
    "\n",
    "obj = My()\n",
    "obj.sum_with_static(1)"
   ]
  },
  {
   "cell_type": "markdown",
   "metadata": {},
   "source": [
    "# Алгоритмы и структуры данных\n",
    "### Основные структуры данных\n",
    "\n",
    "- Массив\n",
    "- hash-таблица\n",
    "- Список\n",
    "- Стек\n",
    "- Очередь\n",
    "- Граф\n",
    "- Дерево\n",
    "\n",
    "Полезная ссылка на модуль collections https://docs.python.org/3/library/collections.html\n",
    "\n",
    "### Основные операции\n",
    "\n",
    "- Доступ к элементу по индексу\n",
    "- Вставка элемента\n",
    "- Удаление элемента\n",
    "- Получение длины структуры"
   ]
  },
  {
   "cell_type": "code",
   "execution_count": 35,
   "metadata": {},
   "outputs": [],
   "source": [
    "# массив\n",
    "arr = [i for i in range(10)]\n",
    "#arr.append((10, 11))\n",
    "arr.extend((200, 300))\n",
    "# методы ничего не возвращают, но меняют исходный список"
   ]
  },
  {
   "cell_type": "code",
   "execution_count": 36,
   "metadata": {},
   "outputs": [
    {
     "data": {
      "text/plain": [
       "5"
      ]
     },
     "execution_count": 36,
     "metadata": {},
     "output_type": "execute_result"
    }
   ],
   "source": [
    "# извлечение элемента из списка = удаление + возвращение результата (в переменную)\n",
    "arr.pop(5)"
   ]
  },
  {
   "cell_type": "code",
   "execution_count": 39,
   "metadata": {},
   "outputs": [
    {
     "data": {
      "text/plain": [
       "[0, 1, 2, 3, 4, 6, 7, 8, 9, 200, 300]"
      ]
     },
     "execution_count": 39,
     "metadata": {},
     "output_type": "execute_result"
    }
   ],
   "source": [
    "arr"
   ]
  },
  {
   "cell_type": "code",
   "execution_count": 37,
   "metadata": {},
   "outputs": [
    {
     "data": {
      "text/plain": [
       "{'keys': ['a', 'b', 'd'],\n",
       " 'values': [[0, 1, 2, 3, 4, 6, 7, 8, 9, 200, 300],\n",
       "  [0, 1, 2, 3, 4, 6, 7, 8, 9, 200, 300],\n",
       "  [0, 1, 2, 3, 4, 6, 7, 8, 9, 200, 300]]}"
      ]
     },
     "execution_count": 37,
     "metadata": {},
     "output_type": "execute_result"
    }
   ],
   "source": [
    "# hash-таблица\n",
    "# ключи словаря должны быть неизменяемого типа - int, float, string, tuple\n",
    "hash_table = {('a', 'b'): 1, 'b': 2}\n",
    "hash_table1 = dict((('b', 3), ('a', 1)))\n",
    "hash_table2 = dict(keys=['a', 'b', 'd'], values=[arr, arr, arr])\n",
    "# ещё один способ создания словаря\n",
    "\n",
    "hash_table2"
   ]
  },
  {
   "cell_type": "code",
   "execution_count": 38,
   "metadata": {},
   "outputs": [],
   "source": [
    "hash_table.get('c')"
   ]
  },
  {
   "cell_type": "code",
   "execution_count": 40,
   "metadata": {},
   "outputs": [
    {
     "data": {
      "text/plain": [
       "{('a', 'b'): 1, 'b': 2}"
      ]
     },
     "execution_count": 40,
     "metadata": {},
     "output_type": "execute_result"
    }
   ],
   "source": [
    "hash_table"
   ]
  },
  {
   "cell_type": "code",
   "execution_count": 41,
   "metadata": {},
   "outputs": [
    {
     "ename": "TypeError",
     "evalue": "list expected at most 1 argument, got 2",
     "output_type": "error",
     "traceback": [
      "\u001b[0;31m---------------------------------------------------------------------------\u001b[0m",
      "\u001b[0;31mTypeError\u001b[0m                                 Traceback (most recent call last)",
      "\u001b[0;32m/var/folders/8w/sx6j7f5d7td7tzr3k347hzkc0000gn/T/ipykernel_47482/1267157446.py\u001b[0m in \u001b[0;36m<module>\u001b[0;34m\u001b[0m\n\u001b[1;32m      1\u001b[0m \u001b[0;31m# список\u001b[0m\u001b[0;34m\u001b[0m\u001b[0;34m\u001b[0m\u001b[0m\n\u001b[1;32m      2\u001b[0m \u001b[0ma1\u001b[0m \u001b[0;34m=\u001b[0m \u001b[0;34m[\u001b[0m\u001b[0;34m'abcd'\u001b[0m\u001b[0;34m,\u001b[0m \u001b[0;34m'gjhgf'\u001b[0m\u001b[0;34m]\u001b[0m\u001b[0;34m\u001b[0m\u001b[0;34m\u001b[0m\u001b[0m\n\u001b[0;32m----> 3\u001b[0;31m \u001b[0ma2\u001b[0m \u001b[0;34m=\u001b[0m \u001b[0mlist\u001b[0m\u001b[0;34m(\u001b[0m\u001b[0;34m'abcd'\u001b[0m\u001b[0;34m,\u001b[0m \u001b[0;34m'gjhgf'\u001b[0m\u001b[0;34m)\u001b[0m\u001b[0;34m\u001b[0m\u001b[0;34m\u001b[0m\u001b[0m\n\u001b[0m\u001b[1;32m      4\u001b[0m \u001b[0;31m#a3 = {'anbs'}\u001b[0m\u001b[0;34m\u001b[0m\u001b[0;34m\u001b[0m\u001b[0m\n\u001b[1;32m      5\u001b[0m \u001b[0;31m#a4 = set('anbsv')\u001b[0m\u001b[0;34m\u001b[0m\u001b[0;34m\u001b[0m\u001b[0m\n",
      "\u001b[0;31mTypeError\u001b[0m: list expected at most 1 argument, got 2"
     ]
    }
   ],
   "source": [
    "# список\n",
    "a1 = ['abcd', 'gjhgf']\n",
    "a2 = list('abcd', 'gjhgf')\n",
    "#a3 = {'anbs'}\n",
    "#a4 = set('anbsv')"
   ]
  },
  {
   "cell_type": "code",
   "execution_count": 42,
   "metadata": {},
   "outputs": [
    {
     "data": {
      "text/plain": [
       "['abcd', 'gjhgf']"
      ]
     },
     "execution_count": 42,
     "metadata": {},
     "output_type": "execute_result"
    }
   ],
   "source": [
    "sorted(a1)"
   ]
  },
  {
   "cell_type": "code",
   "execution_count": 43,
   "metadata": {},
   "outputs": [
    {
     "name": "stdout",
     "output_type": "stream",
     "text": [
      "deque(['a'])\n",
      "deque(['a', 'b'])\n",
      "deque(['a', 'b', 'c'])\n",
      "deque(['a', 'b'])\n",
      "deque(['a'])\n",
      "deque([])\n"
     ]
    }
   ],
   "source": [
    "# стек через список\n",
    "myStack = []\n",
    "myStack.append('a')\n",
    "myStack.append('b')\n",
    "myStack.append('c')\n",
    "myStack\n",
    "myStack.pop()\n",
    "myStack.pop()\n",
    "myStack.pop()\n",
    "\n",
    "# стек через встроенную структуру\n",
    "from collections import deque\n",
    "myStack = deque()\n",
    "myStack.append('a')\n",
    "print(myStack)\n",
    "\n",
    "myStack.append('b')\n",
    "print(myStack)\n",
    "myStack.append('c')\n",
    "print(myStack)\n",
    "myStack.pop()\n",
    "print(myStack)\n",
    "myStack.pop()\n",
    "print(myStack)\n",
    "myStack.pop()\n",
    "print(myStack)"
   ]
  },
  {
   "cell_type": "code",
   "execution_count": 44,
   "metadata": {},
   "outputs": [
    {
     "data": {
      "text/plain": [
       "deque([])"
      ]
     },
     "execution_count": 44,
     "metadata": {},
     "output_type": "execute_result"
    }
   ],
   "source": [
    "myStack"
   ]
  },
  {
   "cell_type": "code",
   "execution_count": 45,
   "metadata": {},
   "outputs": [
    {
     "name": "stdout",
     "output_type": "stream",
     "text": [
      "['a', 'b', 'c']\n",
      "['b', 'c']\n",
      "['c']\n",
      "[]\n"
     ]
    }
   ],
   "source": [
    "# очередь\n",
    "myStack = []\n",
    "myStack.extend(('a', 'b', 'c'))\n",
    "print(myStack)\n",
    "myStack.pop(0)\n",
    "print(myStack)\n",
    "myStack.pop(0)\n",
    "print(myStack)\n",
    "myStack.pop(0)\n",
    "print(myStack)"
   ]
  },
  {
   "cell_type": "code",
   "execution_count": 46,
   "metadata": {},
   "outputs": [],
   "source": [
    "# граф"
   ]
  },
  {
   "cell_type": "code",
   "execution_count": 47,
   "metadata": {},
   "outputs": [
    {
     "name": "stdout",
     "output_type": "stream",
     "text": [
      "Node [10]\n"
     ]
    }
   ],
   "source": [
    "# дерево\n",
    "class node:\n",
    "    def __init__(self, data = None, left = None, right = None):\n",
    "        self.data   = data\n",
    "        self.left   = left\n",
    "        self.right  = right\n",
    "\n",
    "    def __str__(self):\n",
    "        return 'Node ['+str(self.data)+']'\n",
    "\n",
    "# класс, описывающий само дерево\n",
    "class Tree:\n",
    "    def __init__(self):\n",
    "        self.root = None #корень дерева\n",
    "\n",
    "# функция для добавления узла в дерево\n",
    "    def newNode(self, data):\n",
    "        return node(data,10,11)\n",
    "    \n",
    "k = Tree()\n",
    "a = k.newNode(10)\n",
    "k.newNode(11)\n",
    "k.newNode(12)\n",
    "print(a)"
   ]
  },
  {
   "cell_type": "markdown",
   "metadata": {},
   "source": [
    "### Алгоритмы\n",
    "Создаются для решения определённой задачи.\n",
    "\n",
    "Мы рассмотрим алгоритмы поиска и сортировки."
   ]
  },
  {
   "cell_type": "code",
   "execution_count": 49,
   "metadata": {},
   "outputs": [
    {
     "name": "stdout",
     "output_type": "stream",
     "text": [
      "[2, 3, 5, 6, 10, 17, 32, 35, 41, 50]\n",
      "4\n",
      "No value\n"
     ]
    }
   ],
   "source": [
    "# бинарный поиск\n",
    "from random import randint\n",
    "\n",
    "a = []\n",
    "for i in range(10):\n",
    "    a.append(randint(1, 50))\n",
    "a.sort()\n",
    "print(a)\n",
    " \n",
    "# искомое число\n",
    "value = int(input())\n",
    " \n",
    "mid = len(a) // 2\n",
    "low = 0\n",
    "high = len(a) - 1\n",
    " \n",
    "while a[mid] != value and low <= high: # пока не найдём или пока не закончится массив\n",
    "    if value > a[mid]:\n",
    "        low = mid + 1\n",
    "    else:\n",
    "        high = mid - 1\n",
    "    mid = (low + high) // 2\n",
    "\n",
    "if low > high:\n",
    "    print(\"No value\")\n",
    "else:\n",
    "    print(\"ID =\", mid)"
   ]
  },
  {
   "cell_type": "markdown",
   "metadata": {},
   "source": [
    "##### сортировка:\n",
    "\n",
    "быстрая https://ru.wikipedia.org/wiki/%D0%91%D1%8B%D1%81%D1%82%D1%80%D0%B0%D1%8F_%D1%81%D0%BE%D1%80%D1%82%D0%B8%D1%80%D0%BE%D0%B2%D0%BA%D0%B0\n",
    "\n",
    "гифки https://proglib.io/p/sort-gif"
   ]
  },
  {
   "cell_type": "markdown",
   "metadata": {},
   "source": [
    "##### хорошие ссылки по некоторым структурам данных\n",
    "\n",
    "стек https://webdevblog.ru/kak-realizovat-stek-v-python/\n",
    "\n",
    "очередь https://docs-python.ru/standart-library/modul-queue-python/\n",
    "\n",
    "деревья http://py-algorithm.blogspot.com/2011/07/blog-post_30.html"
   ]
  },
  {
   "cell_type": "markdown",
   "metadata": {},
   "source": [
    "collections: https://docs.python.org/3/library/collections.html"
   ]
  }
 ],
 "metadata": {
  "kernelspec": {
   "display_name": "Python 3 (ipykernel)",
   "language": "python",
   "name": "python3"
  },
  "language_info": {
   "codemirror_mode": {
    "name": "ipython",
    "version": 3
   },
   "file_extension": ".py",
   "mimetype": "text/x-python",
   "name": "python",
   "nbconvert_exporter": "python",
   "pygments_lexer": "ipython3",
   "version": "3.9.7"
  }
 },
 "nbformat": 4,
 "nbformat_minor": 2
}
