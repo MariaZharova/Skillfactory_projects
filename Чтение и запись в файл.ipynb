{
 "cells": [
  {
   "cell_type": "markdown",
   "metadata": {},
   "source": [
    "# Файлы\n",
    "Рассмотрим кратко работу с файлами в python. \n",
    "## Чтение и запись"
   ]
  },
  {
   "cell_type": "markdown",
   "metadata": {},
   "source": [
    "Для работы с файлом его необходимо **открыть**, произвести необходимые **действия**, **закрыть**.\n",
    "\n",
    "**Функции и методы для работы с файлом:**\n",
    "\n",
    "* функция `open(имя_файла, режим_доступа)` - возвращает файловый объект\n",
    "\n",
    "    Для указания режима доступа используется следующие символы:\n",
    "\n",
    "    * ‘r’ – открыть файл для чтения;\n",
    "\n",
    "    * ‘w’ – открыть файл для записи;\n",
    "\n",
    "    * ‘x’ – открыть файл с целью создания, если файл существует, то вызов функции open завершится с ошибкой;\n",
    "\n",
    "    * ‘a’ – открыть файл для записи, при этом новые данные будут добавлены в конец файла, без удаления существующих;\n",
    "\n",
    "    * ‘b’ – бинарный режим;\n",
    "\n",
    "    * ‘t’ – текстовый режим;\n",
    "\n",
    "* Метод `.write(строка)` - запись строки в файл\n",
    "* Метод `.read(количество_символов)` - чтение из файла\n",
    "* Метод `.readline()` - чтение строки из файла \n",
    "* Метод `.readlines()` - чтение всех сторок из файла в список\n",
    "* Метод `.close()` - закрытие файла\n",
    "\n",
    "https://docs.python.org/3/tutorial/inputoutput.html#reading-and-writing-files"
   ]
  },
  {
   "cell_type": "markdown",
   "metadata": {},
   "source": [
    "**Пример 1**. Записать в текстовый файл две строки и закрыть его."
   ]
  },
  {
   "cell_type": "code",
   "execution_count": 1,
   "metadata": {},
   "outputs": [],
   "source": [
    "#запись строки в файл, открытый в режиме 'w'\n",
    "file_obj = open('file_to_write_in.txt', 'w')\n",
    "file_obj.write('Строка для записи в файл\\nИ вторая.')\n",
    "file_obj.close()"
   ]
  },
  {
   "cell_type": "markdown",
   "metadata": {},
   "source": [
    "Чтение файла средствами jupyter:"
   ]
  },
  {
   "cell_type": "code",
   "execution_count": 2,
   "metadata": {},
   "outputs": [
    {
     "name": "stdout",
     "output_type": "stream",
     "text": [
      "Строка для записи в файл\r\n",
      "И вторая."
     ]
    }
   ],
   "source": [
    "#команда для пользователей windows, читает текстовый файл в ноутбук\n",
    "!cat file_to_write_in.txt"
   ]
  },
  {
   "cell_type": "markdown",
   "metadata": {},
   "source": [
    "**Пример 2**. Чтение строк из файла."
   ]
  },
  {
   "cell_type": "markdown",
   "metadata": {},
   "source": [
    "*Вариант 1:*"
   ]
  },
  {
   "cell_type": "code",
   "execution_count": 3,
   "metadata": {},
   "outputs": [
    {
     "name": "stdout",
     "output_type": "stream",
     "text": [
      "Строка для записи в файл\n",
      "И вторая."
     ]
    }
   ],
   "source": [
    "f = open(\"file_to_write_in.txt\", \"r\")\n",
    "for line in f:\n",
    "    print(line, end='')\n",
    "f.close()"
   ]
  },
  {
   "cell_type": "markdown",
   "metadata": {},
   "source": [
    "*Вариант 2:*"
   ]
  },
  {
   "cell_type": "code",
   "execution_count": 4,
   "metadata": {},
   "outputs": [
    {
     "name": "stdout",
     "output_type": "stream",
     "text": [
      "Строка для записи в файл\n",
      "И вторая."
     ]
    }
   ],
   "source": [
    "f = open(\"file_to_write_in.txt\", \"r\")\n",
    "line = f.readline()\n",
    "while line:\n",
    "    print(line, end='')\n",
    "    line = f.readline()\n",
    "f.close()"
   ]
  },
  {
   "cell_type": "markdown",
   "metadata": {},
   "source": [
    "*Вариант 3:*"
   ]
  },
  {
   "cell_type": "code",
   "execution_count": 5,
   "metadata": {},
   "outputs": [
    {
     "name": "stdout",
     "output_type": "stream",
     "text": [
      "['Строка для записи в файл\\n', 'И вторая.']\n"
     ]
    }
   ],
   "source": [
    "f = open(\"file_to_write_in.txt\", \"r\")\n",
    "line_list = f.readlines()\n",
    "print(line_list)\n",
    "f.close()"
   ]
  },
  {
   "cell_type": "markdown",
   "metadata": {},
   "source": [
    "*Вариант 4:*"
   ]
  },
  {
   "cell_type": "code",
   "execution_count": 17,
   "metadata": {},
   "outputs": [
    {
     "name": "stdout",
     "output_type": "stream",
     "text": [
      "Строка для записи в файл\n",
      "И вторая.\n"
     ]
    }
   ],
   "source": [
    "f = open(\"file_to_write_in.txt\", \"r\")\n",
    "print(f.read())\n",
    "f.close()"
   ]
  },
  {
   "cell_type": "code",
   "execution_count": 8,
   "metadata": {},
   "outputs": [
    {
     "data": {
      "text/plain": [
       "2"
      ]
     },
     "execution_count": 8,
     "metadata": {},
     "output_type": "execute_result"
    }
   ],
   "source": [
    "len(line_list)"
   ]
  },
  {
   "cell_type": "markdown",
   "metadata": {},
   "source": [
    "## Оператор управления контекстом `with`:"
   ]
  },
  {
   "cell_type": "code",
   "execution_count": 13,
   "metadata": {},
   "outputs": [],
   "source": [
    "# Выполнить ячейку несколько раз\n",
    "# Запишем в файл время выполнения ячейки\n",
    "from datetime import datetime\n",
    "now = datetime.now()\n",
    "\n",
    "with open('my_file.txt','a') as f:\n",
    "    f.write(datetime.strftime(datetime.now(), \"%Y.%m.%d %H:%M:%S\\n\"))"
   ]
  },
  {
   "cell_type": "code",
   "execution_count": 14,
   "metadata": {},
   "outputs": [
    {
     "name": "stdout",
     "output_type": "stream",
     "text": [
      "2023.01.19 19:04:46\n",
      "2023.01.19 19:41:42\n",
      "2023.01.19 19:41:43\n",
      "2023.01.19 19:41:45\n",
      "2023.01.19 19:42:09\n",
      "2023.01.19 19:42:11\n"
     ]
    }
   ],
   "source": [
    "with open('my_file.txt') as f:\n",
    "    for line in f:\n",
    "        print(line, end='')\n",
    "# Закрывать файл не требуется, всё сделает with"
   ]
  },
  {
   "cell_type": "markdown",
   "metadata": {},
   "source": [
    "## Чтение и запись в бинарный файл с помощью pickle\n",
    "Специальный модуль для сериализации и десериализации объектов с записью в бинарный файл."
   ]
  },
  {
   "cell_type": "code",
   "execution_count": 21,
   "metadata": {},
   "outputs": [],
   "source": [
    "import pickle"
   ]
  },
  {
   "cell_type": "markdown",
   "metadata": {},
   "source": [
    "### Запись в файл\n",
    "Параметр 'wb' означает запись в бинарном виде"
   ]
  },
  {
   "cell_type": "code",
   "execution_count": 22,
   "metadata": {},
   "outputs": [],
   "source": [
    "FILENAME = \"users.dat\"\n",
    "data = [1,2,3]\n",
    "with open(FILENAME, \"wb\") as file:\n",
    "    pickle.dump(data, file)"
   ]
  },
  {
   "cell_type": "code",
   "execution_count": 23,
   "metadata": {},
   "outputs": [
    {
     "name": "stdout",
     "output_type": "stream",
     "text": [
      "�\u0004�\u000b",
      "\u0000\u0000\u0000\u0000\u0000\u0000\u0000]�(K\u0001K\u0002K\u0003e."
     ]
    }
   ],
   "source": [
    "!cat users.dat"
   ]
  },
  {
   "cell_type": "markdown",
   "metadata": {},
   "source": [
    "### Чтение из файла"
   ]
  },
  {
   "cell_type": "code",
   "execution_count": 24,
   "metadata": {},
   "outputs": [
    {
     "name": "stdout",
     "output_type": "stream",
     "text": [
      "[1, 2, 3]\n"
     ]
    }
   ],
   "source": [
    "with open(FILENAME, \"rb\") as file:\n",
    "    results = pickle.load(file)\n",
    "print(results)"
   ]
  },
  {
   "cell_type": "markdown",
   "metadata": {},
   "source": [
    "**Пример 3**. Очистить файл, записать в бинарный файл три числа, и затем прочитать их."
   ]
  },
  {
   "cell_type": "code",
   "execution_count": 25,
   "metadata": {},
   "outputs": [
    {
     "name": "stdout",
     "output_type": "stream",
     "text": [
      "Введите целое число 1\n",
      "Введите целое число 15\n",
      "Введите целое число 155\n"
     ]
    }
   ],
   "source": [
    "open(FILENAME, \"wb\")\n",
    "for i in range(3):\n",
    "    num = int(input('Введите целое число '))\n",
    "    with open(FILENAME, \"ab\") as file:\n",
    "        pickle.dump(num, file)"
   ]
  },
  {
   "cell_type": "code",
   "execution_count": 26,
   "metadata": {},
   "outputs": [
    {
     "name": "stdout",
     "output_type": "stream",
     "text": [
      "1\n",
      "15\n",
      "155\n"
     ]
    }
   ],
   "source": [
    "with open(FILENAME, \"rb\") as file:\n",
    "    for i in range(3):\n",
    "        results = pickle.load(file)\n",
    "        print(results)"
   ]
  },
  {
   "cell_type": "markdown",
   "metadata": {},
   "source": [
    "## Смешанный режим доступа\n",
    "\n",
    "http://pythonicway.com/python-fileio#file_modes"
   ]
  },
  {
   "cell_type": "code",
   "execution_count": 15,
   "metadata": {},
   "outputs": [
    {
     "name": "stdout",
     "output_type": "stream",
     "text": [
      "Раз и\n",
      "\n"
     ]
    }
   ],
   "source": [
    "with open('my.log', 'w+') as f:\n",
    "    f.write('Раз и\\nДва')\n",
    "    f.seek(0)\n",
    "    print(f.readline())"
   ]
  },
  {
   "cell_type": "markdown",
   "metadata": {},
   "source": [
    "## Работа с JSON"
   ]
  },
  {
   "cell_type": "code",
   "execution_count": 28,
   "metadata": {},
   "outputs": [],
   "source": [
    "import json"
   ]
  },
  {
   "cell_type": "markdown",
   "metadata": {},
   "source": [
    "### Запись в JSON-файл (словарей)"
   ]
  },
  {
   "cell_type": "code",
   "execution_count": 29,
   "metadata": {},
   "outputs": [],
   "source": [
    "# создаём словарь\n",
    "data = {}\n",
    "data['people'] = []\n",
    "data['people'].append({\n",
    "    'name': 'Scott',\n",
    "    'website': 'pythonist.ru',\n",
    "    'from': 'Nebraska'\n",
    "})\n",
    "data['people'].append({\n",
    "    'name': 'Larry',\n",
    "    'website': 'pythonist.ru',\n",
    "    'from': 'Michigan'\n",
    "})\n",
    "data['people'].append({\n",
    "    'name': 'Tim',\n",
    "    'website': 'pythonist.ru',\n",
    "    'from': 'Alabama'\n",
    "})\n",
    "\n",
    "# открываем (создаём) json-файл\n",
    "with open('data.txt', 'w') as outfile:\n",
    "    json.dump(data, outfile) # функция записи в файл"
   ]
  },
  {
   "cell_type": "code",
   "execution_count": 30,
   "metadata": {},
   "outputs": [
    {
     "data": {
      "text/plain": [
       "{'people': [{'name': 'Scott', 'website': 'pythonist.ru', 'from': 'Nebraska'},\n",
       "  {'name': 'Larry', 'website': 'pythonist.ru', 'from': 'Michigan'},\n",
       "  {'name': 'Tim', 'website': 'pythonist.ru', 'from': 'Alabama'}]}"
      ]
     },
     "execution_count": 30,
     "metadata": {},
     "output_type": "execute_result"
    }
   ],
   "source": [
    "data"
   ]
  },
  {
   "cell_type": "markdown",
   "metadata": {},
   "source": [
    "### Чтение из JSON-файла"
   ]
  },
  {
   "cell_type": "code",
   "execution_count": 33,
   "metadata": {},
   "outputs": [
    {
     "name": "stdout",
     "output_type": "stream",
     "text": [
      "Name: Scott\n",
      "Website: pythonist.ru\n",
      "From: Nebraska\n",
      "\n",
      "Name: Larry\n",
      "Website: pythonist.ru\n",
      "From: Michigan\n",
      "\n",
      "Name: Tim\n",
      "Website: pythonist.ru\n",
      "From: Alabama\n",
      "\n"
     ]
    }
   ],
   "source": [
    "with open('data.txt') as json_file:\n",
    "    data = json.load(json_file) # чтение файла и парсинг его в словарь\n",
    "    #print(data)\n",
    "    for p in data['people']:\n",
    "        print('Name: ' + p['name'])\n",
    "        print('Website: ' + p['website'])\n",
    "        print('From: ' + p['from'])\n",
    "        print('')"
   ]
  },
  {
   "cell_type": "code",
   "execution_count": 19,
   "metadata": {},
   "outputs": [
    {
     "data": {
      "text/plain": [
       "{'people': [{'name': 'Scott', 'website': 'pythonist.ru', 'from': 'Nebraska'},\n",
       "  {'name': 'Larry', 'website': 'pythonist.ru', 'from': 'Michigan'},\n",
       "  {'name': 'Tim', 'website': 'pythonist.ru', 'from': 'Alabama'}]}"
      ]
     },
     "execution_count": 19,
     "metadata": {},
     "output_type": "execute_result"
    }
   ],
   "source": [
    "# посмотрим на data - это словарь\n",
    "data"
   ]
  },
  {
   "cell_type": "markdown",
   "metadata": {},
   "source": [
    "## Работа с файловой системой\n",
    "\n",
    "Рассмотрим некоторые возможности модуля os (см. https://python-scripts.com/import-os-example)"
   ]
  },
  {
   "cell_type": "code",
   "execution_count": 35,
   "metadata": {},
   "outputs": [],
   "source": [
    "import os"
   ]
  },
  {
   "cell_type": "markdown",
   "metadata": {},
   "source": [
    "Путь до текущей папки:"
   ]
  },
  {
   "cell_type": "code",
   "execution_count": 36,
   "metadata": {},
   "outputs": [
    {
     "name": "stdout",
     "output_type": "stream",
     "text": [
      "/Users/maria/Downloads\n"
     ]
    }
   ],
   "source": [
    "print(os.getcwd())"
   ]
  },
  {
   "cell_type": "markdown",
   "metadata": {},
   "source": [
    "Меняем текущую папку:"
   ]
  },
  {
   "cell_type": "code",
   "execution_count": 37,
   "metadata": {},
   "outputs": [
    {
     "name": "stdout",
     "output_type": "stream",
     "text": [
      "/Users/maria/Desktop\n"
     ]
    }
   ],
   "source": [
    "os.chdir(r\"/Users/maria/Desktop\")\n",
    "print(os.getcwd())"
   ]
  },
  {
   "cell_type": "code",
   "execution_count": 42,
   "metadata": {},
   "outputs": [
    {
     "data": {
      "text/plain": [
       "['test_folder',\n",
       " 'Снимок экрана 2022-09-12 в 21.50.36.png',\n",
       " '.DS_Store',\n",
       " 'requirements.txt',\n",
       " '.localized',\n",
       " 'Снимок экрана 2022-09-13 в 19.53.15.png',\n",
       " 'Снимок экрана 2023-01-14 в 12.19.12.png',\n",
       " 'Снимок экрана 2023-01-13 в 21.02.22.png',\n",
       " 'Implementations',\n",
       " 'romaf',\n",
       " 'py.py']"
      ]
     },
     "execution_count": 42,
     "metadata": {},
     "output_type": "execute_result"
    }
   ],
   "source": [
    "os.listdir()"
   ]
  },
  {
   "cell_type": "markdown",
   "metadata": {},
   "source": [
    "Создаем новую папку в текущей:"
   ]
  },
  {
   "cell_type": "code",
   "execution_count": 38,
   "metadata": {},
   "outputs": [],
   "source": [
    "os.mkdir(\"test_folder\")"
   ]
  },
  {
   "cell_type": "markdown",
   "metadata": {},
   "source": [
    "Проверим, есть ли наша папка в текущем каталоге:"
   ]
  },
  {
   "cell_type": "code",
   "execution_count": 41,
   "metadata": {},
   "outputs": [
    {
     "data": {
      "text/plain": [
       "False"
      ]
     },
     "execution_count": 41,
     "metadata": {},
     "output_type": "execute_result"
    }
   ],
   "source": [
    "\"test_folder1\" in os.listdir()"
   ]
  },
  {
   "cell_type": "code",
   "execution_count": 26,
   "metadata": {},
   "outputs": [],
   "source": [
    "# os.listdir()"
   ]
  },
  {
   "cell_type": "markdown",
   "metadata": {},
   "source": [
    "Переименуем папку (файл):"
   ]
  },
  {
   "cell_type": "code",
   "execution_count": 43,
   "metadata": {},
   "outputs": [],
   "source": [
    "os.rename(\"test_folder\", \"test_folder_new\")"
   ]
  },
  {
   "cell_type": "code",
   "execution_count": 45,
   "metadata": {},
   "outputs": [
    {
     "data": {
      "text/plain": [
       "False"
      ]
     },
     "execution_count": 45,
     "metadata": {},
     "output_type": "execute_result"
    }
   ],
   "source": [
    "\"test_folder\" in os.listdir()"
   ]
  },
  {
   "cell_type": "markdown",
   "metadata": {},
   "source": [
    "Создадим файл в папке:"
   ]
  },
  {
   "cell_type": "code",
   "execution_count": 46,
   "metadata": {},
   "outputs": [
    {
     "data": {
      "text/plain": [
       "'/Users/maria/Downloads/test_folder_new'"
      ]
     },
     "execution_count": 46,
     "metadata": {},
     "output_type": "execute_result"
    }
   ],
   "source": [
    "path = r'/Users/maria/Downloads'\n",
    "path_to_save = os.path.join(path,\"test_folder_new\")\n",
    "path_to_save"
   ]
  },
  {
   "cell_type": "code",
   "execution_count": 47,
   "metadata": {},
   "outputs": [],
   "source": [
    "fname = os.path.join(path_to_save,'test.txt')\n",
    "f = open(fname, 'w')\n",
    "f.write('Строка')\n",
    "f.close()"
   ]
  },
  {
   "cell_type": "code",
   "execution_count": 48,
   "metadata": {},
   "outputs": [
    {
     "data": {
      "text/plain": [
       "['to_rename',\n",
       " 'file_to_write_in.txt',\n",
       " 'test.txt',\n",
       " 'file_to_write_in11.txt',\n",
       " 'file_to_write_in1.txt']"
      ]
     },
     "execution_count": 48,
     "metadata": {},
     "output_type": "execute_result"
    }
   ],
   "source": [
    "os.listdir(path_to_save)"
   ]
  },
  {
   "cell_type": "markdown",
   "metadata": {},
   "source": [
    "Создаем папку:"
   ]
  },
  {
   "cell_type": "code",
   "execution_count": 35,
   "metadata": {},
   "outputs": [],
   "source": [
    "os.chdir(path_to_save)\n",
    "os.mkdir(\"to_rename\")"
   ]
  },
  {
   "cell_type": "markdown",
   "metadata": {},
   "source": [
    "Перемещаем и переименовываем файл:"
   ]
  },
  {
   "cell_type": "code",
   "execution_count": 36,
   "metadata": {},
   "outputs": [],
   "source": [
    "os.rename(fname, os.path.join(path_to_save, \"to_rename\", \"test2.txt\"))"
   ]
  },
  {
   "cell_type": "markdown",
   "metadata": {},
   "source": [
    "Получим информацию о файлах и подкаталогах:"
   ]
  },
  {
   "cell_type": "code",
   "execution_count": null,
   "metadata": {},
   "outputs": [],
   "source": [
    "for folder, dirs, files in os.walk(r'/Users/maria/Downloads'):\n",
    "    print(files)"
   ]
  },
  {
   "cell_type": "code",
   "execution_count": null,
   "metadata": {},
   "outputs": [],
   "source": [
    "for root, dirs, files in os.walk(r'/Users/maria/Downloads'):\n",
    "    print(root)\n",
    "    for _dir in dirs:\n",
    "        print(_dir)\n",
    " \n",
    "    for _file in files:\n",
    "        print(_file)"
   ]
  },
  {
   "cell_type": "markdown",
   "metadata": {},
   "source": [
    "# Всем спасибо за внимание!"
   ]
  }
 ],
 "metadata": {
  "kernelspec": {
   "display_name": "Python 3 (ipykernel)",
   "language": "python",
   "name": "python3"
  },
  "language_info": {
   "codemirror_mode": {
    "name": "ipython",
    "version": 3
   },
   "file_extension": ".py",
   "mimetype": "text/x-python",
   "name": "python",
   "nbconvert_exporter": "python",
   "pygments_lexer": "ipython3",
   "version": "3.9.7"
  }
 },
 "nbformat": 4,
 "nbformat_minor": 2
}
