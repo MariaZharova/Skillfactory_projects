{
 "cells": [
  {
   "cell_type": "markdown",
   "metadata": {
    "id": "ukzzGTgLXCfM"
   },
   "source": [
    "# Практика к лекции 2, часть 1.\n",
    "### База слов WordNet"
   ]
  },
  {
   "cell_type": "markdown",
   "metadata": {
    "id": "9GA_F8z6XCfM"
   },
   "source": [
    "Самое распространенное решение проблемы о передачи смысла слова компьютеру – использовать некую базу данных –, например, [**WordNet**](https://wordnet.princeton.edu/).\n",
    "\n",
    "**WordNet** – это лексическая база данных английского языка, разработанная в Принстонском университете. Представляет собой электронный словарь и набор семантических сетей для английского языка.\n",
    "\n",
    "Базовой единицей в свою очередь в WordNet является не отдельное слово, а синонимический ряд, объединяющий слова со схожим значением в узел семантической сети. Такие синонимические ряды называют синсетами – synset. Они связаны между собой различными семантическими отношениями:\n",
    "\n",
    "- гипероним – обед -> прием пищи (lunch -> meal)\n",
    "- гипоним – прием пищи -> обед (meal -> lunch)\n",
    "- has-member – факультет -> профессор (faculty -> professor)\n",
    "- member-of – пилот -> экипаж (pilot -> crew)\n",
    "- мероним/has-part – стул -> ножка (chair -> leg)\n",
    "- антоним – белое -> черное (white -> black)"
   ]
  },
  {
   "cell_type": "code",
   "execution_count": 1,
   "metadata": {
    "colab": {
     "base_uri": "https://localhost:8080/"
    },
    "executionInfo": {
     "elapsed": 1675,
     "status": "ok",
     "timestamp": 1608631815037,
     "user": {
      "displayName": "Lena Babenko",
      "photoUrl": "https://lh3.googleusercontent.com/a-/AOh14GgIOr3g5xv4-oHRcjRbY8fpqR1vJA-YHd8usdYT=s64",
      "userId": "08845527427137976134"
     },
     "user_tz": -180
    },
    "id": "HONz1ZskXCfN",
    "outputId": "04bcfafc-b503-44d8-ce9e-62b563e7892e"
   },
   "outputs": [
    {
     "name": "stderr",
     "output_type": "stream",
     "text": [
      "[nltk_data] Downloading package wordnet to /Users/maria/nltk_data...\n"
     ]
    },
    {
     "data": {
      "text/plain": [
       "True"
      ]
     },
     "execution_count": 1,
     "metadata": {},
     "output_type": "execute_result"
    }
   ],
   "source": [
    "import nltk\n",
    "nltk.download('wordnet')"
   ]
  },
  {
   "cell_type": "code",
   "execution_count": 2,
   "metadata": {
    "executionInfo": {
     "elapsed": 688,
     "status": "ok",
     "timestamp": 1608631830345,
     "user": {
      "displayName": "Lena Babenko",
      "photoUrl": "https://lh3.googleusercontent.com/a-/AOh14GgIOr3g5xv4-oHRcjRbY8fpqR1vJA-YHd8usdYT=s64",
      "userId": "08845527427137976134"
     },
     "user_tz": -180
    },
    "id": "wuSqLiOEX9v5"
   },
   "outputs": [],
   "source": [
    "from nltk.corpus import wordnet"
   ]
  },
  {
   "cell_type": "markdown",
   "metadata": {
    "id": "-wduWrlJwAhR"
   },
   "source": [
    "Здесь мы составим вспомогательный dict, для вывода более красивого print \n",
    "\n",
    "Части речи в WordNet обозначаются одной буквой - 'n', 'v' etc \n",
    "\n",
    "Нам же чисто визуально удобнее смотреть на более полное название - сопоставим ключу 'n' в качестве значения слово 'noun' и так далее для всех остальных частей речи. "
   ]
  },
  {
   "cell_type": "code",
   "execution_count": 3,
   "metadata": {
    "executionInfo": {
     "elapsed": 696,
     "status": "ok",
     "timestamp": 1608631836601,
     "user": {
      "displayName": "Lena Babenko",
      "photoUrl": "https://lh3.googleusercontent.com/a-/AOh14GgIOr3g5xv4-oHRcjRbY8fpqR1vJA-YHd8usdYT=s64",
      "userId": "08845527427137976134"
     },
     "user_tz": -180
    },
    "id": "klmdg2aTXCfN"
   },
   "outputs": [],
   "source": [
    "poses = {'n': 'noun', 'v': 'verb', 's': 'adj (s)', 'a': 'adj', 'r': 'adv'}"
   ]
  },
  {
   "cell_type": "markdown",
   "metadata": {
    "id": "y84neV1iXCfN"
   },
   "source": [
    "Давайте выведем на экран все синсеты слова \"good\":"
   ]
  },
  {
   "cell_type": "code",
   "execution_count": 4,
   "metadata": {
    "colab": {
     "base_uri": "https://localhost:8080/"
    },
    "executionInfo": {
     "elapsed": 620,
     "status": "ok",
     "timestamp": 1608631867101,
     "user": {
      "displayName": "Lena Babenko",
      "photoUrl": "https://lh3.googleusercontent.com/a-/AOh14GgIOr3g5xv4-oHRcjRbY8fpqR1vJA-YHd8usdYT=s64",
      "userId": "08845527427137976134"
     },
     "user_tz": -180
    },
    "id": "d0frt0H0XCfN",
    "outputId": "ee17a4a6-430a-4563-c755-0828ba34e335"
   },
   "outputs": [
    {
     "name": "stdout",
     "output_type": "stream",
     "text": [
      "noun: good\n",
      "noun: good, goodness\n",
      "noun: good, goodness\n",
      "noun: commodity, trade_good, good\n",
      "adj: good\n",
      "adj (s): full, good\n",
      "adj: good\n",
      "adj (s): estimable, good, honorable, respectable\n",
      "adj (s): beneficial, good\n",
      "adj (s): good\n",
      "adj (s): good, just, upright\n",
      "adj (s): adept, expert, good, practiced, proficient, skillful, skilful\n",
      "adj (s): good\n",
      "adj (s): dear, good, near\n",
      "adj (s): dependable, good, safe, secure\n",
      "adj (s): good, right, ripe\n",
      "adj (s): good, well\n",
      "adj (s): effective, good, in_effect, in_force\n",
      "adj (s): good\n",
      "adj (s): good, serious\n",
      "adj (s): good, sound\n",
      "adj (s): good, salutary\n",
      "adj (s): good, honest\n",
      "adj (s): good, undecomposed, unspoiled, unspoilt\n",
      "adj (s): good\n",
      "adv: well, good\n",
      "adv: thoroughly, soundly, good\n"
     ]
    }
   ],
   "source": [
    "good = wordnet.synsets(\"good\")\n",
    "for synset in good: \n",
    "    print(f'{poses[synset.pos()]}: {\", \".join([l.name() for l in synset.lemmas()])}')"
   ]
  },
  {
   "cell_type": "markdown",
   "metadata": {
    "id": "uLYfYugCXCfO"
   },
   "source": [
    "Теперь найдемы **гиперонимы** к слову \"elephant\"\n",
    "\n",
    "**Гипероним** - слово с более широким значением, выражающее общее, родовое понятие, название класса (множества) предметов (свойств, признаков).\n",
    "\n",
    "[source](https://ru.wikipedia.org/wiki/%D0%93%D0%B8%D0%BF%D0%BE%D0%BD%D0%B8%D0%BC_%D0%B8_%D0%B3%D0%B8%D0%BF%D0%B5%D1%80%D0%BE%D0%BD%D0%B8%D0%BC)"
   ]
  },
  {
   "cell_type": "code",
   "execution_count": 5,
   "metadata": {
    "colab": {
     "base_uri": "https://localhost:8080/"
    },
    "executionInfo": {
     "elapsed": 683,
     "status": "ok",
     "timestamp": 1608631875984,
     "user": {
      "displayName": "Lena Babenko",
      "photoUrl": "https://lh3.googleusercontent.com/a-/AOh14GgIOr3g5xv4-oHRcjRbY8fpqR1vJA-YHd8usdYT=s64",
      "userId": "08845527427137976134"
     },
     "user_tz": -180
    },
    "id": "pzz5joyJXCfO",
    "outputId": "2ac12349-b7aa-4479-bc0e-c2d73a28fc09"
   },
   "outputs": [
    {
     "data": {
      "text/plain": [
       "[Synset('pachyderm.n.01'),\n",
       " Synset('proboscidean.n.01'),\n",
       " Synset('placental.n.01'),\n",
       " Synset('placental.n.01'),\n",
       " Synset('mammal.n.01'),\n",
       " Synset('mammal.n.01'),\n",
       " Synset('vertebrate.n.01'),\n",
       " Synset('vertebrate.n.01'),\n",
       " Synset('chordate.n.01'),\n",
       " Synset('chordate.n.01'),\n",
       " Synset('animal.n.01'),\n",
       " Synset('animal.n.01'),\n",
       " Synset('organism.n.01'),\n",
       " Synset('organism.n.01'),\n",
       " Synset('living_thing.n.01'),\n",
       " Synset('living_thing.n.01'),\n",
       " Synset('whole.n.02'),\n",
       " Synset('whole.n.02'),\n",
       " Synset('object.n.01'),\n",
       " Synset('object.n.01'),\n",
       " Synset('physical_entity.n.01'),\n",
       " Synset('physical_entity.n.01'),\n",
       " Synset('entity.n.01'),\n",
       " Synset('entity.n.01')]"
      ]
     },
     "execution_count": 5,
     "metadata": {},
     "output_type": "execute_result"
    }
   ],
   "source": [
    "elephant = wordnet.synset(\"elephant.n.01\")\n",
    "hypernym = lambda s: s.hypernyms()\n",
    "list(elephant.closure(hypernym))"
   ]
  },
  {
   "cell_type": "markdown",
   "metadata": {
    "id": "xguC2rlFwn_0"
   },
   "source": [
    "Проблемы использования **WordNet**:\n",
    "- это отличный ресурс, в котором очень много данных, однако он опускает некоторые нюансы, на которые отличается смысл слов. \n",
    "\n",
    "Например, *“good”* – «хороший» иp *“proficient”* – «опытный», «искусный». Эти слова будут находиться вместе в одном из синсетов для слова *“good”*, т.е. согласно WordNet иметь схожий смысл, однако, как даже видно по переводу, они все же имеют разный смысл.\n",
    "- здесь отсутствует смысл достаточно новых слов –*”stan”* (новое слово в английском языке, означает “невероятно увлеченный и преданный фанат” - “stalker-fan”),  *“badass”* – WordNet невероятно сложно поддерживать в актуальном состоянии, так как его необходимо обновлять вручную и нанимать дорогостоящих специалистов — такие вещи обычно не доверяют случайным толокерам.\n",
    "\n",
    "- сложно вычислить точную «близость» слов друг к другу по смыслу. \n",
    "\n",
    "Так как WordNet по сути состоит из неизменяемых дискретных наборов связей между словами, так что если у нас есть слово, которое близко по значению к заданному, но отсутствует в синсете для заданного слова, мы не сможем никак узнать, что они похожи по смыслу и использовать это. Например слова *“good”* и *“marvelous”* похожи по значению в разных контекстах, однако мы не узнаем об этом, используя WordNet, т.к. они отсутствуют друг у друга в синсетах\n"
   ]
  },
  {
   "cell_type": "markdown",
   "metadata": {
    "id": "wSFoHPpJXCfO"
   },
   "source": [
    "Пример определения близости слов с помощью одного из методов WordNet - **path_similarity**\n",
    "\n",
    "**path_similarity** возвращает \"оценку\" близости - число от 0 до 1 - на основе кратчайшего пути, который соединяет слова в таксономии is-a (гипероним/гипноим)"
   ]
  },
  {
   "cell_type": "code",
   "execution_count": 6,
   "metadata": {
    "id": "fppwLYQSXCfO"
   },
   "outputs": [
    {
     "name": "stdout",
     "output_type": "stream",
     "text": [
      "1.0\n",
      "0.2\n",
      "0.09090909090909091\n"
     ]
    }
   ],
   "source": [
    "cat = wordnet.synset(\"cat.n.01\")\n",
    "dog = wordnet.synset(\"dog.n.01\")\n",
    "kitten = wordnet.synset(\"kitten.n.01\")\n",
    "print(cat.path_similarity(cat))\n",
    "print(cat.path_similarity(dog))\n",
    "print(cat.path_similarity(kitten))"
   ]
  },
  {
   "cell_type": "markdown",
   "metadata": {
    "id": "xbOpYXDmXCfO"
   },
   "source": [
    "Работает не очень, правда? :)"
   ]
  },
  {
   "cell_type": "markdown",
   "metadata": {
    "id": "Jgdt8f2hXCfP"
   },
   "source": [
    "Mожно вывести на экран определение слова:"
   ]
  },
  {
   "cell_type": "code",
   "execution_count": 7,
   "metadata": {
    "id": "Qw92uoU4XCfP"
   },
   "outputs": [
    {
     "data": {
      "text/plain": [
       "'a graded change in the magnitude of some physical quantity or dimension'"
      ]
     },
     "execution_count": 7,
     "metadata": {},
     "output_type": "execute_result"
    }
   ],
   "source": [
    "gradient = wordnet.synset(\"gradient.n.01\")\n",
    "gradient.definition()"
   ]
  },
  {
   "cell_type": "markdown",
   "metadata": {
    "id": "-_sM8i8KXCfP"
   },
   "source": [
    "Попробуйте сами вывести, например, антонимы к слову \"wicked\" с помощью метода antonyms()"
   ]
  }
 ],
 "metadata": {
  "colab": {
   "collapsed_sections": [],
   "name": "WordNet.ipynb",
   "provenance": []
  },
  "kernelspec": {
   "display_name": "Python 3 (ipykernel)",
   "language": "python",
   "name": "python3"
  },
  "language_info": {
   "codemirror_mode": {
    "name": "ipython",
    "version": 3
   },
   "file_extension": ".py",
   "mimetype": "text/x-python",
   "name": "python",
   "nbconvert_exporter": "python",
   "pygments_lexer": "ipython3",
   "version": "3.9.7"
  }
 },
 "nbformat": 4,
 "nbformat_minor": 1
}
