{
  "cells": [
    {
      "cell_type": "markdown",
      "metadata": {
        "id": "view-in-github",
        "colab_type": "text"
      },
      "source": [
        "<a href=\"https://colab.research.google.com/github/MariaZharova/Skillfactory_projects/blob/main/MFTIDS%20/NLP_lectures/%D0%9B%D0%B5%D0%BA%D1%86%D0%B8%D1%8F_9_NER_BERT_HuggingFace.ipynb\" target=\"_parent\"><img src=\"https://colab.research.google.com/assets/colab-badge.svg\" alt=\"Open In Colab\"/></a>"
      ]
    },
    {
      "cell_type": "markdown",
      "metadata": {
        "id": "FMVpEpYg4Oo6"
      },
      "source": [
        "# NER example using BERT\n",
        "\n",
        "You can download dataset from [here](https://www.kaggle.com/abhinavwalia95/entity-annotated-corpus#ner_dataset.csv)"
      ]
    },
    {
      "cell_type": "code",
      "source": [
        "!pip install seqeval\n",
        "# !pip install transformers==2.6.0"
      ],
      "metadata": {
        "colab": {
          "base_uri": "https://localhost:8080/"
        },
        "id": "90jxLnEdlPTP",
        "outputId": "33b16473-e126-496d-d657-1c1f1f4cf154"
      },
      "execution_count": null,
      "outputs": [
        {
          "output_type": "stream",
          "name": "stdout",
          "text": [
            "Requirement already satisfied: seqeval in /usr/local/lib/python3.10/dist-packages (1.2.2)\n",
            "Requirement already satisfied: numpy>=1.14.0 in /usr/local/lib/python3.10/dist-packages (from seqeval) (1.26.4)\n",
            "Requirement already satisfied: scikit-learn>=0.21.3 in /usr/local/lib/python3.10/dist-packages (from seqeval) (1.5.2)\n",
            "Requirement already satisfied: scipy>=1.6.0 in /usr/local/lib/python3.10/dist-packages (from scikit-learn>=0.21.3->seqeval) (1.13.1)\n",
            "Requirement already satisfied: joblib>=1.2.0 in /usr/local/lib/python3.10/dist-packages (from scikit-learn>=0.21.3->seqeval) (1.4.2)\n",
            "Requirement already satisfied: threadpoolctl>=3.1.0 in /usr/local/lib/python3.10/dist-packages (from scikit-learn>=0.21.3->seqeval) (3.5.0)\n"
          ]
        }
      ]
    },
    {
      "cell_type": "code",
      "source": [
        "import pandas as pd\n",
        "import numpy as np\n",
        "import seaborn as sns\n",
        "import matplotlib.pyplot as plt\n",
        "from tqdm import tqdm, trange\n",
        "\n",
        "import torch\n",
        "import transformers\n",
        "from torch.utils.data import TensorDataset, DataLoader, RandomSampler, SequentialSampler\n",
        "from transformers import (\n",
        "    BertTokenizer, BertConfig, AutoTokenizer, AdamW,\n",
        "    get_linear_schedule_with_warmup, BertForTokenClassification\n",
        ")\n",
        "from keras.preprocessing.sequence import pad_sequences\n",
        "from sklearn.model_selection import train_test_split\n",
        "from seqeval.metrics import f1_score\n",
        "\n",
        "%matplotlib inline\n",
        "torch.__version__"
      ],
      "metadata": {
        "colab": {
          "base_uri": "https://localhost:8080/",
          "height": 35
        },
        "id": "BhxvG-VEhp_M",
        "outputId": "1accdea4-5b28-4295-8663-c8c66e83229a"
      },
      "execution_count": null,
      "outputs": [
        {
          "output_type": "execute_result",
          "data": {
            "text/plain": [
              "'2.4.1+cu121'"
            ],
            "application/vnd.google.colaboratory.intrinsic+json": {
              "type": "string"
            }
          },
          "metadata": {},
          "execution_count": 2
        }
      ]
    },
    {
      "cell_type": "code",
      "source": [
        "from google.colab import drive\n",
        "drive.mount('/content/drive')"
      ],
      "metadata": {
        "colab": {
          "base_uri": "https://localhost:8080/"
        },
        "id": "qqM84P1z0nQW",
        "outputId": "52175fc5-1198-45de-8179-bc45b04eb87f"
      },
      "execution_count": null,
      "outputs": [
        {
          "output_type": "stream",
          "name": "stdout",
          "text": [
            "Drive already mounted at /content/drive; to attempt to forcibly remount, call drive.mount(\"/content/drive\", force_remount=True).\n"
          ]
        }
      ]
    },
    {
      "cell_type": "code",
      "execution_count": null,
      "metadata": {
        "colab": {
          "base_uri": "https://localhost:8080/",
          "height": 579
        },
        "id": "8heLY7fqiJCk",
        "outputId": "475fbec5-d0ab-41f4-c047-dbc45b22ee2b"
      },
      "outputs": [
        {
          "output_type": "stream",
          "name": "stderr",
          "text": [
            "<ipython-input-4-43e477c0ac8e>:5: FutureWarning: DataFrame.fillna with 'method' is deprecated and will raise in a future version. Use obj.ffill() or obj.bfill() instead.\n",
            "  data = data.fillna(method=\"ffill\")\n",
            "<ipython-input-4-43e477c0ac8e>:8: FutureWarning: A value is trying to be set on a copy of a DataFrame or Series through chained assignment using an inplace method.\n",
            "The behavior will change in pandas 3.0. This inplace method will never work because the intermediate object on which we are setting values always behaves as a copy.\n",
            "\n",
            "For example, when doing 'df[col].method(value, inplace=True)', try using 'df.method({col: value}, inplace=True)' or df[col] = df[col].method(value) instead, to perform the operation inplace on the original object.\n",
            "\n",
            "\n",
            "  data[\"Sentence #\"].fillna(method=\"ffill\", inplace = True)\n",
            "<ipython-input-4-43e477c0ac8e>:8: FutureWarning: Series.fillna with 'method' is deprecated and will raise in a future version. Use obj.ffill() or obj.bfill() instead.\n",
            "  data[\"Sentence #\"].fillna(method=\"ffill\", inplace = True)\n"
          ]
        },
        {
          "output_type": "execute_result",
          "data": {
            "text/plain": [
              "              Sentence #       Word  POS    Tag\n",
              "1048566  Sentence: 47958     impact   NN      O\n",
              "1048567  Sentence: 47958          .    .      O\n",
              "1048568  Sentence: 47959     Indian   JJ  B-gpe\n",
              "1048569  Sentence: 47959     forces  NNS      O\n",
              "1048570  Sentence: 47959       said  VBD      O\n",
              "1048571  Sentence: 47959       they  PRP      O\n",
              "1048572  Sentence: 47959  responded  VBD      O\n",
              "1048573  Sentence: 47959         to   TO      O\n",
              "1048574  Sentence: 47959        the   DT      O\n",
              "1048575  Sentence: 47959     attack   NN      O"
            ],
            "text/html": [
              "\n",
              "  <div id=\"df-3ffa1bfe-bd71-44af-a66a-9321406d331f\" class=\"colab-df-container\">\n",
              "    <div>\n",
              "<style scoped>\n",
              "    .dataframe tbody tr th:only-of-type {\n",
              "        vertical-align: middle;\n",
              "    }\n",
              "\n",
              "    .dataframe tbody tr th {\n",
              "        vertical-align: top;\n",
              "    }\n",
              "\n",
              "    .dataframe thead th {\n",
              "        text-align: right;\n",
              "    }\n",
              "</style>\n",
              "<table border=\"1\" class=\"dataframe\">\n",
              "  <thead>\n",
              "    <tr style=\"text-align: right;\">\n",
              "      <th></th>\n",
              "      <th>Sentence #</th>\n",
              "      <th>Word</th>\n",
              "      <th>POS</th>\n",
              "      <th>Tag</th>\n",
              "    </tr>\n",
              "  </thead>\n",
              "  <tbody>\n",
              "    <tr>\n",
              "      <th>1048566</th>\n",
              "      <td>Sentence: 47958</td>\n",
              "      <td>impact</td>\n",
              "      <td>NN</td>\n",
              "      <td>O</td>\n",
              "    </tr>\n",
              "    <tr>\n",
              "      <th>1048567</th>\n",
              "      <td>Sentence: 47958</td>\n",
              "      <td>.</td>\n",
              "      <td>.</td>\n",
              "      <td>O</td>\n",
              "    </tr>\n",
              "    <tr>\n",
              "      <th>1048568</th>\n",
              "      <td>Sentence: 47959</td>\n",
              "      <td>Indian</td>\n",
              "      <td>JJ</td>\n",
              "      <td>B-gpe</td>\n",
              "    </tr>\n",
              "    <tr>\n",
              "      <th>1048569</th>\n",
              "      <td>Sentence: 47959</td>\n",
              "      <td>forces</td>\n",
              "      <td>NNS</td>\n",
              "      <td>O</td>\n",
              "    </tr>\n",
              "    <tr>\n",
              "      <th>1048570</th>\n",
              "      <td>Sentence: 47959</td>\n",
              "      <td>said</td>\n",
              "      <td>VBD</td>\n",
              "      <td>O</td>\n",
              "    </tr>\n",
              "    <tr>\n",
              "      <th>1048571</th>\n",
              "      <td>Sentence: 47959</td>\n",
              "      <td>they</td>\n",
              "      <td>PRP</td>\n",
              "      <td>O</td>\n",
              "    </tr>\n",
              "    <tr>\n",
              "      <th>1048572</th>\n",
              "      <td>Sentence: 47959</td>\n",
              "      <td>responded</td>\n",
              "      <td>VBD</td>\n",
              "      <td>O</td>\n",
              "    </tr>\n",
              "    <tr>\n",
              "      <th>1048573</th>\n",
              "      <td>Sentence: 47959</td>\n",
              "      <td>to</td>\n",
              "      <td>TO</td>\n",
              "      <td>O</td>\n",
              "    </tr>\n",
              "    <tr>\n",
              "      <th>1048574</th>\n",
              "      <td>Sentence: 47959</td>\n",
              "      <td>the</td>\n",
              "      <td>DT</td>\n",
              "      <td>O</td>\n",
              "    </tr>\n",
              "    <tr>\n",
              "      <th>1048575</th>\n",
              "      <td>Sentence: 47959</td>\n",
              "      <td>attack</td>\n",
              "      <td>NN</td>\n",
              "      <td>O</td>\n",
              "    </tr>\n",
              "  </tbody>\n",
              "</table>\n",
              "</div>\n",
              "    <div class=\"colab-df-buttons\">\n",
              "\n",
              "  <div class=\"colab-df-container\">\n",
              "    <button class=\"colab-df-convert\" onclick=\"convertToInteractive('df-3ffa1bfe-bd71-44af-a66a-9321406d331f')\"\n",
              "            title=\"Convert this dataframe to an interactive table.\"\n",
              "            style=\"display:none;\">\n",
              "\n",
              "  <svg xmlns=\"http://www.w3.org/2000/svg\" height=\"24px\" viewBox=\"0 -960 960 960\">\n",
              "    <path d=\"M120-120v-720h720v720H120Zm60-500h600v-160H180v160Zm220 220h160v-160H400v160Zm0 220h160v-160H400v160ZM180-400h160v-160H180v160Zm440 0h160v-160H620v160ZM180-180h160v-160H180v160Zm440 0h160v-160H620v160Z\"/>\n",
              "  </svg>\n",
              "    </button>\n",
              "\n",
              "  <style>\n",
              "    .colab-df-container {\n",
              "      display:flex;\n",
              "      gap: 12px;\n",
              "    }\n",
              "\n",
              "    .colab-df-convert {\n",
              "      background-color: #E8F0FE;\n",
              "      border: none;\n",
              "      border-radius: 50%;\n",
              "      cursor: pointer;\n",
              "      display: none;\n",
              "      fill: #1967D2;\n",
              "      height: 32px;\n",
              "      padding: 0 0 0 0;\n",
              "      width: 32px;\n",
              "    }\n",
              "\n",
              "    .colab-df-convert:hover {\n",
              "      background-color: #E2EBFA;\n",
              "      box-shadow: 0px 1px 2px rgba(60, 64, 67, 0.3), 0px 1px 3px 1px rgba(60, 64, 67, 0.15);\n",
              "      fill: #174EA6;\n",
              "    }\n",
              "\n",
              "    .colab-df-buttons div {\n",
              "      margin-bottom: 4px;\n",
              "    }\n",
              "\n",
              "    [theme=dark] .colab-df-convert {\n",
              "      background-color: #3B4455;\n",
              "      fill: #D2E3FC;\n",
              "    }\n",
              "\n",
              "    [theme=dark] .colab-df-convert:hover {\n",
              "      background-color: #434B5C;\n",
              "      box-shadow: 0px 1px 3px 1px rgba(0, 0, 0, 0.15);\n",
              "      filter: drop-shadow(0px 1px 2px rgba(0, 0, 0, 0.3));\n",
              "      fill: #FFFFFF;\n",
              "    }\n",
              "  </style>\n",
              "\n",
              "    <script>\n",
              "      const buttonEl =\n",
              "        document.querySelector('#df-3ffa1bfe-bd71-44af-a66a-9321406d331f button.colab-df-convert');\n",
              "      buttonEl.style.display =\n",
              "        google.colab.kernel.accessAllowed ? 'block' : 'none';\n",
              "\n",
              "      async function convertToInteractive(key) {\n",
              "        const element = document.querySelector('#df-3ffa1bfe-bd71-44af-a66a-9321406d331f');\n",
              "        const dataTable =\n",
              "          await google.colab.kernel.invokeFunction('convertToInteractive',\n",
              "                                                    [key], {});\n",
              "        if (!dataTable) return;\n",
              "\n",
              "        const docLinkHtml = 'Like what you see? Visit the ' +\n",
              "          '<a target=\"_blank\" href=https://colab.research.google.com/notebooks/data_table.ipynb>data table notebook</a>'\n",
              "          + ' to learn more about interactive tables.';\n",
              "        element.innerHTML = '';\n",
              "        dataTable['output_type'] = 'display_data';\n",
              "        await google.colab.output.renderOutput(dataTable, element);\n",
              "        const docLink = document.createElement('div');\n",
              "        docLink.innerHTML = docLinkHtml;\n",
              "        element.appendChild(docLink);\n",
              "      }\n",
              "    </script>\n",
              "  </div>\n",
              "\n",
              "\n",
              "<div id=\"df-8c4050c5-7ae1-4256-9f8b-08420e712c7d\">\n",
              "  <button class=\"colab-df-quickchart\" onclick=\"quickchart('df-8c4050c5-7ae1-4256-9f8b-08420e712c7d')\"\n",
              "            title=\"Suggest charts\"\n",
              "            style=\"display:none;\">\n",
              "\n",
              "<svg xmlns=\"http://www.w3.org/2000/svg\" height=\"24px\"viewBox=\"0 0 24 24\"\n",
              "     width=\"24px\">\n",
              "    <g>\n",
              "        <path d=\"M19 3H5c-1.1 0-2 .9-2 2v14c0 1.1.9 2 2 2h14c1.1 0 2-.9 2-2V5c0-1.1-.9-2-2-2zM9 17H7v-7h2v7zm4 0h-2V7h2v10zm4 0h-2v-4h2v4z\"/>\n",
              "    </g>\n",
              "</svg>\n",
              "  </button>\n",
              "\n",
              "<style>\n",
              "  .colab-df-quickchart {\n",
              "      --bg-color: #E8F0FE;\n",
              "      --fill-color: #1967D2;\n",
              "      --hover-bg-color: #E2EBFA;\n",
              "      --hover-fill-color: #174EA6;\n",
              "      --disabled-fill-color: #AAA;\n",
              "      --disabled-bg-color: #DDD;\n",
              "  }\n",
              "\n",
              "  [theme=dark] .colab-df-quickchart {\n",
              "      --bg-color: #3B4455;\n",
              "      --fill-color: #D2E3FC;\n",
              "      --hover-bg-color: #434B5C;\n",
              "      --hover-fill-color: #FFFFFF;\n",
              "      --disabled-bg-color: #3B4455;\n",
              "      --disabled-fill-color: #666;\n",
              "  }\n",
              "\n",
              "  .colab-df-quickchart {\n",
              "    background-color: var(--bg-color);\n",
              "    border: none;\n",
              "    border-radius: 50%;\n",
              "    cursor: pointer;\n",
              "    display: none;\n",
              "    fill: var(--fill-color);\n",
              "    height: 32px;\n",
              "    padding: 0;\n",
              "    width: 32px;\n",
              "  }\n",
              "\n",
              "  .colab-df-quickchart:hover {\n",
              "    background-color: var(--hover-bg-color);\n",
              "    box-shadow: 0 1px 2px rgba(60, 64, 67, 0.3), 0 1px 3px 1px rgba(60, 64, 67, 0.15);\n",
              "    fill: var(--button-hover-fill-color);\n",
              "  }\n",
              "\n",
              "  .colab-df-quickchart-complete:disabled,\n",
              "  .colab-df-quickchart-complete:disabled:hover {\n",
              "    background-color: var(--disabled-bg-color);\n",
              "    fill: var(--disabled-fill-color);\n",
              "    box-shadow: none;\n",
              "  }\n",
              "\n",
              "  .colab-df-spinner {\n",
              "    border: 2px solid var(--fill-color);\n",
              "    border-color: transparent;\n",
              "    border-bottom-color: var(--fill-color);\n",
              "    animation:\n",
              "      spin 1s steps(1) infinite;\n",
              "  }\n",
              "\n",
              "  @keyframes spin {\n",
              "    0% {\n",
              "      border-color: transparent;\n",
              "      border-bottom-color: var(--fill-color);\n",
              "      border-left-color: var(--fill-color);\n",
              "    }\n",
              "    20% {\n",
              "      border-color: transparent;\n",
              "      border-left-color: var(--fill-color);\n",
              "      border-top-color: var(--fill-color);\n",
              "    }\n",
              "    30% {\n",
              "      border-color: transparent;\n",
              "      border-left-color: var(--fill-color);\n",
              "      border-top-color: var(--fill-color);\n",
              "      border-right-color: var(--fill-color);\n",
              "    }\n",
              "    40% {\n",
              "      border-color: transparent;\n",
              "      border-right-color: var(--fill-color);\n",
              "      border-top-color: var(--fill-color);\n",
              "    }\n",
              "    60% {\n",
              "      border-color: transparent;\n",
              "      border-right-color: var(--fill-color);\n",
              "    }\n",
              "    80% {\n",
              "      border-color: transparent;\n",
              "      border-right-color: var(--fill-color);\n",
              "      border-bottom-color: var(--fill-color);\n",
              "    }\n",
              "    90% {\n",
              "      border-color: transparent;\n",
              "      border-bottom-color: var(--fill-color);\n",
              "    }\n",
              "  }\n",
              "</style>\n",
              "\n",
              "  <script>\n",
              "    async function quickchart(key) {\n",
              "      const quickchartButtonEl =\n",
              "        document.querySelector('#' + key + ' button');\n",
              "      quickchartButtonEl.disabled = true;  // To prevent multiple clicks.\n",
              "      quickchartButtonEl.classList.add('colab-df-spinner');\n",
              "      try {\n",
              "        const charts = await google.colab.kernel.invokeFunction(\n",
              "            'suggestCharts', [key], {});\n",
              "      } catch (error) {\n",
              "        console.error('Error during call to suggestCharts:', error);\n",
              "      }\n",
              "      quickchartButtonEl.classList.remove('colab-df-spinner');\n",
              "      quickchartButtonEl.classList.add('colab-df-quickchart-complete');\n",
              "    }\n",
              "    (() => {\n",
              "      let quickchartButtonEl =\n",
              "        document.querySelector('#df-8c4050c5-7ae1-4256-9f8b-08420e712c7d button');\n",
              "      quickchartButtonEl.style.display =\n",
              "        google.colab.kernel.accessAllowed ? 'block' : 'none';\n",
              "    })();\n",
              "  </script>\n",
              "</div>\n",
              "    </div>\n",
              "  </div>\n"
            ],
            "application/vnd.google.colaboratory.intrinsic+json": {
              "type": "dataframe",
              "summary": "{\n  \"name\": \"data\",\n  \"rows\": 10,\n  \"fields\": [\n    {\n      \"column\": \"Sentence #\",\n      \"properties\": {\n        \"dtype\": \"category\",\n        \"num_unique_values\": 2,\n        \"samples\": [\n          \"Sentence: 47959\",\n          \"Sentence: 47958\"\n        ],\n        \"semantic_type\": \"\",\n        \"description\": \"\"\n      }\n    },\n    {\n      \"column\": \"Word\",\n      \"properties\": {\n        \"dtype\": \"string\",\n        \"num_unique_values\": 10,\n        \"samples\": [\n          \"the\",\n          \".\"\n        ],\n        \"semantic_type\": \"\",\n        \"description\": \"\"\n      }\n    },\n    {\n      \"column\": \"POS\",\n      \"properties\": {\n        \"dtype\": \"string\",\n        \"num_unique_values\": 8,\n        \"samples\": [\n          \".\",\n          \"PRP\"\n        ],\n        \"semantic_type\": \"\",\n        \"description\": \"\"\n      }\n    },\n    {\n      \"column\": \"Tag\",\n      \"properties\": {\n        \"dtype\": \"category\",\n        \"num_unique_values\": 2,\n        \"samples\": [\n          \"B-gpe\",\n          \"O\"\n        ],\n        \"semantic_type\": \"\",\n        \"description\": \"\"\n      }\n    }\n  ]\n}"
            }
          },
          "metadata": {},
          "execution_count": 4
        }
      ],
      "source": [
        "# path to dataset in your google-drive\n",
        "PATH = '/content/drive/MyDrive/Colab Notebooks/NER_example/ner_dataset.csv'\n",
        "\n",
        "data = pd.read_csv(PATH, header=None, encoding= 'unicode_escape')\n",
        "data = data.fillna(method=\"ffill\")\n",
        "data = data.rename(columns=data.iloc[0]).drop(data.index[0])\n",
        "data.replace('', np.nan, regex=True, inplace = True)\n",
        "data[\"Sentence #\"].fillna(method=\"ffill\", inplace = True)\n",
        "data.tail(10)"
      ]
    },
    {
      "cell_type": "markdown",
      "metadata": {
        "id": "CBOLG-1WjwWh"
      },
      "source": [
        "## Data Preprocessing"
      ]
    },
    {
      "cell_type": "code",
      "execution_count": null,
      "metadata": {
        "id": "4xEwKJHI00Wx"
      },
      "outputs": [],
      "source": [
        "class SentenceGetter(object):\n",
        "    def __init__(self, data):\n",
        "        self.n_sent = 1\n",
        "        self.data = data\n",
        "        self.empty = False\n",
        "        agg_func = lambda s: [(w, p, t) for w, p, t in zip(s[\"Word\"].values.tolist(),\n",
        "                                                           s[\"POS\"].values.tolist(),\n",
        "                                                           s[\"Tag\"].values.tolist())]\n",
        "        self.grouped = self.data.groupby(\"Sentence #\").apply(agg_func)\n",
        "        self.sentences = [s for s in self.grouped]\n",
        "\n",
        "    def get_next(self):\n",
        "        try:\n",
        "            s = self.grouped[f\"Sentence: {self.n_sent}\"]\n",
        "            self.n_sent += 1\n",
        "            return s\n",
        "        except:\n",
        "            return None"
      ]
    },
    {
      "cell_type": "code",
      "execution_count": null,
      "metadata": {
        "id": "9t3wcM6k00Wy",
        "colab": {
          "base_uri": "https://localhost:8080/"
        },
        "outputId": "cd04615b-4f52-4f1d-ce22-dfbdf32798c1"
      },
      "outputs": [
        {
          "output_type": "stream",
          "name": "stderr",
          "text": [
            "<ipython-input-5-76a8cf44a7c3>:9: DeprecationWarning: DataFrameGroupBy.apply operated on the grouping columns. This behavior is deprecated, and in a future version of pandas the grouping columns will be excluded from the operation. Either pass `include_groups=False` to exclude the groupings or explicitly select the grouping columns after groupby to silence this warning.\n",
            "  self.grouped = self.data.groupby(\"Sentence #\").apply(agg_func)\n"
          ]
        }
      ],
      "source": [
        "getter = SentenceGetter(data)"
      ]
    },
    {
      "cell_type": "code",
      "execution_count": null,
      "metadata": {
        "colab": {
          "base_uri": "https://localhost:8080/"
        },
        "id": "i81H9HGQ00W0",
        "outputId": "d9cd64c0-cadf-4a78-8cdc-d6411caf684d"
      },
      "outputs": [
        {
          "output_type": "execute_result",
          "data": {
            "text/plain": [
              "['Three',\n",
              " 'major',\n",
              " 'banks',\n",
              " 'have',\n",
              " 'collapsed',\n",
              " ',',\n",
              " 'unemployment',\n",
              " 'has',\n",
              " 'soared',\n",
              " ',',\n",
              " 'and',\n",
              " 'the',\n",
              " 'value',\n",
              " 'of',\n",
              " 'the',\n",
              " 'krona',\n",
              " 'has',\n",
              " 'plunged',\n",
              " '.']"
            ]
          },
          "metadata": {},
          "execution_count": 7
        }
      ],
      "source": [
        "sentences = [[word[0] for word in sentence] for sentence in getter.sentences]\n",
        "sentences[25]"
      ]
    },
    {
      "cell_type": "code",
      "execution_count": null,
      "metadata": {
        "colab": {
          "base_uri": "https://localhost:8080/"
        },
        "id": "63TushFz00W2",
        "outputId": "21113f5a-f715-48b3-e5ec-de26a67e1ea0"
      },
      "outputs": [
        {
          "output_type": "stream",
          "name": "stdout",
          "text": [
            "['O', 'B-geo', 'O', 'O', 'O', 'O', 'O', 'O', 'O', 'O', 'O', 'O', 'O', 'O', 'B-org', 'I-org', 'O', 'O', 'B-geo', 'I-geo', 'O', 'B-per', 'O', 'B-per', 'I-per', 'O', 'O', 'B-gpe', 'O', 'O', 'O', 'O', 'O', 'O', 'O', 'O', 'O', 'O', 'O', 'O']\n"
          ]
        }
      ],
      "source": [
        "labels = [[s[2] for s in sent] for sent in getter.sentences]\n",
        "print(labels[10])"
      ]
    },
    {
      "cell_type": "code",
      "execution_count": null,
      "metadata": {
        "id": "QmJmOOyi00W4"
      },
      "outputs": [],
      "source": [
        "tag_values = list(set(data[\"Tag\"].values))\n",
        "tag_values.append(\"PAD\")\n",
        "tag2idx = {t: i for i, t in enumerate(tag_values)}"
      ]
    },
    {
      "cell_type": "markdown",
      "metadata": {
        "id": "h9bAcAtt00W5"
      },
      "source": [
        "## Tokenization"
      ]
    },
    {
      "cell_type": "code",
      "execution_count": null,
      "metadata": {
        "id": "xFasKLK700W8"
      },
      "outputs": [],
      "source": [
        "MAX_LEN = 75 # Sentence Max length\n",
        "bs = 32 # Batch size"
      ]
    },
    {
      "cell_type": "code",
      "execution_count": null,
      "metadata": {
        "colab": {
          "base_uri": "https://localhost:8080/"
        },
        "id": "5yJx-OwI00W9",
        "outputId": "5460e783-77ba-47e8-d33a-a55eac4e363e"
      },
      "outputs": [
        {
          "output_type": "execute_result",
          "data": {
            "text/plain": [
              "True"
            ]
          },
          "metadata": {},
          "execution_count": 11
        }
      ],
      "source": [
        "torch.cuda.is_available()"
      ]
    },
    {
      "cell_type": "code",
      "execution_count": null,
      "metadata": {
        "colab": {
          "base_uri": "https://localhost:8080/",
          "height": 35
        },
        "id": "UC3uaIeY00W_",
        "outputId": "54920f39-63e3-400f-f63c-f86baa3b3eaf"
      },
      "outputs": [
        {
          "output_type": "execute_result",
          "data": {
            "text/plain": [
              "'Tesla T4'"
            ],
            "application/vnd.google.colaboratory.intrinsic+json": {
              "type": "string"
            }
          },
          "metadata": {},
          "execution_count": 12
        }
      ],
      "source": [
        "# check GPU\n",
        "device = torch.device(\"cuda\" if torch.cuda.is_available() else \"cpu\")\n",
        "n_gpu = torch.cuda.device_count()\n",
        "torch.cuda.get_device_name(0)"
      ]
    },
    {
      "cell_type": "code",
      "source": [
        "def tokenize_and_preserve_labels(sentence, text_labels):\n",
        "    tokenized_sentence = []\n",
        "    labels = []\n",
        "\n",
        "    for word, label in zip(sentence, text_labels):\n",
        "        # Tokenize the word and count # of subwords the word is broken into\n",
        "        tokenized_word = tokenizer.tokenize(str(word))\n",
        "        n_subwords = len(tokenized_word)\n",
        "\n",
        "        # Add the tokenized word to the final tokenized word list\n",
        "        tokenized_sentence.extend(tokenized_word)\n",
        "\n",
        "        # Add the same label to the new list of labels `n_subwords` times\n",
        "        labels.extend([label] * n_subwords)\n",
        "\n",
        "    return tokenized_sentence, labels"
      ],
      "metadata": {
        "id": "aJGoNDaBki6M"
      },
      "execution_count": null,
      "outputs": []
    },
    {
      "cell_type": "code",
      "source": [
        "tokenizer = BertTokenizer.from_pretrained(\"bert-base-cased\")"
      ],
      "metadata": {
        "colab": {
          "base_uri": "https://localhost:8080/"
        },
        "id": "SYvM7p7noPdy",
        "outputId": "747482ef-9124-4eb7-91c4-7e0964b57c92"
      },
      "execution_count": null,
      "outputs": [
        {
          "output_type": "stream",
          "name": "stderr",
          "text": [
            "/usr/local/lib/python3.10/dist-packages/huggingface_hub/utils/_token.py:89: UserWarning: \n",
            "The secret `HF_TOKEN` does not exist in your Colab secrets.\n",
            "To authenticate with the Hugging Face Hub, create a token in your settings tab (https://huggingface.co/settings/tokens), set it as secret in your Google Colab and restart your session.\n",
            "You will be able to reuse this secret in all of your notebooks.\n",
            "Please note that authentication is recommended but still optional to access public models or datasets.\n",
            "  warnings.warn(\n",
            "/usr/local/lib/python3.10/dist-packages/transformers/tokenization_utils_base.py:1601: FutureWarning: `clean_up_tokenization_spaces` was not set. It will be set to `True` by default. This behavior will be depracted in transformers v4.45, and will be then set to `False` by default. For more details check this issue: https://github.com/huggingface/transformers/issues/31884\n",
            "  warnings.warn(\n"
          ]
        }
      ]
    },
    {
      "cell_type": "code",
      "execution_count": null,
      "metadata": {
        "id": "z6Vwn6kQSAe_",
        "colab": {
          "base_uri": "https://localhost:8080/"
        },
        "outputId": "5f2c5af0-fce8-41c8-9419-de8f06bc6c28"
      },
      "outputs": [
        {
          "output_type": "stream",
          "name": "stderr",
          "text": [
            "47959it [00:43, 1098.21it/s]\n"
          ]
        }
      ],
      "source": [
        "tokenized_texts_and_labels = list()\n",
        "\n",
        "for sent, labs in tqdm(zip(sentences, labels)):\n",
        "  tokenized_texts_and_labels.append(tokenize_and_preserve_labels(sent, labs))"
      ]
    },
    {
      "cell_type": "code",
      "execution_count": null,
      "metadata": {
        "id": "j5F8-7TdxUPY"
      },
      "outputs": [],
      "source": [
        "tokenized_texts = [token_label_pair[0] for token_label_pair in tokenized_texts_and_labels]\n",
        "labels = [token_label_pair[1] for token_label_pair in tokenized_texts_and_labels]"
      ]
    },
    {
      "cell_type": "code",
      "execution_count": null,
      "metadata": {
        "colab": {
          "base_uri": "https://localhost:8080/"
        },
        "id": "yk8dXH1b00XD",
        "outputId": "c0f887c1-9626-4f8b-cbe1-376a7be95bc3"
      },
      "outputs": [
        {
          "output_type": "stream",
          "name": "stdout",
          "text": [
            "['In', 'Beirut', ',', 'a', 'string', 'of', 'officials', 'voiced', 'their', 'anger', ',', 'while', 'at', 'the', 'United', 'Nations', 'summit', 'in', 'New', 'York', ',', 'Prime', 'Minister', 'F', '##ou', '##ad', 'Sin', '##ior', '##a', 'said', 'the', 'Lebanese', 'people', 'are', 're', '##sol', '##ute', 'in', 'preventing', 'such', 'attempts', 'from', 'destroying', 'their', 'spirit', '.']\n",
            "['O', 'B-geo', 'O', 'O', 'O', 'O', 'O', 'O', 'O', 'O', 'O', 'O', 'O', 'O', 'B-org', 'I-org', 'O', 'O', 'B-geo', 'I-geo', 'O', 'B-per', 'O', 'B-per', 'B-per', 'B-per', 'I-per', 'I-per', 'I-per', 'O', 'O', 'B-gpe', 'O', 'O', 'O', 'O', 'O', 'O', 'O', 'O', 'O', 'O', 'O', 'O', 'O', 'O']\n"
          ]
        }
      ],
      "source": [
        "print(tokenized_texts[10])\n",
        "print(labels[10])"
      ]
    },
    {
      "cell_type": "code",
      "execution_count": null,
      "metadata": {
        "id": "hFUVxgdr00XF"
      },
      "outputs": [],
      "source": [
        "input_ids = pad_sequences([tokenizer.convert_tokens_to_ids(txt) for txt in tokenized_texts],\n",
        "                          maxlen=MAX_LEN, dtype=\"long\", value=0.0,\n",
        "                          truncating=\"post\", padding=\"post\")"
      ]
    },
    {
      "cell_type": "code",
      "execution_count": null,
      "metadata": {
        "id": "lt4wtJ5t00XI"
      },
      "outputs": [],
      "source": [
        "tags = pad_sequences([[tag2idx.get(l) for l in lab] for lab in labels],\n",
        "                     maxlen=MAX_LEN, value=tag2idx[\"PAD\"], padding=\"post\",\n",
        "                     dtype=\"long\", truncating=\"post\")"
      ]
    },
    {
      "cell_type": "code",
      "execution_count": null,
      "metadata": {
        "id": "Z5V9bcLF00XK"
      },
      "outputs": [],
      "source": [
        "attention_masks = [[float(i>0) for i in ii] for ii in input_ids]"
      ]
    },
    {
      "cell_type": "code",
      "execution_count": null,
      "metadata": {
        "id": "AMdwomfI00XM"
      },
      "outputs": [],
      "source": [
        "tr_inputs, val_inputs, tr_tags, val_tags = train_test_split(input_ids, tags,\n",
        "                                                            random_state=2018, test_size=0.1)\n",
        "tr_masks, val_masks, _, _ = train_test_split(attention_masks, input_ids,\n",
        "                                             random_state=2018, test_size=0.1)"
      ]
    },
    {
      "cell_type": "code",
      "execution_count": null,
      "metadata": {
        "id": "1uFl85kt00XN"
      },
      "outputs": [],
      "source": [
        "tr_inputs = torch.tensor(tr_inputs)\n",
        "val_inputs = torch.tensor(val_inputs)\n",
        "tr_tags = torch.tensor(tr_tags)\n",
        "val_tags = torch.tensor(val_tags)\n",
        "tr_masks = torch.tensor(tr_masks)\n",
        "val_masks = torch.tensor(val_masks)"
      ]
    },
    {
      "cell_type": "markdown",
      "metadata": {
        "id": "5WbPFV4t00XP"
      },
      "source": [
        "The last step is to define the dataloaders. We shuffle the data at training time with the RandomSampler and at test time we just pass them sequentially with the SequentialSampler."
      ]
    },
    {
      "cell_type": "code",
      "execution_count": null,
      "metadata": {
        "id": "2ir7uWbe00XP"
      },
      "outputs": [],
      "source": [
        "train_data = TensorDataset(tr_inputs, tr_masks, tr_tags)\n",
        "train_sampler = RandomSampler(train_data)\n",
        "train_dataloader = DataLoader(train_data, sampler=train_sampler, batch_size=bs)\n",
        "\n",
        "valid_data = TensorDataset(val_inputs, val_masks, val_tags)\n",
        "valid_sampler = SequentialSampler(valid_data)\n",
        "valid_dataloader = DataLoader(valid_data, sampler=valid_sampler, batch_size=bs)"
      ]
    },
    {
      "cell_type": "markdown",
      "metadata": {
        "id": "OceKp1ux00XQ"
      },
      "source": [
        "### Setup the Bert model for finetuning"
      ]
    },
    {
      "cell_type": "markdown",
      "metadata": {
        "id": "TR0aSdEfDXGs"
      },
      "source": [
        "![image.png](data:image/png;base64,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)"
      ]
    },
    {
      "cell_type": "markdown",
      "metadata": {
        "id": "Y7wY-cVD00XR"
      },
      "source": [
        "The transformer package provides a BertForTokenClassification class for token-level predictions. BertForTokenClassification is a fine-tuning model that wraps BertModel and adds token-level classifier on top of the BertModel. The token-level classifier is a linear layer that takes as input the last hidden state of the sequence. We load the pre-trained bert-base-cased model and provide the number of possible labels."
      ]
    },
    {
      "cell_type": "code",
      "execution_count": null,
      "metadata": {
        "colab": {
          "base_uri": "https://localhost:8080/"
        },
        "id": "EJUceRxW00XR",
        "outputId": "3d54e45e-7707-47b9-a765-557ad194b699"
      },
      "outputs": [
        {
          "output_type": "execute_result",
          "data": {
            "text/plain": [
              "18"
            ]
          },
          "metadata": {},
          "execution_count": 24
        }
      ],
      "source": [
        "len(tag2idx)"
      ]
    },
    {
      "cell_type": "code",
      "execution_count": null,
      "metadata": {
        "colab": {
          "base_uri": "https://localhost:8080/"
        },
        "id": "bk8M8PCW00XX",
        "outputId": "739ed24c-58df-4b61-f316-08711f9c5b9d"
      },
      "outputs": [
        {
          "output_type": "stream",
          "name": "stderr",
          "text": [
            "Some weights of BertForTokenClassification were not initialized from the model checkpoint at bert-base-cased and are newly initialized: ['classifier.bias', 'classifier.weight']\n",
            "You should probably TRAIN this model on a down-stream task to be able to use it for predictions and inference.\n"
          ]
        }
      ],
      "source": [
        "model = BertForTokenClassification.from_pretrained(\n",
        "    \"bert-base-cased\",\n",
        "    num_labels=len(tag2idx),\n",
        "    output_attentions = False,\n",
        "    output_hidden_states = False\n",
        ")"
      ]
    },
    {
      "cell_type": "code",
      "execution_count": null,
      "metadata": {
        "colab": {
          "base_uri": "https://localhost:8080/"
        },
        "id": "3n19Bbdqydqq",
        "outputId": "fda63762-80d1-412e-b058-bcc6274018b7"
      },
      "outputs": [
        {
          "output_type": "execute_result",
          "data": {
            "text/plain": [
              "BertForTokenClassification(\n",
              "  (bert): BertModel(\n",
              "    (embeddings): BertEmbeddings(\n",
              "      (word_embeddings): Embedding(28996, 768, padding_idx=0)\n",
              "      (position_embeddings): Embedding(512, 768)\n",
              "      (token_type_embeddings): Embedding(2, 768)\n",
              "      (LayerNorm): LayerNorm((768,), eps=1e-12, elementwise_affine=True)\n",
              "      (dropout): Dropout(p=0.1, inplace=False)\n",
              "    )\n",
              "    (encoder): BertEncoder(\n",
              "      (layer): ModuleList(\n",
              "        (0-11): 12 x BertLayer(\n",
              "          (attention): BertAttention(\n",
              "            (self): BertSdpaSelfAttention(\n",
              "              (query): Linear(in_features=768, out_features=768, bias=True)\n",
              "              (key): Linear(in_features=768, out_features=768, bias=True)\n",
              "              (value): Linear(in_features=768, out_features=768, bias=True)\n",
              "              (dropout): Dropout(p=0.1, inplace=False)\n",
              "            )\n",
              "            (output): BertSelfOutput(\n",
              "              (dense): Linear(in_features=768, out_features=768, bias=True)\n",
              "              (LayerNorm): LayerNorm((768,), eps=1e-12, elementwise_affine=True)\n",
              "              (dropout): Dropout(p=0.1, inplace=False)\n",
              "            )\n",
              "          )\n",
              "          (intermediate): BertIntermediate(\n",
              "            (dense): Linear(in_features=768, out_features=3072, bias=True)\n",
              "            (intermediate_act_fn): GELUActivation()\n",
              "          )\n",
              "          (output): BertOutput(\n",
              "            (dense): Linear(in_features=3072, out_features=768, bias=True)\n",
              "            (LayerNorm): LayerNorm((768,), eps=1e-12, elementwise_affine=True)\n",
              "            (dropout): Dropout(p=0.1, inplace=False)\n",
              "          )\n",
              "        )\n",
              "      )\n",
              "    )\n",
              "  )\n",
              "  (dropout): Dropout(p=0.1, inplace=False)\n",
              "  (classifier): Linear(in_features=768, out_features=18, bias=True)\n",
              ")"
            ]
          },
          "metadata": {},
          "execution_count": 26
        }
      ],
      "source": [
        "model.cuda()"
      ]
    },
    {
      "cell_type": "markdown",
      "metadata": {
        "id": "DBzwfgWnDlY4"
      },
      "source": [
        "Before we can start the fine-tuning process, we have to setup the optimizer and add the parameters it should update. A common choice is the AdamW optimizer. We also add some weight_decay as regularization to the main weight matrices. If you have limited resources, you can also try to just train the linear classifier on top of BERT and keep all other weights fixed. This will still give you a good performance."
      ]
    },
    {
      "cell_type": "code",
      "execution_count": null,
      "metadata": {
        "id": "fe7aMmkEysVG",
        "colab": {
          "base_uri": "https://localhost:8080/"
        },
        "outputId": "6c760cc8-5b53-457e-8cae-7823fec230b2"
      },
      "outputs": [
        {
          "output_type": "stream",
          "name": "stderr",
          "text": [
            "/usr/local/lib/python3.10/dist-packages/transformers/optimization.py:591: FutureWarning: This implementation of AdamW is deprecated and will be removed in a future version. Use the PyTorch implementation torch.optim.AdamW instead, or set `no_deprecation_warning=True` to disable this warning\n",
            "  warnings.warn(\n"
          ]
        }
      ],
      "source": [
        "FULL_FINETUNING = True\n",
        "if FULL_FINETUNING:\n",
        "    param_optimizer = list(model.named_parameters())\n",
        "    no_decay = ['bias', 'gamma', 'beta']\n",
        "    optimizer_grouped_parameters = [\n",
        "        {'params': [p for n, p in param_optimizer if not any(nd in n for nd in no_decay)],\n",
        "         'weight_decay_rate': 0.01},\n",
        "        {'params': [p for n, p in param_optimizer if any(nd in n for nd in no_decay)],\n",
        "         'weight_decay_rate': 0.0}\n",
        "    ]\n",
        "else:\n",
        "    param_optimizer = list(model.classifier.named_parameters())\n",
        "    optimizer_grouped_parameters = [{\"params\": [p for n, p in param_optimizer]}]\n",
        "\n",
        "optimizer = AdamW(\n",
        "    optimizer_grouped_parameters,\n",
        "    lr=3e-5,\n",
        "    eps=1e-8\n",
        ")"
      ]
    },
    {
      "cell_type": "code",
      "execution_count": null,
      "metadata": {
        "id": "HkO2RFzkyw2o"
      },
      "outputs": [],
      "source": [
        "epochs = 3\n",
        "max_grad_norm = 1.0\n",
        "\n",
        "# Total number of training steps is number of batches * number of epochs.\n",
        "total_steps = len(train_dataloader) * epochs\n",
        "\n",
        "# Create the learning rate scheduler.\n",
        "scheduler = get_linear_schedule_with_warmup(\n",
        "    optimizer,\n",
        "    num_warmup_steps=0,\n",
        "    num_training_steps=total_steps\n",
        ")"
      ]
    },
    {
      "cell_type": "markdown",
      "metadata": {
        "id": "2EDhjjhX00Xd"
      },
      "source": [
        "### Finetune Bert"
      ]
    },
    {
      "cell_type": "markdown",
      "metadata": {
        "id": "B2BmLyDEDxeb"
      },
      "source": [
        "First we define some metrics, we want to track while training. We use the f1_score from the seqeval package. You ca find more details here. And we use simple accuracy on a token level comparable to the accuracy in keras."
      ]
    },
    {
      "cell_type": "code",
      "execution_count": null,
      "metadata": {
        "id": "nWnbewqp00Xe"
      },
      "outputs": [],
      "source": [
        "def flat_accuracy(preds, labels):\n",
        "    pred_flat = np.argmax(preds, axis=2).flatten()\n",
        "    labels_flat = labels.flatten()\n",
        "    return np.sum(pred_flat == labels_flat) / len(labels_flat)"
      ]
    },
    {
      "cell_type": "code",
      "execution_count": 30,
      "metadata": {
        "colab": {
          "base_uri": "https://localhost:8080/"
        },
        "id": "caa1DZYC00Xh",
        "outputId": "5c8f4a88-8d7d-4e0f-8681-3e53f1555b65"
      },
      "outputs": [
        {
          "metadata": {
            "tags": null
          },
          "name": "stderr",
          "output_type": "stream",
          "text": [
            "\rEpoch:   0%|          | 0/3 [00:00<?, ?it/s]"
          ]
        },
        {
          "metadata": {
            "tags": null
          },
          "name": "stdout",
          "output_type": "stream",
          "text": [
            "Average train loss: 0.07718869102421494\n",
            "Validation loss: 0.04743034950147072\n",
            "Validation Accuracy: 0.9853273809523813\n"
          ]
        },
        {
          "metadata": {
            "tags": null
          },
          "name": "stderr",
          "output_type": "stream",
          "text": [
            "/usr/local/lib/python3.10/dist-packages/seqeval/metrics/sequence_labeling.py:171: UserWarning: PAD seems not to be NE tag.\n",
            "  warnings.warn('{} seems not to be NE tag.'.format(chunk))\n",
            "Epoch:  33%|███▎      | 1/3 [09:55<19:51, 595.78s/it]"
          ]
        },
        {
          "output_type": "stream",
          "name": "stdout",
          "text": [
            "Validation F1-Score: 0.8070122594054038\n",
            "\n",
            "Average train loss: 0.03819438865031354\n",
            "Validation loss: 0.04400770245740811\n",
            "Validation Accuracy: 0.9865246031746038\n"
          ]
        },
        {
          "output_type": "stream",
          "name": "stderr",
          "text": [
            "\rEpoch:  67%|██████▋   | 2/3 [19:50<09:55, 595.37s/it]"
          ]
        },
        {
          "output_type": "stream",
          "name": "stdout",
          "text": [
            "Validation F1-Score: 0.8205189740512975\n",
            "\n",
            "Average train loss: 0.02876874478223193\n",
            "Validation loss: 0.042967123575508595\n",
            "Validation Accuracy: 0.9869162698412701\n"
          ]
        },
        {
          "output_type": "stream",
          "name": "stderr",
          "text": [
            "Epoch: 100%|██████████| 3/3 [29:45<00:00, 595.19s/it]"
          ]
        },
        {
          "output_type": "stream",
          "name": "stdout",
          "text": [
            "Validation F1-Score: 0.8262829507120041\n",
            "\n"
          ]
        },
        {
          "output_type": "stream",
          "name": "stderr",
          "text": [
            "\n"
          ]
        }
      ],
      "source": [
        "## Store the average loss after each epoch so we can plot them.\n",
        "loss_values, validation_loss_values = [], []\n",
        "\n",
        "for _ in trange(epochs, desc=\"Epoch\"):\n",
        "    # ========================================\n",
        "    #               Training\n",
        "    # ========================================\n",
        "    # Perform one full pass over the training set.\n",
        "\n",
        "    # Put the model into training mode.\n",
        "    model.train()\n",
        "    # Reset the total loss for this epoch.\n",
        "    total_loss = 0\n",
        "\n",
        "    # Training loop\n",
        "    for step, batch in enumerate(train_dataloader):\n",
        "        # add batch to gpu\n",
        "        batch = tuple(t.to(device) for t in batch)\n",
        "        b_input_ids, b_input_mask, b_labels = batch\n",
        "        # Always clear any previously calculated gradients before performing a backward pass.\n",
        "        model.zero_grad()\n",
        "        # forward pass\n",
        "        # This will return the loss (rather than the model output)\n",
        "        # because we have provided the `labels`.\n",
        "        outputs = model(b_input_ids, token_type_ids=None,\n",
        "                        attention_mask=b_input_mask, labels=b_labels)\n",
        "        # get the loss\n",
        "        loss = outputs[0]\n",
        "        # Perform a backward pass to calculate the gradients.\n",
        "        loss.backward()\n",
        "        # track train loss\n",
        "        total_loss += loss.item()\n",
        "        # Clip the norm of the gradient\n",
        "        # This is to help prevent the \"exploding gradients\" problem.\n",
        "        torch.nn.utils.clip_grad_norm_(parameters=model.parameters(), max_norm=max_grad_norm)\n",
        "        # update parameters\n",
        "        optimizer.step()\n",
        "        # Update the learning rate.\n",
        "        scheduler.step()\n",
        "\n",
        "    # Calculate the average loss over the training data.\n",
        "    avg_train_loss = total_loss / len(train_dataloader)\n",
        "    print(f\"Average train loss: {avg_train_loss}\")\n",
        "\n",
        "    # Store the loss value for plotting the learning curve.\n",
        "    loss_values.append(avg_train_loss)\n",
        "\n",
        "\n",
        "    # ========================================\n",
        "    #               Validation\n",
        "    # ========================================\n",
        "    # After the completion of each training epoch, measure our performance on\n",
        "    # our validation set.\n",
        "\n",
        "    # Put the model into evaluation mode\n",
        "    model.eval()\n",
        "    # Reset the validation loss for this epoch.\n",
        "    eval_loss, eval_accuracy = 0, 0\n",
        "    nb_eval_steps, nb_eval_examples = 0, 0\n",
        "    predictions , true_labels = [], []\n",
        "    for batch in valid_dataloader:\n",
        "        batch = tuple(t.to(device) for t in batch)\n",
        "        b_input_ids, b_input_mask, b_labels = batch\n",
        "\n",
        "        # Telling the model not to compute or store gradients,\n",
        "        # saving memory and speeding up validation\n",
        "        with torch.no_grad():\n",
        "            # Forward pass, calculate logit predictions.\n",
        "            # This will return the logits rather than the loss because we have not provided labels.\n",
        "            outputs = model(b_input_ids, token_type_ids=None,\n",
        "                            attention_mask=b_input_mask, labels=b_labels)\n",
        "        # Move logits and labels to CPU\n",
        "        logits = outputs[1].detach().cpu().numpy()\n",
        "        label_ids = b_labels.to('cpu').numpy()\n",
        "\n",
        "        # Calculate the accuracy for this batch of test sentences.\n",
        "        eval_loss += outputs[0].mean().item()\n",
        "        eval_accuracy += flat_accuracy(logits, label_ids)\n",
        "        predictions.extend([list(p) for p in np.argmax(logits, axis=2)])\n",
        "        true_labels.extend(label_ids)\n",
        "\n",
        "        nb_eval_examples += b_input_ids.size(0)\n",
        "        nb_eval_steps += 1\n",
        "\n",
        "    eval_loss = eval_loss / nb_eval_steps\n",
        "    validation_loss_values.append(eval_loss)\n",
        "    print(f\"Validation loss: {eval_loss}\")\n",
        "    print(f\"Validation Accuracy: {eval_accuracy/nb_eval_steps}\")\n",
        "    pred_tags = [tag_values[p_i] for p, l in zip(predictions, true_labels)\n",
        "                                 for p_i, l_i in zip(p, l) if tag_values[l_i] != \"PAD\"]\n",
        "    valid_tags = [tag_values[l_i] for l in true_labels\n",
        "                                  for l_i in l if tag_values[l_i] != \"PAD\"]\n",
        "    print(f\"Validation F1-Score: {f1_score([pred_tags], [valid_tags])}\")\n",
        "    print()"
      ]
    },
    {
      "cell_type": "markdown",
      "metadata": {
        "id": "TjneiYUtzQa-"
      },
      "source": [
        "## Visualize the training loss"
      ]
    },
    {
      "cell_type": "code",
      "execution_count": 37,
      "metadata": {
        "id": "X2bKSpt6zSix",
        "colab": {
          "base_uri": "https://localhost:8080/",
          "height": 592
        },
        "outputId": "e2f8e751-205f-460e-dad5-1a487819d67f"
      },
      "outputs": [
        {
          "output_type": "display_data",
          "data": {
            "text/plain": [
              "<Figure size 1200x600 with 1 Axes>"
            ],
            "image/png": "[encoded data removed]"
          },
          "metadata": {}
        }
      ],
      "source": [
        "# Use plot styling from seaborn.\n",
        "sns.set(style='darkgrid')\n",
        "\n",
        "# Increase the plot size and font size.\n",
        "sns.set(font_scale=1.5)\n",
        "plt.rcParams[\"figure.figsize\"] = (12,6)\n",
        "\n",
        "# Plot the learning curve.\n",
        "plt.plot(loss_values, 'b-o', label=\"training loss\")\n",
        "plt.plot(validation_loss_values, 'r-o', label=\"validation loss\")\n",
        "\n",
        "# Label the plot.\n",
        "plt.title(\"Learning curve\")\n",
        "plt.xlabel(\"Epoch\")\n",
        "plt.ylabel(\"Loss\")\n",
        "plt.legend()\n",
        "\n",
        "plt.show()"
      ]
    },
    {
      "cell_type": "markdown",
      "metadata": {
        "id": "_sMnCZ9t32xU"
      },
      "source": [
        "## Apply the model to new sentence"
      ]
    },
    {
      "cell_type": "code",
      "execution_count": 32,
      "metadata": {
        "id": "YXT-7nupyUHL"
      },
      "outputs": [],
      "source": [
        "test_sentence = \"\"\"\n",
        "Mr. Trump’s tweets began just moments after a Fox News report by Mike Tobin, a\n",
        "reporter for the network, about protests in Minnesota and elsewhere.\n",
        "\"\"\""
      ]
    },
    {
      "cell_type": "code",
      "execution_count": 33,
      "metadata": {
        "id": "DJgnk8Xi35pu"
      },
      "outputs": [],
      "source": [
        "tokenized_sentence = tokenizer.encode(test_sentence)\n",
        "input_ids = torch.tensor([tokenized_sentence]).cuda()"
      ]
    },
    {
      "cell_type": "code",
      "execution_count": 34,
      "metadata": {
        "id": "Fxq7D5z137Zx"
      },
      "outputs": [],
      "source": [
        "with torch.no_grad():\n",
        "    output = model(input_ids)\n",
        "label_indices = np.argmax(output[0].to('cpu').numpy(), axis=2)"
      ]
    },
    {
      "cell_type": "code",
      "execution_count": 35,
      "metadata": {
        "id": "x6ymHCNF392t"
      },
      "outputs": [],
      "source": [
        "# join bpe split tokens\n",
        "tokens = tokenizer.convert_ids_to_tokens(input_ids.to('cpu').numpy()[0])\n",
        "new_tokens, new_labels = [], []\n",
        "for token, label_idx in zip(tokens, label_indices[0]):\n",
        "    if token.startswith(\"##\"):\n",
        "        new_tokens[-1] = new_tokens[-1] + token[2:]\n",
        "    else:\n",
        "        new_labels.append(tag_values[label_idx])\n",
        "        new_tokens.append(token)"
      ]
    },
    {
      "cell_type": "code",
      "execution_count": 36,
      "metadata": {
        "id": "00g3yYxt3_Yr",
        "colab": {
          "base_uri": "https://localhost:8080/"
        },
        "outputId": "f5ed8690-bf56-462f-c3e5-db76c617d39c"
      },
      "outputs": [
        {
          "metadata": {
            "tags": null
          },
          "name": "stdout",
          "output_type": "stream",
          "text": [
            "O\t[CLS]\n",
            "B-per\tMr\n",
            "B-per\t.\n",
            "I-per\tTrump\n",
            "O\t’\n",
            "O\ts\n",
            "O\ttweets\n",
            "O\tbegan\n",
            "O\tjust\n",
            "O\tmoments\n",
            "O\tafter\n",
            "O\ta\n",
            "B-org\tFox\n",
            "I-org\tNews\n",
            "O\treport\n",
            "O\tby\n",
            "B-per\tMike\n",
            "I-per\tTobin\n",
            "O\t,\n",
            "O\ta\n",
            "O\treporter\n",
            "O\tfor\n",
            "O\tthe\n",
            "O\tnetwork\n",
            "O\t,\n",
            "O\tabout\n",
            "O\tprotests\n",
            "O\tin\n",
            "B-geo\tMinnesota\n",
            "O\tand\n",
            "O\telsewhere\n",
            "O\t.\n",
            "O\t[SEP]\n"
          ]
        }
      ],
      "source": [
        "for token, label in zip(new_tokens, new_labels):\n",
        "    print(f\"{label}\\t{token}\")"
      ]
    }
  ],
  "metadata": {
    "accelerator": "GPU",
    "colab": {
      "provenance": [],
      "gpuType": "T4",
      "include_colab_link": true
    },
    "kernelspec": {
      "display_name": "Python 3",
      "name": "python3"
    },
    "language_info": {
      "codemirror_mode": {
        "name": "ipython",
        "version": 3
      },
      "file_extension": ".py",
      "mimetype": "text/x-python",
      "name": "python",
      "nbconvert_exporter": "python",
      "pygments_lexer": "ipython3",
      "version": "3.7.6"
    }
  },
  "nbformat": 4,
  "nbformat_minor": 0
}