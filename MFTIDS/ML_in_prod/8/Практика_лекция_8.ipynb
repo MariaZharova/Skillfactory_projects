{
 "cells": [
  {
   "cell_type": "markdown",
   "metadata": {},
   "source": [
    "# Практика по A/B тестированию\n",
    "\n",
    "### **Лекция № 8 \"Модели ML в production\"**"
   ]
  },
  {
   "cell_type": "markdown",
   "metadata": {},
   "source": [
    "![d](https://www.meme-arsenal.com/memes/9a92e4f5c51c566b9d94e90f0914a3c2.jpg)"
   ]
  },
  {
   "cell_type": "code",
   "execution_count": 1,
   "metadata": {},
   "outputs": [],
   "source": [
    "import numpy as np\n",
    "from math import ceil\n",
    "\n",
    "import pandas as pd\n",
    "import matplotlib.pyplot as plt\n",
    "import seaborn as sns\n",
    "from scipy.stats import t\n",
    "from scipy.stats import norm\n",
    "from scipy.stats import mannwhitneyu\n",
    "from scipy.stats import shapiro\n",
    "from statsmodels.stats import power\n",
    "from statsmodels.stats.proportion import (proportion_effectsize,\n",
    "                                          proportions_ztest,\n",
    "                                          proportion_confint)"
   ]
  },
  {
   "cell_type": "markdown",
   "metadata": {},
   "source": [
    "**Словарь данных:**\n",
    "- user id: Идентификатор пользователя (уникальный).\n",
    "- test group: Если \"ad\", то человек видел рекламу, если \"psa\", то он видел только объявление государственной службы.\n",
    "- converted: Если человек купил продукт, то True, иначе False.\n",
    "- total ads: Количество рекламы, увиденной человеком.\n",
    "- most ads day: День, в который человек увидел наибольшее количество рекламы.\n",
    "- most ads hour: Час дня, в который человек увидел наибольшее количество рекламы."
   ]
  },
  {
   "cell_type": "markdown",
   "metadata": {},
   "source": [
    "## **Задача 1.** \n",
    "Проанализируйте структуру данных и проведите их предобработку:\n",
    "- Исследуйте структуру данных;\n",
    "- Преобразуйте столбцы к необходимым типам данных.\n",
    "- Проверьте данные на наличие пропусков и избавьтесь от них, если нужно.\n",
    "- Проверьте, есть ли пользователи, которые в процессе A/Bтеста попали в обе группы. Если да, исключите пользователей, оказавшихся в обеих группах."
   ]
  },
  {
   "cell_type": "code",
   "execution_count": 4,
   "metadata": {},
   "outputs": [
    {
     "data": {
      "text/html": [
       "<div>\n",
       "<style scoped>\n",
       "    .dataframe tbody tr th:only-of-type {\n",
       "        vertical-align: middle;\n",
       "    }\n",
       "\n",
       "    .dataframe tbody tr th {\n",
       "        vertical-align: top;\n",
       "    }\n",
       "\n",
       "    .dataframe thead th {\n",
       "        text-align: right;\n",
       "    }\n",
       "</style>\n",
       "<table border=\"1\" class=\"dataframe\">\n",
       "  <thead>\n",
       "    <tr style=\"text-align: right;\">\n",
       "      <th></th>\n",
       "      <th>Unnamed: 0</th>\n",
       "      <th>user id</th>\n",
       "      <th>test group</th>\n",
       "      <th>converted</th>\n",
       "      <th>total ads</th>\n",
       "      <th>most ads day</th>\n",
       "      <th>most ads hour</th>\n",
       "    </tr>\n",
       "  </thead>\n",
       "  <tbody>\n",
       "    <tr>\n",
       "      <th>0</th>\n",
       "      <td>0</td>\n",
       "      <td>1069124</td>\n",
       "      <td>ad</td>\n",
       "      <td>False</td>\n",
       "      <td>130</td>\n",
       "      <td>Monday</td>\n",
       "      <td>20</td>\n",
       "    </tr>\n",
       "    <tr>\n",
       "      <th>1</th>\n",
       "      <td>1</td>\n",
       "      <td>1119715</td>\n",
       "      <td>ad</td>\n",
       "      <td>False</td>\n",
       "      <td>93</td>\n",
       "      <td>Tuesday</td>\n",
       "      <td>22</td>\n",
       "    </tr>\n",
       "    <tr>\n",
       "      <th>2</th>\n",
       "      <td>2</td>\n",
       "      <td>1144181</td>\n",
       "      <td>ad</td>\n",
       "      <td>False</td>\n",
       "      <td>21</td>\n",
       "      <td>Tuesday</td>\n",
       "      <td>18</td>\n",
       "    </tr>\n",
       "    <tr>\n",
       "      <th>3</th>\n",
       "      <td>3</td>\n",
       "      <td>1435133</td>\n",
       "      <td>ad</td>\n",
       "      <td>False</td>\n",
       "      <td>355</td>\n",
       "      <td>Tuesday</td>\n",
       "      <td>10</td>\n",
       "    </tr>\n",
       "    <tr>\n",
       "      <th>4</th>\n",
       "      <td>4</td>\n",
       "      <td>1015700</td>\n",
       "      <td>ad</td>\n",
       "      <td>False</td>\n",
       "      <td>276</td>\n",
       "      <td>Friday</td>\n",
       "      <td>14</td>\n",
       "    </tr>\n",
       "  </tbody>\n",
       "</table>\n",
       "</div>"
      ],
      "text/plain": [
       "   Unnamed: 0  user id test group  converted  total ads most ads day  \\\n",
       "0           0  1069124         ad      False        130       Monday   \n",
       "1           1  1119715         ad      False         93      Tuesday   \n",
       "2           2  1144181         ad      False         21      Tuesday   \n",
       "3           3  1435133         ad      False        355      Tuesday   \n",
       "4           4  1015700         ad      False        276       Friday   \n",
       "\n",
       "   most ads hour  \n",
       "0             20  \n",
       "1             22  \n",
       "2             18  \n",
       "3             10  \n",
       "4             14  "
      ]
     },
     "execution_count": 4,
     "metadata": {},
     "output_type": "execute_result"
    }
   ],
   "source": [
    "df = pd.read_csv('marketing_AB.csv', sep=',')\n",
    "df.head()"
   ]
  },
  {
   "cell_type": "code",
   "execution_count": 5,
   "metadata": {},
   "outputs": [
    {
     "name": "stdout",
     "output_type": "stream",
     "text": [
      "<class 'pandas.core.frame.DataFrame'>\n",
      "RangeIndex: 588101 entries, 0 to 588100\n",
      "Data columns (total 7 columns):\n",
      " #   Column         Non-Null Count   Dtype \n",
      "---  ------         --------------   ----- \n",
      " 0   Unnamed: 0     588101 non-null  int64 \n",
      " 1   user id        588101 non-null  int64 \n",
      " 2   test group     588101 non-null  object\n",
      " 3   converted      588101 non-null  bool  \n",
      " 4   total ads      588101 non-null  int64 \n",
      " 5   most ads day   588101 non-null  object\n",
      " 6   most ads hour  588101 non-null  int64 \n",
      "dtypes: bool(1), int64(4), object(2)\n",
      "memory usage: 27.5+ MB\n"
     ]
    }
   ],
   "source": [
    "df.info()"
   ]
  },
  {
   "cell_type": "code",
   "execution_count": 6,
   "metadata": {},
   "outputs": [
    {
     "data": {
      "text/plain": [
       "Unnamed: 0       0\n",
       "user id          0\n",
       "test group       0\n",
       "converted        0\n",
       "total ads        0\n",
       "most ads day     0\n",
       "most ads hour    0\n",
       "dtype: int64"
      ]
     },
     "execution_count": 6,
     "metadata": {},
     "output_type": "execute_result"
    }
   ],
   "source": [
    "df.isnull().sum()"
   ]
  },
  {
   "cell_type": "markdown",
   "metadata": {},
   "source": [
    "Пропуски в данных отсуствуют"
   ]
  },
  {
   "cell_type": "markdown",
   "metadata": {},
   "source": [
    "Удаляем первый столбец, он не несет информативности, в столбцах converted и most ads day меняем значения по словарям {True:1, False:0} и {'Monday':1, 'Tuesday':2, 'Friday':5, 'Saturday':6, 'Wednesday':3, 'Sunday':7, 'Thursday':4} соответсвенно"
   ]
  },
  {
   "cell_type": "code",
   "execution_count": 7,
   "metadata": {},
   "outputs": [],
   "source": [
    "dict_1={True:1, False:0}\n",
    "df['converted']=df['converted'].replace(dict_1)\n",
    "\n",
    "dict_2={'Monday':1, 'Tuesday':2, 'Friday':5, 'Saturday':6, 'Wednesday':3, 'Sunday':7, 'Thursday':4}\n",
    "df['most ads day']=df['most ads day'].replace(dict_2)\n",
    "\n",
    "df=df.drop(columns=['Unnamed: 0'], axis=1)"
   ]
  },
  {
   "cell_type": "markdown",
   "metadata": {},
   "source": [
    "Проверим, есть ли пользователи, у которых несколько сессий:"
   ]
  },
  {
   "cell_type": "code",
   "execution_count": 8,
   "metadata": {},
   "outputs": [
    {
     "name": "stdout",
     "output_type": "stream",
     "text": [
      "В датасете 0 пользователей, которые встречаются несколько раз\n"
     ]
    }
   ],
   "source": [
    "session_counts = df['user id'].value_counts(ascending=False)\n",
    "multi_users = session_counts[session_counts > 1].count()\n",
    "\n",
    "print(f'В датасете {multi_users} пользователей, которые встречаются несколько раз')"
   ]
  },
  {
   "cell_type": "markdown",
   "metadata": {},
   "source": [
    "## **Задача 2.** \n",
    "Сделайте первичный анализ результатов A/B-тестирования\n",
    "Рассчитайте вспомогательные показатели для контрольной и тестовой групп:\n",
    "\n",
    "- количество посещений сайта;\n",
    "- суммарное количество совершённых покупок;\n",
    "- Сделайте промежуточные выводы по построенной таблице. Сопоставимо ли количество посещений обоих вариантов посадочной страницы? Можно ли говорить о сбалансированности выборок?\n",
    "\n"
   ]
  },
  {
   "cell_type": "code",
   "execution_count": 9,
   "metadata": {},
   "outputs": [
    {
     "data": {
      "text/html": [
       "<div>\n",
       "<style scoped>\n",
       "    .dataframe tbody tr th:only-of-type {\n",
       "        vertical-align: middle;\n",
       "    }\n",
       "\n",
       "    .dataframe tbody tr th {\n",
       "        vertical-align: top;\n",
       "    }\n",
       "\n",
       "    .dataframe thead th {\n",
       "        text-align: right;\n",
       "    }\n",
       "</style>\n",
       "<table border=\"1\" class=\"dataframe\">\n",
       "  <thead>\n",
       "    <tr style=\"text-align: right;\">\n",
       "      <th></th>\n",
       "      <th>test group</th>\n",
       "      <th>users_count</th>\n",
       "      <th>converted</th>\n",
       "    </tr>\n",
       "  </thead>\n",
       "  <tbody>\n",
       "    <tr>\n",
       "      <th>0</th>\n",
       "      <td>ad</td>\n",
       "      <td>564577</td>\n",
       "      <td>14423</td>\n",
       "    </tr>\n",
       "    <tr>\n",
       "      <th>1</th>\n",
       "      <td>psa</td>\n",
       "      <td>23524</td>\n",
       "      <td>420</td>\n",
       "    </tr>\n",
       "  </tbody>\n",
       "</table>\n",
       "</div>"
      ],
      "text/plain": [
       "  test group  users_count  converted\n",
       "0         ad       564577      14423\n",
       "1        psa        23524        420"
      ]
     },
     "execution_count": 9,
     "metadata": {},
     "output_type": "execute_result"
    }
   ],
   "source": [
    "data = df.groupby(['test group']).agg({\n",
    "    'user id':'count',\n",
    "    'converted':'sum',\n",
    "}).reset_index().rename(columns={'user id': 'users_count'})\n",
    "\n",
    "data"
   ]
  },
  {
   "cell_type": "markdown",
   "metadata": {},
   "source": [
    "**Вывод.** Количество посещений несопоставимо\n",
    "Выборка несбалансированна, в первой группе значительно больше пользователей."
   ]
  },
  {
   "cell_type": "markdown",
   "metadata": {},
   "source": [
    "## **Задача 3.** \n",
    "В каждой из групп рассчитайте ключевые показатели:\n",
    "\n",
    "- конверсия;\n",
    "- среднее количество рекламы, увиденной пользователем.\n",
    "\n",
    "Сделайте первичные выводы о результатах A/B-тестирования на основе показателей конверсии и среднего количества увиденной рекламы в каждой из групп. По какому(-им) показателю(-ям), на первый взгляд, вариант А эффективнее варианта B и наоборот?"
   ]
  },
  {
   "cell_type": "code",
   "execution_count": 10,
   "metadata": {},
   "outputs": [
    {
     "data": {
      "text/html": [
       "<div>\n",
       "<style scoped>\n",
       "    .dataframe tbody tr th:only-of-type {\n",
       "        vertical-align: middle;\n",
       "    }\n",
       "\n",
       "    .dataframe tbody tr th {\n",
       "        vertical-align: top;\n",
       "    }\n",
       "\n",
       "    .dataframe thead th {\n",
       "        text-align: right;\n",
       "    }\n",
       "</style>\n",
       "<table border=\"1\" class=\"dataframe\">\n",
       "  <thead>\n",
       "    <tr style=\"text-align: right;\">\n",
       "      <th></th>\n",
       "      <th>test group</th>\n",
       "      <th>users_count</th>\n",
       "      <th>converted</th>\n",
       "      <th>total ads</th>\n",
       "      <th>mean_ads</th>\n",
       "      <th>conversion</th>\n",
       "    </tr>\n",
       "  </thead>\n",
       "  <tbody>\n",
       "    <tr>\n",
       "      <th>0</th>\n",
       "      <td>ad</td>\n",
       "      <td>564577</td>\n",
       "      <td>14423</td>\n",
       "      <td>14014701</td>\n",
       "      <td>24.82</td>\n",
       "      <td>2.55</td>\n",
       "    </tr>\n",
       "    <tr>\n",
       "      <th>1</th>\n",
       "      <td>psa</td>\n",
       "      <td>23524</td>\n",
       "      <td>420</td>\n",
       "      <td>582481</td>\n",
       "      <td>24.76</td>\n",
       "      <td>1.79</td>\n",
       "    </tr>\n",
       "  </tbody>\n",
       "</table>\n",
       "</div>"
      ],
      "text/plain": [
       "  test group  users_count  converted  total ads  mean_ads  conversion\n",
       "0         ad       564577      14423   14014701     24.82        2.55\n",
       "1        psa        23524        420     582481     24.76        1.79"
      ]
     },
     "execution_count": 10,
     "metadata": {},
     "output_type": "execute_result"
    }
   ],
   "source": [
    "data = df.groupby(['test group']).agg({\n",
    "    'user id':'count',\n",
    "    'converted':'sum',\n",
    "    'total ads':'sum'\n",
    "}).reset_index().rename(columns={'user id': 'users_count'})\n",
    "data['mean_ads']=data['total ads']/data['users_count']\n",
    "data['mean_ads']=data['mean_ads'].round(2)\n",
    "\n",
    "data['conversion']=data['converted']*100/data['users_count']\n",
    "data['conversion']=data['conversion'].round(2)\n",
    "data"
   ]
  },
  {
   "cell_type": "code",
   "execution_count": 11,
   "metadata": {},
   "outputs": [
    {
     "data": {
      "text/html": [
       "<div>\n",
       "<style scoped>\n",
       "    .dataframe tbody tr th:only-of-type {\n",
       "        vertical-align: middle;\n",
       "    }\n",
       "\n",
       "    .dataframe tbody tr th {\n",
       "        vertical-align: top;\n",
       "    }\n",
       "\n",
       "    .dataframe thead th {\n",
       "        text-align: right;\n",
       "    }\n",
       "</style>\n",
       "<table border=\"1\" class=\"dataframe\">\n",
       "  <thead>\n",
       "    <tr style=\"text-align: right;\">\n",
       "      <th></th>\n",
       "      <th>most ads day</th>\n",
       "      <th>test group</th>\n",
       "      <th>users_count</th>\n",
       "      <th>converted</th>\n",
       "      <th>conversion</th>\n",
       "    </tr>\n",
       "  </thead>\n",
       "  <tbody>\n",
       "    <tr>\n",
       "      <th>0</th>\n",
       "      <td>1</td>\n",
       "      <td>ad</td>\n",
       "      <td>83571</td>\n",
       "      <td>2778</td>\n",
       "      <td>3.32</td>\n",
       "    </tr>\n",
       "    <tr>\n",
       "      <th>1</th>\n",
       "      <td>1</td>\n",
       "      <td>psa</td>\n",
       "      <td>3502</td>\n",
       "      <td>79</td>\n",
       "      <td>2.26</td>\n",
       "    </tr>\n",
       "    <tr>\n",
       "      <th>2</th>\n",
       "      <td>2</td>\n",
       "      <td>ad</td>\n",
       "      <td>74572</td>\n",
       "      <td>2270</td>\n",
       "      <td>3.04</td>\n",
       "    </tr>\n",
       "    <tr>\n",
       "      <th>3</th>\n",
       "      <td>2</td>\n",
       "      <td>psa</td>\n",
       "      <td>2907</td>\n",
       "      <td>42</td>\n",
       "      <td>1.44</td>\n",
       "    </tr>\n",
       "    <tr>\n",
       "      <th>4</th>\n",
       "      <td>3</td>\n",
       "      <td>ad</td>\n",
       "      <td>77418</td>\n",
       "      <td>1963</td>\n",
       "      <td>2.54</td>\n",
       "    </tr>\n",
       "    <tr>\n",
       "      <th>5</th>\n",
       "      <td>3</td>\n",
       "      <td>psa</td>\n",
       "      <td>3490</td>\n",
       "      <td>55</td>\n",
       "      <td>1.58</td>\n",
       "    </tr>\n",
       "    <tr>\n",
       "      <th>6</th>\n",
       "      <td>4</td>\n",
       "      <td>ad</td>\n",
       "      <td>79077</td>\n",
       "      <td>1711</td>\n",
       "      <td>2.16</td>\n",
       "    </tr>\n",
       "    <tr>\n",
       "      <th>7</th>\n",
       "      <td>4</td>\n",
       "      <td>psa</td>\n",
       "      <td>3905</td>\n",
       "      <td>79</td>\n",
       "      <td>2.02</td>\n",
       "    </tr>\n",
       "    <tr>\n",
       "      <th>8</th>\n",
       "      <td>5</td>\n",
       "      <td>ad</td>\n",
       "      <td>88805</td>\n",
       "      <td>1995</td>\n",
       "      <td>2.25</td>\n",
       "    </tr>\n",
       "    <tr>\n",
       "      <th>9</th>\n",
       "      <td>5</td>\n",
       "      <td>psa</td>\n",
       "      <td>3803</td>\n",
       "      <td>62</td>\n",
       "      <td>1.63</td>\n",
       "    </tr>\n",
       "    <tr>\n",
       "      <th>10</th>\n",
       "      <td>6</td>\n",
       "      <td>ad</td>\n",
       "      <td>78802</td>\n",
       "      <td>1679</td>\n",
       "      <td>2.13</td>\n",
       "    </tr>\n",
       "    <tr>\n",
       "      <th>11</th>\n",
       "      <td>6</td>\n",
       "      <td>psa</td>\n",
       "      <td>2858</td>\n",
       "      <td>40</td>\n",
       "      <td>1.40</td>\n",
       "    </tr>\n",
       "    <tr>\n",
       "      <th>12</th>\n",
       "      <td>7</td>\n",
       "      <td>ad</td>\n",
       "      <td>82332</td>\n",
       "      <td>2027</td>\n",
       "      <td>2.46</td>\n",
       "    </tr>\n",
       "    <tr>\n",
       "      <th>13</th>\n",
       "      <td>7</td>\n",
       "      <td>psa</td>\n",
       "      <td>3059</td>\n",
       "      <td>63</td>\n",
       "      <td>2.06</td>\n",
       "    </tr>\n",
       "  </tbody>\n",
       "</table>\n",
       "</div>"
      ],
      "text/plain": [
       "    most ads day test group  users_count  converted  conversion\n",
       "0              1         ad        83571       2778        3.32\n",
       "1              1        psa         3502         79        2.26\n",
       "2              2         ad        74572       2270        3.04\n",
       "3              2        psa         2907         42        1.44\n",
       "4              3         ad        77418       1963        2.54\n",
       "5              3        psa         3490         55        1.58\n",
       "6              4         ad        79077       1711        2.16\n",
       "7              4        psa         3905         79        2.02\n",
       "8              5         ad        88805       1995        2.25\n",
       "9              5        psa         3803         62        1.63\n",
       "10             6         ad        78802       1679        2.13\n",
       "11             6        psa         2858         40        1.40\n",
       "12             7         ad        82332       2027        2.46\n",
       "13             7        psa         3059         63        2.06"
      ]
     },
     "execution_count": 11,
     "metadata": {},
     "output_type": "execute_result"
    }
   ],
   "source": [
    "daily_data = df.groupby(['most ads day','test group']).agg({\n",
    "    'user id':'count',\n",
    "    'converted':'sum'\n",
    "}).reset_index().rename(columns={'user id': 'users_count'})\n",
    "daily_data['conversion']=daily_data['converted']*100/daily_data['users_count']\n",
    "daily_data['conversion']=daily_data['conversion'].round(2)\n",
    "\n",
    "daily_data.sort_values(by='most ads day', ascending=True)\n"
   ]
  },
  {
   "cell_type": "code",
   "execution_count": 12,
   "metadata": {},
   "outputs": [
    {
     "data": {
      "text/html": [
       "<div>\n",
       "<style scoped>\n",
       "    .dataframe tbody tr th:only-of-type {\n",
       "        vertical-align: middle;\n",
       "    }\n",
       "\n",
       "    .dataframe tbody tr th {\n",
       "        vertical-align: top;\n",
       "    }\n",
       "\n",
       "    .dataframe thead th {\n",
       "        text-align: right;\n",
       "    }\n",
       "</style>\n",
       "<table border=\"1\" class=\"dataframe\">\n",
       "  <thead>\n",
       "    <tr style=\"text-align: right;\">\n",
       "      <th></th>\n",
       "      <th>mean</th>\n",
       "      <th>median</th>\n",
       "    </tr>\n",
       "    <tr>\n",
       "      <th>test group</th>\n",
       "      <th></th>\n",
       "      <th></th>\n",
       "    </tr>\n",
       "  </thead>\n",
       "  <tbody>\n",
       "    <tr>\n",
       "      <th>ad</th>\n",
       "      <td>2.557143</td>\n",
       "      <td>2.46</td>\n",
       "    </tr>\n",
       "    <tr>\n",
       "      <th>psa</th>\n",
       "      <td>1.770000</td>\n",
       "      <td>1.63</td>\n",
       "    </tr>\n",
       "  </tbody>\n",
       "</table>\n",
       "</div>"
      ],
      "text/plain": [
       "                mean  median\n",
       "test group                  \n",
       "ad          2.557143    2.46\n",
       "psa         1.770000    1.63"
      ]
     },
     "metadata": {},
     "output_type": "display_data"
    }
   ],
   "source": [
    "conversion_piv = daily_data.groupby('test group')['conversion'].agg(\n",
    "    ['mean', 'median']\n",
    ")\n",
    "display(conversion_piv)"
   ]
  },
  {
   "cell_type": "code",
   "execution_count": 13,
   "metadata": {},
   "outputs": [
    {
     "data": {
      "image/png": "[encoded data removed]",
      "text/plain": [
       "<Figure size 800x400 with 1 Axes>"
      ]
     },
     "metadata": {},
     "output_type": "display_data"
    }
   ],
   "source": [
    "# создаём фигуру размером 8x4\n",
    "fig = plt.figure(figsize=(8, 4)) \n",
    "# добавляем систему координат\n",
    "ax = fig.add_axes([1, 1, 1, 1]) \n",
    "# строим boxplot для conversion по признаку group\n",
    "sns.boxplot(data=daily_data, x='conversion', y='test group', ax=ax) \n",
    "# задаём подпись к графику\n",
    "ax.set_title('Сравнение конверсии в группах')\n",
    "# задаём отображение сетки\n",
    "ax.grid(True);"
   ]
  },
  {
   "cell_type": "code",
   "execution_count": 14,
   "metadata": {},
   "outputs": [
    {
     "data": {
      "image/png": "[encoded data removed]",
      "text/plain": [
       "<Figure size 800x400 with 1 Axes>"
      ]
     },
     "metadata": {},
     "output_type": "display_data"
    }
   ],
   "source": [
    "# создаём фигуру размером 8x4\n",
    "fig = plt.figure(figsize=(8, 4))\n",
    "# добавляем систему координат\n",
    "ax = fig.add_axes([1, 1, 1, 1])\n",
    "# строим lineplot для конверсии во времени в каждой группе\n",
    "sns.lineplot(\n",
    "    data=daily_data,\n",
    "    x='most ads day',\n",
    "    y='conversion',\n",
    "    hue='test group', \n",
    "    ax=ax\n",
    ")\n",
    "# задаём подпись к графику\n",
    "ax.set_title('График конверсии по дням')\n",
    "# задаём поворот меток на оси абсцисс\n",
    "ax.xaxis.set_tick_params(rotation=45)\n",
    "# задаём отображение сетки\n",
    "ax.grid(True);"
   ]
  },
  {
   "cell_type": "markdown",
   "metadata": {},
   "source": [
    "\n",
    "**Вывод.** На первый взгляд эффективнее первая группа по показателю конверсии, по среднему значению и медианному.\n",
    "\n",
    "Но при построении графиков видно что разброс у первой группы больше чем у второй и показатель конверсии нестабилен во времени."
   ]
  },
  {
   "cell_type": "markdown",
   "metadata": {},
   "source": [
    "## **Задача 4.** \n",
    "Проведите статистический анализ результатов A/B-тестирования: cформулируйте статистические гипотезы, соответствующие поставленным бизнес-вопросам, и выберите статистический тест для их проверки.\n",
    "\n",
    "\n",
    "Не забудьте проверить данные на нормальность там, где это необходимо.\n",
    "\n",
    "С помощью аппарата статистических тестов определите:\n",
    "\n",
    "Есть ли статистическая разница между конверсиями в группах А и B?\n",
    "\n",
    "Есть ли статистическая разница между средними количествами увиденной рекламы в группах А и B?"
   ]
  },
  {
   "cell_type": "code",
   "execution_count": 15,
   "metadata": {},
   "outputs": [
    {
     "name": "stdout",
     "output_type": "stream",
     "text": [
      "Выборки в 5320 будет достаточно для проведения теста\n"
     ]
    }
   ],
   "source": [
    "#Предварительно сбалансируем наши выборки\n",
    "p_control=conversion_piv['mean']['psa']/100\n",
    "p_test=conversion_piv['mean']['ad']/100\n",
    "\n",
    "effect_size = proportion_effectsize(p_control, p_test)\n",
    "\n",
    "\n",
    "# Какого размера выборок было бы достаточно?\n",
    "alpha = 0.05\n",
    "beta = 0.2 #желаемая\n",
    "\n",
    "sample_size = power.TTestIndPower().solve_power(effect_size=effect_size, alpha=alpha, power=1-beta, nobs1= None)\n",
    "print(f'Выборки в {round(sample_size)} будет достаточно для проведения теста')"
   ]
  },
  {
   "cell_type": "code",
   "execution_count": 16,
   "metadata": {},
   "outputs": [
    {
     "data": {
      "text/html": [
       "<div>\n",
       "<style scoped>\n",
       "    .dataframe tbody tr th:only-of-type {\n",
       "        vertical-align: middle;\n",
       "    }\n",
       "\n",
       "    .dataframe tbody tr th {\n",
       "        vertical-align: top;\n",
       "    }\n",
       "\n",
       "    .dataframe thead th {\n",
       "        text-align: right;\n",
       "    }\n",
       "</style>\n",
       "<table border=\"1\" class=\"dataframe\">\n",
       "  <thead>\n",
       "    <tr style=\"text-align: right;\">\n",
       "      <th></th>\n",
       "      <th>user id</th>\n",
       "      <th>test group</th>\n",
       "      <th>converted</th>\n",
       "      <th>total ads</th>\n",
       "      <th>most ads day</th>\n",
       "      <th>most ads hour</th>\n",
       "    </tr>\n",
       "  </thead>\n",
       "  <tbody>\n",
       "    <tr>\n",
       "      <th>0</th>\n",
       "      <td>922723</td>\n",
       "      <td>psa</td>\n",
       "      <td>1</td>\n",
       "      <td>30</td>\n",
       "      <td>2</td>\n",
       "      <td>14</td>\n",
       "    </tr>\n",
       "    <tr>\n",
       "      <th>1</th>\n",
       "      <td>903370</td>\n",
       "      <td>psa</td>\n",
       "      <td>0</td>\n",
       "      <td>24</td>\n",
       "      <td>6</td>\n",
       "      <td>11</td>\n",
       "    </tr>\n",
       "    <tr>\n",
       "      <th>2</th>\n",
       "      <td>901579</td>\n",
       "      <td>psa</td>\n",
       "      <td>0</td>\n",
       "      <td>2</td>\n",
       "      <td>1</td>\n",
       "      <td>7</td>\n",
       "    </tr>\n",
       "    <tr>\n",
       "      <th>3</th>\n",
       "      <td>923298</td>\n",
       "      <td>psa</td>\n",
       "      <td>0</td>\n",
       "      <td>54</td>\n",
       "      <td>6</td>\n",
       "      <td>17</td>\n",
       "    </tr>\n",
       "    <tr>\n",
       "      <th>4</th>\n",
       "      <td>904742</td>\n",
       "      <td>psa</td>\n",
       "      <td>0</td>\n",
       "      <td>2</td>\n",
       "      <td>4</td>\n",
       "      <td>13</td>\n",
       "    </tr>\n",
       "    <tr>\n",
       "      <th>...</th>\n",
       "      <td>...</td>\n",
       "      <td>...</td>\n",
       "      <td>...</td>\n",
       "      <td>...</td>\n",
       "      <td>...</td>\n",
       "      <td>...</td>\n",
       "    </tr>\n",
       "    <tr>\n",
       "      <th>10635</th>\n",
       "      <td>1042502</td>\n",
       "      <td>ad</td>\n",
       "      <td>0</td>\n",
       "      <td>33</td>\n",
       "      <td>1</td>\n",
       "      <td>10</td>\n",
       "    </tr>\n",
       "    <tr>\n",
       "      <th>10636</th>\n",
       "      <td>1083716</td>\n",
       "      <td>ad</td>\n",
       "      <td>0</td>\n",
       "      <td>9</td>\n",
       "      <td>4</td>\n",
       "      <td>22</td>\n",
       "    </tr>\n",
       "    <tr>\n",
       "      <th>10637</th>\n",
       "      <td>1543208</td>\n",
       "      <td>ad</td>\n",
       "      <td>0</td>\n",
       "      <td>12</td>\n",
       "      <td>5</td>\n",
       "      <td>21</td>\n",
       "    </tr>\n",
       "    <tr>\n",
       "      <th>10638</th>\n",
       "      <td>1046701</td>\n",
       "      <td>ad</td>\n",
       "      <td>0</td>\n",
       "      <td>10</td>\n",
       "      <td>2</td>\n",
       "      <td>13</td>\n",
       "    </tr>\n",
       "    <tr>\n",
       "      <th>10639</th>\n",
       "      <td>1023371</td>\n",
       "      <td>ad</td>\n",
       "      <td>1</td>\n",
       "      <td>11</td>\n",
       "      <td>4</td>\n",
       "      <td>14</td>\n",
       "    </tr>\n",
       "  </tbody>\n",
       "</table>\n",
       "<p>10640 rows × 6 columns</p>\n",
       "</div>"
      ],
      "text/plain": [
       "       user id test group  converted  total ads  most ads day  most ads hour\n",
       "0       922723        psa          1         30             2             14\n",
       "1       903370        psa          0         24             6             11\n",
       "2       901579        psa          0          2             1              7\n",
       "3       923298        psa          0         54             6             17\n",
       "4       904742        psa          0          2             4             13\n",
       "...        ...        ...        ...        ...           ...            ...\n",
       "10635  1042502         ad          0         33             1             10\n",
       "10636  1083716         ad          0          9             4             22\n",
       "10637  1543208         ad          0         12             5             21\n",
       "10638  1046701         ad          0         10             2             13\n",
       "10639  1023371         ad          1         11             4             14\n",
       "\n",
       "[10640 rows x 6 columns]"
      ]
     },
     "execution_count": 16,
     "metadata": {},
     "output_type": "execute_result"
    }
   ],
   "source": [
    "control_sample = df[df['test group']=='psa'].sample(n=ceil(sample_size), random_state=0)\n",
    "treatment_sample = df[df['test group']=='ad'].sample(n=ceil(sample_size), random_state=0)\n",
    "\n",
    "ab_test = pd.concat([control_sample, treatment_sample], axis=0)\n",
    "ab_test.reset_index(drop=True, inplace=True)\n",
    "ab_test"
   ]
  },
  {
   "cell_type": "markdown",
   "metadata": {},
   "source": [
    "**Решение:**\n",
    "\n",
    "Нулевая гипотеза : Нет существенной разницы между коэффициентами конверсии группы «AD» и группы «PSA».\n",
    "\n",
    "Альтернативная гипотеза: Коэффициент конверсии группы «AD» значительно выше, чем коэффициент конверсии группы «PSA»."
   ]
  },
  {
   "cell_type": "code",
   "execution_count": 17,
   "metadata": {},
   "outputs": [
    {
     "data": {
      "text/html": [
       "<div>\n",
       "<style scoped>\n",
       "    .dataframe tbody tr th:only-of-type {\n",
       "        vertical-align: middle;\n",
       "    }\n",
       "\n",
       "    .dataframe tbody tr th {\n",
       "        vertical-align: top;\n",
       "    }\n",
       "\n",
       "    .dataframe thead th {\n",
       "        text-align: right;\n",
       "    }\n",
       "</style>\n",
       "<table border=\"1\" class=\"dataframe\">\n",
       "  <thead>\n",
       "    <tr style=\"text-align: right;\">\n",
       "      <th></th>\n",
       "      <th>test group</th>\n",
       "      <th>users_count</th>\n",
       "      <th>converted</th>\n",
       "      <th>total ads</th>\n",
       "      <th>mean_ads</th>\n",
       "      <th>conversion</th>\n",
       "    </tr>\n",
       "  </thead>\n",
       "  <tbody>\n",
       "    <tr>\n",
       "      <th>0</th>\n",
       "      <td>ad</td>\n",
       "      <td>5320</td>\n",
       "      <td>140</td>\n",
       "      <td>130366</td>\n",
       "      <td>24.50</td>\n",
       "      <td>2.63</td>\n",
       "    </tr>\n",
       "    <tr>\n",
       "      <th>1</th>\n",
       "      <td>psa</td>\n",
       "      <td>5320</td>\n",
       "      <td>98</td>\n",
       "      <td>138011</td>\n",
       "      <td>25.94</td>\n",
       "      <td>1.84</td>\n",
       "    </tr>\n",
       "  </tbody>\n",
       "</table>\n",
       "</div>"
      ],
      "text/plain": [
       "  test group  users_count  converted  total ads  mean_ads  conversion\n",
       "0         ad         5320        140     130366     24.50        2.63\n",
       "1        psa         5320         98     138011     25.94        1.84"
      ]
     },
     "execution_count": 17,
     "metadata": {},
     "output_type": "execute_result"
    }
   ],
   "source": [
    "data = ab_test.groupby(['test group']).agg({\n",
    "    'user id':'count',\n",
    "    'converted':'sum',\n",
    "    'total ads':'sum'\n",
    "}).reset_index().rename(columns={'user id': 'users_count'})\n",
    "data['mean_ads']=data['total ads']/data['users_count']\n",
    "data['mean_ads']=data['mean_ads'].round(2)\n",
    "\n",
    "data['conversion']=data['converted']*100/data['users_count']\n",
    "data['conversion']=data['conversion'].round(2)\n",
    "data"
   ]
  },
  {
   "cell_type": "code",
   "execution_count": 18,
   "metadata": {},
   "outputs": [],
   "source": [
    "#из датасета data забираем данные для каждой из тестовых групп\n",
    "count_conversions_ad=data[data['test group']=='ad']['converted'].sum()\n",
    "count_conversions_psa=data[data['test group']=='psa']['converted'].sum()\n",
    "\n",
    "total_ads_ad=data[data['test group']=='ad']['total ads'].sum()\n",
    "total_ads_psa=data[data['test group']=='psa']['total ads'].sum()\n",
    "\n",
    "total_observations_ad=data[data['test group']=='ad']['users_count'].sum()\n",
    "total_observations_psa=data[data['test group']=='psa']['users_count'].sum()\n",
    "\n",
    "count_purchase = [count_conversions_ad, count_conversions_psa]\n",
    "count_ads=[total_ads_ad, total_ads_psa]  \n",
    "count_observation = [total_observations_ad, total_observations_psa] \n",
    "\n"
   ]
  },
  {
   "cell_type": "code",
   "execution_count": 19,
   "metadata": {},
   "outputs": [
    {
     "name": "stdout",
     "output_type": "stream",
     "text": [
      "Z-Score: 2.75\n",
      "P-Value: 0.006\n"
     ]
    }
   ],
   "source": [
    "#  Выполняем Z-тест \n",
    "z_stat, p_value = proportions_ztest(count=count_purchase, nobs=count_observation)\n",
    "\n",
    "# Определить результат теста\n",
    "alpha = 0.05  # Уровень значимости\n",
    "\n",
    "print(f'Z-Score: {z_stat:.2f}')\n",
    "print(f'P-Value: {p_value:.3f}')"
   ]
  },
  {
   "cell_type": "markdown",
   "metadata": {},
   "source": [
    "**Вывод.** В нашем случае p-value = 0.00, что меньше 0.05. Поэтому мы можем отклонить нулевую гипотезу. Другими словами, группа AD имеет значительно более высокий коэффициент конверсии, чем группа PSA."
   ]
  },
  {
   "cell_type": "markdown",
   "metadata": {},
   "source": [
    "**Решение:**\n",
    "\n",
    "Нулевая гипотеза : Нет существенной разницы между средними количествами увиденной рекламы группы «AD» и группы «PSA».\n",
    "\n",
    "Альтернативная гипотеза: Есть существенной разницы между средними количествами увиденной рекламы группы «AD» и группы «PSA»."
   ]
  },
  {
   "cell_type": "code",
   "execution_count": 21,
   "metadata": {},
   "outputs": [
    {
     "name": "stdout",
     "output_type": "stream",
     "text": [
      "p-value группы ad 0.0\n",
      "p-value группы psa 0.0\n",
      "Отвергаем нулевую гипотезу в пользу альтернативной. Распределение в группе ad отлично от нормального\n",
      "Отвергаем нулевую гипотезу в пользу альтернативной. Распределение в группе psa отлично от нормального\n"
     ]
    },
    {
     "name": "stderr",
     "output_type": "stream",
     "text": [
      "c:\\Users\\User\\AppData\\Local\\Programs\\Python\\Python311\\Lib\\site-packages\\scipy\\stats\\_morestats.py:1882: UserWarning: p-value may not be accurate for N > 5000.\n",
      "  warnings.warn(\"p-value may not be accurate for N > 5000.\")\n"
     ]
    }
   ],
   "source": [
    "alpha = 0.05 # уровень значимости\n",
    "# вычисляем результат теста Шапиро — Уилка для выборок\n",
    "shapiro_result_a = shapiro(ab_test[ab_test['test group']=='ad']['total ads'])\n",
    "shapiro_result_b = shapiro(ab_test[ab_test['test group']=='psa']['total ads'])\n",
    "print('p-value группы ad', round(shapiro_result_a.pvalue, 2))\n",
    "print('p-value группы psa', round(shapiro_result_b.pvalue, 2))\n",
    "\n",
    "# сравниваем полученное p-value для группы ad с уровнем значимости\n",
    "if shapiro_result_a.pvalue <= alpha:\n",
    "    print(\"Отвергаем нулевую гипотезу в пользу альтернативной. Распределение в группе ad отлично от нормального\")\n",
    "else:\n",
    "    print(\"Принимаем нулевую гипотезу. Распределение в группе ad является нормальным\")\n",
    "\n",
    "# сравниваем полученное p-value для группы B с уровнем значимости\n",
    "if shapiro_result_b.pvalue <= alpha:\n",
    "    print(\"Отвергаем нулевую гипотезу в пользу альтернативной. Распределение в группе psa отлично от нормального\")\n",
    "else:\n",
    "    print(\"Принимаем нулевую гипотезу. Распределение в группе psa является нормальным\")"
   ]
  },
  {
   "cell_type": "code",
   "execution_count": 22,
   "metadata": {},
   "outputs": [
    {
     "name": "stdout",
     "output_type": "stream",
     "text": [
      "p-value: 1.0\n",
      "У нас нет оснований отвергнуть нулевую гипотезу\n"
     ]
    }
   ],
   "source": [
    "alpha = 0.05 # уровень значимости\n",
    "\n",
    "# вычисляем результат теста Манна — Уитни для выборок\n",
    "results = mannwhitneyu(\n",
    "    x=data[data['test group']=='ad']['users_count'].sum(),\n",
    "    y=data[data['test group']=='psa']['users_count'].sum(),\n",
    "    alternative='two-sided'\n",
    ")\n",
    "print('p-value:', round(results.pvalue, 2))\n",
    "\n",
    "# сравниваем полученное p-value с уровнем значимости\n",
    "if results.pvalue <= alpha:\n",
    "    print(\"Отвергаем нулевую гипотезу в пользу альтернативной\")\n",
    "else:\n",
    "    print(\"У нас нет оснований отвергнуть нулевую гипотезу\")"
   ]
  },
  {
   "cell_type": "markdown",
   "metadata": {},
   "source": [
    "**Вывод.** В нашем случае p-value = 1, что , больше 0.05. Поэтому мы не можем отклонить нулевую гипотезу. Другими словами,нет существенной разницы между средними количествами увиденной рекламы."
   ]
  },
  {
   "cell_type": "code",
   "execution_count": 1,
   "metadata": {},
   "outputs": [],
   "source": [
    "# добавить проверку на нормальность для числа покупок + подкрепить стат. тестом"
   ]
  },
  {
   "cell_type": "markdown",
   "metadata": {},
   "source": [
    "## **Задача 5.**\n",
    "\n",
    "Подкрепите результаты статистических тестов, построив 95 % доверительные интервалы для:\n",
    "\n",
    "- конверсий в каждой из групп;\n",
    "- разницы конверсий в группах;\n",
    "- среднего количества увиденной рекламы в группах А и B.\n",
    "\n",
    "Проинтерпретируйте построенные доверительные интервалы для конверсий и среднего количества увиденной рекламы группах. Есть ли перекрытие между доверительными интервалами для групп? Если есть, то о чём это говорит?"
   ]
  },
  {
   "cell_type": "code",
   "execution_count": 23,
   "metadata": {},
   "outputs": [],
   "source": [
    "# фильтруем данные группы ad\n",
    "a_data = df[df['test group']=='ad']\n",
    "# фильтруем данные группы psa\n",
    "b_data = df[df['test group']=='psa']\n",
    "\n"
   ]
  },
  {
   "cell_type": "code",
   "execution_count": 24,
   "metadata": {},
   "outputs": [],
   "source": [
    "def proportion_conf_interval(x_p, n, gamma=0.95):  \n",
    "    alpha = 1 - gamma # уровень значимости\n",
    "    z_crit = -norm.ppf(alpha/2) # z-критическое\n",
    "    eps = z_crit * (x_p * (1 - x_p) / n) ** 0.5 # погрешность\n",
    "    lower_bound = x_p - eps # левая (нижняя) граница\n",
    "    upper_bound = x_p + eps # правая (верхняя) граница\n",
    "    # возвращаем кортеж из границ интервала\n",
    "    return lower_bound, upper_bound"
   ]
  },
  {
   "cell_type": "code",
   "execution_count": 25,
   "metadata": {},
   "outputs": [
    {
     "name": "stdout",
     "output_type": "stream",
     "text": [
      "Доверительный интервал для конверсии в группе ad: (2.51, 2.6)\n",
      "Доверительный интервал для конверсии в группе psa: (1.62, 1.95)\n"
     ]
    }
   ],
   "source": [
    "# строим доверительный интервал для конверсии в группе ad\n",
    "lower_bound_a, upper_bound_a  = proportion_conf_interval(\n",
    "    x_p=a_data['converted'].mean(), # выборочная пропорция\n",
    "    n=a_data['user id'].count() # размер выборки\n",
    ")\n",
    "\n",
    "# строим доверительный интервал для конверсии в группе psa\n",
    "lower_bound_b, upper_bound_b  = proportion_conf_interval(\n",
    "    x_p=b_data['converted'].mean(), # выборочная пропорция\n",
    "    n=b_data['user id'].count() # размер выборки\n",
    ")\n",
    "\n",
    "# выводим результат\n",
    "print('Доверительный интервал для конверсии в группе ad: {}'.format((round(lower_bound_a * 100, 2), round(upper_bound_a * 100, 2))))\n",
    "print('Доверительный интервал для конверсии в группе psa: {}'.format((round(lower_bound_b * 100, 2), round(upper_bound_b * 100, 2))))"
   ]
  },
  {
   "cell_type": "markdown",
   "metadata": {},
   "source": [
    "**Вывод.**  Перекрытие отсутсует. Это значит, что отсуствует вероятность, что истинное значение конверсии в обеих группах может совпасть. "
   ]
  },
  {
   "cell_type": "code",
   "execution_count": 26,
   "metadata": {},
   "outputs": [],
   "source": [
    "def diff_proportion_conf_interval(x_p, n, gamma=0.95):\n",
    "    alpha = 1 - gamma # уровень значимости\n",
    "    diff = x_p[1] - x_p[0] # выборочная разница конверсий групп B и A\n",
    "    z_crit = -norm.ppf(alpha/2) #z-критическое\n",
    "    eps = z_crit * (x_p[0] * (1 - x_p[0])/n[0] + x_p[1] * (1 - x_p[1])/n[1]) ** 0.5 # погрешность\n",
    "    lower_bound = diff - eps # левая (нижняя) граница\n",
    "    upper_bound = diff + eps # правая (верхняя) граница\n",
    "    # возвращаем кортеж из  границ интервала\n",
    "    return lower_bound, upper_bound"
   ]
  },
  {
   "cell_type": "code",
   "execution_count": 27,
   "metadata": {},
   "outputs": [
    {
     "name": "stdout",
     "output_type": "stream",
     "text": [
      "Доверительный интервал для разности конверсий: (-0.94, -0.6)\n"
     ]
    }
   ],
   "source": [
    "# размеры выборок групп ad и psa\n",
    "n = [a_data['user id'].count(), b_data['user id'].count()]\n",
    "# выборочная пропорция групп ad и psa\n",
    "x_p = [a_data['converted'].mean(), b_data['converted'].mean()]\n",
    "\n",
    "\n",
    "# строим доверительный интервал для разности пропорций\n",
    "lower_bound, upper_bound = diff_proportion_conf_interval(x_p=x_p, n=n)\n",
    "\n",
    "\n",
    "# выводим результат\n",
    "print('Доверительный интервал для разности конверсий: {}'.format((round(lower_bound*100, 2), round(upper_bound*100, 2))))"
   ]
  },
  {
   "cell_type": "markdown",
   "metadata": {},
   "source": [
    "**Вывод.** Истинная разница в конверсии  отрицательна. Тогда вариант psa хуже по метрике конверсии, чем вариант ad с заданной надёжностью."
   ]
  },
  {
   "cell_type": "code",
   "execution_count": 30,
   "metadata": {},
   "outputs": [],
   "source": [
    "def t_mean_conf_interval(x_mean, x_std, n, gamma=0.95):  \n",
    "    alpha = 1 - gamma # уровень значимости\n",
    "    k = n - 1\n",
    "    t_crit = -t.ppf(alpha/2, k) # t-критическое\n",
    "    eps = t_crit * x_std/(n ** 0.5) # погрешность\n",
    "    lower_bound = x_mean - eps # левая (нижняя) граница\n",
    "    upper_bound = x_mean + eps # правая (верхняя) граница\n",
    "    # возвращаем кортеж из границ интервала\n",
    "    return lower_bound, upper_bound\n"
   ]
  },
  {
   "cell_type": "code",
   "execution_count": 31,
   "metadata": {},
   "outputs": [
    {
     "name": "stdout",
     "output_type": "stream",
     "text": [
      "Доверительный интервал для среднего количества увиденной рекламы в группе ad: [24.71, 24.94]\n",
      "Доверительный интервал для среднего количества увиденной рекламы в группе psa:[24.21, 25.31]\n"
     ]
    }
   ],
   "source": [
    "# строим доверительный интервал для конверсии в группе ad\n",
    "x_mean=a_data['total ads'].mean(), # среднее\n",
    "x_std=a_data['total ads'].std( ) #стандартное отклонение\n",
    "n=a_data['user id'].count() # размер выборки\n",
    "lower_bound_a, upper_bound_a  = t_mean_conf_interval(x_mean, x_std, n)\n",
    "\n",
    "# строим доверительный интервал для конверсии в группе psa\n",
    "x_mean=b_data['total ads'].mean(), # среднее\n",
    "x_std=b_data['total ads'].std( ) #стандартное отклонение\n",
    "n=b_data['user id'].count() # размер выборки\n",
    "lower_bound_b, upper_bound_b  = t_mean_conf_interval(x_mean, x_std, n)\n",
    "\n",
    "# выводим результат\n",
    "print(f'Доверительный интервал для среднего количества увиденной рекламы в группе ad: {[lower_bound_a[0].round(2), upper_bound_a[0].round(2)]}')\n",
    "print(f'Доверительный интервал для среднего количества увиденной рекламы в группе psa:{[lower_bound_b[0].round(2), upper_bound_b[0].round(2)]}')\n"
   ]
  },
  {
   "cell_type": "markdown",
   "metadata": {},
   "source": [
    "**Вывод.**  Перекрытие присуствует в значительной мере. Это значит, что присуствует значительная вероятность, что истинное значение среднего количества увиденной рекламы в обеих группах может совпасть. "
   ]
  },
  {
   "cell_type": "markdown",
   "metadata": {},
   "source": [
    "**Общий вывод.** Построив 95 % доверительные интервалы мы полностью подкрепили результаты статистических тестов. \n",
    "\n",
    "Группа AD достигла значительно более высокого коэффициента конверсии по сравнению с группой (PSA). Это говорит об успешности рекламной компании, реализованной группой AD, в привлечении конверсий."
   ]
  }
 ],
 "metadata": {
  "kernelspec": {
   "display_name": "Python 3 (ipykernel)",
   "language": "python",
   "name": "python3"
  },
  "language_info": {
   "codemirror_mode": {
    "name": "ipython",
    "version": 3
   },
   "file_extension": ".py",
   "mimetype": "text/x-python",
   "name": "python",
   "nbconvert_exporter": "python",
   "pygments_lexer": "ipython3",
   "version": "3.9.7"
  }
 },
 "nbformat": 4,
 "nbformat_minor": 4
}
