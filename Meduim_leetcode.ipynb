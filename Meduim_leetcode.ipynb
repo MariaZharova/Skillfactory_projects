{
 "cells": [
  {
   "cell_type": "markdown",
   "id": "e0b16dcf",
   "metadata": {},
   "source": [
    "### Проверить, что число является степенью двойки"
   ]
  },
  {
   "cell_type": "code",
   "execution_count": 13,
   "id": "e615d83f",
   "metadata": {},
   "outputs": [
    {
     "data": {
      "text/plain": [
       "True"
      ]
     },
     "execution_count": 13,
     "metadata": {},
     "output_type": "execute_result"
    }
   ],
   "source": [
    "def is2(x):\n",
    "    return x and ((x & (x - 1)) == 0)\n",
    "is2(256)"
   ]
  },
  {
   "cell_type": "markdown",
   "id": "3442b762",
   "metadata": {},
   "source": [
    "### Камни и украшения"
   ]
  },
  {
   "cell_type": "code",
   "execution_count": 23,
   "id": "71c733f6",
   "metadata": {},
   "outputs": [
    {
     "name": "stdout",
     "output_type": "stream",
     "text": [
      "ab\n",
      "aabbccd\n",
      "4\n"
     ]
    }
   ],
   "source": [
    "J = input()\n",
    "S = input()\n",
    "brilliants = set(J)\n",
    "counter = 0\n",
    "for i in S:\n",
    "    if i in brilliants:\n",
    "        counter +=1\n",
    "        \n",
    "print(counter)"
   ]
  },
  {
   "cell_type": "markdown",
   "id": "7a9f1178",
   "metadata": {},
   "source": [
    "### Последовательно идущие единицы\n",
    "Требуется найти в бинарном векторе самую длинную последовательность единиц и вывести её длину."
   ]
  },
  {
   "cell_type": "code",
   "execution_count": 89,
   "id": "e5f8b0e5",
   "metadata": {},
   "outputs": [
    {
     "name": "stdout",
     "output_type": "stream",
     "text": [
      "0\n",
      "0\n"
     ]
    }
   ],
   "source": [
    "num_strings = int(input())\n",
    "counter = 0\n",
    "max_counter = 0\n",
    "for i in range(num_strings):\n",
    "    tmp = int(input())\n",
    "    if tmp == 1:\n",
    "        counter += 1\n",
    "    else:\n",
    "        if counter > max_counter:\n",
    "            max_counter = counter\n",
    "        counter = 0\n",
    "if counter > max_counter:\n",
    "    max_counter = counter\n",
    "print(max_counter)"
   ]
  },
  {
   "cell_type": "markdown",
   "id": "24df9305",
   "metadata": {},
   "source": [
    "### Удаление дубликатов\n",
    "Дан упорядоченный по неубыванию массив целых 32-разрядных чисел. Требуется удалить из него все повторения."
   ]
  },
  {
   "cell_type": "code",
   "execution_count": 64,
   "id": "e75e861a",
   "metadata": {},
   "outputs": [
    {
     "name": "stdout",
     "output_type": "stream",
     "text": [
      "0\n"
     ]
    },
    {
     "data": {
      "text/plain": [
       "[]"
      ]
     },
     "execution_count": 64,
     "metadata": {},
     "output_type": "execute_result"
    }
   ],
   "source": [
    "# num_elems = int(input())\n",
    "# if num_elems != 0:\n",
    "#     tmp1 = int(input())\n",
    "#     if num_elems == 1:\n",
    "#         print(tmp1)\n",
    "#     for i in range(1, num_elems):\n",
    "#         tmp2 = int(input())\n",
    "#         if tmp1 == tmp2:\n",
    "#             if i == num_elems - 1:\n",
    "#                 print(tmp1)\n",
    "#             continue\n",
    "#         print(tmp1)\n",
    "#         tmp1 = tmp2\n",
    "n = int(input())\n",
    "res = []\n",
    "temp_num = - 1\n",
    "for i in range(n):\n",
    "    num = input()\n",
    "    if num != temp_num:\n",
    "        res.append(num)\n",
    "        temp_num = num\n",
    "[print(k) for k in res]"
   ]
  },
  {
   "cell_type": "markdown",
   "id": "87ceb30e",
   "metadata": {},
   "source": [
    "### Генерация скобочных последовательностей (Generate Parentheses)\n",
    "Дано целое число n. Требуется вывести все правильные скобочные последовательности длины 2 ⋅ n, упорядоченные лексикографически"
   ]
  },
  {
   "cell_type": "code",
   "execution_count": 73,
   "id": "38a64086",
   "metadata": {},
   "outputs": [
    {
     "name": "stdout",
     "output_type": "stream",
     "text": [
      "2\n",
      "(())\n",
      "()()\n"
     ]
    }
   ],
   "source": [
    "n = int(input())\n",
    "def generate(cur, open, closed, n):\n",
    "    if len(cur) == 2*n:\n",
    "        print(cur)\n",
    "        return\n",
    "    if open < n:\n",
    "        generate(cur + '(', open + 1, closed, n)\n",
    "    if closed < open:\n",
    "        generate(cur + ')', open, closed + 1, n)\n",
    "\n",
    "def parens(n):\n",
    "    generate('', 0, 0, n)\n",
    "    \n",
    "parens(n)"
   ]
  },
  {
   "cell_type": "markdown",
   "id": "f69eb8c6",
   "metadata": {},
   "source": [
    "### Анаграммы\n",
    "Даны две строки, состоящие из строчных латинских букв. Требуется определить, являются ли эти строки анаграммами, т. е. отличаются ли они только порядком следования символов."
   ]
  },
  {
   "cell_type": "code",
   "execution_count": 85,
   "id": "79573fb4",
   "metadata": {},
   "outputs": [
    {
     "name": "stdout",
     "output_type": "stream",
     "text": [
      "234\n",
      "43\n"
     ]
    },
    {
     "data": {
      "text/plain": [
       "0"
      ]
     },
     "execution_count": 85,
     "metadata": {},
     "output_type": "execute_result"
    }
   ],
   "source": [
    "a = input()\n",
    "b = input()\n",
    "\n",
    "from collections import defaultdict\n",
    "def dict_from_string(s):\n",
    "    d = defaultdict(int)\n",
    "    for c in s:\n",
    "        d[c] += 1\n",
    "    return d\n",
    "\n",
    "def are_anagrams(a, b):\n",
    "    return int(dict_from_string(a) == dict_from_string(b))\n",
    "\n",
    "are_anagrams(a, b)"
   ]
  },
  {
   "cell_type": "markdown",
   "id": "f5121ed5",
   "metadata": {},
   "source": [
    "# MEDIUM"
   ]
  },
  {
   "cell_type": "markdown",
   "id": "cfe651f0",
   "metadata": {},
   "source": [
    "### LRU-cache\n",
    "Решение: https://leetcode.com/problems/lru-cache/solutions/2606056/python-explained-steps-clean-code-best-method/\n",
    "\n",
    "LRU, или LRU cache (Least Recently Used) — алгоритм для хранения ограниченного объема данных: из хранилища вытесняется информация, которая не использовалась дольше всего. Его применяют при организации кэша.\n",
    "https://blog.skillfactory.ru/glossary/lru/#:~:text=LRU%2C%20%D0%B8%D0%BB%D0%B8%20LRU%20cache%20"
   ]
  },
  {
   "cell_type": "code",
   "execution_count": null,
   "id": "39cfdf6a",
   "metadata": {},
   "outputs": [],
   "source": [
    "class LRUCache:\n",
    "    def __init__(self, capacity: int):\n",
    "        self.capacity = capacity\n",
    "        self.values = OrderedDict()\n",
    "\n",
    "    def get(self, key: int) -> int:\n",
    "        if key not in self.values:\n",
    "            return -1\n",
    "        else:\n",
    "            self.values[key] = self.values.pop(key)\n",
    "            return self.values[key]\n",
    "\n",
    "    def put(self, key: int, value: int) -> None:\n",
    "        if key not in self.values:\n",
    "            if len(self.values) == self.capacity:\n",
    "                self.values.popitem(last=False)\n",
    "        else:\n",
    "            self.values.pop(key)\n",
    "        self.values[key] = value"
   ]
  },
  {
   "cell_type": "markdown",
   "id": "bd0cd605",
   "metadata": {},
   "source": [
    "### Summary Ranges (диапазоны, отрезки)\n",
    "Решение: https://leetcode.com/problems/summary-ranges/solutions/3230054/228-solution-with-step-by-step-explanation/\n",
    "\n",
    "Вам дан отсортированный уникальный целочисленный массив nums. Возвращает наименьший отсортированный список диапазонов, точно покрывающий все числа в массиве. То есть каждый элемент nums покрывается ровно одним из диапазонов, и не существует целого числа x, такого что x находится в одном из диапазонов, но не в nums."
   ]
  },
  {
   "cell_type": "code",
   "execution_count": 87,
   "id": "b9b000aa",
   "metadata": {},
   "outputs": [
    {
     "data": {
      "text/plain": [
       "['1->3', '5->6', '8']"
      ]
     },
     "execution_count": 87,
     "metadata": {},
     "output_type": "execute_result"
    }
   ],
   "source": [
    "def summaryRanges(nums):\n",
    "    ans = []\n",
    "    i = 0\n",
    "    while i < len(nums):\n",
    "        begin = nums[i]\n",
    "        while i < len(nums) - 1 and nums[i] == nums[i + 1] - 1:\n",
    "            i += 1\n",
    "        end = nums[i]\n",
    "        if begin == end:\n",
    "            ans.append(str(begin))\n",
    "        else:\n",
    "            ans.append(str(begin) + \"->\" + str(end))\n",
    "        i += 1\n",
    "    return ans\n",
    "\n",
    "summaryRanges([1, 2, 3, 5, 6, 8])"
   ]
  },
  {
   "cell_type": "markdown",
   "id": "8443f6ab",
   "metadata": {},
   "source": [
    "### Group Anagrams\n",
    "Сгруппировать анаграммы, решение https://leetcode.com/problems/group-anagrams/solutions/2384037/python-easily-understood-hash-table-fast-simple/?languageTags=python\n",
    "\n",
    "Time complexity: O(m*nlogn)) \n",
    "\n",
    "Space complexity: O(n)"
   ]
  },
  {
   "cell_type": "code",
   "execution_count": 90,
   "id": "0ffb34aa",
   "metadata": {},
   "outputs": [
    {
     "data": {
      "text/plain": [
       "[['eat', 'tea', 'ate'], ['tan', 'nat'], ['bat']]"
      ]
     },
     "execution_count": 90,
     "metadata": {},
     "output_type": "execute_result"
    }
   ],
   "source": [
    "def groupAnagrams(strs):\n",
    "    strs_table = {}\n",
    "    for string in strs:\n",
    "        sorted_string = ''.join(sorted(string))\n",
    "        if sorted_string not in strs_table:\n",
    "            strs_table[sorted_string] = []\n",
    "        strs_table[sorted_string].append(string)\n",
    "    return list(strs_table.values())\n",
    "strs = [\"eat\",\"tea\",\"tan\",\"ate\",\"nat\",\"bat\"]\n",
    "groupAnagrams(strs)"
   ]
  },
  {
   "cell_type": "markdown",
   "id": "15609aa8",
   "metadata": {},
   "source": [
    "### Zigzag Iterator\n",
    "Input:\n",
    "\n",
    "[1,2,3]\n",
    "\n",
    "[4,5,6,7]\n",
    "\n",
    "[8,9]\n",
    "\n",
    "\n",
    "Output: [1,4,8,2,5,9,3,6,7]."
   ]
  },
  {
   "cell_type": "code",
   "execution_count": 91,
   "id": "a9b4f58a",
   "metadata": {},
   "outputs": [],
   "source": [
    "class ZigzagIterator(object):\n",
    "    def __init__(self, v1, v2):\n",
    "        \"\"\"\n",
    "        Initialize your data structure here.\n",
    "        :type v1: List[int]\n",
    "        :type v2: List[int]\n",
    "        \"\"\"\n",
    "        self.vals = (v[i] for i in itertools.count() for v in (v1, v2) if i < len(v))\n",
    "        self.n = len(v1) + len(v2)\n",
    "    def next(self):\n",
    "        \"\"\"\n",
    "        :rtype: int\n",
    "        \"\"\"\n",
    "        self.n -= 1\n",
    "        return next(self.vals)\n",
    "    def hasNext(self):\n",
    "        \"\"\"\n",
    "        :rtype: bool\n",
    "        \"\"\"\n",
    "        return self.n > 0"
   ]
  },
  {
   "cell_type": "markdown",
   "id": "342e7eec",
   "metadata": {},
   "source": [
    "### Subarray Sum Equals K (сумма по подмассивам)\n",
    "Решение: https://leetcode.com/problems/subarray-sum-equals-k/solutions/1759711/python-simple-python-solution-using-prefixsum-and-dictionary/\n",
    "\n",
    "Дан массив целых чисел nums и целое число k, вернуть общее количество подмассивов, сумма которых равна k."
   ]
  },
  {
   "cell_type": "code",
   "execution_count": 92,
   "id": "551ca2ce",
   "metadata": {},
   "outputs": [
    {
     "data": {
      "text/plain": [
       "2"
      ]
     },
     "execution_count": 92,
     "metadata": {},
     "output_type": "execute_result"
    }
   ],
   "source": [
    "def subarraySum(nums, k):\n",
    "    ans = 0\n",
    "    prefsum = 0\n",
    "    d = {0:1}\n",
    "    for num in nums:\n",
    "        prefsum = prefsum + num\n",
    "        if prefsum - k in d:\n",
    "            ans = ans + d[prefsum - k]\n",
    "        if prefsum not in d:\n",
    "            d[prefsum] = 1\n",
    "        else:\n",
    "            d[prefsum] = d[prefsum]+1\n",
    "\n",
    "    return ans\n",
    "nums = [1,2,3]\n",
    "k = 3\n",
    "subarraySum(nums, k)"
   ]
  },
  {
   "cell_type": "markdown",
   "id": "2c0f784f",
   "metadata": {},
   "source": [
    "### Merge Intervals (объединить пересекающиеся интервалы)\n",
    "Решение: https://leetcode.com/problems/merge-intervals/solutions/3129905/merge-intervals-by-using-stack-simple-explaination/\n",
    "\n",
    "Даны интервалы, вернуть массив всех неперекрывающихся интервалов (объединить пересекающиеся в один)"
   ]
  },
  {
   "cell_type": "code",
   "execution_count": null,
   "id": "368d804c",
   "metadata": {},
   "outputs": [],
   "source": [
    "def merge(intervals):\n",
    "    intervals.sort(key=lambda x:x[0])\n",
    "    stack = []\n",
    "    for i in range(len(intervals)):\n",
    "        if stack and stack[0][1] >= intervals[i][0]:\n",
    "            #Overlapping condition.... Update the end point accordingly...\n",
    "            stack[0][1] = max(stack[0][1],intervals[i][1])\n",
    "        else:\n",
    "            stack.insert(0,intervals[i])\n",
    "    return stack"
   ]
  },
  {
   "cell_type": "markdown",
   "id": "931400f1",
   "metadata": {},
   "source": [
    "### Max Consecutive Ones III (перевернуть нули, последовательности единицы)\n",
    "Решение: https://leetcode.com/problems/max-consecutive-ones-iii/solutions/719833/python3-sliding-window-with-clear-example-explains-why-the-soln-works/\n",
    "\n",
    "Дан массив 0 и 1, считывается число k - количество нулей, которые можно заменить на 1. Какая будет максимальная длина последователньости из единиц в получившемся массиве?"
   ]
  },
  {
   "cell_type": "code",
   "execution_count": null,
   "id": "0977c408",
   "metadata": {},
   "outputs": [],
   "source": [
    "def longestOnes(self, A: List[int], K: int) -> int:\n",
    "    left = right = 0  \n",
    "    for right in range(len(A)):\n",
    "        # if we encounter a 0 the we decrement K\n",
    "        if A[right] == 0:\n",
    "            K -= 1\n",
    "        # else no impact to K\n",
    "        \n",
    "        # if K < 0 then we need to move the left part of the window forward\n",
    "        # to try and remove the extra 0's\n",
    "        if K < 0:\n",
    "          # if the left one was zero then we adjust K\n",
    "            if A[left] == 0:\n",
    "                K += 1\n",
    "          # regardless of whether we had a 1 or a 0 we can move left side by 1\n",
    "          # if we keep seeing 1's the window still keeps moving as-is\n",
    "            left += 1\n",
    "      \n",
    "    return right - left + 1"
   ]
  },
  {
   "cell_type": "markdown",
   "id": "b9d2a5ce",
   "metadata": {},
   "source": [
    "### Validate Binary Search Tree (правильность бинарного дерева)\n",
    "BST:\n",
    "- левый потомок меньше родителя\n",
    "- правый потомок больше родителя\n",
    "- левое и правое поддеревья удовлетворяют тем же критериям\n",
    "\n",
    "O(n) - память (стек рекурсии), О(n) - сложность (каждый узел обходим 1 раз)\n",
    "\n",
    "#### Объяснение решения:\n",
    "\n",
    "- Функция isValidBST берет корень двоичного дерева и возвращает логическое значение, указывающее, является ли это действительным BST.\n",
    "- Он вызывает вспомогательную функцию helper в корне дерева со значениями по умолчанию для нижней и верхней границ отрицательной бесконечности и положительной бесконечности соответственно.\n",
    "- Вспомогательная функция принимает узел и его нижнюю и верхнюю границы и возвращает True, если узел является допустимым узлом BST и все его потомки являются допустимыми узлами BST в пределах заданных границ.\n",
    "- Если узел равен None, функция возвращает True.\n",
    "- В противном случае он проверяет, находится ли значение узла в заданных пределах, и возвращает False, если это не так.\n",
    "- Затем он рекурсивно проверяет левое и правое поддеревья, передавая обновленные границы для каждого поддерева.\n",
    "- Если какое-либо из поддеревьев возвращает False, функция возвращает False.\n",
    "- В противном случае он возвращает True.\n",
    "- Наконец, функция isValidBST возвращает результат вызова вспомогательной функции на корневом узле."
   ]
  },
  {
   "cell_type": "code",
   "execution_count": 108,
   "id": "1136a6f7",
   "metadata": {},
   "outputs": [
    {
     "data": {
      "text/plain": [
       "3"
      ]
     },
     "execution_count": 108,
     "metadata": {},
     "output_type": "execute_result"
    }
   ],
   "source": [
    "import numpy as np\n",
    "# Definition for a binary tree node.\n",
    "class TreeNode:\n",
    "    def __init__(self, val=0, left=None, right=None):\n",
    "        self.val = val\n",
    "        self.left = left\n",
    "        self.right = right\n",
    "        \n",
    "    def isValidBST(self, root):\n",
    "        def helper(node, lower = float('-inf'), upper = float('inf')):\n",
    "            if not node:\n",
    "                return True\n",
    "\n",
    "            val = node.val\n",
    "            if val <= lower or val >= upper:\n",
    "                return False\n",
    "\n",
    "            if not helper(node.right, val, upper):\n",
    "                return False\n",
    "            if not helper(node.left, lower, val):\n",
    "                return False\n",
    "            return True\n",
    "        \n",
    "        return helper(root)\n",
    "    \n",
    "root = [2,1,3]\n",
    "#root1 = [5,1,4,np.nan,np.nan,3,6]\n",
    "my_tree = TreeNode(*root)\n",
    "my_tree.right"
   ]
  },
  {
   "cell_type": "markdown",
   "id": "4f273f38",
   "metadata": {},
   "source": [
    "### Insert Delete GetRandom O(1)\n",
    "(Структура, которая вставляет, удаляет элементы и получает из неё рандомный).\n",
    "\n",
    "Решение: https://leetcode.com/problems/insert-delete-getrandom-o1/solutions/455253/python-super-efficient-detailed-explanation/?languageTags=python3"
   ]
  },
  {
   "cell_type": "code",
   "execution_count": null,
   "id": "47786706",
   "metadata": {},
   "outputs": [],
   "source": [
    "class RandomizedSet:\n",
    "\n",
    "    def __init__(self):\n",
    "        self.data_map = {} # dictionary, aka map, aka hashtable, aka hashmap\n",
    "        self.data = [] # list aka array\n",
    "\n",
    "    def insert(self, val: int) -> bool:\n",
    "\n",
    "        # the problem indicates we need to return False if the item \n",
    "        # is already in the RandomizedSet---checking if it's in the\n",
    "        # dictionary is on average O(1) where as\n",
    "        # checking the array is on average O(n)\n",
    "        if val in self.data_map:\n",
    "            return False\n",
    "\n",
    "        # add the element to the dictionary. Setting the value as the \n",
    "        # length of the list will accurately point to the index of the \n",
    "        # new element. (len(some_list) is equal to the index of the last item +1)\n",
    "        self.data_map[val] = len(self.data)\n",
    "\n",
    "        # add to the list\n",
    "        self.data.append(val)\n",
    "        \n",
    "        return True\n",
    "\n",
    "    def remove(self, val: int) -> bool:\n",
    "\n",
    "        # again, if the item is not in the data_map, return False. \n",
    "        # we check the dictionary instead of the list due to lookup complexity\n",
    "        if not val in self.data_map:\n",
    "            return False\n",
    "\n",
    "        # essentially, we're going to move the last element in the list \n",
    "        # into the location of the element we want to remove. \n",
    "        # this is a significantly more efficient operation than the obvious \n",
    "        # solution of removing the item and shifting the values of every item \n",
    "        # in the dicitionary to match their new position in the list\n",
    "        last_elem_in_list = self.data[-1]\n",
    "        index_of_elem_to_remove = self.data_map[val]\n",
    "\n",
    "        self.data_map[last_elem_in_list] = index_of_elem_to_remove\n",
    "        self.data[index_of_elem_to_remove] = last_elem_in_list\n",
    "\n",
    "        # change the last element in the list to now be the value of the element \n",
    "        # we want to remove\n",
    "        self.data[-1] = val\n",
    "\n",
    "        # remove the last element in the list\n",
    "        self.data.pop()\n",
    "\n",
    "        # remove the element to be removed from the dictionary\n",
    "        self.data_map.pop(val)\n",
    "        return True\n",
    "\n",
    "    def getRandom(self) -> int:\n",
    "        # if running outside of leetcode, you need to `import random`.\n",
    "        # random.choice will randomly select an element from the list of data.\n",
    "        return random.choice(self.data)"
   ]
  },
  {
   "cell_type": "markdown",
   "id": "736fd812",
   "metadata": {},
   "source": [
    "### Permutation in String\n",
    "True, если первая строка - комбинация некоторых букв первой.\n",
    "\n",
    "Решение: https://leetcode.com/problems/permutation-in-string/solutions/1761953/python3-sliding-window-optimized-explained/ \n",
    "\n",
    "Time O(n), memory O(1) + по ссылке оптимизированное"
   ]
  },
  {
   "cell_type": "code",
   "execution_count": null,
   "id": "3af83cb3",
   "metadata": {},
   "outputs": [],
   "source": [
    "def checkInclusion(self, s1: str, s2: str) -> bool:\n",
    "    cntr, w = Counter(s1), len(s1)   \n",
    "    for i in range(len(s2)):\n",
    "        if s2[i] in cntr: \n",
    "            cntr[s2[i]] -= 1\n",
    "        if i >= w and s2[i-w] in cntr: \n",
    "            cntr[s2[i-w]] += 1\n",
    "\n",
    "        if all([cntr[i] == 0 for i in cntr]): # see optimized code below\n",
    "            return True\n",
    "    return False"
   ]
  },
  {
   "cell_type": "markdown",
   "id": "f180dc7e",
   "metadata": {},
   "source": [
    "### Max Consecutive Ones II"
   ]
  },
  {
   "cell_type": "code",
   "execution_count": 112,
   "id": "d1b2b84b",
   "metadata": {},
   "outputs": [
    {
     "data": {
      "text/plain": [
       "4"
      ]
     },
     "execution_count": 112,
     "metadata": {},
     "output_type": "execute_result"
    }
   ],
   "source": [
    "def findMaxConsecutiveOnes(nums):\n",
    "    res = 0\n",
    "    cur = 0\n",
    "    cnt = 0\n",
    "    for i in range(len(nums)):\n",
    "        cnt += 1\n",
    "        if (nums[i] == 0):\n",
    "            cur = cnt\n",
    "            cnt = 0 \n",
    "        res = np.max([res, cnt + cur])\n",
    "    return res\n",
    "findMaxConsecutiveOnes([1,0,1,1,0])"
   ]
  },
  {
   "cell_type": "markdown",
   "id": "4d1ad094",
   "metadata": {},
   "source": [
    "### Spiral Matrix II\n",
    "Решение: https://leetcode.com/problems/longest-substring-without-repeating-characters\n",
    "\n",
    "Для заданного положительного целого числа n сгенерируйте матрицу размера n x n, заполненную элементами от 1 до n2 в порядке спирали."
   ]
  },
  {
   "cell_type": "code",
   "execution_count": 115,
   "id": "7d19ed69",
   "metadata": {},
   "outputs": [
    {
     "data": {
      "text/plain": [
       "[[1, 2, 3, 4, 5],\n",
       " [16, 17, 18, 19, 6],\n",
       " [15, 24, 25, 20, 7],\n",
       " [14, 23, 22, 21, 8],\n",
       " [13, 12, 11, 10, 9]]"
      ]
     },
     "execution_count": 115,
     "metadata": {},
     "output_type": "execute_result"
    }
   ],
   "source": [
    "def generateMatrix(n):\n",
    "    matrix = [[0] * n for _ in range(n)]    \n",
    "    count = 1\n",
    "    rowStart = 0\n",
    "    rowEnd = n-1\n",
    "    colStart = 0\n",
    "    colEnd = n-1\n",
    "\n",
    "    while(rowStart <= rowEnd and colStart <= colEnd):\n",
    "        for i in range(colStart, colEnd+1):\n",
    "            matrix[rowStart][i] = count\n",
    "            count += 1\n",
    "        rowStart += 1\n",
    "    \n",
    "        if rowStart > rowEnd:\n",
    "            break\n",
    "        \n",
    "        for i in range(rowStart, rowEnd+1):\n",
    "            matrix[i][colEnd] = count\n",
    "            count += 1\n",
    "        colEnd -= 1\n",
    "        \n",
    "        if colStart > colEnd:\n",
    "            break\n",
    "        \n",
    "        for i in range(colEnd, colStart-1, -1):\n",
    "            matrix[rowEnd][i] = count\n",
    "            count += 1\n",
    "        rowEnd -= 1\n",
    "    \n",
    "        if rowStart > rowEnd:\n",
    "            break\n",
    "        \n",
    "        for i in range(rowEnd, rowStart-1, -1):\n",
    "            matrix[i][colStart] = count\n",
    "            count += 1\n",
    "        colStart += 1\n",
    "    return matrix\n",
    "generateMatrix(5)"
   ]
  },
  {
   "cell_type": "markdown",
   "id": "769b1177",
   "metadata": {},
   "source": [
    "### Longest Substring Without Repeating Characters\n",
    "Дана строка s, найдите длину самой длинной подстроки без повторяющихся символов.\n",
    "\n",
    "Решение: https://leetcode.com/problems/longest-substring-without-repeating-characters/solutions/3160192/python-simple-solution-efficient-solution/"
   ]
  },
  {
   "cell_type": "code",
   "execution_count": 116,
   "id": "59c1a075",
   "metadata": {},
   "outputs": [
    {
     "data": {
      "text/plain": [
       "3"
      ]
     },
     "execution_count": 116,
     "metadata": {},
     "output_type": "execute_result"
    }
   ],
   "source": [
    "def lengthOfLongestSubstring(s):\n",
    "    char_set = set()\n",
    "    max_len, start = 0, 0\n",
    "    for i, c in enumerate(s):\n",
    "        while c in char_set:\n",
    "            char_set.remove(s[start])\n",
    "            start += 1\n",
    "        char_set.add(c)\n",
    "        max_len = max(max_len, i - start + 1)\n",
    "    return max_len\n",
    "\n",
    "lengthOfLongestSubstring(\"abcabcbb\")"
   ]
  },
  {
   "cell_type": "markdown",
   "id": "bd89a366",
   "metadata": {},
   "source": [
    "### Add Two Numbers\n",
    "Даны два односвязных списка, обозначающих два числа (n-значных), \"записаны\" в обратном порядке. Сложить их арифметически в третий список\n",
    "\n",
    "Решение: https://leetcode.com/problems/add-two-numbers/solutions/3160216/python-simple-solution-youtube-link-attached/"
   ]
  },
  {
   "cell_type": "code",
   "execution_count": 119,
   "id": "38f2a03a",
   "metadata": {},
   "outputs": [],
   "source": [
    "# Definition for singly-linked list.\n",
    "class ListNode:\n",
    "    def __init__(self, val=0, next=None):\n",
    "        self.val = val\n",
    "        self.next = next\n",
    "def addTwoNumbers(l1, l2):\n",
    "    dummy = ListNode()\n",
    "    curr = dummy\n",
    "    carry = 0\n",
    "    while l1 or l2 or carry:\n",
    "        val = carry\n",
    "        if l1:\n",
    "            val += l1.val\n",
    "            l1 = l1.next\n",
    "        if l2:\n",
    "            val += l2.val\n",
    "            l2 = l2.next\n",
    "        carry, val = divmod(val, 10)\n",
    "        curr.next = ListNode(val)\n",
    "        curr = curr.next\n",
    "    return dummy.next\n",
    "# addTwoNumbers(ListNode([2,4,3]), ListNode([5,6,4]))"
   ]
  },
  {
   "cell_type": "markdown",
   "id": "26afc195",
   "metadata": {},
   "source": [
    "### Reconstruct Itinerary (HARD)\n",
    "Решение: https://leetcode.com/problems/reconstruct-itinerary/solutions/78768/short-ruby-python-java-c/\n",
    "\n",
    "Вам дан список авиабилетов, где ticket[i] = [fromi, toi] представляют аэропорты вылета и прибытия одного рейса. Восстановите маршрут по порядку и верните его."
   ]
  },
  {
   "cell_type": "code",
   "execution_count": null,
   "id": "b5512a2c",
   "metadata": {},
   "outputs": [],
   "source": [
    "def findItinerary(tickets):\n",
    "    targets = collections.defaultdict(list)\n",
    "    for a, b in sorted(tickets)[::-1]:\n",
    "        targets[a] += b,\n",
    "    route = []\n",
    "    def visit(airport):\n",
    "        while targets[airport]:\n",
    "            visit(targets[airport].pop())\n",
    "        route.append(airport)\n",
    "    visit('JFK')\n",
    "    return route[::-1]"
   ]
  },
  {
   "cell_type": "markdown",
   "id": "97a3c478",
   "metadata": {},
   "source": [
    "### Subarray Sums Divisible by K\n",
    "Дан целочисленный массив nums и целое число k, вернуть количество непустых подмассивов, сумма которых делится на k."
   ]
  },
  {
   "cell_type": "code",
   "execution_count": 120,
   "id": "560a947c",
   "metadata": {},
   "outputs": [
    {
     "data": {
      "text/plain": [
       "7"
      ]
     },
     "execution_count": 120,
     "metadata": {},
     "output_type": "execute_result"
    }
   ],
   "source": [
    "def subarraysDivByK(nums, k):\n",
    "    dict = defaultdict(int)\n",
    "    dict[0] =1\n",
    "    output = 0\n",
    "    Sum = 0\n",
    "    for n in nums:\n",
    "        Sum +=n\n",
    "        m = Sum % k\n",
    "        output += dict[m]\n",
    "        dict[m] += 1\n",
    "    return output\n",
    "subarraysDivByK(nums = [4,5,0,-2,-3,1], k = 5)"
   ]
  },
  {
   "cell_type": "markdown",
   "id": "bbe7cdaf",
   "metadata": {},
   "source": [
    "### Longest Palindromic Substring\n",
    "Дана строка, вернуть наибольшую палиндромную подстроку\n",
    "\n",
    "Решение: https://leetcode.com/problems/longest-palindromic-substring/solutions/3328615/easy-python-solution/?languageTags=python3"
   ]
  },
  {
   "cell_type": "code",
   "execution_count": 121,
   "id": "9a71376d",
   "metadata": {},
   "outputs": [
    {
     "data": {
      "text/plain": [
       "'bab'"
      ]
     },
     "execution_count": 121,
     "metadata": {},
     "output_type": "execute_result"
    }
   ],
   "source": [
    "def longestPalindrome(s):\n",
    "    sub = ''\n",
    "    for indi, i in enumerate(s):\n",
    "        for indj, j in enumerate(s[indi:], start=indi):\n",
    "            if i == j and s[indi:indj+1] == s[indi:indj+1][::-1] and len(s[indi:indj+1]) > len(sub):\n",
    "                sub = s[indi:indj+1]\n",
    "    return sub\n",
    "s = \"babad\"\n",
    "longestPalindrome(s)"
   ]
  },
  {
   "cell_type": "markdown",
   "id": "4ade11bb",
   "metadata": {},
   "source": [
    "### 3Sum\n",
    "Для массива целых чисел nums вернуть все триплеты [nums[i], nums[j], nums[k]] такие, что i != j, i != k и j != k, и nums[i] + числа [j] + числа [k] == 0.\n",
    "Обратите внимание, что в наборе решений не должно быть повторяющихся триплетов.\n",
    "\n",
    "Решение: https://leetcode.com/problems/3sum/solutions/2602454/python-solution-100-explained/?languageTags=python3"
   ]
  },
  {
   "cell_type": "code",
   "execution_count": 123,
   "id": "c904b915",
   "metadata": {},
   "outputs": [
    {
     "data": {
      "text/plain": [
       "[[-1, -1, 2], [-1, 0, 1]]"
      ]
     },
     "execution_count": 123,
     "metadata": {},
     "output_type": "execute_result"
    }
   ],
   "source": [
    "def threeSum(nums):\n",
    "    nums.sort() # sorting cause we need to avoid duplicates, with this duplicates will be near to each other\n",
    "    l = []\n",
    "    for i in range(len(nums)):  #this loop will help to fix the one number i.e, i\n",
    "        if i > 0 and nums[i-1] == nums[i]:  #skipping if we found the duplicate of i\n",
    "            continue \n",
    "\n",
    "        #NOW FOLLOWING THE RULE OF TWO POINTERS AFTER FIXING THE ONE VALUE (i)\n",
    "        j = i + 1 #taking j pointer larger than i (as said in ques)\n",
    "        k = len(nums) - 1 #taking k pointer from last \n",
    "        while j < k: \n",
    "            s = nums[i] + nums[j] + nums[k] \n",
    "            if s > 0: #if sum s is greater than 0(target) means the larger value(from right as nums is sorted i.e, k at right) \n",
    "            #is taken and it is not able to sum up to the target\n",
    "                k -= 1  #so take value less than previous\n",
    "            elif s < 0: #if sum s is less than 0(target) means the shorter value(from left as nums is sorted i.e, j at left) \n",
    "            #is taken and it is not able to sum up to the target\n",
    "                j += 1  #so take value greater than previous\n",
    "            else:\n",
    "                l.append([nums[i], nums[j], nums[k]]) #if sum s found equal to the target (0)\n",
    "                j += 1 \n",
    "                while nums[j-1] == nums[j] and j < k: #skipping if we found the duplicate of j and we dont need to check \n",
    "                #the duplicate of k cause it will automatically skip the duplicate by the adjustment of i and j\n",
    "                    j += 1\n",
    "    return l\n",
    "nums = [-1,0,1,2,-1,-4]\n",
    "threeSum(nums)\n"
   ]
  },
  {
   "cell_type": "markdown",
   "id": "a5086185",
   "metadata": {},
   "source": [
    "### Serialize and Deserialize BST\n",
    "Сериализовать дерево в строку и наоборот.\n",
    "\n",
    "Решение: https://leetcode.com/problems/serialize-and-deserialize-bst/solutions/3274720/449-time-91-2-solution-with-step-by-step-explanation/"
   ]
  },
  {
   "cell_type": "code",
   "execution_count": null,
   "id": "ec1ffdb6",
   "metadata": {},
   "outputs": [],
   "source": [
    "# Definition for a binary tree node.\n",
    "# class TreeNode:\n",
    "#     def __init__(self, x):\n",
    "#         self.val = x\n",
    "#         self.left = None\n",
    "#         self.right = None\n",
    "class Codec:\n",
    "    def serialize(self, root: Optional[TreeNode]) -> str:\n",
    "        res = []\n",
    "        \n",
    "        def dfs(node):\n",
    "            if not node:\n",
    "                res.append(\"N\")\n",
    "                return\n",
    "            res.append(str(node.val))\n",
    "            dfs(node.left)\n",
    "            dfs(node.right)\n",
    "            \n",
    "        dfs(root)\n",
    "        return \",\".join(res)\n",
    "        \n",
    "    def deserialize(self, data: str) -> Optional[TreeNode]:\n",
    "        vals = data.split(\",\")\n",
    "        self.i = 0\n",
    "        \n",
    "        def dfs():\n",
    "            if vals[self.i] == \"N\":\n",
    "                self.i += 1\n",
    "                return None\n",
    "            node = TreeNode(int(vals[self.i]))\n",
    "            self.i += 1\n",
    "            node.left = dfs()\n",
    "            node.right = dfs()\n",
    "            return node\n",
    "        return dfs()"
   ]
  },
  {
   "cell_type": "markdown",
   "id": "b3525130",
   "metadata": {},
   "source": [
    "### Rotate Image\n",
    "Повернуть матрицу на 90 градусов по часово стрелке.\n",
    "\n",
    "Решение: https://leetcode.com/problems/rotate-image/solutions/3146840/easy-python3-solution-beats-94-run-time/?languageTags=python3"
   ]
  },
  {
   "cell_type": "code",
   "execution_count": 124,
   "id": "50e27642",
   "metadata": {},
   "outputs": [],
   "source": [
    "def rotate(matrix):\n",
    "    \"\"\"\n",
    "    Do not return anything, modify matrix in-place instead.\n",
    "    \"\"\"\n",
    "    lst=[]\n",
    "    for i in zip(*matrix):\n",
    "        lst.append(i[::-1])\n",
    "    matrix[:]=lst"
   ]
  },
  {
   "cell_type": "markdown",
   "id": "9d52fa4f",
   "metadata": {},
   "source": [
    "### Search in Rotated Sorted Array\n",
    "Найти число в массиве? ЧЗХ\n",
    "https://leetcode.com/problems/search-in-rotated-sorted-array/solutions/3310500/easiest-solution-ever-c-java-python/?languageTags=python3\n",
    "\n",
    "Это O(n)! Нужно бинарный поиск для O(logn)"
   ]
  },
  {
   "cell_type": "code",
   "execution_count": null,
   "id": "304e2989",
   "metadata": {},
   "outputs": [],
   "source": [
    "def search(nums, target):\n",
    "    if target in nums:\n",
    "        return nums.index(target)\n",
    "    return -1"
   ]
  },
  {
   "cell_type": "markdown",
   "id": "c6695066",
   "metadata": {},
   "source": [
    "### Remove Nth Node From End of List\n",
    "Удалить n-й с конца элемент односвязного списка\n",
    "\n",
    "Решение: https://leetcode.com/problems/remove-nth-node-from-end-of-list/solutions/1164542/js-python-java-c-easy-two-pointer-solution-w-explanation/"
   ]
  },
  {
   "cell_type": "code",
   "execution_count": null,
   "id": "cc24d803",
   "metadata": {},
   "outputs": [],
   "source": [
    "# Definition for singly-linked list.\n",
    "# class ListNode:\n",
    "#     def __init__(self, val=0, next=None):\n",
    "#         self.val = val\n",
    "#         self.next = next\n",
    "    def removeNthFromEnd(self, head: ListNode, n: int) -> ListNode:\n",
    "        fast, slow = head, head\n",
    "        for _ in range(n): \n",
    "            fast = fast.next\n",
    "        if not fast: \n",
    "            return head.next\n",
    "        while fast.next: \n",
    "            fast, slow = fast.next, slow.next\n",
    "        slow.next = slow.next.next\n",
    "        return head"
   ]
  },
  {
   "cell_type": "markdown",
   "id": "3cfff52c",
   "metadata": {},
   "source": [
    "### Simplify Path\n",
    "Вернуть канонический путь к файлу:\n",
    "- Путь начинается с косой черты «/».\n",
    "- Любые два каталога разделяются косой чертой '/'.\n",
    "- Путь не заканчивается завершающим символом '/'.\n",
    "- Путь содержит только каталоги на пути от корневого каталога до целевого файла или каталога (т. е. без точки «.» или двойной точки «..»)\n",
    "\n",
    "O(n), O(n)"
   ]
  },
  {
   "cell_type": "code",
   "execution_count": null,
   "id": "9ab6b099",
   "metadata": {},
   "outputs": [],
   "source": [
    "def simplifyPath(path):\n",
    "    levels, stack = path.split(\"/\"), []\n",
    "    for l in levels:\n",
    "        if len(l)>0 and l != '.':\n",
    "            if l == '..' and stack:\n",
    "                stack.pop()\n",
    "            else if != '..':\n",
    "                stack.append(l)       \n",
    "    return \"/\"+\"/\".join(stack)"
   ]
  },
  {
   "cell_type": "markdown",
   "id": "8d3c87ca",
   "metadata": {},
   "source": [
    "### Evaluate Reverse Polish Notation\n",
    "Посчитать значнеие выражения в обратной польской нотации:\n",
    "- Input: tokens = [\"2\",\"1\",\"+\",\"3\",\"*\"]\n",
    "- Output: 9\n",
    "- Explanation: ((2 + 1) * 3) = 9\n",
    "\n",
    "- Input: tokens = [\"4\",\"13\",\"5\",\"/\",\"+\"]\n",
    "- Output: 6\n",
    "- Explanation: (4 + (13 / 5)) = 6\n",
    "\n",
    "Решение: https://leetcode.com/problems/evaluate-reverse-polish-notation/solutions/2920598/easy-solution-w-explanation-c-java-python-no-runtime-error/?languageTags=python\n",
    "\n",
    "О(N), O(N), stack"
   ]
  },
  {
   "cell_type": "code",
   "execution_count": 125,
   "id": "64d2d759",
   "metadata": {},
   "outputs": [
    {
     "data": {
      "text/plain": [
       "9"
      ]
     },
     "execution_count": 125,
     "metadata": {},
     "output_type": "execute_result"
    }
   ],
   "source": [
    "def evalRPN(tokens):\n",
    "    stack = []\n",
    "    for i in tokens:\n",
    "        if i not in {\"+\", \"-\", \"*\", \"/\"}:\n",
    "            stack.append(int(i))\n",
    "        else: #operand\n",
    "            b, a = stack.pop(), stack.pop()\n",
    "            if i == \"+\": \n",
    "                stack.append(a + b)\n",
    "            elif i == \"-\": \n",
    "                stack.append(a - b)\n",
    "            elif i == \"*\": \n",
    "                stack.append(a*b)\n",
    "            else: \n",
    "                stack.append(trunc(a/b))\n",
    "    return stack[0]\n",
    "evalRPN(tokens = [\"2\",\"1\",\"+\",\"3\",\"*\"])"
   ]
  },
  {
   "cell_type": "markdown",
   "id": "33f117d9",
   "metadata": {},
   "source": [
    "### Find First and Last Position of Element in Sorted Array\n",
    "Дан отсортированный по возрастанию массив, вернуть первую и последнюю позицию таргета.\n",
    "\n",
    "Решение: https://leetcode.com/problems/find-first-and-last-position-of-element-in-sorted-array/solutions/1054742/python-o-logn/?languageTags=python3 (бинарный поиск)\n"
   ]
  },
  {
   "cell_type": "code",
   "execution_count": 126,
   "id": "712689a4",
   "metadata": {},
   "outputs": [
    {
     "data": {
      "text/plain": [
       "[3, 4]"
      ]
     },
     "execution_count": 126,
     "metadata": {},
     "output_type": "execute_result"
    }
   ],
   "source": [
    "def searchRange(nums, target):\n",
    "    def search(x):\n",
    "        lo, hi = 0, len(nums)           \n",
    "        while lo < hi:\n",
    "            mid = (lo + hi) // 2\n",
    "            if nums[mid] < x:\n",
    "                lo = mid+1\n",
    "            else:\n",
    "                hi = mid                    \n",
    "        return lo   \n",
    "    lo = search(target)\n",
    "    hi = search(target+1)-1        \n",
    "    if lo <= hi:\n",
    "        return [lo, hi]\n",
    "    return [-1, -1]\n",
    "searchRange(nums = [5,7,7,8,8,10], target = 8)"
   ]
  },
  {
   "cell_type": "markdown",
   "id": "8e690ad6",
   "metadata": {},
   "source": [
    "### Perfect Squares\n",
    "Для заданного целого числа n верните наименьшее количество совершенных квадратных чисел, сумма которых равна n.\n",
    "\n",
    "Решение: https://leetcode.com/problems/perfect-squares/solutions/1513258/very-easy-to-understand-with-picture-python-recursion-memoization/?languageTags=python3"
   ]
  },
  {
   "cell_type": "code",
   "execution_count": 128,
   "id": "62fd6f4d",
   "metadata": {},
   "outputs": [
    {
     "data": {
      "text/plain": [
       "2"
      ]
     },
     "execution_count": 128,
     "metadata": {},
     "output_type": "execute_result"
    }
   ],
   "source": [
    "def solve(n):\n",
    "    if n==0:                                                     # part 1\n",
    "        return 0\n",
    "    if n<0:                                                      # part 2\n",
    "        return float(\"inf\")\n",
    "    mini = n                                                     # part 3 \n",
    "    i = 1\n",
    "    while i*i<=n:                                                # part 4\n",
    "        mini = min(mini, solve(n-(i*i)))\n",
    "        i+=1\n",
    "    return mini+1                                                # part 5\n",
    "\n",
    "solve(34)"
   ]
  },
  {
   "cell_type": "markdown",
   "id": "59732341",
   "metadata": {},
   "source": [
    "### 3Sum Closest\n",
    "Имея целочисленный массив nums длины n и целочисленный таргет, найдите три целых числа в nums, сумма которых ближе всего к таргету. Возвращает сумму трех целых чисел.\n",
    "\n",
    "Решение: https://leetcode.com/problems/3sum-closest/solutions/3220908/triple-threat-finding-the-closest-three-sum/?languageTags=python3"
   ]
  },
  {
   "cell_type": "code",
   "execution_count": 130,
   "id": "38490024",
   "metadata": {},
   "outputs": [
    {
     "data": {
      "text/plain": [
       "2"
      ]
     },
     "execution_count": 130,
     "metadata": {},
     "output_type": "execute_result"
    }
   ],
   "source": [
    "def threeSumClosest(nums, target):\n",
    "    nums.sort()\n",
    "    n = len(nums)\n",
    "    diff = float('inf')\n",
    "    res = 0\n",
    "    for i in range(n - 2):\n",
    "        left = i + 1\n",
    "        right = n - 1\n",
    "        while left < right:\n",
    "            s = nums[i] + nums[left] + nums[right]\n",
    "            if abs(target - s) < diff:\n",
    "                diff = abs(target - s)\n",
    "                res = s\n",
    "            if s < target:\n",
    "                left += 1\n",
    "            else:\n",
    "                right -= 1\n",
    "    return res\n",
    "nums = [-1,2,1,-4]\n",
    "target = 1\n",
    "threeSumClosest(nums, target)"
   ]
  },
  {
   "cell_type": "markdown",
   "id": "da8586d3",
   "metadata": {},
   "source": [
    "###  Longest Subarray of 1's After Deleting One Element\n",
    "Дан бинарный массив, удалить из него один 0 так, чтобы получить максимально длинную последовательность ихз единиц.\n",
    "\n",
    "Решение: https://leetcode.com/problems/longest-subarray-of-1s-after-deleting-one-element/solutions/3233739/simple-python-solution-using-sliding-window/?languageTags=python"
   ]
  },
  {
   "cell_type": "code",
   "execution_count": 131,
   "id": "2d34dcfc",
   "metadata": {},
   "outputs": [
    {
     "data": {
      "text/plain": [
       "3"
      ]
     },
     "execution_count": 131,
     "metadata": {},
     "output_type": "execute_result"
    }
   ],
   "source": [
    "def longestSubarray(nums):\n",
    "    i = 0\n",
    "    j = 0\n",
    "    count = 0\n",
    "    maxLength = 0\n",
    "    while j < len(nums):\n",
    "        #If is current number is a zero we keep count of how many zero we can ignore i.e 1 according to the condtion given\n",
    "        if nums[j] == 0:\n",
    "            count += 1\n",
    "        #If the above count (number of zeros we can ignore )becomes greater than 1 , then we do :\n",
    "        if count > 1:\n",
    "            #we will shrink the window size until the (number of zeros we can ignore ) becomes 1 again\n",
    "            while count > 1:\n",
    "                if nums[i] == 0:\n",
    "                    count = count - 1\n",
    "                i = i + 1\n",
    "        #We will reach this statement only after the count(number of zeros we can ignore )  is either 1 or zero\n",
    "        #because any other condition will be addressed by the second conditon, which means the current length\n",
    "        #can be candidate for out final answer so we just save it in the maxLength. We did not add +1 to j-i because\n",
    "        #it will give us the length including the zero we ignored .\n",
    "        maxLength = max(maxLength, j - i)\n",
    "        j = j + 1\n",
    "    return maxLength\n",
    "\n",
    "nums = [1,1,0,1]\n",
    "longestSubarray(nums)"
   ]
  },
  {
   "cell_type": "markdown",
   "id": "c2117511",
   "metadata": {},
   "source": [
    "# EASY"
   ]
  },
  {
   "cell_type": "markdown",
   "id": "26fced90",
   "metadata": {},
   "source": [
    "### Reverse Linked List\n",
    "Перевернуть односвязный список\n",
    "\n",
    "Решение: https://leetcode.com/problems/reverse-linked-list/solutions/2458632/easy-0-ms-100-fully-explained-java-c-python-js-c-python3-recursive-iterative/?languageTags=python3"
   ]
  },
  {
   "cell_type": "code",
   "execution_count": 132,
   "id": "39967d90",
   "metadata": {},
   "outputs": [],
   "source": [
    "# Definition for singly-linked list.\n",
    "class ListNode:\n",
    "    def __init__(self, val=0, next=None):\n",
    "        self.val = val\n",
    "        self.next = next\n",
    "def reverseList(self, head):\n",
    "    # Initialize prev pointer as NULL...\n",
    "    prev = None\n",
    "    # Initialize the curr pointer as the head...\n",
    "    curr = head\n",
    "    # Run a loop till curr points to NULL...\n",
    "    while curr:\n",
    "        # Initialize next pointer as the next pointer of curr...\n",
    "        next = curr.next\n",
    "        # Now assign the prev pointer to curr’s next pointer.\n",
    "        curr.next = prev\n",
    "        # Assign curr to prev, next to curr...\n",
    "        prev = curr\n",
    "        curr = next\n",
    "    return prev       # Return the prev pointer to get the reverse linked list..."
   ]
  },
  {
   "cell_type": "markdown",
   "id": "ee83e4b0",
   "metadata": {},
   "source": [
    "### Valid Palindrome\n",
    "Проверить, является ли слово палиндромом.\n",
    "\n",
    "Метод isalnum() возвращает True, если все символы в строке являются буквенно-цифровыми (либо алфавитами, либо цифрами). Если нет, возвращается False.\n",
    "\n",
    "Решение: https://leetcode.com/problems/valid-palindrome/solutions/3230151/simple-python-two-liner-solution/?languageTags=python3"
   ]
  },
  {
   "cell_type": "code",
   "execution_count": null,
   "id": "87efeef2",
   "metadata": {},
   "outputs": [],
   "source": [
    "# The first line of code removes all non-alphanumeric characters and converts\n",
    "# the whole string to lowercase making it easy to reverse the string cleanly\n",
    "# using generator comprehension and storing it in the variable \"raw\".\n",
    "\n",
    "# The second line of code is fairly straightforward. It finds out whether or\n",
    "# not the reversed form of the \"raw\" variable is equal to the unreversed\n",
    "# form of itself also using generator comprehension.\n",
    "\n",
    "def isPalindrome(self, s: str) -> bool:\n",
    "    raw = ''.join(ch for ch in s if ch.isalnum()).lower()\n",
    "    return raw[::-1] == raw"
   ]
  },
  {
   "cell_type": "markdown",
   "id": "5af39f68",
   "metadata": {},
   "source": [
    "### Two Sum\n",
    "Дан массив и таргет, найти в массиве два числа таких, чтобы их сумма равнялась таргету.\n",
    "\n",
    "Решение: https://leetcode.com/problems/two-sum/solutions/3366532/100-solution-explained/"
   ]
  },
  {
   "cell_type": "code",
   "execution_count": 135,
   "id": "5e70cb83",
   "metadata": {},
   "outputs": [
    {
     "data": {
      "text/plain": [
       "[0, 1]"
      ]
     },
     "execution_count": 135,
     "metadata": {},
     "output_type": "execute_result"
    }
   ],
   "source": [
    "def twoSum(nums, target):\n",
    "    prevMap = {} # val : index\n",
    "        \n",
    "    for i, n in enumerate(nums):\n",
    "        diff = target - n\n",
    "        if diff in prevMap:\n",
    "            return [prevMap[diff], i]\n",
    "        prevMap[n] = i\n",
    "    return\n",
    "nums = [2,7,11,15]\n",
    "target = 9\n",
    "twoSum(nums, target)"
   ]
  },
  {
   "cell_type": "markdown",
   "id": "433cf09d",
   "metadata": {},
   "source": [
    "### Move Zeroes\n",
    "Переместить все нули в конец массива без исопльзвоания дополнительной памяти.\n",
    "\n",
    "Решение: https://leetcode.com/problems/move-zeroes/solutions/562911/two-pointers-technique-python-o-n-time-o-1-space/?languageTags=python3\n",
    "\n",
    "time O(n), space O(n)"
   ]
  },
  {
   "cell_type": "code",
   "execution_count": null,
   "id": "6062db2e",
   "metadata": {},
   "outputs": [],
   "source": [
    "def moveZeroes(nums):\n",
    "    slow = 0\n",
    "    for fast in range(len(nums)):\n",
    "        if nums[fast] != 0 and nums[slow] == 0:\n",
    "            nums[slow], nums[fast] = nums[fast], nums[slow]\n",
    "        # wait while we find a non-zero element to\n",
    "        # swap with you\n",
    "        if nums[slow] != 0:\n",
    "            slow += 1\n",
    "moveZeroes(nums)"
   ]
  },
  {
   "cell_type": "markdown",
   "id": "40014394",
   "metadata": {},
   "source": [
    "### Valid Parentheses\n",
    "Определить правильность скобочной последовательности, () [] {}.\n",
    "\n",
    "Решение: https://leetcode.com/problems/valid-parentheses/solutions/2411675/very-easy-100-fully-explained-c-java-python-js-python3/?languageTags=python3\n",
    "\n",
    "Со стеком, O(n), O(n)"
   ]
  },
  {
   "cell_type": "code",
   "execution_count": 136,
   "id": "086034e4",
   "metadata": {},
   "outputs": [],
   "source": [
    "def isValid(s):\n",
    "    # Create a pair of opening and closing parrenthesis...\n",
    "    opcl = dict(('()', '[]', '{}'))\n",
    "    # Create stack data structure...\n",
    "    stack = []\n",
    "    # Traverse each charater in input string...\n",
    "    for idx in s:\n",
    "        # If open parentheses are present, append it to stack...\n",
    "        if idx in '([{':\n",
    "            stack.append(idx)\n",
    "        # If the character is closing parentheses, check that the same type opening parentheses is being pushed to the stack or not...\n",
    "        # If not, we need to return false...\n",
    "        elif len(stack) == 0 or idx != opcl[stack.pop()]:\n",
    "            return False\n",
    "    # At last, we check if the stack is empty or not...\n",
    "    # If the stack is empty it means every opened parenthesis is being closed and we can return true, otherwise we return false...\n",
    "    return len(stack) == 0"
   ]
  },
  {
   "cell_type": "markdown",
   "id": "5318dc9a",
   "metadata": {},
   "source": [
    "### String Compression\n",
    "Сжать строку, используя следующий алгоритм:\n",
    "\n",
    "- Начните с пустой строки s. Для каждой группы последовательных повторяющихся символов в chars:\n",
    "- Если длина группы равна 1, добавьте символ к s.\n",
    "- В противном случае добавьте символ, за которым следует длина группы.\n",
    "- Сжатая строка s не должна возвращаться отдельно, а должна храниться во входном массиве символов chars. Обратите внимание, что длина группы, равная 10 и более, будет разделена на несколько символов в chars.\n",
    "- После того, как вы закончите изменение входного массива, верните новую длину массива.\n",
    "\n",
    "Вы должны написать алгоритм, который использует только постоянное дополнительное пространство.\n",
    "\n",
    "Решение: https://leetcode.com/problems/string-compression/solutions/3245804/clean-codes-full-explanation-two-pointers-c-java-python3/?languageTags=python"
   ]
  },
  {
   "cell_type": "code",
   "execution_count": null,
   "id": "c1cfd631",
   "metadata": {},
   "outputs": [],
   "source": [
    "def compress(self, chars: List[str]) -> int:\n",
    "    ans = 0\n",
    "    i = 0\n",
    "\n",
    "    while i < len(chars):\n",
    "        letter = chars[i]\n",
    "        count = 0\n",
    "        while i < len(chars) and chars[i] == letter:\n",
    "            count += 1\n",
    "            i += 1\n",
    "        chars[ans] = letter\n",
    "        ans += 1\n",
    "        if count > 1:\n",
    "            for c in str(count):\n",
    "                chars[ans] = c\n",
    "                ans += 1\n",
    "\n",
    "    return ans"
   ]
  },
  {
   "cell_type": "markdown",
   "id": "c3f3967e",
   "metadata": {},
   "source": [
    "### Implement Queue using Stacks\n",
    "Очередь с использованием двух списков: push, peek (pop из начала), pop, empty\n",
    "\n",
    "Решение: https://leetcode.com/problems/implement-queue-using-stacks/solutions/2513639/very-easy-100-fully-explained-java-c-python-python3/?languageTags=python3"
   ]
  },
  {
   "cell_type": "code",
   "execution_count": 137,
   "id": "f7edc334",
   "metadata": {},
   "outputs": [],
   "source": [
    "class MyQueue(object):\n",
    "    def __init__(self):\n",
    "        self.in_stk = []\n",
    "        self.out_stk = []\n",
    "    # Push element x to the back of queue...\n",
    "    def push(self, x):\n",
    "        self.in_stk.append(x)\n",
    "    # Remove the element from the front of the queue and returns it...\n",
    "    def pop(self):\n",
    "        self.peek()\n",
    "        return self.out_stk.pop()\n",
    "    # Get the front element...\n",
    "    def peek(self):\n",
    "        if not self.out_stk:\n",
    "            while self.in_stk:\n",
    "                self.out_stk.append(self.in_stk.pop())\n",
    "        return self.out_stk[-1]\n",
    "    # Return whether the queue is empty...\n",
    "    def empty(self):\n",
    "        return not self.in_stk and not self.out_stk"
   ]
  },
  {
   "cell_type": "markdown",
   "id": "60dbf4c0",
   "metadata": {},
   "source": [
    "### Merge Two Sorted Lists\n",
    "Соединить два списка в один отсортирвоанный.\n",
    "\n",
    "Решения: https://leetcode.com/problems/merge-two-sorted-lists/solutions/1826693/python3-merging-explained/?languageTags=python3"
   ]
  },
  {
   "cell_type": "code",
   "execution_count": null,
   "id": "c86a68ef",
   "metadata": {},
   "outputs": [],
   "source": [
    "def mergeTwoLists(self, list1: Optional[ListNode], list2: Optional[ListNode]) -> Optional[ListNode]:\n",
    "    cur = dummy = ListNode()\n",
    "    while list1 and list2:               \n",
    "        if list1.val < list2.val:\n",
    "            cur.next = list1\n",
    "            list1, cur = list1.next, list1\n",
    "        else:\n",
    "            cur.next = list2\n",
    "            list2, cur = list2.next, list2                \n",
    "    if list1 or list2:\n",
    "        cur.next = list1 if list1 else list2\n",
    "            \n",
    "    return dummy.next"
   ]
  },
  {
   "cell_type": "markdown",
   "id": "c4bd3825",
   "metadata": {},
   "source": [
    "### Merge Sorted Array\n",
    "Даны два массива целых чисел nums1 и nums2, отсортированные в неубывающем порядке, и два целых числа m и n, представляющие количество элементов в nums1 и nums2 соответственно.\n",
    "\n",
    "Объедините nums1 и nums2 в один массив, отсортированный в неубывающем порядке.\n",
    "\n",
    "Решение: https://leetcode.com/problems/merge-sorted-array/solutions/3301533/two-pointer-o-m-n-time-o-1-space-easiest-beginner-friendly-sol/?languageTags=python3\n",
    "\n",
    "O(n+m) - time, O(1) - space"
   ]
  },
  {
   "cell_type": "code",
   "execution_count": null,
   "id": "94bbb6fc",
   "metadata": {},
   "outputs": [],
   "source": [
    "def merge(nums1: List[int], m: int, nums2: List[int], n: int) -> None:\n",
    "    i, j, k = m - 1, n - 1, m + n - 1\n",
    "    while i >= 0 and j >= 0:\n",
    "        if nums1[i] < nums2[j]:\n",
    "            nums1[k] = nums2[j]\n",
    "            j -= 1\n",
    "        else:\n",
    "            nums1[k] = nums1[i]\n",
    "            i -= 1\n",
    "        k -= 1\n",
    "    while j >= 0:\n",
    "        nums1[k] = nums2[j]\n",
    "        j -= 1\n",
    "        k -= 1"
   ]
  },
  {
   "cell_type": "markdown",
   "id": "1332d999",
   "metadata": {},
   "source": [
    "### Symmetric Tree\n",
    "Проверить, что дерево симметричное (зеркальное отражение).\n",
    "\n",
    "Решение: https://leetcode.com/problems/symmetric-tree/solutions/3291166/top-1-rare-approach/?languageTags=python3"
   ]
  },
  {
   "cell_type": "code",
   "execution_count": null,
   "id": "0b0363f9",
   "metadata": {},
   "outputs": [],
   "source": [
    "# Definition for a binary tree node.\n",
    "# class TreeNode:\n",
    "#     def __init__(self, val=0, left=None, right=None):\n",
    "#         self.val = val\n",
    "#         self.left = left\n",
    "#         self.right = right\n",
    "    def Isym(self,left,right):\n",
    "        if(not left and not right): \n",
    "            return 1 #nodes don't exist\n",
    "        elif(not left or not right):  \n",
    "            return 0 #one of the nodes doesn't exist\n",
    "        elif(left.val!=right.val): \n",
    "            return 0 #values of root nodes aren't equal\n",
    "        return self.Isym(left.left,right.right) and self.Isym(left.right,right.left) #calling the child nodes\n",
    "    def isSymmetric(self, root):\n",
    "        if not root: #tree doesn't exist\n",
    "            return 0\n",
    "        return self.Isym(root.left,root.right)"
   ]
  },
  {
   "cell_type": "markdown",
   "id": "5d97e3a7",
   "metadata": {},
   "source": [
    "### Number of Recent Calls\n",
    "Класс RecentCounter, который подсчитывает количество последних запросов за определенный период времени.\n",
    "\n",
    "Ссылка на описание задания: https://leetcode.com/problems/number-of-recent-calls/\n",
    "\n",
    "Решение: https://leetcode.com/problems/number-of-recent-calls/solutions/3118441/python-simple-queue-solution-beats-98/?languageTags=python"
   ]
  },
  {
   "cell_type": "code",
   "execution_count": null,
   "id": "e669648a",
   "metadata": {},
   "outputs": [],
   "source": [
    "class RecentCounter:\n",
    "\n",
    "    def __init__(self):\n",
    "        self.s = []\n",
    "\n",
    "    def ping(self, t: int) -> int:\n",
    "        while self.s and t - self.s[0] > 3000:\n",
    "            self.s.pop(0)  # remove 1st el if it's 3000+ away from t\n",
    "        self.s.append(t)\n",
    "        return len(self.s) "
   ]
  },
  {
   "cell_type": "markdown",
   "id": "43859a22",
   "metadata": {},
   "source": [
    "### Count Primes\n",
    "Для заданного целого числа n вернуть количество простых чисел, которые строго меньше n.\n",
    "\n",
    "Два решения - одно менее выгодно по времени, другое по памяти"
   ]
  },
  {
   "cell_type": "code",
   "execution_count": null,
   "id": "b8c929c3",
   "metadata": {},
   "outputs": [],
   "source": [
    "def countPrimes(n):\n",
    "    if n <= 2:\n",
    "        return 0    \n",
    "    # Step 1\n",
    "    is_prime = [True] * n    \n",
    "    # Step 2\n",
    "    is_prime[0] = is_prime[1] = False        \n",
    "    # Step 3\n",
    "    for i in range(2, int(n**0.5)+1):\n",
    "        if is_prime[i]:\n",
    "            for j in range(i*i, n, i):\n",
    "                is_prime[j] = False\n",
    "    # Step 4\n",
    "    return sum(is_prime)"
   ]
  },
  {
   "cell_type": "code",
   "execution_count": null,
   "id": "b7e63cec",
   "metadata": {},
   "outputs": [],
   "source": [
    "def countPrimes(n):\n",
    "    if n < 3: return 0     ###// No prime number less than 2\n",
    "    lst = [1] * n          ###// create a list for marking numbers less than n\n",
    "    lst[0] = lst[1] = 0    ###// 0 and 1 are not prime numbers\n",
    "    m = 2\n",
    "    while m * m < n:       ###// we only check a number (m) if its square is less than n\n",
    "        if lst[m] == 1:    ###// if m is already marked by 0, no need to check its multiples.\n",
    "            ###// If m is marked by 1, we mark all its multiples from m * m to n by 0. \n",
    "            ###// 1 + (n - m * m - 1) // m is equal to the number of multiples of m from m * m to n\n",
    "            lst[m * m: n: m] = [0] *(1 + (n - m * m - 1) // m)\n",
    "        ###// If it is the first iteration (e.g. m = 2), add 1 to m (e.g. m = m + 1; \n",
    "        ### // which means m will be 3 in the next iteration), \n",
    "        ###// otherwise: (m = m + 2); This way we avoid checking even numbers again.\t\n",
    "        m += 1 if m == 2 else 2\n",
    "    return sum(lst)"
   ]
  },
  {
   "cell_type": "markdown",
   "id": "b5a2b221",
   "metadata": {},
   "source": [
    "### Intersection of Two Arrays II\n",
    "Даны два массива, вернуть их пересечение.\n",
    "\n",
    "Решение: https://leetcode.com/problems/intersection-of-two-arrays-ii/solutions/"
   ]
  },
  {
   "cell_type": "code",
   "execution_count": null,
   "id": "ccbb1bdd",
   "metadata": {},
   "outputs": [],
   "source": [
    "def intersect(nums1, nums2):\n",
    "    if len(nums1) > len(nums2): \n",
    "        return self.intersect(nums2, nums1)        \n",
    "    cnt = Counter(nums1)\n",
    "    ans = []\n",
    "    for x in nums2:\n",
    "        if cnt[x] > 0:\n",
    "            ans.append(x)\n",
    "            cnt[x] -= 1\n",
    "    return ans"
   ]
  },
  {
   "cell_type": "markdown",
   "id": "09380d0b",
   "metadata": {},
   "source": [
    "### Find the Index of the First Occurrence in a String\n",
    "Вернуть индекс первого вхождения иглы в стог сена или -1, если игла не является частью стога сена.\n",
    "\n",
    "Решение: https://leetcode.com/problems/find-the-index-of-the-first-occurrence-in-a-string/solutions/3250124/easiest-approach-using-regular-expression-in-python/?languageTags=python3"
   ]
  },
  {
   "cell_type": "code",
   "execution_count": null,
   "id": "4a44e62c",
   "metadata": {},
   "outputs": [],
   "source": [
    "import re\n",
    "def strStr(haystack, needle):\n",
    "    re1=re.search(needle,haystack)\n",
    "    if re1 is None:\n",
    "        return -1\n",
    "    return re1.start()"
   ]
  },
  {
   "cell_type": "code",
   "execution_count": null,
   "id": "582e32f4",
   "metadata": {},
   "outputs": [],
   "source": [
    "# отличия default dict от dict\n",
    "# pop & remove ( del ? )\n",
    "# collections"
   ]
  }
 ],
 "metadata": {
  "kernelspec": {
   "display_name": "Python 3 (ipykernel)",
   "language": "python",
   "name": "python3"
  },
  "language_info": {
   "codemirror_mode": {
    "name": "ipython",
    "version": 3
   },
   "file_extension": ".py",
   "mimetype": "text/x-python",
   "name": "python",
   "nbconvert_exporter": "python",
   "pygments_lexer": "ipython3",
   "version": "3.9.7"
  }
 },
 "nbformat": 4,
 "nbformat_minor": 5
}
