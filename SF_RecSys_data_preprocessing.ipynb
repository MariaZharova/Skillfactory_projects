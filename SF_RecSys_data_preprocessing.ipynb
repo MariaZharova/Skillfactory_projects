{
  "cells": [
    {
      "cell_type": "markdown",
      "metadata": {
        "id": "view-in-github",
        "colab_type": "text"
      },
      "source": [
        "<a href=\"https://colab.research.google.com/github/MariaZharova/Skillfactory_projects/blob/main/SF_RecSys_data_preprocessing.ipynb\" target=\"_parent\"><img src=\"https://colab.research.google.com/assets/colab-badge.svg\" alt=\"Open In Colab\"/></a>"
      ]
    },
    {
      "cell_type": "code",
      "source": [
        "from google.colab import drive\n",
        "drive.mount('/content/drive')"
      ],
      "metadata": {
        "id": "2gqIkkV3L3hJ",
        "colab": {
          "base_uri": "https://localhost:8080/"
        },
        "outputId": "a97c00b1-1fa7-4829-ee3d-110bb6e5968c"
      },
      "id": "2gqIkkV3L3hJ",
      "execution_count": 1,
      "outputs": [
        {
          "output_type": "stream",
          "name": "stdout",
          "text": [
            "Mounted at /content/drive\n"
          ]
        }
      ]
    },
    {
      "cell_type": "code",
      "execution_count": 2,
      "metadata": {
        "id": "4llAk5rj0k0Z"
      },
      "outputs": [],
      "source": [
        "import pandas as pd\n",
        "clicks = pd.read_csv('/content/drive/MyDrive/SF/clicks.csv')\n",
        "lst_features = pd.read_csv('/content/drive/MyDrive/SF/lst_features.csv')"
      ],
      "id": "4llAk5rj0k0Z"
    },
    {
      "cell_type": "code",
      "execution_count": 23,
      "metadata": {
        "colab": {
          "base_uri": "https://localhost:8080/",
          "height": 206
        },
        "id": "do8cH4fX0k0b",
        "outputId": "3028f4da-7ff3-4f90-b4ba-1d9be457e790"
      },
      "outputs": [
        {
          "output_type": "execute_result",
          "data": {
            "text/plain": [
              "                 timestamp   user_id   offer_id       event_name\n",
              "0  2022-07-29 00:00:02.095  82662998  275699899  OpenOfferScreen\n",
              "1  2022-07-29 00:00:20.794  70430591  263076121         Add2Like\n",
              "2  2022-07-29 00:00:21.326  93889189  254183210  OpenOfferScreen\n",
              "3  2022-07-29 00:00:26.945  91525566  268686455  OpenOfferScreen\n",
              "4  2022-07-29 00:00:27.162  78613959  275660175  OpenOfferScreen"
            ],
            "text/html": [
              "\n",
              "  <div id=\"df-3df43f5b-4bc2-4ea9-9260-3f78f88a1bd0\">\n",
              "    <div class=\"colab-df-container\">\n",
              "      <div>\n",
              "<style scoped>\n",
              "    .dataframe tbody tr th:only-of-type {\n",
              "        vertical-align: middle;\n",
              "    }\n",
              "\n",
              "    .dataframe tbody tr th {\n",
              "        vertical-align: top;\n",
              "    }\n",
              "\n",
              "    .dataframe thead th {\n",
              "        text-align: right;\n",
              "    }\n",
              "</style>\n",
              "<table border=\"1\" class=\"dataframe\">\n",
              "  <thead>\n",
              "    <tr style=\"text-align: right;\">\n",
              "      <th></th>\n",
              "      <th>timestamp</th>\n",
              "      <th>user_id</th>\n",
              "      <th>offer_id</th>\n",
              "      <th>event_name</th>\n",
              "    </tr>\n",
              "  </thead>\n",
              "  <tbody>\n",
              "    <tr>\n",
              "      <th>0</th>\n",
              "      <td>2022-07-29 00:00:02.095</td>\n",
              "      <td>82662998</td>\n",
              "      <td>275699899</td>\n",
              "      <td>OpenOfferScreen</td>\n",
              "    </tr>\n",
              "    <tr>\n",
              "      <th>1</th>\n",
              "      <td>2022-07-29 00:00:20.794</td>\n",
              "      <td>70430591</td>\n",
              "      <td>263076121</td>\n",
              "      <td>Add2Like</td>\n",
              "    </tr>\n",
              "    <tr>\n",
              "      <th>2</th>\n",
              "      <td>2022-07-29 00:00:21.326</td>\n",
              "      <td>93889189</td>\n",
              "      <td>254183210</td>\n",
              "      <td>OpenOfferScreen</td>\n",
              "    </tr>\n",
              "    <tr>\n",
              "      <th>3</th>\n",
              "      <td>2022-07-29 00:00:26.945</td>\n",
              "      <td>91525566</td>\n",
              "      <td>268686455</td>\n",
              "      <td>OpenOfferScreen</td>\n",
              "    </tr>\n",
              "    <tr>\n",
              "      <th>4</th>\n",
              "      <td>2022-07-29 00:00:27.162</td>\n",
              "      <td>78613959</td>\n",
              "      <td>275660175</td>\n",
              "      <td>OpenOfferScreen</td>\n",
              "    </tr>\n",
              "  </tbody>\n",
              "</table>\n",
              "</div>\n",
              "      <button class=\"colab-df-convert\" onclick=\"convertToInteractive('df-3df43f5b-4bc2-4ea9-9260-3f78f88a1bd0')\"\n",
              "              title=\"Convert this dataframe to an interactive table.\"\n",
              "              style=\"display:none;\">\n",
              "        \n",
              "  <svg xmlns=\"http://www.w3.org/2000/svg\" height=\"24px\"viewBox=\"0 0 24 24\"\n",
              "       width=\"24px\">\n",
              "    <path d=\"M0 0h24v24H0V0z\" fill=\"none\"/>\n",
              "    <path d=\"M18.56 5.44l.94 2.06.94-2.06 2.06-.94-2.06-.94-.94-2.06-.94 2.06-2.06.94zm-11 1L8.5 8.5l.94-2.06 2.06-.94-2.06-.94L8.5 2.5l-.94 2.06-2.06.94zm10 10l.94 2.06.94-2.06 2.06-.94-2.06-.94-.94-2.06-.94 2.06-2.06.94z\"/><path d=\"M17.41 7.96l-1.37-1.37c-.4-.4-.92-.59-1.43-.59-.52 0-1.04.2-1.43.59L10.3 9.45l-7.72 7.72c-.78.78-.78 2.05 0 2.83L4 21.41c.39.39.9.59 1.41.59.51 0 1.02-.2 1.41-.59l7.78-7.78 2.81-2.81c.8-.78.8-2.07 0-2.86zM5.41 20L4 18.59l7.72-7.72 1.47 1.35L5.41 20z\"/>\n",
              "  </svg>\n",
              "      </button>\n",
              "      \n",
              "  <style>\n",
              "    .colab-df-container {\n",
              "      display:flex;\n",
              "      flex-wrap:wrap;\n",
              "      gap: 12px;\n",
              "    }\n",
              "\n",
              "    .colab-df-convert {\n",
              "      background-color: #E8F0FE;\n",
              "      border: none;\n",
              "      border-radius: 50%;\n",
              "      cursor: pointer;\n",
              "      display: none;\n",
              "      fill: #1967D2;\n",
              "      height: 32px;\n",
              "      padding: 0 0 0 0;\n",
              "      width: 32px;\n",
              "    }\n",
              "\n",
              "    .colab-df-convert:hover {\n",
              "      background-color: #E2EBFA;\n",
              "      box-shadow: 0px 1px 2px rgba(60, 64, 67, 0.3), 0px 1px 3px 1px rgba(60, 64, 67, 0.15);\n",
              "      fill: #174EA6;\n",
              "    }\n",
              "\n",
              "    [theme=dark] .colab-df-convert {\n",
              "      background-color: #3B4455;\n",
              "      fill: #D2E3FC;\n",
              "    }\n",
              "\n",
              "    [theme=dark] .colab-df-convert:hover {\n",
              "      background-color: #434B5C;\n",
              "      box-shadow: 0px 1px 3px 1px rgba(0, 0, 0, 0.15);\n",
              "      filter: drop-shadow(0px 1px 2px rgba(0, 0, 0, 0.3));\n",
              "      fill: #FFFFFF;\n",
              "    }\n",
              "  </style>\n",
              "\n",
              "      <script>\n",
              "        const buttonEl =\n",
              "          document.querySelector('#df-3df43f5b-4bc2-4ea9-9260-3f78f88a1bd0 button.colab-df-convert');\n",
              "        buttonEl.style.display =\n",
              "          google.colab.kernel.accessAllowed ? 'block' : 'none';\n",
              "\n",
              "        async function convertToInteractive(key) {\n",
              "          const element = document.querySelector('#df-3df43f5b-4bc2-4ea9-9260-3f78f88a1bd0');\n",
              "          const dataTable =\n",
              "            await google.colab.kernel.invokeFunction('convertToInteractive',\n",
              "                                                     [key], {});\n",
              "          if (!dataTable) return;\n",
              "\n",
              "          const docLinkHtml = 'Like what you see? Visit the ' +\n",
              "            '<a target=\"_blank\" href=https://colab.research.google.com/notebooks/data_table.ipynb>data table notebook</a>'\n",
              "            + ' to learn more about interactive tables.';\n",
              "          element.innerHTML = '';\n",
              "          dataTable['output_type'] = 'display_data';\n",
              "          await google.colab.output.renderOutput(dataTable, element);\n",
              "          const docLink = document.createElement('div');\n",
              "          docLink.innerHTML = docLinkHtml;\n",
              "          element.appendChild(docLink);\n",
              "        }\n",
              "      </script>\n",
              "    </div>\n",
              "  </div>\n",
              "  "
            ]
          },
          "metadata": {},
          "execution_count": 23
        }
      ],
      "source": [
        "clicks.head()"
      ],
      "id": "do8cH4fX0k0b"
    },
    {
      "cell_type": "code",
      "execution_count": null,
      "metadata": {
        "colab": {
          "base_uri": "https://localhost:8080/"
        },
        "id": "j7EhZQCg0k0c",
        "outputId": "302ba414-74db-4084-9037-fb4e5bfd9d96"
      },
      "outputs": [
        {
          "output_type": "execute_result",
          "data": {
            "text/plain": [
              "array(['OpenOfferScreen', 'ShowContacts', 'ClickCallButton', 'MakeCall',\n",
              "       'EndCall'], dtype=object)"
            ]
          },
          "metadata": {},
          "execution_count": 5
        }
      ],
      "source": [
        "clicks.event_name.unique()"
      ],
      "id": "j7EhZQCg0k0c"
    },
    {
      "cell_type": "code",
      "execution_count": null,
      "metadata": {
        "colab": {
          "base_uri": "https://localhost:8080/",
          "height": 206
        },
        "id": "b5t_cXHb0k0d",
        "outputId": "d2279507-91fb-417e-92a0-c606252b3186"
      },
      "outputs": [
        {
          "output_type": "execute_result",
          "data": {
            "text/plain": [
              "    offer_id  floornumber             category  totalarea  roomscount  \\\n",
              "0  238017518          1.0             flatRent       27.0         NaN   \n",
              "1  246784149          NaN       dailyHouseRent       45.0         NaN   \n",
              "2  256056349          4.0        dailyFlatRent       52.0         1.0   \n",
              "3  261757282          5.0             flatSale       63.0         3.0   \n",
              "4  263036059          2.0  newBuildingFlatSale       40.6         1.0   \n",
              "\n",
              "  flattype        lat        lng       price  \n",
              "0   studio  45.021564  38.925492     12990.0  \n",
              "1      NaN  57.248981  32.941303      4000.0  \n",
              "2    rooms  55.763224  37.605409      5500.0  \n",
              "3    rooms  54.995849  73.282558   4920000.0  \n",
              "4    rooms  59.981960  30.338703  14882000.0  "
            ],
            "text/html": [
              "\n",
              "  <div id=\"df-8f2f7483-d04e-4ca1-8c60-7ebccd4f7980\">\n",
              "    <div class=\"colab-df-container\">\n",
              "      <div>\n",
              "<style scoped>\n",
              "    .dataframe tbody tr th:only-of-type {\n",
              "        vertical-align: middle;\n",
              "    }\n",
              "\n",
              "    .dataframe tbody tr th {\n",
              "        vertical-align: top;\n",
              "    }\n",
              "\n",
              "    .dataframe thead th {\n",
              "        text-align: right;\n",
              "    }\n",
              "</style>\n",
              "<table border=\"1\" class=\"dataframe\">\n",
              "  <thead>\n",
              "    <tr style=\"text-align: right;\">\n",
              "      <th></th>\n",
              "      <th>offer_id</th>\n",
              "      <th>floornumber</th>\n",
              "      <th>category</th>\n",
              "      <th>totalarea</th>\n",
              "      <th>roomscount</th>\n",
              "      <th>flattype</th>\n",
              "      <th>lat</th>\n",
              "      <th>lng</th>\n",
              "      <th>price</th>\n",
              "    </tr>\n",
              "  </thead>\n",
              "  <tbody>\n",
              "    <tr>\n",
              "      <th>0</th>\n",
              "      <td>238017518</td>\n",
              "      <td>1.0</td>\n",
              "      <td>flatRent</td>\n",
              "      <td>27.0</td>\n",
              "      <td>NaN</td>\n",
              "      <td>studio</td>\n",
              "      <td>45.021564</td>\n",
              "      <td>38.925492</td>\n",
              "      <td>12990.0</td>\n",
              "    </tr>\n",
              "    <tr>\n",
              "      <th>1</th>\n",
              "      <td>246784149</td>\n",
              "      <td>NaN</td>\n",
              "      <td>dailyHouseRent</td>\n",
              "      <td>45.0</td>\n",
              "      <td>NaN</td>\n",
              "      <td>NaN</td>\n",
              "      <td>57.248981</td>\n",
              "      <td>32.941303</td>\n",
              "      <td>4000.0</td>\n",
              "    </tr>\n",
              "    <tr>\n",
              "      <th>2</th>\n",
              "      <td>256056349</td>\n",
              "      <td>4.0</td>\n",
              "      <td>dailyFlatRent</td>\n",
              "      <td>52.0</td>\n",
              "      <td>1.0</td>\n",
              "      <td>rooms</td>\n",
              "      <td>55.763224</td>\n",
              "      <td>37.605409</td>\n",
              "      <td>5500.0</td>\n",
              "    </tr>\n",
              "    <tr>\n",
              "      <th>3</th>\n",
              "      <td>261757282</td>\n",
              "      <td>5.0</td>\n",
              "      <td>flatSale</td>\n",
              "      <td>63.0</td>\n",
              "      <td>3.0</td>\n",
              "      <td>rooms</td>\n",
              "      <td>54.995849</td>\n",
              "      <td>73.282558</td>\n",
              "      <td>4920000.0</td>\n",
              "    </tr>\n",
              "    <tr>\n",
              "      <th>4</th>\n",
              "      <td>263036059</td>\n",
              "      <td>2.0</td>\n",
              "      <td>newBuildingFlatSale</td>\n",
              "      <td>40.6</td>\n",
              "      <td>1.0</td>\n",
              "      <td>rooms</td>\n",
              "      <td>59.981960</td>\n",
              "      <td>30.338703</td>\n",
              "      <td>14882000.0</td>\n",
              "    </tr>\n",
              "  </tbody>\n",
              "</table>\n",
              "</div>\n",
              "      <button class=\"colab-df-convert\" onclick=\"convertToInteractive('df-8f2f7483-d04e-4ca1-8c60-7ebccd4f7980')\"\n",
              "              title=\"Convert this dataframe to an interactive table.\"\n",
              "              style=\"display:none;\">\n",
              "        \n",
              "  <svg xmlns=\"http://www.w3.org/2000/svg\" height=\"24px\"viewBox=\"0 0 24 24\"\n",
              "       width=\"24px\">\n",
              "    <path d=\"M0 0h24v24H0V0z\" fill=\"none\"/>\n",
              "    <path d=\"M18.56 5.44l.94 2.06.94-2.06 2.06-.94-2.06-.94-.94-2.06-.94 2.06-2.06.94zm-11 1L8.5 8.5l.94-2.06 2.06-.94-2.06-.94L8.5 2.5l-.94 2.06-2.06.94zm10 10l.94 2.06.94-2.06 2.06-.94-2.06-.94-.94-2.06-.94 2.06-2.06.94z\"/><path d=\"M17.41 7.96l-1.37-1.37c-.4-.4-.92-.59-1.43-.59-.52 0-1.04.2-1.43.59L10.3 9.45l-7.72 7.72c-.78.78-.78 2.05 0 2.83L4 21.41c.39.39.9.59 1.41.59.51 0 1.02-.2 1.41-.59l7.78-7.78 2.81-2.81c.8-.78.8-2.07 0-2.86zM5.41 20L4 18.59l7.72-7.72 1.47 1.35L5.41 20z\"/>\n",
              "  </svg>\n",
              "      </button>\n",
              "      \n",
              "  <style>\n",
              "    .colab-df-container {\n",
              "      display:flex;\n",
              "      flex-wrap:wrap;\n",
              "      gap: 12px;\n",
              "    }\n",
              "\n",
              "    .colab-df-convert {\n",
              "      background-color: #E8F0FE;\n",
              "      border: none;\n",
              "      border-radius: 50%;\n",
              "      cursor: pointer;\n",
              "      display: none;\n",
              "      fill: #1967D2;\n",
              "      height: 32px;\n",
              "      padding: 0 0 0 0;\n",
              "      width: 32px;\n",
              "    }\n",
              "\n",
              "    .colab-df-convert:hover {\n",
              "      background-color: #E2EBFA;\n",
              "      box-shadow: 0px 1px 2px rgba(60, 64, 67, 0.3), 0px 1px 3px 1px rgba(60, 64, 67, 0.15);\n",
              "      fill: #174EA6;\n",
              "    }\n",
              "\n",
              "    [theme=dark] .colab-df-convert {\n",
              "      background-color: #3B4455;\n",
              "      fill: #D2E3FC;\n",
              "    }\n",
              "\n",
              "    [theme=dark] .colab-df-convert:hover {\n",
              "      background-color: #434B5C;\n",
              "      box-shadow: 0px 1px 3px 1px rgba(0, 0, 0, 0.15);\n",
              "      filter: drop-shadow(0px 1px 2px rgba(0, 0, 0, 0.3));\n",
              "      fill: #FFFFFF;\n",
              "    }\n",
              "  </style>\n",
              "\n",
              "      <script>\n",
              "        const buttonEl =\n",
              "          document.querySelector('#df-8f2f7483-d04e-4ca1-8c60-7ebccd4f7980 button.colab-df-convert');\n",
              "        buttonEl.style.display =\n",
              "          google.colab.kernel.accessAllowed ? 'block' : 'none';\n",
              "\n",
              "        async function convertToInteractive(key) {\n",
              "          const element = document.querySelector('#df-8f2f7483-d04e-4ca1-8c60-7ebccd4f7980');\n",
              "          const dataTable =\n",
              "            await google.colab.kernel.invokeFunction('convertToInteractive',\n",
              "                                                     [key], {});\n",
              "          if (!dataTable) return;\n",
              "\n",
              "          const docLinkHtml = 'Like what you see? Visit the ' +\n",
              "            '<a target=\"_blank\" href=https://colab.research.google.com/notebooks/data_table.ipynb>data table notebook</a>'\n",
              "            + ' to learn more about interactive tables.';\n",
              "          element.innerHTML = '';\n",
              "          dataTable['output_type'] = 'display_data';\n",
              "          await google.colab.output.renderOutput(dataTable, element);\n",
              "          const docLink = document.createElement('div');\n",
              "          docLink.innerHTML = docLinkHtml;\n",
              "          element.appendChild(docLink);\n",
              "        }\n",
              "      </script>\n",
              "    </div>\n",
              "  </div>\n",
              "  "
            ]
          },
          "metadata": {},
          "execution_count": 6
        }
      ],
      "source": [
        "lst_features.head()"
      ],
      "id": "b5t_cXHb0k0d"
    },
    {
      "cell_type": "code",
      "execution_count": null,
      "metadata": {
        "colab": {
          "base_uri": "https://localhost:8080/"
        },
        "id": "LZyKW75e0k0d",
        "outputId": "a388c561-9678-40ef-937d-4be8c61e610d"
      },
      "outputs": [
        {
          "output_type": "execute_result",
          "data": {
            "text/plain": [
              "array(['OpenOfferScreen', 'ShowContacts', 'ClickCallButton', 'MakeCall',\n",
              "       'EndCall'], dtype=object)"
            ]
          },
          "metadata": {},
          "execution_count": 7
        }
      ],
      "source": [
        "clicks['event_name'].unique()"
      ],
      "id": "LZyKW75e0k0d"
    },
    {
      "cell_type": "code",
      "execution_count": null,
      "metadata": {
        "id": "EEv7Ec-S0k0d"
      },
      "outputs": [],
      "source": [
        "# event_encoder = {'OpenOfferScreen': 1, 'ShowContacts': 2, 'ClickCallButton': 3, 'MakeCall': 4, 'EndCall': 5}\n",
        "# clicks['event_name'] = clicks['event_name'].map(event_encoder)\n",
        "# clicks.drop('timestamp', axis=1, inplace=True)\n",
        "# clicks.head()"
      ],
      "id": "EEv7Ec-S0k0d"
    },
    {
      "cell_type": "code",
      "execution_count": null,
      "metadata": {
        "colab": {
          "base_uri": "https://localhost:8080/"
        },
        "id": "P4kRlU7y0k0d",
        "outputId": "a19f8fba-1c5f-4c4c-879b-ff4c7dc6d2e0"
      },
      "outputs": [
        {
          "output_type": "stream",
          "name": "stdout",
          "text": [
            "<class 'pandas.core.frame.DataFrame'>\n",
            "RangeIndex: 856691 entries, 0 to 856690\n",
            "Data columns (total 9 columns):\n",
            " #   Column       Non-Null Count   Dtype  \n",
            "---  ------       --------------   -----  \n",
            " 0   offer_id     856691 non-null  int64  \n",
            " 1   floornumber  634746 non-null  float64\n",
            " 2   category     856691 non-null  object \n",
            " 3   totalarea    806624 non-null  float64\n",
            " 4   roomscount   558479 non-null  float64\n",
            " 5   flattype     604151 non-null  object \n",
            " 6   lat          856691 non-null  float64\n",
            " 7   lng          856691 non-null  float64\n",
            " 8   price        856691 non-null  float64\n",
            "dtypes: float64(6), int64(1), object(2)\n",
            "memory usage: 58.8+ MB\n"
          ]
        }
      ],
      "source": [
        "# floornumber\ttotalarea\troomscount\tisapartments\tflattype\n",
        "lst_features.info() # OK: lat, lng, price, category"
      ],
      "id": "P4kRlU7y0k0d"
    },
    {
      "cell_type": "code",
      "execution_count": null,
      "metadata": {
        "colab": {
          "base_uri": "https://localhost:8080/",
          "height": 206
        },
        "id": "eKB9rezn0k0e",
        "outputId": "1ddc8817-b08f-4859-c5bf-20eab4d4859c"
      },
      "outputs": [
        {
          "output_type": "execute_result",
          "data": {
            "text/plain": [
              "    offer_id  floornumber             category  totalarea  roomscount  \\\n",
              "0  238017518          1.0             flatRent       27.0         2.0   \n",
              "1  246784149          5.0       dailyHouseRent       45.0         2.0   \n",
              "2  256056349          4.0        dailyFlatRent       52.0         1.0   \n",
              "3  261757282          5.0             flatSale       63.0         3.0   \n",
              "4  263036059          2.0  newBuildingFlatSale       40.6         1.0   \n",
              "\n",
              "  flattype        lat        lng       price  \n",
              "0   studio  45.021564  38.925492     12990.0  \n",
              "1       -1  57.248981  32.941303      4000.0  \n",
              "2    rooms  55.763224  37.605409      5500.0  \n",
              "3    rooms  54.995849  73.282558   4920000.0  \n",
              "4    rooms  59.981960  30.338703  14882000.0  "
            ],
            "text/html": [
              "\n",
              "  <div id=\"df-9ee676ea-5e73-40c8-a71b-9be8ab1ce86c\">\n",
              "    <div class=\"colab-df-container\">\n",
              "      <div>\n",
              "<style scoped>\n",
              "    .dataframe tbody tr th:only-of-type {\n",
              "        vertical-align: middle;\n",
              "    }\n",
              "\n",
              "    .dataframe tbody tr th {\n",
              "        vertical-align: top;\n",
              "    }\n",
              "\n",
              "    .dataframe thead th {\n",
              "        text-align: right;\n",
              "    }\n",
              "</style>\n",
              "<table border=\"1\" class=\"dataframe\">\n",
              "  <thead>\n",
              "    <tr style=\"text-align: right;\">\n",
              "      <th></th>\n",
              "      <th>offer_id</th>\n",
              "      <th>floornumber</th>\n",
              "      <th>category</th>\n",
              "      <th>totalarea</th>\n",
              "      <th>roomscount</th>\n",
              "      <th>flattype</th>\n",
              "      <th>lat</th>\n",
              "      <th>lng</th>\n",
              "      <th>price</th>\n",
              "    </tr>\n",
              "  </thead>\n",
              "  <tbody>\n",
              "    <tr>\n",
              "      <th>0</th>\n",
              "      <td>238017518</td>\n",
              "      <td>1.0</td>\n",
              "      <td>flatRent</td>\n",
              "      <td>27.0</td>\n",
              "      <td>2.0</td>\n",
              "      <td>studio</td>\n",
              "      <td>45.021564</td>\n",
              "      <td>38.925492</td>\n",
              "      <td>12990.0</td>\n",
              "    </tr>\n",
              "    <tr>\n",
              "      <th>1</th>\n",
              "      <td>246784149</td>\n",
              "      <td>5.0</td>\n",
              "      <td>dailyHouseRent</td>\n",
              "      <td>45.0</td>\n",
              "      <td>2.0</td>\n",
              "      <td>-1</td>\n",
              "      <td>57.248981</td>\n",
              "      <td>32.941303</td>\n",
              "      <td>4000.0</td>\n",
              "    </tr>\n",
              "    <tr>\n",
              "      <th>2</th>\n",
              "      <td>256056349</td>\n",
              "      <td>4.0</td>\n",
              "      <td>dailyFlatRent</td>\n",
              "      <td>52.0</td>\n",
              "      <td>1.0</td>\n",
              "      <td>rooms</td>\n",
              "      <td>55.763224</td>\n",
              "      <td>37.605409</td>\n",
              "      <td>5500.0</td>\n",
              "    </tr>\n",
              "    <tr>\n",
              "      <th>3</th>\n",
              "      <td>261757282</td>\n",
              "      <td>5.0</td>\n",
              "      <td>flatSale</td>\n",
              "      <td>63.0</td>\n",
              "      <td>3.0</td>\n",
              "      <td>rooms</td>\n",
              "      <td>54.995849</td>\n",
              "      <td>73.282558</td>\n",
              "      <td>4920000.0</td>\n",
              "    </tr>\n",
              "    <tr>\n",
              "      <th>4</th>\n",
              "      <td>263036059</td>\n",
              "      <td>2.0</td>\n",
              "      <td>newBuildingFlatSale</td>\n",
              "      <td>40.6</td>\n",
              "      <td>1.0</td>\n",
              "      <td>rooms</td>\n",
              "      <td>59.981960</td>\n",
              "      <td>30.338703</td>\n",
              "      <td>14882000.0</td>\n",
              "    </tr>\n",
              "  </tbody>\n",
              "</table>\n",
              "</div>\n",
              "      <button class=\"colab-df-convert\" onclick=\"convertToInteractive('df-9ee676ea-5e73-40c8-a71b-9be8ab1ce86c')\"\n",
              "              title=\"Convert this dataframe to an interactive table.\"\n",
              "              style=\"display:none;\">\n",
              "        \n",
              "  <svg xmlns=\"http://www.w3.org/2000/svg\" height=\"24px\"viewBox=\"0 0 24 24\"\n",
              "       width=\"24px\">\n",
              "    <path d=\"M0 0h24v24H0V0z\" fill=\"none\"/>\n",
              "    <path d=\"M18.56 5.44l.94 2.06.94-2.06 2.06-.94-2.06-.94-.94-2.06-.94 2.06-2.06.94zm-11 1L8.5 8.5l.94-2.06 2.06-.94-2.06-.94L8.5 2.5l-.94 2.06-2.06.94zm10 10l.94 2.06.94-2.06 2.06-.94-2.06-.94-.94-2.06-.94 2.06-2.06.94z\"/><path d=\"M17.41 7.96l-1.37-1.37c-.4-.4-.92-.59-1.43-.59-.52 0-1.04.2-1.43.59L10.3 9.45l-7.72 7.72c-.78.78-.78 2.05 0 2.83L4 21.41c.39.39.9.59 1.41.59.51 0 1.02-.2 1.41-.59l7.78-7.78 2.81-2.81c.8-.78.8-2.07 0-2.86zM5.41 20L4 18.59l7.72-7.72 1.47 1.35L5.41 20z\"/>\n",
              "  </svg>\n",
              "      </button>\n",
              "      \n",
              "  <style>\n",
              "    .colab-df-container {\n",
              "      display:flex;\n",
              "      flex-wrap:wrap;\n",
              "      gap: 12px;\n",
              "    }\n",
              "\n",
              "    .colab-df-convert {\n",
              "      background-color: #E8F0FE;\n",
              "      border: none;\n",
              "      border-radius: 50%;\n",
              "      cursor: pointer;\n",
              "      display: none;\n",
              "      fill: #1967D2;\n",
              "      height: 32px;\n",
              "      padding: 0 0 0 0;\n",
              "      width: 32px;\n",
              "    }\n",
              "\n",
              "    .colab-df-convert:hover {\n",
              "      background-color: #E2EBFA;\n",
              "      box-shadow: 0px 1px 2px rgba(60, 64, 67, 0.3), 0px 1px 3px 1px rgba(60, 64, 67, 0.15);\n",
              "      fill: #174EA6;\n",
              "    }\n",
              "\n",
              "    [theme=dark] .colab-df-convert {\n",
              "      background-color: #3B4455;\n",
              "      fill: #D2E3FC;\n",
              "    }\n",
              "\n",
              "    [theme=dark] .colab-df-convert:hover {\n",
              "      background-color: #434B5C;\n",
              "      box-shadow: 0px 1px 3px 1px rgba(0, 0, 0, 0.15);\n",
              "      filter: drop-shadow(0px 1px 2px rgba(0, 0, 0, 0.3));\n",
              "      fill: #FFFFFF;\n",
              "    }\n",
              "  </style>\n",
              "\n",
              "      <script>\n",
              "        const buttonEl =\n",
              "          document.querySelector('#df-9ee676ea-5e73-40c8-a71b-9be8ab1ce86c button.colab-df-convert');\n",
              "        buttonEl.style.display =\n",
              "          google.colab.kernel.accessAllowed ? 'block' : 'none';\n",
              "\n",
              "        async function convertToInteractive(key) {\n",
              "          const element = document.querySelector('#df-9ee676ea-5e73-40c8-a71b-9be8ab1ce86c');\n",
              "          const dataTable =\n",
              "            await google.colab.kernel.invokeFunction('convertToInteractive',\n",
              "                                                     [key], {});\n",
              "          if (!dataTable) return;\n",
              "\n",
              "          const docLinkHtml = 'Like what you see? Visit the ' +\n",
              "            '<a target=\"_blank\" href=https://colab.research.google.com/notebooks/data_table.ipynb>data table notebook</a>'\n",
              "            + ' to learn more about interactive tables.';\n",
              "          element.innerHTML = '';\n",
              "          dataTable['output_type'] = 'display_data';\n",
              "          await google.colab.output.renderOutput(dataTable, element);\n",
              "          const docLink = document.createElement('div');\n",
              "          docLink.innerHTML = docLinkHtml;\n",
              "          element.appendChild(docLink);\n",
              "        }\n",
              "      </script>\n",
              "    </div>\n",
              "  </div>\n",
              "  "
            ]
          },
          "metadata": {},
          "execution_count": 10
        }
      ],
      "source": [
        "lst_features['floornumber'] = lst_features['floornumber'].fillna(lst_features['floornumber'].median())\n",
        "lst_features['totalarea'] = lst_features['totalarea'].fillna(lst_features['totalarea'].median())\n",
        "lst_features['roomscount'] = lst_features['roomscount'].fillna(lst_features['roomscount'].median())\n",
        "lst_features['category'] = lst_features['category'].fillna('-1')\n",
        "lst_features['flattype'] = lst_features['flattype'].fillna('-1')\n",
        "lst_features.head()"
      ],
      "id": "eKB9rezn0k0e"
    },
    {
      "cell_type": "code",
      "execution_count": null,
      "metadata": {
        "collapsed": true,
        "id": "k5b8NG440k0e"
      },
      "outputs": [],
      "source": [
        "# lst_features.drop('isapartments', axis=1, inplace=True)"
      ],
      "id": "k5b8NG440k0e"
    },
    {
      "cell_type": "code",
      "execution_count": null,
      "metadata": {
        "colab": {
          "base_uri": "https://localhost:8080/"
        },
        "id": "WvDBPmkP0k0e",
        "outputId": "41d7f06b-b602-42d1-d18f-8014139dcf9b"
      },
      "outputs": [
        {
          "output_type": "execute_result",
          "data": {
            "text/plain": [
              "array(['studio', '-1', 'rooms', 'openPlan'], dtype=object)"
            ]
          },
          "metadata": {},
          "execution_count": 12
        }
      ],
      "source": [
        "lst_features.flattype.unique()"
      ],
      "id": "WvDBPmkP0k0e"
    },
    {
      "cell_type": "code",
      "execution_count": null,
      "metadata": {
        "colab": {
          "base_uri": "https://localhost:8080/"
        },
        "id": "CpEP-7GT0k0f",
        "outputId": "10286f09-0ee3-4b92-c9f7-edecc2c4a3d5"
      },
      "outputs": [
        {
          "output_type": "execute_result",
          "data": {
            "text/plain": [
              "array(['flatRent', 'dailyHouseRent', 'dailyFlatRent', 'flatSale',\n",
              "       'newBuildingFlatSale', 'cottageRent', 'freeAppointmentObjectRent',\n",
              "       'cottageSale', 'houseSale', 'landSale', 'industryRent', 'roomSale',\n",
              "       'industrySale', 'officeRent', 'officeSale', 'shoppingAreaSale',\n",
              "       'garageSale', 'freeAppointmentObjectSale', 'townhouseSale',\n",
              "       'businessSale', 'shoppingAreaRent', 'roomRent', 'houseRent',\n",
              "       'houseShareSale', 'buildingSale', 'garageRent', 'warehouseSale',\n",
              "       'warehouseRent', 'dailyRoomRent', 'townhouseRent',\n",
              "       'commercialLandSale', 'flatShareSale', 'houseShareRent',\n",
              "       'dailyBedRent', 'buildingRent', 'bedRent', 'commercialLandRent',\n",
              "       'businessRent'], dtype=object)"
            ]
          },
          "metadata": {},
          "execution_count": 13
        }
      ],
      "source": [
        "lst_features.category.unique()"
      ],
      "id": "CpEP-7GT0k0f"
    },
    {
      "cell_type": "code",
      "execution_count": null,
      "metadata": {
        "colab": {
          "base_uri": "https://localhost:8080/"
        },
        "id": "gsvkWS6N0k0f",
        "outputId": "13ed935a-cbfe-4e74-d13f-7172aee982be"
      },
      "outputs": [
        {
          "output_type": "stream",
          "name": "stderr",
          "text": [
            "100%|██████████| 856691/856691 [00:01<00:00, 498234.86it/s]\n"
          ]
        },
        {
          "output_type": "execute_result",
          "data": {
            "text/plain": [
              "array(['Rent', 'Sale'], dtype=object)"
            ]
          },
          "metadata": {},
          "execution_count": 14
        }
      ],
      "source": [
        "from tqdm import tqdm\n",
        "tqdm.pandas()\n",
        "def rent_or_sale(arg):\n",
        "    if 'Sale' in arg:\n",
        "        return 'Sale'\n",
        "    if 'Rent' in arg:\n",
        "        return 'Rent'\n",
        "lst_features['category'] = lst_features['category'].progress_apply(rent_or_sale)\n",
        "lst_features.category.unique()"
      ],
      "id": "gsvkWS6N0k0f"
    },
    {
      "cell_type": "code",
      "execution_count": null,
      "metadata": {
        "colab": {
          "base_uri": "https://localhost:8080/"
        },
        "id": "9V77lIch0k0f",
        "outputId": "2c6ae349-776b-4570-8677-0ea898c1430d"
      },
      "outputs": [
        {
          "output_type": "stream",
          "name": "stdout",
          "text": [
            "<class 'pandas.core.frame.DataFrame'>\n",
            "RangeIndex: 856691 entries, 0 to 856690\n",
            "Data columns (total 9 columns):\n",
            " #   Column       Non-Null Count   Dtype  \n",
            "---  ------       --------------   -----  \n",
            " 0   offer_id     856691 non-null  int64  \n",
            " 1   floornumber  856691 non-null  float64\n",
            " 2   category     856691 non-null  object \n",
            " 3   totalarea    856691 non-null  float64\n",
            " 4   roomscount   856691 non-null  float64\n",
            " 5   flattype     856691 non-null  object \n",
            " 6   lat          856691 non-null  float64\n",
            " 7   lng          856691 non-null  float64\n",
            " 8   price        856691 non-null  float64\n",
            "dtypes: float64(6), int64(1), object(2)\n",
            "memory usage: 58.8+ MB\n"
          ]
        }
      ],
      "source": [
        "lst_features.info()"
      ],
      "id": "9V77lIch0k0f"
    },
    {
      "cell_type": "code",
      "execution_count": null,
      "metadata": {
        "colab": {
          "base_uri": "https://localhost:8080/",
          "height": 35
        },
        "id": "atkSOOvY0k0g",
        "outputId": "b8df22bd-2d3e-4357-8ee9-e0163271936b"
      },
      "outputs": [
        {
          "output_type": "execute_result",
          "data": {
            "text/plain": [
              "'1.2.2'"
            ],
            "application/vnd.google.colaboratory.intrinsic+json": {
              "type": "string"
            }
          },
          "metadata": {},
          "execution_count": 16
        }
      ],
      "source": [
        "import sklearn\n",
        "sklearn.__version__"
      ],
      "id": "atkSOOvY0k0g"
    },
    {
      "cell_type": "code",
      "execution_count": null,
      "metadata": {
        "colab": {
          "base_uri": "https://localhost:8080/",
          "height": 160
        },
        "id": "-O5ME0U-0k0g",
        "outputId": "972b2248-c357-4fc7-ab33-9dd5680a3a5c"
      },
      "outputs": [
        {
          "output_type": "display_data",
          "data": {
            "text/plain": [
              "array([[1., 0., 0., 0., 0., 1.],\n",
              "       [1., 0., 1., 0., 0., 0.],\n",
              "       [1., 0., 0., 0., 1., 0.],\n",
              "       ...,\n",
              "       [0., 1., 0., 0., 1., 0.],\n",
              "       [1., 0., 0., 0., 1., 0.],\n",
              "       [1., 0., 0., 0., 1., 0.]])"
            ]
          },
          "metadata": {}
        },
        {
          "output_type": "stream",
          "name": "stdout",
          "text": [
            "(856691, 6)\n"
          ]
        }
      ],
      "source": [
        "# кодируем катфичи\n",
        "from sklearn.preprocessing import OneHotEncoder\n",
        "cat_data = lst_features[['category', 'flattype']]\n",
        "enc = OneHotEncoder()\n",
        "cat_enc = enc.fit_transform(cat_data).toarray()\n",
        "display(cat_enc)\n",
        "print(cat_enc.shape)"
      ],
      "id": "-O5ME0U-0k0g"
    },
    {
      "cell_type": "code",
      "execution_count": null,
      "metadata": {
        "collapsed": true,
        "id": "ibhce9EM0k0h"
      },
      "outputs": [],
      "source": [
        "# from math import sin, cos\n",
        "# # def prepare_coordinates(*lat):\n",
        "# #     x = cos(lat[0]) * cos(lng[1])\n",
        "# #     y = cos(lat[0]) * sin(lng[1])\n",
        "# #     z = sin(lat[0]) \n",
        "# #     return x, y, z\n",
        "# #lst_features['x'], lst_features['y'], lst_features['z'] = lst_features[['lat', 'lng']].apply(prepare_coordinates)\n",
        "# lst_features['cos_lat'] = lst_features['lat'].apply(cos)\n",
        "# lst_features['cos_lng'] = lst_features['lng'].apply(cos)\n",
        "# lst_features['sin_lat'] = lst_features['lat'].apply(sin)\n",
        "# lst_features['sin_lng'] = lst_features['lng'].apply(sin)\n",
        "# lst_features['x'] = lst_features['cos_lat'] * lst_features['cos_lng']\n",
        "# lst_features['y'] = lst_features['cos_lat'] * lst_features['sin_lng']\n",
        "# lst_features['z'] = lst_features['sin_lat']\n",
        "# lst_features.drop(['cos_lat', 'cos_lng', 'sin_lat', 'sin_lng', 'lat', 'lng'], inplace=True, axis=1)\n",
        "# lst_features.head()"
      ],
      "id": "ibhce9EM0k0h"
    },
    {
      "cell_type": "code",
      "execution_count": null,
      "metadata": {
        "colab": {
          "base_uri": "https://localhost:8080/",
          "height": 206
        },
        "id": "2zhtS5Lr0k0h",
        "outputId": "da91bf5f-4e70-4d77-a750-96c1a866f426"
      },
      "outputs": [
        {
          "output_type": "execute_result",
          "data": {
            "text/plain": [
              "    offer_id  floornumber category  totalarea  roomscount flattype        lat  \\\n",
              "0  238017518          1.0     Rent       27.0         2.0   studio  45.021564   \n",
              "1  246784149          5.0     Rent       45.0         2.0       -1  57.248981   \n",
              "2  256056349          4.0     Rent       52.0         1.0    rooms  55.763224   \n",
              "3  261757282          5.0     Sale       63.0         3.0    rooms  54.995849   \n",
              "4  263036059          2.0     Sale       40.6         1.0    rooms  59.981960   \n",
              "\n",
              "         lng       price  \n",
              "0  38.925492     12990.0  \n",
              "1  32.941303      4000.0  \n",
              "2  37.605409      5500.0  \n",
              "3  73.282558   4920000.0  \n",
              "4  30.338703  14882000.0  "
            ],
            "text/html": [
              "\n",
              "  <div id=\"df-2cbf913f-d9a5-4129-b3b5-a6bbf3ab8353\">\n",
              "    <div class=\"colab-df-container\">\n",
              "      <div>\n",
              "<style scoped>\n",
              "    .dataframe tbody tr th:only-of-type {\n",
              "        vertical-align: middle;\n",
              "    }\n",
              "\n",
              "    .dataframe tbody tr th {\n",
              "        vertical-align: top;\n",
              "    }\n",
              "\n",
              "    .dataframe thead th {\n",
              "        text-align: right;\n",
              "    }\n",
              "</style>\n",
              "<table border=\"1\" class=\"dataframe\">\n",
              "  <thead>\n",
              "    <tr style=\"text-align: right;\">\n",
              "      <th></th>\n",
              "      <th>offer_id</th>\n",
              "      <th>floornumber</th>\n",
              "      <th>category</th>\n",
              "      <th>totalarea</th>\n",
              "      <th>roomscount</th>\n",
              "      <th>flattype</th>\n",
              "      <th>lat</th>\n",
              "      <th>lng</th>\n",
              "      <th>price</th>\n",
              "    </tr>\n",
              "  </thead>\n",
              "  <tbody>\n",
              "    <tr>\n",
              "      <th>0</th>\n",
              "      <td>238017518</td>\n",
              "      <td>1.0</td>\n",
              "      <td>Rent</td>\n",
              "      <td>27.0</td>\n",
              "      <td>2.0</td>\n",
              "      <td>studio</td>\n",
              "      <td>45.021564</td>\n",
              "      <td>38.925492</td>\n",
              "      <td>12990.0</td>\n",
              "    </tr>\n",
              "    <tr>\n",
              "      <th>1</th>\n",
              "      <td>246784149</td>\n",
              "      <td>5.0</td>\n",
              "      <td>Rent</td>\n",
              "      <td>45.0</td>\n",
              "      <td>2.0</td>\n",
              "      <td>-1</td>\n",
              "      <td>57.248981</td>\n",
              "      <td>32.941303</td>\n",
              "      <td>4000.0</td>\n",
              "    </tr>\n",
              "    <tr>\n",
              "      <th>2</th>\n",
              "      <td>256056349</td>\n",
              "      <td>4.0</td>\n",
              "      <td>Rent</td>\n",
              "      <td>52.0</td>\n",
              "      <td>1.0</td>\n",
              "      <td>rooms</td>\n",
              "      <td>55.763224</td>\n",
              "      <td>37.605409</td>\n",
              "      <td>5500.0</td>\n",
              "    </tr>\n",
              "    <tr>\n",
              "      <th>3</th>\n",
              "      <td>261757282</td>\n",
              "      <td>5.0</td>\n",
              "      <td>Sale</td>\n",
              "      <td>63.0</td>\n",
              "      <td>3.0</td>\n",
              "      <td>rooms</td>\n",
              "      <td>54.995849</td>\n",
              "      <td>73.282558</td>\n",
              "      <td>4920000.0</td>\n",
              "    </tr>\n",
              "    <tr>\n",
              "      <th>4</th>\n",
              "      <td>263036059</td>\n",
              "      <td>2.0</td>\n",
              "      <td>Sale</td>\n",
              "      <td>40.6</td>\n",
              "      <td>1.0</td>\n",
              "      <td>rooms</td>\n",
              "      <td>59.981960</td>\n",
              "      <td>30.338703</td>\n",
              "      <td>14882000.0</td>\n",
              "    </tr>\n",
              "  </tbody>\n",
              "</table>\n",
              "</div>\n",
              "      <button class=\"colab-df-convert\" onclick=\"convertToInteractive('df-2cbf913f-d9a5-4129-b3b5-a6bbf3ab8353')\"\n",
              "              title=\"Convert this dataframe to an interactive table.\"\n",
              "              style=\"display:none;\">\n",
              "        \n",
              "  <svg xmlns=\"http://www.w3.org/2000/svg\" height=\"24px\"viewBox=\"0 0 24 24\"\n",
              "       width=\"24px\">\n",
              "    <path d=\"M0 0h24v24H0V0z\" fill=\"none\"/>\n",
              "    <path d=\"M18.56 5.44l.94 2.06.94-2.06 2.06-.94-2.06-.94-.94-2.06-.94 2.06-2.06.94zm-11 1L8.5 8.5l.94-2.06 2.06-.94-2.06-.94L8.5 2.5l-.94 2.06-2.06.94zm10 10l.94 2.06.94-2.06 2.06-.94-2.06-.94-.94-2.06-.94 2.06-2.06.94z\"/><path d=\"M17.41 7.96l-1.37-1.37c-.4-.4-.92-.59-1.43-.59-.52 0-1.04.2-1.43.59L10.3 9.45l-7.72 7.72c-.78.78-.78 2.05 0 2.83L4 21.41c.39.39.9.59 1.41.59.51 0 1.02-.2 1.41-.59l7.78-7.78 2.81-2.81c.8-.78.8-2.07 0-2.86zM5.41 20L4 18.59l7.72-7.72 1.47 1.35L5.41 20z\"/>\n",
              "  </svg>\n",
              "      </button>\n",
              "      \n",
              "  <style>\n",
              "    .colab-df-container {\n",
              "      display:flex;\n",
              "      flex-wrap:wrap;\n",
              "      gap: 12px;\n",
              "    }\n",
              "\n",
              "    .colab-df-convert {\n",
              "      background-color: #E8F0FE;\n",
              "      border: none;\n",
              "      border-radius: 50%;\n",
              "      cursor: pointer;\n",
              "      display: none;\n",
              "      fill: #1967D2;\n",
              "      height: 32px;\n",
              "      padding: 0 0 0 0;\n",
              "      width: 32px;\n",
              "    }\n",
              "\n",
              "    .colab-df-convert:hover {\n",
              "      background-color: #E2EBFA;\n",
              "      box-shadow: 0px 1px 2px rgba(60, 64, 67, 0.3), 0px 1px 3px 1px rgba(60, 64, 67, 0.15);\n",
              "      fill: #174EA6;\n",
              "    }\n",
              "\n",
              "    [theme=dark] .colab-df-convert {\n",
              "      background-color: #3B4455;\n",
              "      fill: #D2E3FC;\n",
              "    }\n",
              "\n",
              "    [theme=dark] .colab-df-convert:hover {\n",
              "      background-color: #434B5C;\n",
              "      box-shadow: 0px 1px 3px 1px rgba(0, 0, 0, 0.15);\n",
              "      filter: drop-shadow(0px 1px 2px rgba(0, 0, 0, 0.3));\n",
              "      fill: #FFFFFF;\n",
              "    }\n",
              "  </style>\n",
              "\n",
              "      <script>\n",
              "        const buttonEl =\n",
              "          document.querySelector('#df-2cbf913f-d9a5-4129-b3b5-a6bbf3ab8353 button.colab-df-convert');\n",
              "        buttonEl.style.display =\n",
              "          google.colab.kernel.accessAllowed ? 'block' : 'none';\n",
              "\n",
              "        async function convertToInteractive(key) {\n",
              "          const element = document.querySelector('#df-2cbf913f-d9a5-4129-b3b5-a6bbf3ab8353');\n",
              "          const dataTable =\n",
              "            await google.colab.kernel.invokeFunction('convertToInteractive',\n",
              "                                                     [key], {});\n",
              "          if (!dataTable) return;\n",
              "\n",
              "          const docLinkHtml = 'Like what you see? Visit the ' +\n",
              "            '<a target=\"_blank\" href=https://colab.research.google.com/notebooks/data_table.ipynb>data table notebook</a>'\n",
              "            + ' to learn more about interactive tables.';\n",
              "          element.innerHTML = '';\n",
              "          dataTable['output_type'] = 'display_data';\n",
              "          await google.colab.output.renderOutput(dataTable, element);\n",
              "          const docLink = document.createElement('div');\n",
              "          docLink.innerHTML = docLinkHtml;\n",
              "          element.appendChild(docLink);\n",
              "        }\n",
              "      </script>\n",
              "    </div>\n",
              "  </div>\n",
              "  "
            ]
          },
          "metadata": {},
          "execution_count": 19
        }
      ],
      "source": [
        "lst_features.head()"
      ],
      "id": "2zhtS5Lr0k0h"
    },
    {
      "cell_type": "code",
      "execution_count": null,
      "metadata": {
        "collapsed": true,
        "id": "YVyYw0eu0k0h"
      },
      "outputs": [],
      "source": [
        "# масштабирование числовых признаков\n",
        "from sklearn.preprocessing import MinMaxScaler\n",
        "num_cols = lst_features.drop(['offer_id', 'category', 'flattype'], axis=1)\n",
        "scaler = MinMaxScaler()\n",
        "num_cols = scaler.fit_transform(num_cols)\n",
        "#print(np.max(num_cols), np.min(num_cols))"
      ],
      "id": "YVyYw0eu0k0h"
    },
    {
      "cell_type": "code",
      "execution_count": null,
      "metadata": {
        "colab": {
          "base_uri": "https://localhost:8080/"
        },
        "id": "ds5q7X-30k0i",
        "outputId": "dc9641eb-2beb-4ae4-c8dc-fb2ceb102a78"
      },
      "outputs": [
        {
          "output_type": "stream",
          "name": "stdout",
          "text": [
            "(856691, 13)\n"
          ]
        },
        {
          "output_type": "execute_result",
          "data": {
            "text/plain": [
              "array([[2.38017518e+08, 3.17460317e-02, 1.73333449e-05, ...,\n",
              "        0.00000000e+00, 0.00000000e+00, 1.00000000e+00],\n",
              "       [2.46784149e+08, 6.34920635e-02, 2.93333529e-05, ...,\n",
              "        0.00000000e+00, 0.00000000e+00, 0.00000000e+00],\n",
              "       [2.56056349e+08, 5.55555556e-02, 3.40000227e-05, ...,\n",
              "        0.00000000e+00, 1.00000000e+00, 0.00000000e+00],\n",
              "       ...,\n",
              "       [2.75521097e+08, 8.73015873e-02, 1.96000131e-05, ...,\n",
              "        0.00000000e+00, 1.00000000e+00, 0.00000000e+00],\n",
              "       [2.75672461e+08, 8.73015873e-02, 4.14666943e-05, ...,\n",
              "        0.00000000e+00, 1.00000000e+00, 0.00000000e+00],\n",
              "       [2.75950340e+08, 3.96825397e-02, 2.73333516e-05, ...,\n",
              "        0.00000000e+00, 1.00000000e+00, 0.00000000e+00]])"
            ]
          },
          "metadata": {},
          "execution_count": 21
        }
      ],
      "source": [
        "import numpy as np\n",
        "ID = np.array(lst_features['offer_id'])\n",
        "lst_features_final = np.hstack((ID.reshape((len(ID), 1)), num_cols, cat_enc))\n",
        "print(lst_features_final.shape)\n",
        "lst_features_final"
      ],
      "id": "ds5q7X-30k0i"
    },
    {
      "cell_type": "code",
      "execution_count": null,
      "metadata": {
        "collapsed": true,
        "id": "DYvPVc7r0k0i"
      },
      "outputs": [],
      "source": [
        "lst_features_Jaccar = np.hstack((ID.reshape((len(ID), 1)), cat_enc)).astype(int)"
      ],
      "id": "DYvPVc7r0k0i"
    },
    {
      "cell_type": "code",
      "execution_count": null,
      "metadata": {
        "collapsed": true,
        "id": "Kd4q4sHC0k0i"
      },
      "outputs": [],
      "source": [
        "def Jaccar_index(vec1, vec2):\n",
        "    return (np.sum(vec1 & vec2)) / (np.sum(vec1 | vec2))\n",
        "\n",
        "def Jaccar_index1(vec1, vec2):\n",
        "    g = np.sum(np.bitwise_and(vec1, vec2))\n",
        "    return g / (np.sum(vec1) + np.sum(vec2) - g)"
      ],
      "id": "Kd4q4sHC0k0i"
    },
    {
      "cell_type": "code",
      "source": [
        "a = lst_features_Jaccar[0][1:]\n",
        "b = lst_features_Jaccar[1][1:]"
      ],
      "metadata": {
        "id": "Jq8FdcFUAcVN"
      },
      "id": "Jq8FdcFUAcVN",
      "execution_count": null,
      "outputs": []
    },
    {
      "cell_type": "code",
      "source": [
        "lst_features.iloc[0]"
      ],
      "metadata": {
        "colab": {
          "base_uri": "https://localhost:8080/"
        },
        "id": "44agTEZvDr7q",
        "outputId": "233c1038-45e4-469e-b197-07d4254a27cd"
      },
      "id": "44agTEZvDr7q",
      "execution_count": null,
      "outputs": [
        {
          "output_type": "execute_result",
          "data": {
            "text/plain": [
              "offer_id       238017518\n",
              "floornumber          1.0\n",
              "category            Rent\n",
              "totalarea           27.0\n",
              "roomscount           2.0\n",
              "flattype          studio\n",
              "lat            45.021564\n",
              "lng            38.925492\n",
              "price            12990.0\n",
              "Name: 0, dtype: object"
            ]
          },
          "metadata": {},
          "execution_count": 25
        }
      ]
    },
    {
      "cell_type": "code",
      "source": [
        "lst_features.iloc[51]"
      ],
      "metadata": {
        "colab": {
          "base_uri": "https://localhost:8080/"
        },
        "id": "a6tFN59TD5YT",
        "outputId": "be0ea5df-cdf9-403b-9f55-ec0dab0f9762"
      },
      "id": "a6tFN59TD5YT",
      "execution_count": null,
      "outputs": [
        {
          "output_type": "execute_result",
          "data": {
            "text/plain": [
              "offer_id       275908181\n",
              "floornumber          4.0\n",
              "category            Rent\n",
              "totalarea           30.0\n",
              "roomscount           2.0\n",
              "flattype          studio\n",
              "lat            55.554629\n",
              "lng            37.465173\n",
              "price            38000.0\n",
              "Name: 51, dtype: object"
            ]
          },
          "metadata": {},
          "execution_count": 26
        }
      ]
    },
    {
      "cell_type": "code",
      "source": [
        "best_Jaccar_index = 0 # рабочая переменная для нахождения лучшего значения индекса Жаккара\n",
        "best_rows = [] # список для хранения наиболее похожих объявлений\n",
        "for i in range(1, lst_features_Jaccar.shape[0]):\n",
        "    Jaccar_i = Jaccar_index(lst_features_Jaccar[0][1:], lst_features_Jaccar[i][1:])\n",
        "    if best_Jaccar_index <= Jaccar_i:\n",
        "        best_Jaccar_index = Jaccar_i\n",
        "        best_rows.append(i)\n",
        "len(best_rows)"
      ],
      "metadata": {
        "colab": {
          "base_uri": "https://localhost:8080/"
        },
        "id": "KuF_KhrCBM_A",
        "outputId": "13b0a8a4-20d0-4ca5-c8e9-6fdef3cadd12"
      },
      "id": "KuF_KhrCBM_A",
      "execution_count": null,
      "outputs": [
        {
          "output_type": "execute_result",
          "data": {
            "text/plain": [
              "17320"
            ]
          },
          "metadata": {},
          "execution_count": 27
        }
      ]
    },
    {
      "cell_type": "code",
      "source": [
        "np.bitwise_and(a, b)"
      ],
      "metadata": {
        "colab": {
          "base_uri": "https://localhost:8080/"
        },
        "id": "3cMvR73nBDM0",
        "outputId": "fc6b143f-8fd4-4145-ab5c-071bec57f0fe"
      },
      "id": "3cMvR73nBDM0",
      "execution_count": null,
      "outputs": [
        {
          "output_type": "execute_result",
          "data": {
            "text/plain": [
              "array([1, 0, 0, 0, 0, 0])"
            ]
          },
          "metadata": {},
          "execution_count": 29
        }
      ]
    },
    {
      "cell_type": "code",
      "source": [
        "Jaccar_index1(a, b)"
      ],
      "metadata": {
        "colab": {
          "base_uri": "https://localhost:8080/"
        },
        "id": "Th2E70pRAdpJ",
        "outputId": "5eff1988-f07d-4c37-855e-f4f170a925c6"
      },
      "id": "Th2E70pRAdpJ",
      "execution_count": null,
      "outputs": [
        {
          "output_type": "execute_result",
          "data": {
            "text/plain": [
              "0.3333333333333333"
            ]
          },
          "metadata": {},
          "execution_count": 30
        }
      ]
    },
    {
      "cell_type": "code",
      "source": [
        "clicks[(clicks['user_id'] == '50044273') & (clicks['event_name'] == 'Add2Like')]"
      ],
      "metadata": {
        "colab": {
          "base_uri": "https://localhost:8080/",
          "height": 49
        },
        "id": "cmkYfRPVTOH1",
        "outputId": "5f862b26-8f19-4213-d642-b5268c8b9c0b"
      },
      "id": "cmkYfRPVTOH1",
      "execution_count": null,
      "outputs": [
        {
          "output_type": "execute_result",
          "data": {
            "text/plain": [
              "Empty DataFrame\n",
              "Columns: [timestamp, user_id, offer_id, event_name]\n",
              "Index: []"
            ],
            "text/html": [
              "\n",
              "  <div id=\"df-cbb1c662-8cb2-4666-9845-63c95f1c1f28\">\n",
              "    <div class=\"colab-df-container\">\n",
              "      <div>\n",
              "<style scoped>\n",
              "    .dataframe tbody tr th:only-of-type {\n",
              "        vertical-align: middle;\n",
              "    }\n",
              "\n",
              "    .dataframe tbody tr th {\n",
              "        vertical-align: top;\n",
              "    }\n",
              "\n",
              "    .dataframe thead th {\n",
              "        text-align: right;\n",
              "    }\n",
              "</style>\n",
              "<table border=\"1\" class=\"dataframe\">\n",
              "  <thead>\n",
              "    <tr style=\"text-align: right;\">\n",
              "      <th></th>\n",
              "      <th>timestamp</th>\n",
              "      <th>user_id</th>\n",
              "      <th>offer_id</th>\n",
              "      <th>event_name</th>\n",
              "    </tr>\n",
              "  </thead>\n",
              "  <tbody>\n",
              "  </tbody>\n",
              "</table>\n",
              "</div>\n",
              "      <button class=\"colab-df-convert\" onclick=\"convertToInteractive('df-cbb1c662-8cb2-4666-9845-63c95f1c1f28')\"\n",
              "              title=\"Convert this dataframe to an interactive table.\"\n",
              "              style=\"display:none;\">\n",
              "        \n",
              "  <svg xmlns=\"http://www.w3.org/2000/svg\" height=\"24px\"viewBox=\"0 0 24 24\"\n",
              "       width=\"24px\">\n",
              "    <path d=\"M0 0h24v24H0V0z\" fill=\"none\"/>\n",
              "    <path d=\"M18.56 5.44l.94 2.06.94-2.06 2.06-.94-2.06-.94-.94-2.06-.94 2.06-2.06.94zm-11 1L8.5 8.5l.94-2.06 2.06-.94-2.06-.94L8.5 2.5l-.94 2.06-2.06.94zm10 10l.94 2.06.94-2.06 2.06-.94-2.06-.94-.94-2.06-.94 2.06-2.06.94z\"/><path d=\"M17.41 7.96l-1.37-1.37c-.4-.4-.92-.59-1.43-.59-.52 0-1.04.2-1.43.59L10.3 9.45l-7.72 7.72c-.78.78-.78 2.05 0 2.83L4 21.41c.39.39.9.59 1.41.59.51 0 1.02-.2 1.41-.59l7.78-7.78 2.81-2.81c.8-.78.8-2.07 0-2.86zM5.41 20L4 18.59l7.72-7.72 1.47 1.35L5.41 20z\"/>\n",
              "  </svg>\n",
              "      </button>\n",
              "      \n",
              "  <style>\n",
              "    .colab-df-container {\n",
              "      display:flex;\n",
              "      flex-wrap:wrap;\n",
              "      gap: 12px;\n",
              "    }\n",
              "\n",
              "    .colab-df-convert {\n",
              "      background-color: #E8F0FE;\n",
              "      border: none;\n",
              "      border-radius: 50%;\n",
              "      cursor: pointer;\n",
              "      display: none;\n",
              "      fill: #1967D2;\n",
              "      height: 32px;\n",
              "      padding: 0 0 0 0;\n",
              "      width: 32px;\n",
              "    }\n",
              "\n",
              "    .colab-df-convert:hover {\n",
              "      background-color: #E2EBFA;\n",
              "      box-shadow: 0px 1px 2px rgba(60, 64, 67, 0.3), 0px 1px 3px 1px rgba(60, 64, 67, 0.15);\n",
              "      fill: #174EA6;\n",
              "    }\n",
              "\n",
              "    [theme=dark] .colab-df-convert {\n",
              "      background-color: #3B4455;\n",
              "      fill: #D2E3FC;\n",
              "    }\n",
              "\n",
              "    [theme=dark] .colab-df-convert:hover {\n",
              "      background-color: #434B5C;\n",
              "      box-shadow: 0px 1px 3px 1px rgba(0, 0, 0, 0.15);\n",
              "      filter: drop-shadow(0px 1px 2px rgba(0, 0, 0, 0.3));\n",
              "      fill: #FFFFFF;\n",
              "    }\n",
              "  </style>\n",
              "\n",
              "      <script>\n",
              "        const buttonEl =\n",
              "          document.querySelector('#df-cbb1c662-8cb2-4666-9845-63c95f1c1f28 button.colab-df-convert');\n",
              "        buttonEl.style.display =\n",
              "          google.colab.kernel.accessAllowed ? 'block' : 'none';\n",
              "\n",
              "        async function convertToInteractive(key) {\n",
              "          const element = document.querySelector('#df-cbb1c662-8cb2-4666-9845-63c95f1c1f28');\n",
              "          const dataTable =\n",
              "            await google.colab.kernel.invokeFunction('convertToInteractive',\n",
              "                                                     [key], {});\n",
              "          if (!dataTable) return;\n",
              "\n",
              "          const docLinkHtml = 'Like what you see? Visit the ' +\n",
              "            '<a target=\"_blank\" href=https://colab.research.google.com/notebooks/data_table.ipynb>data table notebook</a>'\n",
              "            + ' to learn more about interactive tables.';\n",
              "          element.innerHTML = '';\n",
              "          dataTable['output_type'] = 'display_data';\n",
              "          await google.colab.output.renderOutput(dataTable, element);\n",
              "          const docLink = document.createElement('div');\n",
              "          docLink.innerHTML = docLinkHtml;\n",
              "          element.appendChild(docLink);\n",
              "        }\n",
              "      </script>\n",
              "    </div>\n",
              "  </div>\n",
              "  "
            ]
          },
          "metadata": {},
          "execution_count": 31
        }
      ]
    },
    {
      "cell_type": "code",
      "source": [
        "lst_features_final_df = pd.DataFrame(data=lst_features_final,\n",
        "          index=np.array(range(lst_features_final.shape[0])),\n",
        "          columns=np.array(range(lst_features_final.shape[1])))\n",
        "lst_features_final_df.head()"
      ],
      "metadata": {
        "colab": {
          "base_uri": "https://localhost:8080/",
          "height": 206
        },
        "id": "PXzbYNJ3T5Kx",
        "outputId": "e62f17b3-eabd-4868-e09f-45a8ae3f2e3e"
      },
      "id": "PXzbYNJ3T5Kx",
      "execution_count": null,
      "outputs": [
        {
          "output_type": "execute_result",
          "data": {
            "text/plain": [
              "            0         1         2         3         4         5   \\\n",
              "0  238017518.0  0.031746  0.000017  0.043478  0.122610  0.119515   \n",
              "1  246784149.0  0.063492  0.000029  0.043478  0.557294  0.081969   \n",
              "2  256056349.0  0.055556  0.000034  0.021739  0.504475  0.111233   \n",
              "3  261757282.0  0.063492  0.000041  0.065217  0.477195  0.335078   \n",
              "4  263036059.0  0.039683  0.000026  0.021739  0.654451  0.065640   \n",
              "\n",
              "             6    7    8    9    10   11   12  \n",
              "0  1.298900e-06  1.0  0.0  0.0  0.0  0.0  1.0  \n",
              "1  3.999000e-07  1.0  0.0  1.0  0.0  0.0  0.0  \n",
              "2  5.499000e-07  1.0  0.0  0.0  0.0  1.0  0.0  \n",
              "3  4.919999e-04  0.0  1.0  0.0  0.0  1.0  0.0  \n",
              "4  1.488200e-03  0.0  1.0  0.0  0.0  1.0  0.0  "
            ],
            "text/html": [
              "\n",
              "  <div id=\"df-5e3622cb-8423-4de8-9dfa-139cd442b5f9\">\n",
              "    <div class=\"colab-df-container\">\n",
              "      <div>\n",
              "<style scoped>\n",
              "    .dataframe tbody tr th:only-of-type {\n",
              "        vertical-align: middle;\n",
              "    }\n",
              "\n",
              "    .dataframe tbody tr th {\n",
              "        vertical-align: top;\n",
              "    }\n",
              "\n",
              "    .dataframe thead th {\n",
              "        text-align: right;\n",
              "    }\n",
              "</style>\n",
              "<table border=\"1\" class=\"dataframe\">\n",
              "  <thead>\n",
              "    <tr style=\"text-align: right;\">\n",
              "      <th></th>\n",
              "      <th>0</th>\n",
              "      <th>1</th>\n",
              "      <th>2</th>\n",
              "      <th>3</th>\n",
              "      <th>4</th>\n",
              "      <th>5</th>\n",
              "      <th>6</th>\n",
              "      <th>7</th>\n",
              "      <th>8</th>\n",
              "      <th>9</th>\n",
              "      <th>10</th>\n",
              "      <th>11</th>\n",
              "      <th>12</th>\n",
              "    </tr>\n",
              "  </thead>\n",
              "  <tbody>\n",
              "    <tr>\n",
              "      <th>0</th>\n",
              "      <td>238017518.0</td>\n",
              "      <td>0.031746</td>\n",
              "      <td>0.000017</td>\n",
              "      <td>0.043478</td>\n",
              "      <td>0.122610</td>\n",
              "      <td>0.119515</td>\n",
              "      <td>1.298900e-06</td>\n",
              "      <td>1.0</td>\n",
              "      <td>0.0</td>\n",
              "      <td>0.0</td>\n",
              "      <td>0.0</td>\n",
              "      <td>0.0</td>\n",
              "      <td>1.0</td>\n",
              "    </tr>\n",
              "    <tr>\n",
              "      <th>1</th>\n",
              "      <td>246784149.0</td>\n",
              "      <td>0.063492</td>\n",
              "      <td>0.000029</td>\n",
              "      <td>0.043478</td>\n",
              "      <td>0.557294</td>\n",
              "      <td>0.081969</td>\n",
              "      <td>3.999000e-07</td>\n",
              "      <td>1.0</td>\n",
              "      <td>0.0</td>\n",
              "      <td>1.0</td>\n",
              "      <td>0.0</td>\n",
              "      <td>0.0</td>\n",
              "      <td>0.0</td>\n",
              "    </tr>\n",
              "    <tr>\n",
              "      <th>2</th>\n",
              "      <td>256056349.0</td>\n",
              "      <td>0.055556</td>\n",
              "      <td>0.000034</td>\n",
              "      <td>0.021739</td>\n",
              "      <td>0.504475</td>\n",
              "      <td>0.111233</td>\n",
              "      <td>5.499000e-07</td>\n",
              "      <td>1.0</td>\n",
              "      <td>0.0</td>\n",
              "      <td>0.0</td>\n",
              "      <td>0.0</td>\n",
              "      <td>1.0</td>\n",
              "      <td>0.0</td>\n",
              "    </tr>\n",
              "    <tr>\n",
              "      <th>3</th>\n",
              "      <td>261757282.0</td>\n",
              "      <td>0.063492</td>\n",
              "      <td>0.000041</td>\n",
              "      <td>0.065217</td>\n",
              "      <td>0.477195</td>\n",
              "      <td>0.335078</td>\n",
              "      <td>4.919999e-04</td>\n",
              "      <td>0.0</td>\n",
              "      <td>1.0</td>\n",
              "      <td>0.0</td>\n",
              "      <td>0.0</td>\n",
              "      <td>1.0</td>\n",
              "      <td>0.0</td>\n",
              "    </tr>\n",
              "    <tr>\n",
              "      <th>4</th>\n",
              "      <td>263036059.0</td>\n",
              "      <td>0.039683</td>\n",
              "      <td>0.000026</td>\n",
              "      <td>0.021739</td>\n",
              "      <td>0.654451</td>\n",
              "      <td>0.065640</td>\n",
              "      <td>1.488200e-03</td>\n",
              "      <td>0.0</td>\n",
              "      <td>1.0</td>\n",
              "      <td>0.0</td>\n",
              "      <td>0.0</td>\n",
              "      <td>1.0</td>\n",
              "      <td>0.0</td>\n",
              "    </tr>\n",
              "  </tbody>\n",
              "</table>\n",
              "</div>\n",
              "      <button class=\"colab-df-convert\" onclick=\"convertToInteractive('df-5e3622cb-8423-4de8-9dfa-139cd442b5f9')\"\n",
              "              title=\"Convert this dataframe to an interactive table.\"\n",
              "              style=\"display:none;\">\n",
              "        \n",
              "  <svg xmlns=\"http://www.w3.org/2000/svg\" height=\"24px\"viewBox=\"0 0 24 24\"\n",
              "       width=\"24px\">\n",
              "    <path d=\"M0 0h24v24H0V0z\" fill=\"none\"/>\n",
              "    <path d=\"M18.56 5.44l.94 2.06.94-2.06 2.06-.94-2.06-.94-.94-2.06-.94 2.06-2.06.94zm-11 1L8.5 8.5l.94-2.06 2.06-.94-2.06-.94L8.5 2.5l-.94 2.06-2.06.94zm10 10l.94 2.06.94-2.06 2.06-.94-2.06-.94-.94-2.06-.94 2.06-2.06.94z\"/><path d=\"M17.41 7.96l-1.37-1.37c-.4-.4-.92-.59-1.43-.59-.52 0-1.04.2-1.43.59L10.3 9.45l-7.72 7.72c-.78.78-.78 2.05 0 2.83L4 21.41c.39.39.9.59 1.41.59.51 0 1.02-.2 1.41-.59l7.78-7.78 2.81-2.81c.8-.78.8-2.07 0-2.86zM5.41 20L4 18.59l7.72-7.72 1.47 1.35L5.41 20z\"/>\n",
              "  </svg>\n",
              "      </button>\n",
              "      \n",
              "  <style>\n",
              "    .colab-df-container {\n",
              "      display:flex;\n",
              "      flex-wrap:wrap;\n",
              "      gap: 12px;\n",
              "    }\n",
              "\n",
              "    .colab-df-convert {\n",
              "      background-color: #E8F0FE;\n",
              "      border: none;\n",
              "      border-radius: 50%;\n",
              "      cursor: pointer;\n",
              "      display: none;\n",
              "      fill: #1967D2;\n",
              "      height: 32px;\n",
              "      padding: 0 0 0 0;\n",
              "      width: 32px;\n",
              "    }\n",
              "\n",
              "    .colab-df-convert:hover {\n",
              "      background-color: #E2EBFA;\n",
              "      box-shadow: 0px 1px 2px rgba(60, 64, 67, 0.3), 0px 1px 3px 1px rgba(60, 64, 67, 0.15);\n",
              "      fill: #174EA6;\n",
              "    }\n",
              "\n",
              "    [theme=dark] .colab-df-convert {\n",
              "      background-color: #3B4455;\n",
              "      fill: #D2E3FC;\n",
              "    }\n",
              "\n",
              "    [theme=dark] .colab-df-convert:hover {\n",
              "      background-color: #434B5C;\n",
              "      box-shadow: 0px 1px 3px 1px rgba(0, 0, 0, 0.15);\n",
              "      filter: drop-shadow(0px 1px 2px rgba(0, 0, 0, 0.3));\n",
              "      fill: #FFFFFF;\n",
              "    }\n",
              "  </style>\n",
              "\n",
              "      <script>\n",
              "        const buttonEl =\n",
              "          document.querySelector('#df-5e3622cb-8423-4de8-9dfa-139cd442b5f9 button.colab-df-convert');\n",
              "        buttonEl.style.display =\n",
              "          google.colab.kernel.accessAllowed ? 'block' : 'none';\n",
              "\n",
              "        async function convertToInteractive(key) {\n",
              "          const element = document.querySelector('#df-5e3622cb-8423-4de8-9dfa-139cd442b5f9');\n",
              "          const dataTable =\n",
              "            await google.colab.kernel.invokeFunction('convertToInteractive',\n",
              "                                                     [key], {});\n",
              "          if (!dataTable) return;\n",
              "\n",
              "          const docLinkHtml = 'Like what you see? Visit the ' +\n",
              "            '<a target=\"_blank\" href=https://colab.research.google.com/notebooks/data_table.ipynb>data table notebook</a>'\n",
              "            + ' to learn more about interactive tables.';\n",
              "          element.innerHTML = '';\n",
              "          dataTable['output_type'] = 'display_data';\n",
              "          await google.colab.output.renderOutput(dataTable, element);\n",
              "          const docLink = document.createElement('div');\n",
              "          docLink.innerHTML = docLinkHtml;\n",
              "          element.appendChild(docLink);\n",
              "        }\n",
              "      </script>\n",
              "    </div>\n",
              "  </div>\n",
              "  "
            ]
          },
          "metadata": {},
          "execution_count": 33
        }
      ]
    },
    {
      "cell_type": "code",
      "source": [
        "lst_features_final_np = lst_features_final_df.to_numpy()"
      ],
      "metadata": {
        "id": "yIAYFbaIzD3g"
      },
      "id": "yIAYFbaIzD3g",
      "execution_count": null,
      "outputs": []
    },
    {
      "cell_type": "code",
      "source": [
        "lst_features_final_np"
      ],
      "metadata": {
        "colab": {
          "base_uri": "https://localhost:8080/"
        },
        "id": "nsnsEv02zU3o",
        "outputId": "d33b96d8-c96c-47e0-b51e-a73d750fc823"
      },
      "id": "nsnsEv02zU3o",
      "execution_count": null,
      "outputs": [
        {
          "output_type": "execute_result",
          "data": {
            "text/plain": [
              "array([[2.38017518e+08, 3.17460317e-02, 1.73333449e-05, ...,\n",
              "        0.00000000e+00, 0.00000000e+00, 1.00000000e+00],\n",
              "       [2.46784149e+08, 6.34920635e-02, 2.93333529e-05, ...,\n",
              "        0.00000000e+00, 0.00000000e+00, 0.00000000e+00],\n",
              "       [2.56056349e+08, 5.55555556e-02, 3.40000227e-05, ...,\n",
              "        0.00000000e+00, 1.00000000e+00, 0.00000000e+00],\n",
              "       ...,\n",
              "       [2.75521097e+08, 8.73015873e-02, 1.96000131e-05, ...,\n",
              "        0.00000000e+00, 1.00000000e+00, 0.00000000e+00],\n",
              "       [2.75672461e+08, 8.73015873e-02, 4.14666943e-05, ...,\n",
              "        0.00000000e+00, 1.00000000e+00, 0.00000000e+00],\n",
              "       [2.75950340e+08, 3.96825397e-02, 2.73333516e-05, ...,\n",
              "        0.00000000e+00, 1.00000000e+00, 0.00000000e+00]])"
            ]
          },
          "metadata": {},
          "execution_count": 35
        }
      ]
    },
    {
      "cell_type": "code",
      "source": [
        "clicks50044273 = clicks[clicks['user_id'] == '50044273']['offer_id'].unique()\n",
        "offer276480422 = lst_features_final_df[lst_features_final_df[0] == 276480422].to_numpy()\n",
        "#offer276480422\n",
        "lst_features_for50044273 = lst_features_final_df[~lst_features_final_df[0].isin(clicks50044273)].to_numpy()"
      ],
      "metadata": {
        "id": "yqFnQyIKAlX6"
      },
      "id": "yqFnQyIKAlX6",
      "execution_count": null,
      "outputs": []
    },
    {
      "cell_type": "code",
      "source": [
        "lst_features_for50044273"
      ],
      "metadata": {
        "colab": {
          "base_uri": "https://localhost:8080/"
        },
        "id": "AopFHKzp_7b8",
        "outputId": "0f9433bb-80f9-4eb8-c2bd-d9062424d93c"
      },
      "id": "AopFHKzp_7b8",
      "execution_count": null,
      "outputs": [
        {
          "output_type": "execute_result",
          "data": {
            "text/plain": [
              "array([[2.38017518e+08, 3.17460317e-02, 1.73333449e-05, ...,\n",
              "        0.00000000e+00, 0.00000000e+00, 1.00000000e+00],\n",
              "       [2.46784149e+08, 6.34920635e-02, 2.93333529e-05, ...,\n",
              "        0.00000000e+00, 0.00000000e+00, 0.00000000e+00],\n",
              "       [2.56056349e+08, 5.55555556e-02, 3.40000227e-05, ...,\n",
              "        0.00000000e+00, 1.00000000e+00, 0.00000000e+00],\n",
              "       ...,\n",
              "       [2.75521097e+08, 8.73015873e-02, 1.96000131e-05, ...,\n",
              "        0.00000000e+00, 1.00000000e+00, 0.00000000e+00],\n",
              "       [2.75672461e+08, 8.73015873e-02, 4.14666943e-05, ...,\n",
              "        0.00000000e+00, 1.00000000e+00, 0.00000000e+00],\n",
              "       [2.75950340e+08, 3.96825397e-02, 2.73333516e-05, ...,\n",
              "        0.00000000e+00, 1.00000000e+00, 0.00000000e+00]])"
            ]
          },
          "metadata": {},
          "execution_count": 38
        }
      ]
    },
    {
      "cell_type": "code",
      "source": [
        "def cos_distance(vec1, vec2):\n",
        "    return np.sum(vec1 * vec2) / np.sqrt(np.sum(np.square(vec1))) * np.sqrt(np.sum(np.square(vec2)))"
      ],
      "metadata": {
        "id": "pH7ix_E8S8e7"
      },
      "id": "pH7ix_E8S8e7",
      "execution_count": null,
      "outputs": []
    },
    {
      "cell_type": "code",
      "source": [
        "lst_features_for50044273"
      ],
      "metadata": {
        "colab": {
          "base_uri": "https://localhost:8080/"
        },
        "id": "hIIa0hmdAjBP",
        "outputId": "d26a0e6d-8cf3-4982-d5db-29290d9b8d19"
      },
      "id": "hIIa0hmdAjBP",
      "execution_count": null,
      "outputs": [
        {
          "output_type": "execute_result",
          "data": {
            "text/plain": [
              "array([[2.38017518e+08, 3.17460317e-02, 1.73333449e-05, ...,\n",
              "        0.00000000e+00, 0.00000000e+00, 1.00000000e+00],\n",
              "       [2.46784149e+08, 6.34920635e-02, 2.93333529e-05, ...,\n",
              "        0.00000000e+00, 0.00000000e+00, 0.00000000e+00],\n",
              "       [2.56056349e+08, 5.55555556e-02, 3.40000227e-05, ...,\n",
              "        0.00000000e+00, 1.00000000e+00, 0.00000000e+00],\n",
              "       ...,\n",
              "       [2.75521097e+08, 8.73015873e-02, 1.96000131e-05, ...,\n",
              "        0.00000000e+00, 1.00000000e+00, 0.00000000e+00],\n",
              "       [2.75672461e+08, 8.73015873e-02, 4.14666943e-05, ...,\n",
              "        0.00000000e+00, 1.00000000e+00, 0.00000000e+00],\n",
              "       [2.75950340e+08, 3.96825397e-02, 2.73333516e-05, ...,\n",
              "        0.00000000e+00, 1.00000000e+00, 0.00000000e+00]])"
            ]
          },
          "metadata": {},
          "execution_count": 40
        }
      ]
    },
    {
      "cell_type": "code",
      "source": [
        "cos_distance(lst_features_for50044273[0], lst_features_for50044273[100])"
      ],
      "metadata": {
        "colab": {
          "base_uri": "https://localhost:8080/"
        },
        "id": "L6Tx07OVBCWT",
        "outputId": "1c67622d-463d-4995-c203-a5968dfa839c"
      },
      "id": "L6Tx07OVBCWT",
      "execution_count": null,
      "outputs": [
        {
          "output_type": "execute_result",
          "data": {
            "text/plain": [
              "7.0566864901620024e+16"
            ]
          },
          "metadata": {},
          "execution_count": 41
        }
      ]
    },
    {
      "cell_type": "code",
      "source": [
        "score_list = dict()\n",
        "for vec in lst_features_for50044273:\n",
        "    score_list[vec[0]] = cos_distance(offer276480422, vec)"
      ],
      "metadata": {
        "id": "JVl-NSAzmHy7"
      },
      "id": "JVl-NSAzmHy7",
      "execution_count": null,
      "outputs": []
    },
    {
      "cell_type": "code",
      "source": [
        "ans =dict(sorted(score_list.items(), key=lambda item: item[1]))\n",
        "dict(list(ans.items())[-5:])"
      ],
      "metadata": {
        "colab": {
          "base_uri": "https://localhost:8080/"
        },
        "id": "wLHRbDEIAQYW",
        "outputId": "02e48b3a-d781-4dde-9d1b-61057b5d46e4"
      },
      "id": "wLHRbDEIAQYW",
      "execution_count": null,
      "outputs": [
        {
          "output_type": "execute_result",
          "data": {
            "text/plain": [
              "{276605251.0: 7.651046488077301e+16,\n",
              " 276605608.0: 7.651066237704966e+16,\n",
              " 276605671.0: 7.651069722936024e+16,\n",
              " 276605734.0: 7.651073208167875e+16,\n",
              " 276605862.0: 7.651080289276304e+16}"
            ]
          },
          "metadata": {},
          "execution_count": 43
        }
      ]
    },
    {
      "cell_type": "markdown",
      "source": [
        "# collaborative filtering1"
      ],
      "metadata": {
        "id": "c86aCwtcqv1C"
      },
      "id": "c86aCwtcqv1C"
    },
    {
      "cell_type": "code",
      "source": [
        "! pip install category_encoders"
      ],
      "metadata": {
        "colab": {
          "base_uri": "https://localhost:8080/"
        },
        "id": "FsgutqgNsUu4",
        "outputId": "a61b8447-8b11-41c2-feba-2e2410085029"
      },
      "id": "FsgutqgNsUu4",
      "execution_count": 4,
      "outputs": [
        {
          "output_type": "stream",
          "name": "stdout",
          "text": [
            "Looking in indexes: https://pypi.org/simple, https://us-python.pkg.dev/colab-wheels/public/simple/\n",
            "Collecting category_encoders\n",
            "  Downloading category_encoders-2.6.0-py2.py3-none-any.whl (81 kB)\n",
            "\u001b[?25l     \u001b[90m━━━━━━━━━━━━━━━━━━━━━━━━━━━━━━━━━━━━━━━━\u001b[0m \u001b[32m0.0/81.2 KB\u001b[0m \u001b[31m?\u001b[0m eta \u001b[36m-:--:--\u001b[0m\r\u001b[2K     \u001b[90m━━━━━━━━━━━━━━━━━━━━━━━━━━━━━━━━━━━━━━━━\u001b[0m \u001b[32m81.2/81.2 KB\u001b[0m \u001b[31m3.6 MB/s\u001b[0m eta \u001b[36m0:00:00\u001b[0m\n",
            "\u001b[?25hRequirement already satisfied: pandas>=1.0.5 in /usr/local/lib/python3.9/dist-packages (from category_encoders) (1.4.4)\n",
            "Requirement already satisfied: scipy>=1.0.0 in /usr/local/lib/python3.9/dist-packages (from category_encoders) (1.10.1)\n",
            "Requirement already satisfied: scikit-learn>=0.20.0 in /usr/local/lib/python3.9/dist-packages (from category_encoders) (1.2.2)\n",
            "Requirement already satisfied: statsmodels>=0.9.0 in /usr/local/lib/python3.9/dist-packages (from category_encoders) (0.13.5)\n",
            "Requirement already satisfied: numpy>=1.14.0 in /usr/local/lib/python3.9/dist-packages (from category_encoders) (1.22.4)\n",
            "Requirement already satisfied: patsy>=0.5.1 in /usr/local/lib/python3.9/dist-packages (from category_encoders) (0.5.3)\n",
            "Requirement already satisfied: python-dateutil>=2.8.1 in /usr/local/lib/python3.9/dist-packages (from pandas>=1.0.5->category_encoders) (2.8.2)\n",
            "Requirement already satisfied: pytz>=2020.1 in /usr/local/lib/python3.9/dist-packages (from pandas>=1.0.5->category_encoders) (2022.7.1)\n",
            "Requirement already satisfied: six in /usr/local/lib/python3.9/dist-packages (from patsy>=0.5.1->category_encoders) (1.15.0)\n",
            "Requirement already satisfied: threadpoolctl>=2.0.0 in /usr/local/lib/python3.9/dist-packages (from scikit-learn>=0.20.0->category_encoders) (3.1.0)\n",
            "Requirement already satisfied: joblib>=1.1.1 in /usr/local/lib/python3.9/dist-packages (from scikit-learn>=0.20.0->category_encoders) (1.1.1)\n",
            "Requirement already satisfied: packaging>=21.3 in /usr/local/lib/python3.9/dist-packages (from statsmodels>=0.9.0->category_encoders) (23.0)\n",
            "Installing collected packages: category_encoders\n",
            "Successfully installed category_encoders-2.6.0\n"
          ]
        }
      ]
    },
    {
      "cell_type": "code",
      "source": [
        "import category_encoders as ce\n",
        "# ord_encoder_user = ce.OrdinalEncoder()\n",
        "# ord_encoder_offer = ce.OrdinalEncoder()\n",
        "# clicks['user_id_enc'] = ord_encoder_user.fit_transform(clicks['user_id'])['user_id'] - 1\n",
        "# clicks['offer_id_enc'] = ord_encoder_offer.fit_transform(clicks['offer_id'].apply(str))['offer_id'] - 1\n",
        "# clicks.head()"
      ],
      "metadata": {
        "id": "_GMwyoymAXI_"
      },
      "id": "_GMwyoymAXI_",
      "execution_count": 3,
      "outputs": []
    },
    {
      "cell_type": "code",
      "source": [
        "clicks['event_name'].unique()"
      ],
      "metadata": {
        "colab": {
          "base_uri": "https://localhost:8080/"
        },
        "id": "qdoLdvd55Y2G",
        "outputId": "59ce9a35-71ee-41f1-d179-cde10bb03a78"
      },
      "id": "qdoLdvd55Y2G",
      "execution_count": 6,
      "outputs": [
        {
          "output_type": "execute_result",
          "data": {
            "text/plain": [
              "array(['OpenOfferScreen', 'Add2Like', 'ClickCallButton', 'MakeCall',\n",
              "       'EndCall'], dtype=object)"
            ]
          },
          "metadata": {},
          "execution_count": 6
        }
      ]
    },
    {
      "cell_type": "code",
      "source": [
        "event_encoder = {'OpenOfferScreen': 1, 'Add2Like': 2, 'ClickCallButton': 3, 'MakeCall': 4, 'EndCall': 5}\n",
        "clicks['event_name_enc'] = clicks['event_name'].map(event_encoder)\n",
        "clicks.head()"
      ],
      "metadata": {
        "colab": {
          "base_uri": "https://localhost:8080/",
          "height": 337
        },
        "id": "8BMrWNa5zTnF",
        "outputId": "bb516332-c0f1-4da8-e428-97b6375572e4"
      },
      "id": "8BMrWNa5zTnF",
      "execution_count": 7,
      "outputs": [
        {
          "output_type": "execute_result",
          "data": {
            "text/plain": [
              "                 timestamp   user_id   offer_id       event_name  user_id_enc  \\\n",
              "0  2022-07-29 00:00:02.095  82662998  275699899  OpenOfferScreen            0   \n",
              "1  2022-07-29 00:00:20.794  70430591  263076121         Add2Like            1   \n",
              "2  2022-07-29 00:00:21.326  93889189  254183210  OpenOfferScreen            2   \n",
              "3  2022-07-29 00:00:26.945  91525566  268686455  OpenOfferScreen            3   \n",
              "4  2022-07-29 00:00:27.162  78613959  275660175  OpenOfferScreen            4   \n",
              "\n",
              "   offer_id_enc  event_name_enc  \n",
              "0             0               1  \n",
              "1             1               2  \n",
              "2             2               1  \n",
              "3             3               1  \n",
              "4             4               1  "
            ],
            "text/html": [
              "\n",
              "  <div id=\"df-e540fba6-10bd-40a7-8a7a-6dbf6fc71a65\">\n",
              "    <div class=\"colab-df-container\">\n",
              "      <div>\n",
              "<style scoped>\n",
              "    .dataframe tbody tr th:only-of-type {\n",
              "        vertical-align: middle;\n",
              "    }\n",
              "\n",
              "    .dataframe tbody tr th {\n",
              "        vertical-align: top;\n",
              "    }\n",
              "\n",
              "    .dataframe thead th {\n",
              "        text-align: right;\n",
              "    }\n",
              "</style>\n",
              "<table border=\"1\" class=\"dataframe\">\n",
              "  <thead>\n",
              "    <tr style=\"text-align: right;\">\n",
              "      <th></th>\n",
              "      <th>timestamp</th>\n",
              "      <th>user_id</th>\n",
              "      <th>offer_id</th>\n",
              "      <th>event_name</th>\n",
              "      <th>user_id_enc</th>\n",
              "      <th>offer_id_enc</th>\n",
              "      <th>event_name_enc</th>\n",
              "    </tr>\n",
              "  </thead>\n",
              "  <tbody>\n",
              "    <tr>\n",
              "      <th>0</th>\n",
              "      <td>2022-07-29 00:00:02.095</td>\n",
              "      <td>82662998</td>\n",
              "      <td>275699899</td>\n",
              "      <td>OpenOfferScreen</td>\n",
              "      <td>0</td>\n",
              "      <td>0</td>\n",
              "      <td>1</td>\n",
              "    </tr>\n",
              "    <tr>\n",
              "      <th>1</th>\n",
              "      <td>2022-07-29 00:00:20.794</td>\n",
              "      <td>70430591</td>\n",
              "      <td>263076121</td>\n",
              "      <td>Add2Like</td>\n",
              "      <td>1</td>\n",
              "      <td>1</td>\n",
              "      <td>2</td>\n",
              "    </tr>\n",
              "    <tr>\n",
              "      <th>2</th>\n",
              "      <td>2022-07-29 00:00:21.326</td>\n",
              "      <td>93889189</td>\n",
              "      <td>254183210</td>\n",
              "      <td>OpenOfferScreen</td>\n",
              "      <td>2</td>\n",
              "      <td>2</td>\n",
              "      <td>1</td>\n",
              "    </tr>\n",
              "    <tr>\n",
              "      <th>3</th>\n",
              "      <td>2022-07-29 00:00:26.945</td>\n",
              "      <td>91525566</td>\n",
              "      <td>268686455</td>\n",
              "      <td>OpenOfferScreen</td>\n",
              "      <td>3</td>\n",
              "      <td>3</td>\n",
              "      <td>1</td>\n",
              "    </tr>\n",
              "    <tr>\n",
              "      <th>4</th>\n",
              "      <td>2022-07-29 00:00:27.162</td>\n",
              "      <td>78613959</td>\n",
              "      <td>275660175</td>\n",
              "      <td>OpenOfferScreen</td>\n",
              "      <td>4</td>\n",
              "      <td>4</td>\n",
              "      <td>1</td>\n",
              "    </tr>\n",
              "  </tbody>\n",
              "</table>\n",
              "</div>\n",
              "      <button class=\"colab-df-convert\" onclick=\"convertToInteractive('df-e540fba6-10bd-40a7-8a7a-6dbf6fc71a65')\"\n",
              "              title=\"Convert this dataframe to an interactive table.\"\n",
              "              style=\"display:none;\">\n",
              "        \n",
              "  <svg xmlns=\"http://www.w3.org/2000/svg\" height=\"24px\"viewBox=\"0 0 24 24\"\n",
              "       width=\"24px\">\n",
              "    <path d=\"M0 0h24v24H0V0z\" fill=\"none\"/>\n",
              "    <path d=\"M18.56 5.44l.94 2.06.94-2.06 2.06-.94-2.06-.94-.94-2.06-.94 2.06-2.06.94zm-11 1L8.5 8.5l.94-2.06 2.06-.94-2.06-.94L8.5 2.5l-.94 2.06-2.06.94zm10 10l.94 2.06.94-2.06 2.06-.94-2.06-.94-.94-2.06-.94 2.06-2.06.94z\"/><path d=\"M17.41 7.96l-1.37-1.37c-.4-.4-.92-.59-1.43-.59-.52 0-1.04.2-1.43.59L10.3 9.45l-7.72 7.72c-.78.78-.78 2.05 0 2.83L4 21.41c.39.39.9.59 1.41.59.51 0 1.02-.2 1.41-.59l7.78-7.78 2.81-2.81c.8-.78.8-2.07 0-2.86zM5.41 20L4 18.59l7.72-7.72 1.47 1.35L5.41 20z\"/>\n",
              "  </svg>\n",
              "      </button>\n",
              "      \n",
              "  <style>\n",
              "    .colab-df-container {\n",
              "      display:flex;\n",
              "      flex-wrap:wrap;\n",
              "      gap: 12px;\n",
              "    }\n",
              "\n",
              "    .colab-df-convert {\n",
              "      background-color: #E8F0FE;\n",
              "      border: none;\n",
              "      border-radius: 50%;\n",
              "      cursor: pointer;\n",
              "      display: none;\n",
              "      fill: #1967D2;\n",
              "      height: 32px;\n",
              "      padding: 0 0 0 0;\n",
              "      width: 32px;\n",
              "    }\n",
              "\n",
              "    .colab-df-convert:hover {\n",
              "      background-color: #E2EBFA;\n",
              "      box-shadow: 0px 1px 2px rgba(60, 64, 67, 0.3), 0px 1px 3px 1px rgba(60, 64, 67, 0.15);\n",
              "      fill: #174EA6;\n",
              "    }\n",
              "\n",
              "    [theme=dark] .colab-df-convert {\n",
              "      background-color: #3B4455;\n",
              "      fill: #D2E3FC;\n",
              "    }\n",
              "\n",
              "    [theme=dark] .colab-df-convert:hover {\n",
              "      background-color: #434B5C;\n",
              "      box-shadow: 0px 1px 3px 1px rgba(0, 0, 0, 0.15);\n",
              "      filter: drop-shadow(0px 1px 2px rgba(0, 0, 0, 0.3));\n",
              "      fill: #FFFFFF;\n",
              "    }\n",
              "  </style>\n",
              "\n",
              "      <script>\n",
              "        const buttonEl =\n",
              "          document.querySelector('#df-e540fba6-10bd-40a7-8a7a-6dbf6fc71a65 button.colab-df-convert');\n",
              "        buttonEl.style.display =\n",
              "          google.colab.kernel.accessAllowed ? 'block' : 'none';\n",
              "\n",
              "        async function convertToInteractive(key) {\n",
              "          const element = document.querySelector('#df-e540fba6-10bd-40a7-8a7a-6dbf6fc71a65');\n",
              "          const dataTable =\n",
              "            await google.colab.kernel.invokeFunction('convertToInteractive',\n",
              "                                                     [key], {});\n",
              "          if (!dataTable) return;\n",
              "\n",
              "          const docLinkHtml = 'Like what you see? Visit the ' +\n",
              "            '<a target=\"_blank\" href=https://colab.research.google.com/notebooks/data_table.ipynb>data table notebook</a>'\n",
              "            + ' to learn more about interactive tables.';\n",
              "          element.innerHTML = '';\n",
              "          dataTable['output_type'] = 'display_data';\n",
              "          await google.colab.output.renderOutput(dataTable, element);\n",
              "          const docLink = document.createElement('div');\n",
              "          docLink.innerHTML = docLinkHtml;\n",
              "          element.appendChild(docLink);\n",
              "        }\n",
              "      </script>\n",
              "    </div>\n",
              "  </div>\n",
              "  "
            ]
          },
          "metadata": {},
          "execution_count": 7
        }
      ]
    },
    {
      "cell_type": "code",
      "source": [
        "from scipy.sparse import csr_matrix\n",
        "# csr_user_item = csr_matrix((clicks['event_name_enc'], (clicks['user_id_enc'], clicks['offer_id_enc'])))"
      ],
      "metadata": {
        "id": "HEyPSxXNrYxr"
      },
      "id": "HEyPSxXNrYxr",
      "execution_count": 6,
      "outputs": []
    },
    {
      "cell_type": "code",
      "source": [
        "csr_user_item.shape"
      ],
      "metadata": {
        "colab": {
          "base_uri": "https://localhost:8080/"
        },
        "id": "9kYCl1hGdDNG",
        "outputId": "767d96a1-fadf-46b3-9a50-e4942f16800d"
      },
      "id": "9kYCl1hGdDNG",
      "execution_count": 115,
      "outputs": [
        {
          "output_type": "execute_result",
          "data": {
            "text/plain": [
              "(34998, 858396)"
            ]
          },
          "metadata": {},
          "execution_count": 115
        }
      ]
    },
    {
      "cell_type": "code",
      "source": [
        "# a = csr_user_item.toarray()"
      ],
      "metadata": {
        "id": "CRTeRnr_6O0C"
      },
      "id": "CRTeRnr_6O0C",
      "execution_count": 30,
      "outputs": []
    },
    {
      "cell_type": "code",
      "source": [
        "np.sum(csr_user_item[23024, :].toarray())"
      ],
      "metadata": {
        "colab": {
          "base_uri": "https://localhost:8080/"
        },
        "id": "h1qHKf-4ZZXh",
        "outputId": "806aa625-3c16-45ba-f2bb-b4524a22ca0c"
      },
      "id": "h1qHKf-4ZZXh",
      "execution_count": 45,
      "outputs": [
        {
          "output_type": "execute_result",
          "data": {
            "text/plain": [
              "2622"
            ]
          },
          "metadata": {},
          "execution_count": 45
        }
      ]
    },
    {
      "cell_type": "code",
      "source": [
        "target_row = csr_user_item[:, 23024].toarray().reshape(-1)"
      ],
      "metadata": {
        "id": "FoBl2wZNvuL1"
      },
      "id": "FoBl2wZNvuL1",
      "execution_count": 10,
      "outputs": []
    },
    {
      "cell_type": "code",
      "source": [
        "from tqdm import tqdm\n",
        "import numpy as np\n",
        "b = []\n",
        "target_row = csr_user_item[:, 23024].toarray().reshape(-1)\n",
        "for i in tqdm(range(100, csr_user_item.shape[1] // 2, 3)):\n",
        "   if i == 23024:\n",
        "       continue\n",
        "   tmp = csr_user_item[:, i].toarray().reshape(-1)\n",
        "   b.append(np.sum(target_row & tmp))\n",
        "print(np.argmax(b))"
      ],
      "metadata": {
        "colab": {
          "base_uri": "https://localhost:8080/"
        },
        "id": "r9p8NSguXnho",
        "outputId": "cead68d1-e189-4bb6-d6fe-31dbe6b42d74"
      },
      "id": "r9p8NSguXnho",
      "execution_count": 20,
      "outputs": [
        {
          "output_type": "stream",
          "name": "stderr",
          "text": [
            "100%|██████████| 143033/143033 [17:12<00:00, 138.50it/s]"
          ]
        },
        {
          "output_type": "stream",
          "name": "stdout",
          "text": [
            "7218\n"
          ]
        },
        {
          "output_type": "stream",
          "name": "stderr",
          "text": [
            "\n"
          ]
        }
      ]
    },
    {
      "cell_type": "code",
      "source": [
        "print(np.argmax(b))\n",
        "#b"
      ],
      "metadata": {
        "colab": {
          "base_uri": "https://localhost:8080/"
        },
        "id": "HjTioAJ9YfzK",
        "outputId": "5e073fb5-1a48-4d09-f195-2606495f3fe9"
      },
      "id": "HjTioAJ9YfzK",
      "execution_count": 22,
      "outputs": [
        {
          "output_type": "stream",
          "name": "stdout",
          "text": [
            "7218\n"
          ]
        }
      ]
    },
    {
      "cell_type": "code",
      "source": [
        "csr_user_item[:10, :10].toarray()"
      ],
      "metadata": {
        "colab": {
          "base_uri": "https://localhost:8080/"
        },
        "id": "HtwDOJLc-2q_",
        "outputId": "1ed60487-68fc-4f66-8896-b6b65c8e4f6d"
      },
      "id": "HtwDOJLc-2q_",
      "execution_count": 11,
      "outputs": [
        {
          "output_type": "execute_result",
          "data": {
            "text/plain": [
              "array([[1, 0, 0, 0, 0, 0, 0, 0, 0, 0],\n",
              "       [0, 2, 0, 0, 0, 0, 0, 0, 0, 0],\n",
              "       [0, 0, 1, 0, 0, 0, 0, 0, 0, 0],\n",
              "       [0, 0, 0, 1, 0, 0, 0, 0, 0, 0],\n",
              "       [0, 0, 0, 0, 1, 0, 0, 0, 0, 0],\n",
              "       [0, 0, 0, 0, 0, 5, 0, 0, 0, 0],\n",
              "       [0, 0, 0, 0, 0, 0, 3, 0, 0, 0],\n",
              "       [0, 0, 0, 0, 0, 0, 0, 2, 0, 0],\n",
              "       [0, 0, 0, 0, 0, 0, 0, 0, 1, 0],\n",
              "       [0, 0, 0, 0, 0, 0, 0, 0, 0, 2]])"
            ]
          },
          "metadata": {},
          "execution_count": 11
        }
      ]
    },
    {
      "cell_type": "code",
      "source": [
        "vec1 = csr_user_item[23024, :].toarray()[0]\n",
        "vec2 = csr_user_item[15604, :].toarray()[0]\n",
        "new_vec1 = np.array([])\n",
        "new_vec2 = np.array([])\n",
        "for i in range(len(vec1)):\n",
        "    if vec1[i] != 0 and vec2[i] != 0:\n",
        "        new_vec1 = np.append(new_vec1, vec1[i])\n",
        "        new_vec2 = np.append(new_vec2, vec2[i])"
      ],
      "metadata": {
        "id": "h6Peli3RBf-L"
      },
      "id": "h6Peli3RBf-L",
      "execution_count": 72,
      "outputs": []
    },
    {
      "cell_type": "code",
      "source": [
        "new_vec2 * 4"
      ],
      "metadata": {
        "colab": {
          "base_uri": "https://localhost:8080/"
        },
        "id": "ZwwYtXSv2F4G",
        "outputId": "e76f8dff-add0-40ba-cd30-dc4bc31a20d6"
      },
      "id": "ZwwYtXSv2F4G",
      "execution_count": 77,
      "outputs": [
        {
          "output_type": "execute_result",
          "data": {
            "text/plain": [
              "array([  4.,   8.,   4.,  52.,   4., 400.,  68.,   4.,  56.,   4.,   4.,\n",
              "         4.,   4.,   4., 240.,  68., 164.,   4.,   4.,   4.])"
            ]
          },
          "metadata": {},
          "execution_count": 77
        }
      ]
    },
    {
      "cell_type": "code",
      "source": [
        "def corr_Pirs(a, b):\n",
        "    dif_a = a - np.mean(a)\n",
        "    dif_b = b - np.mean(b)\n",
        "    return np.sum(dif_a * dif_b) / (np.sqrt(np.sum(dif_a**2)) * np.sqrt(np.sum(dif_b**2)))\n",
        "corr_Pirs(new_vec1, new_vec2)"
      ],
      "metadata": {
        "colab": {
          "base_uri": "https://localhost:8080/"
        },
        "id": "7oPHR8AEuL4b",
        "outputId": "cd0c92b0-6d25-4587-bc3a-31aae16f6be5"
      },
      "id": "7oPHR8AEuL4b",
      "execution_count": 116,
      "outputs": [
        {
          "output_type": "stream",
          "name": "stderr",
          "text": [
            "/usr/local/lib/python3.9/dist-packages/numpy/core/fromnumeric.py:3474: RuntimeWarning: Mean of empty slice.\n",
            "  return _methods._mean(a, axis=axis, dtype=dtype,\n",
            "/usr/local/lib/python3.9/dist-packages/numpy/core/_methods.py:189: RuntimeWarning: invalid value encountered in double_scalars\n",
            "  ret = ret.dtype.type(ret / rcount)\n",
            "<ipython-input-116-d7434816d65c>:4: RuntimeWarning: invalid value encountered in double_scalars\n",
            "  return np.sum(dif_a * dif_b) / (np.sqrt(np.sum(dif_a**2)) * np.sqrt(np.sum(dif_b**2)))\n"
          ]
        },
        {
          "output_type": "execute_result",
          "data": {
            "text/plain": [
              "nan"
            ]
          },
          "metadata": {},
          "execution_count": 116
        }
      ]
    },
    {
      "cell_type": "code",
      "source": [
        "# задание 3.5\n",
        "vec1 = csr_user_item[19, :].toarray()[0]\n",
        "vec2 = csr_user_item[17234, :].toarray()[0]\n",
        "new_vec1 = np.array([])\n",
        "new_vec2 = np.array([])\n",
        "for i in range(len(vec1)):\n",
        "    if vec1[i] != 0 and vec2[i] != 0:\n",
        "        new_vec1 = np.append(new_vec1, vec1[i])\n",
        "        new_vec2 = np.append(new_vec2, vec2[i])\n",
        "corr_Pirs(new_vec1, new_vec2)"
      ],
      "metadata": {
        "colab": {
          "base_uri": "https://localhost:8080/"
        },
        "id": "JJndh9jWuMh_",
        "outputId": "43151c3e-d575-4cd0-e032-b3e5ae8875e1"
      },
      "id": "JJndh9jWuMh_",
      "execution_count": 97,
      "outputs": [
        {
          "output_type": "stream",
          "name": "stderr",
          "text": [
            "/usr/local/lib/python3.9/dist-packages/numpy/core/fromnumeric.py:3474: RuntimeWarning: Mean of empty slice.\n",
            "  return _methods._mean(a, axis=axis, dtype=dtype,\n",
            "/usr/local/lib/python3.9/dist-packages/numpy/core/_methods.py:189: RuntimeWarning: invalid value encountered in double_scalars\n",
            "  ret = ret.dtype.type(ret / rcount)\n",
            "<ipython-input-79-d7434816d65c>:4: RuntimeWarning: invalid value encountered in double_scalars\n",
            "  return np.sum(dif_a * dif_b) / (np.sqrt(np.sum(dif_a**2)) * np.sqrt(np.sum(dif_b**2)))\n"
          ]
        },
        {
          "output_type": "execute_result",
          "data": {
            "text/plain": [
              "nan"
            ]
          },
          "metadata": {},
          "execution_count": 97
        }
      ]
    },
    {
      "cell_type": "code",
      "source": [
        "b = []\n",
        "target_row = csr_user_item[19,:].toarray()\n",
        "for i in tqdm(range(csr_user_item.shape[0])):\n",
        "   if i == 19:\n",
        "       continue\n",
        "   tmp = csr_user_item[i, :].toarray()\n",
        "   b.append(np.sum(target_row & tmp))\n",
        "print(np.argmax(b))"
      ],
      "metadata": {
        "colab": {
          "base_uri": "https://localhost:8080/"
        },
        "id": "i4wAq0ja6zSG",
        "outputId": "4dd0f2e3-0d43-43fa-bb0b-780517486cc0"
      },
      "id": "i4wAq0ja6zSG",
      "execution_count": 94,
      "outputs": [
        {
          "output_type": "stream",
          "name": "stderr",
          "text": [
            "100%|██████████| 34998/34998 [01:25<00:00, 411.33it/s]"
          ]
        },
        {
          "output_type": "stream",
          "name": "stdout",
          "text": [
            "17234\n"
          ]
        },
        {
          "output_type": "stream",
          "name": "stderr",
          "text": [
            "\n"
          ]
        }
      ]
    },
    {
      "cell_type": "code",
      "source": [
        "print(np.argmax(b))"
      ],
      "metadata": {
        "colab": {
          "base_uri": "https://localhost:8080/"
        },
        "id": "-w84csSx7heu",
        "outputId": "13a996ac-cecb-452a-eac7-dc9042d40958"
      },
      "id": "-w84csSx7heu",
      "execution_count": 95,
      "outputs": [
        {
          "output_type": "stream",
          "name": "stdout",
          "text": [
            "17234\n"
          ]
        }
      ]
    },
    {
      "cell_type": "markdown",
      "source": [
        "item-based"
      ],
      "metadata": {
        "id": "Pi24QqTfP-OC"
      },
      "id": "Pi24QqTfP-OC"
    },
    {
      "cell_type": "code",
      "source": [
        "mean_user_ratings = np.array([])\n",
        "for i in tqdm(range(csr_user_item.shape[0])):\n",
        "    tmp_vec = csr_user_item[i, :].toarray()[0]\n",
        "    tmp_vec = np.where(tmp_vec != 0, tmp_vec, np.nan) # удалим нули, они не должны участвовать при расчёте среднего\n",
        "    mean_user_ratings = np.append(mean_user_ratings, np.nanmean(tmp_vec))\n",
        "mean_user_ratings"
      ],
      "metadata": {
        "colab": {
          "base_uri": "https://localhost:8080/"
        },
        "id": "JsRbG26Q7-xg",
        "outputId": "40361fb5-0de4-4e69-8473-9b16f9593c81"
      },
      "id": "JsRbG26Q7-xg",
      "execution_count": 25,
      "outputs": [
        {
          "output_type": "stream",
          "name": "stderr",
          "text": [
            "100%|██████████| 34998/34998 [03:58<00:00, 146.78it/s]\n"
          ]
        },
        {
          "output_type": "execute_result",
          "data": {
            "text/plain": [
              "array([1.12121212, 3.01935484, 1.        , ..., 1.75373134, 1.23076923,\n",
              "       3.06930693])"
            ]
          },
          "metadata": {},
          "execution_count": 25
        }
      ]
    },
    {
      "cell_type": "code",
      "source": [
        "mean_user_ratings1 = mean_user_ratings"
      ],
      "metadata": {
        "id": "gO315spqqYyJ"
      },
      "id": "gO315spqqYyJ",
      "execution_count": 26,
      "outputs": []
    },
    {
      "cell_type": "code",
      "source": [
        "len(mean_user_ratings)"
      ],
      "metadata": {
        "colab": {
          "base_uri": "https://localhost:8080/"
        },
        "id": "Fz5lQ_txqfvz",
        "outputId": "2d1638bf-4b52-4cf0-ae0d-185301058ab3"
      },
      "id": "Fz5lQ_txqfvz",
      "execution_count": 30,
      "outputs": [
        {
          "output_type": "execute_result",
          "data": {
            "text/plain": [
              "34998"
            ]
          },
          "metadata": {},
          "execution_count": 30
        }
      ]
    },
    {
      "cell_type": "code",
      "source": [
        "vec1 = csr_user_item[:, 23024].toarray().reshape(-1)\n",
        "vec2 = csr_user_item[:, 7218].toarray().reshape(-1)\n",
        "new_vec1 = np.array([])\n",
        "new_vec2 = np.array([])\n",
        "for i in range(len(vec1)):\n",
        "    if vec1[i] != 0 and vec2[i] != 0:\n",
        "        new_vec1 = np.append(new_vec1, vec1[i])\n",
        "        new_vec2 = np.append(new_vec2, vec2[i])\n",
        "    else:\n",
        "        np.delete(mean_user_ratings, i)"
      ],
      "metadata": {
        "id": "KJA7fvkGKgCL"
      },
      "id": "KJA7fvkGKgCL",
      "execution_count": 31,
      "outputs": []
    },
    {
      "cell_type": "code",
      "source": [
        "def corr_Pirs_items(a, b, mean_user_ratings):\n",
        "    dif_a = a - mean_user_ratings\n",
        "    dif_b = b - mean_user_ratings\n",
        "    return np.sum(dif_a * dif_b) / (np.sqrt(np.sum(dif_a**2)) * np.sqrt(np.sum(dif_b**2)))\n",
        "corr_Pirs(vec1, vec2, mean_user_ratings)"
      ],
      "metadata": {
        "colab": {
          "base_uri": "https://localhost:8080/"
        },
        "id": "yoxkMzldPvph",
        "outputId": "ab9732cc-5747-43e6-8046-f1a0348df213"
      },
      "id": "yoxkMzldPvph",
      "execution_count": 33,
      "outputs": [
        {
          "output_type": "execute_result",
          "data": {
            "text/plain": [
              "0.9975035275435579"
            ]
          },
          "metadata": {},
          "execution_count": 33
        }
      ]
    },
    {
      "cell_type": "markdown",
      "source": [
        "# collaborative filtering 2"
      ],
      "metadata": {
        "id": "MfmN7vBOxHyD"
      },
      "id": "MfmN7vBOxHyD"
    },
    {
      "cell_type": "code",
      "source": [
        "import category_encoders as ce\n",
        "ord_encoder_user = ce.OrdinalEncoder()\n",
        "ord_encoder_offer = ce.OrdinalEncoder()\n",
        "clicks['user_id_enc'] = ord_encoder_user.fit_transform(clicks['user_id'])['user_id'] - 1\n",
        "clicks['offer_id_enc'] = ord_encoder_offer.fit_transform(clicks['offer_id'].apply(str))['offer_id'] - 1\n",
        "\n",
        "event_encoder = {'OpenOfferScreen': 1, 'Add2Like': 2, 'ClickCallButton': 3, 'MakeCall': 4, 'EndCall': 5}\n",
        "clicks['event_name_enc'] = clicks['event_name'].map(event_encoder)\n",
        "clicks.head()\n"
      ],
      "metadata": {
        "colab": {
          "base_uri": "https://localhost:8080/",
          "height": 337
        },
        "id": "qdI3aYkmPx9e",
        "outputId": "80930b5b-9d51-4b93-98ce-61dce12256b4"
      },
      "id": "qdI3aYkmPx9e",
      "execution_count": 3,
      "outputs": [
        {
          "output_type": "execute_result",
          "data": {
            "text/plain": [
              "                 timestamp   user_id   offer_id       event_name  user_id_enc  \\\n",
              "0  2022-07-29 00:00:02.095  82662998  275699899  OpenOfferScreen            0   \n",
              "1  2022-07-29 00:00:20.794  70430591  263076121         Add2Like            1   \n",
              "2  2022-07-29 00:00:21.326  93889189  254183210  OpenOfferScreen            2   \n",
              "3  2022-07-29 00:00:26.945  91525566  268686455  OpenOfferScreen            3   \n",
              "4  2022-07-29 00:00:27.162  78613959  275660175  OpenOfferScreen            4   \n",
              "\n",
              "   offer_id_enc  event_name_enc  \n",
              "0             0               1  \n",
              "1             1               2  \n",
              "2             2               1  \n",
              "3             3               1  \n",
              "4             4               1  "
            ],
            "text/html": [
              "\n",
              "  <div id=\"df-7ac7a62e-7182-49d0-890a-8f632440a6f8\">\n",
              "    <div class=\"colab-df-container\">\n",
              "      <div>\n",
              "<style scoped>\n",
              "    .dataframe tbody tr th:only-of-type {\n",
              "        vertical-align: middle;\n",
              "    }\n",
              "\n",
              "    .dataframe tbody tr th {\n",
              "        vertical-align: top;\n",
              "    }\n",
              "\n",
              "    .dataframe thead th {\n",
              "        text-align: right;\n",
              "    }\n",
              "</style>\n",
              "<table border=\"1\" class=\"dataframe\">\n",
              "  <thead>\n",
              "    <tr style=\"text-align: right;\">\n",
              "      <th></th>\n",
              "      <th>timestamp</th>\n",
              "      <th>user_id</th>\n",
              "      <th>offer_id</th>\n",
              "      <th>event_name</th>\n",
              "      <th>user_id_enc</th>\n",
              "      <th>offer_id_enc</th>\n",
              "      <th>event_name_enc</th>\n",
              "    </tr>\n",
              "  </thead>\n",
              "  <tbody>\n",
              "    <tr>\n",
              "      <th>0</th>\n",
              "      <td>2022-07-29 00:00:02.095</td>\n",
              "      <td>82662998</td>\n",
              "      <td>275699899</td>\n",
              "      <td>OpenOfferScreen</td>\n",
              "      <td>0</td>\n",
              "      <td>0</td>\n",
              "      <td>1</td>\n",
              "    </tr>\n",
              "    <tr>\n",
              "      <th>1</th>\n",
              "      <td>2022-07-29 00:00:20.794</td>\n",
              "      <td>70430591</td>\n",
              "      <td>263076121</td>\n",
              "      <td>Add2Like</td>\n",
              "      <td>1</td>\n",
              "      <td>1</td>\n",
              "      <td>2</td>\n",
              "    </tr>\n",
              "    <tr>\n",
              "      <th>2</th>\n",
              "      <td>2022-07-29 00:00:21.326</td>\n",
              "      <td>93889189</td>\n",
              "      <td>254183210</td>\n",
              "      <td>OpenOfferScreen</td>\n",
              "      <td>2</td>\n",
              "      <td>2</td>\n",
              "      <td>1</td>\n",
              "    </tr>\n",
              "    <tr>\n",
              "      <th>3</th>\n",
              "      <td>2022-07-29 00:00:26.945</td>\n",
              "      <td>91525566</td>\n",
              "      <td>268686455</td>\n",
              "      <td>OpenOfferScreen</td>\n",
              "      <td>3</td>\n",
              "      <td>3</td>\n",
              "      <td>1</td>\n",
              "    </tr>\n",
              "    <tr>\n",
              "      <th>4</th>\n",
              "      <td>2022-07-29 00:00:27.162</td>\n",
              "      <td>78613959</td>\n",
              "      <td>275660175</td>\n",
              "      <td>OpenOfferScreen</td>\n",
              "      <td>4</td>\n",
              "      <td>4</td>\n",
              "      <td>1</td>\n",
              "    </tr>\n",
              "  </tbody>\n",
              "</table>\n",
              "</div>\n",
              "      <button class=\"colab-df-convert\" onclick=\"convertToInteractive('df-7ac7a62e-7182-49d0-890a-8f632440a6f8')\"\n",
              "              title=\"Convert this dataframe to an interactive table.\"\n",
              "              style=\"display:none;\">\n",
              "        \n",
              "  <svg xmlns=\"http://www.w3.org/2000/svg\" height=\"24px\"viewBox=\"0 0 24 24\"\n",
              "       width=\"24px\">\n",
              "    <path d=\"M0 0h24v24H0V0z\" fill=\"none\"/>\n",
              "    <path d=\"M18.56 5.44l.94 2.06.94-2.06 2.06-.94-2.06-.94-.94-2.06-.94 2.06-2.06.94zm-11 1L8.5 8.5l.94-2.06 2.06-.94-2.06-.94L8.5 2.5l-.94 2.06-2.06.94zm10 10l.94 2.06.94-2.06 2.06-.94-2.06-.94-.94-2.06-.94 2.06-2.06.94z\"/><path d=\"M17.41 7.96l-1.37-1.37c-.4-.4-.92-.59-1.43-.59-.52 0-1.04.2-1.43.59L10.3 9.45l-7.72 7.72c-.78.78-.78 2.05 0 2.83L4 21.41c.39.39.9.59 1.41.59.51 0 1.02-.2 1.41-.59l7.78-7.78 2.81-2.81c.8-.78.8-2.07 0-2.86zM5.41 20L4 18.59l7.72-7.72 1.47 1.35L5.41 20z\"/>\n",
              "  </svg>\n",
              "      </button>\n",
              "      \n",
              "  <style>\n",
              "    .colab-df-container {\n",
              "      display:flex;\n",
              "      flex-wrap:wrap;\n",
              "      gap: 12px;\n",
              "    }\n",
              "\n",
              "    .colab-df-convert {\n",
              "      background-color: #E8F0FE;\n",
              "      border: none;\n",
              "      border-radius: 50%;\n",
              "      cursor: pointer;\n",
              "      display: none;\n",
              "      fill: #1967D2;\n",
              "      height: 32px;\n",
              "      padding: 0 0 0 0;\n",
              "      width: 32px;\n",
              "    }\n",
              "\n",
              "    .colab-df-convert:hover {\n",
              "      background-color: #E2EBFA;\n",
              "      box-shadow: 0px 1px 2px rgba(60, 64, 67, 0.3), 0px 1px 3px 1px rgba(60, 64, 67, 0.15);\n",
              "      fill: #174EA6;\n",
              "    }\n",
              "\n",
              "    [theme=dark] .colab-df-convert {\n",
              "      background-color: #3B4455;\n",
              "      fill: #D2E3FC;\n",
              "    }\n",
              "\n",
              "    [theme=dark] .colab-df-convert:hover {\n",
              "      background-color: #434B5C;\n",
              "      box-shadow: 0px 1px 3px 1px rgba(0, 0, 0, 0.15);\n",
              "      filter: drop-shadow(0px 1px 2px rgba(0, 0, 0, 0.3));\n",
              "      fill: #FFFFFF;\n",
              "    }\n",
              "  </style>\n",
              "\n",
              "      <script>\n",
              "        const buttonEl =\n",
              "          document.querySelector('#df-7ac7a62e-7182-49d0-890a-8f632440a6f8 button.colab-df-convert');\n",
              "        buttonEl.style.display =\n",
              "          google.colab.kernel.accessAllowed ? 'block' : 'none';\n",
              "\n",
              "        async function convertToInteractive(key) {\n",
              "          const element = document.querySelector('#df-7ac7a62e-7182-49d0-890a-8f632440a6f8');\n",
              "          const dataTable =\n",
              "            await google.colab.kernel.invokeFunction('convertToInteractive',\n",
              "                                                     [key], {});\n",
              "          if (!dataTable) return;\n",
              "\n",
              "          const docLinkHtml = 'Like what you see? Visit the ' +\n",
              "            '<a target=\"_blank\" href=https://colab.research.google.com/notebooks/data_table.ipynb>data table notebook</a>'\n",
              "            + ' to learn more about interactive tables.';\n",
              "          element.innerHTML = '';\n",
              "          dataTable['output_type'] = 'display_data';\n",
              "          await google.colab.output.renderOutput(dataTable, element);\n",
              "          const docLink = document.createElement('div');\n",
              "          docLink.innerHTML = docLinkHtml;\n",
              "          element.appendChild(docLink);\n",
              "        }\n",
              "      </script>\n",
              "    </div>\n",
              "  </div>\n",
              "  "
            ]
          },
          "metadata": {},
          "execution_count": 3
        }
      ]
    },
    {
      "cell_type": "code",
      "source": [
        "from scipy.sparse import csr_matrix\n",
        "clicks_train = clicks.iloc[:clicks.shape[0]//3, :]\n",
        "clicks_test = clicks.iloc[clicks.shape[0]//3:, :]\n",
        "csr_user_item_train = csr_matrix((clicks_train['event_name_enc'], (clicks_train['user_id_enc'], clicks_train['offer_id_enc'])))"
      ],
      "metadata": {
        "id": "bz9Jyr_9xPiF"
      },
      "id": "bz9Jyr_9xPiF",
      "execution_count": 4,
      "outputs": []
    },
    {
      "cell_type": "code",
      "source": [
        "csr_user_item_train.shape"
      ],
      "metadata": {
        "colab": {
          "base_uri": "https://localhost:8080/"
        },
        "id": "qN3G25CSxqXd",
        "outputId": "d119690a-9a20-43c2-ad2b-90dcede9b25b"
      },
      "id": "qN3G25CSxqXd",
      "execution_count": 5,
      "outputs": [
        {
          "output_type": "execute_result",
          "data": {
            "text/plain": [
              "(34998, 514563)"
            ]
          },
          "metadata": {},
          "execution_count": 5
        }
      ]
    },
    {
      "cell_type": "code",
      "source": [
        "# составим тестовый датасет\n",
        "train_users = set(clicks_train['user_id_enc'].values)\n",
        "train_items = set(clicks_train['offer_id_enc'].values)\n",
        "\n",
        "clicks_test = clicks_test[(clicks_test['user_id_enc'].isin(train_users)) & \n",
        "                      (clicks_test['offer_id_enc'].isin(train_items))]\n",
        "\n",
        "# составим словарь\n",
        "test_dict = {}\n",
        "for user_id in clicks_test['user_id_enc'].drop_duplicates().values:\n",
        "    test_dict[user_id] = list(clicks_test[clicks_test['user_id_enc'] == user_id]['offer_id_enc'])\n"
      ],
      "metadata": {
        "id": "3Ofe_EEkyxPM"
      },
      "id": "3Ofe_EEkyxPM",
      "execution_count": 6,
      "outputs": []
    },
    {
      "cell_type": "code",
      "source": [
        "import scipy.sparse as sp\n",
        "from scipy.sparse.linalg import svds\n",
        "from scipy.linalg import sqrtm\n",
        "import numpy as np\n",
        "\n",
        "def svd(data, k):  \n",
        "    U, s, V = svds(data.asfptype(), k=k) \n",
        "    s = np.diag(s)\n",
        "    s_root = sqrtm(s)\n",
        "    Usk = np.dot(U, s_root) \n",
        "    skV = np.dot(s_root, V) \n",
        "    UsV = np.dot(Usk, skV)\n",
        "    print(\"SVD-разложение готово\") \n",
        "    return UsV\n",
        "pred_svd = svd(csr_user_item_train, 2)"
      ],
      "metadata": {
        "id": "rGrlvIz11scM"
      },
      "id": "rGrlvIz11scM",
      "execution_count": null,
      "outputs": []
    },
    {
      "cell_type": "code",
      "source": [
        "pred_svd.shape"
      ],
      "metadata": {
        "id": "x600Ri_u3GMu"
      },
      "id": "x600Ri_u3GMu",
      "execution_count": null,
      "outputs": []
    },
    {
      "cell_type": "code",
      "source": [
        "test_dict = {}\n",
        "for user_id in data_test['uid_device_enc'].drop_duplicates().values:\n",
        "    test_dict[user_id] = list(data_test[data_test['uid_device_enc'] == user_id]['id_enc'])\n",
        "test_dict"
      ],
      "metadata": {
        "id": "B57CPupe9uIW"
      },
      "id": "B57CPupe9uIW",
      "execution_count": null,
      "outputs": []
    },
    {
      "cell_type": "code",
      "source": [
        "# prepare predicted data for evaluation\n",
        "#diff = pred_svd - csr_user_item_train\n",
        "\n",
        "#pred_dict = {}\n",
        "#for i in test_dict.keys():\n",
        "#    print('f')\n",
        "#    test_dict[i] = sorted(diff[user_id], reverse=True)\n",
        "\n",
        "pred_list = []\n",
        "for i in range(pred_svd.shape[0]):\n",
        "  pred_list.append(np.argsort(diff[i])[::-1])\n",
        "pred_list[:5]"
      ],
      "metadata": {
        "id": "K7kMvtsPA47X"
      },
      "id": "K7kMvtsPA47X",
      "execution_count": null,
      "outputs": []
    },
    {
      "cell_type": "code",
      "source": [
        "from sklearn.utils import column_or_1d\n",
        "from sklearn.utils.multiclass import type_of_target\n",
        "\n",
        "def precision_at_k(y_true, y_score, k):\n",
        "    \"\"\"\n",
        "        INPUT:\n",
        "        y_true - list of true test values for one user\n",
        "        y_score - list of predictions values foro one user\n",
        "        k - level of precision\n",
        "        OUTPUT:\n",
        "        ans - precision at k :)\n",
        "    \"\"\"\n",
        "    ans = 0\n",
        "    counter = 0\n",
        "    for row in y_true:\n",
        "        counter += 1\n",
        "        if counter > k:\n",
        "            return ans\n",
        "        if row in y_score:\n",
        "            ans += 1 / k\n",
        "    return ans"
      ],
      "metadata": {
        "id": "Vtr3SLsVCL_a"
      },
      "id": "Vtr3SLsVCL_a",
      "execution_count": null,
      "outputs": []
    },
    {
      "cell_type": "code",
      "source": [
        "prec_fin = 0\n",
        "for ind, val in test_dict.items():\n",
        "    prec_fin += precision_at_k(val, pred_list[ind], 5)\n",
        "prec_fin /= len(test_dict)"
      ],
      "metadata": {
        "id": "ELlYhs-LCMC2"
      },
      "id": "ELlYhs-LCMC2",
      "execution_count": null,
      "outputs": []
    }
  ],
  "metadata": {
    "kernelspec": {
      "display_name": "Python 3",
      "language": "python",
      "name": "python3"
    },
    "language_info": {
      "codemirror_mode": {
        "name": "ipython",
        "version": 3
      },
      "file_extension": ".py",
      "mimetype": "text/x-python",
      "name": "python",
      "nbconvert_exporter": "python",
      "pygments_lexer": "ipython3",
      "version": "3.6.1"
    },
    "colab": {
      "provenance": [],
      "include_colab_link": true
    },
    "accelerator": "GPU",
    "gpuClass": "standard"
  },
  "nbformat": 4,
  "nbformat_minor": 5
}