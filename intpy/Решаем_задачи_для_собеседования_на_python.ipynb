{
  "nbformat": 4,
  "nbformat_minor": 0,
  "metadata": {
    "colab": {
      "provenance": [],
      "authorship_tag": "ABX9TyP1/g+rg0x3eED8UdVw7RBD",
      "include_colab_link": true
    },
    "kernelspec": {
      "name": "python3",
      "display_name": "Python 3"
    },
    "language_info": {
      "name": "python"
    }
  },
  "cells": [
    {
      "cell_type": "markdown",
      "metadata": {
        "id": "view-in-github",
        "colab_type": "text"
      },
      "source": [
        "<a href=\"https://colab.research.google.com/github/MariaZharova/Skillfactory_projects/blob/main/%D0%A0%D0%B5%D1%88%D0%B0%D0%B5%D0%BC_%D0%B7%D0%B0%D0%B4%D0%B0%D1%87%D0%B8_%D0%B4%D0%BB%D1%8F_%D1%81%D0%BE%D0%B1%D0%B5%D1%81%D0%B5%D0%B4%D0%BE%D0%B2%D0%B0%D0%BD%D0%B8%D1%8F_%D0%BD%D0%B0_python.ipynb\" target=\"_parent\"><img src=\"https://colab.research.google.com/assets/colab-badge.svg\" alt=\"Open In Colab\"/></a>"
      ]
    },
    {
      "cell_type": "markdown",
      "source": [
        "# 🍉 Решаем задачи для собеседования на python"
      ],
      "metadata": {
        "id": "PKzzQiLsXfMD"
      }
    },
    {
      "cell_type": "markdown",
      "source": [
        "#### 1). В чем разница между модулем и пакетом в Python?"
      ],
      "metadata": {
        "id": "7ovP_JZ-X8sM"
      }
    },
    {
      "cell_type": "markdown",
      "source": [
        "**Модули** - это файлы Python с расширением .py, в которых определены и реализованы наборы функций, классов или переменных. Они могут быть импортированы и инициализированы один раз с помощью оператора import. Если требуется частичная функциональность, необходимые классы или функции импортируются с помощью оператора from foo import bar.\n",
        "\n",
        "**Пакет** создаётся как папка в файловой системе и в неё помещается необходимый модуль (файл python). Импорт модуля или его содержимого из пакета требует, чтобы имя пакета был префиксом к имени модуля, соединенным точкой. "
      ],
      "metadata": {
        "id": "nKCCGnPphOyg"
      }
    },
    {
      "cell_type": "code",
      "source": [
        "from myclass import MyClass\n",
        "from foo.bar.yourclass import YourClass"
      ],
      "metadata": {
        "id": "kMpvDFa4j067"
      },
      "execution_count": null,
      "outputs": []
    },
    {
      "cell_type": "code",
      "source": [
        "! pwd - путь к текущей папке"
      ],
      "metadata": {
        "colab": {
          "base_uri": "https://localhost:8080/"
        },
        "id": "aKAEh7YlsdKN",
        "outputId": "4f5ae828-c4b4-4d71-ea34-f87844939cb0"
      },
      "execution_count": 4,
      "outputs": [
        {
          "output_type": "stream",
          "name": "stdout",
          "text": [
            "/content\n"
          ]
        }
      ]
    },
    {
      "cell_type": "code",
      "source": [
        "! cd .. - вернуться назад\n",
        "! cd name_folder - перемещаетеся к нужной папке"
      ],
      "metadata": {
        "id": "KiqjIVPusuvQ"
      },
      "execution_count": null,
      "outputs": []
    },
    {
      "cell_type": "markdown",
      "source": [
        "#### 2). Какие встроенные типы доступны в Python?"
      ],
      "metadata": {
        "id": "n6SitNs2YR7v"
      }
    },
    {
      "cell_type": "markdown",
      "source": [
        "В Python есть изменяемые и неизменяемые встроенные типы. К изменяемым относятся:\n",
        "\n",
        "* Списки\n",
        "* Множества\n",
        "* Словари\n",
        "\n",
        "Представителями неизменяемых типов являются:\n",
        "* Строки\n",
        "* Кортежи\n",
        "* Числа"
      ],
      "metadata": {
        "id": "87ko9YxbhPyj"
      }
    },
    {
      "cell_type": "markdown",
      "source": [
        "#### 3). Что такое лямбда-функция в Python?"
      ],
      "metadata": {
        "id": "bP2S5ATCYR1u"
      }
    },
    {
      "cell_type": "markdown",
      "source": [
        "Лямбда — это анонимная функция в Python, которая может принимать неограниченное количество аргументов и может иметь любое число параметров. Однако лямбда-функция может иметь только одно выражение или инструкцию. Обычно она используется в ситуациях, когда требуется анонимная функция в течение короткого периода времени."
      ],
      "metadata": {
        "id": "KYAQlst-hQhd"
      }
    },
    {
      "cell_type": "code",
      "source": [
        "a = lambda x,y : x+y\n",
        "print(a(5, 6))"
      ],
      "metadata": {
        "colab": {
          "base_uri": "https://localhost:8080/"
        },
        "id": "QBNjg5kcknGG",
        "outputId": "2c5054a2-07ae-4f03-d2db-2b37cfa2b7f9"
      },
      "execution_count": 2,
      "outputs": [
        {
          "output_type": "stream",
          "name": "stdout",
          "text": [
            "11\n"
          ]
        }
      ]
    },
    {
      "cell_type": "markdown",
      "source": [
        "#### 4). Какие бывают пространства имен?"
      ],
      "metadata": {
        "id": "4MdCviinYRvf"
      }
    },
    {
      "cell_type": "markdown",
      "source": [
        "* Локальное пространство имен — включает локальные имена внутри функции. Локальное пространство имен временно создается во время вызова функции и очищается при возврате из нее.\n",
        "* Глобальное пространство имен — состоит из имен различных импортированных пакетов/модулей, которые в настоящее время используются в проекте. Глобальное пространство имен создается при импорте пакета в скрипт, и оно доступно до тех пор, пока скрипт не закончит выполнение.\n",
        "* Встроенное пространство имен — оно включает встроенные функции Python и встроенные имена для различных типов исключений.\n",
        "* Нелокальное - во внешней функции образуется nonlocal область видимости, доступ к этим переменным можно получить из внутренней функции, но нельзя из глобальной области видимости.\n"
      ],
      "metadata": {
        "id": "HONgY_V2hRZa"
      }
    },
    {
      "cell_type": "code",
      "source": [
        "a = 10\n",
        "#print(a)\n",
        "a = 15\n",
        "#b = 10\n",
        "def my_f(a):\n",
        "  nonlocal c = 20\n",
        "  global b = 5\n",
        "  print(a)\n",
        "  return a + 10\n",
        "my_f(a)"
      ],
      "metadata": {
        "colab": {
          "base_uri": "https://localhost:8080/"
        },
        "id": "jkC27xlBuU4X",
        "outputId": "3924b8d2-b765-426d-e7bd-ae759983f4cc"
      },
      "execution_count": 9,
      "outputs": [
        {
          "output_type": "stream",
          "name": "stdout",
          "text": [
            "10\n"
          ]
        },
        {
          "output_type": "execute_result",
          "data": {
            "text/plain": [
              "25"
            ]
          },
          "metadata": {},
          "execution_count": 9
        }
      ]
    },
    {
      "cell_type": "code",
      "source": [
        "list\n",
        "print\n",
        "str\n",
        "int\n",
        "set\n",
        "dict"
      ],
      "metadata": {
        "id": "MKtGgWdywMgc"
      },
      "execution_count": null,
      "outputs": []
    },
    {
      "cell_type": "code",
      "source": [
        "a = list()\n",
        "a"
      ],
      "metadata": {
        "colab": {
          "base_uri": "https://localhost:8080/"
        },
        "id": "xspKzJbzwaV_",
        "outputId": "58269b5f-a115-4c19-835c-9d98a0a4c2a9"
      },
      "execution_count": 1,
      "outputs": [
        {
          "output_type": "execute_result",
          "data": {
            "text/plain": [
              "[]"
            ]
          },
          "metadata": {},
          "execution_count": 1
        }
      ]
    },
    {
      "cell_type": "code",
      "source": [
        "# так делать не нужно!\n",
        "list = [1, 2, 4]\n",
        "list"
      ],
      "metadata": {
        "colab": {
          "base_uri": "https://localhost:8080/"
        },
        "id": "gGC8yBKjweQO",
        "outputId": "ac64209c-6388-4c92-e7f8-3f8246dc9776"
      },
      "execution_count": 11,
      "outputs": [
        {
          "output_type": "execute_result",
          "data": {
            "text/plain": [
              "[1, 2, 4]"
            ]
          },
          "metadata": {},
          "execution_count": 11
        }
      ]
    },
    {
      "cell_type": "markdown",
      "source": [
        "#### 5). Объясните разницу между списком и кортежем?"
      ],
      "metadata": {
        "id": "X7_e9w4LYRcw"
      }
    },
    {
      "cell_type": "markdown",
      "source": [
        "Список изменяемый, а кортеж — нет. Кортежи можно хешировать, как в случае создания ключей для словарей."
      ],
      "metadata": {
        "id": "BGMm7ZYGhSdp"
      }
    },
    {
      "cell_type": "code",
      "source": [
        "#my_dict = dict()\n",
        "my_dict[['1', 2, 6]] = 'd'\n",
        "my_dict"
      ],
      "metadata": {
        "colab": {
          "base_uri": "https://localhost:8080/",
          "height": 203
        },
        "id": "-MnZ-S1KyMkI",
        "outputId": "2a5d12f2-715e-4db3-8788-a29b9a02dd0e"
      },
      "execution_count": 5,
      "outputs": [
        {
          "output_type": "error",
          "ename": "TypeError",
          "evalue": "ignored",
          "traceback": [
            "\u001b[0;31m---------------------------------------------------------------------------\u001b[0m",
            "\u001b[0;31mTypeError\u001b[0m                                 Traceback (most recent call last)",
            "\u001b[0;32m<ipython-input-5-6bf10ad0fb03>\u001b[0m in \u001b[0;36m<module>\u001b[0;34m\u001b[0m\n\u001b[1;32m      1\u001b[0m \u001b[0;31m#my_dict = dict()\u001b[0m\u001b[0;34m\u001b[0m\u001b[0;34m\u001b[0m\u001b[0;34m\u001b[0m\u001b[0m\n\u001b[0;32m----> 2\u001b[0;31m \u001b[0mmy_dict\u001b[0m\u001b[0;34m[\u001b[0m\u001b[0;34m[\u001b[0m\u001b[0;34m'1'\u001b[0m\u001b[0;34m,\u001b[0m \u001b[0;36m2\u001b[0m\u001b[0;34m,\u001b[0m \u001b[0;36m6\u001b[0m\u001b[0;34m]\u001b[0m\u001b[0;34m]\u001b[0m \u001b[0;34m=\u001b[0m \u001b[0;34m'd'\u001b[0m\u001b[0;34m\u001b[0m\u001b[0;34m\u001b[0m\u001b[0m\n\u001b[0m\u001b[1;32m      3\u001b[0m \u001b[0mmy_dict\u001b[0m\u001b[0;34m\u001b[0m\u001b[0;34m\u001b[0m\u001b[0m\n",
            "\u001b[0;31mTypeError\u001b[0m: unhashable type: 'list'"
          ]
        }
      ]
    },
    {
      "cell_type": "markdown",
      "source": [
        "#### 6). Чем отличается pickling от unpickling?"
      ],
      "metadata": {
        "id": "-0zmL3GNas5C"
      }
    },
    {
      "cell_type": "markdown",
      "source": [
        "В Python модуль pickle принимает любой объект Python, преобразует его в строковое представление и выгружает его в файл с помощью функции dump. Такой процесс известен как pickling. Для этого процесса используется функция pickle.dump().\n",
        "\n",
        "С другой стороны, процесс извлечения исходного объекта Python из сохраненного строкового представления называется unpickling. Для этого процесса используется функция pickle.load()."
      ],
      "metadata": {
        "id": "WnWTJaoAhTPZ"
      }
    },
    {
      "cell_type": "markdown",
      "source": [
        "#### 7). Разница между генераторами и итераторами?"
      ],
      "metadata": {
        "id": "JojbeiZKas2q"
      }
    },
    {
      "cell_type": "markdown",
      "source": [
        "Итераторы используются для перебора группы элементов (например, в списке). Генераторы представляют собой способ реализации итераторов. В них применяется yield для возврата выражения из функции, но в остальном генератор ведет себя как обычная функция.\n",
        "\n",
        "Итератор - инструмент для перебора элементов итерируемого объекта.\n",
        "\n",
        "V2: Итератор - это объект класса с методом __next__, а генератор - это функция с yield\n",
        "\n",
        "Итерируемый объект - это объект, имеющий метод next()\n"
      ],
      "metadata": {
        "id": "-29jbuhBhUCc"
      }
    },
    {
      "cell_type": "code",
      "source": [
        "my_list = [1, 2, 3]\n",
        "my_iter = iter(my_list)\n",
        "my_iter()"
      ],
      "metadata": {
        "colab": {
          "base_uri": "https://localhost:8080/"
        },
        "id": "g_sVS21zzbpR",
        "outputId": "12687801-38aa-4ed0-bb87-24386e7685c6"
      },
      "execution_count": 7,
      "outputs": [
        {
          "output_type": "execute_result",
          "data": {
            "text/plain": [
              "<list_iterator at 0x7f8ea2b1cb50>"
            ]
          },
          "metadata": {},
          "execution_count": 7
        }
      ]
    },
    {
      "cell_type": "code",
      "source": [
        "next(my_iter)"
      ],
      "metadata": {
        "colab": {
          "base_uri": "https://localhost:8080/",
          "height": 168
        },
        "id": "zh4qW2fEzqWS",
        "outputId": "aca911af-e57b-4530-b602-39f121ad020b"
      },
      "execution_count": 13,
      "outputs": [
        {
          "output_type": "error",
          "ename": "StopIteration",
          "evalue": "ignored",
          "traceback": [
            "\u001b[0;31m---------------------------------------------------------------------------\u001b[0m",
            "\u001b[0;31mStopIteration\u001b[0m                             Traceback (most recent call last)",
            "\u001b[0;32m<ipython-input-13-94a4229f6542>\u001b[0m in \u001b[0;36m<module>\u001b[0;34m\u001b[0m\n\u001b[0;32m----> 1\u001b[0;31m \u001b[0mnext\u001b[0m\u001b[0;34m(\u001b[0m\u001b[0mmy_iter\u001b[0m\u001b[0;34m)\u001b[0m\u001b[0;34m\u001b[0m\u001b[0;34m\u001b[0m\u001b[0m\n\u001b[0m",
            "\u001b[0;31mStopIteration\u001b[0m: "
          ]
        }
      ]
    },
    {
      "cell_type": "code",
      "source": [
        "my_list1 = [i for i in range(10)]\n",
        "my_list1"
      ],
      "metadata": {
        "colab": {
          "base_uri": "https://localhost:8080/"
        },
        "id": "2TMiGcj00VDb",
        "outputId": "6ce55bad-9074-4571-b246-884f02995b48"
      },
      "execution_count": 14,
      "outputs": [
        {
          "output_type": "execute_result",
          "data": {
            "text/plain": [
              "[0, 1, 2, 3, 4, 5, 6, 7, 8, 9]"
            ]
          },
          "metadata": {},
          "execution_count": 14
        }
      ]
    },
    {
      "cell_type": "code",
      "source": [
        "def f1(arg):\n",
        "  return arg + 1\n",
        "def f2(arg):\n",
        "  yield arg + 1"
      ],
      "metadata": {
        "id": "KPIoLAyX09VR"
      },
      "execution_count": 15,
      "outputs": []
    },
    {
      "cell_type": "markdown",
      "source": [
        "#### 8). Что такое функция range() и каковы ее параметры?"
      ],
      "metadata": {
        "id": "BSrdU1b1as0T"
      }
    },
    {
      "cell_type": "markdown",
      "source": [
        "Функция range() используется для создания списка из чисел. Разрешены только целые числа, поэтому переданные аргументы могут быть как отрицательными, так и положительными. Другие параметры: range([start], stop[, step]):\n",
        "\n",
        "* Start: устанавливает первое число в последовательности.\n",
        "* Stop: указывает верхний предел для последовательности.\n",
        "* Step: коэффициент приращения в последовательности.\n"
      ],
      "metadata": {
        "id": "Ncx-t6hRhUuL"
      }
    },
    {
      "cell_type": "code",
      "source": [
        "a = list(range(10))\n",
        "a"
      ],
      "metadata": {
        "colab": {
          "base_uri": "https://localhost:8080/"
        },
        "id": "tXbbPXNw1e2b",
        "outputId": "2834ab7f-12d4-44bc-e99f-d7955a136dad"
      },
      "execution_count": 27,
      "outputs": [
        {
          "output_type": "execute_result",
          "data": {
            "text/plain": [
              "[0, 1, 2, 3, 4, 5, 6, 7, 8, 9]"
            ]
          },
          "metadata": {},
          "execution_count": 27
        }
      ]
    },
    {
      "cell_type": "code",
      "source": [
        "a[2:10:2]"
      ],
      "metadata": {
        "colab": {
          "base_uri": "https://localhost:8080/"
        },
        "id": "FgOeW8CT4H4N",
        "outputId": "50856b51-cc3b-4f7f-cc56-92b95ead2f21"
      },
      "execution_count": 28,
      "outputs": [
        {
          "output_type": "execute_result",
          "data": {
            "text/plain": [
              "[2, 4, 6, 8]"
            ]
          },
          "metadata": {},
          "execution_count": 28
        }
      ]
    },
    {
      "cell_type": "markdown",
      "source": [
        "#### 9). Обязательно ли функция Python должна возвращать значение?"
      ],
      "metadata": {
        "id": "AiHZ5meKasxt"
      }
    },
    {
      "cell_type": "markdown",
      "source": [
        "Нет :)"
      ],
      "metadata": {
        "id": "3lI05DzqhVVg"
      }
    },
    {
      "cell_type": "code",
      "source": [
        "def f3(arg):\n",
        "  return arg + 3\n",
        "def f4(arg):\n",
        "  arg += 3\n",
        "  return None"
      ],
      "metadata": {
        "id": "ZfvrU5CJ4g8h"
      },
      "execution_count": 34,
      "outputs": []
    },
    {
      "cell_type": "code",
      "source": [
        "f4(4)"
      ],
      "metadata": {
        "id": "EjR1O6eZ4qze"
      },
      "execution_count": 35,
      "outputs": []
    },
    {
      "cell_type": "markdown",
      "source": [
        "#### 10). Как изменить тип данных списка?"
      ],
      "metadata": {
        "id": "Sit2KbPIasu3"
      }
    },
    {
      "cell_type": "markdown",
      "source": [
        "Чтобы преобразовать список в кортеж, мы используем функцию tuple().\n",
        "\n",
        "Чтобы превратить его в множество — функцию set().\n",
        "\n",
        "Для преобразования в словарь — dict().\n",
        "\n",
        "Для превращения в строку — join() -- пояснить!"
      ],
      "metadata": {
        "id": "FOKRks9FhWKF"
      }
    },
    {
      "cell_type": "code",
      "source": [
        "my_list1 = [str(i) for i in range(10)]\n",
        "print(my_list1)\n",
        "my_list2 = dict(keys=1, values=my_list1)\n",
        "my_list2 = ''.join(my_list1)\n",
        "print(type(my_list2))\n",
        "print(my_list2)"
      ],
      "metadata": {
        "colab": {
          "base_uri": "https://localhost:8080/"
        },
        "id": "lN7WHpT-5I0w",
        "outputId": "82ae922b-62b2-4234-ed76-1e3269d46ace"
      },
      "execution_count": 51,
      "outputs": [
        {
          "output_type": "stream",
          "name": "stdout",
          "text": [
            "['0', '1', '2', '3', '4', '5', '6', '7', '8', '9']\n",
            "<class 'str'>\n",
            "0123456789\n"
          ]
        }
      ]
    },
    {
      "cell_type": "markdown",
      "source": [
        "#### 11). Объясните, что означает «self» в Python."
      ],
      "metadata": {
        "id": "oxPHXcFicFoB"
      }
    },
    {
      "cell_type": "markdown",
      "source": [
        "В Python «self» — это ключевое слово, применяемое для определения экземпляра или объекта класса. В отличие от Java, где self не является обязательным, в Python он используется как первый параметр. Self помогает отличать методы и атрибуты класса от его локальных переменных.\n",
        "\n",
        "Переменная self в методе __init__ ссылается к созданному объекту или экземпляру, тогда как в других методах она указывает на объект или экземпляр, метод которого был вызван."
      ],
      "metadata": {
        "id": "p8bxrD12hXCl"
      }
    },
    {
      "cell_type": "markdown",
      "source": [
        "dog‎: у котов внутри есть мурчалка\n",
        "\n",
        "dog‎: она реализована для всех котов в классе кот\n",
        "\n",
        "‎dog‎: в объекте кот надо как то вызвать метод мурчало у класса кот\n",
        "\n",
        "‎dog‎: как ты это сделаешь?\n",
        "\n",
        "dog‎: кот.мурчало()\n",
        "\n",
        "‎dog‎: ежели ты вызовешь кот.мурчало(), муркнут сразу все коты на свете\n",
        "\n",
        "‎dog‎: а ежели ты вызовешь self.мурчало(), муркнет только тот кот, на которого указывает self"
      ],
      "metadata": {
        "id": "IMl6R_HH8QzW"
      }
    },
    {
      "cell_type": "code",
      "source": [
        "class Person:\n",
        "  def __init__(self, name, age):\n",
        "    self.name = name\n",
        "    self.age = age\n",
        "  \n",
        "  def add(self, num):\n",
        "    self.age += num"
      ],
      "metadata": {
        "id": "RO0or8iG7ngT"
      },
      "execution_count": 53,
      "outputs": []
    },
    {
      "cell_type": "markdown",
      "source": [
        "#### 12). Объясните использование функций help() и dir()."
      ],
      "metadata": {
        "id": "7YkTJLG5cFiW"
      }
    },
    {
      "cell_type": "markdown",
      "source": [
        "В Python функция help() используется для отображения документации по модулям, классам, функциям, ключевым словам и так далее. Если help() не получает параметров, она запускает интерактивную справочную утилиту на консоли.\n",
        "\n",
        "Функция dir() возвращает допустимый список атрибутов и методов объекта, к которому она вызывается. Поскольку функция предназначена для получения наиболее релевантных данных (вместо отображения полной информации), она ведет себя по-разному с разными объектами:\n",
        "\n",
        "Для модулей/библиотек функция dir() возвращает список всех атрибутов, содержащихся в этом модуле.\n",
        "Для объектов класса dir() вернет список всех допустимых атрибутов и базовых атрибутов.\n",
        "Когда ей не передаются никакие параметры, функция dir() возвращает список атрибутов в текущей области видимости."
      ],
      "metadata": {
        "id": "6sXCNluZhXvt"
      }
    },
    {
      "cell_type": "code",
      "source": [
        "import pandas\n",
        "dir(pandas)"
      ],
      "metadata": {
        "colab": {
          "base_uri": "https://localhost:8080/"
        },
        "id": "knsk8Luy8mKa",
        "outputId": "0b0b6e7f-4cde-4f19-c4d5-79b5b1128eb3"
      },
      "execution_count": 59,
      "outputs": [
        {
          "output_type": "execute_result",
          "data": {
            "text/plain": [
              "['BooleanDtype',\n",
              " 'Categorical',\n",
              " 'CategoricalDtype',\n",
              " 'CategoricalIndex',\n",
              " 'DataFrame',\n",
              " 'DateOffset',\n",
              " 'DatetimeIndex',\n",
              " 'DatetimeTZDtype',\n",
              " 'ExcelFile',\n",
              " 'ExcelWriter',\n",
              " 'Flags',\n",
              " 'Float32Dtype',\n",
              " 'Float64Dtype',\n",
              " 'Float64Index',\n",
              " 'Grouper',\n",
              " 'HDFStore',\n",
              " 'Index',\n",
              " 'IndexSlice',\n",
              " 'Int16Dtype',\n",
              " 'Int32Dtype',\n",
              " 'Int64Dtype',\n",
              " 'Int64Index',\n",
              " 'Int8Dtype',\n",
              " 'Interval',\n",
              " 'IntervalDtype',\n",
              " 'IntervalIndex',\n",
              " 'MultiIndex',\n",
              " 'NA',\n",
              " 'NaT',\n",
              " 'NamedAgg',\n",
              " 'Period',\n",
              " 'PeriodDtype',\n",
              " 'PeriodIndex',\n",
              " 'RangeIndex',\n",
              " 'Series',\n",
              " 'SparseDtype',\n",
              " 'StringDtype',\n",
              " 'Timedelta',\n",
              " 'TimedeltaIndex',\n",
              " 'Timestamp',\n",
              " 'UInt16Dtype',\n",
              " 'UInt32Dtype',\n",
              " 'UInt64Dtype',\n",
              " 'UInt64Index',\n",
              " 'UInt8Dtype',\n",
              " '__builtins__',\n",
              " '__cached__',\n",
              " '__doc__',\n",
              " '__docformat__',\n",
              " '__file__',\n",
              " '__getattr__',\n",
              " '__git_version__',\n",
              " '__loader__',\n",
              " '__name__',\n",
              " '__package__',\n",
              " '__path__',\n",
              " '__spec__',\n",
              " '__version__',\n",
              " '_config',\n",
              " '_hashtable',\n",
              " '_is_numpy_dev',\n",
              " '_lib',\n",
              " '_libs',\n",
              " '_np_version_under1p18',\n",
              " '_testing',\n",
              " '_tslib',\n",
              " '_typing',\n",
              " '_version',\n",
              " 'api',\n",
              " 'array',\n",
              " 'arrays',\n",
              " 'bdate_range',\n",
              " 'compat',\n",
              " 'concat',\n",
              " 'core',\n",
              " 'crosstab',\n",
              " 'cut',\n",
              " 'date_range',\n",
              " 'describe_option',\n",
              " 'errors',\n",
              " 'eval',\n",
              " 'factorize',\n",
              " 'get_dummies',\n",
              " 'get_option',\n",
              " 'infer_freq',\n",
              " 'interval_range',\n",
              " 'io',\n",
              " 'isna',\n",
              " 'isnull',\n",
              " 'json_normalize',\n",
              " 'lreshape',\n",
              " 'melt',\n",
              " 'merge',\n",
              " 'merge_asof',\n",
              " 'merge_ordered',\n",
              " 'notna',\n",
              " 'notnull',\n",
              " 'offsets',\n",
              " 'option_context',\n",
              " 'options',\n",
              " 'pandas',\n",
              " 'period_range',\n",
              " 'pivot',\n",
              " 'pivot_table',\n",
              " 'plotting',\n",
              " 'qcut',\n",
              " 'read_clipboard',\n",
              " 'read_csv',\n",
              " 'read_excel',\n",
              " 'read_feather',\n",
              " 'read_fwf',\n",
              " 'read_gbq',\n",
              " 'read_hdf',\n",
              " 'read_html',\n",
              " 'read_json',\n",
              " 'read_orc',\n",
              " 'read_parquet',\n",
              " 'read_pickle',\n",
              " 'read_sas',\n",
              " 'read_spss',\n",
              " 'read_sql',\n",
              " 'read_sql_query',\n",
              " 'read_sql_table',\n",
              " 'read_stata',\n",
              " 'read_table',\n",
              " 'read_xml',\n",
              " 'reset_option',\n",
              " 'set_eng_float_format',\n",
              " 'set_option',\n",
              " 'show_versions',\n",
              " 'test',\n",
              " 'testing',\n",
              " 'timedelta_range',\n",
              " 'to_datetime',\n",
              " 'to_numeric',\n",
              " 'to_pickle',\n",
              " 'to_timedelta',\n",
              " 'tseries',\n",
              " 'unique',\n",
              " 'util',\n",
              " 'value_counts',\n",
              " 'wide_to_long']"
            ]
          },
          "metadata": {},
          "execution_count": 59
        }
      ]
    },
    {
      "cell_type": "markdown",
      "source": [
        "#### 13). Как управляется память в Python?"
      ],
      "metadata": {
        "id": "UPdhmCr_dZoj"
      }
    },
    {
      "cell_type": "markdown",
      "source": [
        "В Python диспетчер памяти заботится об управлении памятью. Он выделяет ее в виде пространства в куче, в которой хранятся все объекты Python и структуры данных. В языке существуют 4 встроенных структуры данных. Данное пространство недоступно для программиста напрямую. Однако базовый API позволяет разработчику получить доступ к некоторым инструментам для написания кода.\n",
        "\n",
        "Кроме того, Python оснащен встроенным сборщиком мусора, который освобождает неиспользуемую память из пространства кучи."
      ],
      "metadata": {
        "id": "2g8nA0YdhYaH"
      }
    },
    {
      "cell_type": "markdown",
      "source": [
        "#### 14). Как передаются аргументы – значения или ссылка?"
      ],
      "metadata": {
        "id": "NqsBVKiodZYZ"
      }
    },
    {
      "cell_type": "markdown",
      "source": [
        "В Python аргументы передаются по ссылке, т. е. передается ссылка на реальный объект. Но есть два вида передачи объекта в аргументах.\n",
        "\n",
        "* По значению: Передается копия реального объекта. Изменение значения копии объекта не приведет к изменению значения исходного объекта.\n",
        "\n",
        "* По ссылке: Передается ссылка на реальный объект. Изменение значения нового объекта изменит значение исходного объекта."
      ],
      "metadata": {
        "id": "4atsz_zmhZOs"
      }
    },
    {
      "cell_type": "code",
      "source": [
        "def appendNumber(arr):\n",
        "   arr.append(4)\n",
        "arr = [1, 2, 3]\n",
        "print(arr)  #вывод: => [1, 2, 3]\n",
        "appendNumber(arr)\n",
        "print(arr)  #вывод: => [1, 2, 3, 4]"
      ],
      "metadata": {
        "colab": {
          "base_uri": "https://localhost:8080/"
        },
        "id": "i-rkAL_rmpG4",
        "outputId": "b0eacdbe-3b61-437b-9976-051dace39fdc"
      },
      "execution_count": 60,
      "outputs": [
        {
          "output_type": "stream",
          "name": "stdout",
          "text": [
            "[1, 2, 3]\n",
            "[1, 2, 3, 4]\n"
          ]
        }
      ]
    },
    {
      "cell_type": "code",
      "source": [
        "def addNumber1(num):\n",
        "   num += 4\n",
        "   return num\n",
        "num = 9\n",
        "print(num)\n",
        "num = addNumber1(num)\n",
        "print(num)\n",
        "print(num)"
      ],
      "metadata": {
        "colab": {
          "base_uri": "https://localhost:8080/",
          "height": 132
        },
        "id": "qtRYDpV7-SR6",
        "outputId": "b1bc3837-c93f-4565-c040-b97716290572"
      },
      "execution_count": 66,
      "outputs": [
        {
          "output_type": "error",
          "ename": "SyntaxError",
          "evalue": "ignored",
          "traceback": [
            "\u001b[0;36m  File \u001b[0;32m\"<ipython-input-66-74f65ff5655d>\"\u001b[0;36m, line \u001b[0;32m2\u001b[0m\n\u001b[0;31m    num += 4+\u001b[0m\n\u001b[0m             ^\u001b[0m\n\u001b[0;31mSyntaxError\u001b[0m\u001b[0;31m:\u001b[0m invalid syntax\n"
          ]
        }
      ]
    },
    {
      "cell_type": "markdown",
      "source": [
        "#### 15). Каковы ключевые особенности Python?"
      ],
      "metadata": {
        "id": "z-Xzxe_-dZRI"
      }
    },
    {
      "cell_type": "markdown",
      "source": [
        "* Интерпретированный,\n",
        "* С динамической типизацией,\n",
        "* Объектно-ориентированный,\n",
        "* Англоязычный синтаксис."
      ],
      "metadata": {
        "id": "k13IDiD2dZMu"
      }
    }
  ]
}