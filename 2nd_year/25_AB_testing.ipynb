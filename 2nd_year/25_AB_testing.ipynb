{
 "cells": [
  {
   "cell_type": "markdown",
   "metadata": {},
   "source": [
    "# Практика.\n",
    "\n",
    "ПОСТАНОВКА ЗАДАЧИ\n",
    "\n",
    "К вам попали результаты A/A/B-тестирования от одного известного маркетплейса. \n",
    "\n",
    "sample_a, sample_c — АА-группы, sample_b — отдельная группа. \n",
    "\n",
    "В каждом датасете есть три типа действий пользователей: 0 — клик, 1 — просмотр и 2 — покупка (пользователь просматривает выдачу товаров, кликает на понравившийся товар и совершает покупку).\n",
    "\n",
    "Маркетплейс ориентируется на следующие метрики:\n",
    "\n",
    "- ctr (отношение кликов к просмотрам товаров);\n",
    "- purchase rate (отношение покупок к просмотрам товаров);\n",
    "- gmv (оборот, сумма произведений количества покупок на стоимость покупки), где считаем 1 сессию за 1 точку (1 сессия на 1 пользователя)."
   ]
  },
  {
   "cell_type": "code",
   "execution_count": 2,
   "metadata": {
    "ExecuteTime": {
     "end_time": "2023-09-05T04:42:57.997435300Z",
     "start_time": "2023-09-05T04:42:57.965438300Z"
    }
   },
   "outputs": [],
   "source": [
    "import pandas as pd\n",
    "import numpy as np"
   ]
  },
  {
   "cell_type": "code",
   "execution_count": 3,
   "metadata": {
    "ExecuteTime": {
     "end_time": "2023-09-05T04:43:00.957532600Z",
     "start_time": "2023-09-05T04:42:59.914512300Z"
    }
   },
   "outputs": [],
   "source": [
    "df_sample_a = pd.read_csv(\"sample_a.csv\")\n",
    "df_sample_b = pd.read_csv(\"sample_b.csv\")\n",
    "df_sample_c = pd.read_csv(\"sample_c.csv\")\n",
    "df_item_prices = pd.read_csv(\"item_prices.csv\")"
   ]
  },
  {
   "cell_type": "code",
   "execution_count": 4,
   "metadata": {
    "ExecuteTime": {
     "end_time": "2023-09-05T04:43:06.953198700Z",
     "start_time": "2023-09-05T04:43:06.907201600Z"
    }
   },
   "outputs": [
    {
     "data": {
      "text/html": [
       "<div>\n",
       "<style scoped>\n",
       "    .dataframe tbody tr th:only-of-type {\n",
       "        vertical-align: middle;\n",
       "    }\n",
       "\n",
       "    .dataframe tbody tr th {\n",
       "        vertical-align: top;\n",
       "    }\n",
       "\n",
       "    .dataframe thead th {\n",
       "        text-align: right;\n",
       "    }\n",
       "</style>\n",
       "<table border=\"1\" class=\"dataframe\">\n",
       "  <thead>\n",
       "    <tr style=\"text-align: right;\">\n",
       "      <th></th>\n",
       "      <th>item_id</th>\n",
       "      <th>item_price</th>\n",
       "    </tr>\n",
       "  </thead>\n",
       "  <tbody>\n",
       "    <tr>\n",
       "      <th>0</th>\n",
       "      <td>338</td>\n",
       "      <td>1501</td>\n",
       "    </tr>\n",
       "    <tr>\n",
       "      <th>1</th>\n",
       "      <td>74</td>\n",
       "      <td>647</td>\n",
       "    </tr>\n",
       "    <tr>\n",
       "      <th>2</th>\n",
       "      <td>7696</td>\n",
       "      <td>825</td>\n",
       "    </tr>\n",
       "    <tr>\n",
       "      <th>3</th>\n",
       "      <td>866</td>\n",
       "      <td>875</td>\n",
       "    </tr>\n",
       "    <tr>\n",
       "      <th>4</th>\n",
       "      <td>5876</td>\n",
       "      <td>804</td>\n",
       "    </tr>\n",
       "  </tbody>\n",
       "</table>\n",
       "</div>"
      ],
      "text/plain": [
       "   item_id  item_price\n",
       "0      338        1501\n",
       "1       74         647\n",
       "2     7696         825\n",
       "3      866         875\n",
       "4     5876         804"
      ]
     },
     "execution_count": 4,
     "metadata": {},
     "output_type": "execute_result"
    }
   ],
   "source": [
    "df_item_prices.head()"
   ]
  },
  {
   "cell_type": "code",
   "execution_count": 5,
   "metadata": {
    "ExecuteTime": {
     "end_time": "2023-09-05T04:43:22.536015500Z",
     "start_time": "2023-09-05T04:43:22.508008100Z"
    }
   },
   "outputs": [
    {
     "data": {
      "text/html": [
       "<div>\n",
       "<style scoped>\n",
       "    .dataframe tbody tr th:only-of-type {\n",
       "        vertical-align: middle;\n",
       "    }\n",
       "\n",
       "    .dataframe tbody tr th {\n",
       "        vertical-align: top;\n",
       "    }\n",
       "\n",
       "    .dataframe thead th {\n",
       "        text-align: right;\n",
       "    }\n",
       "</style>\n",
       "<table border=\"1\" class=\"dataframe\">\n",
       "  <thead>\n",
       "    <tr style=\"text-align: right;\">\n",
       "      <th></th>\n",
       "      <th>user_id</th>\n",
       "      <th>item_id</th>\n",
       "      <th>action_id</th>\n",
       "    </tr>\n",
       "  </thead>\n",
       "  <tbody>\n",
       "    <tr>\n",
       "      <th>0</th>\n",
       "      <td>84636</td>\n",
       "      <td>360</td>\n",
       "      <td>1</td>\n",
       "    </tr>\n",
       "    <tr>\n",
       "      <th>1</th>\n",
       "      <td>21217</td>\n",
       "      <td>9635</td>\n",
       "      <td>1</td>\n",
       "    </tr>\n",
       "    <tr>\n",
       "      <th>2</th>\n",
       "      <td>13445</td>\n",
       "      <td>8590</td>\n",
       "      <td>1</td>\n",
       "    </tr>\n",
       "    <tr>\n",
       "      <th>3</th>\n",
       "      <td>38450</td>\n",
       "      <td>5585</td>\n",
       "      <td>1</td>\n",
       "    </tr>\n",
       "    <tr>\n",
       "      <th>4</th>\n",
       "      <td>14160</td>\n",
       "      <td>2383</td>\n",
       "      <td>0</td>\n",
       "    </tr>\n",
       "  </tbody>\n",
       "</table>\n",
       "</div>"
      ],
      "text/plain": [
       "   user_id  item_id  action_id\n",
       "0    84636      360          1\n",
       "1    21217     9635          1\n",
       "2    13445     8590          1\n",
       "3    38450     5585          1\n",
       "4    14160     2383          0"
      ]
     },
     "execution_count": 5,
     "metadata": {},
     "output_type": "execute_result"
    }
   ],
   "source": [
    "df_sample_a.head()"
   ]
  },
  {
   "cell_type": "code",
   "execution_count": 6,
   "metadata": {
    "ExecuteTime": {
     "end_time": "2023-09-05T04:43:25.036762300Z",
     "start_time": "2023-09-05T04:43:25.014258Z"
    }
   },
   "outputs": [
    {
     "data": {
      "text/html": [
       "<div>\n",
       "<style scoped>\n",
       "    .dataframe tbody tr th:only-of-type {\n",
       "        vertical-align: middle;\n",
       "    }\n",
       "\n",
       "    .dataframe tbody tr th {\n",
       "        vertical-align: top;\n",
       "    }\n",
       "\n",
       "    .dataframe thead th {\n",
       "        text-align: right;\n",
       "    }\n",
       "</style>\n",
       "<table border=\"1\" class=\"dataframe\">\n",
       "  <thead>\n",
       "    <tr style=\"text-align: right;\">\n",
       "      <th></th>\n",
       "      <th>user_id</th>\n",
       "      <th>item_id</th>\n",
       "      <th>action_id</th>\n",
       "    </tr>\n",
       "  </thead>\n",
       "  <tbody>\n",
       "    <tr>\n",
       "      <th>0</th>\n",
       "      <td>118375</td>\n",
       "      <td>4105</td>\n",
       "      <td>1</td>\n",
       "    </tr>\n",
       "    <tr>\n",
       "      <th>1</th>\n",
       "      <td>107569</td>\n",
       "      <td>8204</td>\n",
       "      <td>1</td>\n",
       "    </tr>\n",
       "    <tr>\n",
       "      <th>2</th>\n",
       "      <td>175990</td>\n",
       "      <td>880</td>\n",
       "      <td>1</td>\n",
       "    </tr>\n",
       "    <tr>\n",
       "      <th>3</th>\n",
       "      <td>160582</td>\n",
       "      <td>9568</td>\n",
       "      <td>0</td>\n",
       "    </tr>\n",
       "    <tr>\n",
       "      <th>4</th>\n",
       "      <td>123400</td>\n",
       "      <td>4000</td>\n",
       "      <td>1</td>\n",
       "    </tr>\n",
       "  </tbody>\n",
       "</table>\n",
       "</div>"
      ],
      "text/plain": [
       "   user_id  item_id  action_id\n",
       "0   118375     4105          1\n",
       "1   107569     8204          1\n",
       "2   175990      880          1\n",
       "3   160582     9568          0\n",
       "4   123400     4000          1"
      ]
     },
     "execution_count": 6,
     "metadata": {},
     "output_type": "execute_result"
    }
   ],
   "source": [
    "df_sample_b.head()"
   ]
  },
  {
   "cell_type": "code",
   "execution_count": 7,
   "metadata": {
    "ExecuteTime": {
     "end_time": "2023-09-05T04:43:28.972654400Z",
     "start_time": "2023-09-05T04:43:28.949657Z"
    }
   },
   "outputs": [
    {
     "data": {
      "text/html": [
       "<div>\n",
       "<style scoped>\n",
       "    .dataframe tbody tr th:only-of-type {\n",
       "        vertical-align: middle;\n",
       "    }\n",
       "\n",
       "    .dataframe tbody tr th {\n",
       "        vertical-align: top;\n",
       "    }\n",
       "\n",
       "    .dataframe thead th {\n",
       "        text-align: right;\n",
       "    }\n",
       "</style>\n",
       "<table border=\"1\" class=\"dataframe\">\n",
       "  <thead>\n",
       "    <tr style=\"text-align: right;\">\n",
       "      <th></th>\n",
       "      <th>user_id</th>\n",
       "      <th>item_id</th>\n",
       "      <th>action_id</th>\n",
       "    </tr>\n",
       "  </thead>\n",
       "  <tbody>\n",
       "    <tr>\n",
       "      <th>0</th>\n",
       "      <td>274623</td>\n",
       "      <td>2863</td>\n",
       "      <td>1</td>\n",
       "    </tr>\n",
       "    <tr>\n",
       "      <th>1</th>\n",
       "      <td>265472</td>\n",
       "      <td>343</td>\n",
       "      <td>1</td>\n",
       "    </tr>\n",
       "    <tr>\n",
       "      <th>2</th>\n",
       "      <td>242779</td>\n",
       "      <td>6009</td>\n",
       "      <td>0</td>\n",
       "    </tr>\n",
       "    <tr>\n",
       "      <th>3</th>\n",
       "      <td>275009</td>\n",
       "      <td>2184</td>\n",
       "      <td>1</td>\n",
       "    </tr>\n",
       "    <tr>\n",
       "      <th>4</th>\n",
       "      <td>268104</td>\n",
       "      <td>3134</td>\n",
       "      <td>2</td>\n",
       "    </tr>\n",
       "  </tbody>\n",
       "</table>\n",
       "</div>"
      ],
      "text/plain": [
       "   user_id  item_id  action_id\n",
       "0   274623     2863          1\n",
       "1   265472      343          1\n",
       "2   242779     6009          0\n",
       "3   275009     2184          1\n",
       "4   268104     3134          2"
      ]
     },
     "execution_count": 7,
     "metadata": {},
     "output_type": "execute_result"
    }
   ],
   "source": [
    "df_sample_c.head()"
   ]
  },
  {
   "cell_type": "markdown",
   "metadata": {},
   "source": [
    "- ctr (отношение кликов к просмотрам товаров);\n",
    "- purchase rate (отношение покупок к просмотрам товаров);\n",
    "- gmv (оборот, сумма произведений количества покупок на стоимость покупки), где считаем 1 сессию за 1 точку (1 сессия на 1 пользователя)."
   ]
  },
  {
   "cell_type": "code",
   "execution_count": 8,
   "metadata": {
    "ExecuteTime": {
     "end_time": "2023-09-05T04:43:39.677863900Z",
     "start_time": "2023-09-05T04:43:39.655365300Z"
    }
   },
   "outputs": [],
   "source": [
    "# удалим дубликаты\n",
    "df_item_prices = df_item_prices.drop_duplicates(subset='item_id')"
   ]
  },
  {
   "cell_type": "code",
   "execution_count": 9,
   "metadata": {
    "ExecuteTime": {
     "end_time": "2023-09-05T04:43:42.385173400Z",
     "start_time": "2023-09-05T04:43:42.336168Z"
    }
   },
   "outputs": [
    {
     "name": "stdout",
     "output_type": "stream",
     "text": [
      "<class 'pandas.core.frame.DataFrame'>\n",
      "RangeIndex: 1188912 entries, 0 to 1188911\n",
      "Data columns (total 3 columns):\n",
      " #   Column     Non-Null Count    Dtype\n",
      "---  ------     --------------    -----\n",
      " 0   user_id    1188912 non-null  int64\n",
      " 1   item_id    1188912 non-null  int64\n",
      " 2   action_id  1188912 non-null  int64\n",
      "dtypes: int64(3)\n",
      "memory usage: 27.2 MB\n"
     ]
    }
   ],
   "source": [
    "df_sample_a.info()"
   ]
  },
  {
   "cell_type": "code",
   "execution_count": 10,
   "metadata": {
    "ExecuteTime": {
     "end_time": "2023-09-05T04:43:45.231567Z",
     "start_time": "2023-09-05T04:43:45.184564500Z"
    }
   },
   "outputs": [
    {
     "name": "stdout",
     "output_type": "stream",
     "text": [
      "<class 'pandas.core.frame.DataFrame'>\n",
      "RangeIndex: 1198438 entries, 0 to 1198437\n",
      "Data columns (total 3 columns):\n",
      " #   Column     Non-Null Count    Dtype\n",
      "---  ------     --------------    -----\n",
      " 0   user_id    1198438 non-null  int64\n",
      " 1   item_id    1198438 non-null  int64\n",
      " 2   action_id  1198438 non-null  int64\n",
      "dtypes: int64(3)\n",
      "memory usage: 27.4 MB\n"
     ]
    }
   ],
   "source": [
    "df_sample_b.info()"
   ]
  },
  {
   "cell_type": "code",
   "execution_count": 11,
   "metadata": {
    "ExecuteTime": {
     "end_time": "2023-09-05T04:43:48.418467500Z",
     "start_time": "2023-09-05T04:43:48.409467600Z"
    }
   },
   "outputs": [
    {
     "name": "stdout",
     "output_type": "stream",
     "text": [
      "<class 'pandas.core.frame.DataFrame'>\n",
      "RangeIndex: 1205510 entries, 0 to 1205509\n",
      "Data columns (total 3 columns):\n",
      " #   Column     Non-Null Count    Dtype\n",
      "---  ------     --------------    -----\n",
      " 0   user_id    1205510 non-null  int64\n",
      " 1   item_id    1205510 non-null  int64\n",
      " 2   action_id  1205510 non-null  int64\n",
      "dtypes: int64(3)\n",
      "memory usage: 27.6 MB\n"
     ]
    }
   ],
   "source": [
    "df_sample_c.info()"
   ]
  },
  {
   "cell_type": "code",
   "execution_count": 12,
   "metadata": {
    "ExecuteTime": {
     "end_time": "2023-09-05T04:43:58.325273900Z",
     "start_time": "2023-09-05T04:43:57.734184500Z"
    }
   },
   "outputs": [],
   "source": [
    "df_a = pd.merge(df_sample_a, df_item_prices, how='left', on='item_id')\n",
    "df_b = pd.merge(df_sample_b, df_item_prices, how='left', on='item_id')\n",
    "df_c = pd.merge(df_sample_c, df_item_prices, how='left', on='item_id')"
   ]
  },
  {
   "cell_type": "code",
   "execution_count": 13,
   "metadata": {
    "ExecuteTime": {
     "end_time": "2023-09-05T04:44:04.349050600Z",
     "start_time": "2023-09-05T04:44:04.318045800Z"
    }
   },
   "outputs": [
    {
     "name": "stdout",
     "output_type": "stream",
     "text": [
      "True True True\n"
     ]
    }
   ],
   "source": [
    "print(df_a.shape[0] == df_sample_a.shape[0],\n",
    "      df_b.shape[0] == df_sample_b.shape[0],\n",
    "      df_c.shape[0] == df_sample_c.shape[0])"
   ]
  },
  {
   "cell_type": "markdown",
   "metadata": {},
   "source": [
    "При слиянии мы не получили лишней информации в датасетах."
   ]
  },
  {
   "cell_type": "code",
   "execution_count": 77,
   "metadata": {
    "ExecuteTime": {
     "end_time": "2023-09-05T07:39:18.284329500Z",
     "start_time": "2023-09-05T07:39:18.274332200Z"
    }
   },
   "outputs": [
    {
     "data": {
      "text/html": [
       "<div>\n",
       "<style scoped>\n",
       "    .dataframe tbody tr th:only-of-type {\n",
       "        vertical-align: middle;\n",
       "    }\n",
       "\n",
       "    .dataframe tbody tr th {\n",
       "        vertical-align: top;\n",
       "    }\n",
       "\n",
       "    .dataframe thead th {\n",
       "        text-align: right;\n",
       "    }\n",
       "</style>\n",
       "<table border=\"1\" class=\"dataframe\">\n",
       "  <thead>\n",
       "    <tr style=\"text-align: right;\">\n",
       "      <th></th>\n",
       "      <th>user_id</th>\n",
       "      <th>item_id</th>\n",
       "      <th>action_id</th>\n",
       "      <th>item_price</th>\n",
       "    </tr>\n",
       "  </thead>\n",
       "  <tbody>\n",
       "    <tr>\n",
       "      <th>0</th>\n",
       "      <td>84636</td>\n",
       "      <td>360</td>\n",
       "      <td>1</td>\n",
       "      <td>1896</td>\n",
       "    </tr>\n",
       "    <tr>\n",
       "      <th>1</th>\n",
       "      <td>21217</td>\n",
       "      <td>9635</td>\n",
       "      <td>1</td>\n",
       "      <td>1699</td>\n",
       "    </tr>\n",
       "    <tr>\n",
       "      <th>2</th>\n",
       "      <td>13445</td>\n",
       "      <td>8590</td>\n",
       "      <td>1</td>\n",
       "      <td>846</td>\n",
       "    </tr>\n",
       "    <tr>\n",
       "      <th>3</th>\n",
       "      <td>38450</td>\n",
       "      <td>5585</td>\n",
       "      <td>1</td>\n",
       "      <td>1556</td>\n",
       "    </tr>\n",
       "    <tr>\n",
       "      <th>4</th>\n",
       "      <td>14160</td>\n",
       "      <td>2383</td>\n",
       "      <td>0</td>\n",
       "      <td>1956</td>\n",
       "    </tr>\n",
       "    <tr>\n",
       "      <th>...</th>\n",
       "      <td>...</td>\n",
       "      <td>...</td>\n",
       "      <td>...</td>\n",
       "      <td>...</td>\n",
       "    </tr>\n",
       "    <tr>\n",
       "      <th>1188907</th>\n",
       "      <td>22999</td>\n",
       "      <td>2401</td>\n",
       "      <td>1</td>\n",
       "      <td>1670</td>\n",
       "    </tr>\n",
       "    <tr>\n",
       "      <th>1188908</th>\n",
       "      <td>23700</td>\n",
       "      <td>4654</td>\n",
       "      <td>0</td>\n",
       "      <td>1080</td>\n",
       "    </tr>\n",
       "    <tr>\n",
       "      <th>1188909</th>\n",
       "      <td>18842</td>\n",
       "      <td>3707</td>\n",
       "      <td>1</td>\n",
       "      <td>656</td>\n",
       "    </tr>\n",
       "    <tr>\n",
       "      <th>1188910</th>\n",
       "      <td>32732</td>\n",
       "      <td>9198</td>\n",
       "      <td>1</td>\n",
       "      <td>1307</td>\n",
       "    </tr>\n",
       "    <tr>\n",
       "      <th>1188911</th>\n",
       "      <td>89340</td>\n",
       "      <td>1132</td>\n",
       "      <td>1</td>\n",
       "      <td>1666</td>\n",
       "    </tr>\n",
       "  </tbody>\n",
       "</table>\n",
       "<p>1188912 rows × 4 columns</p>\n",
       "</div>"
      ],
      "text/plain": [
       "         user_id  item_id  action_id  item_price\n",
       "0          84636      360          1        1896\n",
       "1          21217     9635          1        1699\n",
       "2          13445     8590          1         846\n",
       "3          38450     5585          1        1556\n",
       "4          14160     2383          0        1956\n",
       "...          ...      ...        ...         ...\n",
       "1188907    22999     2401          1        1670\n",
       "1188908    23700     4654          0        1080\n",
       "1188909    18842     3707          1         656\n",
       "1188910    32732     9198          1        1307\n",
       "1188911    89340     1132          1        1666\n",
       "\n",
       "[1188912 rows x 4 columns]"
      ]
     },
     "execution_count": 77,
     "metadata": {},
     "output_type": "execute_result"
    }
   ],
   "source": [
    "df_a"
   ]
  },
  {
   "cell_type": "code",
   "execution_count": 78,
   "metadata": {
    "ExecuteTime": {
     "end_time": "2023-09-05T07:39:21.494765700Z",
     "start_time": "2023-09-05T07:39:21.485769900Z"
    }
   },
   "outputs": [],
   "source": [
    "def df_group(dfr):\n",
    "    df_count = dfr.groupby(['user_id', 'action_id']).agg('count').drop(columns=['item_id']).reset_index()\n",
    "    df_sum = dfr.groupby(['user_id', 'action_id']).agg('sum').drop(columns=['item_id']).reset_index()\n",
    "    df = pd.merge(df_count, df_sum, on=['user_id', 'action_id'])\n",
    "    return df"
   ]
  },
  {
   "cell_type": "code",
   "execution_count": 92,
   "metadata": {
    "ExecuteTime": {
     "end_time": "2023-09-05T07:54:05.303261900Z",
     "start_time": "2023-09-05T07:54:05.286228900Z"
    }
   },
   "outputs": [],
   "source": [
    "# метрики\n",
    "# ctr - отношение кликов к просмотрам товаров\n",
    "# purchase rate - отношение покупок к просмотрам товаров\n",
    "# gmv - оборот, сумма произведений количества покупок на стоимость покупки,\n",
    "#      где считаем 1 сессию за 1 точку (1 сессия на 1 пользователя)\n",
    "# action_id - 0 — клик, 1 — просмотр и 2 — покупка\n",
    "\n",
    "# ctr\n",
    "def ctr(dframe, frame_id):\n",
    "    a = dframe[(dframe['action_id'] == 0) & (dframe['user_id'] == frame_id)]['item_price_x']\n",
    "    b = dframe[(dframe['action_id'] == 1) & (dframe['user_id'] == frame_id)]['item_price_x']\n",
    "    return float(a)/float(b)\n",
    "\n",
    "# purchase_rate\n",
    "def purchase_rate(dframe, frame_id):\n",
    "    a = dframe[(dframe['action_id'] == 2) & (dframe['user_id'] == frame_id)]['item_price_x']\n",
    "    b = dframe[(dframe['action_id'] == 1) & (dframe['user_id'] == frame_id)]['item_price_x']\n",
    "    return float(a)/float(b)\n",
    "\n",
    "# gmv\n",
    "def gvm(dframe, frame_id):\n",
    "    a = dframe[(dframe['action_id'] == 2) & (dframe['user_id'] == frame_id)]['item_price_y']\n",
    "    return float(a)\n"
   ]
  },
  {
   "cell_type": "code",
   "execution_count": 93,
   "metadata": {
    "ExecuteTime": {
     "end_time": "2023-09-05T07:54:07.918403500Z",
     "start_time": "2023-09-05T07:54:07.912884800Z"
    }
   },
   "outputs": [],
   "source": [
    "def frame_formation(df):\n",
    "    dframe = df_group(df).copy()\n",
    "    df_temp = dframe.copy()\n",
    "    df_temp = df_temp.drop(columns=['action_id', 'item_price_x', 'item_price_y']).drop_duplicates()\n",
    "    #'ctr', 'purchase_rate', 'gmv'\n",
    "    df_temp['ctr'] = df_temp['user_id'].apply(lambda d: ctr(dframe, d))\n",
    "    df_temp['purchase_rate'] = df_temp['user_id'].apply(lambda d: purchase_rate(dframe, d))\n",
    "    df_temp['gvm'] = df_temp['user_id'].apply(lambda d: gvm(dframe, d))\n",
    "\n",
    "    return df_temp"
   ]
  },
  {
   "cell_type": "code",
   "execution_count": 94,
   "metadata": {
    "ExecuteTime": {
     "end_time": "2023-09-05T07:54:29.071847400Z",
     "start_time": "2023-09-05T07:54:25.456405Z"
    }
   },
   "outputs": [
    {
     "data": {
      "text/html": [
       "<div>\n",
       "<style scoped>\n",
       "    .dataframe tbody tr th:only-of-type {\n",
       "        vertical-align: middle;\n",
       "    }\n",
       "\n",
       "    .dataframe tbody tr th {\n",
       "        vertical-align: top;\n",
       "    }\n",
       "\n",
       "    .dataframe thead th {\n",
       "        text-align: right;\n",
       "    }\n",
       "</style>\n",
       "<table border=\"1\" class=\"dataframe\">\n",
       "  <thead>\n",
       "    <tr style=\"text-align: right;\">\n",
       "      <th></th>\n",
       "      <th>user_id</th>\n",
       "      <th>ctr</th>\n",
       "      <th>purchase_rate</th>\n",
       "      <th>gvm</th>\n",
       "    </tr>\n",
       "  </thead>\n",
       "  <tbody>\n",
       "    <tr>\n",
       "      <th>0</th>\n",
       "      <td>241</td>\n",
       "      <td>0.187435</td>\n",
       "      <td>0.049215</td>\n",
       "      <td>47535.0</td>\n",
       "    </tr>\n",
       "    <tr>\n",
       "      <th>3</th>\n",
       "      <td>253</td>\n",
       "      <td>0.201047</td>\n",
       "      <td>0.038743</td>\n",
       "      <td>38676.0</td>\n",
       "    </tr>\n",
       "    <tr>\n",
       "      <th>6</th>\n",
       "      <td>362</td>\n",
       "      <td>0.186387</td>\n",
       "      <td>0.052356</td>\n",
       "      <td>58777.0</td>\n",
       "    </tr>\n",
       "    <tr>\n",
       "      <th>9</th>\n",
       "      <td>378</td>\n",
       "      <td>0.204188</td>\n",
       "      <td>0.053403</td>\n",
       "      <td>58152.0</td>\n",
       "    </tr>\n",
       "    <tr>\n",
       "      <th>12</th>\n",
       "      <td>475</td>\n",
       "      <td>0.206283</td>\n",
       "      <td>0.052356</td>\n",
       "      <td>48755.0</td>\n",
       "    </tr>\n",
       "    <tr>\n",
       "      <th>...</th>\n",
       "      <td>...</td>\n",
       "      <td>...</td>\n",
       "      <td>...</td>\n",
       "      <td>...</td>\n",
       "    </tr>\n",
       "    <tr>\n",
       "      <th>2973</th>\n",
       "      <td>99401</td>\n",
       "      <td>0.217801</td>\n",
       "      <td>0.040838</td>\n",
       "      <td>37264.0</td>\n",
       "    </tr>\n",
       "    <tr>\n",
       "      <th>2976</th>\n",
       "      <td>99543</td>\n",
       "      <td>0.186387</td>\n",
       "      <td>0.045026</td>\n",
       "      <td>49071.0</td>\n",
       "    </tr>\n",
       "    <tr>\n",
       "      <th>2979</th>\n",
       "      <td>99555</td>\n",
       "      <td>0.205236</td>\n",
       "      <td>0.063874</td>\n",
       "      <td>62560.0</td>\n",
       "    </tr>\n",
       "    <tr>\n",
       "      <th>2982</th>\n",
       "      <td>99868</td>\n",
       "      <td>0.214660</td>\n",
       "      <td>0.049215</td>\n",
       "      <td>46243.0</td>\n",
       "    </tr>\n",
       "    <tr>\n",
       "      <th>2985</th>\n",
       "      <td>99880</td>\n",
       "      <td>0.181152</td>\n",
       "      <td>0.049215</td>\n",
       "      <td>49747.0</td>\n",
       "    </tr>\n",
       "  </tbody>\n",
       "</table>\n",
       "<p>996 rows × 4 columns</p>\n",
       "</div>"
      ],
      "text/plain": [
       "      user_id       ctr  purchase_rate      gvm\n",
       "0         241  0.187435       0.049215  47535.0\n",
       "3         253  0.201047       0.038743  38676.0\n",
       "6         362  0.186387       0.052356  58777.0\n",
       "9         378  0.204188       0.053403  58152.0\n",
       "12        475  0.206283       0.052356  48755.0\n",
       "...       ...       ...            ...      ...\n",
       "2973    99401  0.217801       0.040838  37264.0\n",
       "2976    99543  0.186387       0.045026  49071.0\n",
       "2979    99555  0.205236       0.063874  62560.0\n",
       "2982    99868  0.214660       0.049215  46243.0\n",
       "2985    99880  0.181152       0.049215  49747.0\n",
       "\n",
       "[996 rows x 4 columns]"
      ]
     },
     "execution_count": 94,
     "metadata": {},
     "output_type": "execute_result"
    }
   ],
   "source": [
    "# sample_a, sample_c — АА-группы, sample_b — отдельная группа\n",
    "# sample_a\n",
    "frame_a = frame_formation(df_a).copy()\n",
    "frame_a"
   ]
  },
  {
   "cell_type": "code",
   "execution_count": 95,
   "metadata": {
    "ExecuteTime": {
     "end_time": "2023-09-05T07:54:59.361011300Z",
     "start_time": "2023-09-05T07:54:55.817111Z"
    }
   },
   "outputs": [
    {
     "data": {
      "text/html": [
       "<div>\n",
       "<style scoped>\n",
       "    .dataframe tbody tr th:only-of-type {\n",
       "        vertical-align: middle;\n",
       "    }\n",
       "\n",
       "    .dataframe tbody tr th {\n",
       "        vertical-align: top;\n",
       "    }\n",
       "\n",
       "    .dataframe thead th {\n",
       "        text-align: right;\n",
       "    }\n",
       "</style>\n",
       "<table border=\"1\" class=\"dataframe\">\n",
       "  <thead>\n",
       "    <tr style=\"text-align: right;\">\n",
       "      <th></th>\n",
       "      <th>user_id</th>\n",
       "      <th>ctr</th>\n",
       "      <th>purchase_rate</th>\n",
       "      <th>gvm</th>\n",
       "    </tr>\n",
       "  </thead>\n",
       "  <tbody>\n",
       "    <tr>\n",
       "      <th>0</th>\n",
       "      <td>100038</td>\n",
       "      <td>0.174869</td>\n",
       "      <td>0.104712</td>\n",
       "      <td>103885.0</td>\n",
       "    </tr>\n",
       "    <tr>\n",
       "      <th>3</th>\n",
       "      <td>100099</td>\n",
       "      <td>0.168586</td>\n",
       "      <td>0.124607</td>\n",
       "      <td>127765.0</td>\n",
       "    </tr>\n",
       "    <tr>\n",
       "      <th>6</th>\n",
       "      <td>100164</td>\n",
       "      <td>0.146597</td>\n",
       "      <td>0.102618</td>\n",
       "      <td>99289.0</td>\n",
       "    </tr>\n",
       "    <tr>\n",
       "      <th>9</th>\n",
       "      <td>100321</td>\n",
       "      <td>0.188482</td>\n",
       "      <td>0.100524</td>\n",
       "      <td>101600.0</td>\n",
       "    </tr>\n",
       "    <tr>\n",
       "      <th>12</th>\n",
       "      <td>100397</td>\n",
       "      <td>0.160209</td>\n",
       "      <td>0.084817</td>\n",
       "      <td>89647.0</td>\n",
       "    </tr>\n",
       "    <tr>\n",
       "      <th>...</th>\n",
       "      <td>...</td>\n",
       "      <td>...</td>\n",
       "      <td>...</td>\n",
       "      <td>...</td>\n",
       "    </tr>\n",
       "    <tr>\n",
       "      <th>2973</th>\n",
       "      <td>199692</td>\n",
       "      <td>0.158115</td>\n",
       "      <td>0.098429</td>\n",
       "      <td>104024.0</td>\n",
       "    </tr>\n",
       "    <tr>\n",
       "      <th>2976</th>\n",
       "      <td>199772</td>\n",
       "      <td>0.149738</td>\n",
       "      <td>0.099476</td>\n",
       "      <td>99353.0</td>\n",
       "    </tr>\n",
       "    <tr>\n",
       "      <th>2979</th>\n",
       "      <td>199784</td>\n",
       "      <td>0.154974</td>\n",
       "      <td>0.096335</td>\n",
       "      <td>99715.0</td>\n",
       "    </tr>\n",
       "    <tr>\n",
       "      <th>2982</th>\n",
       "      <td>199868</td>\n",
       "      <td>0.166492</td>\n",
       "      <td>0.107853</td>\n",
       "      <td>109572.0</td>\n",
       "    </tr>\n",
       "    <tr>\n",
       "      <th>2985</th>\n",
       "      <td>199966</td>\n",
       "      <td>0.149738</td>\n",
       "      <td>0.107853</td>\n",
       "      <td>121796.0</td>\n",
       "    </tr>\n",
       "  </tbody>\n",
       "</table>\n",
       "<p>996 rows × 4 columns</p>\n",
       "</div>"
      ],
      "text/plain": [
       "      user_id       ctr  purchase_rate       gvm\n",
       "0      100038  0.174869       0.104712  103885.0\n",
       "3      100099  0.168586       0.124607  127765.0\n",
       "6      100164  0.146597       0.102618   99289.0\n",
       "9      100321  0.188482       0.100524  101600.0\n",
       "12     100397  0.160209       0.084817   89647.0\n",
       "...       ...       ...            ...       ...\n",
       "2973   199692  0.158115       0.098429  104024.0\n",
       "2976   199772  0.149738       0.099476   99353.0\n",
       "2979   199784  0.154974       0.096335   99715.0\n",
       "2982   199868  0.166492       0.107853  109572.0\n",
       "2985   199966  0.149738       0.107853  121796.0\n",
       "\n",
       "[996 rows x 4 columns]"
      ]
     },
     "execution_count": 95,
     "metadata": {},
     "output_type": "execute_result"
    }
   ],
   "source": [
    "# sample_b\n",
    "frame_b = frame_formation(df_b).copy()\n",
    "frame_b"
   ]
  },
  {
   "cell_type": "code",
   "execution_count": 96,
   "metadata": {
    "ExecuteTime": {
     "end_time": "2023-09-05T07:55:18.763577500Z",
     "start_time": "2023-09-05T07:55:15.256123300Z"
    }
   },
   "outputs": [
    {
     "data": {
      "text/html": [
       "<div>\n",
       "<style scoped>\n",
       "    .dataframe tbody tr th:only-of-type {\n",
       "        vertical-align: middle;\n",
       "    }\n",
       "\n",
       "    .dataframe tbody tr th {\n",
       "        vertical-align: top;\n",
       "    }\n",
       "\n",
       "    .dataframe thead th {\n",
       "        text-align: right;\n",
       "    }\n",
       "</style>\n",
       "<table border=\"1\" class=\"dataframe\">\n",
       "  <thead>\n",
       "    <tr style=\"text-align: right;\">\n",
       "      <th></th>\n",
       "      <th>user_id</th>\n",
       "      <th>ctr</th>\n",
       "      <th>purchase_rate</th>\n",
       "      <th>gvm</th>\n",
       "    </tr>\n",
       "  </thead>\n",
       "  <tbody>\n",
       "    <tr>\n",
       "      <th>0</th>\n",
       "      <td>200225</td>\n",
       "      <td>0.205236</td>\n",
       "      <td>0.051309</td>\n",
       "      <td>49422.0</td>\n",
       "    </tr>\n",
       "    <tr>\n",
       "      <th>3</th>\n",
       "      <td>200278</td>\n",
       "      <td>0.212565</td>\n",
       "      <td>0.060733</td>\n",
       "      <td>55723.0</td>\n",
       "    </tr>\n",
       "    <tr>\n",
       "      <th>6</th>\n",
       "      <td>200282</td>\n",
       "      <td>0.218848</td>\n",
       "      <td>0.073298</td>\n",
       "      <td>82213.0</td>\n",
       "    </tr>\n",
       "    <tr>\n",
       "      <th>9</th>\n",
       "      <td>200325</td>\n",
       "      <td>0.193717</td>\n",
       "      <td>0.046073</td>\n",
       "      <td>47793.0</td>\n",
       "    </tr>\n",
       "    <tr>\n",
       "      <th>12</th>\n",
       "      <td>200441</td>\n",
       "      <td>0.211740</td>\n",
       "      <td>0.051363</td>\n",
       "      <td>51515.0</td>\n",
       "    </tr>\n",
       "    <tr>\n",
       "      <th>...</th>\n",
       "      <td>...</td>\n",
       "      <td>...</td>\n",
       "      <td>...</td>\n",
       "      <td>...</td>\n",
       "    </tr>\n",
       "    <tr>\n",
       "      <th>2967</th>\n",
       "      <td>299616</td>\n",
       "      <td>0.218848</td>\n",
       "      <td>0.056545</td>\n",
       "      <td>55344.0</td>\n",
       "    </tr>\n",
       "    <tr>\n",
       "      <th>2970</th>\n",
       "      <td>299648</td>\n",
       "      <td>0.214660</td>\n",
       "      <td>0.054450</td>\n",
       "      <td>52205.0</td>\n",
       "    </tr>\n",
       "    <tr>\n",
       "      <th>2973</th>\n",
       "      <td>299650</td>\n",
       "      <td>0.198953</td>\n",
       "      <td>0.056545</td>\n",
       "      <td>57714.0</td>\n",
       "    </tr>\n",
       "    <tr>\n",
       "      <th>2976</th>\n",
       "      <td>299672</td>\n",
       "      <td>0.209424</td>\n",
       "      <td>0.052356</td>\n",
       "      <td>58186.0</td>\n",
       "    </tr>\n",
       "    <tr>\n",
       "      <th>2979</th>\n",
       "      <td>299828</td>\n",
       "      <td>0.217801</td>\n",
       "      <td>0.061780</td>\n",
       "      <td>64133.0</td>\n",
       "    </tr>\n",
       "  </tbody>\n",
       "</table>\n",
       "<p>994 rows × 4 columns</p>\n",
       "</div>"
      ],
      "text/plain": [
       "      user_id       ctr  purchase_rate      gvm\n",
       "0      200225  0.205236       0.051309  49422.0\n",
       "3      200278  0.212565       0.060733  55723.0\n",
       "6      200282  0.218848       0.073298  82213.0\n",
       "9      200325  0.193717       0.046073  47793.0\n",
       "12     200441  0.211740       0.051363  51515.0\n",
       "...       ...       ...            ...      ...\n",
       "2967   299616  0.218848       0.056545  55344.0\n",
       "2970   299648  0.214660       0.054450  52205.0\n",
       "2973   299650  0.198953       0.056545  57714.0\n",
       "2976   299672  0.209424       0.052356  58186.0\n",
       "2979   299828  0.217801       0.061780  64133.0\n",
       "\n",
       "[994 rows x 4 columns]"
      ]
     },
     "execution_count": 96,
     "metadata": {},
     "output_type": "execute_result"
    }
   ],
   "source": [
    "# sample_c\n",
    "frame_c = frame_formation(df_c).copy()\n",
    "frame_c\n"
   ]
  },
  {
   "cell_type": "code",
   "execution_count": 106,
   "metadata": {
    "ExecuteTime": {
     "end_time": "2023-09-05T08:02:16.091755300Z",
     "start_time": "2023-09-05T08:02:16.081760500Z"
    }
   },
   "outputs": [],
   "source": [
    "from scipy.stats import shapiro"
   ]
  },
  {
   "cell_type": "code",
   "execution_count": 103,
   "metadata": {
    "ExecuteTime": {
     "end_time": "2023-09-05T08:00:19.229060Z",
     "start_time": "2023-09-05T08:00:18.879897200Z"
    }
   },
   "outputs": [
    {
     "data": {
      "text/plain": [
       "array([[<matplotlib.axes._subplots.AxesSubplot object at 0x000001A44B862A30>,\n",
       "        <matplotlib.axes._subplots.AxesSubplot object at 0x000001A44BA13E20>],\n",
       "       [<matplotlib.axes._subplots.AxesSubplot object at 0x000001A44B886580>,\n",
       "        <matplotlib.axes._subplots.AxesSubplot object at 0x000001A44B8B0D00>]],\n",
       "      dtype=object)"
      ]
     },
     "execution_count": 103,
     "metadata": {},
     "output_type": "execute_result"
    },
    {
     "data": {
      "image/png": "[encoded data removed]",
      "text/plain": [
       "<Figure size 640x480 with 4 Axes>"
      ]
     },
     "metadata": {},
     "output_type": "display_data"
    }
   ],
   "source": [
    "frame_a.drop(columns='user_id').hist(bins=15)"
   ]
  },
  {
   "cell_type": "code",
   "execution_count": 107,
   "metadata": {
    "ExecuteTime": {
     "end_time": "2023-09-05T08:02:35.584014200Z",
     "start_time": "2023-09-05T08:02:35.557831200Z"
    }
   },
   "outputs": [
    {
     "data": {
      "text/plain": [
       "ShapiroResult(statistic=0.6621644496917725, pvalue=0.0)"
      ]
     },
     "execution_count": 107,
     "metadata": {},
     "output_type": "execute_result"
    }
   ],
   "source": [
    "shapiro(frame_a.drop(columns='user_id'))"
   ]
  },
  {
   "cell_type": "code",
   "execution_count": 104,
   "metadata": {
    "ExecuteTime": {
     "end_time": "2023-09-05T08:00:30.594043500Z",
     "start_time": "2023-09-05T08:00:30.248163Z"
    }
   },
   "outputs": [
    {
     "data": {
      "text/plain": [
       "array([[<matplotlib.axes._subplots.AxesSubplot object at 0x000001A44B902AF0>,\n",
       "        <matplotlib.axes._subplots.AxesSubplot object at 0x000001A44B9AE9A0>],\n",
       "       [<matplotlib.axes._subplots.AxesSubplot object at 0x000001A44BA885B0>,\n",
       "        <matplotlib.axes._subplots.AxesSubplot object at 0x000001A44BAAED00>]],\n",
       "      dtype=object)"
      ]
     },
     "execution_count": 104,
     "metadata": {},
     "output_type": "execute_result"
    },
    {
     "data": {
      "image/png": "[encoded data removed]",
      "text/plain": [
       "<Figure size 640x480 with 4 Axes>"
      ]
     },
     "metadata": {},
     "output_type": "display_data"
    }
   ],
   "source": [
    "frame_b.drop(columns='user_id').hist(bins=15)"
   ]
  },
  {
   "cell_type": "code",
   "execution_count": 108,
   "metadata": {
    "ExecuteTime": {
     "end_time": "2023-09-05T08:02:51.641544500Z",
     "start_time": "2023-09-05T08:02:51.632543900Z"
    }
   },
   "outputs": [
    {
     "data": {
      "text/plain": [
       "ShapiroResult(statistic=0.6456704139709473, pvalue=0.0)"
      ]
     },
     "execution_count": 108,
     "metadata": {},
     "output_type": "execute_result"
    }
   ],
   "source": [
    "shapiro(frame_b.drop(columns='user_id'))"
   ]
  },
  {
   "cell_type": "code",
   "execution_count": 105,
   "metadata": {
    "ExecuteTime": {
     "end_time": "2023-09-05T08:00:38.671180100Z",
     "start_time": "2023-09-05T08:00:38.315333Z"
    }
   },
   "outputs": [
    {
     "data": {
      "text/plain": [
       "array([[<matplotlib.axes._subplots.AxesSubplot object at 0x000001A44BCE8D60>,\n",
       "        <matplotlib.axes._subplots.AxesSubplot object at 0x000001A44BCD2EB0>],\n",
       "       [<matplotlib.axes._subplots.AxesSubplot object at 0x000001A44BBBF910>,\n",
       "        <matplotlib.axes._subplots.AxesSubplot object at 0x000001A44BBF5040>]],\n",
       "      dtype=object)"
      ]
     },
     "execution_count": 105,
     "metadata": {},
     "output_type": "execute_result"
    },
    {
     "data": {
      "image/png": "[encoded data removed]",
      "text/plain": [
       "<Figure size 640x480 with 4 Axes>"
      ]
     },
     "metadata": {},
     "output_type": "display_data"
    }
   ],
   "source": [
    "frame_c.drop(columns='user_id').hist(bins=15)"
   ]
  },
  {
   "cell_type": "code",
   "execution_count": 175,
   "metadata": {
    "ExecuteTime": {
     "end_time": "2023-09-05T08:29:30.919951Z",
     "start_time": "2023-09-05T08:29:30.909950800Z"
    }
   },
   "outputs": [
    {
     "data": {
      "text/plain": [
       "ShapiroResult(statistic=0.658390998840332, pvalue=0.0)"
      ]
     },
     "execution_count": 175,
     "metadata": {},
     "output_type": "execute_result"
    }
   ],
   "source": [
    "shapiro(frame_c.drop(columns='user_id'))"
   ]
  },
  {
   "cell_type": "markdown",
   "metadata": {},
   "source": [
    "Во всех трех датасетах данные распределены нормально."
   ]
  },
  {
   "cell_type": "code",
   "execution_count": 97,
   "metadata": {
    "ExecuteTime": {
     "end_time": "2023-09-05T07:55:41.816260100Z",
     "start_time": "2023-09-05T07:55:41.808263400Z"
    }
   },
   "outputs": [
    {
     "data": {
      "text/plain": [
       "ShapiroResult(statistic=0.6621644496917725, pvalue=0.0)"
      ]
     },
     "execution_count": 97,
     "metadata": {},
     "output_type": "execute_result"
    }
   ],
   "source": [
    "shapiro(frame_a.drop(columns='user_id'))\n"
   ]
  },
  {
   "cell_type": "code",
   "execution_count": 178,
   "metadata": {
    "ExecuteTime": {
     "end_time": "2023-09-05T08:31:57.000219400Z",
     "start_time": "2023-09-05T08:31:56.994189800Z"
    }
   },
   "outputs": [],
   "source": [
    "from statsmodels.stats.weightstats import ztest"
   ]
  },
  {
   "cell_type": "code",
   "execution_count": 179,
   "metadata": {
    "ExecuteTime": {
     "end_time": "2023-09-05T08:31:58.250963400Z",
     "start_time": "2023-09-05T08:31:58.247965Z"
    }
   },
   "outputs": [
    {
     "name": "stdout",
     "output_type": "stream",
     "text": [
      "ctr: 3.905151645295016e-68\n",
      "purchase_rate 1.3184284660385294e-197\n",
      "gvm 7.723147571325108e-153\n"
     ]
    }
   ],
   "source": [
    "statistic, p_value = ztest(frame_a['ctr'], frame_c['ctr'])\n",
    "print('ctr:', float(p_value))\n",
    "\n",
    "statistic, p_value = ztest(frame_a['purchase_rate'], frame_c['purchase_rate'])\n",
    "print('purchase_rate', float(p_value))\n",
    "\n",
    "statistic, p_value = ztest(frame_a['gvm'], frame_c['gvm'])\n",
    "print('gvm', float(p_value))"
   ]
  },
  {
   "cell_type": "code",
   "execution_count": 180,
   "metadata": {
    "ExecuteTime": {
     "end_time": "2023-09-05T08:32:01.248017900Z",
     "start_time": "2023-09-05T08:32:01.240020Z"
    }
   },
   "outputs": [
    {
     "name": "stdout",
     "output_type": "stream",
     "text": [
      "ctr: 0.0\n",
      "purchase_rate 0.0\n",
      "gvm 0.0\n"
     ]
    }
   ],
   "source": [
    "statistic, p_value = ztest(frame_a['ctr'], frame_b['ctr'])\n",
    "print('ctr:', float(p_value))\n",
    "\n",
    "statistic, p_value = ztest(frame_a['purchase_rate'], frame_b['purchase_rate'])\n",
    "print('purchase_rate', float(p_value))\n",
    "\n",
    "statistic, p_value = ztest(frame_a['gvm'], frame_b['gvm'])\n",
    "print('gvm', float(p_value))"
   ]
  },
  {
   "cell_type": "markdown",
   "metadata": {},
   "source": [
    " Исходя из представленных данных, алгоритм B улучшает работу маркетплейса."
   ]
  },
  {
   "cell_type": "code",
   "execution_count": null,
   "metadata": {},
   "outputs": [],
   "source": []
  }
 ],
 "metadata": {
  "kernelspec": {
   "display_name": "Python 3 (ipykernel)",
   "language": "python",
   "name": "python3"
  },
  "language_info": {
   "codemirror_mode": {
    "name": "ipython",
    "version": 3
   },
   "file_extension": ".py",
   "mimetype": "text/x-python",
   "name": "python",
   "nbconvert_exporter": "python",
   "pygments_lexer": "ipython3",
   "version": "3.10.9"
  }
 },
 "nbformat": 4,
 "nbformat_minor": 2
}
