{
 "cells": [
  {
   "cell_type": "code",
   "execution_count": 4,
   "metadata": {},
   "outputs": [],
   "source": [
    "from selenium import webdriver\n",
    "from selenium.webdriver.chrome.service import Service as ChromeService\n",
    "from selenium.webdriver.common.keys import Keys\n",
    "from selenium.webdriver.common.by import By\n",
    "\n",
    "import re\n",
    "import time\n",
    "\n",
    "from selenium.webdriver.support.ui import WebDriverWait\n",
    "from selenium.webdriver.support import expected_conditions as EC\n",
    "\n",
    "driver_path = \"./chromedriver/chromedriver.exe\""
   ]
  },
  {
   "cell_type": "code",
   "execution_count": 5,
   "metadata": {},
   "outputs": [],
   "source": [
    "def run(driver_path):\n",
    "    driver = webdriver.Chrome(service=ChromeService(executable_path=driver_path))\n",
    "    driver.get(\"https://tproger.ru/quiz/real-programmer\")\n",
    "    \n",
    "    time.sleep(5)\n",
    "    \n",
    "    for i in range(1):\n",
    "        \n",
    "        try:\n",
    "            #получить вопрос\n",
    "            question = driver.find_element(by=By.CLASS_NAME, value=\"tp-quiz-question__text\")\n",
    "            print(i+1, '. ', question.text)\n",
    "                \n",
    "            #нажать на один из вариантов ответа\n",
    "            button = WebDriverWait(driver, 5).until(EC.element_to_be_clickable((By.CLASS_NAME, \"tp-answer__radio\")))\n",
    "            button.click()\n",
    "            \n",
    "            time.sleep(2)\n",
    "                \n",
    "            #получить все ответы\n",
    "            answers = driver.find_elements(by=By.XPATH, value='//*[@id=\"quiz-app\"]/div/div/div/div[3]/ul')\n",
    "                \n",
    "            for i in answers:\n",
    "                if i.text:\n",
    "                    answer = i.text\n",
    "                    answer = re.sub('\\d{,3}%', '', answer)\n",
    "                    print(answer)\n",
    "                \n",
    "            time.sleep(2)\n",
    "            \n",
    "            #получить правильный ответ\n",
    "            print('-------------------')\n",
    "            right_answer = driver.switch_to.frame(driver.find_element(By.CLASS_NAME, 'tp-quiz__answer tp-answer tp-answer--checked tp-answer--result-true tp-answer--disabled'))\n",
    "            print('right answer is ', right_answer.text)\n",
    "                \n",
    "                \n",
    "            #перейти к следующему вопросу\n",
    "            next_button = WebDriverWait(driver, 5).until(EC.element_to_be_clickable((By.XPATH, \"//button[@class='tp-button tp-button--primary tp-button--medium tp-button--direction-right']\")))\n",
    "            next_button.click()\n",
    "        except Exception as e:\n",
    "            print(e)\n",
    "            \n",
    "    driver.close()\n",
    "    driver.quit"
   ]
  },
  {
   "cell_type": "code",
   "execution_count": 6,
   "metadata": {},
   "outputs": [
    {
     "name": "stdout",
     "output_type": "stream",
     "text": [
      "1 .  Начнём с простого. Какую первую программу обычно пишут программисты?\n",
      "Hello world\n",
      "\n",
      "Сортировку «пузырьком»\n",
      "\n",
      "Для взлома аккаунта «ВКонтакте». Такая программа есть у каждого программиста\n",
      "\n",
      "Это вопрос с подвохом. Начинают они с починки утюгов, программы тут не при чём.\n",
      "\n",
      "-------------------\n",
      "Message: no such element: Unable to locate element: {\"method\":\"css selector\",\"selector\":\".tp-quiz__answer tp-answer tp-answer--checked tp-answer--result-true tp-answer--disabled\"}\n",
      "  (Session info: chrome=119.0.6045.160); For documentation on this error, please visit: https://www.selenium.dev/documentation/webdriver/troubleshooting/errors#no-such-element-exception\n",
      "Stacktrace:\n",
      "\tGetHandleVerifier [0x007372A3+45731]\n",
      "\t(No symbol) [0x006C2D51]\n",
      "\t(No symbol) [0x005B880D]\n",
      "\t(No symbol) [0x005EB940]\n",
      "\t(No symbol) [0x005EBE0B]\n",
      "\t(No symbol) [0x0061D1F2]\n",
      "\t(No symbol) [0x00608024]\n",
      "\t(No symbol) [0x0061B7A2]\n",
      "\t(No symbol) [0x00607DD6]\n",
      "\t(No symbol) [0x005E31F6]\n",
      "\t(No symbol) [0x005E439D]\n",
      "\tGetHandleVerifier [0x00A40716+3229462]\n",
      "\tGetHandleVerifier [0x00A884C8+3523784]\n",
      "\tGetHandleVerifier [0x00A8214C+3498316]\n",
      "\tGetHandleVerifier [0x007C1680+611968]\n",
      "\t(No symbol) [0x006CCCCC]\n",
      "\t(No symbol) [0x006C8DF8]\n",
      "\t(No symbol) [0x006C8F1D]\n",
      "\t(No symbol) [0x006BB2C7]\n",
      "\tBaseThreadInitThunk [0x75DB7BA9+25]\n",
      "\tRtlInitializeExceptionChain [0x775CBD3B+107]\n",
      "\tRtlClearBits [0x775CBCBF+191]\n",
      "\n"
     ]
    }
   ],
   "source": [
    "run(driver_path)"
   ]
  }
 ],
 "metadata": {
  "kernelspec": {
   "display_name": "Python 3 (ipykernel)",
   "language": "python",
   "name": "python3"
  },
  "language_info": {
   "codemirror_mode": {
    "name": "ipython",
    "version": 3
   },
   "file_extension": ".py",
   "mimetype": "text/x-python",
   "name": "python",
   "nbconvert_exporter": "python",
   "pygments_lexer": "ipython3",
   "version": "3.10.9"
  },
  "vscode": {
   "interpreter": {
    "hash": "775f7e029e1e896dd0d766e59659a43a9a51ce854b34a133fae0cf46d55f873d"
   }
  }
 },
 "nbformat": 4,
 "nbformat_minor": 2
}
