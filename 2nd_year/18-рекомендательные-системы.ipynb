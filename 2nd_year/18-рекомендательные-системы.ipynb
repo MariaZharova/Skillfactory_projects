{
 "cells": [
  {
   "cell_type": "code",
   "execution_count": 1,
   "id": "69b952aa",
   "metadata": {},
   "outputs": [
    {
     "name": "stderr",
     "output_type": "stream",
     "text": [
      "C:\\Users\\Dmitry Trushin\\anaconda3\\lib\\site-packages\\lightfm\\_lightfm_fast.py:9: UserWarning: LightFM was compiled without OpenMP support. Only a single thread will be used.\n",
      "  warnings.warn(\n"
     ]
    }
   ],
   "source": [
    "import pickle\n",
    "import pandas as pd\n",
    "import implicit\n",
    "import lightfm\n",
    "import scipy\n",
    "\n",
    "import string\n",
    "# Библиотека построения индекса приближенного поиска ближайших соседей\n",
    "import annoy\n",
    "import numpy as np\n",
    "\n",
    "from pymorphy2 import MorphAnalyzer\n",
    "from stop_words import get_stop_words\n",
    "from gensim.models import FastText\n",
    "from tqdm import tqdm_notebook\n",
    "\n",
    "from sklearn.model_selection import train_test_split"
   ]
  },
  {
   "cell_type": "code",
   "execution_count": 2,
   "id": "9a460347",
   "metadata": {},
   "outputs": [],
   "source": [
    "with open('Product_dict.pkl', 'rb') as f:\n",
    "    data = pickle.load(f)"
   ]
  },
  {
   "cell_type": "code",
   "execution_count": 3,
   "id": "2333311f",
   "metadata": {},
   "outputs": [],
   "source": [
    "prod = pd.DataFrame.from_dict(data, orient='index', columns=['title'])"
   ]
  },
  {
   "cell_type": "code",
   "execution_count": 4,
   "id": "65c840a3",
   "metadata": {},
   "outputs": [
    {
     "data": {
      "text/html": [
       "<div>\n",
       "<style scoped>\n",
       "    .dataframe tbody tr th:only-of-type {\n",
       "        vertical-align: middle;\n",
       "    }\n",
       "\n",
       "    .dataframe tbody tr th {\n",
       "        vertical-align: top;\n",
       "    }\n",
       "\n",
       "    .dataframe thead th {\n",
       "        text-align: right;\n",
       "    }\n",
       "</style>\n",
       "<table border=\"1\" class=\"dataframe\">\n",
       "  <thead>\n",
       "    <tr style=\"text-align: right;\">\n",
       "      <th></th>\n",
       "      <th>title</th>\n",
       "    </tr>\n",
       "  </thead>\n",
       "  <tbody>\n",
       "    <tr>\n",
       "      <th>168308</th>\n",
       "      <td>(197312) Пакет-майка 25см х 45см 906</td>\n",
       "    </tr>\n",
       "    <tr>\n",
       "      <th>134832</th>\n",
       "      <td>(62448) Перекись водорода р-р наружн. 3% фл.по...</td>\n",
       "    </tr>\n",
       "    <tr>\n",
       "      <th>101384</th>\n",
       "      <td>(72183) Салициловая кислота р-р спирт 2% фл 40...</td>\n",
       "    </tr>\n",
       "    <tr>\n",
       "      <th>168570</th>\n",
       "      <td>(197309) Пакет 28см х 50см 906</td>\n",
       "    </tr>\n",
       "    <tr>\n",
       "      <th>146960</th>\n",
       "      <td>(111023) Пакет \"Аптека Озерки\" 28 х 35см 906</td>\n",
       "    </tr>\n",
       "    <tr>\n",
       "      <th>...</th>\n",
       "      <td>...</td>\n",
       "    </tr>\n",
       "    <tr>\n",
       "      <th>193603</th>\n",
       "      <td>(110044169) название -1</td>\n",
       "    </tr>\n",
       "    <tr>\n",
       "      <th>193484</th>\n",
       "      <td>(110050486) название -1</td>\n",
       "    </tr>\n",
       "    <tr>\n",
       "      <th>192459</th>\n",
       "      <td>(110020427) название -1</td>\n",
       "    </tr>\n",
       "    <tr>\n",
       "      <th>193510</th>\n",
       "      <td>(110047818) название -1</td>\n",
       "    </tr>\n",
       "    <tr>\n",
       "      <th>192468</th>\n",
       "      <td>(110042981) название -1</td>\n",
       "    </tr>\n",
       "  </tbody>\n",
       "</table>\n",
       "<p>30418 rows × 1 columns</p>\n",
       "</div>"
      ],
      "text/plain": [
       "                                                    title\n",
       "168308               (197312) Пакет-майка 25см х 45см 906\n",
       "134832  (62448) Перекись водорода р-р наружн. 3% фл.по...\n",
       "101384  (72183) Салициловая кислота р-р спирт 2% фл 40...\n",
       "168570                     (197309) Пакет 28см х 50см 906\n",
       "146960       (111023) Пакет \"Аптека Озерки\" 28 х 35см 906\n",
       "...                                                   ...\n",
       "193603                            (110044169) название -1\n",
       "193484                            (110050486) название -1\n",
       "192459                            (110020427) название -1\n",
       "193510                            (110047818) название -1\n",
       "192468                            (110042981) название -1\n",
       "\n",
       "[30418 rows x 1 columns]"
      ]
     },
     "execution_count": 4,
     "metadata": {},
     "output_type": "execute_result"
    }
   ],
   "source": [
    "prod"
   ]
  },
  {
   "cell_type": "code",
   "execution_count": 5,
   "id": "37569e17",
   "metadata": {},
   "outputs": [
    {
     "name": "stderr",
     "output_type": "stream",
     "text": [
      "C:\\Users\\Dmitry Trushin\\anaconda3\\lib\\site-packages\\IPython\\core\\interactiveshell.py:3444: DtypeWarning: Columns (1) have mixed types.Specify dtype option on import or set low_memory=False.\n",
      "  exec(code_obj, self.user_global_ns, self.user_ns)\n"
     ]
    }
   ],
   "source": [
    "checks = pd.read_csv(\"чековые данные.csv\")\n",
    "checks.drop(['name'], axis=1, inplace=True)"
   ]
  },
  {
   "cell_type": "code",
   "execution_count": 6,
   "id": "28d2334a",
   "metadata": {},
   "outputs": [
    {
     "name": "stdout",
     "output_type": "stream",
     "text": [
      "<class 'pandas.core.frame.DataFrame'>\n",
      "RangeIndex: 20000003 entries, 0 to 20000002\n",
      "Data columns (total 8 columns):\n",
      " #   Column                   Dtype  \n",
      "---  ------                   -----  \n",
      " 0   sale_date_date           object \n",
      " 1   contact_id               object \n",
      " 2   shop_id                  float64\n",
      " 3   product_id               float64\n",
      " 4   product_sub_category_id  float64\n",
      " 5   product_category_id      float64\n",
      " 6   brand_id                 float64\n",
      " 7   quantity                 object \n",
      "dtypes: float64(5), object(3)\n",
      "memory usage: 1.2+ GB\n"
     ]
    }
   ],
   "source": [
    "checks.info()"
   ]
  },
  {
   "cell_type": "code",
   "execution_count": 7,
   "id": "b452ce08",
   "metadata": {},
   "outputs": [
    {
     "data": {
      "text/html": [
       "<div>\n",
       "<style scoped>\n",
       "    .dataframe tbody tr th:only-of-type {\n",
       "        vertical-align: middle;\n",
       "    }\n",
       "\n",
       "    .dataframe tbody tr th {\n",
       "        vertical-align: top;\n",
       "    }\n",
       "\n",
       "    .dataframe thead th {\n",
       "        text-align: right;\n",
       "    }\n",
       "</style>\n",
       "<table border=\"1\" class=\"dataframe\">\n",
       "  <thead>\n",
       "    <tr style=\"text-align: right;\">\n",
       "      <th></th>\n",
       "      <th>sale_date_date</th>\n",
       "      <th>contact_id</th>\n",
       "      <th>shop_id</th>\n",
       "      <th>product_id</th>\n",
       "      <th>product_sub_category_id</th>\n",
       "      <th>product_category_id</th>\n",
       "      <th>brand_id</th>\n",
       "      <th>quantity</th>\n",
       "      <th>key_col</th>\n",
       "    </tr>\n",
       "  </thead>\n",
       "  <tbody>\n",
       "    <tr>\n",
       "      <th>0</th>\n",
       "      <td>2018-12-07</td>\n",
       "      <td>1260627</td>\n",
       "      <td>1455.0</td>\n",
       "      <td>168308.0</td>\n",
       "      <td>906.0</td>\n",
       "      <td>205.0</td>\n",
       "      <td>-1.0</td>\n",
       "      <td>1,00</td>\n",
       "      <td>2018-12-07_1260627_1455.0</td>\n",
       "    </tr>\n",
       "    <tr>\n",
       "      <th>1</th>\n",
       "      <td>2018-12-07</td>\n",
       "      <td>198287</td>\n",
       "      <td>279.0</td>\n",
       "      <td>134832.0</td>\n",
       "      <td>404.0</td>\n",
       "      <td>93.0</td>\n",
       "      <td>-1.0</td>\n",
       "      <td>1,00</td>\n",
       "      <td>2018-12-07_198287_279.0</td>\n",
       "    </tr>\n",
       "    <tr>\n",
       "      <th>2</th>\n",
       "      <td>2018-12-07</td>\n",
       "      <td>2418385</td>\n",
       "      <td>848.0</td>\n",
       "      <td>101384.0</td>\n",
       "      <td>404.0</td>\n",
       "      <td>93.0</td>\n",
       "      <td>-1.0</td>\n",
       "      <td>1,00</td>\n",
       "      <td>2018-12-07_2418385_848.0</td>\n",
       "    </tr>\n",
       "    <tr>\n",
       "      <th>3</th>\n",
       "      <td>2018-12-07</td>\n",
       "      <td>1285774</td>\n",
       "      <td>1511.0</td>\n",
       "      <td>168570.0</td>\n",
       "      <td>906.0</td>\n",
       "      <td>205.0</td>\n",
       "      <td>-1.0</td>\n",
       "      <td>1,00</td>\n",
       "      <td>2018-12-07_1285774_1511.0</td>\n",
       "    </tr>\n",
       "    <tr>\n",
       "      <th>4</th>\n",
       "      <td>2018-12-07</td>\n",
       "      <td>1810323</td>\n",
       "      <td>1501.0</td>\n",
       "      <td>168319.0</td>\n",
       "      <td>906.0</td>\n",
       "      <td>205.0</td>\n",
       "      <td>-1.0</td>\n",
       "      <td>1,00</td>\n",
       "      <td>2018-12-07_1810323_1501.0</td>\n",
       "    </tr>\n",
       "  </tbody>\n",
       "</table>\n",
       "</div>"
      ],
      "text/plain": [
       "  sale_date_date contact_id  shop_id  product_id  product_sub_category_id  \\\n",
       "0     2018-12-07    1260627   1455.0    168308.0                    906.0   \n",
       "1     2018-12-07     198287    279.0    134832.0                    404.0   \n",
       "2     2018-12-07    2418385    848.0    101384.0                    404.0   \n",
       "3     2018-12-07    1285774   1511.0    168570.0                    906.0   \n",
       "4     2018-12-07    1810323   1501.0    168319.0                    906.0   \n",
       "\n",
       "   product_category_id  brand_id quantity                    key_col  \n",
       "0                205.0      -1.0     1,00  2018-12-07_1260627_1455.0  \n",
       "1                 93.0      -1.0     1,00    2018-12-07_198287_279.0  \n",
       "2                 93.0      -1.0     1,00   2018-12-07_2418385_848.0  \n",
       "3                205.0      -1.0     1,00  2018-12-07_1285774_1511.0  \n",
       "4                205.0      -1.0     1,00  2018-12-07_1810323_1501.0  "
      ]
     },
     "execution_count": 7,
     "metadata": {},
     "output_type": "execute_result"
    }
   ],
   "source": [
    "checks['key_col'] = checks['sale_date_date'].apply(str) + \"_\" + checks['contact_id'].apply(str) + \"_\" + checks['shop_id'].apply(str)\n",
    "checks.head()"
   ]
  },
  {
   "cell_type": "code",
   "execution_count": 8,
   "id": "b60a41e3",
   "metadata": {},
   "outputs": [],
   "source": [
    "checks.dropna(inplace=True)\n",
    "checks = checks[checks['sale_date_date'].str.startswith(\"20\")]\n",
    "checks.reset_index(inplace=True, drop=True)\n",
    "checks['sale_date_date'] = pd.to_datetime(checks['sale_date_date'])\n",
    "checks.sort_values('sale_date_date', inplace=True)\n",
    "\n",
    "# Разделим подборку на трейн и тест\n",
    "train, test = train_test_split(checks, test_size=0.2)"
   ]
  },
  {
   "cell_type": "markdown",
   "id": "98ba9b15",
   "metadata": {},
   "source": [
    "Однако по моему тут неприменимы технические тесты и валидация из-за того, что используется item-item рекоммендации\n",
    "Можно разделить по времени покупки, но зачем?\n",
    "Будут результативнее бизнес метрики"
   ]
  },
  {
   "cell_type": "markdown",
   "id": "3fddd24b",
   "metadata": {},
   "source": [
    "Предобработаем выборку"
   ]
  },
  {
   "cell_type": "code",
   "execution_count": 9,
   "id": "c4467a17",
   "metadata": {},
   "outputs": [],
   "source": [
    "# Для фильтрации пунктуации\n",
    "exclude = set(string.punctuation)\n",
    "# Для приведения слов в начальной форме\n",
    "morpher = MorphAnalyzer()\n",
    "\n",
    "# Для фильтрации стоп-слов\n",
    "sw = get_stop_words(\"ru\")\n",
    "\n",
    "def preprocess_txt(line):\n",
    "    spls = \"\".join(i for i in str(line).strip() if i not in exclude).split()\n",
    "    spls = [morpher.parse(i.lower())[0].normal_form for i in spls]\n",
    "    spls = [i for i in spls if i not in sw and i != \"\"]\n",
    "    return spls"
   ]
  },
  {
   "cell_type": "code",
   "execution_count": 10,
   "id": "b91ef476",
   "metadata": {},
   "outputs": [
    {
     "name": "stderr",
     "output_type": "stream",
     "text": [
      "C:\\Users\\DMITRY~1\\AppData\\Local\\Temp/ipykernel_14128/3268327387.py:18: TqdmDeprecationWarning: This function will be removed in tqdm==5.0.0\n",
      "Please use `tqdm.notebook.tqdm` instead of `tqdm.tqdm_notebook`\n",
      "  for i in tqdm_notebook(data.keys()):\n"
     ]
    },
    {
     "data": {
      "application/vnd.jupyter.widget-view+json": {
       "model_id": "34035518080949d4a77361fd87fe3e04",
       "version_major": 2,
       "version_minor": 0
      },
      "text/plain": [
       "  0%|          | 0/30418 [00:00<?, ?it/s]"
      ]
     },
     "metadata": {},
     "output_type": "display_data"
    },
    {
     "data": {
      "text/plain": [
       "True"
      ]
     },
     "execution_count": 10,
     "metadata": {},
     "output_type": "execute_result"
    }
   ],
   "source": [
    "sentences = [preprocess_txt(k) for k in data.keys()]\n",
    "\n",
    "# Подготовим кандидатогенератор, который будет отдавать фильмы похожие по текстовому описанию на те, .\n",
    "# которые оенил пользователь\n",
    "# Обучим Fasttext и заэмбедим фильмы\n",
    "modelFT = FastText(sentences=sentences, min_count=1, window=5)\n",
    "\n",
    "# Для того, чтобы быстро находить айтемы положим эмбединги их тайтлов в ANN индекс\n",
    "# Создадим объект индекса\n",
    "ft_index_names = annoy.AnnoyIndex(20 ,'angular')\n",
    "\n",
    "# Будем хранить соответствия не только id-> продукт, но и продукт-> id, чтобы быстрее находить эмбеддинги продуктов\n",
    "\n",
    "index_map = {}\n",
    "reverse_index_map = {}\n",
    "counter = 0\n",
    "\n",
    "for i in tqdm_notebook(data.keys()):\n",
    "    n_ft = 0\n",
    "    reverse_index_map[counter] = i\n",
    "    vector_ft = np.zeros(20)\n",
    "    # Каждое слово обернем в эмбеддинг\n",
    "    for word in preprocess_txt('i'):\n",
    "        if word in modelFT.wv.key_to_index:\n",
    "            vector_ft += modelFT.wv.key_to_index[word]\n",
    "            n_ft += 1\n",
    "    if n_ft > 0:\n",
    "        vector_ft = vector_ft / n_ft\n",
    "    ft_index_names.add_item(counter, vector_ft)\n",
    "    counter += 1\n",
    "\n",
    "# \n",
    "ft_index_names.build(10)"
   ]
  },
  {
   "cell_type": "code",
   "execution_count": 11,
   "id": "22470315",
   "metadata": {},
   "outputs": [],
   "source": [
    "reverse_item_mapping = {v: k for k, v in data.items()}\n",
    "\n",
    "def recommend(items_list):\n",
    "    current_vector = np.zeros(20)\n",
    "    c = len(items_list)\n",
    "    for iid in items_list:\n",
    "        iname = data[iid]\n",
    "        if iname not in reverse_index_map:\n",
    "            c -= 1\n",
    "            continue\n",
    "        current_vector += np.array(ft_index_names.get_item_vector[reverse_index_map[iname]])\n",
    "    return [data[reverse_index_map[i]] for i in ft_index_names.get_nns_by_vector(current_vector / c, 10)]"
   ]
  },
  {
   "cell_type": "code",
   "execution_count": 12,
   "id": "dfa9128f",
   "metadata": {},
   "outputs": [
    {
     "name": "stderr",
     "output_type": "stream",
     "text": [
      "C:\\Users\\DMITRY~1\\AppData\\Local\\Temp/ipykernel_14128/2382415262.py:12: RuntimeWarning: invalid value encountered in true_divide\n",
      "  return [data[reverse_index_map[i]] for i in ft_index_names.get_nns_by_vector(current_vector / c, 10)]\n"
     ]
    },
    {
     "data": {
      "text/plain": [
       "['(114236) Трусопт капли глазн 2% 5мл фл N1 575',\n",
       " '(42233) Сенаде тб 13.5мг N500 598',\n",
       " '(103503) Перца водяного экстракт жидкий фл. 25мл 613',\n",
       " '(13405) Энцефабол сусп оралн 80,5мг/5мл фл 200мл N1 638',\n",
       " '(90364) Тербинафин таб.250мг №14 622',\n",
       " '(44128) Панадол таб.п.п.о.500мг №12 696',\n",
       " '(68258) Проваг капс. №10 448',\n",
       " '(13695) Люголя раствор с глицерином р-р фл 25г N1 404',\n",
       " '(36531) Пропанорм таб.п/о 150мг N50 738',\n",
       " '(67119) Суматриптан таб.п.п.о.100мг №2 398']"
      ]
     },
     "execution_count": 12,
     "metadata": {},
     "output_type": "execute_result"
    }
   ],
   "source": [
    "recommend(['52539', '110342'])"
   ]
  },
  {
   "cell_type": "markdown",
   "id": "2d3eb893",
   "metadata": {},
   "source": [
    "# Генерация кандидатов"
   ]
  },
  {
   "cell_type": "markdown",
   "id": "ff21328a",
   "metadata": {},
   "source": [
    "Сгенерируем кандидатов"
   ]
  },
  {
   "cell_type": "code",
   "execution_count": 13,
   "id": "c951ac2a",
   "metadata": {},
   "outputs": [],
   "source": [
    "# Сделаем кандидатогенератор по категориям препаратов\n",
    "medicines = {}\n",
    "categories_dict = {}\n",
    "medicines_p={}\n",
    "for i in range(len(checks)):\n",
    "    categories = str(checks.loc[i, \"product_category_id\"]).strip()\n",
    "    if categories not in medicines:\n",
    "        medicines[categories] = []\n",
    "    medicines[categories].append(checks.loc[i, 'product_id'])\n",
    "    medicines_p[checks.loc[i, 'product_id']]=categories "
   ]
  },
  {
   "cell_type": "code",
   "execution_count": 14,
   "id": "be2aef0f",
   "metadata": {},
   "outputs": [],
   "source": [
    "# Сделаем рандомный кандидатогенератор \n",
    "def sample_random(sample_set, num_sampled=10):\n",
    "    return np.random.choice(sample_set, num_sampled, replace=False)"
   ]
  },
  {
   "cell_type": "code",
   "execution_count": 45,
   "id": "61b89a42",
   "metadata": {},
   "outputs": [],
   "source": [
    "products_unique=checks['product_id'].unique()\n",
    "def candidate_generator(product_id):\n",
    "    for i in product_id:\n",
    "            category=medicines_p.get(int(i))\n",
    "            candidates_categories = list(sample_random(medicines[str(category)]))\n",
    "    return candidates_categories"
   ]
  },
  {
   "cell_type": "code",
   "execution_count": 46,
   "id": "5d5f6a9b",
   "metadata": {},
   "outputs": [
    {
     "data": {
      "text/plain": [
       "[118364.0,\n",
       " 146109.0,\n",
       " 120601.0,\n",
       " 82685.0,\n",
       " 81946.0,\n",
       " 33993.0,\n",
       " 154101.0,\n",
       " 148629.0,\n",
       " 146507.0,\n",
       " 138536.0]"
      ]
     },
     "execution_count": 46,
     "metadata": {},
     "output_type": "execute_result"
    }
   ],
   "source": [
    "# Проверим как работает наш кандидатогенератор\n",
    "candidate_generator(['99821', '138583', '45321'])"
   ]
  },
  {
   "cell_type": "markdown",
   "id": "314da82e",
   "metadata": {},
   "source": [
    "Воспользуемся регулярными выражниями чтобы взять из результата модели FastText только id"
   ]
  },
  {
   "cell_type": "code",
   "execution_count": 19,
   "id": "e9b8637d",
   "metadata": {},
   "outputs": [],
   "source": [
    "import re"
   ]
  },
  {
   "cell_type": "code",
   "execution_count": 20,
   "id": "ece3f478",
   "metadata": {},
   "outputs": [
    {
     "name": "stderr",
     "output_type": "stream",
     "text": [
      "C:\\Users\\DMITRY~1\\AppData\\Local\\Temp/ipykernel_14128/2382415262.py:12: RuntimeWarning: invalid value encountered in true_divide\n",
      "  return [data[reverse_index_map[i]] for i in ft_index_names.get_nns_by_vector(current_vector / c, 10)]\n"
     ]
    }
   ],
   "source": [
    "out=list(recommend(['52539']))\n",
    "pattern = r'(?<=\\().+?(?=\\))'\n",
    "id_only=[]\n",
    "for i in out:\n",
    "    med_id = re.search(pattern, i)\n",
    "    id_only.append(med_id[0])"
   ]
  },
  {
   "cell_type": "code",
   "execution_count": 21,
   "id": "df8ed825",
   "metadata": {},
   "outputs": [
    {
     "data": {
      "text/plain": [
       "['114236',\n",
       " '42233',\n",
       " '103503',\n",
       " '13405',\n",
       " '90364',\n",
       " '44128',\n",
       " '68258',\n",
       " '13695',\n",
       " '36531',\n",
       " '67119']"
      ]
     },
     "execution_count": 21,
     "metadata": {},
     "output_type": "execute_result"
    }
   ],
   "source": [
    "id_only"
   ]
  },
  {
   "cell_type": "markdown",
   "id": "5fc1863a",
   "metadata": {},
   "source": [
    "# Word2Vec"
   ]
  },
  {
   "cell_type": "markdown",
   "id": "d1855ffa",
   "metadata": {},
   "source": [
    "Обучим Эмбеддинги"
   ]
  },
  {
   "cell_type": "code",
   "execution_count": 22,
   "id": "457d9f0b",
   "metadata": {},
   "outputs": [],
   "source": [
    "from gensim.models import Word2Vec\n",
    "\n",
    "train['product_id'] = train['product_id'].apply(int).apply(str)\n",
    "\n",
    "grouped = train.groupby('key_col')\n",
    "sentences = []"
   ]
  },
  {
   "cell_type": "markdown",
   "id": "44409b28",
   "metadata": {},
   "source": [
    "Сформируем последовательности для W2V"
   ]
  },
  {
   "cell_type": "code",
   "execution_count": 23,
   "id": "aa7daaa4",
   "metadata": {},
   "outputs": [
    {
     "name": "stderr",
     "output_type": "stream",
     "text": [
      "C:\\Users\\DMITRY~1\\AppData\\Local\\Temp/ipykernel_14128/3499826910.py:3: TqdmDeprecationWarning: This function will be removed in tqdm==5.0.0\n",
      "Please use `tqdm.notebook.tqdm` instead of `tqdm.tqdm_notebook`\n",
      "  for group in tqdm_notebook(grouped.groups):\n"
     ]
    },
    {
     "data": {
      "application/vnd.jupyter.widget-view+json": {
       "model_id": "28aa47dd012941488c382302b9c19e86",
       "version_major": 2,
       "version_minor": 0
      },
      "text/plain": [
       "  0%|          | 0/5723906 [00:00<?, ?it/s]"
      ]
     },
     "metadata": {},
     "output_type": "display_data"
    }
   ],
   "source": [
    "from tqdm import tqdm\n",
    "sentences = []\n",
    "for group in tqdm_notebook(grouped.groups):\n",
    "    products = grouped.get_group(group)['product_id'].values\n",
    "    if len(products) < 4:\n",
    "        continue\n",
    "    sentences.append(list(products))"
   ]
  },
  {
   "cell_type": "markdown",
   "id": "31602d0d",
   "metadata": {},
   "source": [
    "Обучим модель"
   ]
  },
  {
   "cell_type": "code",
   "execution_count": 24,
   "id": "edc1b849",
   "metadata": {},
   "outputs": [],
   "source": [
    "modelW2V = Word2Vec(sentences, vector_size=10)"
   ]
  },
  {
   "cell_type": "code",
   "execution_count": 25,
   "id": "3f8a06c8",
   "metadata": {},
   "outputs": [],
   "source": [
    "def recommend_w2v(items_list):\n",
    "    current_vector = np.zeros(10)\n",
    "    c = len(items_list)\n",
    "    for iid in items_list:\n",
    "        iname = data[iid]\n",
    "        if iname not in modelW2V.wv:\n",
    "            c -= 1\n",
    "            continue\n",
    "        current_vector += np.array(modelW2V.wv[reverse_index_map[iname]])\n",
    "    return [data[i[0]] for i in modelW2V.wv.similar_by_vector(current_vector / c, 10)]"
   ]
  },
  {
   "cell_type": "markdown",
   "id": "038a9f78",
   "metadata": {},
   "source": [
    "Проверим метод"
   ]
  },
  {
   "cell_type": "code",
   "execution_count": 26,
   "id": "b50039ff",
   "metadata": {},
   "outputs": [
    {
     "name": "stderr",
     "output_type": "stream",
     "text": [
      "C:\\Users\\DMITRY~1\\AppData\\Local\\Temp/ipykernel_14128/2409218459.py:10: RuntimeWarning: invalid value encountered in true_divide\n",
      "  return [data[i[0]] for i in modelW2V.wv.similar_by_vector(current_vector / c, 10)]\n"
     ]
    },
    {
     "data": {
      "text/plain": [
       "['(89165) Неулептил р-р д/приема внутрь 4% фл. 30мл 637',\n",
       " '(73870) Протопик мазь для наружного прим. 0,03% туба 30гр. уп. №1 467',\n",
       " '(31725) Афлодерм мазь д/наружн.прим.0,05% туба 20г №1 467',\n",
       " '(70301) Аспера Эфирное масло Анис 10мл 410',\n",
       " '(111856) Эндокринол Йод капс.№30 458',\n",
       " '(270981) Ринза таб.№4 703',\n",
       " '(120222) Ретинорм капс.500мг №30 574',\n",
       " '(68790) Энап таб.10мг №20 738',\n",
       " '(35808) Зитролид 250мг капс N6 403',\n",
       " '(112651) Зубная паста \"Лакалют Бэйсик\" Цитрус туба 75мл N1 529']"
      ]
     },
     "execution_count": 26,
     "metadata": {},
     "output_type": "execute_result"
    }
   ],
   "source": [
    "recommend_w2v(['99821', '138583', '45321'])"
   ]
  },
  {
   "cell_type": "markdown",
   "id": "82c867b6",
   "metadata": {},
   "source": [
    "Применим также функцию, оставляющую лишь айди"
   ]
  },
  {
   "cell_type": "code",
   "execution_count": 39,
   "id": "cd68ff38",
   "metadata": {},
   "outputs": [],
   "source": [
    "def only_id(out):\n",
    "    pattern = r'(?<=\\().+?(?=\\))'\n",
    "    id_only=[]\n",
    "    for i in out:\n",
    "        med_id = re.search(pattern, i)\n",
    "        id_only.append(int(med_id[0]))\n",
    "    return id_only"
   ]
  },
  {
   "cell_type": "markdown",
   "id": "fc669abd",
   "metadata": {},
   "source": [
    "Оказалось, айди препарата - это не число в скобках, а индекс строки в data"
   ]
  },
  {
   "cell_type": "code",
   "execution_count": 122,
   "id": "6180d0ce",
   "metadata": {},
   "outputs": [],
   "source": [
    "def id_2(out):\n",
    "    ids = []\n",
    "    for i in out:\n",
    "        ids.append(int(prod[prod.title == i].index[0]))\n",
    "    return ids\n",
    "                   "
   ]
  },
  {
   "cell_type": "code",
   "execution_count": 123,
   "id": "84a09352",
   "metadata": {},
   "outputs": [
    {
     "name": "stderr",
     "output_type": "stream",
     "text": [
      "C:\\Users\\DMITRY~1\\AppData\\Local\\Temp/ipykernel_14128/2409218459.py:10: RuntimeWarning: invalid value encountered in true_divide\n",
      "  return [data[i[0]] for i in modelW2V.wv.similar_by_vector(current_vector / c, 10)]\n"
     ]
    },
    {
     "data": {
      "text/plain": [
       "[88819, 51595, 144781, 70690, 103002, 350340, 105917, 151844, 84063, 34238]"
      ]
     },
     "execution_count": 123,
     "metadata": {},
     "output_type": "execute_result"
    }
   ],
   "source": [
    "id_2(recommend_w2v(['99821', '138583', '45321']))"
   ]
  },
  {
   "cell_type": "markdown",
   "id": "c651bdbe",
   "metadata": {},
   "source": [
    "Объединим все списки перед ранжированием"
   ]
  },
  {
   "cell_type": "code",
   "execution_count": 124,
   "id": "b5f7c294",
   "metadata": {},
   "outputs": [
    {
     "name": "stderr",
     "output_type": "stream",
     "text": [
      "C:\\Users\\DMITRY~1\\AppData\\Local\\Temp/ipykernel_14128/2409218459.py:10: RuntimeWarning: invalid value encountered in true_divide\n",
      "  return [data[i[0]] for i in modelW2V.wv.similar_by_vector(current_vector / c, 10)]\n",
      "C:\\Users\\DMITRY~1\\AppData\\Local\\Temp/ipykernel_14128/2382415262.py:12: RuntimeWarning: invalid value encountered in true_divide\n",
      "  return [data[reverse_index_map[i]] for i in ft_index_names.get_nns_by_vector(current_vector / c, 10)]\n"
     ]
    }
   ],
   "source": [
    "Propose = id_2(recommend_w2v(['99821', '138583', '45321']))+id_2(recommend(['99821', '138583', '45321']))+candidate_generator(['99821', '138583', '45321'])"
   ]
  },
  {
   "cell_type": "code",
   "execution_count": 125,
   "id": "d727bd4d",
   "metadata": {},
   "outputs": [],
   "source": [
    "for proposition in Propose:\n",
    "    proposition = int(proposition)"
   ]
  },
  {
   "cell_type": "code",
   "execution_count": 126,
   "id": "f22d3d94",
   "metadata": {},
   "outputs": [
    {
     "data": {
      "text/plain": [
       "[88819,\n",
       " 51595,\n",
       " 144781,\n",
       " 70690,\n",
       " 103002,\n",
       " 350340,\n",
       " 105917,\n",
       " 151844,\n",
       " 84063,\n",
       " 34238,\n",
       " 76206,\n",
       " 72448,\n",
       " 102027,\n",
       " 131412,\n",
       " 83447,\n",
       " 138089,\n",
       " 41273,\n",
       " 35317,\n",
       " 103865,\n",
       " 65857,\n",
       " 99144.0,\n",
       " 75208.0,\n",
       " 154101.0,\n",
       " 154101.0,\n",
       " 94449.0,\n",
       " 81946.0,\n",
       " 81946.0,\n",
       " 105098.0,\n",
       " 146507.0,\n",
       " 154101.0]"
      ]
     },
     "execution_count": 126,
     "metadata": {},
     "output_type": "execute_result"
    }
   ],
   "source": [
    "Propose"
   ]
  },
  {
   "cell_type": "markdown",
   "id": "d4f0d187",
   "metadata": {},
   "source": [
    "# Ранжирование"
   ]
  },
  {
   "cell_type": "markdown",
   "id": "56d3ab2f",
   "metadata": {},
   "source": [
    "Метод 1"
   ]
  },
  {
   "cell_type": "code",
   "execution_count": 127,
   "id": "65f92805",
   "metadata": {},
   "outputs": [],
   "source": [
    "# У нас есть список кандидатов, сгенерированных разными способами. Сначала выведем те, которые повторяются несколько раз\n",
    "import collections\n",
    "Pr_dict=collections.Counter(Propose)\n",
    "Pr_dict=dict(sorted(Pr_dict.items(), key=lambda item: item[1], reverse = True))"
   ]
  },
  {
   "cell_type": "code",
   "execution_count": 128,
   "id": "1b69662b",
   "metadata": {},
   "outputs": [
    {
     "data": {
      "text/plain": [
       "{154101.0: 3,\n",
       " 81946.0: 2,\n",
       " 88819: 1,\n",
       " 51595: 1,\n",
       " 144781: 1,\n",
       " 70690: 1,\n",
       " 103002: 1,\n",
       " 350340: 1,\n",
       " 105917: 1,\n",
       " 151844: 1,\n",
       " 84063: 1,\n",
       " 34238: 1,\n",
       " 76206: 1,\n",
       " 72448: 1,\n",
       " 102027: 1,\n",
       " 131412: 1,\n",
       " 83447: 1,\n",
       " 138089: 1,\n",
       " 41273: 1,\n",
       " 35317: 1,\n",
       " 103865: 1,\n",
       " 65857: 1,\n",
       " 99144.0: 1,\n",
       " 75208.0: 1,\n",
       " 94449.0: 1,\n",
       " 105098.0: 1,\n",
       " 146507.0: 1}"
      ]
     },
     "execution_count": 128,
     "metadata": {},
     "output_type": "execute_result"
    }
   ],
   "source": [
    "Pr_dict"
   ]
  },
  {
   "cell_type": "code",
   "execution_count": 167,
   "id": "ab69e15f",
   "metadata": {},
   "outputs": [],
   "source": [
    "#Выведем первые 5 значений\n",
    "import itertools\n",
    "answer = dict(itertools.islice(Pr_dict.items(), 5)).keys()"
   ]
  },
  {
   "cell_type": "code",
   "execution_count": 160,
   "id": "3c1eb038",
   "metadata": {},
   "outputs": [
    {
     "name": "stdout",
     "output_type": "stream",
     "text": [
      "dict_keys([154101.0, 81946.0, 88819, 51595, 144781])\n"
     ]
    }
   ],
   "source": [
    "print(answer)"
   ]
  },
  {
   "cell_type": "markdown",
   "id": "a59bf786",
   "metadata": {},
   "source": [
    "Главный минус состоит в том, что методы могут давать неповторяющиеся варианты ответа, и тогда мы получим все ту же случайную выдачу"
   ]
  },
  {
   "cell_type": "markdown",
   "id": "0e011fed",
   "metadata": {},
   "source": [
    "Метод 2"
   ]
  },
  {
   "cell_type": "code",
   "execution_count": 129,
   "id": "890824b1",
   "metadata": {},
   "outputs": [],
   "source": [
    " #Попробуем ранжировать по популярности лекарства"
   ]
  },
  {
   "cell_type": "code",
   "execution_count": 130,
   "id": "b9feae5d",
   "metadata": {},
   "outputs": [
    {
     "name": "stderr",
     "output_type": "stream",
     "text": [
      "C:\\Users\\DMITRY~1\\AppData\\Local\\Temp/ipykernel_14128/1098190461.py:2: SettingWithCopyWarning: \n",
      "A value is trying to be set on a copy of a slice from a DataFrame.\n",
      "Try using .loc[row_indexer,col_indexer] = value instead\n",
      "\n",
      "See the caveats in the documentation: https://pandas.pydata.org/pandas-docs/stable/user_guide/indexing.html#returning-a-view-versus-a-copy\n",
      "  checks_upd[\"quantity\"] = checks_upd[\"quantity\"].str.replace(',', '.', regex=False).astype(float)\n"
     ]
    }
   ],
   "source": [
    "checks_upd = checks[['product_id','quantity']]\n",
    "checks_upd[\"quantity\"] = checks_upd[\"quantity\"].str.replace(',', '.', regex=False).astype(float)"
   ]
  },
  {
   "cell_type": "code",
   "execution_count": 131,
   "id": "670ed673",
   "metadata": {},
   "outputs": [],
   "source": [
    "checks_upd = checks_upd.groupby(\"product_id\").sum().reset_index()"
   ]
  },
  {
   "cell_type": "code",
   "execution_count": 153,
   "id": "897508c7",
   "metadata": {},
   "outputs": [],
   "source": [
    "freq_dict={}\n",
    "pop = []\n",
    "for i in Propose:\n",
    "    pop.append(checks_upd[checks_upd['product_id']==i].values[0][1])\n",
    "Pr_dict_2 = dict(zip(Propose, pop))\n",
    "Pr_dict_2=dict(sorted(Pr_dict_2.items(), key=lambda item: item[1], reverse = True))"
   ]
  },
  {
   "cell_type": "code",
   "execution_count": 154,
   "id": "86394a76",
   "metadata": {},
   "outputs": [
    {
     "data": {
      "text/plain": [
       "{81946.0: 44864.0,\n",
       " 105098.0: 12230.343,\n",
       " 154101.0: 11934.0,\n",
       " 146507.0: 8704.0,\n",
       " 103865: 8641.0,\n",
       " 99144.0: 8558.0,\n",
       " 75208.0: 5670.0,\n",
       " 76206: 4555.0,\n",
       " 65857: 2366.0,\n",
       " 72448: 2293.834,\n",
       " 35317: 1871.0,\n",
       " 138089: 1779.0,\n",
       " 94449.0: 1438.0,\n",
       " 83447: 1074.0,\n",
       " 41273: 887.0,\n",
       " 102027: 678.0,\n",
       " 131412: 360.0,\n",
       " 88819: 92.0,\n",
       " 103002: 77.0,\n",
       " 70690: 70.0,\n",
       " 105917: 69.0,\n",
       " 350340: 67.0,\n",
       " 144781: 66.0,\n",
       " 51595: 61.0,\n",
       " 151844: 59.0,\n",
       " 84063: 58.0,\n",
       " 34238: 39.0}"
      ]
     },
     "execution_count": 154,
     "metadata": {},
     "output_type": "execute_result"
    }
   ],
   "source": [
    "Pr_dict_2"
   ]
  },
  {
   "cell_type": "code",
   "execution_count": 161,
   "id": "b12894b0",
   "metadata": {},
   "outputs": [],
   "source": [
    "#Выведем первые 5 значений\n",
    "answer_2 = dict(itertools.islice(Pr_dict_2.items(), 5)).keys()"
   ]
  },
  {
   "cell_type": "code",
   "execution_count": 162,
   "id": "50f1f63e",
   "metadata": {},
   "outputs": [
    {
     "name": "stdout",
     "output_type": "stream",
     "text": [
      "dict_keys([81946.0, 105098.0, 154101.0, 146507.0, 103865])\n"
     ]
    }
   ],
   "source": [
    "print(answer_2)"
   ]
  },
  {
   "cell_type": "markdown",
   "id": "6354d640",
   "metadata": {},
   "source": [
    "# Второй этап ранжирования"
   ]
  },
  {
   "cell_type": "markdown",
   "id": "f81ab20b",
   "metadata": {},
   "source": [
    "Сначала будем выводить значения, которые были выведены в обоих методах"
   ]
  },
  {
   "cell_type": "code",
   "execution_count": 164,
   "id": "907321e2",
   "metadata": {},
   "outputs": [],
   "source": [
    "import collections\n",
    "c=collections.Counter(list(answer_2)+list(answer))\n",
    "Final_dict=dict(sorted(c.items(), key=lambda item: item[1], reverse = True))"
   ]
  },
  {
   "cell_type": "code",
   "execution_count": 165,
   "id": "7a7ab9b5",
   "metadata": {},
   "outputs": [
    {
     "data": {
      "text/plain": [
       "{81946.0: 2,\n",
       " 154101.0: 2,\n",
       " 105098.0: 1,\n",
       " 146507.0: 1,\n",
       " 103865: 1,\n",
       " 88819: 1,\n",
       " 51595: 1,\n",
       " 144781: 1}"
      ]
     },
     "execution_count": 165,
     "metadata": {},
     "output_type": "execute_result"
    }
   ],
   "source": [
    "Final_dict"
   ]
  },
  {
   "cell_type": "markdown",
   "id": "77d305b2",
   "metadata": {},
   "source": [
    "Выведем первые 5 значений"
   ]
  },
  {
   "cell_type": "code",
   "execution_count": 168,
   "id": "a67b7026",
   "metadata": {},
   "outputs": [
    {
     "name": "stdout",
     "output_type": "stream",
     "text": [
      "[81946.0, 105098.0, 154101.0, 146507.0, 103865]\n"
     ]
    }
   ],
   "source": [
    "Final = dict(itertools.islice(Pr_dict_2.items(), 5)).keys()\n",
    "print(list(Final))"
   ]
  },
  {
   "cell_type": "code",
   "execution_count": null,
   "id": "9fb57b59",
   "metadata": {},
   "outputs": [],
   "source": []
  }
 ],
 "metadata": {
  "kernelspec": {
   "display_name": "Python 3 (ipykernel)",
   "language": "python",
   "name": "python3"
  },
  "language_info": {
   "codemirror_mode": {
    "name": "ipython",
    "version": 3
   },
   "file_extension": ".py",
   "mimetype": "text/x-python",
   "name": "python",
   "nbconvert_exporter": "python",
   "pygments_lexer": "ipython3",
   "version": "3.10.9"
  }
 },
 "nbformat": 4,
 "nbformat_minor": 5
}
