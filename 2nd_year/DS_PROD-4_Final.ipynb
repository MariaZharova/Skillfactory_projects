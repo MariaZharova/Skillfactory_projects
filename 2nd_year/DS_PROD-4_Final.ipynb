{
 "cells": [
  {
   "cell_type": "markdown",
   "metadata": {},
   "source": [
    "## A/B-тестирование."
   ]
  },
  {
   "cell_type": "markdown",
   "metadata": {},
   "source": [
    "### 1. Описание задачи"
   ]
  },
  {
   "cell_type": "markdown",
   "metadata": {},
   "source": [
    "Туристическая компания планирует запустить новую акцию, чтобы продать как можно больше туров. Команда разработала два варианта посадочной страницы официального сайта и провела A/B-тестирование. В результате эксперимента были собраны предоставленные данные.\n",
    "\n",
    "Бизнес-задача: проанализировать эффективность обоих вариантов посадочной страницы сразу по двум критериям — конверсии покупки и ежедневному среднему чеку."
   ]
  },
  {
   "cell_type": "code",
   "execution_count": 115,
   "metadata": {},
   "outputs": [],
   "source": [
    "import pandas as pd\n",
    "import numpy as np\n",
    "import plotly.express as px\n",
    "from statsmodels.stats.proportion import proportions_ztest\n",
    "from scipy.stats import shapiro\n",
    "from scipy.stats import ttest_ind\n",
    "from statsmodels.stats import proportion\n",
    "from scipy.stats import norm\n",
    "from scipy.stats import t\n",
    "\n",
    "import warnings\n",
    "warnings.filterwarnings(\"ignore\")"
   ]
  },
  {
   "cell_type": "markdown",
   "metadata": {},
   "source": [
    "### 2. Загрузка и предобработка данных"
   ]
  },
  {
   "cell_type": "code",
   "execution_count": 43,
   "metadata": {},
   "outputs": [
    {
     "data": {
      "text/html": [
       "<div>\n",
       "<style scoped>\n",
       "    .dataframe tbody tr th:only-of-type {\n",
       "        vertical-align: middle;\n",
       "    }\n",
       "\n",
       "    .dataframe tbody tr th {\n",
       "        vertical-align: top;\n",
       "    }\n",
       "\n",
       "    .dataframe thead th {\n",
       "        text-align: right;\n",
       "    }\n",
       "</style>\n",
       "<table border=\"1\" class=\"dataframe\">\n",
       "  <thead>\n",
       "    <tr style=\"text-align: right;\">\n",
       "      <th></th>\n",
       "      <th>user_id</th>\n",
       "      <th>date</th>\n",
       "      <th>group</th>\n",
       "      <th>purchase</th>\n",
       "      <th>price</th>\n",
       "    </tr>\n",
       "  </thead>\n",
       "  <tbody>\n",
       "    <tr>\n",
       "      <th>0</th>\n",
       "      <td>851104</td>\n",
       "      <td>2021-01-21</td>\n",
       "      <td>A</td>\n",
       "      <td>0</td>\n",
       "      <td>0</td>\n",
       "    </tr>\n",
       "    <tr>\n",
       "      <th>1</th>\n",
       "      <td>804228</td>\n",
       "      <td>2021-01-12</td>\n",
       "      <td>A</td>\n",
       "      <td>0</td>\n",
       "      <td>0</td>\n",
       "    </tr>\n",
       "    <tr>\n",
       "      <th>2</th>\n",
       "      <td>661590</td>\n",
       "      <td>2021-01-11</td>\n",
       "      <td>B</td>\n",
       "      <td>0</td>\n",
       "      <td>0</td>\n",
       "    </tr>\n",
       "    <tr>\n",
       "      <th>3</th>\n",
       "      <td>853541</td>\n",
       "      <td>2021-01-08</td>\n",
       "      <td>B</td>\n",
       "      <td>0</td>\n",
       "      <td>0</td>\n",
       "    </tr>\n",
       "    <tr>\n",
       "      <th>4</th>\n",
       "      <td>864975</td>\n",
       "      <td>2021-01-21</td>\n",
       "      <td>A</td>\n",
       "      <td>1</td>\n",
       "      <td>150000</td>\n",
       "    </tr>\n",
       "  </tbody>\n",
       "</table>\n",
       "</div>"
      ],
      "text/plain": [
       "   user_id        date group  purchase   price\n",
       "0   851104  2021-01-21     A         0       0\n",
       "1   804228  2021-01-12     A         0       0\n",
       "2   661590  2021-01-11     B         0       0\n",
       "3   853541  2021-01-08     B         0       0\n",
       "4   864975  2021-01-21     A         1  150000"
      ]
     },
     "execution_count": 43,
     "metadata": {},
     "output_type": "execute_result"
    }
   ],
   "source": [
    "data = pd.read_csv('data/ab_data_tourist.csv')\n",
    "data.head()"
   ]
  },
  {
   "cell_type": "markdown",
   "metadata": {},
   "source": [
    "Данные представлены следующими полями:\n",
    "\n",
    "- user_id — идентификатор пользователя, зашедшего на сайт;\n",
    "- data — дата посещения сайта;\n",
    "- group — группа теста (контрольная — А или тестовая — B);\n",
    "- purchase — признак покупки: совершил ли пользователь покупку тура (1 — да, 0 — нет);\n",
    "- price — цена купленного тура (если покупка не состоялась, цена равна 0)."
   ]
  },
  {
   "cell_type": "code",
   "execution_count": 44,
   "metadata": {},
   "outputs": [
    {
     "name": "stdout",
     "output_type": "stream",
     "text": [
      "<class 'pandas.core.frame.DataFrame'>\n",
      "RangeIndex: 294478 entries, 0 to 294477\n",
      "Data columns (total 5 columns):\n",
      " #   Column    Non-Null Count   Dtype \n",
      "---  ------    --------------   ----- \n",
      " 0   user_id   294478 non-null  int64 \n",
      " 1   date      294478 non-null  object\n",
      " 2   group     294478 non-null  object\n",
      " 3   purchase  294478 non-null  int64 \n",
      " 4   price     294478 non-null  int64 \n",
      "dtypes: int64(3), object(2)\n",
      "memory usage: 11.2+ MB\n"
     ]
    }
   ],
   "source": [
    "data.info()"
   ]
  },
  {
   "cell_type": "markdown",
   "metadata": {},
   "source": [
    "Пропусков в данных нет. Преобразуем дату к типу datetime и проверим длительность эксперимента для обеих групп."
   ]
  },
  {
   "cell_type": "code",
   "execution_count": 45,
   "metadata": {},
   "outputs": [
    {
     "data": {
      "text/html": [
       "<div>\n",
       "<style scoped>\n",
       "    .dataframe tbody tr th:only-of-type {\n",
       "        vertical-align: middle;\n",
       "    }\n",
       "\n",
       "    .dataframe tbody tr th {\n",
       "        vertical-align: top;\n",
       "    }\n",
       "\n",
       "    .dataframe thead th {\n",
       "        text-align: right;\n",
       "    }\n",
       "</style>\n",
       "<table border=\"1\" class=\"dataframe\">\n",
       "  <thead>\n",
       "    <tr style=\"text-align: right;\">\n",
       "      <th></th>\n",
       "      <th>count</th>\n",
       "      <th>mean</th>\n",
       "      <th>min</th>\n",
       "      <th>25%</th>\n",
       "      <th>50%</th>\n",
       "      <th>75%</th>\n",
       "      <th>max</th>\n",
       "    </tr>\n",
       "    <tr>\n",
       "      <th>group</th>\n",
       "      <th></th>\n",
       "      <th></th>\n",
       "      <th></th>\n",
       "      <th></th>\n",
       "      <th></th>\n",
       "      <th></th>\n",
       "      <th></th>\n",
       "    </tr>\n",
       "  </thead>\n",
       "  <tbody>\n",
       "    <tr>\n",
       "      <th>A</th>\n",
       "      <td>147202</td>\n",
       "      <td>2021-01-13 01:55:49.470795520</td>\n",
       "      <td>2021-01-02 00:00:00</td>\n",
       "      <td>2021-01-08 00:00:00</td>\n",
       "      <td>2021-01-13 00:00:00</td>\n",
       "      <td>2021-01-19 00:00:00</td>\n",
       "      <td>2021-01-24 00:00:00</td>\n",
       "    </tr>\n",
       "    <tr>\n",
       "      <th>B</th>\n",
       "      <td>147276</td>\n",
       "      <td>2021-01-13 01:23:47.034955008</td>\n",
       "      <td>2021-01-02 00:00:00</td>\n",
       "      <td>2021-01-08 00:00:00</td>\n",
       "      <td>2021-01-13 00:00:00</td>\n",
       "      <td>2021-01-19 00:00:00</td>\n",
       "      <td>2021-01-24 00:00:00</td>\n",
       "    </tr>\n",
       "  </tbody>\n",
       "</table>\n",
       "</div>"
      ],
      "text/plain": [
       "        count                           mean                  min  \\\n",
       "group                                                               \n",
       "A      147202  2021-01-13 01:55:49.470795520  2021-01-02 00:00:00   \n",
       "B      147276  2021-01-13 01:23:47.034955008  2021-01-02 00:00:00   \n",
       "\n",
       "                       25%                  50%                  75%  \\\n",
       "group                                                                  \n",
       "A      2021-01-08 00:00:00  2021-01-13 00:00:00  2021-01-19 00:00:00   \n",
       "B      2021-01-08 00:00:00  2021-01-13 00:00:00  2021-01-19 00:00:00   \n",
       "\n",
       "                       max  \n",
       "group                       \n",
       "A      2021-01-24 00:00:00  \n",
       "B      2021-01-24 00:00:00  "
      ]
     },
     "execution_count": 45,
     "metadata": {},
     "output_type": "execute_result"
    }
   ],
   "source": [
    "data['date'] = pd.to_datetime(data['date'])\n",
    "data.groupby('group')['date'].describe()"
   ]
  },
  {
   "cell_type": "markdown",
   "metadata": {},
   "source": [
    "Для обеих групп значение даты лежит в диапазоне от 13.01.2021 до 24.01.2021, то есть срок проведения и длительность A/B-тестирования для обеих групп совпадает.\n",
    "\n",
    "Проверим, есть ли пользователи, попавшие в обе группы."
   ]
  },
  {
   "cell_type": "code",
   "execution_count": 46,
   "metadata": {},
   "outputs": [
    {
     "name": "stdout",
     "output_type": "stream",
     "text": [
      "Кол-во пользователей, попавших в обе группы: 1895\n"
     ]
    }
   ],
   "source": [
    "intersection_users = list(set(data[data['group'] == 'A']['user_id'].values) & \\\n",
    "set(data[data['group'] == 'B']['user_id'].values))\n",
    "print('Кол-во пользователей, попавших в обе группы:', len(intersection_users))"
   ]
  },
  {
   "cell_type": "code",
   "execution_count": 48,
   "metadata": {},
   "outputs": [
    {
     "data": {
      "text/plain": [
       "(3790, 5)"
      ]
     },
     "execution_count": 48,
     "metadata": {},
     "output_type": "execute_result"
    }
   ],
   "source": [
    "data[data['user_id'].isin(intersection_users)].shape"
   ]
  },
  {
   "cell_type": "markdown",
   "metadata": {},
   "source": [
    "Удалим данные для пользоателей, попавших в обе группы."
   ]
  },
  {
   "cell_type": "code",
   "execution_count": 49,
   "metadata": {},
   "outputs": [
    {
     "name": "stdout",
     "output_type": "stream",
     "text": [
      "Удалили записей: 3790\n",
      "Осталось записей: 290688\n"
     ]
    }
   ],
   "source": [
    "intersection_rows = data[data['user_id'].isin(intersection_users)].index\n",
    "data.drop(intersection_rows, inplace=True)\n",
    "print('Удалили записей:', len(intersection_rows))\n",
    "print('Осталось записей:', data.shape[0])"
   ]
  },
  {
   "cell_type": "markdown",
   "metadata": {},
   "source": [
    "### 3. Первичный анализ результатов A/B-тестирования"
   ]
  },
  {
   "cell_type": "code",
   "execution_count": 59,
   "metadata": {},
   "outputs": [
    {
     "data": {
      "text/html": [
       "<div>\n",
       "<style scoped>\n",
       "    .dataframe tbody tr th:only-of-type {\n",
       "        vertical-align: middle;\n",
       "    }\n",
       "\n",
       "    .dataframe tbody tr th {\n",
       "        vertical-align: top;\n",
       "    }\n",
       "\n",
       "    .dataframe thead th {\n",
       "        text-align: right;\n",
       "    }\n",
       "</style>\n",
       "<table border=\"1\" class=\"dataframe\">\n",
       "  <thead>\n",
       "    <tr style=\"text-align: right;\">\n",
       "      <th></th>\n",
       "      <th>count_of_visits</th>\n",
       "      <th>count_of_purchases</th>\n",
       "      <th>sum_of_purchases</th>\n",
       "    </tr>\n",
       "    <tr>\n",
       "      <th>group</th>\n",
       "      <th></th>\n",
       "      <th></th>\n",
       "      <th></th>\n",
       "    </tr>\n",
       "  </thead>\n",
       "  <tbody>\n",
       "    <tr>\n",
       "      <th>A</th>\n",
       "      <td>145307</td>\n",
       "      <td>17487</td>\n",
       "      <td>1417780000</td>\n",
       "    </tr>\n",
       "    <tr>\n",
       "      <th>B</th>\n",
       "      <td>145381</td>\n",
       "      <td>17290</td>\n",
       "      <td>1533010000</td>\n",
       "    </tr>\n",
       "  </tbody>\n",
       "</table>\n",
       "</div>"
      ],
      "text/plain": [
       "       count_of_visits  count_of_purchases  sum_of_purchases\n",
       "group                                                       \n",
       "A               145307               17487        1417780000\n",
       "B               145381               17290        1533010000"
      ]
     },
     "execution_count": 59,
     "metadata": {},
     "output_type": "execute_result"
    }
   ],
   "source": [
    "grouped_data = data.groupby('group').agg({\n",
    "    'user_id': 'count',\n",
    "    'purchase': 'sum',\n",
    "    'price': 'sum'\n",
    "}).rename({'user_id': 'count_of_visits', \n",
    "           'purchase': 'count_of_purchases',\n",
    "           'price': 'sum_of_purchases'}, axis=1)\n",
    "grouped_data"
   ]
  },
  {
   "cell_type": "markdown",
   "metadata": {},
   "source": [
    "Количество посещений в обеих группах примерно одинаково - можно говорить о сбалансированности выборок.\n",
    "\n",
    "Рассчитаем показатели конверсии и среднего чека для каждой группы."
   ]
  },
  {
   "cell_type": "code",
   "execution_count": 60,
   "metadata": {},
   "outputs": [
    {
     "data": {
      "text/html": [
       "<div>\n",
       "<style scoped>\n",
       "    .dataframe tbody tr th:only-of-type {\n",
       "        vertical-align: middle;\n",
       "    }\n",
       "\n",
       "    .dataframe tbody tr th {\n",
       "        vertical-align: top;\n",
       "    }\n",
       "\n",
       "    .dataframe thead th {\n",
       "        text-align: right;\n",
       "    }\n",
       "</style>\n",
       "<table border=\"1\" class=\"dataframe\">\n",
       "  <thead>\n",
       "    <tr style=\"text-align: right;\">\n",
       "      <th></th>\n",
       "      <th>count_of_visits</th>\n",
       "      <th>count_of_purchases</th>\n",
       "      <th>sum_of_purchases</th>\n",
       "      <th>conversion</th>\n",
       "      <th>avg_bill</th>\n",
       "    </tr>\n",
       "    <tr>\n",
       "      <th>group</th>\n",
       "      <th></th>\n",
       "      <th></th>\n",
       "      <th></th>\n",
       "      <th></th>\n",
       "      <th></th>\n",
       "    </tr>\n",
       "  </thead>\n",
       "  <tbody>\n",
       "    <tr>\n",
       "      <th>A</th>\n",
       "      <td>145307</td>\n",
       "      <td>17487</td>\n",
       "      <td>1417780000</td>\n",
       "      <td>0.120345</td>\n",
       "      <td>81076.228055</td>\n",
       "    </tr>\n",
       "    <tr>\n",
       "      <th>B</th>\n",
       "      <td>145381</td>\n",
       "      <td>17290</td>\n",
       "      <td>1533010000</td>\n",
       "      <td>0.118929</td>\n",
       "      <td>88664.545980</td>\n",
       "    </tr>\n",
       "  </tbody>\n",
       "</table>\n",
       "</div>"
      ],
      "text/plain": [
       "       count_of_visits  count_of_purchases  sum_of_purchases  conversion  \\\n",
       "group                                                                      \n",
       "A               145307               17487        1417780000    0.120345   \n",
       "B               145381               17290        1533010000    0.118929   \n",
       "\n",
       "           avg_bill  \n",
       "group                \n",
       "A      81076.228055  \n",
       "B      88664.545980  "
      ]
     },
     "execution_count": 60,
     "metadata": {},
     "output_type": "execute_result"
    }
   ],
   "source": [
    "grouped_data['conversion'] = grouped_data['count_of_purchases'] / grouped_data['count_of_visits']\n",
    "grouped_data['avg_bill'] = grouped_data['sum_of_purchases'] / grouped_data['count_of_purchases']\n",
    "grouped_data"
   ]
  },
  {
   "cell_type": "markdown",
   "metadata": {},
   "source": [
    "Значение коверсии выше в контрольной группе (А), при этом значение среднего чека выше в тестовой группе (В). Являются ли эти результаты статистически значимыми проверим в дальнейшем.\n",
    "\n",
    "Рассчитаем кумулятивные показатели для анализа даных на предмет стабилизации метрик."
   ]
  },
  {
   "cell_type": "code",
   "execution_count": 68,
   "metadata": {},
   "outputs": [
    {
     "data": {
      "text/html": [
       "<div>\n",
       "<style scoped>\n",
       "    .dataframe tbody tr th:only-of-type {\n",
       "        vertical-align: middle;\n",
       "    }\n",
       "\n",
       "    .dataframe tbody tr th {\n",
       "        vertical-align: top;\n",
       "    }\n",
       "\n",
       "    .dataframe thead th {\n",
       "        text-align: right;\n",
       "    }\n",
       "</style>\n",
       "<table border=\"1\" class=\"dataframe\">\n",
       "  <thead>\n",
       "    <tr style=\"text-align: right;\">\n",
       "      <th></th>\n",
       "      <th>date</th>\n",
       "      <th>group</th>\n",
       "      <th>count_of_visits</th>\n",
       "      <th>count_of_purchases</th>\n",
       "      <th>sum_of_purchases</th>\n",
       "    </tr>\n",
       "  </thead>\n",
       "  <tbody>\n",
       "    <tr>\n",
       "      <th>0</th>\n",
       "      <td>2021-01-02</td>\n",
       "      <td>A</td>\n",
       "      <td>2854</td>\n",
       "      <td>359</td>\n",
       "      <td>29410000</td>\n",
       "    </tr>\n",
       "    <tr>\n",
       "      <th>1</th>\n",
       "      <td>2021-01-02</td>\n",
       "      <td>B</td>\n",
       "      <td>2861</td>\n",
       "      <td>345</td>\n",
       "      <td>29660000</td>\n",
       "    </tr>\n",
       "    <tr>\n",
       "      <th>2</th>\n",
       "      <td>2021-01-03</td>\n",
       "      <td>A</td>\n",
       "      <td>6596</td>\n",
       "      <td>748</td>\n",
       "      <td>62000000</td>\n",
       "    </tr>\n",
       "    <tr>\n",
       "      <th>3</th>\n",
       "      <td>2021-01-03</td>\n",
       "      <td>B</td>\n",
       "      <td>6619</td>\n",
       "      <td>754</td>\n",
       "      <td>65960000</td>\n",
       "    </tr>\n",
       "    <tr>\n",
       "      <th>4</th>\n",
       "      <td>2021-01-04</td>\n",
       "      <td>A</td>\n",
       "      <td>6566</td>\n",
       "      <td>799</td>\n",
       "      <td>64250000</td>\n",
       "    </tr>\n",
       "  </tbody>\n",
       "</table>\n",
       "</div>"
      ],
      "text/plain": [
       "        date group  count_of_visits  count_of_purchases  sum_of_purchases\n",
       "0 2021-01-02     A             2854                 359          29410000\n",
       "1 2021-01-02     B             2861                 345          29660000\n",
       "2 2021-01-03     A             6596                 748          62000000\n",
       "3 2021-01-03     B             6619                 754          65960000\n",
       "4 2021-01-04     A             6566                 799          64250000"
      ]
     },
     "execution_count": 68,
     "metadata": {},
     "output_type": "execute_result"
    }
   ],
   "source": [
    "daily_data = data.groupby(['date','group']).agg({\n",
    "    'user_id': 'count',\n",
    "    'purchase': 'sum',\n",
    "    'price': 'sum'\n",
    "}).reset_index().rename({'user_id': 'count_of_visits', \n",
    "           'purchase': 'count_of_purchases',\n",
    "           'price': 'sum_of_purchases'}, axis=1)\n",
    "daily_data.head()"
   ]
  },
  {
   "cell_type": "code",
   "execution_count": 69,
   "metadata": {},
   "outputs": [
    {
     "data": {
      "text/html": [
       "<div>\n",
       "<style scoped>\n",
       "    .dataframe tbody tr th:only-of-type {\n",
       "        vertical-align: middle;\n",
       "    }\n",
       "\n",
       "    .dataframe tbody tr th {\n",
       "        vertical-align: top;\n",
       "    }\n",
       "\n",
       "    .dataframe thead th {\n",
       "        text-align: right;\n",
       "    }\n",
       "</style>\n",
       "<table border=\"1\" class=\"dataframe\">\n",
       "  <thead>\n",
       "    <tr style=\"text-align: right;\">\n",
       "      <th></th>\n",
       "      <th>date</th>\n",
       "      <th>group</th>\n",
       "      <th>count_of_visits</th>\n",
       "      <th>count_of_purchases</th>\n",
       "      <th>sum_of_purchases</th>\n",
       "      <th>conversion</th>\n",
       "      <th>avg_bill</th>\n",
       "    </tr>\n",
       "  </thead>\n",
       "  <tbody>\n",
       "    <tr>\n",
       "      <th>0</th>\n",
       "      <td>2021-01-02</td>\n",
       "      <td>A</td>\n",
       "      <td>2854</td>\n",
       "      <td>359</td>\n",
       "      <td>29410000</td>\n",
       "      <td>0.125788</td>\n",
       "      <td>81922.005571</td>\n",
       "    </tr>\n",
       "    <tr>\n",
       "      <th>1</th>\n",
       "      <td>2021-01-02</td>\n",
       "      <td>B</td>\n",
       "      <td>2861</td>\n",
       "      <td>345</td>\n",
       "      <td>29660000</td>\n",
       "      <td>0.120587</td>\n",
       "      <td>85971.014493</td>\n",
       "    </tr>\n",
       "    <tr>\n",
       "      <th>2</th>\n",
       "      <td>2021-01-03</td>\n",
       "      <td>A</td>\n",
       "      <td>6596</td>\n",
       "      <td>748</td>\n",
       "      <td>62000000</td>\n",
       "      <td>0.113402</td>\n",
       "      <td>82887.700535</td>\n",
       "    </tr>\n",
       "    <tr>\n",
       "      <th>3</th>\n",
       "      <td>2021-01-03</td>\n",
       "      <td>B</td>\n",
       "      <td>6619</td>\n",
       "      <td>754</td>\n",
       "      <td>65960000</td>\n",
       "      <td>0.113914</td>\n",
       "      <td>87480.106101</td>\n",
       "    </tr>\n",
       "    <tr>\n",
       "      <th>4</th>\n",
       "      <td>2021-01-04</td>\n",
       "      <td>A</td>\n",
       "      <td>6566</td>\n",
       "      <td>799</td>\n",
       "      <td>64250000</td>\n",
       "      <td>0.121687</td>\n",
       "      <td>80413.016270</td>\n",
       "    </tr>\n",
       "  </tbody>\n",
       "</table>\n",
       "</div>"
      ],
      "text/plain": [
       "        date group  count_of_visits  count_of_purchases  sum_of_purchases  \\\n",
       "0 2021-01-02     A             2854                 359          29410000   \n",
       "1 2021-01-02     B             2861                 345          29660000   \n",
       "2 2021-01-03     A             6596                 748          62000000   \n",
       "3 2021-01-03     B             6619                 754          65960000   \n",
       "4 2021-01-04     A             6566                 799          64250000   \n",
       "\n",
       "   conversion      avg_bill  \n",
       "0    0.125788  81922.005571  \n",
       "1    0.120587  85971.014493  \n",
       "2    0.113402  82887.700535  \n",
       "3    0.113914  87480.106101  \n",
       "4    0.121687  80413.016270  "
      ]
     },
     "execution_count": 69,
     "metadata": {},
     "output_type": "execute_result"
    }
   ],
   "source": [
    "daily_data['conversion'] = daily_data['count_of_purchases'] / daily_data['count_of_visits']\n",
    "daily_data['avg_bill'] = daily_data['sum_of_purchases'] / daily_data['count_of_purchases']\n",
    "daily_data.head()"
   ]
  },
  {
   "cell_type": "code",
   "execution_count": 70,
   "metadata": {},
   "outputs": [
    {
     "data": {
      "text/html": [
       "<div>\n",
       "<style scoped>\n",
       "    .dataframe tbody tr th:only-of-type {\n",
       "        vertical-align: middle;\n",
       "    }\n",
       "\n",
       "    .dataframe tbody tr th {\n",
       "        vertical-align: top;\n",
       "    }\n",
       "\n",
       "    .dataframe thead th {\n",
       "        text-align: right;\n",
       "    }\n",
       "</style>\n",
       "<table border=\"1\" class=\"dataframe\">\n",
       "  <thead>\n",
       "    <tr style=\"text-align: right;\">\n",
       "      <th></th>\n",
       "      <th>date</th>\n",
       "      <th>group</th>\n",
       "      <th>count_of_visits</th>\n",
       "      <th>count_of_purchases</th>\n",
       "      <th>sum_of_purchases</th>\n",
       "      <th>conversion</th>\n",
       "      <th>avg_bill</th>\n",
       "      <th>cum_count_of_visits</th>\n",
       "      <th>cum_count_of_purchases</th>\n",
       "      <th>cum_sum_of_purchases</th>\n",
       "      <th>cum_conversion</th>\n",
       "      <th>cum_avg_bill</th>\n",
       "    </tr>\n",
       "  </thead>\n",
       "  <tbody>\n",
       "    <tr>\n",
       "      <th>0</th>\n",
       "      <td>2021-01-02</td>\n",
       "      <td>A</td>\n",
       "      <td>2854</td>\n",
       "      <td>359</td>\n",
       "      <td>29410000</td>\n",
       "      <td>0.125788</td>\n",
       "      <td>81922.005571</td>\n",
       "      <td>2854</td>\n",
       "      <td>359</td>\n",
       "      <td>29410000</td>\n",
       "      <td>0.125788</td>\n",
       "      <td>81922.005571</td>\n",
       "    </tr>\n",
       "    <tr>\n",
       "      <th>1</th>\n",
       "      <td>2021-01-02</td>\n",
       "      <td>B</td>\n",
       "      <td>2861</td>\n",
       "      <td>345</td>\n",
       "      <td>29660000</td>\n",
       "      <td>0.120587</td>\n",
       "      <td>85971.014493</td>\n",
       "      <td>5715</td>\n",
       "      <td>704</td>\n",
       "      <td>59070000</td>\n",
       "      <td>0.123185</td>\n",
       "      <td>83906.250000</td>\n",
       "    </tr>\n",
       "    <tr>\n",
       "      <th>2</th>\n",
       "      <td>2021-01-03</td>\n",
       "      <td>A</td>\n",
       "      <td>6596</td>\n",
       "      <td>748</td>\n",
       "      <td>62000000</td>\n",
       "      <td>0.113402</td>\n",
       "      <td>82887.700535</td>\n",
       "      <td>12311</td>\n",
       "      <td>1452</td>\n",
       "      <td>121070000</td>\n",
       "      <td>0.117943</td>\n",
       "      <td>83381.542700</td>\n",
       "    </tr>\n",
       "    <tr>\n",
       "      <th>3</th>\n",
       "      <td>2021-01-03</td>\n",
       "      <td>B</td>\n",
       "      <td>6619</td>\n",
       "      <td>754</td>\n",
       "      <td>65960000</td>\n",
       "      <td>0.113914</td>\n",
       "      <td>87480.106101</td>\n",
       "      <td>18930</td>\n",
       "      <td>2206</td>\n",
       "      <td>187030000</td>\n",
       "      <td>0.116535</td>\n",
       "      <td>84782.411605</td>\n",
       "    </tr>\n",
       "    <tr>\n",
       "      <th>4</th>\n",
       "      <td>2021-01-04</td>\n",
       "      <td>A</td>\n",
       "      <td>6566</td>\n",
       "      <td>799</td>\n",
       "      <td>64250000</td>\n",
       "      <td>0.121687</td>\n",
       "      <td>80413.016270</td>\n",
       "      <td>25496</td>\n",
       "      <td>3005</td>\n",
       "      <td>251280000</td>\n",
       "      <td>0.117862</td>\n",
       "      <td>83620.632280</td>\n",
       "    </tr>\n",
       "  </tbody>\n",
       "</table>\n",
       "</div>"
      ],
      "text/plain": [
       "        date group  count_of_visits  count_of_purchases  sum_of_purchases  \\\n",
       "0 2021-01-02     A             2854                 359          29410000   \n",
       "1 2021-01-02     B             2861                 345          29660000   \n",
       "2 2021-01-03     A             6596                 748          62000000   \n",
       "3 2021-01-03     B             6619                 754          65960000   \n",
       "4 2021-01-04     A             6566                 799          64250000   \n",
       "\n",
       "   conversion      avg_bill  cum_count_of_visits  cum_count_of_purchases  \\\n",
       "0    0.125788  81922.005571                 2854                     359   \n",
       "1    0.120587  85971.014493                 5715                     704   \n",
       "2    0.113402  82887.700535                12311                    1452   \n",
       "3    0.113914  87480.106101                18930                    2206   \n",
       "4    0.121687  80413.016270                25496                    3005   \n",
       "\n",
       "   cum_sum_of_purchases  cum_conversion  cum_avg_bill  \n",
       "0              29410000        0.125788  81922.005571  \n",
       "1              59070000        0.123185  83906.250000  \n",
       "2             121070000        0.117943  83381.542700  \n",
       "3             187030000        0.116535  84782.411605  \n",
       "4             251280000        0.117862  83620.632280  "
      ]
     },
     "execution_count": 70,
     "metadata": {},
     "output_type": "execute_result"
    }
   ],
   "source": [
    "daily_data['cum_count_of_visits'] = daily_data['count_of_visits'].cumsum()\n",
    "daily_data['cum_count_of_purchases'] = daily_data['count_of_purchases'].cumsum()\n",
    "daily_data['cum_sum_of_purchases'] = daily_data['sum_of_purchases'].cumsum()\n",
    "daily_data['cum_conversion'] = daily_data['cum_count_of_purchases'] / daily_data['cum_count_of_visits']\n",
    "daily_data['cum_avg_bill'] = daily_data['cum_sum_of_purchases'] / daily_data['cum_count_of_purchases']\n",
    "daily_data.head()"
   ]
  },
  {
   "cell_type": "code",
   "execution_count": 78,
   "metadata": {},
   "outputs": [
    {
     "data": {
      "image/png": "[encoded data removed]"
     },
     "metadata": {},
     "output_type": "display_data"
    }
   ],
   "source": [
    "fig = px.line(\n",
    "    daily_data, \n",
    "    x='date', \n",
    "    y='cum_conversion', \n",
    "    color='group',\n",
    "    title='График кумулятивной конверсии по дням'\n",
    "    )\n",
    "fig.show('png')"
   ]
  },
  {
   "cell_type": "code",
   "execution_count": 79,
   "metadata": {},
   "outputs": [
    {
     "data": {
      "image/png": "[encoded data removed]"
     },
     "metadata": {},
     "output_type": "display_data"
    }
   ],
   "source": [
    "fig = px.line(\n",
    "    daily_data, \n",
    "    x='date', \n",
    "    y='cum_avg_bill', \n",
    "    color='group',\n",
    "    title='График кумулятивного среднего чека по дням'\n",
    "    )\n",
    "fig.show('png')"
   ]
  },
  {
   "cell_type": "markdown",
   "metadata": {},
   "source": [
    "На графиках мы видим, что значения метрик стабилизировались во времени - A/B-тест можно назвать завершенным. При этом значения метрик практически равны в обеих группах."
   ]
  },
  {
   "cell_type": "markdown",
   "metadata": {},
   "source": [
    "### 4. Статистический анализ результатов  A/B-тестирования"
   ]
  },
  {
   "cell_type": "markdown",
   "metadata": {},
   "source": [
    "#### 1. Статистический тест для конверсии.\n",
    "\n",
    "Сформулируем следующие гипотезы:\n",
    "- Нулевая: конверсии в группах А и В равны\n",
    "$$ H_0 : p_a = p_b $$ \n",
    "- Альтернативная: конверсии в группах A и В  не равны\n",
    "$$ H_1 : p_a \\neq p_b $$ \n",
    "\n",
    "Будем использовать Z-тест для пропорций."
   ]
  },
  {
   "cell_type": "code",
   "execution_count": 81,
   "metadata": {},
   "outputs": [
    {
     "name": "stdout",
     "output_type": "stream",
     "text": [
      "p-value:  0.239\n",
      "У нас нет оснований отвергнуть нулевую гипотезу\n"
     ]
    }
   ],
   "source": [
    "alpha = 0.05 # уровень значимости\n",
    "# вычисляем значение p-value для z-теста для пропорций\n",
    "_, p_value = proportions_ztest(\n",
    "    count=grouped_data['count_of_purchases'], #число «успехов»\n",
    "    nobs=grouped_data['count_of_visits'], #общее число наблюдений\n",
    "    alternative='two-sided',\n",
    ")\n",
    "# выводим результат на экран\n",
    "print('p-value: ', round(p_value, 3))\n",
    "# сравниваем полученное p-value с уровнем значимости\n",
    "if (p_value <= alpha):\n",
    "    print(\"Отвергаем нулевую гипотезу в пользу альтернативной\")\n",
    "else:\n",
    "    print(\"У нас нет оснований отвергнуть нулевую гипотезу\")"
   ]
  },
  {
   "cell_type": "markdown",
   "metadata": {},
   "source": [
    "При проведении теста p-value выше установленного уровня значимости, у нас нет оснований отвергнуть нулевую гипотезу, т.е. конверсии в группах A и В равны. "
   ]
  },
  {
   "cell_type": "markdown",
   "metadata": {},
   "source": [
    "#### 2. Статистический тест для ежедневного среднего чека.\n",
    "\n",
    "Для начала построим гистограмму для ежедневного среднего чека."
   ]
  },
  {
   "cell_type": "code",
   "execution_count": 100,
   "metadata": {},
   "outputs": [
    {
     "data": {
      "image/png": "[encoded data removed]"
     },
     "metadata": {},
     "output_type": "display_data"
    },
    {
     "data": {
      "image/png": "[encoded data removed]"
     },
     "metadata": {},
     "output_type": "display_data"
    }
   ],
   "source": [
    "fig_a = px.histogram(\n",
    "    daily_data[daily_data['group']=='A'], \n",
    "    x='avg_bill',\n",
    "    title='Распределение ежедневного среднего чека в группе А'\n",
    ")\n",
    "fig_b = px.histogram(\n",
    "    daily_data[daily_data['group']=='B'], \n",
    "    x='avg_bill',\n",
    "    title='Распределение ежедневного среднего чека в группе B'\n",
    ")\n",
    "fig_a.show('png')\n",
    "fig_b.show('png')"
   ]
  },
  {
   "cell_type": "markdown",
   "metadata": {},
   "source": [
    "Давайте проверим гипотезу о нормальности обоих распределений с помощью критерия Шапиро — Уилка.\n",
    "\n",
    "Зададим уровень значимости 0.5 и проверим гипотезу о нормальности каждого из распределений (нулевая гипотеза — распределение нормальное, альтернативная — распределение отлично от нормального):"
   ]
  },
  {
   "cell_type": "code",
   "execution_count": 97,
   "metadata": {},
   "outputs": [
    {
     "name": "stdout",
     "output_type": "stream",
     "text": [
      "p-value группы А 0.25\n",
      "p-value группы B 0.09\n",
      "Принимаем нулевую гипотезу. Распределение в группе А является нормальным\n",
      "Принимаем нулевую гипотезу. Распределение в группе B является нормальным\n"
     ]
    }
   ],
   "source": [
    "alpha = 0.05 # уровень значимости\n",
    "# вычисляем результат теста Шапиро — Уилка для выборок\n",
    "shapiro_result_a = shapiro(daily_data[daily_data['group']=='A']['avg_bill'])\n",
    "shapiro_result_b = shapiro(daily_data[daily_data['group']=='B']['avg_bill'])\n",
    "print('p-value группы А', round(shapiro_result_a.pvalue, 2))\n",
    "print('p-value группы B', round(shapiro_result_b.pvalue, 2))\n",
    "\n",
    "# сравниваем полученное p-value для группы А с уровнем значимости\n",
    "if shapiro_result_a.pvalue <= alpha:\n",
    "    print(\"Отвергаем нулевую гипотезу в пользу альтернативной. Распределение в группе А отлично от нормального\")\n",
    "else:\n",
    "    print(\"Принимаем нулевую гипотезу. Распределение в группе А является нормальным\")\n",
    "\n",
    "# сравниваем полученное p-value для группы B с уровнем значимости\n",
    "if shapiro_result_b.pvalue <= alpha:\n",
    "    print(\"Отвергаем нулевую гипотезу в пользу альтернативной. Распределение в группе B отлично от нормального\")\n",
    "else:\n",
    "    print(\"Принимаем нулевую гипотезу. Распределение в группе B является нормальным\")"
   ]
  },
  {
   "cell_type": "markdown",
   "metadata": {},
   "source": [
    "Итак, распределение в обеих группах нормальное, а значит, мы можем воспользоваться T-тестом, чтобы сравнить значение ежедневного среднего чека в группах.\n",
    "\n",
    "Сформулируем статистические гипотезы для T-теста:\n",
    "\n",
    "- Нулевая гипотеза: значения среднего чека в группах А и B равны:\n",
    "$$ H_0:\\mu_a=\\mu_b $$\n",
    "\n",
    "- Альтернативная гипотеза: значения среднего чека в группах А и B не равны\n",
    "$$ H_1:\\mu_a \\neq \\mu_b $$\n"
   ]
  },
  {
   "cell_type": "code",
   "execution_count": 102,
   "metadata": {},
   "outputs": [
    {
     "name": "stdout",
     "output_type": "stream",
     "text": [
      "p-value: 0.0\n",
      "Отвергаем нулевую гипотезу в пользу альтернативной\n"
     ]
    }
   ],
   "source": [
    "alpha = 0.05 #уровень значимости\n",
    "# вычисляем результат T-теста для выборок\n",
    "results = ttest_ind(\n",
    "    a=daily_data[daily_data['group']=='A']['avg_bill'],\n",
    "    b=daily_data[daily_data['group']=='B']['avg_bill'],\n",
    "    alternative='two-sided'\n",
    ")\n",
    "print('p-value:', round(results.pvalue, 2))\n",
    "\n",
    "# сравниваем полученное p-value с уровнем значимости\n",
    "if results.pvalue <= alpha:\n",
    "    print(\"Отвергаем нулевую гипотезу в пользу альтернативной\")\n",
    "else:\n",
    "    print(\"У нас нет оснований отвергнуть нулевую гипотезу\")"
   ]
  },
  {
   "cell_type": "markdown",
   "metadata": {},
   "source": [
    "Итак, в результате проведения T-теста мы получили p-value = 0, что меньше, чем уровень значимости. Это значит, что мы отвергаем нулевую гипотезу в пользу альтернативной, то есть разница в значениях среднего чека в группах статистически значима.\n",
    "\n",
    "Проверим дополнительно одностороннюю гипотезу, чтобы убедиться, что средний чек выше в тестовой группе (B).\n",
    "\n",
    "Сформулируем статистические гипотезы следующим образом:\n",
    "\n",
    "- Нулевая гипотеза: средний чек в группе А больше или равен среднему чеку в группе B:\n",
    "$$ H_0:\\mu_a \\geq \\mu_b $$\n",
    "\n",
    "- Альтернативная гипотеза: средний чек в группе А меньше среднего чека в группе B:\n",
    "$$ H_1:\\mu_a < \\mu_b $$"
   ]
  },
  {
   "cell_type": "code",
   "execution_count": 105,
   "metadata": {},
   "outputs": [
    {
     "name": "stdout",
     "output_type": "stream",
     "text": [
      "p-value: 0.0\n",
      "Отвергаем нулевую гипотезу в пользу альтернативной\n"
     ]
    }
   ],
   "source": [
    "alpha = 0.05 #уровень значимости\n",
    "# вычисляем результат T-теста для выборок\n",
    "results = ttest_ind(\n",
    "    a=daily_data[daily_data['group']=='A']['avg_bill'],\n",
    "    b=daily_data[daily_data['group']=='B']['avg_bill'],\n",
    "    alternative='less'\n",
    ")\n",
    "print('p-value:', round(results.pvalue, 2))\n",
    "\n",
    "# сравниваем полученное p-value с уровнем значимости\n",
    "if results.pvalue <= alpha:\n",
    "    print(\"Отвергаем нулевую гипотезу в пользу альтернативной\")\n",
    "else:\n",
    "    print(\"У нас нет оснований отвергнуть нулевую гипотезу\")"
   ]
  },
  {
   "cell_type": "markdown",
   "metadata": {},
   "source": [
    "Итак, мы убедились, что средний чек в группе B выше среднего чека в группе A с установленным уровнем значимости 0.05"
   ]
  },
  {
   "cell_type": "markdown",
   "metadata": {},
   "source": [
    "#### 3. Доверительный интервал для конверсии"
   ]
  },
  {
   "cell_type": "markdown",
   "metadata": {},
   "source": [
    "Вычислим доверитильный интревал для конверсии в каждой из групп."
   ]
  },
  {
   "cell_type": "code",
   "execution_count": 112,
   "metadata": {},
   "outputs": [
    {
     "name": "stdout",
     "output_type": "stream",
     "text": [
      "Доверительный интервал для конверсии в группе А: (11.87, 12.2)\n",
      "Доверительный интервал для конверсии в группе B: (11.73, 12.06)\n"
     ]
    }
   ],
   "source": [
    "# вычисляем доверительный интервал для конверсии в группе A с уровнем доверия 0.95\n",
    "lower_bound_a, upper_bound_a = proportion.proportion_confint(\n",
    "    count=grouped_data.loc['A']['count_of_purchases'],\n",
    "    nobs=grouped_data.loc['A']['count_of_visits'],\n",
    "    alpha=0.05\n",
    ")\n",
    "\n",
    "# вычисляем доверительный интервал для конверсии в группе B с уровнем доверия 0.95\n",
    "lower_bound_b, upper_bound_b = proportion.proportion_confint(\n",
    "    count=grouped_data.loc['B']['count_of_purchases'],\n",
    "    nobs=grouped_data.loc['B']['count_of_visits'],\n",
    "    alpha=0.05\n",
    ")\n",
    "# выводим результат\n",
    "print('Доверительный интервал для конверсии в группе А: {}'.format((round(lower_bound_a * 100, 2), round(upper_bound_a * 100, 2))))\n",
    "print('Доверительный интервал для конверсии в группе B: {}'.format((round(lower_bound_b * 100, 2), round(upper_bound_b * 100, 2))))"
   ]
  },
  {
   "cell_type": "markdown",
   "metadata": {},
   "source": [
    "Мы видим, что доверительные интервалы для групп A и B имеют пересечение.\n",
    "\n",
    "Для наглядности построим также доверительный интервал разницы конверсий."
   ]
  },
  {
   "cell_type": "code",
   "execution_count": 114,
   "metadata": {},
   "outputs": [
    {
     "name": "stdout",
     "output_type": "stream",
     "text": [
      "Доверительный интервал для разности конверсий: (-0.38, 0.09)\n"
     ]
    }
   ],
   "source": [
    "# Функция для расчета доверительного интервала разницы конверсий в %\n",
    "def diff_proportion_conf_interval(x_p, n, gamma=0.95):\n",
    "    alpha = 1 - gamma # уровень значимости\n",
    "    diff = x_p[1] - x_p[0] # выборочная разница конверсий групп B и A\n",
    "    z_crit = -norm.ppf(alpha/2) #z-критическое\n",
    "    eps = z_crit * (x_p[0] * (1 - x_p[0])/n[0] + x_p[1] * (1 - x_p[1])/n[1]) ** 0.5 # погрешность\n",
    "    lower_bound = diff - eps # левая (нижняя) граница\n",
    "    upper_bound = diff + eps # правая (верхняя) граница\n",
    "    # возвращаем кортеж из  границ интервала\n",
    "    return lower_bound, upper_bound\n",
    "\n",
    "# размеры выборок групп А и B\n",
    "n = [grouped_data.loc['A']['count_of_visits'], grouped_data.loc['B']['count_of_visits']]\n",
    "# выборочная пропорция групп A и B\n",
    "x_p = [grouped_data.loc['A']['conversion'], grouped_data.loc['B']['conversion']]\n",
    "\n",
    "\n",
    "# строим доверительный интервал для разности пропорций\n",
    "lower_bound, upper_bound = diff_proportion_conf_interval(x_p=x_p, n=n)\n",
    "\n",
    "\n",
    "# выводим результат\n",
    "print('Доверительный интервал для разности конверсий: {}'.format((round(lower_bound*100, 2), round(upper_bound*100, 2))))"
   ]
  },
  {
   "cell_type": "markdown",
   "metadata": {},
   "source": [
    "Построенный доверительный интервал с 95 %-ой надёжностью говорит нам, что разница в конверсии между вариантом B и вариантом А лежит в интервале от -0.38 % до 0.09 %. То есть разница в конверсии может быть как положительной, так и отрицательной. \n",
    "\n",
    "Отсюда можно сделать вывод, что статистической разницы в конверсии между вариантами А и B не существует, то есть они являются равнозначными по данной метрике."
   ]
  },
  {
   "cell_type": "markdown",
   "metadata": {},
   "source": [
    "#### 4. Доверительный интервал для среднего чека в каждой из групп."
   ]
  },
  {
   "cell_type": "code",
   "execution_count": 127,
   "metadata": {},
   "outputs": [],
   "source": [
    "n_a = data[data['price'] != 0].groupby('group')['price'].count().loc['A']\n",
    "n_b = data[data['price'] != 0].groupby('group')['price'].count().loc['B']\n",
    "x_mean_a = data[data['price'] != 0].groupby('group')['price'].mean().loc['A']\n",
    "x_mean_b = data[data['price'] != 0].groupby('group')['price'].mean().loc['B']\n",
    "x_std_a = data[data['price'] != 0].groupby('group')['price'].std().loc['A']\n",
    "x_std_b = data[data['price'] != 0].groupby('group')['price'].std().loc['B']"
   ]
  },
  {
   "cell_type": "code",
   "execution_count": 130,
   "metadata": {},
   "outputs": [
    {
     "name": "stdout",
     "output_type": "stream",
     "text": [
      "Доверительный интервал для среднего чека в группе А: (80138, 82015)\n",
      "Доверительный интервал для среднего чека в группе В: (87728, 89601)\n"
     ]
    }
   ],
   "source": [
    "# строим доверительный интервал для среднего чека с уровнем надежность 0.95\n",
    "gamma=0.95\n",
    "lower_a, upper_a = t.interval(\n",
    "    gamma, \n",
    "    df=n_a-1, \n",
    "    loc=x_mean_a, \n",
    "    scale=x_std_a/(n_a ** 0.5)\n",
    ")\n",
    "\n",
    "lower_b, upper_b = t.interval(\n",
    "    gamma, \n",
    "    df=n_b-1, \n",
    "    loc=x_mean_b, \n",
    "    scale=x_std_b/(n_b ** 0.5)\n",
    ")\n",
    "\n",
    "print('Доверительный интервал для среднего чека в группе А: {}'.format((round(lower_a), round(upper_a))))\n",
    "print('Доверительный интервал для среднего чека в группе В: {}'.format((round(lower_b), round(upper_b))))\n"
   ]
  },
  {
   "cell_type": "markdown",
   "metadata": {},
   "source": [
    "Пересечения между доверительными интервалами для среднего чека в группе А и группе В нет, то есть мы еще раз подтверждаем полученный ранее вывод, что размер среднего чека в группе В выше среднего чека в группе А с уровнем надежности 95%."
   ]
  },
  {
   "cell_type": "markdown",
   "metadata": {},
   "source": [
    "### 5. Выводы\n",
    "\n",
    "На основании проведенного выше анализа результатов А/В-тестирования, можно сделать следующий выводы:\n",
    "- по метрики конверсии нет статистически значимой разницы между двумя вариантами посадочной страницы\n",
    "- по метрики среднего чека более предпочтительным является второй вариант посадочной страницы, который был показан пользователям из группы В"
   ]
  }
 ],
 "metadata": {
  "kernelspec": {
   "display_name": "Python 3 (ipykernel)",
   "language": "python",
   "name": "python3"
  },
  "language_info": {
   "codemirror_mode": {
    "name": "ipython",
    "version": 3
   },
   "file_extension": ".py",
   "mimetype": "text/x-python",
   "name": "python",
   "nbconvert_exporter": "python",
   "pygments_lexer": "ipython3",
   "version": "3.10.9"
  }
 },
 "nbformat": 4,
 "nbformat_minor": 2
}
