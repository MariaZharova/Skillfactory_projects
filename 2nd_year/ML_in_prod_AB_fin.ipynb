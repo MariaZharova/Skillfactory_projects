{
 "cells": [
  {
   "cell_type": "markdown",
   "id": "6af672c1",
   "metadata": {},
   "source": [
    "### Постановка задачи: Анализ эффективности рекламной кампании\n",
    "\n",
    "Компания провела A/B-тестирование для оценки влияния рекламной кампании на конверсию и взаимодействие с рекламными материалами. У нас есть данные, включающие информацию о пользователях, их принадлежности к контрольной и тестовой группам, конверсии, количестве увиденной рекламы и других параметрах. Задача состоит в проведении комплексного анализа с учетом следующих шагов:\n",
    "\n",
    "1) **Предобработка данных:**\n",
    "\n",
    "- Изучение структуры данных и их типов.\n",
    "- Преобразование столбцов к необходимым типам данных.\n",
    "- Проверка данных на наличие пропусков и их обработка.\n",
    "- Проверка наличия пользователей, попавших в обе группы, и исключение их из анализа.\n",
    "\n",
    "2) **Первичный анализ результатов A/B-тестирования:**\n",
    "\n",
    "- Рассчет вспомогательных показателей для контрольной и тестовой групп (количество посещений сайта, суммарное количество совершенных покупок).\n",
    "- Промежуточные выводы о сбалансированности выборок.\n",
    "\n",
    "3) **Статистические тесты для проверки гипотез:**\n",
    "\n",
    "- Сформулировать статистические гипотезы, соответствующие бизнес-вопросам.\n",
    "- Выбор статистического теста для проверки гипотез, учитывая нормальность данных.\n",
    "- Провести статистические тесты для оценки различий в конверсии и среднем количестве увиденной рекламы между группами.\n",
    "\n",
    "4) **Доверительные интервалы:**\n",
    "\n",
    "- Построение 95% доверительных интервалов для конверсии в каждой из групп, разницы конверсий и среднего количества увиденной рекламы в каждой из групп.\n",
    "\n",
    "5) **Выводы:**\n",
    "\n",
    "- Составление окончательного вывода по результатам анализа.\n",
    "- Оценка успеха рекламной кампании и ее влияния на конверсию.\n",
    "\n",
    "Задача заключается в том, чтобы предоставить компании информацию, которая поможет принять обоснованные решения относительно эффективности проведенной рекламной кампании."
   ]
  },
  {
   "cell_type": "markdown",
   "id": "bf9583f6",
   "metadata": {},
   "source": [
    "## Предобработка данных"
   ]
  },
  {
   "cell_type": "code",
   "execution_count": 18,
   "id": "7d273b67",
   "metadata": {},
   "outputs": [
    {
     "name": "stdout",
     "output_type": "stream",
     "text": [
      "   Unnamed: 0  user id test group  converted  total ads most ads day  \\\n",
      "0           0  1069124         ad      False        130       Monday   \n",
      "1           1  1119715         ad      False         93      Tuesday   \n",
      "2           2  1144181         ad      False         21      Tuesday   \n",
      "3           3  1435133         ad      False        355      Tuesday   \n",
      "4           4  1015700         ad      False        276       Friday   \n",
      "\n",
      "   most ads hour  \n",
      "0             20  \n",
      "1             22  \n",
      "2             18  \n",
      "3             10  \n",
      "4             14  \n",
      "<class 'pandas.core.frame.DataFrame'>\n",
      "RangeIndex: 588101 entries, 0 to 588100\n",
      "Data columns (total 7 columns):\n",
      " #   Column         Non-Null Count   Dtype \n",
      "---  ------         --------------   ----- \n",
      " 0   Unnamed: 0     588101 non-null  int64 \n",
      " 1   user id        588101 non-null  int64 \n",
      " 2   test group     588101 non-null  object\n",
      " 3   converted      588101 non-null  bool  \n",
      " 4   total ads      588101 non-null  int64 \n",
      " 5   most ads day   588101 non-null  object\n",
      " 6   most ads hour  588101 non-null  int64 \n",
      "dtypes: bool(1), int64(4), object(2)\n",
      "memory usage: 27.5+ MB\n",
      "None\n",
      "Unnamed: 0       0\n",
      "user id          0\n",
      "test group       0\n",
      "converted        0\n",
      "total ads        0\n",
      "most ads day     0\n",
      "most ads hour    0\n",
      "dtype: int64\n",
      "Количество посещений в контрольной группе: 23524\n",
      "Суммарное количество совершённых покупок в контрольной группе: 420\n",
      "Количество посещений в тестовой группе: 564577\n",
      "Суммарное количество совершённых покупок в тестовой группе: 14423\n"
     ]
    }
   ],
   "source": [
    "import pandas as pd\n",
    "import numpy as np\n",
    "from scipy.stats import shapiro\n",
    "from scipy.stats import mannwhitneyu\n",
    "import statsmodels.api as sm\n",
    "import matplotlib.pyplot as plt\n",
    "import seaborn as sns\n",
    "\n",
    "# Загрузка данных\n",
    "data = pd.read_csv('/Users/nadiagolub/Downloads/marketing_AB 2.csv')\n",
    "\n",
    "# Исследование структуры данных\n",
    "print(data.head())  # Вывод первых строк данных\n",
    "print(data.info())  # Общая информация о структуре данных\n",
    "\n",
    "# Преобразование столбцов к необходимым типам данных\n",
    "data['converted'] = data['converted'].astype(bool)\n",
    "data['total ads'] = data['total ads'].astype(int)\n",
    "\n",
    "# Проверка наличия пропусков и их удаление\n",
    "print(data.isnull().sum())  # Вывод количества пропущенных значений по каждому столбцу\n",
    "data = data.dropna()  # Удаление строк с пропущенными значениями\n",
    "\n",
    "# Проверка наличия пользователей, попавших в обе группы\n",
    "duplicated_users = data[data.duplicated(subset=['user id'], keep=False)]\n",
    "data = data.drop_duplicates(subset=['user id'], keep='first')  # Исключение дубликатов\n",
    "\n",
    "# Первичный анализ результатов A/B-тестирования\n",
    "control_group = data[data['test group'] == 'psa']\n",
    "test_group = data[data['test group'] == 'ad']\n",
    "\n",
    "# Вспомогательные показатели для контрольной и тестовой групп\n",
    "visits_control = control_group.shape[0]\n",
    "purchases_control = control_group[control_group['converted']].shape[0]\n",
    "\n",
    "visits_test = test_group.shape[0]\n",
    "purchases_test = test_group[test_group['converted']].shape[0]\n",
    "\n",
    "# Вывод результатов\n",
    "print(f\"Количество посещений в контрольной группе: {visits_control}\")\n",
    "print(f\"Суммарное количество совершённых покупок в контрольной группе: {purchases_control}\")\n",
    "print(f\"Количество посещений в тестовой группе: {visits_test}\")\n",
    "print(f\"Суммарное количество совершённых покупок в тестовой группе: {purchases_test}\")\n"
   ]
  },
  {
   "cell_type": "markdown",
   "id": "8775a798",
   "metadata": {},
   "source": [
    "### Исходные данные:\n",
    "\n",
    "1. **Сравнение количества посещений:**\n",
    "   - *Контрольная группа (psa):* 23,524 посещения.\n",
    "   - *Тестовая группа (ad):* 564,577 посещений.\n",
    "\n",
    "   Количество посещений тестовой группы значительно превышает количество посещений контрольной группы. Это может создать некоторые трудности при сравнении результатов, поскольку обе группы должны быть сопоставимыми.\n",
    "\n",
    "2. **Сбалансированность выборок:**\n",
    "   - *Контрольная группа (psa):* 23,524 посещения, 420 покупок.\n",
    "   - *Тестовая группа (ad):* 564,577 посещений, 14,423 покупок.\n",
    "\n",
    "   Несмотря на большое количество посещений в тестовой группе, количество покупок в контрольной группе относительно меньше. Это может быть вызвано различиями в конверсии между группами.\n",
    "\n",
    "### Промежуточные выводы:\n",
    "\n",
    "- Объем данных в тестовой группе значительно больше, что может повлиять на статистическую значимость результатов.\n",
    "- Сбалансированность по количеству покупок между группами требует дополнительного анализа, чтобы оценить эффективность рекламной кампании.\n"
   ]
  },
  {
   "cell_type": "code",
   "execution_count": 19,
   "id": "850006e2",
   "metadata": {},
   "outputs": [
    {
     "name": "stdout",
     "output_type": "stream",
     "text": [
      "Ключевые показатели для контрольной группы:\n",
      "Конверсия: 1.79%\n",
      "Среднее количество рекламы: 24.76\n",
      "\n",
      "\n",
      "Ключевые показатели для тестовой группы:\n",
      "Конверсия: 2.55%\n",
      "Среднее количество рекламы: 24.82\n"
     ]
    }
   ],
   "source": [
    "# Рассчитываем ключевые показатели для контрольной группы\n",
    "control_group = data[data['test group'] == 'psa']\n",
    "conversion_control = control_group['converted'].mean()\n",
    "mean_ads_control = control_group['total ads'].mean()\n",
    "\n",
    "# Рассчитываем ключевые показатели для тестовой группы\n",
    "test_group = data[data['test group'] == 'ad']\n",
    "conversion_test = test_group['converted'].mean()\n",
    "mean_ads_test = test_group['total ads'].mean()\n",
    "\n",
    "# Вывод результатов\n",
    "print(f\"Ключевые показатели для контрольной группы:\")\n",
    "print(f\"Конверсия: {conversion_control:.2%}\")\n",
    "print(f\"Среднее количество рекламы: {mean_ads_control:.2f}\")\n",
    "\n",
    "print(\"\\n\")\n",
    "\n",
    "print(f\"Ключевые показатели для тестовой группы:\")\n",
    "print(f\"Конверсия: {conversion_test:.2%}\")\n",
    "print(f\"Среднее количество рекламы: {mean_ads_test:.2f}\")\n"
   ]
  },
  {
   "cell_type": "markdown",
   "id": "22d45efa",
   "metadata": {},
   "source": [
    "## Первичный анализ результатов A/B-тестирования::\n",
    "\n",
    "**1. Конверсия:**\n",
    "   - *Контрольная группа:* 1.79%\n",
    "   - *Тестовая группа:* 2.55%\n",
    "\n",
    "   На первый взгляд, тестовая группа показывает более высокий уровень конверсии (2.55% против 1.79% в контрольной группе), что может свидетельствовать о более эффективной рекламной кампании.\n",
    "\n",
    "**2. Среднее количество рекламы:**\n",
    "   - *Контрольная группа:* 24.76\n",
    "   - *Тестовая группа:* 24.82\n",
    "\n",
    "   Среднее количество рекламы практически одинаково в обеих группах, что может говорить о сопоставимости интенсивности рекламного воздействия.\n",
    "\n",
    "### Общий вывод:\n",
    "\n",
    "На основе первичного анализа, тестовая группа демонстрирует более высокую конверсию, что может свидетельствовать о более успешной рекламной кампании. Однако различие в среднем количестве рекламы невелико и требует более глубокого анализа для вынесения окончательных выводов.\n"
   ]
  },
  {
   "cell_type": "code",
   "execution_count": 20,
   "id": "5929a81d",
   "metadata": {},
   "outputs": [
    {
     "name": "stdout",
     "output_type": "stream",
     "text": [
      "Shapiro-Wilk Test for converted in ad group (p-value): 0.0\n",
      "Shapiro-Wilk Test for converted in psa group (p-value): 0.0\n",
      "Shapiro-Wilk Test for total ads in ad group (p-value): 0.0\n"
     ]
    },
    {
     "name": "stderr",
     "output_type": "stream",
     "text": [
      "/Users/nadiagolub/opt/anaconda3/lib/python3.9/site-packages/scipy/stats/morestats.py:1760: UserWarning: p-value may not be accurate for N > 5000.\n",
      "  warnings.warn(\"p-value may not be accurate for N > 5000.\")\n"
     ]
    },
    {
     "name": "stdout",
     "output_type": "stream",
     "text": [
      "Shapiro-Wilk Test for total ads in psa group (p-value): 0.0\n",
      "Shapiro-Wilk Test for most ads hour in ad group (p-value): 0.0\n",
      "Shapiro-Wilk Test for most ads hour in psa group (p-value): 0.0\n"
     ]
    }
   ],
   "source": [
    "columns_to_check = ['converted', 'total ads', 'most ads hour']\n",
    "\n",
    "# Перечень групп\n",
    "groups = ['ad', 'psa']\n",
    "\n",
    "for column in columns_to_check:\n",
    "    for group in groups:\n",
    "        # Выбор данных для текущей группы и показателя\n",
    "        data_to_check = data[(data['test group'] == group)][column]\n",
    "        \n",
    "        # Проверка на нормальность с использованием теста Шапиро-Уилка\n",
    "        stat, p_value = shapiro(data_to_check)\n",
    "        \n",
    "        # Вывод результатов\n",
    "        print(f'Shapiro-Wilk Test for {column} in {group} group (p-value): {p_value}')"
   ]
  },
  {
   "cell_type": "markdown",
   "id": "14cbd2bc",
   "metadata": {},
   "source": [
    "**Вывод:**\n",
    "Результаты теста Шапиро-Уилка указывают на то, что данные не подчиняются нормальному распределению. Такие низкие p-значения (меньше общепринятого уровня значимости 0.05) говорят о том, что  есть статистически значимые доказательства отклонения от нормальности.\n",
    "\n",
    "## Статистические гипотезы для поставленных бизнес-вопросов:\n",
    "\n",
    "**Гипотеза о успешности кампании:**\n",
    "\n",
    "- Нулевая гипотеза (H0): Средняя конверсия в продажи между контрольной и тестовой группами не отличается.\n",
    "- Альтернативная гипотеза (H1): Средняя конверсия в продажи в тестовой группе выше, чем в контрольной.\n",
    "**Гипотеза об эффективности рекламы:**\n",
    "\n",
    "- Нулевая гипотеза (H0): Среднее количество рекламы, увиденной пользователями в контрольной и тестовой группах, не отличается.\n",
    "- Альтернативная гипотеза (H1): Среднее количество рекламы, увиденной пользователями в тестовой группе, больше, чем в контрольной.\n",
    "\n",
    "Выбор статистического теста зависит от природы данных и формулировки гипотез:\n",
    "\n",
    "**Для проверки конверсии:**\n",
    "\n",
    "- Используйте t-тест для независимых выборок, так как у вас две независимые группы (контрольная и тестовая).\n",
    "\n",
    "**Для проверки эффективности рекламы:**\n",
    "\n",
    "- Также можно использовать t-тест для независимых выборок, так как у вас две независимые группы.\n",
    "Тем не менее, учитывая, что данные не прошли тест на нормальность, может быть разумным воспользоваться непараметрическими альтернативами, такими как Mann-Whitney U-тест или аналогичные тесты для независимых выборок."
   ]
  },
  {
   "cell_type": "code",
   "execution_count": 21,
   "id": "c97b2949",
   "metadata": {},
   "outputs": [
    {
     "name": "stdout",
     "output_type": "stream",
     "text": [
      "Mann-Whitney U-тест для конверсии (p-value): 1.7053617930171878e-13\n",
      "Mann-Whitney U-тест для среднего количества рекламы (p-value): 4.6909108547205694e-11\n"
     ]
    }
   ],
   "source": [
    "# для конверсии\n",
    "stat, p_value = mannwhitneyu(data[data['test group'] == 'ad']['converted'],\n",
    "                              data[data['test group'] == 'psa']['converted'])\n",
    "print(f'Mann-Whitney U-тест для конверсии (p-value): {p_value}')\n",
    "\n",
    "# для среднего количества рекламы\n",
    "stat, p_value = mannwhitneyu(data[data['test group'] == 'ad']['total ads'],\n",
    "                              data[data['test group'] == 'psa']['total ads'])\n",
    "print(f'Mann-Whitney U-тест для среднего количества рекламы (p-value): {p_value}')"
   ]
  },
  {
   "cell_type": "markdown",
   "id": "06494e44",
   "metadata": {},
   "source": [
    "Результаты Mann-Whitney U-тестов для конверсии и среднего количества рекламы указывают на статистическую значимость различий между контрольной (psa) и тестовой (ad) группами.\n",
    "\n",
    "**Конверсия:**\n",
    "\n",
    "- P-value: 1.7053617930171878e-13 (меньше уровня значимости 0.05).\n",
    "- Значительная статистическая разница между конверсией в контрольной и тестовой группах.\n",
    "\n",
    "**Среднее количество рекламы:**\n",
    "\n",
    "- P-value: 4.6909108547205694e-11 (меньше уровня значимости 0.05).\n",
    "- Значительная статистическая разница в среднем количестве рекламы между контрольной и тестовой группами.\n",
    "\n",
    "Таким образом, на основе результатов тестов можно сделать вывод, что влияние рекламы статистически значимо, и она положительно сказывается на конверсии."
   ]
  },
  {
   "cell_type": "markdown",
   "id": "73671903",
   "metadata": {},
   "source": [
    "Мы использовали Mann-Whitney U-тест для сравнения конверсий и среднего количества увиденной рекламы в группах А (ad) и B (psa). В обоих случаях p-value были значительно меньше уровня значимости 0.05, что указывает на статистическую значимость различий между этими группами.\n",
    "\n",
    "Таким образом, мы можем сделать следующие выводы:\n",
    "\n",
    "**Конверсии:**\n",
    "\n",
    "- Статистически значимая разница между конверсиями в группах А и B.\n",
    "- Реклама оказывает влияние на конверсии, и эффект статистически подтвержден.\n",
    "\n",
    "**Среднее количество увиденной рекламы:**\n",
    "\n",
    "- Статистически значимая разница в среднем количестве увиденной рекламы в группах А и B.\n",
    "- Реклама статистически влияет на увиденное количество рекламы.\n",
    "\n",
    "Оба эти вывода подтверждают важность и эффективность рекламы влияние на конверсии и количество увиденной рекламы."
   ]
  },
  {
   "cell_type": "markdown",
   "id": "6a3846b4",
   "metadata": {},
   "source": [
    "## Доверительные интервалы:"
   ]
  },
  {
   "cell_type": "code",
   "execution_count": 31,
   "id": "a4019c75",
   "metadata": {},
   "outputs": [
    {
     "name": "stdout",
     "output_type": "stream",
     "text": [
      "95% Доверительный интервал для конверсии в группе ad: (0.0251349995427061, 0.025958119730661394)\n",
      "95% Доверительный интервал для конверсии в группе psa: (0.016161914715211324, 0.019546298173753137)\n",
      "95% Доверительный интервал для разницы конверсий в группах: (0.02439696161357476, 0.025208318091407913)\n",
      "95% Доверительный интервал для среднего количества увиденной рекламы в группе ad: (24.709242934208124, 24.93748727265471)\n",
      "95% Доверительный интервал для среднего количества увиденной рекламы в группе psa: (24.2133977421175, 25.308877381160855)\n"
     ]
    },
    {
     "data": {
      "image/png": "[encoded data removed]",
      "text/plain": [
       "<Figure size 1296x432 with 3 Axes>"
      ]
     },
     "metadata": {},
     "output_type": "display_data"
    }
   ],
   "source": [
    "# Подготовка данных для графика\n",
    "conversion_ad = data[data['test group'] == 'ad']['converted']\n",
    "conversion_psa = data[data['test group'] == 'psa']['converted']\n",
    "\n",
    "ads_ad = data[data['test group'] == 'ad']['total ads']\n",
    "ads_psa = data[data['test group'] == 'psa']['total ads']\n",
    "\n",
    "# Строим 95% доверительные интервалы\n",
    "conf_interval_conversion_ad = sm.stats.proportion_confint(conversion_ad.sum(), len(conversion_ad))\n",
    "conf_interval_conversion_psa = sm.stats.proportion_confint(conversion_psa.sum(), len(conversion_psa))\n",
    "conf_interval_diff_conversion = sm.stats.proportion_confint(conversion_ad.sum() - conversion_psa.sum(), len(conversion_ad))\n",
    "conf_interval_ads_ad = sm.stats.DescrStatsW(ads_ad).tconfint_mean()\n",
    "conf_interval_ads_psa = sm.stats.DescrStatsW(ads_psa).tconfint_mean()\n",
    "\n",
    "# Вывод результатов\n",
    "print(\"95% Доверительный интервал для конверсии в группе ad:\", conf_interval_conversion_ad)\n",
    "print(\"95% Доверительный интервал для конверсии в группе psa:\", conf_interval_conversion_psa)\n",
    "print(\"95% Доверительный интервал для разницы конверсий в группах:\", conf_interval_diff_conversion)\n",
    "print(\"95% Доверительный интервал для среднего количества увиденной рекламы в группе ad:\", conf_interval_ads_ad)\n",
    "print(\"95% Доверительный интервал для среднего количества увиденной рекламы в группе psa:\", conf_interval_ads_psa)\n",
    "\n",
    "# Построение графика\n",
    "plt.figure(figsize=(18, 6))\n",
    "\n",
    "# График конверсии\n",
    "plt.subplot(1, 3, 1)\n",
    "sns.pointplot(x=['ad', 'psa'], y=[conversion_ad.mean(), conversion_psa.mean()], ci=None, color='blue')\n",
    "plt.errorbar(x=['ad', 'psa'], y=[conversion_ad.mean(), conversion_psa.mean()],\n",
    "             yerr=[(conf_interval_conversion_ad[1] - conf_interval_conversion_ad[0]) / 2,\n",
    "                   (conf_interval_conversion_psa[1] - conf_interval_conversion_psa[0]) / 2],\n",
    "             fmt='o', color='red', markersize=8, capsize=5)\n",
    "plt.title('Conversion Rate with 95% CI')\n",
    "plt.ylabel('Conversion Rate')\n",
    "\n",
    "# График разницы конверсий\n",
    "plt.subplot(1, 3, 2)\n",
    "sns.pointplot(x=['ad vs. psa'], y=[conversion_ad.mean() - conversion_psa.mean()], ci=None, color='purple')\n",
    "plt.errorbar(x=['ad vs. psa'], y=[conversion_ad.mean() - conversion_psa.mean()],\n",
    "             yerr=[(conf_interval_diff_conversion[1] - conf_interval_diff_conversion[0]) / 2],\n",
    "             fmt='o', color='orange', markersize=8, capsize=5)\n",
    "plt.title('Difference in Conversion Rate with 95% CI')\n",
    "plt.ylabel('Difference in Conversion Rate')\n",
    "\n",
    "# График увиденной рекламы\n",
    "plt.subplot(1, 3, 3)\n",
    "sns.pointplot(x=['ad', 'psa'], y=[ads_ad.mean(), ads_psa.mean()], ci=None, color='green')\n",
    "plt.errorbar(x=['ad', 'psa'], y=[ads_ad.mean(), ads_psa.mean()],\n",
    "             yerr=[(conf_interval_ads_ad[1] - conf_interval_ads_ad[0]) / 2,\n",
    "                   (conf_interval_ads_psa[1] - conf_interval_ads_psa[0]) / 2],\n",
    "             fmt='o', color='orange', markersize=8, capsize=5)\n",
    "plt.title('Average Ads Seen with 95% CI')\n",
    "plt.ylabel('Average Ads Seen')\n",
    "\n",
    "plt.show()\n",
    "\n"
   ]
  },
  {
   "cell_type": "markdown",
   "id": "6a2d4e1d",
   "metadata": {},
   "source": [
    "**Конверсии:**\n",
    "\n",
    "- **Группа ad:** 95% доверительный интервал для конверсии находится между примерно 2.51% и 2.60%.\n",
    "- **Группа psa:** 95% доверительный интервал для конверсии находится между примерно 1.62% и 1.95%.\n",
    "\n",
    "**Вывод:** Доверительные интервалы для конверсии в обеих группах не пересекаются, что может свидетельствовать о статистически значимой разнице в конверсиях между группами.\n",
    "\n",
    "**Среднее количество увиденной рекламы:**\n",
    "\n",
    "- **Группа ad:** 95% доверительный интервал для среднего количества увиденной рекламы находится между примерно 24.71 и 24.94.\n",
    "- **Группа psa:** 95% доверительный интервал для среднего количества увиденной рекламы находится между примерно 24.21 и 25.31.\n",
    "\n",
    "**Вывод:** \n",
    "Доверительные интервалы для среднего количества увиденной рекламы в обеих группах пересекаются, что может указывать на отсутствие статистически значимой разницы между группами по этому параметру."
   ]
  },
  {
   "cell_type": "markdown",
   "id": "0eac279a",
   "metadata": {},
   "source": [
    "## На основе проведенного анализа, можно сделать следующие выводы:\n",
    "\n",
    "1) **Будет ли кампания успешной?**\n",
    "\n",
    "Да, кампания имеет потенциал быть успешной, поскольку конверсия в тестовой группе (контакт с рекламой) статистически значимо выше, чем в контрольной группе (контакт с государственным объявлением).\n",
    "\n",
    "2) **На сколько успех можно объяснить рекламой?**\n",
    "\n",
    "Реклама оказывает значительное положительное влияние на конверсию. Разница в конверсии между тестовой и контрольной группами подтверждает, что рекламная кампания способствует более успешным результатам.\n",
    "Таким образом, на основе текущих данных, можно предположить, что рекламная кампания является ключевым фактором в достижении успеха. "
   ]
  }
 ],
 "metadata": {
  "kernelspec": {
   "display_name": "Python 3 (ipykernel)",
   "language": "python",
   "name": "python3"
  },
  "language_info": {
   "codemirror_mode": {
    "name": "ipython",
    "version": 3
   },
   "file_extension": ".py",
   "mimetype": "text/x-python",
   "name": "python",
   "nbconvert_exporter": "python",
   "pygments_lexer": "ipython3",
   "version": "3.10.9"
  }
 },
 "nbformat": 4,
 "nbformat_minor": 5
}
