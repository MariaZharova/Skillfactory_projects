{
 "cells": [
  {
   "cell_type": "markdown",
   "id": "5f0247c8",
   "metadata": {},
   "source": [
    "# 🌟 Библиотека Requests Python\n",
    "\n",
    "Пример работы с Yandex Translate API [тут](https://www.digitalocean.com/community/tutorials/how-to-get-started-with-the-requests-library-in-python-ru). "
   ]
  },
  {
   "cell_type": "code",
   "execution_count": 48,
   "id": "dcd4bacc",
   "metadata": {},
   "outputs": [
    {
     "name": "stdout",
     "output_type": "stream",
     "text": [
      "<Response [200]>\n"
     ]
    }
   ],
   "source": [
    "import requests\n",
    "\n",
    "res = requests.get('https://yandex.ru')\n",
    "\n",
    "print(res)"
   ]
  },
  {
   "cell_type": "code",
   "execution_count": 49,
   "id": "335803f4",
   "metadata": {},
   "outputs": [
    {
     "data": {
      "text/plain": [
       "'https://sso.passport.yandex.ru/push?uuid=46d01eb7-6325-4d8c-b251-70096919cf83&retpath=https%3A%2F%2Fdzen.ru%2F%3Fyredirect%3Dtrue'"
      ]
     },
     "execution_count": 49,
     "metadata": {},
     "output_type": "execute_result"
    }
   ],
   "source": [
    "res.url"
   ]
  },
  {
   "cell_type": "code",
   "execution_count": 50,
   "id": "66b8b999",
   "metadata": {},
   "outputs": [
    {
     "data": {
      "text/plain": [
       "['__attrs__',\n",
       " '__bool__',\n",
       " '__class__',\n",
       " '__delattr__',\n",
       " '__dict__',\n",
       " '__dir__',\n",
       " '__doc__',\n",
       " '__enter__',\n",
       " '__eq__',\n",
       " '__exit__',\n",
       " '__format__',\n",
       " '__ge__',\n",
       " '__getattribute__',\n",
       " '__getstate__',\n",
       " '__gt__',\n",
       " '__hash__',\n",
       " '__init__',\n",
       " '__init_subclass__',\n",
       " '__iter__',\n",
       " '__le__',\n",
       " '__lt__',\n",
       " '__module__',\n",
       " '__ne__',\n",
       " '__new__',\n",
       " '__nonzero__',\n",
       " '__reduce__',\n",
       " '__reduce_ex__',\n",
       " '__repr__',\n",
       " '__setattr__',\n",
       " '__setstate__',\n",
       " '__sizeof__',\n",
       " '__str__',\n",
       " '__subclasshook__',\n",
       " '__weakref__',\n",
       " '_content',\n",
       " '_content_consumed',\n",
       " '_next',\n",
       " 'apparent_encoding',\n",
       " 'close',\n",
       " 'connection',\n",
       " 'content',\n",
       " 'cookies',\n",
       " 'elapsed',\n",
       " 'encoding',\n",
       " 'headers',\n",
       " 'history',\n",
       " 'is_permanent_redirect',\n",
       " 'is_redirect',\n",
       " 'iter_content',\n",
       " 'iter_lines',\n",
       " 'json',\n",
       " 'links',\n",
       " 'next',\n",
       " 'ok',\n",
       " 'raise_for_status',\n",
       " 'raw',\n",
       " 'reason',\n",
       " 'request',\n",
       " 'status_code',\n",
       " 'text',\n",
       " 'url']"
      ]
     },
     "execution_count": 50,
     "metadata": {},
     "output_type": "execute_result"
    }
   ],
   "source": [
    "dir(res)"
   ]
  },
  {
   "cell_type": "code",
   "execution_count": 51,
   "id": "02c1ed81",
   "metadata": {},
   "outputs": [
    {
     "name": "stdout",
     "output_type": "stream",
     "text": [
      "Response OK\n"
     ]
    }
   ],
   "source": [
    "if res:\n",
    "    print('Response OK')\n",
    "else:\n",
    "    print('Response Failed')"
   ]
  },
  {
   "cell_type": "code",
   "execution_count": 52,
   "id": "8ff04239",
   "metadata": {},
   "outputs": [
    {
     "name": "stdout",
     "output_type": "stream",
     "text": [
      "200\n"
     ]
    }
   ],
   "source": [
    "print(res.status_code)"
   ]
  },
  {
   "cell_type": "code",
   "execution_count": 53,
   "id": "5b23bd54",
   "metadata": {},
   "outputs": [
    {
     "name": "stdout",
     "output_type": "stream",
     "text": [
      "{'Server': 'nginx', 'Date': 'Mon, 26 Feb 2024 09:56:29 GMT', 'Content-Type': 'text/html; charset=utf-8', 'Transfer-Encoding': 'chunked', 'Connection': 'close', 'Vary': 'Accept-Encoding', 'X-Download-Options': 'noopen', 'X-Content-Type-Options': 'nosniff', 'Surrogate-Control': 'no-store', 'Cache-Control': 'no-store, no-cache, must-revalidate, proxy-revalidate', 'Pragma': 'no-cache', 'Expires': '0', 'X-DNS-Prefetch-Control': 'off', 'X-XSS-Protection': '1; mode=block', 'Content-Security-Policy': \"default-src 'none'; frame-ancestors https://*.dzen.ru https://dzen.ru; connect-src 'self'; script-src 'nonce-275495d01f391844fcca4a19d5ab64cf' 'self'; img-src 'self'\", 'Set-Cookie': 'mda2_beacon=1708941389380; Domain=.passport.yandex.ru; Expires=Tue, 19 Jan 2038 03:14:07 GMT; Secure; Path=/, ys=c_chck.892554076; Domain=.yandex.ru; Secure; Path=/, mda2_domains=dzen.ru; Domain=.passport.yandex.ru; Expires=Tue, 19 Jan 2038 03:14:07 GMT; Secure; Path=/', 'Referrer-Policy': 'origin', 'ETag': 'W/\"7a5-/pL5FdIdkOwV9McGGNz59bRu18I\"', 'Strict-Transport-Security': 'max-age=315360000; includeSubDomains', 'Content-Encoding': 'gzip'}\n"
     ]
    }
   ],
   "source": [
    "print(res.headers)"
   ]
  },
  {
   "cell_type": "code",
   "execution_count": 54,
   "id": "55a4fd34",
   "metadata": {},
   "outputs": [
    {
     "name": "stdout",
     "output_type": "stream",
     "text": [
      "<body></body><script nonce='275495d01f391844fcca4a19d5ab64cf'>var it = {\"host\":\"https:\\u002F\\u002Fsso.dzen.ru\\u002Finstall?uuid=46d01eb7-6325-4d8c-b251-70096919cf83\",\"retpath\":\"https:\\u002F\\u002Fdzen.ru\\u002F?yredirect=true\"};(function() { var form = document.createElement('form'); var element1 = document.createElement('input'); var element2 = document.createElement('input'); element1.name = 'retpath'; element1.type = 'hidden'; element1.value = it.retpath; form.appendChild(element1); element2.name = 'container'; element2.type = 'hidden'; element2.value = '1708941449.10142879.Aj-umevIoZKlmfOy.TPFzlUf12-iXGND5vaxLYavgfv9gIcDMzUeIzBmwtPR-T8HKMg0n624naEPgWreVthh_A56dQxv0FHtom7WrgU7AH1HCqF4eVXCrFdop4OeKJYnMrSraXYS85-gKRDzbXKm-l9BiG_d-I0qwfKZZNvrRpyY-dOz5aXPljEafTgnIId8HJR7skU5izPSILV05idNnpY-ZlOpNykHZPsAQ0Lg6TozOUshBW8gVifNpIyCkIFfALEzL7Mnd8gE20pdhaF_Op8V6da-FTJjP4LOOx4iODBYIXCG6bXU87b0a7p7t5O_hb0RQEFnJHBHbGNDhZmZitSCQBVlclT5fr1uI3EKXHuBgYIdp25AbLZ7FOAt41xxgf7totyZ-33NudUYvWU5AMIUA0IZSPZCYt1aVjz-YQHCaNyclZGWFPBNFV1evfhw_m0LrhYRGwaY2-emQh9wk9O8_H16V07FxRRYbQlS0vRqrgITYiDZiogx4Oukb9MBsaUvWqiIXbcDmEmRsE0R5_NFpr2J2GN1AzXMIqHb4k2r5lTntvDTy6QO4eI7g49Dy-lZ5afa-N2gjPTI_DTnY2j3t-vR9RLxJ81nSw3eRxbexTEEnCR13Jkk7Bur5bcHhC2TSnSyr2Lmh_lBQiGlBiMTWRytCds7yKpMFN4uItlWc7bRhS2LR2awPIFQv3pGTGFrfu2A6a8204YZIs6V0w1685V6OQZSIswTIbZi_NFifrJ93iOSHgaUzvc87E0YGbGKCt-zmyJtbv4RdgkMO_QDYkJ1McmBYpHE4DW3cnkVg142zj03A3rrJHHyGvft4_I_NCyxJF_9je-Z0JjVtYuk32XnxEbIuJlG2EUuO9wtAn-C-GkHXz9iJBLOXnqi5ppGWMytgMBPLWdtQ1TJs6iKTgHk3sA1v8JtbeyfD1B-e3k13o2Dv66l0OFtBSYV0EQfv0F-9PGu2gJL71ZBS0eW3QFK6i4HNR9wVnrGXgG12n3SONuGYwikoreAGLZuCeDsATN3k-XcHJLw-3GEgJNY3uwCTnRf5x9JeJDrMaA3CfpGuiIyGlTHzfVUQfkQMptyzINPdsOgpGUwpEdA3I3EsXBBP68_jD9kAK6oIQ_k3Hg_9wjNnjp_vkYLVEBCkeRqpNVFpEMV8NQOcg6hs86zOHWeMD-afeDjniqMOYz1b58XUDBXQP7NNc-isaw.dg9VUV9vKJD6htXlQt2SRw'; form.appendChild(element2); form.method = 'POST'; form.action = it.host; document.body.appendChild(form); form.submit();})();</script>\n"
     ]
    }
   ],
   "source": [
    "print(res.text)"
   ]
  }
 ],
 "metadata": {
  "kernelspec": {
   "display_name": "Python 3 (ipykernel)",
   "language": "python",
   "name": "python3"
  },
  "language_info": {
   "codemirror_mode": {
    "name": "ipython",
    "version": 3
   },
   "file_extension": ".py",
   "mimetype": "text/x-python",
   "name": "python",
   "nbconvert_exporter": "python",
   "pygments_lexer": "ipython3",
   "version": "3.9.7"
  }
 },
 "nbformat": 4,
 "nbformat_minor": 5
}
