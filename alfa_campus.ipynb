{
 "cells": [
  {
   "cell_type": "markdown",
   "metadata": {
    "id": "YS47-GmRJrwp"
   },
   "source": [
    "# Прогноз дохода клиентов\n",
    "\n",
    "https://www.kaggle.com/competitions/income-prediction-alfa-campus/overview\n"
   ]
  },
  {
   "cell_type": "markdown",
   "metadata": {
    "id": "6mThJQvULR8w"
   },
   "source": [
    "## Описание задачи\n",
    "\n",
    "Данное соревнование являлось итоговым проектом в рамках курса [Прикладной Data Science в финтехе](https://alfa-campus.ru/ds-fintech), организованного Альфа Банком.\n",
    "\n",
    "Задача прогнозирования дохода имеет особенное значение в Банке.\n",
    "Эта информация помогает точнее и более релевантно подбирать продукты и условия их приобретения, что в свою очередь вносит существенный вклад в прибыль Банка.\n",
    "Помимо ценности для Банка, оценка дохода является регуляторным требованием ЦБ в части расчета предельно допустимой кредитной нагрузки для клиента.\n",
    "\n",
    "Бизнес-задача: спрогнозировать доход клиента за определенный месяц.\n",
    "\n",
    "Техническая задача для специалиста в Data Science: построить модель машинного обучения, которая на основе предложенных характеристик клиента будет предсказывать числовой признак - доход клиента."
   ]
  },
  {
   "cell_type": "markdown",
   "metadata": {
    "id": "vLOWmeH9Gj0J"
   },
   "source": [
    "## Импорт библиотек"
   ]
  },
  {
   "cell_type": "code",
   "execution_count": null,
   "metadata": {
    "id": "J5d3TsElPwlo"
   },
   "outputs": [],
   "source": [
    "%%capture\n",
    "!pip install catboost\n",
    "!pip install optuna\n",
    "!pip install category_encoders"
   ]
  },
  {
   "cell_type": "code",
   "execution_count": null,
   "metadata": {
    "execution": {
     "iopub.execute_input": "2024-02-15T07:44:38.293353Z",
     "iopub.status.busy": "2024-02-15T07:44:38.292651Z",
     "iopub.status.idle": "2024-02-15T07:44:40.840334Z",
     "shell.execute_reply": "2024-02-15T07:44:40.839421Z",
     "shell.execute_reply.started": "2024-02-15T07:44:38.29332Z"
    },
    "id": "HYD2jesSPeJ5"
   },
   "outputs": [],
   "source": [
    "import numpy as np # linear algebra\n",
    "import pandas as pd\n",
    "import plotly.express as px\n",
    "import seaborn as sns\n",
    "import matplotlib.pyplot as plt\n",
    "from sklearn.model_selection import train_test_split, StratifiedKFold, KFold\n",
    "from sklearn.metrics import precision_recall_curve, auc\n",
    "from sklearn.metrics import classification_report\n",
    "from sklearn.ensemble import StackingRegressor\n",
    "from sklearn.preprocessing import LabelEncoder, MinMaxScaler\n",
    "\n",
    "from lightgbm import LGBMRegressor\n",
    "from xgboost import XGBRegressor\n",
    "from category_encoders import CatBoostEncoder\n",
    "\n",
    "from scipy import stats\n",
    "\n",
    "from catboost import Pool\n",
    "from catboost import CatBoostClassifier\n",
    "from catboost import CatBoostRegressor\n",
    "\n",
    "import tensorflow as tf\n",
    "from tensorflow import keras\n",
    "from tensorflow.keras.preprocessing.text import Tokenizer\n",
    "from tensorflow.keras.preprocessing.sequence import pad_sequences\n",
    "from tensorflow.keras.models import load_model\n",
    "from tensorflow.keras.layers import Input, Embedding, Concatenate, Dense, Reshape, LSTM, SpatialDropout1D\n",
    "from tensorflow.keras.models import Model\n",
    "from tensorflow.keras.callbacks import ModelCheckpoint\n",
    "\n",
    "import warnings\n",
    "warnings.filterwarnings('ignore')"
   ]
  },
  {
   "cell_type": "code",
   "execution_count": null,
   "metadata": {
    "colab": {
     "base_uri": "https://localhost:8080/"
    },
    "id": "matg0NTFDfLe",
    "outputId": "59d3f654-4a9f-4f90-b511-8a9f7db6d62f"
   },
   "outputs": [],
   "source": [
    "# если работаем в колабе, подключаем гугл диск\n",
    "from google.colab import drive\n",
    "drive.mount('/content/drive')\n",
    "\n",
    "FILE_PATH = '/content/drive/MyDrive/SF_DS/data_income/'"
   ]
  },
  {
   "cell_type": "markdown",
   "metadata": {
    "id": "HDEYw7U0O_m0"
   },
   "source": [
    "## Функции"
   ]
  },
  {
   "cell_type": "code",
   "execution_count": null,
   "metadata": {
    "execution": {
     "iopub.execute_input": "2024-02-15T07:45:03.093639Z",
     "iopub.status.busy": "2024-02-15T07:45:03.092709Z",
     "iopub.status.idle": "2024-02-15T07:45:03.09915Z",
     "shell.execute_reply": "2024-02-15T07:45:03.097995Z",
     "shell.execute_reply.started": "2024-02-15T07:45:03.093604Z"
    },
    "id": "8eV8M0tePeJ6"
   },
   "outputs": [],
   "source": [
    "# функция для расчета метрики WMAE\n",
    "def weighted_mean_absolute_error(y_true, y_pred, weights):\n",
    "\n",
    "    '''\n",
    "\n",
    "    Weighted mean absolute error.\n",
    "\n",
    "    Parameters\n",
    "    ----------\n",
    "    y_true: ndarray\n",
    "        Ground truth\n",
    "    y_pred: ndarray\n",
    "        Array of predictions\n",
    "\n",
    "    Returns\n",
    "    -------\n",
    "    rmsle: float\n",
    "        Weighted mean absolute error\n",
    "\n",
    "    References\n",
    "    ----------\n",
    "    .. [1] https://kaggle-metrics.readthedocs.io/en/latest/_modules/kaggle_metrics/regression.html\n",
    "\n",
    "    '''\n",
    "\n",
    "    return (weights * np.abs(y_true - y_pred)).mean()"
   ]
  },
  {
   "cell_type": "markdown",
   "metadata": {
    "id": "a-mH3EwMPP2x"
   },
   "source": [
    "## Знакомство с данными, базовый анализ и генерация новых признаков."
   ]
  },
  {
   "cell_type": "code",
   "execution_count": null,
   "metadata": {
    "colab": {
     "base_uri": "https://localhost:8080/"
    },
    "execution": {
     "iopub.execute_input": "2024-02-15T07:45:17.613373Z",
     "iopub.status.busy": "2024-02-15T07:45:17.612684Z",
     "iopub.status.idle": "2024-02-15T07:45:25.144039Z",
     "shell.execute_reply": "2024-02-15T07:45:25.143152Z",
     "shell.execute_reply.started": "2024-02-15T07:45:17.61334Z"
    },
    "id": "CpjG5GiLPeJ9",
    "outputId": "a5c777fc-4336-4024-b831-480e32a64843"
   },
   "outputs": [],
   "source": [
    "train_df = pd.read_csv(\n",
    "    FILE_PATH+'train.csv',\n",
    "    sep=\";\",\n",
    "    decimal=\",\",\n",
    "    encoding=\"windows-1251\"\n",
    ")\n",
    "test_df = pd.read_csv(\n",
    "    FILE_PATH+'test.csv',\n",
    "    sep=\";\",\n",
    "    decimal=\",\",\n",
    "    encoding=\"windows-1251\"\n",
    ")\n",
    "train_df.shape, test_df.shape"
   ]
  },
  {
   "cell_type": "code",
   "execution_count": null,
   "metadata": {
    "colab": {
     "base_uri": "https://localhost:8080/",
     "height": 342
    },
    "id": "pdyxrWY5QQeP",
    "outputId": "6632df18-ace4-4518-ce02-39208e8e9ddc"
   },
   "outputs": [],
   "source": [
    "train_df.head()"
   ]
  },
  {
   "cell_type": "markdown",
   "metadata": {
    "id": "QzjvnYC9PvD6"
   },
   "source": [
    "Тренировочные данные содержат более 200 000 строк и 233 признака.\n",
    " - 'client_id' - id клиента, уникален для каждой записи,\n",
    " - 'feature_date' - дата сбора признаков - последний день месяца, за который выполняется прогноз,\n",
    " - 'target' - целевая переменная,\n",
    " - 'w' - веса для расчета метрики WMAE\n",
    "\n",
    "Описание всех признаков можно увидеть в файле [description](https://www.kaggle.com/competitions/income-prediction-alfa-campus/data?select=description.xlsx)"
   ]
  },
  {
   "cell_type": "code",
   "execution_count": null,
   "metadata": {
    "colab": {
     "base_uri": "https://localhost:8080/"
    },
    "execution": {
     "iopub.execute_input": "2024-02-15T07:45:36.778208Z",
     "iopub.status.busy": "2024-02-15T07:45:36.776999Z",
     "iopub.status.idle": "2024-02-15T07:45:36.852131Z",
     "shell.execute_reply": "2024-02-15T07:45:36.851097Z",
     "shell.execute_reply.started": "2024-02-15T07:45:36.778164Z"
    },
    "id": "zryVSBEWPeKD",
    "outputId": "27853abe-c199-4c53-8859-b0270e893f72"
   },
   "outputs": [],
   "source": [
    "train_df['feature_date'] = pd.to_datetime(train_df['feature_date'])\n",
    "test_df['feature_date'] = pd.to_datetime(test_df['feature_date'])\n",
    "train_df['feature_date'].describe()"
   ]
  },
  {
   "cell_type": "code",
   "execution_count": null,
   "metadata": {
    "colab": {
     "base_uri": "https://localhost:8080/"
    },
    "id": "xgmT6-byR-Am",
    "outputId": "41f53209-2409-4199-fb89-e67a03ff1c21"
   },
   "outputs": [],
   "source": [
    "test_df['feature_date'].describe()"
   ]
  },
  {
   "cell_type": "markdown",
   "metadata": {
    "id": "stFNcMduSDZm"
   },
   "source": [
    "Данные предоставлены за период с 30-09-2022 по 31-08-2023, прогноз необходимо сделать на дату 30-09-2023"
   ]
  },
  {
   "cell_type": "code",
   "execution_count": null,
   "metadata": {
    "colab": {
     "base_uri": "https://localhost:8080/",
     "height": 242
    },
    "id": "-yhbf42uSThT",
    "outputId": "cbea7281-f2fc-46aa-b50a-b551e09c735e"
   },
   "outputs": [],
   "source": [
    "train_df.describe(include='object')"
   ]
  },
  {
   "cell_type": "markdown",
   "metadata": {
    "id": "eSauijetSqZK"
   },
   "source": [
    "Преобразуем признаки, полученные из БКИ, в числовые."
   ]
  },
  {
   "cell_type": "code",
   "execution_count": null,
   "metadata": {
    "execution": {
     "iopub.execute_input": "2024-02-15T07:46:19.150767Z",
     "iopub.status.busy": "2024-02-15T07:46:19.150415Z",
     "iopub.status.idle": "2024-02-15T07:46:19.52045Z",
     "shell.execute_reply": "2024-02-15T07:46:19.519311Z",
     "shell.execute_reply.started": "2024-02-15T07:46:19.150738Z"
    },
    "id": "mwtweb4SPeKJ"
   },
   "outputs": [],
   "source": [
    "train_df[train_df.filter(like='bki').columns] = train_df[train_df.filter(like='bki').columns].astype(float)\n",
    "test_df[train_df.filter(like='bki').columns] = test_df[train_df.filter(like='bki').columns].astype(float)"
   ]
  },
  {
   "cell_type": "code",
   "execution_count": null,
   "metadata": {
    "colab": {
     "base_uri": "https://localhost:8080/"
    },
    "execution": {
     "iopub.execute_input": "2024-02-15T07:46:51.039992Z",
     "iopub.status.busy": "2024-02-15T07:46:51.039623Z",
     "iopub.status.idle": "2024-02-15T07:46:51.05995Z",
     "shell.execute_reply": "2024-02-15T07:46:51.059008Z",
     "shell.execute_reply.started": "2024-02-15T07:46:51.039958Z"
    },
    "id": "JVgITruDPeKO",
    "outputId": "8287ed9c-7bfe-4732-b7af-b761d8482c3e"
   },
   "outputs": [],
   "source": [
    "basic_col = ['client_id', 'feature_date', 'target', 'w']\n",
    "\n",
    "cat_feat = [col for col in train_df.columns if (col not in basic_col) and (train_df[col].dtype.name=='object')]\n",
    "#cat_feat += ['year']\n",
    "num_feat = [col for col in train_df.columns if (col not in basic_col) and (col not in cat_feat)]\n",
    "len(cat_feat), len(num_feat)"
   ]
  },
  {
   "cell_type": "markdown",
   "metadata": {
    "id": "27xZVTwDUFfN"
   },
   "source": [
    "Посмотрим распределение доли пропущенных значений на трейне и тесте."
   ]
  },
  {
   "cell_type": "code",
   "execution_count": null,
   "metadata": {
    "colab": {
     "base_uri": "https://localhost:8080/",
     "height": 404
    },
    "id": "C4M__ytGULEW",
    "outputId": "27ffedce-9eec-40f9-803a-1771c2fc8523"
   },
   "outputs": [],
   "source": [
    "fig, ax = plt.subplots(nrows=1, ncols=2, figsize=(15, 5))\n",
    "\n",
    "sns.distplot(train_df[cat_feat+num_feat].isna().mean(axis=0), ax=ax[0])\n",
    "ax[0].set_title('Распределение доли пропущенных значений по фичам')\n",
    "ax[0].set_xlabel('Доля NaN-значений')\n",
    "ax[0].grid(True)\n",
    "\n",
    "sns.distplot(train_df[cat_feat+num_feat].isna().mean(axis=1), ax=ax[1])\n",
    "ax[1].set_title('Распределение доли пропущенных значений по клиентам')\n",
    "ax[1].set_xlabel('Доля NaN-значений')\n",
    "ax[1].grid(True)"
   ]
  },
  {
   "cell_type": "code",
   "execution_count": null,
   "metadata": {
    "colab": {
     "base_uri": "https://localhost:8080/",
     "height": 404
    },
    "id": "aJbLbENVUtd6",
    "outputId": "5b1b1b7b-cb98-48ff-ca9a-b865359bba84"
   },
   "outputs": [],
   "source": [
    "fig, ax = plt.subplots(nrows=1, ncols=2, figsize=(15, 5))\n",
    "\n",
    "sns.distplot(test_df[cat_feat+num_feat].isna().mean(axis=0), ax=ax[0])\n",
    "ax[0].set_title('Распределение доли пропущенных значений по фичам')\n",
    "ax[0].set_xlabel('Доля NaN-значений')\n",
    "ax[0].grid(True)\n",
    "\n",
    "sns.distplot(test_df[cat_feat+num_feat].isna().mean(axis=1), ax=ax[1])\n",
    "ax[1].set_title('Распределение доли пропущенных значений по клиентам')\n",
    "ax[1].set_xlabel('Доля NaN-значений')\n",
    "ax[1].grid(True)"
   ]
  },
  {
   "cell_type": "code",
   "execution_count": null,
   "metadata": {
    "colab": {
     "base_uri": "https://localhost:8080/",
     "height": 402
    },
    "id": "Q0ftGoplTlIB",
    "outputId": "baf2e8f8-e72f-4c09-88fc-52b8aeadedb0"
   },
   "outputs": [],
   "source": [
    "fig, ax = plt.subplots(nrows=1, ncols=2, figsize=(15, 5))\n",
    "\n",
    "sns.distplot(train_df[cat_feat+num_feat].isna().mean(axis=1), ax=ax[0])\n",
    "ax[0].set_title('Распределение доли пропущенных значений по клиентам в train')\n",
    "ax[0].set_xlabel('Доля NaN-значений')\n",
    "ax[0].grid(True)\n",
    "\n",
    "sns.distplot(test_df[cat_feat+num_feat].isna().mean(axis=1), ax=ax[1])\n",
    "ax[1].set_title('Распределение доли пропущенных значений по клиентам в test')\n",
    "ax[1].set_xlabel('Доля NaN-значений')\n",
    "ax[1].grid(True)"
   ]
  },
  {
   "cell_type": "markdown",
   "metadata": {
    "id": "86mDuByOUzYY"
   },
   "source": [
    "Видим, что в датасете присутствует много пропусков, как по фичам, так и по клиентам. Создадим признак с долей пропущенных значений."
   ]
  },
  {
   "cell_type": "code",
   "execution_count": null,
   "metadata": {
    "id": "Hidkj5oawc6w"
   },
   "outputs": [],
   "source": [
    "train_df['nan_rate'] = train_df[cat_feat+num_feat].isna().mean(axis=1)\n",
    "test_df['nan_rate'] = test_df[cat_feat+num_feat].isna().mean(axis=1)"
   ]
  },
  {
   "cell_type": "markdown",
   "metadata": {
    "id": "xSKvmCiu209R"
   },
   "source": [
    "Посмотрим внимательней на признаки для должностей."
   ]
  },
  {
   "cell_type": "code",
   "execution_count": null,
   "metadata": {
    "colab": {
     "base_uri": "https://localhost:8080/",
     "height": 195
    },
    "id": "ou20aM3L5gGA",
    "outputId": "fe09c6b2-0f7e-40c6-af79-3f6848cb8723"
   },
   "outputs": [],
   "source": [
    "train_df[train_df.filter(like='position').columns].describe()"
   ]
  },
  {
   "cell_type": "code",
   "execution_count": null,
   "metadata": {
    "colab": {
     "base_uri": "https://localhost:8080/"
    },
    "id": "vxabmKRw61OF",
    "outputId": "a81df282-205d-4353-d3a1-2df86d8ec91b"
   },
   "outputs": [],
   "source": [
    "train_df['main_last_position_ccode'].value_counts().head(10)"
   ]
  },
  {
   "cell_type": "code",
   "execution_count": null,
   "metadata": {
    "colab": {
     "base_uri": "https://localhost:8080/"
    },
    "id": "dDgq_EiU6Ero",
    "outputId": "87752ca4-5df5-4031-9837-19b1cc81d5cc"
   },
   "outputs": [],
   "source": [
    "train_df['main_last_position_ccode'].value_counts().head(30).index"
   ]
  },
  {
   "cell_type": "markdown",
   "metadata": {
    "id": "v8JzFBmf68XY"
   },
   "source": [
    "Признак должности имеет много уникальных значений, в том числе присутствуют опечатки, различается регистр записей. Должности привели к единому регистру, убрали опечатки, укрупнили и записали в отдельный csv-файл. Присоединяем этот файл к нашему df по client_id."
   ]
  },
  {
   "cell_type": "code",
   "execution_count": null,
   "metadata": {
    "colab": {
     "base_uri": "https://localhost:8080/"
    },
    "id": "PWIyMBhsIqxM",
    "outputId": "945add68-1e87-4ace-8a03-728b774de52d"
   },
   "outputs": [],
   "source": [
    "train_prof = pd.read_csv(FILE_PATH+'train_professions.csv')\n",
    "test_prof = pd.read_csv(FILE_PATH+'test_professions.csv')\n",
    "train_prof.shape, test_prof.shape"
   ]
  },
  {
   "cell_type": "code",
   "execution_count": null,
   "metadata": {
    "colab": {
     "base_uri": "https://localhost:8080/",
     "height": 195
    },
    "execution": {
     "iopub.execute_input": "2024-02-15T03:53:35.879761Z",
     "iopub.status.busy": "2024-02-15T03:53:35.879473Z",
     "iopub.status.idle": "2024-02-15T03:53:36.240327Z",
     "shell.execute_reply": "2024-02-15T03:53:36.239385Z",
     "shell.execute_reply.started": "2024-02-15T03:53:35.879734Z"
    },
    "id": "qZSk2DuiPeKN",
    "outputId": "297683a9-59f1-4fce-cf5b-5870d9926900"
   },
   "outputs": [],
   "source": [
    "train_df = train_df.merge(train_prof, on='client_id', suffixes=('','_corr'))\n",
    "test_df = test_df.merge(test_prof, on='client_id', suffixes=('','_corr'))\n",
    "train_df[train_df.filter(like='position').columns].describe()"
   ]
  },
  {
   "cell_type": "code",
   "execution_count": null,
   "metadata": {
    "id": "I3lWO5UpMp6w"
   },
   "outputs": [],
   "source": [
    "cat_feat += ['main_last_position_ccode_corr', 'short_position',\t'short_position_2w']\n",
    "num_feat += ['nan_rate']"
   ]
  },
  {
   "cell_type": "markdown",
   "metadata": {
    "id": "KmUTxNPm8gc6"
   },
   "source": [
    "Количество уникальных значений сократилось, но их все равно очень много. Создадим еще признаки должностей, которые будем обрабатывать как текстовые."
   ]
  },
  {
   "cell_type": "code",
   "execution_count": null,
   "metadata": {
    "execution": {
     "iopub.execute_input": "2024-02-15T07:48:25.045658Z",
     "iopub.status.busy": "2024-02-15T07:48:25.044921Z",
     "iopub.status.idle": "2024-02-15T07:48:25.520656Z",
     "shell.execute_reply": "2024-02-15T07:48:25.519731Z",
     "shell.execute_reply.started": "2024-02-15T07:48:25.045625Z"
    },
    "id": "Vfpwg9n7PeKP"
   },
   "outputs": [],
   "source": [
    "text_feat =  ['main_last_position_ccode',\n",
    " 'main_pre_last_position_ccode','part_last_position_ccode',\n",
    " 'part_pre_last_position_ccode', 'main_last_position_ccode_corr']\n",
    "\n",
    "for feat in text_feat:\n",
    "    train_df[feat] = train_df[feat].fillna('no_data').astype(str)\n",
    "    train_df[feat] = train_df[feat].apply(lambda x: x.lower())\n",
    "    train_df[feat+'_text'] = train_df[feat]\n",
    "    test_df[feat] = test_df[feat].fillna('no_data').astype(str)\n",
    "    test_df[feat] = test_df[feat].apply(lambda x: x.lower())\n",
    "    test_df[feat+'_text'] = test_df[feat]\n",
    "\n",
    "text_feat =  [feat+'_text' for feat in text_feat]"
   ]
  },
  {
   "cell_type": "markdown",
   "metadata": {
    "id": "COZHFzOv9ZbY"
   },
   "source": [
    "Выделим из даты признак года и квартала."
   ]
  },
  {
   "cell_type": "code",
   "execution_count": null,
   "metadata": {
    "execution": {
     "iopub.execute_input": "2024-02-15T07:48:57.701381Z",
     "iopub.status.busy": "2024-02-15T07:48:57.701014Z",
     "iopub.status.idle": "2024-02-15T07:48:57.717352Z",
     "shell.execute_reply": "2024-02-15T07:48:57.716583Z",
     "shell.execute_reply.started": "2024-02-15T07:48:57.701353Z"
    },
    "id": "G61Deb7iPeKY"
   },
   "outputs": [],
   "source": [
    "train_df['year'] = train_df['feature_date'].dt.year\n",
    "test_df['year'] = test_df['feature_date'].dt.year\n",
    "train_df['quater'] = train_df['feature_date'].dt.quarter.astype(str) + '/' + train_df['feature_date'].dt.year.astype(str)\n",
    "test_df['quater'] = test_df['feature_date'].dt.quarter.astype(str) + '/' + test_df['feature_date'].dt.year.astype(str)"
   ]
  },
  {
   "cell_type": "code",
   "execution_count": null,
   "metadata": {
    "execution": {
     "iopub.execute_input": "2024-02-15T07:49:05.880556Z",
     "iopub.status.busy": "2024-02-15T07:49:05.880187Z",
     "iopub.status.idle": "2024-02-15T07:49:05.885197Z",
     "shell.execute_reply": "2024-02-15T07:49:05.884105Z",
     "shell.execute_reply.started": "2024-02-15T07:49:05.880527Z"
    },
    "id": "5C0waA2aPeKZ"
   },
   "outputs": [],
   "source": [
    "cat_feat += ['year', 'quater']"
   ]
  },
  {
   "cell_type": "markdown",
   "metadata": {
    "id": "iuIoCC7c4M6e"
   },
   "source": [
    "Добавим новые признаки, сгруппировав имеющиеся признаки по категориям трат и по продолжительности сбора данных."
   ]
  },
  {
   "cell_type": "code",
   "execution_count": null,
   "metadata": {
    "id": "v-mYwNhAFmAT"
   },
   "outputs": [],
   "source": [
    "#группируем транзакции по типу или по продолжительности сбора данных\n",
    "transactions_amt_invest = [\n",
    "   'amount_by_category_30d__summarur_amt__sum__cashflowcategory_name__brokerskie_uslugi',\n",
    "   'avg_by_category__amount__sum__cashflowcategory_name__investitsii',\n",
    "   'by_category__amount__sum__eoperation_type_name__pokupka_paja'\n",
    "]\n",
    "\n",
    "# Находим среднее значение между тремя заданными выражениями и записываем в колонку sum_amt_invest\n",
    "train_df['sum_amt_invest'] = (train_df[transactions_amt_invest[0]] + \\\n",
    "                             train_df[transactions_amt_invest[1]] + \\\n",
    "                             train_df[transactions_amt_invest[2]]) / 3\n",
    "test_df['sum_amt_invest'] = (test_df[transactions_amt_invest[0]] + \\\n",
    "                             test_df[transactions_amt_invest[1]] + \\\n",
    "                             test_df[transactions_amt_invest[2]]) / 3\n",
    "\n",
    "transactions_amt_hotel = [\n",
    "   'transaction_category_hotels_sum_amt_d15',\n",
    "   'transaction_category_hotels_sum_amt_m2',\n",
    "   'avg_3m_hotels'\n",
    "]\n",
    "\n",
    "# Находим среднее значение между тремя заданными выражениями и записываем в колонку sum_amt_hotel\n",
    "train_df['sum_amt_hotel'] = (train_df['transaction_category_hotels_sum_amt_d15']*2 + \\\n",
    "                             train_df['transaction_category_hotels_sum_amt_m2'] / 2 +\\\n",
    "                             train_df['transaction_category_hotels_sum_amt_d15'] / 3) /2\n",
    "test_df['sum_amt_hotel'] = (test_df['transaction_category_hotels_sum_amt_d15']*2 + \\\n",
    "                            test_df['transaction_category_hotels_sum_amt_m2'] / 2 +\\\n",
    "                            test_df['transaction_category_hotels_sum_amt_d15'] / 3) /2\n",
    "\n",
    "transactions_amt_supermarket = [\n",
    "   'transaction_category_supermarket_sum_cnt_d15',\n",
    "   'transaction_category_supermarket_sum_amt_m3_4'\n",
    "]\n",
    "\n",
    "train_df['sum_amt_supermarket'] = train_df['transaction_category_supermarket_sum_amt_m3_4']/4 + \\\n",
    "100*2*train_df['transaction_category_supermarket_sum_cnt_d15']\n",
    "test_df['sum_amt_supermarket'] = test_df['transaction_category_supermarket_sum_amt_m3_4']/4 + \\\n",
    "100*2*test_df['transaction_category_supermarket_sum_cnt_d15']\n",
    "\n",
    "transactions_amt_0_5 = [\n",
    "   'transaction_category_clothers_shoes_sum_amt_d15'\n",
    "   #'transaction_category_hotels_sum_amt_d15'\n",
    "]\n",
    "\n",
    "transactions_amt_1 = [\n",
    "   'amount_by_category_30d__summarur_amt__sum__cashflowcategory_name__bilety_na_kontserty_i_v_teatry',\n",
    "   'amount_by_category_30d__summarur_amt__sum__cashflowcategory_name__hosting',\n",
    "   'amount_by_category_30d__summarur_amt__sum__cashflowcategory_name__spa_sauny_bani',\n",
    "   'amount_by_category_30d__summarur_amt__sum__cashflowcategory_name__turisticheskie_agenstva',\n",
    "   'summarur_1m_miscellaneous_stores',\n",
    "   'summarur_1m_no_cat',\n",
    "   'avg_by_category__amount__sum__cashflowcategory_name__odezhda_dlja_beremennyh',\n",
    "   'avg_by_category__amount__sum__cashflowcategory_name__zdorove',\n",
    "   'amount_by_category_30d__summarur_amt__sum__cashflowcategory_name__tovary_dlja_detej',\n",
    "   'avg_by_category__amount__sum__cashflowcategory_name__detskie_igrushki'\n",
    "]\n",
    "\n",
    "train_df['sum_transactions_amt_0_5_1'] = train_df[transactions_amt_0_5].sum(axis=1)*2 + \\\n",
    " train_df[transactions_amt_1].sum(axis=1)\n",
    "test_df['sum_transactions_amt_0_5_1'] = test_df[transactions_amt_0_5].sum(axis=1)*2 + \\\n",
    " test_df[transactions_amt_1].sum(axis=1)\n",
    "\n",
    "transactions_amt_3 = [\n",
    "   'amount_by_category_90d__summarur_amt__sum__cashflowcategory_name__marketplejsy',\n",
    "   'amount_by_category_90d__summarur_amt__sum__cashflowcategory_name__nalogi',\n",
    "   'amount_by_category_90d__summarur_amt__sum__cashflowcategory_name__ohota_i_rybalka',\n",
    "   'amount_by_category_90d__summarur_amt__sum__cashflowcategory_name__prochie_bilety',\n",
    "]\n",
    "\n",
    "train_df['sum_transactions_amt_3'] = (train_df[transactions_amt_3]/3).sum(axis=1)\n",
    "test_df['sum_transactions_amt_3'] = test_df[transactions_amt_3].sum(axis=1)/3\n",
    "\n",
    "transactions_amt_6 = [\n",
    "   'avg_6m_building_services',\n",
    "   'avg_6m_personal_services',\n",
    "   'amount_by_category_90d__summarur_amt__sum__cashflowcategory_name__prochie_bilety',\n",
    "   'avg_6m_transportation'\n",
    "]\n",
    "\n",
    "train_df['sum_transactions_amt_6'] = train_df[transactions_amt_6].sum(axis=1)/6\n",
    "test_df['sum_transactions_amt_6'] = test_df[transactions_amt_6].sum(axis=1)/6\n",
    "\n",
    "transactions_amt_12 = [\n",
    "   'sum_rare_countries',\n",
    "   'avg_by_category__amount__sum__cashflowcategory_name__vydacha_nalichnyh_v_bankomate',\n",
    "   'by_category__amount__sum__eoperation_type_name__vneshnij_perevod_rur'\n",
    "]\n",
    "\n",
    "train_df['sum_transactions_amt_12'] = train_df[transactions_amt_12].sum(axis=1)/12\n",
    "test_df['sum_transactions_amt_12'] = test_df[transactions_amt_12].sum(axis=1)/12\n",
    "\n",
    "train_df['sum_transactions_amt_all'] = train_df['sum_transactions_amt_0_5_1'] + \\\n",
    " train_df['sum_transactions_amt_3'] + train_df['sum_transactions_amt_6'] + \\\n",
    " train_df['sum_transactions_amt_12'] + train_df['sum_amt_supermarket'] + \\\n",
    " train_df['sum_amt_hotel'] + train_df['sum_amt_invest']\n",
    "\n",
    "test_df['sum_transactions_amt_all'] = test_df['sum_transactions_amt_0_5_1'] + \\\n",
    " test_df['sum_transactions_amt_3'] + test_df['sum_transactions_amt_6'] + \\\n",
    " test_df['sum_transactions_amt_12'] + test_df['sum_amt_supermarket'] + \\\n",
    " test_df['sum_amt_hotel'] + test_df['sum_amt_invest']\n",
    "\n",
    "#используя фичу Число транзакций в день считаем минимальные траты за месяц\n",
    "train_df['min_spending'] = 100*30*train_df['avg_cnt_daily_transactions_90d']\n",
    "test_df['min_spending'] = 100*30*train_df['avg_cnt_daily_transactions_90d']\n",
    "\n",
    "train_df['savings'] = (1- train_df['total_rur_amt_cm_avg_div_v2'])*train_df['total_rur_amt_cm_avg_period_days_ago_v2'] / 2\n",
    "test_df['savings'] = (1- test_df['total_rur_amt_cm_avg_div_v2'])*test_df['total_rur_amt_cm_avg_period_days_ago_v2'] / 2\n",
    "\n",
    "train_df['money'] = (train_df['cred_dda_rur_amt_3m_avg']/3 + train_df['curr_rur_amt_cm_avg']/12)\n",
    "test_df['money'] = (test_df['cred_dda_rur_amt_3m_avg']/3 + test_df['curr_rur_amt_cm_avg']/12)\n",
    "\n",
    "max_limit = [\n",
    "    'hdb_bki_total_pil_max_limit',\n",
    "    'hdb_bki_total_cc_max_limit',\n",
    "    'bki_total_ip_max_limit',\n",
    "    'hdb_bki_total_max_limit'\n",
    "]\n",
    "\n",
    "train_df['max_limit'] = train_df[max_limit].max(axis=1)\n",
    "test_df['max_limit'] = test_df[max_limit].max(axis=1)"
   ]
  },
  {
   "cell_type": "code",
   "execution_count": null,
   "metadata": {
    "id": "dhfdw9VNQfZN"
   },
   "outputs": [],
   "source": [
    "num_feat += ['sum_amt_invest', 'sum_amt_hotel', 'sum_amt_supermarket',\n",
    "'sum_transactions_amt_0_5_1', 'sum_transactions_amt_3', 'sum_transactions_amt_6',\n",
    "'sum_transactions_amt_12', 'sum_transactions_amt_all', 'min_spending', 'savings',\n",
    "'money', 'max_limit']"
   ]
  },
  {
   "cell_type": "markdown",
   "metadata": {
    "id": "9DJ7bpRYDFMK"
   },
   "source": [
    "Пропущенные значения в категориальных признаках заполним значением 'no_data'."
   ]
  },
  {
   "cell_type": "code",
   "execution_count": null,
   "metadata": {
    "execution": {
     "iopub.execute_input": "2024-02-15T07:48:40.64157Z",
     "iopub.status.busy": "2024-02-15T07:48:40.641224Z",
     "iopub.status.idle": "2024-02-15T07:48:43.333009Z",
     "shell.execute_reply": "2024-02-15T07:48:43.332217Z",
     "shell.execute_reply.started": "2024-02-15T07:48:40.641543Z"
    },
    "id": "9hpbQExxPeKW"
   },
   "outputs": [],
   "source": [
    "for cat_f in cat_feat:\n",
    "    train_df[cat_f] = train_df[cat_f].fillna('no_data').astype(str)\n",
    "    train_df.loc[(train_df[cat_f] == 'NaN') |\n",
    "            (train_df[cat_f] == 'None') |\n",
    "            (train_df[cat_f] == 'nan') |\n",
    "            (train_df[cat_f] == ''), cat_f] = 'no_data'"
   ]
  },
  {
   "cell_type": "code",
   "execution_count": null,
   "metadata": {
    "execution": {
     "iopub.execute_input": "2024-02-15T07:48:47.717723Z",
     "iopub.status.busy": "2024-02-15T07:48:47.717359Z",
     "iopub.status.idle": "2024-02-15T07:48:48.221122Z",
     "shell.execute_reply": "2024-02-15T07:48:48.220086Z",
     "shell.execute_reply.started": "2024-02-15T07:48:47.717694Z"
    },
    "id": "9zQ3imU7PeKX"
   },
   "outputs": [],
   "source": [
    "for cat_f in cat_feat:\n",
    "    test_df[cat_f] = test_df[cat_f].fillna('no_data').astype(str)\n",
    "    test_df.loc[(test_df[cat_f] == 'NaN') |\n",
    "            (test_df[cat_f] == 'None') |\n",
    "            (test_df[cat_f] == 'nan') |\n",
    "            (test_df[cat_f] == ''), cat_f] = 'no_data'"
   ]
  },
  {
   "cell_type": "markdown",
   "metadata": {
    "id": "ReYZWuR6_Fjq"
   },
   "source": [
    "## Отбор признаков"
   ]
  },
  {
   "cell_type": "markdown",
   "metadata": {
    "id": "7XRkmjEM_Kjp"
   },
   "source": [
    "Так как данные содержат очень большое количество признаков, перед проведением EDA выполним отбор наиболее значимых признаков.\n",
    "\n",
    "Отбор будем производить следующим образом:\n",
    "- по доле пропущенных значений: удалим фичи, у которых доля пропущенных значений равна 1, то есть вообще нет заполненных значений,\n",
    "- по доле самого частого значения: удалим фичи, которые имеют только одно уникальное значение,\n",
    "- по рандомной фиче: постром простую модель, добавив рандомный признак и выберем фичи, которые имеют значимость выше рандомной,\n",
    "- по корреляции: удалим признаки со значением больше 0.95 (из пары коррелирующих фичей удалим менее заполненную фичу).\n"
   ]
  },
  {
   "cell_type": "code",
   "execution_count": null,
   "metadata": {
    "colab": {
     "base_uri": "https://localhost:8080/"
    },
    "id": "9XvC_u7tAa8h",
    "outputId": "418fc096-cd3c-481a-fe47-f44928a4b4d6"
   },
   "outputs": [],
   "source": [
    "# по пропущенным значениям\n",
    "\n",
    "def feats_filter_nan(df: pd.DataFrame,\n",
    "                     num_feat: list(),\n",
    "                     cat_feat: list(),\n",
    "                     nan_threshold: float):\n",
    "\n",
    "    \"\"\"Функция отбора фичей по доле NaN-значений.\n",
    "    Фичи, которые имеют долю NaN-значений не ниже заданного nan_threshold, подлежат удалению.\n",
    "\n",
    "    Parameters\n",
    "    ----------\n",
    "    df : pd.DataFrame\n",
    "        датафрейм с фичами\n",
    "    num_feat : list\n",
    "        список числовых фичей\n",
    "    cat_feat : list\n",
    "        список категориальных фичей (в нашем случае для них NaN-значением является 'no_data')\n",
    "    nan_threshold : float\n",
    "        порог удаления фичи\n",
    "\n",
    "    Returns\n",
    "    -------\n",
    "    list\n",
    "        список фичей, которые останутся в датафрейме\n",
    "\n",
    "    \"\"\"\n",
    "\n",
    "    selected_num_feat = list(\n",
    "        df[num_feat].isnull().mean()[df.isnull().mean() <= nan_threshold].index\n",
    "        )\n",
    "    selected_cat_feat = [\n",
    "        feat for feat in cat_feat if df[feat].value_counts(normalize=True)[\n",
    "            df[feat].value_counts(normalize=True).index=='no_data'\n",
    "            ].max() <= nan_threshold or\n",
    "            df[feat].value_counts(normalize=True)[\n",
    "            df[feat].value_counts(normalize=True).index=='no_data'\n",
    "            ].max() is np.nan\n",
    "        ]\n",
    "\n",
    "    selected_features = list(selected_num_feat) + selected_cat_feat\n",
    "    return selected_features\n",
    "\n",
    "selected_features = feats_filter_nan(train_df, num_feat, cat_feat, 1)\n",
    "selected_features_num = [feat for feat in num_feat if feat in selected_features]\n",
    "selected_features_cat = [feat for feat in cat_feat if feat in selected_features]\n",
    "len(selected_features)"
   ]
  },
  {
   "cell_type": "code",
   "execution_count": null,
   "metadata": {
    "colab": {
     "base_uri": "https://localhost:8080/"
    },
    "id": "BCTvYhGVA_XX",
    "outputId": "5f1b59a2-18e4-4b8b-a412-d3a43cf8b6f5"
   },
   "outputs": [],
   "source": [
    "# по доле самого частого значения\n",
    "\n",
    "def feats_filter_nunique(df: pd.DataFrame,\n",
    "                         features: list,\n",
    "                         unique_threshold: float):\n",
    "\n",
    "    \"\"\"Функция отбора фичей по доле самого частого значения.\n",
    "    Фичи, которые имеют 1 уникальное значение (помимо NaN), либо для которых\n",
    "      доля самого частого значения (включая NaN) не ниже unique_threshold, подлежат удалению.\n",
    "\n",
    "    Parameters\n",
    "    ----------\n",
    "    df : pd.DataFrame\n",
    "        датафрейм с фичами\n",
    "    features : list\n",
    "        список фичей\n",
    "    unique_threshold : float\n",
    "        порог удаления фичи\n",
    "\n",
    "    Returns\n",
    "    -------\n",
    "    list\n",
    "        список фичей, которые останутся в датафрейме\n",
    "\n",
    "    \"\"\"\n",
    "    selected_features = [\n",
    "        feat for feat in features\n",
    "        if df[feat].value_counts(normalize=True).max() != 1 and\n",
    "        df[feat].value_counts(normalize=True, dropna=False).max() < unique_threshold\n",
    "        ]\n",
    "    return selected_features\n",
    "\n",
    "selected_features = feats_filter_nunique(train_df, selected_features, 1)\n",
    "selected_features_num = [feat for feat in num_feat if feat in selected_features]\n",
    "selected_features_cat = [feat for feat in cat_feat if feat in selected_features]\n",
    "len(selected_features)"
   ]
  },
  {
   "cell_type": "code",
   "execution_count": null,
   "metadata": {
    "colab": {
     "base_uri": "https://localhost:8080/"
    },
    "id": "_tW707JjBHzs",
    "outputId": "bd4bfe4a-fd9a-4df0-dfc9-6292ecca7e05"
   },
   "outputs": [],
   "source": [
    "# отсечение по рандомной фиче\n",
    "\n",
    "def feats_filter_random_feat(df: pd.DataFrame,\n",
    "                             features: list,\n",
    "                             cat_features: list,\n",
    "                             text_features: list):\n",
    "\n",
    "    \"\"\"Функция отбора фичей при помощи отсечения менее важных фичей чем рандомная фича.\n",
    "    Фичи, которые имеют в простой модели важность ниже рандомной фичи, подлежат удалению.\n",
    "\n",
    "    Parameters\n",
    "    ----------\n",
    "    df : pd.DataFrame\n",
    "        датафрейм с фичами\n",
    "    features : list\n",
    "        список фичей\n",
    "    cat_features : list\n",
    "        список категориальных фичей\n",
    "\n",
    "    Returns\n",
    "    -------\n",
    "    list\n",
    "        список фичей, которые останутся в датафрейме\n",
    "\n",
    "    \"\"\"\n",
    "\n",
    "    df['random'] = np.random.uniform(0, 1, df.shape[0])\n",
    "\n",
    "    simple_model = CatBoostRegressor(\n",
    "        random_state = 42,\n",
    "        verbose=100,\n",
    "        early_stopping_rounds=50,\n",
    "        cat_features=cat_features,\n",
    "        text_features=text_features,\n",
    "        task_type='GPU'\n",
    "        )\n",
    "    simple_model.fit(df[features + ['random']],df['target'])\n",
    "    features = pd.Series(\n",
    "        simple_model.feature_importances_,\n",
    "        index=simple_model.feature_names_\n",
    "        )\n",
    "    selected_features = features[features.values > features.loc['random']].index\n",
    "\n",
    "    return selected_features\n",
    "\n",
    "selected_features = feats_filter_random_feat(\n",
    "    train_df,\n",
    "    selected_features+text_feat,\n",
    "    selected_features_cat,\n",
    "    text_feat\n",
    "    )\n",
    "selected_features_num = [feat for feat in num_feat if feat in selected_features]\n",
    "selected_features_cat = [feat for feat in cat_feat if feat in selected_features]\n",
    "selected_features_text = [feat for feat in text_feat if feat in selected_features]\n",
    "len(selected_features)"
   ]
  },
  {
   "cell_type": "code",
   "execution_count": null,
   "metadata": {
    "colab": {
     "base_uri": "https://localhost:8080/"
    },
    "id": "RiZ1dfyjCRfO",
    "outputId": "5ba055a3-5df9-4be4-e0f2-cb1695e6c304"
   },
   "outputs": [],
   "source": [
    "# по корреляции\n",
    "\n",
    "def feats_filter_corr(df: pd.DataFrame,\n",
    "                      features: list,\n",
    "                      corr_threshold: float):\n",
    "\n",
    "    \"\"\"Функция отбора фичей по корреляции между фичами.\n",
    "    Фичи, которые коррелируют с показателем не менее corr_threshold, подлежат\n",
    "      удалению (из пары коррелирующих фичей удаляется менее заполненная фича).\n",
    "      Используется метод df[features].corr() с корреляцией Пирсона.\n",
    "\n",
    "    Parameters\n",
    "    ----------\n",
    "    df : pd.DataFrame\n",
    "        датафрейм с фичами\n",
    "    features : list\n",
    "        список фичей\n",
    "    corr_threshold : float\n",
    "        порог удаления фичи\n",
    "\n",
    "    Returns\n",
    "    -------\n",
    "    list\n",
    "        список фичей, которые останутся в датафрейме\n",
    "\n",
    "    \"\"\"\n",
    "    del_features = []\n",
    "    matrix_corr = df[features].corr()\n",
    "    for feature in matrix_corr.index:\n",
    "        corr_features = matrix_corr.loc[feature][matrix_corr.loc[feature] >= corr_threshold].index\n",
    "        for corr_feature in corr_features:\n",
    "            if feature != corr_feature and df[feature].isnull().sum() < df[corr_feature].isnull().sum():\n",
    "                del_features.append(corr_feature)\n",
    "            elif feature != corr_feature and df[feature].isnull().sum() > df[corr_feature].isnull().sum():\n",
    "                del_features.append(feature)\n",
    "            elif feature != corr_feature and df[feature].isnull().sum() == df[corr_feature].isnull().sum():\n",
    "                del_features.append(min(feature, corr_feature))\n",
    "\n",
    "    del_features = list(set(del_features))\n",
    "    selected_features = [feat for feat in features if feat not in del_features]\n",
    "    return selected_features\n",
    "\n",
    "selected_features_num = feats_filter_corr(train_df, selected_features_num, 0.95)\n",
    "selected_features = selected_features_num + selected_features_cat + selected_features_text\n",
    "len(selected_features)"
   ]
  },
  {
   "cell_type": "code",
   "execution_count": null,
   "metadata": {
    "colab": {
     "base_uri": "https://localhost:8080/"
    },
    "id": "2Vm6Bu4EFChy",
    "outputId": "4c4e8fa8-37b0-4075-c0d9-fe85d95b7275"
   },
   "outputs": [],
   "source": [
    "selected_features, selected_features_cat, selected_features_text"
   ]
  },
  {
   "cell_type": "code",
   "execution_count": null,
   "metadata": {
    "colab": {
     "base_uri": "https://localhost:8080/"
    },
    "execution": {
     "iopub.execute_input": "2024-02-15T07:47:04.402884Z",
     "iopub.status.busy": "2024-02-15T07:47:04.401992Z",
     "iopub.status.idle": "2024-02-15T07:47:04.417209Z",
     "shell.execute_reply": "2024-02-15T07:47:04.416299Z",
     "shell.execute_reply.started": "2024-02-15T07:47:04.40285Z"
    },
    "id": "444NI85_PeKR",
    "outputId": "eb078043-05f3-43d0-b64e-05459a818ae7"
   },
   "outputs": [],
   "source": [
    "selected_features = ['accum_rur_amt_cm_avg_div_v2',\n",
    "  'atravel',\n",
    "  'avg_3m_hotels',\n",
    "  'avg_6m_building_services',\n",
    "  'avg_6m_money_transactions',\n",
    "  'avg_6m_personal_services',\n",
    "  'avg_6m_transportation',\n",
    "  'avg_by_category__amount__sum__cashflowcategory_name__detskie_igrushki',\n",
    "  'avg_by_category__amount__sum__cashflowcategory_name__zdorove',\n",
    "  'avg_debet_turn_rur',\n",
    "  'avg_percents_inc',\n",
    "  'by_category__amount__sum__eoperation_type_name__vneshnij_perevod_rur',\n",
    "  'cc_other_rate_max_2avg_prop',\n",
    "  'channel_mobilnoe_prilozhenie_am_voc_features_12m_mark_eq_1_flag',\n",
    "  'channel_mobilnoe_prilozhenie_am_voc_features_12m_voc_with_expert_cnt',\n",
    "  'commission_outcome_rur_amt',\n",
    "  'curr_rur_amt_cm_avg',\n",
    "  'hdb_bki_active_cc_cnt',\n",
    "  'hdb_bki_active_ip_max_outstand',\n",
    "  'hdb_bki_active_pil_max_overdue',\n",
    "  'hdb_bki_other_active_auto_month_payments_sum',\n",
    "  'hdb_bki_total_cc_max_limit',\n",
    "  'hdb_bki_total_max_overdue_sum',\n",
    "  'hdb_bki_total_pil_max_limit',\n",
    "  'hdb_outstand_sum',\n",
    "  'incomeValue',\n",
    "  'max_cc_largest_max_limit_actoff_30d',\n",
    "  'max_pil_largest_max_limit_actoff_90d',\n",
    "  'min_cc_max_el_actoff_90d',\n",
    "  'min_max_limit',\n",
    "  'min_pil_max_score_actoff_180d',\n",
    "  'min_pil_max_ul_actoff_90d',\n",
    "  'mob_cover_days',\n",
    "  'percent_outcome_rur_amt',\n",
    "  'product_zarplatnaja_karta_voc_features_36m_mark_eq_5_flag',\n",
    "  'product_zarplatnaja_karta_voc_features_3m_voc_with_expert_cnt',\n",
    "  'prof_cc_prof',\n",
    "  'profit_income_out_rur_amt_9m',\n",
    "  'smsInWavg6m',\n",
    "  'staff_flag',\n",
    "  'first_salary_income',\n",
    "  'summarur_1m_no_cat',\n",
    "  'total_rur_amt_cm_avg_div_v2',\n",
    "  'total_rur_amt_cm_avg_period_days_ago_v2',\n",
    "  'transaction_category_hotels_sum_amt_m2',\n",
    "  'transaction_category_supermarket_sum_amt_m3_4',\n",
    "  'transaction_category_supermarket_sum_cnt_d15',\n",
    "  'turn_cc_cr_max_v2',\n",
    "  'turn_other_cr_avg_v2',\n",
    "  'turn_other_db_max_v2',\n",
    "  'uniV5',\n",
    "  'worksalary_rur_amt',\n",
    "  'nan_rate',\n",
    "  'sum_transactions_amt_0_5_1',\n",
    "  'sum_transactions_amt_6',\n",
    "  'sum_transactions_amt_12',\n",
    "  'min_spending',\n",
    "  'savings',\n",
    "  'money',\n",
    "  'max_limit',\n",
    "  'addrref',\n",
    "  'oldest_campaignsegment_ccode_for_nss',\n",
    "  'oldest_campaignsegment_ccode_for_pil',\n",
    "  'segment',\n",
    "  'short_position_2w',\n",
    "  'year',\n",
    "  'quater',\n",
    "  'main_last_position_ccode_text',\n",
    "  'main_pre_last_position_ccode_text',\n",
    "  'part_last_position_ccode_text',\n",
    "  'main_last_position_ccode_corr_text']\n",
    "selected_features_cat = ['addrref',\n",
    "  'oldest_campaignsegment_ccode_for_nss',\n",
    "  'oldest_campaignsegment_ccode_for_pil',\n",
    "  'segment',\n",
    "  'short_position_2w',\n",
    "  'year',\n",
    "  'quater']\n",
    "selected_features_text = ['main_last_position_ccode_text',\n",
    "  'main_pre_last_position_ccode_text',\n",
    "  'part_last_position_ccode_text',\n",
    "  'main_last_position_ccode_corr_text']\n",
    "selected_features_num = [feat for feat in selected_features\n",
    "                         if feat not in selected_features_cat\n",
    "                        and feat not in selected_features_text]\n",
    "len(selected_features), len(selected_features_cat), \\\n",
    "len(selected_features_num), len(selected_features_text)"
   ]
  },
  {
   "cell_type": "markdown",
   "metadata": {
    "id": "Lv21KmmIH4mY"
   },
   "source": [
    "## EDA"
   ]
  },
  {
   "cell_type": "markdown",
   "metadata": {
    "id": "uWehryOTJmYv"
   },
   "source": [
    "Посмотрим на описательные статистики и распределение целевой переменной."
   ]
  },
  {
   "cell_type": "code",
   "execution_count": null,
   "metadata": {
    "colab": {
     "base_uri": "https://localhost:8080/"
    },
    "id": "CjIWo3g2KkOK",
    "outputId": "e386fe76-8fa3-4425-85ef-20d2807748e6"
   },
   "outputs": [],
   "source": [
    "train_df['target'].describe()"
   ]
  },
  {
   "cell_type": "code",
   "execution_count": null,
   "metadata": {
    "colab": {
     "base_uri": "https://localhost:8080/",
     "height": 542
    },
    "id": "vHy9r6Y7Jecu",
    "outputId": "d37bd079-9ed2-4445-abe7-907daa91d6c5"
   },
   "outputs": [],
   "source": [
    "fig = px.histogram(train_df, x = 'target', marginal = 'box',\n",
    "                   title ='Распределение дохода')\n",
    "fig.show()"
   ]
  },
  {
   "cell_type": "markdown",
   "metadata": {
    "id": "2pfGc80ELDhA"
   },
   "source": [
    "Судя по гистограмме, целевая переменная имеет логнормальное распределение с длинным хвостом справа. Возможно, при предсказании будет полезно логорифировать таргет.\n",
    "\n",
    "Проверим, является ли распределения логарифмированного таргета нормальным."
   ]
  },
  {
   "cell_type": "code",
   "execution_count": null,
   "metadata": {
    "colab": {
     "base_uri": "https://localhost:8080/"
    },
    "id": "6LwmKILk_iBH",
    "outputId": "0069d58a-d087-4ce3-b18f-9e51cc2323c8"
   },
   "outputs": [],
   "source": [
    "# задаём уровень значимости\n",
    "alpha = 0.05\n",
    "\n",
    "# проводим тест\n",
    "_, p = stats.normaltest(np.log(train_df['target']))\n",
    "\n",
    "print('p-value = ',p)\n",
    "\n",
    "# интерпретируем результат\n",
    "if p <= alpha:\n",
    "    print('Распределение не нормальное')\n",
    "else:\n",
    "    print('Распределение нормальное')"
   ]
  },
  {
   "cell_type": "markdown",
   "metadata": {
    "id": "FTHstqh5AHPI"
   },
   "source": [
    "Посмотрим визуализацию, которая позволяет сравнить распределение дохода в зависимости от года и квартала."
   ]
  },
  {
   "cell_type": "code",
   "execution_count": null,
   "metadata": {
    "colab": {
     "base_uri": "https://localhost:8080/",
     "height": 542
    },
    "id": "Y3gVY1qsARVJ",
    "outputId": "af92a72c-c823-40ee-b131-8f385c6557a2"
   },
   "outputs": [],
   "source": [
    "fig = px.histogram(train_df, x = 'target', marginal = 'box',\n",
    "                   color='year',\n",
    "                   title ='Распределение дохода в разрезе года')\n",
    "fig.show()"
   ]
  },
  {
   "cell_type": "markdown",
   "metadata": {
    "id": "8ZycmdL2BCKw"
   },
   "source": [
    "Распределение дохода отличается в зависимости от года, в 2023 году медиана меньше.\n",
    "\n",
    "Посмотрим на медианный доход клиентов в зависимости от квартала."
   ]
  },
  {
   "cell_type": "code",
   "execution_count": null,
   "metadata": {
    "colab": {
     "base_uri": "https://localhost:8080/",
     "height": 542
    },
    "id": "6Fy9KkezBULg",
    "outputId": "08c4c4b6-ba76-4285-97e6-23939293369a"
   },
   "outputs": [],
   "source": [
    "data = train_df.groupby('quater')['target'].median()\n",
    "fig = px.bar(data, x=data.index, y=data.values,\n",
    "                   title='Медианный доход в зависимости от квартала',\n",
    "                   labels={'y':'median of target'})\n",
    "fig.show()"
   ]
  },
  {
   "cell_type": "markdown",
   "metadata": {
    "id": "qQYfs8pQB8RQ"
   },
   "source": [
    "Видим различия в уровне медианного дохода в зависимости от квартала, то есть временной признак (квартал+год), вероятно, имеет высокую важность при предсказании уровня дохода.\n",
    "\n",
    "Посмотрим на распределение некоторых признаков и их корреляцию с уровнем дохода."
   ]
  },
  {
   "cell_type": "code",
   "execution_count": null,
   "metadata": {
    "colab": {
     "base_uri": "https://localhost:8080/",
     "height": 542
    },
    "id": "lpcpgOpRCNTY",
    "outputId": "124df10c-6644-4baf-a767-083ccc82a87c"
   },
   "outputs": [],
   "source": [
    "fig = px.box(train_df, x='worksalary_rur_amt',\n",
    "                   title='Распределение зарплаты')\n",
    "fig.show()"
   ]
  },
  {
   "cell_type": "markdown",
   "metadata": {
    "id": "FpUHWIVbC31Y"
   },
   "source": [
    "Видим, что признак 'worksalary_rur_amt' содержит анамольно большие значения. Удалим значения выше 99 персентиля и посмотрим на распределение."
   ]
  },
  {
   "cell_type": "code",
   "execution_count": null,
   "metadata": {
    "id": "AOXbO3RG0VDk"
   },
   "outputs": [],
   "source": [
    "train_df.loc[train_df['worksalary_rur_amt'] > np.percentile(train_df['worksalary_rur_amt'].dropna(),99),\n",
    "             'worksalary_rur_amt'] = np.nan\n",
    "test_df.loc[test_df['worksalary_rur_amt'] > np.percentile(train_df['worksalary_rur_amt'].dropna(),99),\n",
    "            'worksalary_rur_amt'] = np.nan"
   ]
  },
  {
   "cell_type": "code",
   "execution_count": null,
   "metadata": {
    "colab": {
     "base_uri": "https://localhost:8080/",
     "height": 542
    },
    "id": "ESjdW4ldDHsY",
    "outputId": "64081b40-f4bd-4e12-e6af-90274c8311cc"
   },
   "outputs": [],
   "source": [
    "fig = px.histogram(train_df, x='worksalary_rur_amt', marginal='box',\n",
    "                   title='Распределение зарплаты')\n",
    "fig.show()"
   ]
  },
  {
   "cell_type": "code",
   "execution_count": null,
   "metadata": {
    "colab": {
     "base_uri": "https://localhost:8080/",
     "height": 542
    },
    "id": "yisGhHFqDqbC",
    "outputId": "3ac505f1-8eee-43fb-d595-6bc24e1d1f7b"
   },
   "outputs": [],
   "source": [
    "fig = px.histogram(test_df, x='worksalary_rur_amt', marginal='box',\n",
    "                   title='Распределение зарплаты')\n",
    "fig.show()"
   ]
  },
  {
   "cell_type": "code",
   "execution_count": null,
   "metadata": {
    "colab": {
     "base_uri": "https://localhost:8080/",
     "height": 542
    },
    "id": "9UxENMM1DRtZ",
    "outputId": "0252e161-bca3-4248-f7c3-f71210c811c1"
   },
   "outputs": [],
   "source": [
    "fig = px.scatter(train_df, x='worksalary_rur_amt', y='target',\n",
    "                   title='Зависимость между значением зарплаты и доходом')\n",
    "fig.show()"
   ]
  },
  {
   "cell_type": "markdown",
   "metadata": {
    "id": "WDC9D170Djdq"
   },
   "source": [
    "Наблюдается корреляция между уровнем дохода и уровнем зарплаты.\n",
    "\n",
    "Посмотрим, какие еще признаки имеют высокий уровень корреляции с таргетом."
   ]
  },
  {
   "cell_type": "code",
   "execution_count": null,
   "metadata": {
    "id": "_3lpgkfbE5XP"
   },
   "outputs": [],
   "source": [
    "matrix_corr = train_df.corr()"
   ]
  },
  {
   "cell_type": "code",
   "execution_count": null,
   "metadata": {
    "id": "739syuZRFLpK"
   },
   "outputs": [],
   "source": [
    "corr_features = matrix_corr['target'].drop(['target','w']).sort_values(ascending=False).head(20).index"
   ]
  },
  {
   "cell_type": "code",
   "execution_count": null,
   "metadata": {
    "colab": {
     "base_uri": "https://localhost:8080/",
     "height": 320
    },
    "id": "WUX2ocYMFiGW",
    "outputId": "1492bc44-4e67-4b18-a72e-b80b5dbaeef7"
   },
   "outputs": [],
   "source": [
    "train_df[corr_features].describe()"
   ]
  },
  {
   "cell_type": "code",
   "execution_count": null,
   "metadata": {
    "colab": {
     "base_uri": "https://localhost:8080/",
     "height": 320
    },
    "id": "_HL77EhyFyF9",
    "outputId": "03837f44-75e9-409d-8d27-8c5271b355a9"
   },
   "outputs": [],
   "source": [
    "test_df[corr_features].describe()"
   ]
  },
  {
   "cell_type": "markdown",
   "metadata": {
    "id": "LOERUKU7cZsR"
   },
   "source": [
    "Признак 'first_salary_income' имеет высокую корреляцию с таргетом на тренировочной выборке, но при этом в тестовой этот признак не заполнен. Вероятно, это лик, который следует исключить из выборки."
   ]
  },
  {
   "cell_type": "code",
   "execution_count": null,
   "metadata": {
    "id": "1Z7HOmcIczXI"
   },
   "outputs": [],
   "source": [
    "selected_features.remove('first_salary_income')\n",
    "selected_features_num.remove('first_salary_income')"
   ]
  },
  {
   "cell_type": "markdown",
   "metadata": {
    "id": "hobXXRONdCsL"
   },
   "source": [
    "Посмотрим на распределение дебетовых оборотов и их взаимосвязь с доходом."
   ]
  },
  {
   "cell_type": "code",
   "execution_count": null,
   "metadata": {
    "colab": {
     "base_uri": "https://localhost:8080/",
     "height": 542
    },
    "id": "p5IWGBqjdZ8j",
    "outputId": "e77a0efa-3ff6-4e1d-c1b2-b4fa1bedbbd3"
   },
   "outputs": [],
   "source": [
    "fig = px.histogram(train_df, x='avg_debet_turn_rur', marginal='box',\n",
    "                   title='Распределение дебетовых оборотов')\n",
    "fig.show()"
   ]
  },
  {
   "cell_type": "markdown",
   "metadata": {
    "id": "QSypNpPfeZtB"
   },
   "source": [
    "Удалим значения выше 99 персентиля."
   ]
  },
  {
   "cell_type": "code",
   "execution_count": null,
   "metadata": {
    "id": "y-d4U1iQeM-6"
   },
   "outputs": [],
   "source": [
    "train_df.loc[train_df['avg_debet_turn_rur'] > np.percentile(train_df['avg_debet_turn_rur'].dropna(),99),\n",
    "             'avg_debet_turn_rur'] = np.nan\n",
    "test_df.loc[test_df['avg_debet_turn_rur'] > np.percentile(train_df['avg_debet_turn_rur'].dropna(),99),\n",
    "            'avg_debet_turn_rur'] = np.nan"
   ]
  },
  {
   "cell_type": "code",
   "execution_count": null,
   "metadata": {
    "colab": {
     "base_uri": "https://localhost:8080/",
     "height": 542
    },
    "id": "kNBVTLTyedB1",
    "outputId": "7d2ae1fc-a63d-4076-e4dd-51b78dc70c24"
   },
   "outputs": [],
   "source": [
    "fig = px.histogram(train_df, x='avg_debet_turn_rur', marginal='box',\n",
    "                   title='Распределение дебетовых оборотов')\n",
    "fig.show()"
   ]
  },
  {
   "cell_type": "code",
   "execution_count": null,
   "metadata": {
    "colab": {
     "base_uri": "https://localhost:8080/",
     "height": 542
    },
    "id": "I3cepPT9d3cu",
    "outputId": "8b93521e-208d-463b-db1f-264767181eb9"
   },
   "outputs": [],
   "source": [
    "fig = px.scatter(train_df, x='avg_debet_turn_rur', y='target',\n",
    "                   title='Зависимость между дебетовыми оборотами и доходом')\n",
    "fig.show()"
   ]
  },
  {
   "cell_type": "markdown",
   "metadata": {
    "id": "I5wlCsoFkGsW"
   },
   "source": [
    "Посмотрим есть ли взаимосвязь доли пустых значений и таргета."
   ]
  },
  {
   "cell_type": "code",
   "execution_count": null,
   "metadata": {
    "colab": {
     "base_uri": "https://localhost:8080/",
     "height": 542
    },
    "id": "67aRiGZdkX4f",
    "outputId": "f92981d6-9d18-4087-9b38-67b0e52f843b"
   },
   "outputs": [],
   "source": [
    "fig = px.scatter(train_df, x='nan_rate', y='target')\n",
    "fig.show()"
   ]
  },
  {
   "cell_type": "markdown",
   "metadata": {
    "id": "4wpSD22tljIZ"
   },
   "source": [
    "Видно, что наибольшие значения таргета присутсвуют для строк с количеством пропусков 60-70% и при этом для доли пропусков > 99% значения таргета также имеют большой разброс. Так как предсказать для этих клиентов доход не представляется возможным для минимизации метрики соревнования WMAE нужно использовать медиану. Посмотрим на медиану по таким строкам, и по всему остальному трейну."
   ]
  },
  {
   "cell_type": "code",
   "execution_count": null,
   "metadata": {
    "colab": {
     "base_uri": "https://localhost:8080/"
    },
    "id": "Ve4hwOf7lJv1",
    "outputId": "309cd482-7f12-482f-8394-03d0946aaece"
   },
   "outputs": [],
   "source": [
    "train_df[train_df['nan_rate'] > 0.995]['target'].median(), \\\n",
    "train_df[train_df['nan_rate'] <= 0.995]['target'].median()"
   ]
  },
  {
   "cell_type": "markdown",
   "metadata": {
    "id": "gOz6pLZEmDoh"
   },
   "source": [
    "Видим, что медиана по строкам с большим количеством пропусков значительно меньше медианы по остальному датасету."
   ]
  },
  {
   "cell_type": "markdown",
   "metadata": {
    "id": "M0_mkWrmfiUG"
   },
   "source": [
    "## Baseline"
   ]
  },
  {
   "cell_type": "markdown",
   "metadata": {
    "id": "aeLcYhDNfmiP"
   },
   "source": [
    "В качестве бейзлайна будем предсказывать уровень дохода медианой. Для валидации выделим последний месяц из тренировочной выборки."
   ]
  },
  {
   "cell_type": "code",
   "execution_count": null,
   "metadata": {
    "colab": {
     "base_uri": "https://localhost:8080/"
    },
    "id": "jral4Badf3JA",
    "outputId": "a80de46e-24bb-4745-99c6-f24a8b1c840b"
   },
   "outputs": [],
   "source": [
    "tr_data = train_df[train_df['feature_date'] < '30/08/2023']\n",
    "val_data = train_df[train_df['feature_date'] >= '30/08/2023']\n",
    "tr_data.shape, val_data.shape"
   ]
  },
  {
   "cell_type": "code",
   "execution_count": null,
   "metadata": {
    "colab": {
     "base_uri": "https://localhost:8080/"
    },
    "id": "Po-w8o8tgGsR",
    "outputId": "6b766980-ebf9-4833-d8ba-e3b44082a0ca"
   },
   "outputs": [],
   "source": [
    "val_data['preds'] = tr_data['target'].median()\n",
    "\n",
    "weighted_mean_absolute_error(val_data['target'], val_data['preds'], val_data['w'])"
   ]
  },
  {
   "cell_type": "markdown",
   "metadata": {
    "id": "KHXtOADwgNUs"
   },
   "source": [
    "## Модель Catboost"
   ]
  },
  {
   "cell_type": "markdown",
   "metadata": {
    "id": "4wx6blJZhK8X"
   },
   "source": [
    "Для построения модели регрессора воспользуемся реализацией градиентного бустинга из библиотеки Catboost. Эта библиотека удобна тем, что не требует заполнения пропусков и предобработки категориальных фичей, а также имеет возможность обработки текстовых фичей."
   ]
  },
  {
   "cell_type": "markdown",
   "metadata": {
    "id": "vQwB97C5itRa"
   },
   "source": [
    "### Функция потерь RMSE"
   ]
  },
  {
   "cell_type": "code",
   "execution_count": null,
   "metadata": {
    "id": "IvOq0mc5PeQY"
   },
   "outputs": [],
   "source": [
    "train_data = Pool(\n",
    "    tr_data[selected_features], tr_data['target'],\n",
    "    weight=tr_data['w'],\n",
    "    cat_features=selected_features_cat,\n",
    "    text_features=selected_features_text\n",
    ")\n",
    "\n",
    "eval_data = Pool(\n",
    "    val_data[selected_features], val_data['target'],\n",
    "    weight=val_data['w'],\n",
    "    cat_features=selected_features_cat,\n",
    "    text_features=selected_features_text\n",
    ")"
   ]
  },
  {
   "cell_type": "code",
   "execution_count": null,
   "metadata": {
    "execution": {
     "iopub.execute_input": "2024-02-13T06:03:09.313049Z",
     "iopub.status.busy": "2024-02-13T06:03:09.312307Z",
     "iopub.status.idle": "2024-02-13T06:05:39.141442Z",
     "shell.execute_reply": "2024-02-13T06:05:39.140552Z",
     "shell.execute_reply.started": "2024-02-13T06:03:09.313016Z"
    },
    "id": "5EVXg6HMPeQ_"
   },
   "outputs": [],
   "source": [
    "model_mse = CatBoostRegressor(\n",
    "    learning_rate = 0.1,\n",
    "    iterations=10000,\n",
    "    random_state = 42,\n",
    "    verbose=500,\n",
    "    early_stopping_rounds=200,\n",
    "    cat_features=selected_features_cat,\n",
    "    text_features=selected_features_text,\n",
    "    task_type='GPU',\n",
    "    border_count=254,\n",
    "    eval_metric='MAE'\n",
    ")"
   ]
  },
  {
   "cell_type": "code",
   "execution_count": null,
   "metadata": {
    "colab": {
     "base_uri": "https://localhost:8080/"
    },
    "id": "N-ImKruNDTOt",
    "outputId": "0f29a8ef-a4ff-41e0-b7b0-d2469b7ebc5a"
   },
   "outputs": [],
   "source": [
    "model_mse.fit(train_data,\n",
    "           eval_set=eval_data)"
   ]
  },
  {
   "cell_type": "code",
   "execution_count": null,
   "metadata": {
    "colab": {
     "base_uri": "https://localhost:8080/"
    },
    "execution": {
     "iopub.execute_input": "2024-02-13T06:05:46.901432Z",
     "iopub.status.busy": "2024-02-13T06:05:46.901078Z",
     "iopub.status.idle": "2024-02-13T06:05:51.14763Z",
     "shell.execute_reply": "2024-02-13T06:05:51.146549Z",
     "shell.execute_reply.started": "2024-02-13T06:05:46.901402Z"
    },
    "id": "zAqXWQ3fPeRJ",
    "outputId": "c6c3654f-1c0b-4a99-82ed-c86c4f32c72b"
   },
   "outputs": [],
   "source": [
    "y_train_pred_mse = model_mse.predict(tr_data[selected_features])\n",
    "y_val_pred_mse = model_mse.predict(val_data[selected_features])\n",
    "\n",
    "weighted_mean_absolute_error(tr_data['target'], y_train_pred_mse, tr_data['w']), \\\n",
    "weighted_mean_absolute_error(val_data['target'], y_val_pred_mse, val_data['w'])"
   ]
  },
  {
   "cell_type": "markdown",
   "metadata": {
    "id": "1b0blW5zoclT"
   },
   "source": [
    "Посмотрим, какие значения предсказывает модель для слабо заполненных строк."
   ]
  },
  {
   "cell_type": "code",
   "execution_count": null,
   "metadata": {
    "colab": {
     "base_uri": "https://localhost:8080/"
    },
    "id": "nlOxuIhtojAE",
    "outputId": "d40df455-c57d-4861-fd60-7957e7b6c3e7"
   },
   "outputs": [],
   "source": [
    "y_val_pred_mse[val_data['nan_rate'] > 0.995]"
   ]
  },
  {
   "cell_type": "markdown",
   "metadata": {
    "id": "EZrbSHFSqJAH"
   },
   "source": [
    "Попробуем проставить медиану для таких значений"
   ]
  },
  {
   "cell_type": "code",
   "execution_count": null,
   "metadata": {
    "colab": {
     "base_uri": "https://localhost:8080/"
    },
    "id": "mMgtUV31qMxA",
    "outputId": "d2ca6163-cb7b-4b9a-996e-0ea29d4a2c1e"
   },
   "outputs": [],
   "source": [
    "val_data['preds'] = y_val_pred_mse\n",
    "val_data.loc[val_data['nan_rate'] > 0.995, 'preds'] = tr_data[tr_data['nan_rate']>0.995]['target'].median()\n",
    "weighted_mean_absolute_error(val_data['target'], val_data['preds'], val_data['w'])"
   ]
  },
  {
   "cell_type": "markdown",
   "metadata": {
    "id": "GagmwYusi2Ya"
   },
   "source": [
    "### Функция потерь RMSE и логарифмированный таргет"
   ]
  },
  {
   "cell_type": "markdown",
   "metadata": {
    "id": "Gep4G4Gejb2H"
   },
   "source": [
    "Так как наше распределение похоже на логнормальное, попробуем построить модель для предсказания логарифмированного таргета."
   ]
  },
  {
   "cell_type": "code",
   "execution_count": null,
   "metadata": {
    "execution": {
     "iopub.execute_input": "2024-02-13T06:09:49.283354Z",
     "iopub.status.busy": "2024-02-13T06:09:49.282729Z",
     "iopub.status.idle": "2024-02-13T06:09:50.152486Z",
     "shell.execute_reply": "2024-02-13T06:09:50.151653Z",
     "shell.execute_reply.started": "2024-02-13T06:09:49.283323Z"
    },
    "id": "6Xd8-0GajL2S"
   },
   "outputs": [],
   "source": [
    "train_data = Pool(\n",
    "    tr_data[selected_features], np.log(tr_data['target']),\n",
    "    weight=tr_data['w'],\n",
    "    cat_features=selected_features_cat,\n",
    "    text_features=selected_features_text\n",
    ")\n",
    "\n",
    "eval_data = Pool(\n",
    "    val_data[selected_features], np.log(val_data['target']),\n",
    "    weight=val_data['w'],\n",
    "    cat_features=selected_features_cat,\n",
    "    text_features=selected_features_text\n",
    ")"
   ]
  },
  {
   "cell_type": "code",
   "execution_count": null,
   "metadata": {
    "colab": {
     "base_uri": "https://localhost:8080/"
    },
    "execution": {
     "iopub.execute_input": "2024-02-13T06:09:57.376425Z",
     "iopub.status.busy": "2024-02-13T06:09:57.375826Z",
     "iopub.status.idle": "2024-02-13T06:11:04.263632Z",
     "shell.execute_reply": "2024-02-13T06:11:04.262708Z",
     "shell.execute_reply.started": "2024-02-13T06:09:57.376395Z"
    },
    "id": "O0IFROPMjL2g",
    "outputId": "f51540a5-0bf2-48ce-9668-0fd45aaa23f2"
   },
   "outputs": [],
   "source": [
    "model_log = CatBoostRegressor(\n",
    "    loss_function = 'RMSE',\n",
    "    iterations = 10000,\n",
    "    random_state = 42,\n",
    "    verbose=500,\n",
    "    early_stopping_rounds=200,\n",
    "    cat_features=selected_features_cat,\n",
    "    text_features=selected_features_text,\n",
    "    task_type='GPU',\n",
    "    border_count=254,\n",
    "    eval_metric='MAE'\n",
    ")\n",
    "model_log.fit(train_data,\n",
    "           eval_set=eval_data)"
   ]
  },
  {
   "cell_type": "code",
   "execution_count": null,
   "metadata": {
    "colab": {
     "base_uri": "https://localhost:8080/"
    },
    "execution": {
     "iopub.execute_input": "2024-02-13T06:11:50.197672Z",
     "iopub.status.busy": "2024-02-13T06:11:50.197003Z",
     "iopub.status.idle": "2024-02-13T06:11:52.451655Z",
     "shell.execute_reply": "2024-02-13T06:11:52.450669Z",
     "shell.execute_reply.started": "2024-02-13T06:11:50.19764Z"
    },
    "id": "gMLwjKfnjL2g",
    "outputId": "70738651-c858-4f71-cffd-f16b0ea7b9ac"
   },
   "outputs": [],
   "source": [
    "y_train_pred_log = np.exp(model_log.predict(tr_data[selected_features]))\n",
    "y_val_pred_log = np.exp(model_log.predict(val_data[selected_features]))\n",
    "\n",
    "weighted_mean_absolute_error(tr_data['target'], y_train_pred_log, tr_data['w']), \\\n",
    "weighted_mean_absolute_error(val_data['target'], y_val_pred_log, val_data['w'])"
   ]
  },
  {
   "cell_type": "code",
   "execution_count": null,
   "metadata": {
    "colab": {
     "base_uri": "https://localhost:8080/"
    },
    "id": "n1JgiAUZqwOF",
    "outputId": "dd791455-4e98-467a-9a7b-072806cd3435"
   },
   "outputs": [],
   "source": [
    "y_val_pred_log[val_data['nan_rate'] > 0.995]"
   ]
  },
  {
   "cell_type": "markdown",
   "metadata": {
    "id": "7UMYtldgqz7Q"
   },
   "source": [
    "Модель с логарифмированным таргетом проставила значение близкое к медианным, но вероятно, хуже уловила большие значения."
   ]
  },
  {
   "cell_type": "markdown",
   "metadata": {
    "id": "wqqgH-wemsCe"
   },
   "source": [
    "### Функция потерь MAE"
   ]
  },
  {
   "cell_type": "code",
   "execution_count": null,
   "metadata": {
    "id": "5c4aEBeRm9Hv"
   },
   "outputs": [],
   "source": [
    "train_data = Pool(\n",
    "    tr_data[selected_features], tr_data['target'],\n",
    "    weight=tr_data['w'],\n",
    "    cat_features=selected_features_cat,\n",
    "    text_features=selected_features_text\n",
    ")\n",
    "\n",
    "eval_data = Pool(\n",
    "    val_data[selected_features], val_data['target'],\n",
    "    weight=val_data['w'],\n",
    "    cat_features=selected_features_cat,\n",
    "    text_features=selected_features_text\n",
    ")"
   ]
  },
  {
   "cell_type": "markdown",
   "metadata": {
    "id": "qZv61OmdotlJ"
   },
   "source": [
    "Опытным путем было обнаружено, что при увеличении learning_rate до аномально больших значений модель c лоссом MAE на GPU начинает лучше сходиться."
   ]
  },
  {
   "cell_type": "code",
   "execution_count": null,
   "metadata": {
    "colab": {
     "base_uri": "https://localhost:8080/"
    },
    "execution": {
     "iopub.execute_input": "2024-02-14T08:05:31.870255Z",
     "iopub.status.busy": "2024-02-14T08:05:31.869871Z",
     "iopub.status.idle": "2024-02-14T08:05:33.907054Z",
     "shell.execute_reply": "2024-02-14T08:05:33.905816Z",
     "shell.execute_reply.started": "2024-02-14T08:05:31.870226Z"
    },
    "id": "elGY7z7MPeRU",
    "outputId": "97046528-f34c-4219-c67c-56b2a2a719fd"
   },
   "outputs": [],
   "source": [
    "model_mae = CatBoostRegressor(\n",
    "    loss_function = 'MAE',\n",
    "    iterations = 10000,\n",
    "    learning_rate=4500, # увеличиваем learning_rate\n",
    "    random_state = 42,\n",
    "    verbose=500,\n",
    "    early_stopping_rounds=200,\n",
    "    cat_features=selected_features_cat,\n",
    "    text_features=selected_features_text,\n",
    "    task_type='GPU',\n",
    "    border_count=254,\n",
    "    eval_metric='MAE'\n",
    ")\n",
    "model_mae.fit(train_data,\n",
    "           eval_set=eval_data\n",
    "             )"
   ]
  },
  {
   "cell_type": "code",
   "execution_count": null,
   "metadata": {
    "colab": {
     "base_uri": "https://localhost:8080/"
    },
    "execution": {
     "iopub.execute_input": "2024-02-14T08:06:07.055686Z",
     "iopub.status.busy": "2024-02-14T08:06:07.055278Z",
     "iopub.status.idle": "2024-02-14T08:06:07.115403Z",
     "shell.execute_reply": "2024-02-14T08:06:07.114013Z",
     "shell.execute_reply.started": "2024-02-14T08:06:07.055654Z"
    },
    "id": "r5z1J1cvPeRV",
    "outputId": "ae2b581d-1187-4c86-9f6c-49c00d6fff1a"
   },
   "outputs": [],
   "source": [
    "y_train_pred_mae = model_mae.predict(tr_data[selected_features])\n",
    "y_val_pred_mae = model_mae.predict(val_data[selected_features])\n",
    "\n",
    "weighted_mean_absolute_error(tr_data['target'], y_train_pred_mae, tr_data['w']), \\\n",
    "weighted_mean_absolute_error(val_data['target'], y_val_pred_mae, val_data['w'])"
   ]
  },
  {
   "cell_type": "code",
   "execution_count": null,
   "metadata": {
    "colab": {
     "base_uri": "https://localhost:8080/"
    },
    "id": "iqJhd-vkroHG",
    "outputId": "fa5cdb65-a015-4208-e79d-ffdf25bd8528"
   },
   "outputs": [],
   "source": [
    "y_val_pred_mae[val_data['nan_rate'] > 0.995]"
   ]
  },
  {
   "cell_type": "markdown",
   "metadata": {
    "id": "3cg--hnJW7Wh"
   },
   "source": [
    "### Важность признаков"
   ]
  },
  {
   "cell_type": "markdown",
   "metadata": {
    "id": "5d7bSLNprOMb"
   },
   "source": [
    "Посмотрим на важность признаков для построенных моделей"
   ]
  },
  {
   "cell_type": "code",
   "execution_count": null,
   "metadata": {
    "colab": {
     "base_uri": "https://localhost:8080/"
    },
    "execution": {
     "iopub.execute_input": "2024-02-14T09:21:03.826694Z",
     "iopub.status.busy": "2024-02-14T09:21:03.826317Z",
     "iopub.status.idle": "2024-02-14T09:21:03.846632Z",
     "shell.execute_reply": "2024-02-14T09:21:03.845735Z",
     "shell.execute_reply.started": "2024-02-14T09:21:03.826666Z"
    },
    "id": "6Z9Oms1HPeRf",
    "outputId": "86e11663-b472-467c-e08e-820e22939c7b"
   },
   "outputs": [],
   "source": [
    "# посмотрим на важность признаков\n",
    "feat_imp = pd.DataFrame({\n",
    "  'feature': model_mse.feature_names_,\n",
    "  'importance':model_mse.feature_importances_\n",
    "  })\n",
    "\n",
    "print(feat_imp[['feature', 'importance']].sort_values('importance', ascending = False).head(20))"
   ]
  },
  {
   "cell_type": "code",
   "execution_count": null,
   "metadata": {
    "colab": {
     "base_uri": "https://localhost:8080/"
    },
    "id": "dYCosLn8rWUG",
    "outputId": "c215431c-0d07-4c11-8f76-fcb8975b46e6"
   },
   "outputs": [],
   "source": [
    "# посмотрим на важность признаков\n",
    "feat_imp = pd.DataFrame({\n",
    "  'feature': model_mae.feature_names_,\n",
    "  'importance':model_mae.feature_importances_\n",
    "  })\n",
    "\n",
    "print(feat_imp[['feature', 'importance']].sort_values('importance', ascending = False).head(20))"
   ]
  },
  {
   "cell_type": "markdown",
   "metadata": {
    "id": "iN0rWie-GYkV"
   },
   "source": [
    "### Подбор гиперпараметров"
   ]
  },
  {
   "cell_type": "code",
   "execution_count": null,
   "metadata": {
    "id": "SRZY1BQYGWMq"
   },
   "outputs": [],
   "source": [
    "import optuna\n",
    "\n",
    "def objective(trial):\n",
    "\n",
    "    # 1. разделяем случайным образом выборку X_cv, y_cv на обучающую, валидационную и тестовую\n",
    "    x_train, x_val, y_tr, y_v, w_tr, w_v = train_test_split(\n",
    "        tr_data[selected_features], tr_data['target'], tr_data['w'], test_size=0.2\n",
    "        )\n",
    "\n",
    "    # 2. назначаем параметры и значения для перебора\n",
    "    param = {\n",
    "        \"depth\": trial.suggest_categorical(\"depth\", [6, 10]),\n",
    "        \"l2_leaf_reg\": trial.suggest_float(\"l2_leaf_reg\", 3, 25),\n",
    "        \"bagging_temperature\": trial.suggest_float(\"bagging_temperature\", 0, 10.0),\n",
    "        \"random_strength\": trial.suggest_float(\"random_strength\", 1, 10),\n",
    "    }\n",
    "\n",
    "    train_data = Pool(\n",
    "        x_train, y_tr,\n",
    "        weight=w_tr,\n",
    "        cat_features=selected_features_cat,\n",
    "        text_features=selected_features_text\n",
    "    )\n",
    "\n",
    "    eval_data = Pool(\n",
    "        x_val, y_v,\n",
    "        weight=w_v,\n",
    "        cat_features=selected_features_cat,\n",
    "        text_features=selected_features_text\n",
    "    )\n",
    "    # 3. обучаем модель с выбранными параметрами\n",
    "    model_cv = CatBoostRegressor(\n",
    "        **param,\n",
    "        iterations = 1000,\n",
    "        random_state = 42,\n",
    "        verbose=500,\n",
    "        early_stopping_rounds=200,\n",
    "        cat_features=selected_features_cat,\n",
    "        text_features=selected_features_text,\n",
    "        task_type='GPU',\n",
    "        border_count=254,\n",
    "        eval_metric='MAE'\n",
    "        )\n",
    "    model_cv.fit(train_data, eval_set=eval_data, verbose=False)\n",
    "\n",
    "    # 4. делаем предсказание и вовращаем значение метрики\n",
    "    preds = model_cv.predict(te_data[selected_features])\n",
    "    metric = weighted_mean_absolute_error(te_data['target'], preds, te_data['w'])\n",
    "\n",
    "    return metric"
   ]
  },
  {
   "cell_type": "code",
   "execution_count": null,
   "metadata": {
    "colab": {
     "base_uri": "https://localhost:8080/"
    },
    "id": "-t-zMmYJKLLc",
    "outputId": "ae8ffc4f-9573-4661-ca0b-a16f321f7fd5"
   },
   "outputs": [],
   "source": [
    "study = optuna.create_study(direction=\"minimize\")\n",
    "study.optimize(objective, timeout=1800)"
   ]
  },
  {
   "cell_type": "code",
   "execution_count": null,
   "metadata": {
    "colab": {
     "base_uri": "https://localhost:8080/"
    },
    "id": "cKnW_33NKjQe",
    "outputId": "c10245c6-5db4-45ba-d47f-c9e46cab6460"
   },
   "outputs": [],
   "source": [
    "print(\"Number of finished trials: {}\".format(len(study.trials)))\n",
    "\n",
    "print(\"Best trial:\")\n",
    "best_trial = study.best_trial\n",
    "\n",
    "print(\"  Value: {}\".format(best_trial.value))\n",
    "\n",
    "print(\"  Params: \")\n",
    "for key, value in best_trial.params.items():\n",
    "    print(\"    {}: {}\".format(key, value))"
   ]
  },
  {
   "cell_type": "code",
   "execution_count": null,
   "metadata": {
    "colab": {
     "base_uri": "https://localhost:8080/"
    },
    "id": "SAqAaAgwE5As",
    "outputId": "ef34f763-8064-484a-a48a-1a84942f878d"
   },
   "outputs": [],
   "source": [
    "best_trial.params"
   ]
  },
  {
   "cell_type": "code",
   "execution_count": null,
   "metadata": {
    "id": "mjrF4_gg4QAr"
   },
   "outputs": [],
   "source": [
    "best_params = {'depth': 10,\n",
    " 'l2_leaf_reg': 23.796616602977505,\n",
    " 'bagging_temperature': 0.3985497275111982,\n",
    " 'random_strength': 8.179601506035654}"
   ]
  },
  {
   "cell_type": "code",
   "execution_count": null,
   "metadata": {
    "colab": {
     "base_uri": "https://localhost:8080/"
    },
    "execution": {
     "iopub.execute_input": "2024-02-13T06:03:09.313049Z",
     "iopub.status.busy": "2024-02-13T06:03:09.312307Z",
     "iopub.status.idle": "2024-02-13T06:05:39.141442Z",
     "shell.execute_reply": "2024-02-13T06:05:39.140552Z",
     "shell.execute_reply.started": "2024-02-13T06:03:09.313016Z"
    },
    "id": "TccvlT2XTU6p",
    "outputId": "576c1c9f-a045-4ad6-f917-ab22726e389b"
   },
   "outputs": [],
   "source": [
    "model_best = CatBoostRegressor(\n",
    "    **best_params,\n",
    "    iterations = 10000,\n",
    "    random_state = 42,\n",
    "    verbose=500,\n",
    "    early_stopping_rounds=200,\n",
    "    cat_features=selected_features_cat,\n",
    "    text_features=selected_features_text,\n",
    "    task_type='GPU',\n",
    "    border_count=254,\n",
    "    eval_metric='MAE'\n",
    ")\n",
    "model_best.fit(train_data,\n",
    "           eval_set=eval_data)"
   ]
  },
  {
   "cell_type": "code",
   "execution_count": null,
   "metadata": {
    "colab": {
     "base_uri": "https://localhost:8080/"
    },
    "execution": {
     "iopub.execute_input": "2024-02-13T06:05:46.901432Z",
     "iopub.status.busy": "2024-02-13T06:05:46.901078Z",
     "iopub.status.idle": "2024-02-13T06:05:51.14763Z",
     "shell.execute_reply": "2024-02-13T06:05:51.146549Z",
     "shell.execute_reply.started": "2024-02-13T06:05:46.901402Z"
    },
    "id": "zmgSrJGWTU6y",
    "outputId": "c94d534b-bdab-4f9c-8176-4a5de5b4dd40"
   },
   "outputs": [],
   "source": [
    "y_train_pred = model_best.predict(tr_data[selected_features])\n",
    "y_val_pred = model_best.predict(val_data[selected_features])\n",
    "\n",
    "weighted_mean_absolute_error(tr_data['target'], y_train_pred, tr_data['w']), \\\n",
    "weighted_mean_absolute_error(val_data['target'], y_val_pred, val_data['w'])"
   ]
  },
  {
   "cell_type": "code",
   "execution_count": null,
   "metadata": {
    "colab": {
     "base_uri": "https://localhost:8080/"
    },
    "id": "wK8_-IHVW0Dt",
    "outputId": "195c666f-fcdb-4f4b-8e1d-ec4a44edc6b4"
   },
   "outputs": [],
   "source": [
    "val_data['preds'] = y_val_pred\n",
    "val_data.loc[val_data['nan_rate'] > 0.995, 'preds'] = tr_data[tr_data['nan_rate']>0.995]['target'].median()\n",
    "weighted_mean_absolute_error(val_data['target'], val_data['preds'], val_data['w'])"
   ]
  },
  {
   "cell_type": "markdown",
   "metadata": {
    "id": "gOnIgJKav1Gh"
   },
   "source": [
    "Оптимизация гиперпараметров помогла немного улучшить качество предсказания."
   ]
  },
  {
   "cell_type": "markdown",
   "metadata": {
    "id": "MH6W1EMEUbGW"
   },
   "source": [
    "## Классификатор"
   ]
  },
  {
   "cell_type": "markdown",
   "metadata": {
    "id": "lTbHHOLrt9pL"
   },
   "source": [
    "Так как функция потерь MSE лучше предсказывает большие значения, так как сильнее штрафует большие ошибки, а функция MAE лучше предсказывает медианные значения, возникла идея совместить предсказания этих моделей, построив классификатор для классификации клиентов по уровню дохода. Разделим клиентов на 2 группы, добавив признак 'class_target', который равен 1 для дохода выше или равного 200000 и 0 для дохода меньше 200000."
   ]
  },
  {
   "cell_type": "code",
   "execution_count": null,
   "metadata": {
    "id": "oV2hDNREUgX7"
   },
   "outputs": [],
   "source": [
    "train_df['class_target'] = train_df['target'].apply(lambda x: 1 if x >= 200000 else 0)"
   ]
  },
  {
   "cell_type": "code",
   "execution_count": null,
   "metadata": {
    "colab": {
     "base_uri": "https://localhost:8080/"
    },
    "id": "Zfkt2JOzU0hg",
    "outputId": "47f9e4a2-99b2-4104-e11b-f838b1686ccd"
   },
   "outputs": [],
   "source": [
    "train_df['class_target'].value_counts()"
   ]
  },
  {
   "cell_type": "code",
   "execution_count": null,
   "metadata": {
    "colab": {
     "base_uri": "https://localhost:8080/",
     "height": 143
    },
    "id": "WuZj-k00U_4o",
    "outputId": "19dbc747-e4f6-4361-96d3-692c96c5d361"
   },
   "outputs": [],
   "source": [
    "train_df.groupby('class_target')['target'].describe()"
   ]
  },
  {
   "cell_type": "markdown",
   "metadata": {
    "id": "fd9jnNeawCiM"
   },
   "source": [
    "Выделим валидационную выборку таким же образом, как ранее - по последнему месяцу в тренировочной выборке."
   ]
  },
  {
   "cell_type": "code",
   "execution_count": null,
   "metadata": {
    "colab": {
     "base_uri": "https://localhost:8080/"
    },
    "id": "Kr24owWBbs0V",
    "outputId": "dce7af50-566e-4d9a-ef0f-9ab6536f2d2d"
   },
   "outputs": [],
   "source": [
    "tr_data = train_df[train_df['feature_date'] < '30/08/2023']\n",
    "val_data = train_df[train_df['feature_date'] >= '30/08/2023']\n",
    "tr_data.shape, val_data.shape"
   ]
  },
  {
   "cell_type": "code",
   "execution_count": null,
   "metadata": {
    "colab": {
     "base_uri": "https://localhost:8080/"
    },
    "id": "CEFjQeG0cOl1",
    "outputId": "1c0ce59c-60d5-4422-8fcb-0d336a7ffc0c"
   },
   "outputs": [],
   "source": [
    "tr_data['class_target'].mean(), val_data['class_target'].mean()"
   ]
  },
  {
   "cell_type": "markdown",
   "metadata": {
    "id": "-0hh8dlDwhNy"
   },
   "source": [
    "Предсказывать класс будем с помощью CatBoostClassifier, используя кросс-валидацию на 5 фолдов."
   ]
  },
  {
   "cell_type": "code",
   "execution_count": null,
   "metadata": {
    "colab": {
     "base_uri": "https://localhost:8080/"
    },
    "id": "Plr_yfNmRgb0",
    "outputId": "e268ffcf-f0d8-46ec-86da-fd7d6cc64ddb"
   },
   "outputs": [],
   "source": [
    "# используем StratifiedKFold, так как классы не сбалансированы\n",
    "kf = StratifiedKFold(n_splits=5, shuffle=True, random_state=42)\n",
    "pr_auc_kf = []\n",
    "models_cl = []\n",
    "\n",
    "for j, (train_index, test_index) in enumerate(kf.split(\n",
    "    tr_data[selected_features], tr_data['class_target']\n",
    "    )):\n",
    "    model = CatBoostClassifier(\n",
    "        iterations=10000,\n",
    "        random_state = 42,\n",
    "        verbose=500,\n",
    "        early_stopping_rounds=200,\n",
    "        cat_features=selected_features_cat,\n",
    "        text_features=selected_features_text,\n",
    "        task_type='GPU',\n",
    "        auto_class_weights='Balanced' # для балансировки классов\n",
    "    )\n",
    "\n",
    "    train_data = Pool(\n",
    "        tr_data[selected_features].iloc[train_index],\n",
    "        tr_data['class_target'].iloc[train_index],\n",
    "        cat_features=selected_features_cat,\n",
    "        text_features = selected_features_text\n",
    "    )\n",
    "\n",
    "    eval_data = Pool(\n",
    "        tr_data[selected_features].iloc[test_index],\n",
    "        tr_data['class_target'].iloc[test_index],\n",
    "        cat_features=selected_features_cat,\n",
    "        text_features = selected_features_text,\n",
    "    )\n",
    "\n",
    "    model.fit(train_data, eval_set=eval_data)\n",
    "\n",
    "    preds_test = model.predict_proba(tr_data[selected_features].iloc[test_index])[:, 1]\n",
    "\n",
    "    precision, recall, thresholds = precision_recall_curve(\n",
    "        tr_data.iloc[test_index]['class_target'], preds_test)\n",
    "    pr_auc_kf.append(auc(recall, precision))\n",
    "    models_cl.append(model)\n",
    "\n",
    "pr_auc_kf\n"
   ]
  },
  {
   "cell_type": "code",
   "execution_count": null,
   "metadata": {
    "colab": {
     "base_uri": "https://localhost:8080/"
    },
    "id": "fM6OCbaTYL25",
    "outputId": "fcf60166-ac10-419f-a372-0995cd288d2d"
   },
   "outputs": [],
   "source": [
    "# предсказание на кросс-валидации\n",
    "preds_val_proba = np.zeros([val_data.shape[0], len(models_cl[0].classes_)])\n",
    "\n",
    "for model_cl in models_cl:\n",
    "    preds_val_proba += model_cl.predict_proba(val_data[selected_features])/len(models_cl)\n",
    "\n",
    "preds_val_cl = np.argmax(preds_val_proba, axis=1)\n",
    "\n",
    "print(classification_report(val_data['class_target'],preds_val_cl))"
   ]
  },
  {
   "cell_type": "code",
   "execution_count": null,
   "metadata": {
    "colab": {
     "base_uri": "https://localhost:8080/"
    },
    "id": "r8P9ySy9EpEC",
    "outputId": "e8d46dfe-aff5-420d-b84a-d9cb2919b491"
   },
   "outputs": [],
   "source": [
    "precision, recall, thresholds = precision_recall_curve(\n",
    "    val_data['class_target'], preds_val_proba[:, 1]\n",
    ")\n",
    "auc(recall, precision)"
   ]
  },
  {
   "cell_type": "markdown",
   "metadata": {
    "id": "CqqYa-tVzh6y"
   },
   "source": [
    "Получим итоговое предсказание, используя предсказание модели с MSE для высоких доходов и модели с метрикой MAE для низких зарплат."
   ]
  },
  {
   "cell_type": "code",
   "execution_count": null,
   "metadata": {
    "id": "Cgk7W9TyzwvB"
   },
   "outputs": [],
   "source": [
    "val_data['pred_proba'] = preds_val_proba[:, 1]\n",
    "val_data['pred_mse'] = y_val_pred\n",
    "val_data['pred_mae'] = y_val_pred_mae"
   ]
  },
  {
   "cell_type": "code",
   "execution_count": null,
   "metadata": {
    "colab": {
     "base_uri": "https://localhost:8080/"
    },
    "id": "hgi8Hmmb0G4i",
    "outputId": "cfe5b2c7-9f10-4c82-ac35-4b3134ae03e9"
   },
   "outputs": [],
   "source": [
    "val_data['preds'] = val_data['pred_mse']*val_data['pred_proba'] + val_data['pred_mae']*(1-val_data['pred_proba'])\n",
    "\n",
    "weighted_mean_absolute_error(val_data['target'], val_data['preds'], val_data['w'])"
   ]
  },
  {
   "cell_type": "markdown",
   "metadata": {
    "id": "f4d3n6wbv2K7"
   },
   "source": [
    "## Stacking"
   ]
  },
  {
   "cell_type": "markdown",
   "metadata": {
    "id": "FYzhAMGH4wqE"
   },
   "source": [
    "### Stacking - 2 базовые модели"
   ]
  },
  {
   "cell_type": "code",
   "execution_count": null,
   "metadata": {
    "id": "wpY6jFFr5kd7"
   },
   "outputs": [],
   "source": [
    "params_cat = {\n",
    "              'verbose': 1000,\n",
    "              'n_estimators': 8000,\n",
    "              'cat_features' : selected_features_cat,\n",
    "              'text_features' : selected_features_text,\n",
    "              'early_stopping_rounds': 200,\n",
    "              'task_type': 'GPU'\n",
    "         }"
   ]
  },
  {
   "cell_type": "code",
   "execution_count": null,
   "metadata": {
    "id": "kyhI-j_f51tf"
   },
   "outputs": [],
   "source": [
    "model_rmse = CatBoostRegressor(**params_cat)\n",
    "model_mae = CatBoostRegressor(**params_cat, learning_rate=4500, loss_function='MAE')"
   ]
  },
  {
   "cell_type": "code",
   "execution_count": null,
   "metadata": {
    "colab": {
     "base_uri": "https://localhost:8080/",
     "height": 163
    },
    "id": "ugnyrmYo6X2M",
    "outputId": "8456bd8c-7660-400a-81f5-8bdca890ad7f"
   },
   "outputs": [],
   "source": [
    "# список базовых моделей\n",
    "estimators = [\n",
    "    (\"CatBoost_rmse\", model_rmse),\n",
    "    (\"CatBoost_mae\", model_rmse)\n",
    "]\n",
    "\n",
    "# в качестве мета-модели будем использовать LGBM\n",
    "meta_model = StackingRegressor(\n",
    "    estimators=estimators,\n",
    "    final_estimator=LGBMRegressor(objective='regression_l1', n_estimators = 1000),\n",
    "    verbose=3,\n",
    ")\n",
    "\n",
    "stacking_reg_2 = meta_model\n",
    "stacking_reg_2"
   ]
  },
  {
   "cell_type": "code",
   "execution_count": null,
   "metadata": {
    "colab": {
     "base_uri": "https://localhost:8080/",
     "height": 1000
    },
    "id": "omVI68T56w7N",
    "outputId": "3121f78e-0b37-44d0-85b7-b5dae3b93f27"
   },
   "outputs": [],
   "source": [
    "stacking_reg_2.fit(tr_data[selected_features], tr_data['target'], sample_weight=tr_data['w'])"
   ]
  },
  {
   "cell_type": "code",
   "execution_count": null,
   "metadata": {
    "colab": {
     "base_uri": "https://localhost:8080/"
    },
    "id": "Hq1Zbp3k7Db8",
    "outputId": "93e313c1-55b3-4af1-98d1-54981f916e76"
   },
   "outputs": [],
   "source": [
    "y_pred_val_st_2 = stacking_reg_2.predict(val_data[selected_features])\n",
    "\n",
    "weighted_mean_absolute_error(val_data['target'], y_pred_val_st_2, val_data['w'])"
   ]
  },
  {
   "cell_type": "code",
   "execution_count": null,
   "metadata": {
    "colab": {
     "base_uri": "https://localhost:8080/"
    },
    "id": "fqCEf0Tg7DcM",
    "outputId": "7a391198-bd84-4286-db92-0d66e8e1a5ab"
   },
   "outputs": [],
   "source": [
    "for model, (name, _) in zip(stacking_reg_2.estimators_, stacking_reg_2.estimators):\n",
    "    print(name, 'wmae: ',\n",
    "          round(weighted_mean_absolute_error(\n",
    "              model.predict(val_data[selected_features]), val_data['target'], val_data['w']),\n",
    "              4))"
   ]
  },
  {
   "cell_type": "markdown",
   "metadata": {
    "id": "4-4cjRriPskE"
   },
   "source": [
    "С помощью стекинга мы улучшили предсказания базовых моделей, но качество стекинга уступает качеству предсказания по вероятностям классификатора, построенного ранее."
   ]
  },
  {
   "cell_type": "markdown",
   "metadata": {
    "id": "8wiN3UTx5nM_"
   },
   "source": [
    "### Stacking - 5 базовых моделей"
   ]
  },
  {
   "cell_type": "markdown",
   "metadata": {
    "id": "ijxSrkKw8DMB"
   },
   "source": [
    "Построим еще один вариант стекинга, где в качестве базовых моделей будем использовать 6 базовых моделей, в том числе XGBoost и LGBM.\n",
    "\n",
    "Предварительно преобразуем категориальные фичи в числовой формат, чтобы можно было подать на вход всем базовым моделям, с помощью CatBoostEncoder."
   ]
  },
  {
   "cell_type": "code",
   "execution_count": null,
   "metadata": {
    "id": "w2fwbw2B9M_z"
   },
   "outputs": [],
   "source": [
    "catboost_encoder = CatBoostEncoder(cols=selected_features_cat, return_df=True, sigma=0.05)\n",
    "catboost_encoder.fit(tr_data[selected_features], tr_data['target'])\n",
    "\n",
    "tr_data[selected_features] = catboost_encoder.transform(tr_data[selected_features])\n",
    "val_data[selected_features] = catboost_encoder.transform(val_data[selected_features])"
   ]
  },
  {
   "cell_type": "code",
   "execution_count": null,
   "metadata": {
    "id": "SSPkpz9-V6Qo"
   },
   "outputs": [],
   "source": [
    "params_xgb = {\n",
    "    \"eta\": 0.05,\n",
    "    \"max_depth\": 6,\n",
    "    \"subsample\": 0.7,\n",
    "    'min_child_weight' : 0.1,\n",
    "    'gamma': .01,\n",
    "    'reg_lambda' : 0.1,\n",
    "    'reg_alpha' : 0.5,\n",
    "    \"verbosity\": 2,\n",
    "    'tree_method' : 'gpu_hist'\n",
    "\n",
    "}"
   ]
  },
  {
   "cell_type": "code",
   "execution_count": null,
   "metadata": {
    "id": "Fl_flxyR-2yt"
   },
   "outputs": [],
   "source": [
    "params_cat = {\n",
    "              'verbose': 1000,\n",
    "              'n_estimators': 8000,\n",
    "              'early_stopping_rounds': 200,\n",
    "              'task_type': 'GPU'\n",
    "         }"
   ]
  },
  {
   "cell_type": "code",
   "execution_count": null,
   "metadata": {
    "id": "R8XYN8Ee-gxT"
   },
   "outputs": [],
   "source": [
    "model_rmse = CatBoostRegressor(**params_cat)\n",
    "model_lgbm_mse = LGBMRegressor(n_estimators=500)\n",
    "model_lgbm_mae = LGBMRegressor(objective='regression_l1', n_estimators = 1000)\n",
    "xgb_model_rmse = XGBRegressor(**params_xgb, n_estimators=1500)\n",
    "xgb_model_mae = XGBRegressor(**params_xgb, n_estimators=1000, objective='reg:absoluteerror')"
   ]
  },
  {
   "cell_type": "code",
   "execution_count": null,
   "metadata": {
    "colab": {
     "base_uri": "https://localhost:8080/",
     "height": 163
    },
    "id": "hb-9SLDOnXQn",
    "outputId": "a639ef72-b156-4497-962c-addcba5c4dd2"
   },
   "outputs": [],
   "source": [
    "# список базовых моделей\n",
    "estimators = [\n",
    "    (\"XGB_rmse\", xgb_model_rmse),\n",
    "    (\"XGB_mae\", xgb_model_mae),\n",
    "    (\"CatBoost_rmse\", model_rmse),\n",
    "    (\"LGBM_mse\", model_lgbm_mse),\n",
    "    (\"LGBM_mae\", model_lgbm_mae),\n",
    "]\n",
    "\n",
    "# в качестве мета-модели будем использовать XGBM\n",
    "meta_model = StackingRegressor(\n",
    "    estimators=estimators,\n",
    "    final_estimator=XGBRegressor(**params_xgb, n_estimators=1000, objective='reg:absoluteerror'),\n",
    "    passthrough=True, # добавим исходные признаки к метапризнакам\n",
    "    verbose=3,\n",
    ")\n",
    "\n",
    "stacking_reg_5 = meta_model\n",
    "stacking_reg_5\n"
   ]
  },
  {
   "cell_type": "code",
   "execution_count": null,
   "metadata": {
    "colab": {
     "base_uri": "https://localhost:8080/",
     "height": 1000
    },
    "id": "Gskb_KcOoA1k",
    "outputId": "ec12585e-35d7-45d2-b412-bc1e95c33e79"
   },
   "outputs": [],
   "source": [
    "stacking_reg_5.fit(tr_data[selected_features_num + selected_features_cat],\n",
    "                 tr_data['target'], sample_weight=train_df['w'])"
   ]
  },
  {
   "cell_type": "code",
   "execution_count": null,
   "metadata": {
    "colab": {
     "base_uri": "https://localhost:8080/"
    },
    "id": "vTHDHxDFrJ1R",
    "outputId": "768f1401-b261-4909-ac32-0187d7128f0d"
   },
   "outputs": [],
   "source": [
    "y_pred_val_st_6 = stacking_reg_5.predict(val_data[selected_features])\n",
    "\n",
    "weighted_mean_absolute_error(val_data['target'], y_pred_val_st_5, val_data['w'])"
   ]
  },
  {
   "cell_type": "code",
   "execution_count": null,
   "metadata": {
    "colab": {
     "base_uri": "https://localhost:8080/"
    },
    "id": "jcdEpxlmIFVv",
    "outputId": "f94eedeb-011d-45c1-aaa9-47e86ba83159"
   },
   "outputs": [],
   "source": [
    "for model, (name, _) in zip(stacking_reg_6.estimators_, stacking_reg_6.estimators):\n",
    "    print(name, 'wmae: ',\n",
    "          round(weighted_mean_absolute_error(\n",
    "              model.predict(val_data[selected_features], val_data['target'], val_data['w']),\n",
    "              4)))"
   ]
  },
  {
   "cell_type": "markdown",
   "metadata": {
    "id": "vFF6cNE7P7fH"
   },
   "source": [
    "Такой стекинг значительно улучшает качество отдельных базовых моделей, и качество предсказания примерно совпадает с качеством предсказния по классификатору."
   ]
  },
  {
   "cell_type": "markdown",
   "metadata": {
    "id": "uKJZtGvy_UJj"
   },
   "source": [
    "## NeuralNetwork"
   ]
  },
  {
   "cell_type": "markdown",
   "metadata": {
    "id": "N1hoEM3s_ant"
   },
   "source": [
    "Построим нейросеть для решения нашей задачи с помощью фреймворка TensorFlow. Добавим Embedding слои для категориальных и текстовых признаков.\n",
    "\n",
    "Перед построением нейросети предобработаем данные: переведем в числовой формат категориальные признаки, токенизируем текстовые признаки, а также нормализуем числовые признаки."
   ]
  },
  {
   "cell_type": "code",
   "execution_count": null,
   "metadata": {
    "id": "neair7-eAt5b"
   },
   "outputs": [],
   "source": [
    "# скопируем тренировочный датасет для выполнения преобразований с ним\n",
    "train_nn = train_df.copy()\n",
    "test_nn = test_df.copy()\n",
    "\n",
    "# переведем признак года в числовой (0 - 2023 год, 1 - 2022 год)\n",
    "train_nn['year'] = 2023 - train_nn['year'].astype(int)\n",
    "test_nn['year'] = 2023 - test_nn['year'].astype(int)\n",
    "selected_features_num += ['year']"
   ]
  },
  {
   "cell_type": "code",
   "execution_count": null,
   "metadata": {
    "id": "M0OVsoPKCaZ7"
   },
   "outputs": [],
   "source": [
    "for feat in selected_features_num:  # Для каждого числового признака\n",
    "    upper_bound = np.percentile(train_nn[feat].dropna(), 99)  # Верхняя граница\n",
    "    lower_bound = np.percentile(train_nn[feat].dropna(), 1)  # Нижняя граница\n",
    "\n",
    "    # Заменяем значения, выходящие за границы 99 персентиля\n",
    "    train_nn.loc[train_nn[feat] > upper_bound, feat] = upper_bound\n",
    "    train_nn.loc[train_nn[feat] < lower_bound, feat] = lower_bound\n",
    "    test_nn.loc[test_nn[feat] > upper_bound, feat] = upper_bound\n",
    "    test_nn.loc[test_nn[feat] < lower_bound, feat] = lower_bound\n",
    "\n",
    "# заполним пропуски по части признаков 1, по остальным нулем\n",
    "train_nn.fillna(\n",
    "    {'accum_rur_amt_cm_avg_div_v2': 1,\n",
    "     'cc_other_rate_max_2avg_prop': 1,\n",
    "     'total_rur_amt_cm_avg_div_v2': 1},\n",
    "    inplace=True\n",
    "    )\n",
    "train_nn.fillna(0, inplace=True)\n",
    "\n",
    "test_nn.fillna(\n",
    "    {'accum_rur_amt_cm_avg_div_v2': 1,\n",
    "     'cc_other_rate_max_2avg_prop': 1,\n",
    "     'total_rur_amt_cm_avg_div_v2': 1},\n",
    "    inplace=True\n",
    "    )\n",
    "test_nn.fillna(0, inplace=True)"
   ]
  },
  {
   "cell_type": "code",
   "execution_count": null,
   "metadata": {
    "id": "snyRVU7ZAyG2"
   },
   "outputs": [],
   "source": [
    "# категориальные признаки закодируем с помощью LabelEncoder\n",
    "for feat in selected_features_cat:\n",
    "    le = LabelEncoder()\n",
    "    le.fit(pd.concat([train_nn[feat], test_nn[feat]]))\n",
    "    test_nn[feat] = le.transform(test_nn[feat])\n",
    "    train_nn[feat] = le.transform(train_nn[feat])"
   ]
  },
  {
   "cell_type": "code",
   "execution_count": null,
   "metadata": {
    "colab": {
     "base_uri": "https://localhost:8080/"
    },
    "id": "UOhID7OOrZ7n",
    "outputId": "27e12f13-678a-426a-d577-2e97b3c0e93d"
   },
   "outputs": [],
   "source": [
    "# выделим валидационную выборку последний месяц отдельно по типам фичей\n",
    "X_train = train_nn[train_nn['feature_date'] <= '30/08/2023'][selected_features_num]\n",
    "X_val = train_nn[train_nn['feature_date'] > '30/08/2023'][selected_features_num]\n",
    "X_train_cat = train_nn[train_nn['feature_date'] <= '30/08/2023'][selected_features_cat]\n",
    "X_val_cat = train_nn[train_nn['feature_date'] > '30/08/2023'][selected_features_cat]\n",
    "X_train_text = train_nn[train_nn['feature_date'] <= '30/08/2023'][selected_features_text]\n",
    "X_val_text = train_nn[train_nn['feature_date'] > '30/08/2023'][selected_features_text]\n",
    "y_train = train_nn[train_nn['feature_date'] <= '30/08/2023']['target']\n",
    "y_val = train_nn[train_nn['feature_date'] > '30/08/2023']['target']\n",
    "w_train = train_nn[train_nn['feature_date'] <= '30/08/2023']['w']\n",
    "w_val = train_nn[train_nn['feature_date'] > '30/08/2023']['w']\n",
    "X_train.shape, X_val.shape"
   ]
  },
  {
   "cell_type": "code",
   "execution_count": null,
   "metadata": {
    "colab": {
     "base_uri": "https://localhost:8080/"
    },
    "id": "DKj6I4ZNGtPj",
    "outputId": "7f793612-4db4-4483-b417-e0387a8727c5"
   },
   "outputs": [],
   "source": [
    "# числовые фичи приведем к типу float\n",
    "X_train = X_train.astype(float)\n",
    "X_val = X_val.astype(float)\n",
    "X_train.shape, X_val.shape"
   ]
  },
  {
   "cell_type": "code",
   "execution_count": null,
   "metadata": {
    "id": "FjkBX__NEw9_"
   },
   "outputs": [],
   "source": [
    "# нормируем числовые признаки\n",
    "scaler = MinMaxScaler()\n",
    "X_train[selected_features_num] = scaler.fit_transform(X_train[selected_features_num])\n",
    "X_val[selected_features_num] = scaler.transform(X_val[selected_features_num])"
   ]
  },
  {
   "cell_type": "code",
   "execution_count": null,
   "metadata": {
    "id": "LcLlPK7TFKnf"
   },
   "outputs": [],
   "source": [
    "# оставим среди категориальных фичей только признаки без большого количества уникальных значениц\n",
    "selected_features_cat = ['addrref',\n",
    "  'oldest_campaignsegment_ccode_for_nss',\n",
    "  'oldest_campaignsegment_ccode_for_pil',\n",
    "  'segment',\n",
    "  'quater']"
   ]
  },
  {
   "cell_type": "code",
   "execution_count": null,
   "metadata": {
    "id": "KGCVPHmmFEqz"
   },
   "outputs": [],
   "source": [
    "# размерность ембеддингов для кат.признаков\n",
    "embedding_projection = {'addrref': (60, 16),\n",
    "                        'oldest_campaignsegment_ccode_for_nss': (58, 16),\n",
    "                        'oldest_campaignsegment_ccode_for_pil': (14, 7),\n",
    "                        'segment': (4, 3),\n",
    "                        'quater': (5, 4)\n",
    "}"
   ]
  },
  {
   "cell_type": "code",
   "execution_count": null,
   "metadata": {
    "id": "IgNmdUNXHO22"
   },
   "outputs": [],
   "source": [
    "# список значений категориальных фичей для обучения нейросети\n",
    "list_train_cat = [X_train_cat[feat].values for feat in selected_features_cat]\n",
    "list_val_cat = [X_val_cat[feat].values for feat in selected_features_cat]"
   ]
  },
  {
   "cell_type": "code",
   "execution_count": null,
   "metadata": {
    "colab": {
     "base_uri": "https://localhost:8080/"
    },
    "id": "qvHctwVTUaW6",
    "outputId": "105720ec-b4d8-4eb4-eb5c-22b93b1aa2f3"
   },
   "outputs": [],
   "source": [
    "# Токенизация данных для признака 'main_last_position_ccode_text'\n",
    "X_train_text = X_train_text['main_last_position_ccode_corr_text']\n",
    "X_val_text = X_val_text['main_last_position_ccode_corr_text']\n",
    "tokenizer = Tokenizer()\n",
    "tokenizer.fit_on_texts(pd.concat([X_train_text, X_val_text, test_df['main_last_position_ccode_corr_text']]))\n",
    "X_train_seq = tokenizer.texts_to_sequences(X_train_text)\n",
    "X_val_seq = tokenizer.texts_to_sequences(X_val_text)\n",
    "n_codes = len(tokenizer.word_index)\n",
    "print('Количество уникальных слов:', n_codes)"
   ]
  },
  {
   "cell_type": "code",
   "execution_count": null,
   "metadata": {
    "colab": {
     "base_uri": "https://localhost:8080/"
    },
    "id": "--hpuXi8WT0P",
    "outputId": "c4d801d9-58a2-4a3a-e9c0-c7b02ebd5654"
   },
   "outputs": [],
   "source": [
    "# обрежем 'main_last_position_ccode_text' до 10 слов, и дозаполним нулями\n",
    "X_train_pad = pad_sequences(X_train_seq, maxlen=10)\n",
    "X_val_pad = pad_sequences(X_val_seq, maxlen=10)\n",
    "X_train_pad.shape, X_val_pad.shape"
   ]
  },
  {
   "cell_type": "code",
   "execution_count": null,
   "metadata": {
    "colab": {
     "base_uri": "https://localhost:8080/"
    },
    "id": "9B2kfShKVLOj",
    "outputId": "e73c49d1-e836-4ab6-a46a-3edafd07ddfc"
   },
   "outputs": [],
   "source": [
    "# построим модель\n",
    "\n",
    "inputs = []\n",
    "cat_embeds = []\n",
    "embeds_reshape = []\n",
    "\n",
    "# для каждой кат фичи\n",
    "for cat_feat in selected_features_cat:\n",
    "    num_categories = embedding_projection[cat_feat][0]  # количество категорий в признаке\n",
    "    embedding_size = embedding_projection[cat_feat][1]  # размерность эмбеддингов\n",
    "    input = Input(shape=(1,))  # входной слой\n",
    "    embedding = Embedding(num_categories+1, embedding_size, trainable=True)(input) # ембеддинг слой\n",
    "    emb_reshape = Reshape((embedding_size, ))(embedding)\n",
    "    inputs.append(input)\n",
    "    cat_embeds.append(input)\n",
    "    embeds_reshape.append(emb_reshape)\n",
    "\n",
    "# text feature\n",
    "inp = Input(shape=(None, ))  # входной слой\n",
    "inputs.append(inp)\n",
    "emb = Embedding(n_codes+1, 64, trainable=True, mask_zero=True)(inp) # ембеддиг слой\n",
    "dropout_embeds = SpatialDropout1D(0.5)(emb)\n",
    "sequences = LSTM(10, return_sequences=True)(dropout_embeds)\n",
    "last_state = LSTM(10)(sequences)\n",
    "\n",
    "# входной слой для числовых фичей\n",
    "numeric_input = Input(shape=(len(selected_features_num),))\n",
    "\n",
    "# конкатенируем эмбеддинги с другими признаками\n",
    "concatenated = Concatenate()([*embeds_reshape, numeric_input, last_state])\n",
    "\n",
    "# Добавляем скрытые слои и выходной слой\n",
    "dense1 = Dense(512, activation='relu')(concatenated)\n",
    "dense2 = Dense(256, activation='relu')(dense1)\n",
    "dense3 = Dense(128, activation='relu')(dense2)\n",
    "dense4 = Dense(64, activation='relu')(dense3)\n",
    "dense5 = Dense(32, activation='relu')(dense4)\n",
    "dense6 = Dense(16, activation='relu')(dense5)\n",
    "output = Dense(1)(dense6)\n",
    "\n",
    "# Создаем модель\n",
    "model = Model(inputs=[*inputs, numeric_input], outputs=output)\n",
    "\n",
    "# Компиляция модели с функцией потерь MAE и параметром sample_weight\n",
    "model.compile(optimizer='adam', loss='mae', weighted_metrics=['mae'])\n",
    "\n",
    "# Обучение модели с параметром sample_weight\n",
    "history = model.fit(\n",
    "    [*list_train_cat, X_train_pad, X_train], y_train,\n",
    "    epochs=1, batch_size=128,\n",
    "    validation_data=([*list_val_cat, X_val_pad, X_val], y_val, w_val),\n",
    "    sample_weight=w_train\n",
    "    )"
   ]
  },
  {
   "cell_type": "code",
   "execution_count": null,
   "metadata": {
    "id": "gkeJzHy6NIsD"
   },
   "outputs": [],
   "source": [
    "# указываем путь для сохранения лучшей модели\n",
    "model_save_path = './drive/MyDrive/SF_DS/data_income/model_nn_best.h5'\n",
    "checkpoint_callback = ModelCheckpoint(model_save_path,\n",
    "                                      monitor='val_loss',\n",
    "                                      save_best_only=True,\n",
    "                                      verbose=1)"
   ]
  },
  {
   "cell_type": "code",
   "execution_count": null,
   "metadata": {
    "colab": {
     "base_uri": "https://localhost:8080/"
    },
    "id": "aduJ3VDMNezr",
    "outputId": "cd0709b2-e568-46c2-9572-9248143e0cf5"
   },
   "outputs": [],
   "source": [
    "history = model.fit(\n",
    "    [*list_train_cat, X_train_pad, X_train], y_train,\n",
    "    epochs=10, batch_size=128,\n",
    "    validation_data=([*list_val_cat, X_val_pad, X_val], y_val, w_val),\n",
    "    sample_weight=w_train,\n",
    "    callbacks=[checkpoint_callback]\n",
    "    )"
   ]
  },
  {
   "cell_type": "code",
   "execution_count": null,
   "metadata": {
    "id": "R2bRCqIaioX_"
   },
   "outputs": [],
   "source": [
    "# Загружаем обученную модель\n",
    "model = load_model('./drive/MyDrive/SF_DS/data_income/model_nn_best.h5')"
   ]
  },
  {
   "cell_type": "code",
   "execution_count": null,
   "metadata": {
    "colab": {
     "base_uri": "https://localhost:8080/"
    },
    "id": "u7XlXGXIifRe",
    "outputId": "69add306-ab02-4efb-d636-6d176bdec7e9"
   },
   "outputs": [],
   "source": [
    "y_val_pred_nn = model.predict([*list_val_cat, X_val_pad, X_val])[:,0]\n",
    "\n",
    "weighted_mean_absolute_error(y_val, y_val_pred_nn, w_val)"
   ]
  },
  {
   "cell_type": "markdown",
   "metadata": {
    "id": "TX7Sxx31NsC2"
   },
   "source": [
    "## Сравнение моделей"
   ]
  },
  {
   "cell_type": "markdown",
   "metadata": {
    "id": "K6DbjZVvQV0f"
   },
   "source": [
    "Проведем сравнение качества моделей по метрике WMAE на валидационной выборке.\n",
    "\n",
    "Catboost RMSE: 29935.85\n",
    "\n",
    "Catboost RMSE после логарифмирования таргета: 29693.23\n",
    "\n",
    "Catboost MAE: 29086.53\n",
    "\n",
    "Catboost RMSE с оптимизированными гиперпараметрами: 29334.95\n",
    "\n",
    "Классификатор + Catboost MAE и RMSE: 28680.34\n",
    "\n",
    "Stacking 2 базовые модели: 29464.99\n",
    "\n",
    "Stacking 5 базовых моделей: 28900.21\n",
    "\n",
    "NeuralNetwork: 29839.46\n",
    "\n",
    "Лучше всего себя показал Классификатор + Catboost MAE и RMSE и Stacking 5 базовых моделей, их и будем использовать для финального предсказания на тестовой выборке."
   ]
  },
  {
   "cell_type": "markdown",
   "metadata": {
    "id": "Ljgl44B3SG7O"
   },
   "source": [
    "## KFold валидация"
   ]
  },
  {
   "cell_type": "markdown",
   "metadata": {
    "id": "bW45bfLiSG7b"
   },
   "source": [
    "Для получения предсказаний для тестовой выборки будем использовать KFold валидацию на всем тренировочном датасете."
   ]
  },
  {
   "cell_type": "code",
   "execution_count": null,
   "metadata": {
    "colab": {
     "base_uri": "https://localhost:8080/"
    },
    "execution": {
     "iopub.execute_input": "2024-02-15T08:18:19.993208Z",
     "iopub.status.busy": "2024-02-15T08:18:19.992384Z",
     "iopub.status.idle": "2024-02-15T08:38:16.339203Z",
     "shell.execute_reply": "2024-02-15T08:38:16.338087Z",
     "shell.execute_reply.started": "2024-02-15T08:18:19.993173Z"
    },
    "id": "gLI01XT4SG7b",
    "outputId": "e8a84f67-12e4-4ef3-f51e-fb5080d0a9c2"
   },
   "outputs": [],
   "source": [
    "# KFold для модели с метрикой RMSE\n",
    "\n",
    "kf = KFold(n_splits=5, shuffle=True, random_state=12)\n",
    "models = []\n",
    "metrics_kf = []\n",
    "metrics_train = []\n",
    "\n",
    "for j, (train_index, test_index) in enumerate(kf.split(\n",
    "    train_df[selected_features]\n",
    "    )):\n",
    "    model = CatBoostRegressor(\n",
    "        loss_function='RMSE',\n",
    "        **best_params,\n",
    "        iterations = 20000,\n",
    "        random_state = 42,\n",
    "        verbose=1000,\n",
    "        early_stopping_rounds=200,\n",
    "        cat_features=selected_features_cat,\n",
    "        text_features=selected_features_text,\n",
    "        task_type='GPU',\n",
    "        eval_metric='MAE',\n",
    "        border_count=254\n",
    "    )\n",
    "\n",
    "    train_data = Pool(\n",
    "        train_df[selected_features].iloc[train_index],\n",
    "        train_df['target'].iloc[train_index],\n",
    "        cat_features=selected_features_cat,\n",
    "        text_features = selected_features_text,\n",
    "        weight = train_df['w'].iloc[train_index]\n",
    "    )\n",
    "\n",
    "    eval_data = Pool(\n",
    "        train_df[selected_features].iloc[test_index],\n",
    "        train_df['target'].iloc[test_index],\n",
    "        cat_features=selected_features_cat,\n",
    "        text_features = selected_features_text,\n",
    "        weight = train_df['w'].iloc[test_index]\n",
    "    )\n",
    "\n",
    "    model.fit(train_data, eval_set=eval_data)\n",
    "\n",
    "    preds_test = model.predict(train_df[selected_features].iloc[test_index])\n",
    "    preds_train = model.predict(train_df[selected_features].iloc[train_index])\n",
    "\n",
    "    metric_train = weighted_mean_absolute_error(\n",
    "        train_df['target'].iloc[train_index], preds_train, train_df['w'].iloc[train_index]\n",
    "    )\n",
    "    metric = weighted_mean_absolute_error(\n",
    "        train_df['target'].iloc[test_index], preds_test, train_df['w'].iloc[test_index]\n",
    "    )\n",
    "\n",
    "    metrics_train.append(metric_train)\n",
    "    metrics_kf.append(metric)\n",
    "    models.append(model)\n",
    "\n",
    "metrics_kf, metrics_train\n"
   ]
  },
  {
   "cell_type": "code",
   "execution_count": null,
   "metadata": {
    "colab": {
     "base_uri": "https://localhost:8080/"
    },
    "execution": {
     "iopub.execute_input": "2024-02-15T08:40:06.987082Z",
     "iopub.status.busy": "2024-02-15T08:40:06.986233Z",
     "iopub.status.idle": "2024-02-15T08:40:06.993103Z",
     "shell.execute_reply": "2024-02-15T08:40:06.99209Z",
     "shell.execute_reply.started": "2024-02-15T08:40:06.987036Z"
    },
    "id": "1mvZaOWfSG7b",
    "outputId": "00fe9bb8-5782-4f37-aa8a-c804dc23042d"
   },
   "outputs": [],
   "source": [
    "np.mean(metrics_kf)"
   ]
  },
  {
   "cell_type": "code",
   "execution_count": null,
   "metadata": {
    "colab": {
     "base_uri": "https://localhost:8080/"
    },
    "id": "oqWxOLH5SG7c",
    "outputId": "fca8e191-b965-4a63-ce4a-c61af4801435"
   },
   "outputs": [],
   "source": [
    "# KFold для модели с метрикой MAE\n",
    "\n",
    "kf = KFold(n_splits=5, shuffle=True, random_state=12)\n",
    "models_mae = []\n",
    "metrics_kf = []\n",
    "metrics_train = []\n",
    "\n",
    "for j, (train_index, test_index) in enumerate(kf.split(\n",
    "    train_df[selected_features]\n",
    "    )):\n",
    "    model = CatBoostRegressor(\n",
    "        loss_function='MAE',\n",
    "        iterations = 20000,\n",
    "        learning_rate = 4500,\n",
    "        random_state = 42,\n",
    "        verbose=1000,\n",
    "        early_stopping_rounds=200,\n",
    "        cat_features=selected_features_cat,\n",
    "        text_features=selected_features_text,\n",
    "        task_type='GPU',\n",
    "        eval_metric='MAE',\n",
    "        border_count=254\n",
    "    )\n",
    "\n",
    "    train_data = Pool(\n",
    "        train_df[selected_features].iloc[train_index],\n",
    "        train_df['target'].iloc[train_index],\n",
    "        cat_features=selected_features_cat,\n",
    "        text_features = selected_features_text,\n",
    "        weight = train_df['w'].iloc[train_index]\n",
    "    )\n",
    "\n",
    "    eval_data = Pool(\n",
    "        train_df[selected_features].iloc[test_index],\n",
    "        train_df['target'].iloc[test_index],\n",
    "        cat_features=selected_features_cat,\n",
    "        text_features = selected_features_text,\n",
    "        weight = train_df['w'].iloc[test_index]\n",
    "    )\n",
    "\n",
    "    model.fit(train_data, eval_set=eval_data)\n",
    "\n",
    "    preds_test = model.predict(train_df[selected_features].iloc[test_index])\n",
    "    preds_train = model.predict(train_df[selected_features].iloc[train_index])\n",
    "\n",
    "    metric_train = weighted_mean_absolute_error(\n",
    "        train_df['target'].iloc[train_index], preds_train, train_df['w'].iloc[train_index]\n",
    "    )\n",
    "    metric = weighted_mean_absolute_error(\n",
    "        train_df['target'].iloc[test_index], preds_test, train_df['w'].iloc[test_index]\n",
    "    )\n",
    "\n",
    "    metrics_train.append(metric_train)\n",
    "    metrics_kf.append(metric)\n",
    "    models_mae.append(model)\n",
    "\n",
    "metrics_kf, metrics_train\n"
   ]
  },
  {
   "cell_type": "code",
   "execution_count": null,
   "metadata": {
    "colab": {
     "base_uri": "https://localhost:8080/"
    },
    "id": "GaHm_V1ESG7c",
    "outputId": "d99ebe5b-ad20-4349-9adb-ebffd235c8f2"
   },
   "outputs": [],
   "source": [
    "np.mean(metrics_kf)"
   ]
  },
  {
   "cell_type": "markdown",
   "metadata": {
    "id": "FRXxkhZ-VLGT"
   },
   "source": [
    "## Предсказание для test"
   ]
  },
  {
   "cell_type": "markdown",
   "metadata": {
    "id": "PSM9mWUWSl__"
   },
   "source": [
    "Построим предсказание для тестовой выборки, усреднив предсказания лучших моделей, которые мы построили:\n",
    "\n",
    "- предсказание по вероятностям классификатора\n",
    "- предсказание стекинга"
   ]
  },
  {
   "cell_type": "code",
   "execution_count": null,
   "metadata": {
    "id": "u8PH56_qV-hf"
   },
   "outputs": [],
   "source": [
    "# предсказание класса для теста\n",
    "preds_test_proba = np.zeros([test_df.shape[0], len(models_cl[0].classes_)])\n",
    "\n",
    "for model_cl in models_cl:\n",
    "    preds_test_proba += model_cl.predict_proba(test_df[selected_features])/len(models_cl)"
   ]
  },
  {
   "cell_type": "code",
   "execution_count": null,
   "metadata": {
    "execution": {
     "iopub.execute_input": "2024-02-15T08:40:30.123672Z",
     "iopub.status.busy": "2024-02-15T08:40:30.122892Z",
     "iopub.status.idle": "2024-02-15T08:40:35.981876Z",
     "shell.execute_reply": "2024-02-15T08:40:35.980848Z",
     "shell.execute_reply.started": "2024-02-15T08:40:30.123641Z"
    },
    "id": "ShXVrVplmn_i"
   },
   "outputs": [],
   "source": [
    "# предсказание на кросс-валидации модели MSE\n",
    "preds_test_mse = np.zeros(test_df.shape[0])\n",
    "\n",
    "for model in models:\n",
    "    preds_test_mse += model.predict(test_df[selected_features])/len(models)"
   ]
  },
  {
   "cell_type": "code",
   "execution_count": null,
   "metadata": {
    "id": "B8X0INiAWvU1"
   },
   "outputs": [],
   "source": [
    "# предсказание на кросс-валидации модели MAE\n",
    "preds_test_mae = np.zeros(test_df.shape[0])\n",
    "\n",
    "for model_cv in models_mae:\n",
    "    preds_test_mae += np.exp(model_cv.predict(test_df[selected_features]))/len(models)"
   ]
  },
  {
   "cell_type": "code",
   "execution_count": null,
   "metadata": {
    "id": "WW-mZ7qcTgTO"
   },
   "outputs": [],
   "source": [
    "# предсказание стекинга\n",
    "pred_test_st = stacking_reg_5.predict(test_df[selected_features])"
   ]
  },
  {
   "cell_type": "code",
   "execution_count": null,
   "metadata": {
    "id": "9pSbycjPXPus"
   },
   "outputs": [],
   "source": [
    "test_df['pred_proba'] = preds_test_proba[:,1]\n",
    "test_df['pred_mse'] = preds_test_mse\n",
    "test_df['pred_log'] = preds_test_mae\n",
    "test_df['pred_cl'] = test_df['pred_mse']*test_df['pred_proba'] + \\\n",
    "test_df['pred_mae']*(1-test_df['pred_proba'])\n",
    "test_df['pred_st'] = pred_test_st\n",
    "test_df['predict'] = test_df['pred_cl']*0.5 + test_df['pred_st']*0.5"
   ]
  },
  {
   "cell_type": "code",
   "execution_count": null,
   "metadata": {
    "id": "ztpNwHiJkmx2"
   },
   "outputs": [],
   "source": [
    "test_df[['client_id','predict']].set_index('client_id').to_csv(\"submit.csv\", sep=\",\", decimal=\".\")"
   ]
  },
  {
   "cell_type": "markdown",
   "metadata": {
    "id": "Sk8bQKVBX9e1"
   },
   "source": [
    "В итоговое решение, которое было загружено на Kaggle, вошли предсказания описанных выше моделей, а также были добавлены еще предсказания моделей других участников команды с учетом описанного вероятностного подхода.\n",
    "\n",
    "С этим решением команда заняла второе место со следующими результатами:\n",
    "- Private 27868\n",
    "- Public 27370"
   ]
  }
 ],
 "metadata": {
  "accelerator": "GPU",
  "colab": {
   "gpuType": "T4",
   "include_colab_link": true,
   "provenance": [],
   "toc_visible": true
  },
  "kaggle": {
   "accelerator": "nvidiaTeslaT4",
   "dataSources": [
    {
     "databundleVersionId": 7648410,
     "sourceId": 68888,
     "sourceType": "competition"
    }
   ],
   "dockerImageVersionId": 30648,
   "isGpuEnabled": true,
   "isInternetEnabled": true,
   "language": "python",
   "sourceType": "notebook"
  },
  "kernelspec": {
   "display_name": "Python 3 (ipykernel)",
   "language": "python",
   "name": "python3"
  },
  "language_info": {
   "codemirror_mode": {
    "name": "ipython",
    "version": 3
   },
   "file_extension": ".py",
   "mimetype": "text/x-python",
   "name": "python",
   "nbconvert_exporter": "python",
   "pygments_lexer": "ipython3",
   "version": "3.10.9"
  }
 },
 "nbformat": 4,
 "nbformat_minor": 1
}
