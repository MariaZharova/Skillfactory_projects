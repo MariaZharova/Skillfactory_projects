{
 "cells": [
  {
   "cell_type": "code",
   "execution_count": 25,
   "id": "32274035",
   "metadata": {},
   "outputs": [],
   "source": [
    "def bubble_sort(list_nums):\n",
    "    swap_bool = True\n",
    "    while swap_bool:\n",
    "        swap_bool = False\n",
    "        for i in range(len(list_nums) - 1):\n",
    "            print(list_nums)\n",
    "            if list_nums[i] > list_nums[i + 1]:\n",
    "                list_nums[i], list_nums[i + 1] = list_nums[i + 1], list_nums[i]\n",
    "                swap_bool = True"
   ]
  },
  {
   "cell_type": "code",
   "execution_count": 26,
   "id": "307ce913",
   "metadata": {},
   "outputs": [
    {
     "name": "stdout",
     "output_type": "stream",
     "text": [
      "[54, 43, 3, 11, 0]\n",
      "[43, 54, 3, 11, 0]\n",
      "[43, 3, 54, 11, 0]\n",
      "[43, 3, 11, 54, 0]\n",
      "[43, 3, 11, 0, 54]\n",
      "[3, 43, 11, 0, 54]\n",
      "[3, 11, 43, 0, 54]\n",
      "[3, 11, 0, 43, 54]\n",
      "[3, 11, 0, 43, 54]\n",
      "[3, 11, 0, 43, 54]\n",
      "[3, 0, 11, 43, 54]\n",
      "[3, 0, 11, 43, 54]\n",
      "[3, 0, 11, 43, 54]\n",
      "[0, 3, 11, 43, 54]\n",
      "[0, 3, 11, 43, 54]\n",
      "[0, 3, 11, 43, 54]\n",
      "[0, 3, 11, 43, 54]\n",
      "[0, 3, 11, 43, 54]\n",
      "[0, 3, 11, 43, 54]\n",
      "[0, 3, 11, 43, 54]\n"
     ]
    }
   ],
   "source": [
    "test = [54, 43, 3, 11, 0]\n",
    "bubble_sort(test)"
   ]
  },
  {
   "cell_type": "code",
   "execution_count": 28,
   "id": "36785184",
   "metadata": {},
   "outputs": [],
   "source": [
    "def shaker_sort(list_nums):\n",
    "    left = 0\n",
    "    right = len(list_nums) - 1\n",
    "    while left <= right:\n",
    "        for i in range(left, right, +1):\n",
    "            print(list_nums)\n",
    "            if list_nums[i] > list_nums[i + 1]:\n",
    "                list_nums[i], list_nums[i + 1] = list_nums[i + 1], list_nums[i]\n",
    "        right -= 1\n",
    "        for i in range(right, left, -1):\n",
    "            if list_nums[i - 1] > list_nums[i]:\n",
    "                list_nums[i], list_nums[i - 1] = list_nums[i - 1], list_nums[i]\n",
    "        left += 1"
   ]
  },
  {
   "cell_type": "code",
   "execution_count": 29,
   "id": "ddebdb1c",
   "metadata": {},
   "outputs": [
    {
     "name": "stdout",
     "output_type": "stream",
     "text": [
      "[54, 43, 3, 11, 0]\n",
      "[43, 54, 3, 11, 0]\n",
      "[43, 3, 54, 11, 0]\n",
      "[43, 3, 11, 54, 0]\n",
      "[0, 43, 3, 11, 54]\n",
      "[0, 3, 43, 11, 54]\n"
     ]
    }
   ],
   "source": [
    "test = [54, 43, 3, 11, 0]\n",
    "shaker_sort(test)"
   ]
  },
  {
   "cell_type": "code",
   "execution_count": 31,
   "id": "3b005bf4",
   "metadata": {},
   "outputs": [],
   "source": [
    "def insertion_sort(list_nums):\n",
    "    for i in range(len(list_nums)):\n",
    "        print(list_nums)\n",
    "        cursor = list_nums[i]\n",
    "        pos = i\n",
    "        while pos > 0 and list_nums[pos - 1] > cursor:\n",
    "            list_nums[pos] = list_nums[pos - 1]\n",
    "            pos = pos - 1\n",
    "        list_nums[pos] = cursor\n",
    "    return list_nums"
   ]
  },
  {
   "cell_type": "code",
   "execution_count": 32,
   "id": "82905250",
   "metadata": {},
   "outputs": [
    {
     "name": "stdout",
     "output_type": "stream",
     "text": [
      "[54, 43, 3, 11, 0]\n",
      "[54, 43, 3, 11, 0]\n",
      "[43, 54, 3, 11, 0]\n",
      "[3, 43, 54, 11, 0]\n",
      "[3, 11, 43, 54, 0]\n"
     ]
    },
    {
     "data": {
      "text/plain": [
       "[0, 3, 11, 43, 54]"
      ]
     },
     "execution_count": 32,
     "metadata": {},
     "output_type": "execute_result"
    }
   ],
   "source": [
    "test = [54, 43, 3, 11, 0]\n",
    "insertion_sort(test)"
   ]
  },
  {
   "cell_type": "code",
   "execution_count": 33,
   "id": "2880b230",
   "metadata": {},
   "outputs": [],
   "source": [
    "def stupid_sort(list_nums):\n",
    "    i, size = 1, len(list_nums)\n",
    "    while i < size:\n",
    "        print(list_nums)\n",
    "        if list_nums[i - 1] > list_nums[i]:\n",
    "            list_nums[i - 1], list_nums[i] = list_nums[i], list_nums[i - 1]\n",
    "            i = 1\n",
    "        else:\n",
    "            i += 1\n",
    "    return list_nums"
   ]
  },
  {
   "cell_type": "code",
   "execution_count": 34,
   "id": "90d5661d",
   "metadata": {},
   "outputs": [
    {
     "name": "stdout",
     "output_type": "stream",
     "text": [
      "[54, 43, 3, 11, 0]\n",
      "[43, 54, 3, 11, 0]\n",
      "[43, 54, 3, 11, 0]\n",
      "[43, 3, 54, 11, 0]\n",
      "[3, 43, 54, 11, 0]\n",
      "[3, 43, 54, 11, 0]\n",
      "[3, 43, 54, 11, 0]\n",
      "[3, 43, 11, 54, 0]\n",
      "[3, 43, 11, 54, 0]\n",
      "[3, 11, 43, 54, 0]\n",
      "[3, 11, 43, 54, 0]\n",
      "[3, 11, 43, 54, 0]\n",
      "[3, 11, 43, 54, 0]\n",
      "[3, 11, 43, 0, 54]\n",
      "[3, 11, 43, 0, 54]\n",
      "[3, 11, 43, 0, 54]\n",
      "[3, 11, 0, 43, 54]\n",
      "[3, 11, 0, 43, 54]\n",
      "[3, 0, 11, 43, 54]\n",
      "[0, 3, 11, 43, 54]\n",
      "[0, 3, 11, 43, 54]\n",
      "[0, 3, 11, 43, 54]\n",
      "[0, 3, 11, 43, 54]\n"
     ]
    },
    {
     "data": {
      "text/plain": [
       "[0, 3, 11, 43, 54]"
      ]
     },
     "execution_count": 34,
     "metadata": {},
     "output_type": "execute_result"
    }
   ],
   "source": [
    "test = [54, 43, 3, 11, 0]\n",
    "stupid_sort(test)"
   ]
  },
  {
   "cell_type": "code",
   "execution_count": 35,
   "id": "2d2ac042",
   "metadata": {},
   "outputs": [],
   "source": [
    "def gnome_sort(list_nums):\n",
    "    i, size = 1, len(list_nums)\n",
    "    while i < size:\n",
    "        print(list_nums)\n",
    "        if list_nums[i - 1] <= list_nums[i]:\n",
    "            i += 1\n",
    "        else:\n",
    "            list_nums[i - 1], list_nums[i] = list_nums[i], list_nums[i - 1]\n",
    "            if i > 1:\n",
    "                i -= 1\n",
    "    return list_nums"
   ]
  },
  {
   "cell_type": "code",
   "execution_count": 36,
   "id": "2a70dbd7",
   "metadata": {},
   "outputs": [
    {
     "name": "stdout",
     "output_type": "stream",
     "text": [
      "[54, 43, 3, 11, 0]\n",
      "[43, 54, 3, 11, 0]\n",
      "[43, 54, 3, 11, 0]\n",
      "[43, 3, 54, 11, 0]\n",
      "[3, 43, 54, 11, 0]\n",
      "[3, 43, 54, 11, 0]\n",
      "[3, 43, 54, 11, 0]\n",
      "[3, 43, 11, 54, 0]\n",
      "[3, 11, 43, 54, 0]\n",
      "[3, 11, 43, 54, 0]\n",
      "[3, 11, 43, 54, 0]\n",
      "[3, 11, 43, 54, 0]\n",
      "[3, 11, 43, 0, 54]\n",
      "[3, 11, 0, 43, 54]\n",
      "[3, 0, 11, 43, 54]\n",
      "[0, 3, 11, 43, 54]\n",
      "[0, 3, 11, 43, 54]\n",
      "[0, 3, 11, 43, 54]\n",
      "[0, 3, 11, 43, 54]\n"
     ]
    },
    {
     "data": {
      "text/plain": [
       "[0, 3, 11, 43, 54]"
      ]
     },
     "execution_count": 36,
     "metadata": {},
     "output_type": "execute_result"
    }
   ],
   "source": [
    "test = [54, 43, 3, 11, 0]\n",
    "gnome_sort(test)"
   ]
  },
  {
   "cell_type": "code",
   "execution_count": 37,
   "id": "f0713b1a",
   "metadata": {},
   "outputs": [],
   "source": [
    "def gnome_opt_sort(list_nums):\n",
    "    i, j, size = 1, 2, len(list_nums)\n",
    "    while i < size:\n",
    "        print(list_nums)\n",
    "        if list_nums[i - 1] <= list_nums[i]:\n",
    "            i, j = j, j + 1\n",
    "        else:\n",
    "            list_nums[i - 1], list_nums[i] = list_nums[i], list_nums[i - 1]\n",
    "            i -= 1\n",
    "            if i == 0:\n",
    "                i, j = j, j + 1\n",
    "    return list_nums"
   ]
  },
  {
   "cell_type": "code",
   "execution_count": 38,
   "id": "5894c6c0",
   "metadata": {},
   "outputs": [
    {
     "name": "stdout",
     "output_type": "stream",
     "text": [
      "[54, 43, 3, 11, 0]\n",
      "[43, 54, 3, 11, 0]\n",
      "[43, 3, 54, 11, 0]\n",
      "[3, 43, 54, 11, 0]\n",
      "[3, 43, 11, 54, 0]\n",
      "[3, 11, 43, 54, 0]\n",
      "[3, 11, 43, 54, 0]\n",
      "[3, 11, 43, 0, 54]\n",
      "[3, 11, 0, 43, 54]\n",
      "[3, 0, 11, 43, 54]\n"
     ]
    },
    {
     "data": {
      "text/plain": [
       "[0, 3, 11, 43, 54]"
      ]
     },
     "execution_count": 38,
     "metadata": {},
     "output_type": "execute_result"
    }
   ],
   "source": [
    "test = [54, 43, 3, 11, 0]\n",
    "gnome_opt_sort(test)"
   ]
  },
  {
   "cell_type": "code",
   "execution_count": 44,
   "id": "a948ba5a",
   "metadata": {},
   "outputs": [],
   "source": [
    "def merge(left, right, result_list):\n",
    "    left_cursor, right_cursor = 0, 0\n",
    "    while left_cursor < len(left) and right_cursor < len(right):\n",
    "        if left[left_cursor] <= right[right_cursor]:\n",
    "            result_list[left_cursor + right_cursor] = left[left_cursor]\n",
    "            left_cursor += 1\n",
    "        else:\n",
    "            result_list[left_cursor + right_cursor] = right[right_cursor]\n",
    "            right_cursor += 1\n",
    "\n",
    "    for left_cursor in range(left_cursor, len(left)):\n",
    "        result_list[left_cursor + right_cursor] = left[left_cursor]\n",
    "        left_cursor += 1\n",
    "\n",
    "    for right_cursor in range(right_cursor, len(right)):\n",
    "        result_list[left_cursor + right_cursor] = right[right_cursor]\n",
    "        right_cursor += 1\n",
    "\n",
    "    return result_list\n",
    "    \n",
    "    \n",
    "def merge_sort(list_nums):\n",
    "    if len(list_nums) < 2:\n",
    "        return list_nums\n",
    "    mid = len(list_nums) // 2\n",
    "    left, right = merge_sort(list_nums[:mid]), merge_sort(list_nums[mid:])\n",
    "\n",
    "    return merge(left, right, list_nums.copy())"
   ]
  },
  {
   "cell_type": "code",
   "execution_count": 45,
   "id": "04b55656",
   "metadata": {},
   "outputs": [
    {
     "data": {
      "text/plain": [
       "[0, 3, 11, 43, 54]"
      ]
     },
     "execution_count": 45,
     "metadata": {},
     "output_type": "execute_result"
    }
   ],
   "source": [
    "test = [54, 43, 3, 11, 0]\n",
    "merge_sort(test)"
   ]
  },
  {
   "cell_type": "code",
   "execution_count": 49,
   "id": "89c16152",
   "metadata": {},
   "outputs": [],
   "source": [
    "class Node:\n",
    "    def __init__(self, val):\n",
    "        self.val = val\n",
    "        self.left = None\n",
    "        self.right = None\n",
    "\n",
    "    def insert(self, val):\n",
    "        if self.val:\n",
    "            if val < self.val:\n",
    "                if self.left is None:\n",
    "                    self.left = Node(val)\n",
    "                else:\n",
    "                    self.left.insert(val)\n",
    "            elif val > self.val:\n",
    "                if self.right is None:\n",
    "                    self.right = Node(val)\n",
    "                else:\n",
    "                    self.right.insert(val)\n",
    "        else:\n",
    "            self.val = val\n",
    "    \n",
    "    \n",
    "def inorder(root, res):\n",
    "    if root:\n",
    "        inorder(root.left, res)\n",
    "        res.append(root.val)\n",
    "        inorder(root.right, res)\n",
    "    \n",
    "    \n",
    "def tree_sort(list_nums):\n",
    "    if len(list_nums) == 0:\n",
    "        return list_nums\n",
    "\n",
    "    root = Node(list_nums[0])\n",
    "\n",
    "    for i in range(1, len(list_nums)):\n",
    "        root.insert(list_nums[i])\n",
    "\n",
    "    res = []\n",
    "\n",
    "    inorder(root, res)\n",
    "\n",
    "    return res"
   ]
  },
  {
   "cell_type": "code",
   "execution_count": 50,
   "id": "5a70d766",
   "metadata": {},
   "outputs": [
    {
     "data": {
      "text/plain": [
       "[0, 3, 11, 43, 54]"
      ]
     },
     "execution_count": 50,
     "metadata": {},
     "output_type": "execute_result"
    }
   ],
   "source": [
    "test = [54, 43, 3, 11, 0]\n",
    "tree_sort(test)"
   ]
  },
  {
   "cell_type": "code",
   "execution_count": 51,
   "id": "5f5c0f2f",
   "metadata": {},
   "outputs": [
    {
     "name": "stdout",
     "output_type": "stream",
     "text": [
      "[2, 3, 5, 7, 13, 22, 74, 444]\n"
     ]
    }
   ],
   "source": [
    "list_nums = [22, 13, 444, 5, 7, 3, 2, 74]\n",
    "res_list = sorted(list_nums)\n",
    "print(res_list)"
   ]
  },
  {
   "cell_type": "code",
   "execution_count": 52,
   "id": "27078626",
   "metadata": {},
   "outputs": [
    {
     "name": "stdout",
     "output_type": "stream",
     "text": [
      "[2, 3, 5, 7, 13, 22, 74, 444]\n"
     ]
    }
   ],
   "source": [
    "list_nums = [22, 13, 444, 5, 7, 3, 2, 74]\n",
    "list_nums.sort()\n",
    "print(list_nums)"
   ]
  },
  {
   "cell_type": "code",
   "execution_count": 54,
   "id": "77caa5ae",
   "metadata": {},
   "outputs": [],
   "source": [
    "minimum = 32\n",
    "\n",
    "def find_minrun(n):\n",
    "    r = 0\n",
    "    while n >= minimum:\n",
    "        r |= n & 1\n",
    "        n >>= 1\n",
    "    return n + r\n",
    "    \n",
    "    \n",
    "def insertion_sort(array, left, right):\n",
    "    for i in range(left + 1, right + 1):\n",
    "        element = array[i]\n",
    "        j = i - 1\n",
    "        while element < array[j] and j >= left:\n",
    "            array[j + 1] = array[j]\n",
    "            j -= 1\n",
    "        array[j + 1] = element\n",
    "    return array\n",
    "    \n",
    "    \n",
    "def merge(array, p, m, r):\n",
    "    array_length1 = m - p + 1\n",
    "    array_length2 = r - m\n",
    "    left = []\n",
    "    right = []\n",
    "    for i in range(0, array_length1):\n",
    "        left.append(array[p + i])\n",
    "    for i in range(0, array_length2):\n",
    "        right.append(array[m + 1 + i])\n",
    "\n",
    "    i = 0\n",
    "    j = 0\n",
    "    k = p\n",
    "\n",
    "    while j < array_length2 and i < array_length1:\n",
    "        if left[i] <= right[j]:\n",
    "            array[k] = left[i]\n",
    "            i += 1\n",
    "        else:\n",
    "            array[k] = right[j]\n",
    "            j += 1\n",
    "        k += 1\n",
    "\n",
    "    while i < array_length1:\n",
    "        array[k] = left[i]\n",
    "        k += 1\n",
    "        i += 1\n",
    "\n",
    "    while j < array_length2:\n",
    "        array[k] = right[j]\n",
    "        k += 1\n",
    "        j += 1\n",
    "    \n",
    "    \n",
    "def tim_sort(array):\n",
    "    n = len(array)\n",
    "    minrun = find_minrun(n)\n",
    "    for start in range(0, n, minrun):\n",
    "        end = min(start + minrun - 1, n - 1)\n",
    "        insertion_sort(array, start, end)\n",
    "    size = minrun\n",
    "    while size < n:\n",
    "        for left in range(0, n, 2 * size):\n",
    "            mid = min(n - 1, left + size - 1)\n",
    "            right = min((left + 2 * size - 1), (n - 1))\n",
    "            merge(array, left, mid, right)\n",
    "        size = 2 * size"
   ]
  },
  {
   "cell_type": "code",
   "execution_count": 55,
   "id": "a88e7238",
   "metadata": {},
   "outputs": [],
   "source": [
    "test = [54, 43, 3, 11, 0]\n",
    "tim_sort(test)"
   ]
  },
  {
   "cell_type": "code",
   "execution_count": 56,
   "id": "569a9d2a",
   "metadata": {},
   "outputs": [],
   "source": [
    "def selection_sort(list_nums):\n",
    "    for i, e in enumerate(list_nums):\n",
    "        mn = min(range(i, len(list_nums)), key=list_nums.__getitem__)\n",
    "        list_nums[i], list_nums[mn] = list_nums[mn], e\n",
    "    return list_nums"
   ]
  },
  {
   "cell_type": "code",
   "execution_count": 65,
   "id": "59163347",
   "metadata": {},
   "outputs": [
    {
     "data": {
      "text/plain": [
       "[0, 3, 11, 43, 54]"
      ]
     },
     "execution_count": 65,
     "metadata": {},
     "output_type": "execute_result"
    }
   ],
   "source": [
    "test = [54, 43, 3, 11, 0]\n",
    "selection_sort(test)"
   ]
  },
  {
   "cell_type": "code",
   "execution_count": 57,
   "id": "11a70ed8",
   "metadata": {},
   "outputs": [],
   "source": [
    "def comb_sort(list_nums):\n",
    "    gap = len(list_nums)\n",
    "    swaps = True\n",
    "    while gap > 1 or swaps:\n",
    "        gap = max(1, int(gap / 1.25))  # minimum gap is 1\n",
    "        swaps = False\n",
    "        for i in range(len(list_nums) - gap):\n",
    "            j = i + gap\n",
    "            if list_nums[i] > list_nums[j]:\n",
    "                list_nums[i], list_nums[j] = list_nums[j], list_nums[i]\n",
    "                swaps = True\n",
    "    return list_nums"
   ]
  },
  {
   "cell_type": "code",
   "execution_count": 68,
   "id": "c2d7a249",
   "metadata": {},
   "outputs": [
    {
     "data": {
      "text/plain": [
       "[0, 3, 11, 43, 54]"
      ]
     },
     "execution_count": 68,
     "metadata": {},
     "output_type": "execute_result"
    }
   ],
   "source": [
    "test = [54, 43, 3, 11, 0]\n",
    "comb_sort(test)"
   ]
  },
  {
   "cell_type": "code",
   "execution_count": 58,
   "id": "15a95aac",
   "metadata": {},
   "outputs": [],
   "source": [
    "def shell_sort(list_nums):\n",
    "    inc = len(list_nums) // 2\n",
    "    while inc:\n",
    "        for i, el in enumerate(list_nums):\n",
    "            while i >= inc and list_nums[i - inc] > el:\n",
    "                list_nums[i] = list_nums[i - inc]\n",
    "                i -= inc\n",
    "            list_nums[i] = el\n",
    "        inc = 1 if inc == 2 else int(inc * 5.0 / 11)\n",
    "    return list_nums"
   ]
  },
  {
   "cell_type": "code",
   "execution_count": 66,
   "id": "86a8da9f",
   "metadata": {},
   "outputs": [
    {
     "data": {
      "text/plain": [
       "[0, 3, 11, 43, 54]"
      ]
     },
     "execution_count": 66,
     "metadata": {},
     "output_type": "execute_result"
    }
   ],
   "source": [
    "test = [54, 43, 3, 11, 0]\n",
    "shell_sort(test)"
   ]
  },
  {
   "cell_type": "code",
   "execution_count": 70,
   "id": "4ebb9d5d",
   "metadata": {},
   "outputs": [],
   "source": [
    "def heapify(arr, n, i):\n",
    "    largest = i\n",
    "    l = 2 * i + 1\n",
    "    r = 2 * i + 2\n",
    "\n",
    "    if l < n and arr[largest] < arr[l]:\n",
    "        largest = l\n",
    "\n",
    "    if r < n and arr[largest] < arr[r]:\n",
    "        largest = r\n",
    "\n",
    "    if largest != i:\n",
    "        arr[i], arr[largest] = arr[largest], arr[i]\n",
    "        heapify(arr, n, largest)\n",
    "    \n",
    "    \n",
    "def heap_sort(arr):\n",
    "    n = len(arr)\n",
    "    for i in range(n // 2 - 1, -1, -1):\n",
    "        heapify(arr, n, i)\n",
    "    for i in range(n - 1, 0, -1):\n",
    "        arr[i], arr[0] = arr[0], arr[i]\n",
    "        heapify(arr, i, 0)"
   ]
  },
  {
   "cell_type": "code",
   "execution_count": 71,
   "id": "776deb65",
   "metadata": {},
   "outputs": [],
   "source": [
    "test = [54, 43, 3, 11, 0]\n",
    "heap_sort(test)"
   ]
  },
  {
   "cell_type": "code",
   "execution_count": 72,
   "id": "856d5fb8",
   "metadata": {},
   "outputs": [],
   "source": [
    "import heapq\n",
    "\n",
    "def heap_sort(arr):\n",
    "    heapq.heapify(arr)\n",
    "    result = []\n",
    "    while arr:\n",
    "        result.append(heapq.heappop(arr))\n",
    "    return result"
   ]
  },
  {
   "cell_type": "code",
   "execution_count": 73,
   "id": "af1b57ef",
   "metadata": {},
   "outputs": [
    {
     "data": {
      "text/plain": [
       "[0, 3, 11, 43, 54]"
      ]
     },
     "execution_count": 73,
     "metadata": {},
     "output_type": "execute_result"
    }
   ],
   "source": [
    "test = [54, 43, 3, 11, 0]\n",
    "heap_sort(test)"
   ]
  },
  {
   "cell_type": "code",
   "execution_count": 74,
   "id": "78a50ccc",
   "metadata": {},
   "outputs": [],
   "source": [
    "def leonardo_numbers(hi):\n",
    "    a, b = 1, 1\n",
    "    numbers = []\n",
    "    while a <= hi:\n",
    "        numbers.append(a)\n",
    "        a, b = b, a + b + 1\n",
    "    return numbers\n",
    "    \n",
    "    \n",
    "def restore_heap(lst, i, heap, leo_nums):\n",
    "    current = len(heap) - 1\n",
    "    k = heap[current]\n",
    "    while current > 0:\n",
    "        j = i - leo_nums[k]\n",
    "        if (lst[j] > lst[i] and\n",
    "                (k < 2 or lst[j] > lst[i - 1] and lst[j] > lst[i - 2])):\n",
    "            lst[i], lst[j] = lst[j], lst[i]\n",
    "            i = j\n",
    "            current -= 1\n",
    "            k = heap[current]\n",
    "        else:\n",
    "            break\n",
    "    while k >= 2:\n",
    "        t_r, k_r, t_l, k_l = get_child_trees(i, k, leo_nums)\n",
    "        if lst[i] < lst[t_r] or lst[i] < lst[t_l]:\n",
    "            if lst[t_r] > lst[t_l]:\n",
    "                lst[i], lst[t_r] = lst[t_r], lst[i]\n",
    "                i, k = t_r, k_r\n",
    "            else:\n",
    "                lst[i], lst[t_l] = lst[t_l], lst[i]\n",
    "                i, k = t_l, k_l\n",
    "        else:\n",
    "            break\n",
    "    \n",
    "    \n",
    "def get_child_trees(i, k, leo_nums):\n",
    "    t_r, k_r = i - 1, k - 2\n",
    "    t_l, k_l = t_r - leo_nums[k_r], k - 1\n",
    "    return t_r, k_r, t_l, k_l\n",
    "    \n",
    "    \n",
    "def smooth_sort(lst):\n",
    "    leo_nums = leonardo_numbers(len(lst))\n",
    "    heap = []\n",
    "    \n",
    "    for i in range(len(lst)):\n",
    "        if len(heap) >= 2 and heap[-2] == heap[-1] + 1:\n",
    "            heap.pop()\n",
    "            heap[-1] += 1\n",
    "          \n",
    "        else:\n",
    "            if len(heap) >= 1 and heap[-1] == 1:\n",
    "                heap.append(0)\n",
    "            else:\n",
    "                heap.append(1)\n",
    "        \n",
    "        restore_heap(lst, i, heap, leo_nums)\n",
    "    \n",
    "    for i in reversed(range(len(lst))):\n",
    "        if heap[-1] < 2:\n",
    "            heap.pop()\n",
    "        else:\n",
    "            k = heap.pop()\n",
    "            t_r, k_r, t_l, k_l = get_child_trees(i, k, leo_nums)\n",
    "            heap.append(k_l)\n",
    "            restore_heap(lst, t_l, heap, leo_nums)\n",
    "            heap.append(k_r)\n",
    "            restore_heap(lst, t_r, heap, leo_nums)"
   ]
  },
  {
   "cell_type": "code",
   "execution_count": 75,
   "id": "4b01d64a",
   "metadata": {},
   "outputs": [],
   "source": [
    "test = [54, 43, 3, 11, 0]\n",
    "smooth_sort(test)"
   ]
  },
  {
   "cell_type": "code",
   "execution_count": 63,
   "id": "7f3c769f",
   "metadata": {},
   "outputs": [],
   "source": [
    "def quick_sort(list_nums):\n",
    "    less = []\n",
    "    pivot_list = []\n",
    "    more = []\n",
    "\n",
    "    if len(list_nums) <= 1:\n",
    "        return list_nums\n",
    "    else:\n",
    "        pivot = list_nums[0]\n",
    "        for i in list_nums:\n",
    "            if i < pivot:\n",
    "                less.append(i)\n",
    "            elif i > pivot:\n",
    "                more.append(i)\n",
    "            else:\n",
    "                pivot_list.append(i)\n",
    "        less = quick_sort(less)\n",
    "        more = quick_sort(more)\n",
    "        return less + pivot_list + more"
   ]
  },
  {
   "cell_type": "code",
   "execution_count": 76,
   "id": "0e3aa051",
   "metadata": {},
   "outputs": [
    {
     "data": {
      "text/plain": [
       "[0, 3, 11, 43, 54]"
      ]
     },
     "execution_count": 76,
     "metadata": {},
     "output_type": "execute_result"
    }
   ],
   "source": [
    "test = [54, 43, 3, 11, 0]\n",
    "quick_sort(test)"
   ]
  },
  {
   "cell_type": "code",
   "execution_count": 78,
   "id": "97bd69b2",
   "metadata": {},
   "outputs": [],
   "source": [
    "import math\n",
    "\n",
    "def partition(arr, low, high):\n",
    "    pivot = arr[high]\n",
    "    i = low - 1\n",
    "    for j in range(low, high):\n",
    "        if arr[j] <= pivot:\n",
    "            i += 1\n",
    "            arr[i], arr[j] = arr[j], arr[i]\n",
    "    arr[i + 1], arr[high] = arr[high], arr[i + 1]\n",
    "    return i + 1\n",
    "    \n",
    "    \n",
    "def insertion_sort(arr, low, high):\n",
    "    for i in range(low + 1, high + 1):\n",
    "        key = arr[i]\n",
    "        j = i - 1\n",
    "        while j >= low and arr[j] > key:\n",
    "            arr[j + 1] = arr[j]\n",
    "            j -= 1\n",
    "        arr[j + 1] = key\n",
    "    \n",
    "    \n",
    "def heap_sort(arr):\n",
    "    n = len(arr)\n",
    "    for i in range(n // 2 - 1, -1, -1):\n",
    "        heapify(arr, n, i)\n",
    "    for i in range(n - 1, 0, -1):\n",
    "        arr[i], arr[0] = arr[0], arr[i]\n",
    "        heapify(arr, i, 0)\n",
    "    \n",
    "    \n",
    "def heapify(arr, n, i):\n",
    "    largest = i\n",
    "    left = 2 * i + 1\n",
    "    right = 2 * i + 2\n",
    "\n",
    "    if left < n and arr[left] > arr[largest]:\n",
    "        largest = left\n",
    "\n",
    "    if right < n and arr[right] > arr[largest]:\n",
    "        largest = right\n",
    "\n",
    "    if largest != i:\n",
    "        arr[i], arr[largest] = arr[largest], arr[i]\n",
    "        heapify(arr, n, largest)\n",
    "    \n",
    "    \n",
    "def intro_sort(arr, depth_limit=None):\n",
    "    if depth_limit is None:\n",
    "        depth_limit = 2 * math.log(len(arr))\n",
    "    \n",
    "    if len(arr) <= 1:\n",
    "        return\n",
    "    \n",
    "    if depth_limit == 0:\n",
    "        heap_sort(arr)\n",
    "        return\n",
    "    \n",
    "    pivot = partition(arr, 0, len(arr) - 1)\n",
    "    intro_sort(arr[:pivot], depth_limit - 1)\n",
    "    intro_sort(arr[pivot + 1:], depth_limit - 1)\n",
    "    \n",
    "    \n",
    "def sort(arr):\n",
    "    intro_sort(arr)\n",
    "    insertion_sort(arr, 0, len(arr) - 1)"
   ]
  },
  {
   "cell_type": "code",
   "execution_count": 79,
   "id": "e6f47199",
   "metadata": {},
   "outputs": [],
   "source": [
    "test = [54, 43, 3, 11, 0]\n",
    "sort(test)"
   ]
  }
 ],
 "metadata": {
  "kernelspec": {
   "display_name": "Python 3 (ipykernel)",
   "language": "python",
   "name": "python3"
  },
  "language_info": {
   "codemirror_mode": {
    "name": "ipython",
    "version": 3
   },
   "file_extension": ".py",
   "mimetype": "text/x-python",
   "name": "python",
   "nbconvert_exporter": "python",
   "pygments_lexer": "ipython3",
   "version": "3.9.7"
  }
 },
 "nbformat": 4,
 "nbformat_minor": 5
}
