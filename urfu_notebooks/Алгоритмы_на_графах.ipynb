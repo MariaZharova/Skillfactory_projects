{
 "cells": [
  {
   "cell_type": "code",
   "execution_count": 2,
   "id": "1698f1cb-e7b2-49c9-926d-e21aa70735a7",
   "metadata": {},
   "outputs": [],
   "source": [
    "from collections import deque"
   ]
  },
  {
   "cell_type": "markdown",
   "id": "b88dbe1a-7c75-4549-9f13-f44799bb9bab",
   "metadata": {},
   "source": [
    "# Поиск в ширину"
   ]
  },
  {
   "cell_type": "code",
   "execution_count": 11,
   "id": "c8b4e5b3-fedc-408c-8e89-b173443346f0",
   "metadata": {},
   "outputs": [],
   "source": [
    "def bfs(graph, start_vertex):\n",
    "    visited = set()  # Посещённые вершины\n",
    "    queue = deque([start_vertex])  # Очередь для BFS\n",
    "    levels = {start_vertex: 0}  # Уровни вершин относительно стартовой\n",
    "    parents = {start_vertex: None}  # Родители вершин в дереве BFS\n",
    "\n",
    "    while queue:\n",
    "        vertex = queue.popleft()\n",
    "        visited.add(vertex)\n",
    "\n",
    "        for neighbor in graph[vertex]:\n",
    "            if neighbor not in visited:\n",
    "                visited.add(neighbor)\n",
    "                queue.append(neighbor)\n",
    "                levels[neighbor] = levels[vertex] + 1\n",
    "                parents[neighbor] = vertex\n",
    "\n",
    "    return levels, parents"
   ]
  },
  {
   "cell_type": "code",
   "execution_count": 12,
   "id": "81e33536-89b5-4418-a09a-8c4e47c5a9a7",
   "metadata": {},
   "outputs": [
    {
     "name": "stdout",
     "output_type": "stream",
     "text": [
      "{'A': 0, 'C': 1, 'B': 1, 'K': 1, 'D': 2, 'F': 2}\n",
      "{'A': None, 'C': 'A', 'B': 'A', 'K': 'A', 'D': 'C', 'F': 'K'}\n"
     ]
    }
   ],
   "source": [
    "adj_list = {\n",
    "    'A': ['C', 'B', 'K'], # A связана с C, B, K\n",
    "    'C': ['A', 'B', 'D'], # C связана с A, B, D\n",
    "    'B': ['A', 'C', 'K'], # B связана с A, C, K\n",
    "    'K': ['A', 'B', 'F'], # K связана с A, B, F\n",
    "    'F': ['K', 'D'],      # F связана с K, D\n",
    "    'D': ['C', 'F']       # D связана с C, F\n",
    "}\n",
    "\n",
    "levels, parents = bfs(adj_list, 'A')\n",
    "print(levels)\n",
    "print(parents)"
   ]
  },
  {
   "cell_type": "markdown",
   "id": "308923e4-3748-4c86-90ea-9479c7e05900",
   "metadata": {},
   "source": [
    "# Поиск в глубину"
   ]
  },
  {
   "cell_type": "code",
   "execution_count": 13,
   "id": "62f6c27d-04c9-49a5-a7c6-204687e9ea82",
   "metadata": {},
   "outputs": [],
   "source": [
    "def dfs(visited, graph, node, path, parents):\n",
    "    if node not in visited:\n",
    "        visited.add(node)  # Помечаем вершину как посещённую\n",
    "        path.append(node)  # Добавляем вершину в текущий путь\n",
    "        for neighbor in graph[node]:\n",
    "            if neighbor not in visited:\n",
    "                parents[neighbor] = node  # Запоминаем родителя для соседа\n",
    "                dfs(visited, graph, neighbor, path, parents)"
   ]
  },
  {
   "cell_type": "code",
   "execution_count": 14,
   "id": "472487aa-dd50-42d3-aafb-3b2175e265e4",
   "metadata": {},
   "outputs": [
    {
     "name": "stdout",
     "output_type": "stream",
     "text": [
      "Итоговый путь: ['A', 'B', 'C', 'D', 'F', 'K']\n",
      "Родители: {'A': None, 'B': 'A', 'C': 'B', 'D': 'C', 'F': 'D', 'K': 'F'}\n"
     ]
    }
   ],
   "source": [
    "adj_list = {\n",
    "    'A': ['B', 'C', 'K'],\n",
    "    'B': ['A', 'C', 'K'],\n",
    "    'C': ['A', 'B', 'D', 'F'],\n",
    "    'D': ['C', 'F'],\n",
    "    'F': ['K', 'D'],\n",
    "    'K': ['A', 'B', 'F']\n",
    "}\n",
    "\n",
    "visited = set()\n",
    "parents = {'A': None}  # Начальная вершина не имеет родителя\n",
    "path = []\n",
    "\n",
    "dfs(visited, adj_list, 'A', path, parents)\n",
    "\n",
    "print(\"Итоговый путь:\", path)\n",
    "print(\"Родители:\", parents)"
   ]
  }
 ],
 "metadata": {
  "kernelspec": {
   "display_name": "Python 3 (ipykernel)",
   "language": "python",
   "name": "python3"
  },
  "language_info": {
   "codemirror_mode": {
    "name": "ipython",
    "version": 3
   },
   "file_extension": ".py",
   "mimetype": "text/x-python",
   "name": "python",
   "nbconvert_exporter": "python",
   "pygments_lexer": "ipython3",
   "version": "3.11.7"
  }
 },
 "nbformat": 4,
 "nbformat_minor": 5
}
