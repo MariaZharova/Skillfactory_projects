{
 "cells": [
  {
   "cell_type": "markdown",
   "metadata": {},
   "source": [
    "# Файлы\n",
    "Рассмотрим кратко работу с файлами в python. \n",
    "## Чтение и запись"
   ]
  },
  {
   "cell_type": "markdown",
   "metadata": {},
   "source": [
    "Для работы с файлом его необходимо **открыть**, произвести необходимые **действия**, **закрыть**.\n",
    "\n",
    "**Функции и методы для работы с файлом:**\n",
    "\n",
    "* функция `open(имя_файла, режим_доступа)` - возвращает файловый объект\n",
    "\n",
    "    Для указания режима доступа используется следующие символы:\n",
    "\n",
    "    * ‘r’ – открыть файл для чтения;\n",
    "\n",
    "    * ‘w’ – открыть файл для записи;\n",
    "\n",
    "    * ‘x’ – открыть файл с целью создания, если файл существует, то вызов функции open завершится с ошибкой;\n",
    "\n",
    "    * ‘a’ – открыть файл для записи, при этом новые данные будут добавлены в конец файла, без удаления существующих;\n",
    "\n",
    "    * ‘b’ – бинарный режим;\n",
    "\n",
    "    * ‘t’ – текстовый режим;\n",
    "\n",
    "* Метод `.write(строка)` - запись строки в файл\n",
    "* Метод `.read(количество_символов)` - чтение из файла\n",
    "* Метод `.readline()` - чтение строки из файла \n",
    "* Метод `.readlines()` - чтение всех сторок из файла в список\n",
    "* Метод `.close()` - закрытие файла\n",
    "\n",
    "https://docs.python.org/3/tutorial/inputoutput.html#reading-and-writing-files"
   ]
  },
  {
   "cell_type": "markdown",
   "metadata": {},
   "source": [
    "**Пример 1**. Записать в текстовый файл две строки и закрыть его."
   ]
  },
  {
   "cell_type": "code",
   "execution_count": 1,
   "metadata": {},
   "outputs": [],
   "source": [
    "#запись строки в файл, открытый в режиме 'w'\n",
    "file_obj = open('file_to_write_in.txt', 'w')\n",
    "file_obj.write('Строка для записи в файл\\nИ вторая.')\n",
    "file_obj.close()"
   ]
  },
  {
   "cell_type": "markdown",
   "metadata": {},
   "source": [
    "Чтение файла средствами jupyter:"
   ]
  },
  {
   "cell_type": "code",
   "execution_count": 2,
   "metadata": {},
   "outputs": [
    {
     "name": "stdout",
     "output_type": "stream",
     "text": [
      "Строка для записи в файл\r\n",
      "И вторая."
     ]
    }
   ],
   "source": [
    "#команда для пользователей windows, читает текстовый файл в ноутбук\n",
    "!cat file_to_write_in.txt"
   ]
  },
  {
   "cell_type": "markdown",
   "metadata": {},
   "source": [
    "**Пример 2**. Чтение строк из файла."
   ]
  },
  {
   "cell_type": "markdown",
   "metadata": {},
   "source": [
    "*Вариант 1:*"
   ]
  },
  {
   "cell_type": "code",
   "execution_count": 3,
   "metadata": {},
   "outputs": [
    {
     "name": "stdout",
     "output_type": "stream",
     "text": [
      "Строка для записи в файл\n",
      "И вторая."
     ]
    }
   ],
   "source": [
    "f = open(\"file_to_write_in.txt\", \"r\")\n",
    "for line in f:\n",
    "    print(line, end='')\n",
    "f.close()"
   ]
  },
  {
   "cell_type": "markdown",
   "metadata": {},
   "source": [
    "*Вариант 2:*"
   ]
  },
  {
   "cell_type": "code",
   "execution_count": 4,
   "metadata": {},
   "outputs": [
    {
     "name": "stdout",
     "output_type": "stream",
     "text": [
      "Строка для записи в файл\n",
      "И вторая."
     ]
    }
   ],
   "source": [
    "f = open(\"file_to_write_in.txt\", \"r\")\n",
    "line = f.readline()\n",
    "while line:\n",
    "    print(line, end='')\n",
    "    line = f.readline()\n",
    "f.close()"
   ]
  },
  {
   "cell_type": "markdown",
   "metadata": {},
   "source": [
    "*Вариант 3:*"
   ]
  },
  {
   "cell_type": "code",
   "execution_count": 5,
   "metadata": {},
   "outputs": [
    {
     "name": "stdout",
     "output_type": "stream",
     "text": [
      "['Строка для записи в файл\\n', 'И вторая.']\n"
     ]
    }
   ],
   "source": [
    "f = open(\"file_to_write_in.txt\", \"r\")\n",
    "line_list = f.readlines()\n",
    "print(line_list)\n",
    "f.close()"
   ]
  },
  {
   "cell_type": "markdown",
   "metadata": {},
   "source": [
    "*Вариант 4:*"
   ]
  },
  {
   "cell_type": "code",
   "execution_count": 17,
   "metadata": {},
   "outputs": [
    {
     "name": "stdout",
     "output_type": "stream",
     "text": [
      "Строка для записи в файл\n",
      "И вторая.\n"
     ]
    }
   ],
   "source": [
    "f = open(\"file_to_write_in.txt\", \"r\")\n",
    "print(f.read())\n",
    "f.close()"
   ]
  },
  {
   "cell_type": "code",
   "execution_count": 8,
   "metadata": {},
   "outputs": [
    {
     "data": {
      "text/plain": [
       "2"
      ]
     },
     "execution_count": 8,
     "metadata": {},
     "output_type": "execute_result"
    }
   ],
   "source": [
    "len(line_list)"
   ]
  },
  {
   "cell_type": "markdown",
   "metadata": {},
   "source": [
    "## Оператор управления контекстом `with`:"
   ]
  },
  {
   "cell_type": "code",
   "execution_count": 13,
   "metadata": {},
   "outputs": [],
   "source": [
    "# Выполнить ячейку несколько раз\n",
    "# Запишем в файл время выполнения ячейки\n",
    "from datetime import datetime\n",
    "now = datetime.now()\n",
    "\n",
    "with open('my_file.txt','a') as f:\n",
    "    f.write(datetime.strftime(datetime.now(), \"%Y.%m.%d %H:%M:%S\\n\"))"
   ]
  },
  {
   "cell_type": "code",
   "execution_count": 14,
   "metadata": {},
   "outputs": [
    {
     "name": "stdout",
     "output_type": "stream",
     "text": [
      "2023.01.19 19:04:46\n",
      "2023.01.19 19:41:42\n",
      "2023.01.19 19:41:43\n",
      "2023.01.19 19:41:45\n",
      "2023.01.19 19:42:09\n",
      "2023.01.19 19:42:11\n"
     ]
    }
   ],
   "source": [
    "with open('my_file.txt') as f:\n",
    "    for line in f:\n",
    "        print(line, end='')\n",
    "# Закрывать файл не требуется, всё сделает with"
   ]
  },
  {
   "cell_type": "markdown",
   "metadata": {},
   "source": [
    "## Чтение и запись в бинарный файл с помощью pickle\n",
    "Специальный модуль для сериализации и десериализации объектов с записью в бинарный файл."
   ]
  },
  {
   "cell_type": "code",
   "execution_count": 21,
   "metadata": {},
   "outputs": [],
   "source": [
    "import pickle"
   ]
  },
  {
   "cell_type": "markdown",
   "metadata": {},
   "source": [
    "### Запись в файл\n",
    "Параметр 'wb' означает запись в бинарном виде"
   ]
  },
  {
   "cell_type": "code",
   "execution_count": 22,
   "metadata": {},
   "outputs": [],
   "source": [
    "FILENAME = \"users.dat\"\n",
    "data = [1,2,3]\n",
    "with open(FILENAME, \"wb\") as file:\n",
    "    pickle.dump(data, file)"
   ]
  },
  {
   "cell_type": "code",
   "execution_count": 23,
   "metadata": {},
   "outputs": [
    {
     "name": "stdout",
     "output_type": "stream",
     "text": [
      "�\u0004�\u000b",
      "\u0000\u0000\u0000\u0000\u0000\u0000\u0000]�(K\u0001K\u0002K\u0003e."
     ]
    }
   ],
   "source": [
    "!cat users.dat"
   ]
  },
  {
   "cell_type": "markdown",
   "metadata": {},
   "source": [
    "### Чтение из файла"
   ]
  },
  {
   "cell_type": "code",
   "execution_count": 24,
   "metadata": {},
   "outputs": [
    {
     "name": "stdout",
     "output_type": "stream",
     "text": [
      "[1, 2, 3]\n"
     ]
    }
   ],
   "source": [
    "with open(FILENAME, \"rb\") as file:\n",
    "    results = pickle.load(file)\n",
    "print(results)"
   ]
  },
  {
   "cell_type": "markdown",
   "metadata": {},
   "source": [
    "**Пример 3**. Очистить файл, записать в бинарный файл три числа, и затем прочитать их."
   ]
  },
  {
   "cell_type": "code",
   "execution_count": 25,
   "metadata": {},
   "outputs": [
    {
     "name": "stdout",
     "output_type": "stream",
     "text": [
      "Введите целое число 1\n",
      "Введите целое число 15\n",
      "Введите целое число 155\n"
     ]
    }
   ],
   "source": [
    "open(FILENAME, \"wb\")\n",
    "for i in range(3):\n",
    "    num = int(input('Введите целое число '))\n",
    "    with open(FILENAME, \"ab\") as file:\n",
    "        pickle.dump(num, file)"
   ]
  },
  {
   "cell_type": "code",
   "execution_count": 26,
   "metadata": {},
   "outputs": [
    {
     "name": "stdout",
     "output_type": "stream",
     "text": [
      "1\n",
      "15\n",
      "155\n"
     ]
    }
   ],
   "source": [
    "with open(FILENAME, \"rb\") as file:\n",
    "    for i in range(3):\n",
    "        results = pickle.load(file)\n",
    "        print(results)"
   ]
  },
  {
   "cell_type": "markdown",
   "metadata": {},
   "source": [
    "## Смешанный режим доступа\n",
    "\n",
    "http://pythonicway.com/python-fileio#file_modes"
   ]
  },
  {
   "cell_type": "code",
   "execution_count": 15,
   "metadata": {},
   "outputs": [
    {
     "name": "stdout",
     "output_type": "stream",
     "text": [
      "Раз и\n",
      "\n"
     ]
    }
   ],
   "source": [
    "with open('my.log', 'w+') as f:\n",
    "    f.write('Раз и\\nДва')\n",
    "    f.seek(0)\n",
    "    print(f.readline())"
   ]
  },
  {
   "cell_type": "markdown",
   "metadata": {},
   "source": [
    "## Работа с JSON"
   ]
  },
  {
   "cell_type": "code",
   "execution_count": 28,
   "metadata": {},
   "outputs": [],
   "source": [
    "import json"
   ]
  },
  {
   "cell_type": "markdown",
   "metadata": {},
   "source": [
    "### Запись в JSON-файл (словарей)"
   ]
  },
  {
   "cell_type": "code",
   "execution_count": 29,
   "metadata": {},
   "outputs": [],
   "source": [
    "# создаём словарь\n",
    "data = {}\n",
    "data['people'] = []\n",
    "data['people'].append({\n",
    "    'name': 'Scott',\n",
    "    'website': 'pythonist.ru',\n",
    "    'from': 'Nebraska'\n",
    "})\n",
    "data['people'].append({\n",
    "    'name': 'Larry',\n",
    "    'website': 'pythonist.ru',\n",
    "    'from': 'Michigan'\n",
    "})\n",
    "data['people'].append({\n",
    "    'name': 'Tim',\n",
    "    'website': 'pythonist.ru',\n",
    "    'from': 'Alabama'\n",
    "})\n",
    "\n",
    "# открываем (создаём) json-файл\n",
    "with open('data.txt', 'w') as outfile:\n",
    "    json.dump(data, outfile) # функция записи в файл"
   ]
  },
  {
   "cell_type": "code",
   "execution_count": 30,
   "metadata": {},
   "outputs": [
    {
     "data": {
      "text/plain": [
       "{'people': [{'name': 'Scott', 'website': 'pythonist.ru', 'from': 'Nebraska'},\n",
       "  {'name': 'Larry', 'website': 'pythonist.ru', 'from': 'Michigan'},\n",
       "  {'name': 'Tim', 'website': 'pythonist.ru', 'from': 'Alabama'}]}"
      ]
     },
     "execution_count": 30,
     "metadata": {},
     "output_type": "execute_result"
    }
   ],
   "source": [
    "data"
   ]
  },
  {
   "cell_type": "markdown",
   "metadata": {},
   "source": [
    "### Чтение из JSON-файла"
   ]
  },
  {
   "cell_type": "code",
   "execution_count": 33,
   "metadata": {},
   "outputs": [
    {
     "name": "stdout",
     "output_type": "stream",
     "text": [
      "Name: Scott\n",
      "Website: pythonist.ru\n",
      "From: Nebraska\n",
      "\n",
      "Name: Larry\n",
      "Website: pythonist.ru\n",
      "From: Michigan\n",
      "\n",
      "Name: Tim\n",
      "Website: pythonist.ru\n",
      "From: Alabama\n",
      "\n"
     ]
    }
   ],
   "source": [
    "with open('data.txt') as json_file:\n",
    "    data = json.load(json_file) # чтение файла и парсинг его в словарь\n",
    "    #print(data)\n",
    "    for p in data['people']:\n",
    "        print('Name: ' + p['name'])\n",
    "        print('Website: ' + p['website'])\n",
    "        print('From: ' + p['from'])\n",
    "        print('')"
   ]
  },
  {
   "cell_type": "code",
   "execution_count": 19,
   "metadata": {},
   "outputs": [
    {
     "data": {
      "text/plain": [
       "{'people': [{'name': 'Scott', 'website': 'pythonist.ru', 'from': 'Nebraska'},\n",
       "  {'name': 'Larry', 'website': 'pythonist.ru', 'from': 'Michigan'},\n",
       "  {'name': 'Tim', 'website': 'pythonist.ru', 'from': 'Alabama'}]}"
      ]
     },
     "execution_count": 19,
     "metadata": {},
     "output_type": "execute_result"
    }
   ],
   "source": [
    "# посмотрим на data - это словарь\n",
    "data"
   ]
  },
  {
   "cell_type": "markdown",
   "metadata": {},
   "source": [
    "## Работа с файловой системой\n",
    "\n",
    "Рассмотрим некоторые возможности модуля os (см. https://python-scripts.com/import-os-example)"
   ]
  },
  {
   "cell_type": "code",
   "execution_count": 35,
   "metadata": {},
   "outputs": [],
   "source": [
    "import os"
   ]
  },
  {
   "cell_type": "markdown",
   "metadata": {},
   "source": [
    "Путь до текущей папки:"
   ]
  },
  {
   "cell_type": "code",
   "execution_count": 36,
   "metadata": {},
   "outputs": [
    {
     "name": "stdout",
     "output_type": "stream",
     "text": [
      "/Users/maria/Downloads\n"
     ]
    }
   ],
   "source": [
    "print(os.getcwd())"
   ]
  },
  {
   "cell_type": "markdown",
   "metadata": {},
   "source": [
    "Меняем текущую папку:"
   ]
  },
  {
   "cell_type": "code",
   "execution_count": 37,
   "metadata": {},
   "outputs": [
    {
     "name": "stdout",
     "output_type": "stream",
     "text": [
      "/Users/maria/Desktop\n"
     ]
    }
   ],
   "source": [
    "os.chdir(r\"/Users/maria/Desktop\")\n",
    "print(os.getcwd())"
   ]
  },
  {
   "cell_type": "code",
   "execution_count": 42,
   "metadata": {},
   "outputs": [
    {
     "data": {
      "text/plain": [
       "['test_folder',\n",
       " 'Снимок экрана 2022-09-12 в 21.50.36.png',\n",
       " '.DS_Store',\n",
       " 'requirements.txt',\n",
       " '.localized',\n",
       " 'Снимок экрана 2022-09-13 в 19.53.15.png',\n",
       " 'Снимок экрана 2023-01-14 в 12.19.12.png',\n",
       " 'Снимок экрана 2023-01-13 в 21.02.22.png',\n",
       " 'Implementations',\n",
       " 'romaf',\n",
       " 'py.py']"
      ]
     },
     "execution_count": 42,
     "metadata": {},
     "output_type": "execute_result"
    }
   ],
   "source": [
    "os.listdir()"
   ]
  },
  {
   "cell_type": "markdown",
   "metadata": {},
   "source": [
    "Создаем новую папку в текущей:"
   ]
  },
  {
   "cell_type": "code",
   "execution_count": 38,
   "metadata": {},
   "outputs": [],
   "source": [
    "os.mkdir(\"test_folder\")"
   ]
  },
  {
   "cell_type": "markdown",
   "metadata": {},
   "source": [
    "Проверим, есть ли наша папка в текущем каталоге:"
   ]
  },
  {
   "cell_type": "code",
   "execution_count": 41,
   "metadata": {},
   "outputs": [
    {
     "data": {
      "text/plain": [
       "False"
      ]
     },
     "execution_count": 41,
     "metadata": {},
     "output_type": "execute_result"
    }
   ],
   "source": [
    "\"test_folder1\" in os.listdir()"
   ]
  },
  {
   "cell_type": "code",
   "execution_count": 26,
   "metadata": {},
   "outputs": [],
   "source": [
    "# os.listdir()"
   ]
  },
  {
   "cell_type": "markdown",
   "metadata": {},
   "source": [
    "Переименуем папку (файл):"
   ]
  },
  {
   "cell_type": "code",
   "execution_count": 43,
   "metadata": {},
   "outputs": [],
   "source": [
    "os.rename(\"test_folder\", \"test_folder_new\")"
   ]
  },
  {
   "cell_type": "code",
   "execution_count": 45,
   "metadata": {},
   "outputs": [
    {
     "data": {
      "text/plain": [
       "False"
      ]
     },
     "execution_count": 45,
     "metadata": {},
     "output_type": "execute_result"
    }
   ],
   "source": [
    "\"test_folder\" in os.listdir()"
   ]
  },
  {
   "cell_type": "markdown",
   "metadata": {},
   "source": [
    "Создадим файл в папке:"
   ]
  },
  {
   "cell_type": "code",
   "execution_count": 46,
   "metadata": {},
   "outputs": [
    {
     "data": {
      "text/plain": [
       "'/Users/maria/Downloads/test_folder_new'"
      ]
     },
     "execution_count": 46,
     "metadata": {},
     "output_type": "execute_result"
    }
   ],
   "source": [
    "path = r'/Users/maria/Downloads'\n",
    "path_to_save = os.path.join(path,\"test_folder_new\")\n",
    "path_to_save"
   ]
  },
  {
   "cell_type": "code",
   "execution_count": 47,
   "metadata": {},
   "outputs": [],
   "source": [
    "fname = os.path.join(path_to_save,'test.txt')\n",
    "f = open(fname, 'w')\n",
    "f.write('Строка')\n",
    "f.close()"
   ]
  },
  {
   "cell_type": "code",
   "execution_count": 48,
   "metadata": {},
   "outputs": [
    {
     "data": {
      "text/plain": [
       "['to_rename',\n",
       " 'file_to_write_in.txt',\n",
       " 'test.txt',\n",
       " 'file_to_write_in11.txt',\n",
       " 'file_to_write_in1.txt']"
      ]
     },
     "execution_count": 48,
     "metadata": {},
     "output_type": "execute_result"
    }
   ],
   "source": [
    "os.listdir(path_to_save)"
   ]
  },
  {
   "cell_type": "markdown",
   "metadata": {},
   "source": [
    "Создаем папку:"
   ]
  },
  {
   "cell_type": "code",
   "execution_count": 35,
   "metadata": {},
   "outputs": [],
   "source": [
    "os.chdir(path_to_save)\n",
    "os.mkdir(\"to_rename\")"
   ]
  },
  {
   "cell_type": "markdown",
   "metadata": {},
   "source": [
    "Перемещаем и переименовываем файл:"
   ]
  },
  {
   "cell_type": "code",
   "execution_count": 36,
   "metadata": {},
   "outputs": [],
   "source": [
    "os.rename(fname, os.path.join(path_to_save, \"to_rename\", \"test2.txt\"))"
   ]
  },
  {
   "cell_type": "markdown",
   "metadata": {},
   "source": [
    "Получим информацию о файлах и подкаталогах:"
   ]
  },
  {
   "cell_type": "code",
   "execution_count": 50,
   "metadata": {},
   "outputs": [
    {
     "name": "stdout",
     "output_type": "stream",
     "text": [
      "['cert.pdf', '.com.google.Chrome.eAhypK', 'tree.py', 'my_file.txt', 'Lab2_DL_part1_warmup.ipynb', 'my.log', '.com.google.Chrome.b5GADz', 'Lab2_DL_parts_4_and_5_optional.ipynb', 'IMG_7755.JPG', '.DS_Store', '.com.google.Chrome.oFIcLg', '.com.google.Chrome.hvBhmZ', '.com.google.Chrome.5Ty0dT', '.localized', '.com.google.Chrome.8Omui8', 'Рабочий.ipynb', '11.ipynb', '.com.google.Chrome.mItAKq', 'KaggleV2-May-2016.csv', '.com.google.Chrome.dQPlHc', '.com.google.Chrome.A6lzpo', '.com.google.Chrome.Qgw0Qa', 'modules.ipynb', 'диплом_зуденков_на_загрузку.pdf', '.com.google.Chrome.Xa5wyg', 'ввюf.ipynb', '.com.google.Chrome.KnAtm5', 'Lab2_DL_part3_poetry.ipynb', '.com.google.Chrome.GHrM9L', '.com.google.Chrome.cNSKwF', 'Lab2_DL_part2_overfitting_Zharova.ipynb', '3d6dd44c-6f58-4ad4-bfcb-313216ef6613.ipynb', '5.ipynb', '.com.google.Chrome.KTrH8L', 'users.dat', 'увф.ipynb', 'file_to_write_in.txt', '1\\xa0— копия.jpeg', '.com.google.Chrome.iGntvU', '.com.google.Chrome.VwfoSN', 'ВР.pdf.pdf', 'photo_2022-09-19 11.26.01.jpeg', '.com.google.Chrome.G74KlJ', '.com.google.Chrome.vdzOOf', 'Uill_Kurt_Bayesovskaya_statistika_Star_Wars_LEGO_rezinovye_utochki.pdf', 'Lab2_DL_part2_overfitting.ipynb', '.com.google.Chrome.7i8e7m', '.com.google.Chrome.US8i0b', '.com.google.Chrome.lYcPDE', '.com.google.Chrome.DYU5AC', 'data.txt', 'Слайд.docx', 'CV.pdf', 'churn.csv', 'Lab2_DL_part3_poetry _Zharova.ipynb']\n",
      "['The IT Crowd.2013.[The Last Byte].Ozz.TV.mkv']\n",
      "['test.py']\n",
      "['file_to_write_in.txt', 'test.txt', 'file_to_write_in11.txt', 'file_to_write_in1.txt']\n",
      "['test2.txt']\n",
      "['The.IT.Crowd.s04e01.rus.LostFilm.TV.avi', 'The.IT.Crowd.s04e03.rus.LostFilm.TV.avi', 'The.IT.Crowd.s04e02.rus.LostFilm.TV.avi', 'itcrowd-3-lostfilm.jpg', 'The.IT.Crowd.s04e04.rus.LostFilm.TV.avi', 'The.IT.Crowd.s04e05.rus.LostFilm.TV.avi', 'The.IT.Crowd.s04e06.rus.LostFilm.TV.avi']\n",
      "['fgh-checkpoint.ipynb', 'ввюf-checkpoint.ipynb', 'ввюшзет-checkpoint.ipynb', 'лял-checkpoint.ipynb', '18-HomeWork-checkpoint.ipynb', 'Эталонное решение и критерии оценки-checkpoint.ipynb', 'kjk-checkpoint.ipynb', 'аа-checkpoint.ipynb', 'Test LightFM-checkpoint.ipynb', 'ооо-checkpoint.ipynb', 'Embedding-checkpoint.ipynb', 'OverfittingTask (1)-checkpoint.ipynb', 'Merge_interships_for_boostreg-checkpoint.ipynb', 'OverfittingTask-2-checkpoint.ipynb', '19_lab-checkpoint.ipynb', 'rfg-checkpoint.ipynb', 'kakish-checkpoint.ipynb', 'ыыю-checkpoint.ipynb', 'Math&ML-7_Bayes_NBC_unit6_Practice-checkpoint.ipynb', 'qw-checkpoint.ipynb', 'modules-checkpoint.ipynb', 'ML_9_6-checkpoint.ipynb', 'рррюшзнти-checkpoint.ipynb', 's-checkpoint.ipynb', 'fff-checkpoint.ipynb', 'ddd-checkpoint.ipynb', 'Lab2_DL_part3_poetry _Zharova-checkpoint.ipynb', 'пример-checkpoint.ipynb', 'MYPRACK4-checkpoint.ipynb', 'homework_eda_6-checkpoint.ipynb', '22_HW_2-checkpoint.ipynb', 'ффю-checkpoint.ipynb', 'Жарова_lab3-checkpoint.ipynb', 'Рабочий\\xa0— копия-checkpoint.ipynb', 'ярин-checkpoint.ipynb', 'Алгоритмы и структуры данных-checkpoint.ipynb', 'RecSys_collab (2)-checkpoint.ipynb', '11-checkpoint.ipynb', 'ыыюшз-checkpoint.ipynb', 'LP_ex3-checkpoint.ipynb', 'Доп_задача-checkpoint.ipynb', 'Ноутбук-шаблон_Project_1-checkpoint.ipynb', 'Mishka_vychmat-checkpoint.ipynb', 'Погружение_в_DS,_день_1_v3-checkpoint.ipynb', 'H&M_recommender_system-checkpoint.ipynb', 'd-checkpoint.ipynb', 'dddd-checkpoint.ipynb', 'hhю-checkpoint.ipynb', 'rk-checkpoint.ipynb', 'Lab2_DL_parts_4_and_5_optional-checkpoint.ipynb', 'tlf-checkpoint.ipynb', 'еда-checkpoint.ipynb', 'ппп-checkpoint.ipynb', 'Zharova_Maria_HW1-checkpoint.ipynb', 'Python-13-checkpoint.ipynb', 'Циан-checkpoint.ipynb', 'jjj-checkpoint.ipynb', '22_HW_2_1__1-checkpoint.ipynb', 'peer_review_linreg_height_weight-checkpoint.ipynb', 'ML_9_6 (1)-checkpoint.ipynb', 'assignment0_02_submission_template-checkpoint.ipynb', 'Ноутбук-шаблон Project 1-checkpoint.ipynb', 'sklearn.decision_trees-checkpoint.ipynb', '3d6dd44c-6f58-4ad4-bfcb-313216ef6613-checkpoint.ipynb', 'попа-checkpoint.ipynb', 'Transport_equation-checkpoint.ipynb', 'ввююшзнти-checkpoint.ipynb', 'student_project-checkpoint.ipynb', '22_HW_2-2-checkpoint.ipynb', 'GG-checkpoint.ipynb', 'кукю-checkpoint.ipynb', 'test_modules-checkpoint.ipynb', 'увф-checkpoint.ipynb', 'Lab2_DL_part2_overfitting_Zharova-checkpoint.ipynb', 'assignment0_03_submission_template-checkpoint.ipynb', 'Рабочий-checkpoint.ipynb', 'hj-checkpoint.ipynb', 'лул-checkpoint.ipynb', 'Жарова_прак4-checkpoint.ipynb', '20210426134016 (1)-checkpoint.ipynb', 'ввюшзнти-checkpoint.ipynb', 'Cleaning Data test-checkpoint.ipynb', 'Lab2_DL_part3_poetry-checkpoint.ipynb', 'fg-checkpoint.ipynb']\n",
      "[]\n",
      "['CodeResources', 'Info.plist']\n",
      "['CodeResources']\n",
      "['sublime_text', 'libssl.1.1.dylib', 'update_installer', 'plugin_host-3.3', 'crash_reporter', 'changelog.txt', 'libcrypto.1.1.dylib', 'plugin_host-3.8']\n",
      "['Git Formats.sublime-package', 'Graphviz.sublime-package', 'Regular Expressions.sublime-package', 'Diff.sublime-package', 'Color Scheme - Default.sublime-package', 'Vintage.sublime-package', 'Haskell.sublime-package', 'ASP.sublime-package', 'Text.sublime-package', 'Go.sublime-package', 'Clojure.sublime-package', 'OCaml.sublime-package', 'SQL.sublime-package', 'R.sublime-package', 'Perl.sublime-package', 'Textile.sublime-package', 'Batch File.sublime-package', 'XML.sublime-package', 'Language - English.sublime-package', 'Markdown.sublime-package', 'Ruby.sublime-package', 'HTML.sublime-package', 'C++.sublime-package', 'RestructuredText.sublime-package', 'Pascal.sublime-package', 'Color Scheme - Legacy.sublime-package', 'Objective-C.sublime-package', 'D.sublime-package', 'Makefile.sublime-package', 'JSON.sublime-package', 'Python.sublime-package', 'C#.sublime-package', 'Lisp.sublime-package', 'Erlang.sublime-package', 'PHP.sublime-package', 'JavaScript.sublime-package', 'AppleScript.sublime-package', 'ActionScript.sublime-package', 'YAML.sublime-package', 'Default.sublime-package', 'Binary.sublime-package', 'Scala.sublime-package', 'ShellScript.sublime-package', 'Rust.sublime-package', 'Matlab.sublime-package', 'TCL.sublime-package', 'Theme - Default.sublime-package', 'Java.sublime-package', 'Lua.sublime-package', 'LaTeX.sublime-package', 'Rails.sublime-package', 'CSS.sublime-package', 'Groovy.sublime-package']\n",
      "['python3.3.zip', 'python3.8.zip']\n",
      "[]\n",
      "['LICENSE', '__init__.py', 'core.py', 'cacert.pem', '__main__.py']\n",
      "['__init__.cpython-38.opt-1.pyc', 'core.cpython-38.opt-1.pyc']\n",
      "['sublime.py', 'sublime_plugin.py']\n",
      "['sublime.py', 'sublime_plugin.py']\n",
      "['Document.icns', 'Sublime Text.icns']\n",
      "[]\n",
      "['subl']\n"
     ]
    }
   ],
   "source": [
    "for folder, dirs, files in os.walk(r'/Users/maria/Downloads'):\n",
    "    print(files)"
   ]
  },
  {
   "cell_type": "code",
   "execution_count": 51,
   "metadata": {},
   "outputs": [
    {
     "name": "stdout",
     "output_type": "stream",
     "text": [
      "/Users/maria/Downloads\n",
      "The IT Crowd - 2013 Special (Ozz.TV)\n",
      "try_sublime\n",
      "test_folder_new\n",
      "The IT Crowd - Season 4 (LostFilm)\n",
      ".ipynb_checkpoints\n",
      "Sublime Text.app\n",
      "cert.pdf\n",
      ".com.google.Chrome.eAhypK\n",
      "tree.py\n",
      "my_file.txt\n",
      "Lab2_DL_part1_warmup.ipynb\n",
      "my.log\n",
      ".com.google.Chrome.b5GADz\n",
      "Lab2_DL_parts_4_and_5_optional.ipynb\n",
      "IMG_7755.JPG\n",
      ".DS_Store\n",
      ".com.google.Chrome.oFIcLg\n",
      ".com.google.Chrome.hvBhmZ\n",
      ".com.google.Chrome.5Ty0dT\n",
      ".localized\n",
      ".com.google.Chrome.8Omui8\n",
      "Рабочий.ipynb\n",
      "11.ipynb\n",
      ".com.google.Chrome.mItAKq\n",
      "KaggleV2-May-2016.csv\n",
      ".com.google.Chrome.dQPlHc\n",
      ".com.google.Chrome.A6lzpo\n",
      ".com.google.Chrome.Qgw0Qa\n",
      "modules.ipynb\n",
      "диплом_зуденков_на_загрузку.pdf\n",
      ".com.google.Chrome.Xa5wyg\n",
      "ввюf.ipynb\n",
      ".com.google.Chrome.KnAtm5\n",
      "Lab2_DL_part3_poetry.ipynb\n",
      ".com.google.Chrome.GHrM9L\n",
      ".com.google.Chrome.cNSKwF\n",
      "Lab2_DL_part2_overfitting_Zharova.ipynb\n",
      "3d6dd44c-6f58-4ad4-bfcb-313216ef6613.ipynb\n",
      "5.ipynb\n",
      ".com.google.Chrome.KTrH8L\n",
      "users.dat\n",
      "увф.ipynb\n",
      "file_to_write_in.txt\n",
      "1 — копия.jpeg\n",
      ".com.google.Chrome.iGntvU\n",
      ".com.google.Chrome.VwfoSN\n",
      "ВР.pdf.pdf\n",
      "photo_2022-09-19 11.26.01.jpeg\n",
      ".com.google.Chrome.G74KlJ\n",
      ".com.google.Chrome.vdzOOf\n",
      "Uill_Kurt_Bayesovskaya_statistika_Star_Wars_LEGO_rezinovye_utochki.pdf\n",
      "Lab2_DL_part2_overfitting.ipynb\n",
      ".com.google.Chrome.7i8e7m\n",
      ".com.google.Chrome.US8i0b\n",
      ".com.google.Chrome.lYcPDE\n",
      ".com.google.Chrome.DYU5AC\n",
      "data.txt\n",
      "Слайд.docx\n",
      "CV.pdf\n",
      "churn.csv\n",
      "Lab2_DL_part3_poetry _Zharova.ipynb\n",
      "/Users/maria/Downloads/The IT Crowd - 2013 Special (Ozz.TV)\n",
      "The IT Crowd.2013.[The Last Byte].Ozz.TV.mkv\n",
      "/Users/maria/Downloads/try_sublime\n",
      "test.py\n",
      "/Users/maria/Downloads/test_folder_new\n",
      "to_rename\n",
      "file_to_write_in.txt\n",
      "test.txt\n",
      "file_to_write_in11.txt\n",
      "file_to_write_in1.txt\n",
      "/Users/maria/Downloads/test_folder_new/to_rename\n",
      "test2.txt\n",
      "/Users/maria/Downloads/The IT Crowd - Season 4 (LostFilm)\n",
      "The.IT.Crowd.s04e01.rus.LostFilm.TV.avi\n",
      "The.IT.Crowd.s04e03.rus.LostFilm.TV.avi\n",
      "The.IT.Crowd.s04e02.rus.LostFilm.TV.avi\n",
      "itcrowd-3-lostfilm.jpg\n",
      "The.IT.Crowd.s04e04.rus.LostFilm.TV.avi\n",
      "The.IT.Crowd.s04e05.rus.LostFilm.TV.avi\n",
      "The.IT.Crowd.s04e06.rus.LostFilm.TV.avi\n",
      "/Users/maria/Downloads/.ipynb_checkpoints\n",
      "fgh-checkpoint.ipynb\n",
      "ввюf-checkpoint.ipynb\n",
      "ввюшзет-checkpoint.ipynb\n",
      "лял-checkpoint.ipynb\n",
      "18-HomeWork-checkpoint.ipynb\n",
      "Эталонное решение и критерии оценки-checkpoint.ipynb\n",
      "kjk-checkpoint.ipynb\n",
      "аа-checkpoint.ipynb\n",
      "Test LightFM-checkpoint.ipynb\n",
      "ооо-checkpoint.ipynb\n",
      "Embedding-checkpoint.ipynb\n",
      "OverfittingTask (1)-checkpoint.ipynb\n",
      "Merge_interships_for_boostreg-checkpoint.ipynb\n",
      "OverfittingTask-2-checkpoint.ipynb\n",
      "19_lab-checkpoint.ipynb\n",
      "rfg-checkpoint.ipynb\n",
      "kakish-checkpoint.ipynb\n",
      "ыыю-checkpoint.ipynb\n",
      "Math&ML-7_Bayes_NBC_unit6_Practice-checkpoint.ipynb\n",
      "qw-checkpoint.ipynb\n",
      "modules-checkpoint.ipynb\n",
      "ML_9_6-checkpoint.ipynb\n",
      "рррюшзнти-checkpoint.ipynb\n",
      "s-checkpoint.ipynb\n",
      "fff-checkpoint.ipynb\n",
      "ddd-checkpoint.ipynb\n",
      "Lab2_DL_part3_poetry _Zharova-checkpoint.ipynb\n",
      "пример-checkpoint.ipynb\n",
      "MYPRACK4-checkpoint.ipynb\n",
      "homework_eda_6-checkpoint.ipynb\n",
      "22_HW_2-checkpoint.ipynb\n",
      "ффю-checkpoint.ipynb\n",
      "Жарова_lab3-checkpoint.ipynb\n",
      "Рабочий — копия-checkpoint.ipynb\n",
      "ярин-checkpoint.ipynb\n",
      "Алгоритмы и структуры данных-checkpoint.ipynb\n",
      "RecSys_collab (2)-checkpoint.ipynb\n",
      "11-checkpoint.ipynb\n",
      "ыыюшз-checkpoint.ipynb\n",
      "LP_ex3-checkpoint.ipynb\n",
      "Доп_задача-checkpoint.ipynb\n",
      "Ноутбук-шаблон_Project_1-checkpoint.ipynb\n",
      "Mishka_vychmat-checkpoint.ipynb\n",
      "Погружение_в_DS,_день_1_v3-checkpoint.ipynb\n",
      "H&M_recommender_system-checkpoint.ipynb\n",
      "d-checkpoint.ipynb\n",
      "dddd-checkpoint.ipynb\n",
      "hhю-checkpoint.ipynb\n",
      "rk-checkpoint.ipynb\n",
      "Lab2_DL_parts_4_and_5_optional-checkpoint.ipynb\n",
      "tlf-checkpoint.ipynb\n",
      "еда-checkpoint.ipynb\n",
      "ппп-checkpoint.ipynb\n",
      "Zharova_Maria_HW1-checkpoint.ipynb\n",
      "Python-13-checkpoint.ipynb\n",
      "Циан-checkpoint.ipynb\n",
      "jjj-checkpoint.ipynb\n",
      "22_HW_2_1__1-checkpoint.ipynb\n",
      "peer_review_linreg_height_weight-checkpoint.ipynb\n",
      "ML_9_6 (1)-checkpoint.ipynb\n",
      "assignment0_02_submission_template-checkpoint.ipynb\n",
      "Ноутбук-шаблон Project 1-checkpoint.ipynb\n",
      "sklearn.decision_trees-checkpoint.ipynb\n",
      "3d6dd44c-6f58-4ad4-bfcb-313216ef6613-checkpoint.ipynb\n",
      "попа-checkpoint.ipynb\n",
      "Transport_equation-checkpoint.ipynb\n",
      "ввююшзнти-checkpoint.ipynb\n",
      "student_project-checkpoint.ipynb\n",
      "22_HW_2-2-checkpoint.ipynb\n",
      "GG-checkpoint.ipynb\n",
      "кукю-checkpoint.ipynb\n",
      "test_modules-checkpoint.ipynb\n",
      "увф-checkpoint.ipynb\n",
      "Lab2_DL_part2_overfitting_Zharova-checkpoint.ipynb\n",
      "assignment0_03_submission_template-checkpoint.ipynb\n",
      "Рабочий-checkpoint.ipynb\n",
      "hj-checkpoint.ipynb\n",
      "лул-checkpoint.ipynb\n",
      "Жарова_прак4-checkpoint.ipynb\n",
      "20210426134016 (1)-checkpoint.ipynb\n",
      "ввюшзнти-checkpoint.ipynb\n",
      "Cleaning Data test-checkpoint.ipynb\n",
      "Lab2_DL_part3_poetry-checkpoint.ipynb\n",
      "fg-checkpoint.ipynb\n",
      "/Users/maria/Downloads/Sublime Text.app\n",
      "Contents\n",
      "/Users/maria/Downloads/Sublime Text.app/Contents\n",
      "_CodeSignature\n",
      "MacOS\n",
      "Resources\n",
      "SharedSupport\n",
      "CodeResources\n",
      "Info.plist\n",
      "/Users/maria/Downloads/Sublime Text.app/Contents/_CodeSignature\n",
      "CodeResources\n",
      "/Users/maria/Downloads/Sublime Text.app/Contents/MacOS\n",
      "Packages\n",
      "Lib\n",
      "sublime_text\n",
      "libssl.1.1.dylib\n",
      "update_installer\n",
      "plugin_host-3.3\n",
      "crash_reporter\n",
      "changelog.txt\n",
      "libcrypto.1.1.dylib\n",
      "plugin_host-3.8\n",
      "/Users/maria/Downloads/Sublime Text.app/Contents/MacOS/Packages\n",
      "Git Formats.sublime-package\n",
      "Graphviz.sublime-package\n",
      "Regular Expressions.sublime-package\n",
      "Diff.sublime-package\n",
      "Color Scheme - Default.sublime-package\n",
      "Vintage.sublime-package\n",
      "Haskell.sublime-package\n",
      "ASP.sublime-package\n",
      "Text.sublime-package\n",
      "Go.sublime-package\n",
      "Clojure.sublime-package\n",
      "OCaml.sublime-package\n",
      "SQL.sublime-package\n",
      "R.sublime-package\n",
      "Perl.sublime-package\n",
      "Textile.sublime-package\n",
      "Batch File.sublime-package\n",
      "XML.sublime-package\n",
      "Language - English.sublime-package\n",
      "Markdown.sublime-package\n",
      "Ruby.sublime-package\n",
      "HTML.sublime-package\n",
      "C++.sublime-package\n",
      "RestructuredText.sublime-package\n",
      "Pascal.sublime-package\n",
      "Color Scheme - Legacy.sublime-package\n",
      "Objective-C.sublime-package\n",
      "D.sublime-package\n",
      "Makefile.sublime-package\n",
      "JSON.sublime-package\n",
      "Python.sublime-package\n",
      "C#.sublime-package\n",
      "Lisp.sublime-package\n",
      "Erlang.sublime-package\n",
      "PHP.sublime-package\n",
      "JavaScript.sublime-package\n",
      "AppleScript.sublime-package\n",
      "ActionScript.sublime-package\n",
      "YAML.sublime-package\n",
      "Default.sublime-package\n",
      "Binary.sublime-package\n",
      "Scala.sublime-package\n",
      "ShellScript.sublime-package\n",
      "Rust.sublime-package\n",
      "Matlab.sublime-package\n",
      "TCL.sublime-package\n",
      "Theme - Default.sublime-package\n",
      "Java.sublime-package\n",
      "Lua.sublime-package\n",
      "LaTeX.sublime-package\n",
      "Rails.sublime-package\n",
      "CSS.sublime-package\n",
      "Groovy.sublime-package\n",
      "/Users/maria/Downloads/Sublime Text.app/Contents/MacOS/Lib\n",
      "python3\n",
      "python38\n",
      "python33\n",
      "python3.3.zip\n",
      "python3.8.zip\n",
      "/Users/maria/Downloads/Sublime Text.app/Contents/MacOS/Lib/python3\n",
      "certifi\n",
      "/Users/maria/Downloads/Sublime Text.app/Contents/MacOS/Lib/python3/certifi\n",
      "__pycache__\n",
      "LICENSE\n",
      "__init__.py\n",
      "core.py\n",
      "cacert.pem\n",
      "__main__.py\n",
      "/Users/maria/Downloads/Sublime Text.app/Contents/MacOS/Lib/python3/certifi/__pycache__\n",
      "__init__.cpython-38.opt-1.pyc\n",
      "core.cpython-38.opt-1.pyc\n",
      "/Users/maria/Downloads/Sublime Text.app/Contents/MacOS/Lib/python38\n",
      "sublime.py\n",
      "sublime_plugin.py\n",
      "/Users/maria/Downloads/Sublime Text.app/Contents/MacOS/Lib/python33\n",
      "sublime.py\n",
      "sublime_plugin.py\n",
      "/Users/maria/Downloads/Sublime Text.app/Contents/Resources\n",
      "Document.icns\n",
      "Sublime Text.icns\n",
      "/Users/maria/Downloads/Sublime Text.app/Contents/SharedSupport\n",
      "bin\n",
      "/Users/maria/Downloads/Sublime Text.app/Contents/SharedSupport/bin\n",
      "subl\n"
     ]
    }
   ],
   "source": [
    "for root, dirs, files in os.walk(r'/Users/maria/Downloads'):\n",
    "    print(root)\n",
    "    for _dir in dirs:\n",
    "        print(_dir)\n",
    " \n",
    "    for _file in files:\n",
    "        print(_file)"
   ]
  },
  {
   "cell_type": "code",
   "execution_count": null,
   "metadata": {},
   "outputs": [],
   "source": []
  },
  {
   "cell_type": "code",
   "execution_count": null,
   "metadata": {},
   "outputs": [],
   "source": []
  },
  {
   "cell_type": "code",
   "execution_count": null,
   "metadata": {
    "collapsed": true
   },
   "outputs": [],
   "source": []
  },
  {
   "cell_type": "markdown",
   "metadata": {},
   "source": [
    "# Всем спасибо за внимание!"
   ]
  }
 ],
 "metadata": {
  "kernelspec": {
   "display_name": "Python 3 (ipykernel)",
   "language": "python",
   "name": "python3"
  },
  "language_info": {
   "codemirror_mode": {
    "name": "ipython",
    "version": 3
   },
   "file_extension": ".py",
   "mimetype": "text/x-python",
   "name": "python",
   "nbconvert_exporter": "python",
   "pygments_lexer": "ipython3",
   "version": "3.9.7"
  }
 },
 "nbformat": 4,
 "nbformat_minor": 2
}
